{
 "cells": [
  {
   "cell_type": "code",
   "execution_count": 1,
   "metadata": {
    "slideshow": {
     "slide_type": "skip"
    }
   },
   "outputs": [],
   "source": [
    "%matplotlib inline\n",
    "import pymc3 as pm\n",
    "import numpy as np\n",
    "import scipy.stats as stats\n",
    "import pandas as pd\n",
    "import matplotlib.pyplot as plt\n",
    "import arviz as az\n",
    "from IPython.display import display, Markdown\n",
    "az.style.use('arviz-darkgrid')\n",
    "import numpy as np\n",
    "np.random.seed(44)\n"
   ]
  },
  {
   "cell_type": "code",
   "execution_count": 2,
   "metadata": {
    "slideshow": {
     "slide_type": "skip"
    }
   },
   "outputs": [],
   "source": [
    "plt.rcParams['font.size'] = 15\n",
    "plt.rcParams['legend.fontsize'] = 'medium'\n",
    "plt.rcParams.update({\n",
    "    'figure.figsize': [8.0, 3.0],\n",
    "    'figure.facecolor': '#fffff8',\n",
    "    'axes.facecolor': '#fffff8',\n",
    "    'figure.constrained_layout.use': True,\n",
    "    'font.size': 14.0,\n",
    "    'hist.bins': 'auto',\n",
    "    'lines.linewidth': 3.0,\n",
    "    'lines.markeredgewidth': 2.0,\n",
    "    'lines.markerfacecolor': 'none',\n",
    "    'lines.markersize': 8.0, \n",
    "})"
   ]
  },
  {
   "cell_type": "markdown",
   "metadata": {
    "slideshow": {
     "slide_type": "slide"
    }
   },
   "source": [
    "# Normal Hierarchical  Models\n",
    "\n",
    "\n",
    "Giorgio Corani <br/>\n",
    "*Bayesian Data Analysis and Probabilistic Programming*\n",
    "<br/>\n",
    "<br/>\n",
    "``giorgio.corani@supsi.ch``\n",
    "\n",
    "\n",
    "\n"
   ]
  },
  {
   "cell_type": "markdown",
   "metadata": {
    "slideshow": {
     "slide_type": "slide"
    }
   },
   "source": [
    "# Based on \n",
    "\n",
    "* Alicia A. Johnson, Miles Q. Ott, Mine Dogucu, Bayes Rules! An Introduction to Applied Bayesian Modeling, Chapter 16,  *Hierarchical Models without Predictors*, https://www.bayesrulesbook.com/chapter-16.html\n"
   ]
  },
  {
   "cell_type": "markdown",
   "metadata": {
    "slideshow": {
     "slide_type": "slide"
    }
   },
   "source": [
    "# Modeling songs popularity\n",
    "\n",
    "* Spotify  provides a data bases of songs and their *popularity* score,  which varies over  the 0-100 scale. \n",
    "\n",
    "\n",
    "* Higher popularity usually means the song has been played often, especially  recently. "
   ]
  },
  {
   "cell_type": "markdown",
   "metadata": {
    "slideshow": {
     "slide_type": "slide"
    }
   },
   "source": [
    "# Research questions \n",
    "\n",
    "\n",
    "*   What’s the typical popularity of a Spotify song?\n",
    "\n",
    "\n",
    "*   How does popularity vary from artist to artist?\n",
    "\n",
    "\n",
    "*   For any single artist, how much does popularity vary from song to song?\n",
    "\n",
    "\n",
    "*  We look for answers with a quantification of the related uncertainty."
   ]
  },
  {
   "cell_type": "markdown",
   "metadata": {
    "slideshow": {
     "slide_type": "slide"
    }
   },
   "source": [
    "# Hierarchical data set\n",
    "\n",
    "* The data set  comprises  one or more songs for each of the 44 artists \n",
    "\n",
    "\n",
    "* The list of artists  is a  sample from the whole population of  artists that have songs on Spotify \n",
    "\n",
    "<img src='img/spotify-hierarchical-data-diagram.png' width=600 align=\"center\" >\n",
    "\n"
   ]
  },
  {
   "cell_type": "markdown",
   "metadata": {
    "slideshow": {
     "slide_type": "slide"
    }
   },
   "source": [
    "# The structure of the data\n",
    "\n",
    "* The $j$ subscript refers to the $j$-th  artist (we have 44 artists).\n",
    "\n",
    "*  $n_j$: number of songs created by artist $j$.\n",
    "\n",
    "*  $y_{ij}$:  popularity of the $i$-th song of artist $j$\n",
    "    * $j \\in \\{1,2,…,44\\}$, $i \\in \\{1,2,…,n_j\\}$.\n",
    "\n",
    "* The data set is constituted by  44 *sub-populations* (or *clusters*);   each artist provides a cluster of songs."
   ]
  },
  {
   "cell_type": "code",
   "execution_count": 3,
   "metadata": {
    "scrolled": true,
    "slideshow": {
     "slide_type": "slide"
    }
   },
   "outputs": [
    {
     "data": {
      "text/html": [
       "<div>\n",
       "<style scoped>\n",
       "    .dataframe tbody tr th:only-of-type {\n",
       "        vertical-align: middle;\n",
       "    }\n",
       "\n",
       "    .dataframe tbody tr th {\n",
       "        vertical-align: top;\n",
       "    }\n",
       "\n",
       "    .dataframe thead th {\n",
       "        text-align: right;\n",
       "    }\n",
       "</style>\n",
       "<table border=\"1\" class=\"dataframe\">\n",
       "  <thead>\n",
       "    <tr style=\"text-align: right;\">\n",
       "      <th></th>\n",
       "      <th>artist</th>\n",
       "      <th>title</th>\n",
       "      <th>popularity</th>\n",
       "    </tr>\n",
       "  </thead>\n",
       "  <tbody>\n",
       "    <tr>\n",
       "      <th>0</th>\n",
       "      <td>Alok</td>\n",
       "      <td>On &amp; On</td>\n",
       "      <td>79</td>\n",
       "    </tr>\n",
       "    <tr>\n",
       "      <th>1</th>\n",
       "      <td>Alok</td>\n",
       "      <td>All The Lies</td>\n",
       "      <td>56</td>\n",
       "    </tr>\n",
       "    <tr>\n",
       "      <th>2</th>\n",
       "      <td>Alok</td>\n",
       "      <td>Hear Me Now</td>\n",
       "      <td>75</td>\n",
       "    </tr>\n",
       "    <tr>\n",
       "      <th>3</th>\n",
       "      <td>Alok</td>\n",
       "      <td>The Wall</td>\n",
       "      <td>65</td>\n",
       "    </tr>\n",
       "    <tr>\n",
       "      <th>4</th>\n",
       "      <td>Alok</td>\n",
       "      <td>Hear Me Now</td>\n",
       "      <td>52</td>\n",
       "    </tr>\n",
       "  </tbody>\n",
       "</table>\n",
       "</div>"
      ],
      "text/plain": [
       "  artist         title  popularity\n",
       "0   Alok       On & On          79\n",
       "1   Alok  All The Lies          56\n",
       "2   Alok   Hear Me Now          75\n",
       "3   Alok      The Wall          65\n",
       "4   Alok   Hear Me Now          52"
      ]
     },
     "execution_count": 3,
     "metadata": {},
     "output_type": "execute_result"
    }
   ],
   "source": [
    "# the full data set is available from the bayesrule package for R. This is a reduced version which only contains song,\n",
    "#author and popularity.\n",
    "#The data set contains 350 songs by 44 artists\n",
    "spotify = pd.read_csv(\"data/spotify.csv\")\n",
    "\n",
    "spotify.head()"
   ]
  },
  {
   "cell_type": "code",
   "execution_count": 4,
   "metadata": {
    "slideshow": {
     "slide_type": "slide"
    }
   },
   "outputs": [
    {
     "data": {
      "text/plain": [
       "['Alok', 'Atlas Genius', 'Au/Ra', 'BUNT.', 'Beyoncé']"
      ]
     },
     "execution_count": 4,
     "metadata": {},
     "output_type": "execute_result"
    }
   ],
   "source": [
    "# we create a list containing the  name of each artist: ['Alok', 'Atlas Genius', 'Au/Ra', 'BUNT.', 'Beyoncé', ...]\n",
    "spotify[\"artist\"] = spotify[\"artist\"].astype(\"category\")\n",
    "artists = list(spotify[\"artist\"].cat.categories) \n",
    "\n",
    "#show the first artists\n",
    "artists[0:5]"
   ]
  },
  {
   "cell_type": "code",
   "execution_count": 5,
   "metadata": {
    "slideshow": {
     "slide_type": "slide"
    }
   },
   "outputs": [
    {
     "data": {
      "text/html": [
       "<div>\n",
       "<style scoped>\n",
       "    .dataframe tbody tr th:only-of-type {\n",
       "        vertical-align: middle;\n",
       "    }\n",
       "\n",
       "    .dataframe tbody tr th {\n",
       "        vertical-align: top;\n",
       "    }\n",
       "\n",
       "    .dataframe thead th {\n",
       "        text-align: right;\n",
       "    }\n",
       "</style>\n",
       "<table border=\"1\" class=\"dataframe\">\n",
       "  <thead>\n",
       "    <tr style=\"text-align: right;\">\n",
       "      <th></th>\n",
       "      <th>popularity</th>\n",
       "    </tr>\n",
       "    <tr>\n",
       "      <th>artist</th>\n",
       "      <th></th>\n",
       "    </tr>\n",
       "  </thead>\n",
       "  <tbody>\n",
       "    <tr>\n",
       "      <th>Mia X</th>\n",
       "      <td>13.250000</td>\n",
       "    </tr>\n",
       "    <tr>\n",
       "      <th>Chris Goldarg</th>\n",
       "      <td>16.400000</td>\n",
       "    </tr>\n",
       "    <tr>\n",
       "      <th>Soul&amp;Roll</th>\n",
       "      <td>24.200000</td>\n",
       "    </tr>\n",
       "    <tr>\n",
       "      <th>Honeywagon</th>\n",
       "      <td>31.666667</td>\n",
       "    </tr>\n",
       "    <tr>\n",
       "      <th>Röyksopp</th>\n",
       "      <td>33.250000</td>\n",
       "    </tr>\n",
       "  </tbody>\n",
       "</table>\n",
       "</div>"
      ],
      "text/plain": [
       "               popularity\n",
       "artist                   \n",
       "Mia X           13.250000\n",
       "Chris Goldarg   16.400000\n",
       "Soul&Roll       24.200000\n",
       "Honeywagon      31.666667\n",
       "Röyksopp        33.250000"
      ]
     },
     "execution_count": 5,
     "metadata": {},
     "output_type": "execute_result"
    }
   ],
   "source": [
    "# Mean popularity of the songs of each artist, ranked from the less popular one.\n",
    "artist_popularity=spotify.groupby(['artist']).mean().sort_values('popularity').head()\n",
    "artist_popularity"
   ]
  },
  {
   "cell_type": "code",
   "execution_count": 6,
   "metadata": {
    "slideshow": {
     "slide_type": "slide"
    }
   },
   "outputs": [
    {
     "data": {
      "text/html": [
       "<div>\n",
       "<style scoped>\n",
       "    .dataframe tbody tr th:only-of-type {\n",
       "        vertical-align: middle;\n",
       "    }\n",
       "\n",
       "    .dataframe tbody tr th {\n",
       "        vertical-align: top;\n",
       "    }\n",
       "\n",
       "    .dataframe thead th {\n",
       "        text-align: right;\n",
       "    }\n",
       "</style>\n",
       "<table border=\"1\" class=\"dataframe\">\n",
       "  <thead>\n",
       "    <tr style=\"text-align: right;\">\n",
       "      <th></th>\n",
       "      <th>title</th>\n",
       "      <th>popularity</th>\n",
       "    </tr>\n",
       "    <tr>\n",
       "      <th>artist</th>\n",
       "      <th></th>\n",
       "      <th></th>\n",
       "    </tr>\n",
       "  </thead>\n",
       "  <tbody>\n",
       "    <tr>\n",
       "      <th>Alok</th>\n",
       "      <td>19</td>\n",
       "      <td>19</td>\n",
       "    </tr>\n",
       "    <tr>\n",
       "      <th>Atlas Genius</th>\n",
       "      <td>4</td>\n",
       "      <td>4</td>\n",
       "    </tr>\n",
       "    <tr>\n",
       "      <th>Au/Ra</th>\n",
       "      <td>5</td>\n",
       "      <td>5</td>\n",
       "    </tr>\n",
       "    <tr>\n",
       "      <th>BUNT.</th>\n",
       "      <td>3</td>\n",
       "      <td>3</td>\n",
       "    </tr>\n",
       "    <tr>\n",
       "      <th>Beyoncé</th>\n",
       "      <td>25</td>\n",
       "      <td>25</td>\n",
       "    </tr>\n",
       "  </tbody>\n",
       "</table>\n",
       "</div>"
      ],
      "text/plain": [
       "              title  popularity\n",
       "artist                         \n",
       "Alok             19          19\n",
       "Atlas Genius      4           4\n",
       "Au/Ra             5           5\n",
       "BUNT.             3           3\n",
       "Beyoncé          25          25"
      ]
     },
     "execution_count": 6,
     "metadata": {},
     "output_type": "execute_result"
    }
   ],
   "source": [
    "# Number of the songs of each artists; it varies between 2 and 40.\n",
    "artist_count=spotify.groupby(['artist']).count()\n",
    "artist_count.head()"
   ]
  },
  {
   "cell_type": "markdown",
   "metadata": {
    "slideshow": {
     "slide_type": "slide"
    }
   },
   "source": [
    "# Modelling approaches\n",
    "\n",
    "* *Pooled*: merge  data from songs of all artists, without modelling the difference between artists.\n",
    "     \n",
    "     \n",
    "* *Unpooled*:  independently analyzes the songs of every  artist\n",
    "    * the mean popularity of songs from artist $j$ is $\\mu_j$\n",
    "    * inference about artists with  few published songs is  uncertain\n",
    "    * cannot predict a novel artist"
   ]
  },
  {
   "cell_type": "markdown",
   "metadata": {
    "slideshow": {
     "slide_type": "slide"
    }
   },
   "source": [
    "# Hierarchical model (partial pooling)\n",
    "\n",
    "* Like the unpooled model, the mean popularity of songs from artist $j$ is  $\\mu_j$   \n",
    "    \n",
    "       \n",
    "* additionally, $\\mu_j$ is assumed to be a sample from the population of artists: $ \\mu_j \\sim N(\\mu', \\sigma_p)$\n",
    "\n",
    "\n",
    "* where $\\mu'$ and $\\sigma_p$ are the mean popularity and the std deviation of the $\\mu_j$'s. These are parameters to which we will assign priors.\n",
    "\n",
    "\n",
    "\n",
    "\n",
    "\n",
    " "
   ]
  },
  {
   "cell_type": "markdown",
   "metadata": {
    "slideshow": {
     "slide_type": "slide"
    }
   },
   "source": [
    "# Hierarchical model (partial pooling)\n",
    "\n",
    "* It places a prior on the parameters of the prior (*hierarchical*).\n",
    "    \n",
    "       \n",
    "* It can make prediction also for an artist for which there are no songs in our sample, based on what it has learned about the populations of artists. Moreover, it  improves the estimates for artists with few songs. \n",
    "\n",
    "\n",
    "\n",
    "\n"
   ]
  },
  {
   "cell_type": "markdown",
   "metadata": {
    "slideshow": {
     "slide_type": "slide"
    }
   },
   "source": [
    "# Pooled model\n",
    "\n",
    "<img src='img/spotify-density.png' width=400 align=\"center\" >\n",
    "\n",
    "*  We fit a  normal-normal model  on all  songs in the sample (density  shown in the plot), ignoring the grouping structure implied by the different authors.\n"
   ]
  },
  {
   "cell_type": "markdown",
   "metadata": {
    "slideshow": {
     "slide_type": "slide"
    }
   },
   "source": [
    "# Pooled model\n",
    "\n",
    "* We fit a normal-normal model on  the data set containing all songs.\n",
    "\\begin{align*}\n",
    "\\mu & \\sim N(\\mu', \\sigma_{\\mu} ) \\\\\n",
    "\\sigma & \\sim \\text{HalfNormal}(\\xi)\\\\\n",
    "\\vec{y_{ij}} & \\sim N(\\mu, \\sigma)\n",
    "\\end{align*}\n",
    "\n",
    "*  $\\mu$ and $\\sigma$ are   *global* parameters, which apply to every song.\n"
   ]
  },
  {
   "cell_type": "markdown",
   "metadata": {
    "slideshow": {
     "slide_type": "slide"
    }
   },
   "source": [
    "# Prior on $\\mu$\n",
    "\n",
    "* A priori,  we assume $\\mu$ to lie in  (30, 70).\n",
    "\n",
    "* Interpreting the  interval as a region of $\\pm$2 standard deviations, our prior beliefs about the mean of the population is:\n",
    "\n",
    "$$ \\mu \\sim N(50, 10) $$\n",
    "\n"
   ]
  },
  {
   "cell_type": "markdown",
   "metadata": {
    "slideshow": {
     "slide_type": "slide"
    }
   },
   "source": [
    "# Prior on $\\sigma$"
   ]
  },
  {
   "cell_type": "code",
   "execution_count": 51,
   "metadata": {},
   "outputs": [
    {
     "data": {
      "text/html": [
       "<div>\n",
       "<style scoped>\n",
       "    .dataframe tbody tr th:only-of-type {\n",
       "        vertical-align: middle;\n",
       "    }\n",
       "\n",
       "    .dataframe tbody tr th {\n",
       "        vertical-align: top;\n",
       "    }\n",
       "\n",
       "    .dataframe thead th {\n",
       "        text-align: right;\n",
       "    }\n",
       "</style>\n",
       "<table border=\"1\" class=\"dataframe\">\n",
       "  <thead>\n",
       "    <tr style=\"text-align: right;\">\n",
       "      <th></th>\n",
       "      <th>0</th>\n",
       "    </tr>\n",
       "  </thead>\n",
       "  <tbody>\n",
       "    <tr>\n",
       "      <th>count</th>\n",
       "      <td>10000.000000</td>\n",
       "    </tr>\n",
       "    <tr>\n",
       "      <th>mean</th>\n",
       "      <td>28.522417</td>\n",
       "    </tr>\n",
       "    <tr>\n",
       "      <th>std</th>\n",
       "      <td>21.605771</td>\n",
       "    </tr>\n",
       "    <tr>\n",
       "      <th>min</th>\n",
       "      <td>0.009810</td>\n",
       "    </tr>\n",
       "    <tr>\n",
       "      <th>25%</th>\n",
       "      <td>11.236042</td>\n",
       "    </tr>\n",
       "    <tr>\n",
       "      <th>50%</th>\n",
       "      <td>24.132564</td>\n",
       "    </tr>\n",
       "    <tr>\n",
       "      <th>75%</th>\n",
       "      <td>41.181680</td>\n",
       "    </tr>\n",
       "    <tr>\n",
       "      <th>max</th>\n",
       "      <td>167.765777</td>\n",
       "    </tr>\n",
       "  </tbody>\n",
       "</table>\n",
       "</div>"
      ],
      "text/plain": [
       "                  0\n",
       "count  10000.000000\n",
       "mean      28.522417\n",
       "std       21.605771\n",
       "min        0.009810\n",
       "25%       11.236042\n",
       "50%       24.132564\n",
       "75%       41.181680\n",
       "max      167.765777"
      ]
     },
     "execution_count": 51,
     "metadata": {},
     "output_type": "execute_result"
    }
   ],
   "source": [
    "# sigma controls the spread of popularity in the whole population of songs\n",
    "# We can interpret the range (0 , 100) as a range with length 4 stds (+-2 std around the mean).\n",
    "# Thus a plausible value of  sigma is  25. \n",
    "#This is slightly in excess, as some density is outside the allowed range (0,100).\n",
    "\n",
    "# Using  scale 36, we get the median of the distribution close to 25.\n",
    "from scipy.stats import halfnorm \n",
    "pd.DataFrame(halfnorm.rvs(scale=36, size=10000)).describe()"
   ]
  },
  {
   "cell_type": "markdown",
   "metadata": {
    "slideshow": {
     "slide_type": "slide"
    }
   },
   "source": [
    "# Pooled model\n",
    "\n",
    "\n",
    "\\begin{align*}\n",
    "\\mu    & \\sim N(50, 10) \\\\\n",
    "\\sigma & \\sim\\text{HalfNormal} (36) \\\\\n",
    "\\vec{y_{ij}}  & \\sim N(\\mu, \\sigma) \\\\\n",
    "\\end{align*}"
   ]
  },
  {
   "cell_type": "code",
   "execution_count": 8,
   "metadata": {
    "slideshow": {
     "slide_type": "slide"
    }
   },
   "outputs": [
    {
     "name": "stderr",
     "output_type": "stream",
     "text": [
      "Auto-assigning NUTS sampler...\n",
      "Initializing NUTS using jitter+adapt_diag...\n",
      "Multiprocess sampling (4 chains in 4 jobs)\n",
      "NUTS: [global_sigma, global_mean]\n"
     ]
    },
    {
     "data": {
      "text/html": [
       "\n",
       "<style>\n",
       "    /* Turns off some styling */\n",
       "    progress {\n",
       "        /* gets rid of default border in Firefox and Opera. */\n",
       "        border: none;\n",
       "        /* Needs to be in here for Safari polyfill so background images work as expected. */\n",
       "        background-size: auto;\n",
       "    }\n",
       "    .progress-bar-interrupted, .progress-bar-interrupted::-webkit-progress-bar {\n",
       "        background: #F44336;\n",
       "    }\n",
       "</style>\n"
      ],
      "text/plain": [
       "<IPython.core.display.HTML object>"
      ]
     },
     "metadata": {},
     "output_type": "display_data"
    },
    {
     "data": {
      "text/html": [
       "\n",
       "    <div>\n",
       "      <progress value='8000' class='' max='8000' style='width:300px; height:20px; vertical-align: middle;'></progress>\n",
       "      100.00% [8000/8000 00:02<00:00 Sampling 4 chains, 0 divergences]\n",
       "    </div>\n",
       "    "
      ],
      "text/plain": [
       "<IPython.core.display.HTML object>"
      ]
     },
     "metadata": {},
     "output_type": "display_data"
    },
    {
     "name": "stderr",
     "output_type": "stream",
     "text": [
      "/Users/giorgio/opt/anaconda3/envs/bda/lib/python3.9/site-packages/scipy/stats/_continuous_distns.py:624: RuntimeWarning: overflow encountered in _beta_ppf\n",
      "  return _boost._beta_ppf(q, a, b)\n",
      "/Users/giorgio/opt/anaconda3/envs/bda/lib/python3.9/site-packages/scipy/stats/_continuous_distns.py:624: RuntimeWarning: overflow encountered in _beta_ppf\n",
      "  return _boost._beta_ppf(q, a, b)\n",
      "/Users/giorgio/opt/anaconda3/envs/bda/lib/python3.9/site-packages/scipy/stats/_continuous_distns.py:624: RuntimeWarning: overflow encountered in _beta_ppf\n",
      "  return _boost._beta_ppf(q, a, b)\n",
      "/Users/giorgio/opt/anaconda3/envs/bda/lib/python3.9/site-packages/scipy/stats/_continuous_distns.py:624: RuntimeWarning: overflow encountered in _beta_ppf\n",
      "  return _boost._beta_ppf(q, a, b)\n",
      "Sampling 4 chains for 1_000 tune and 1_000 draw iterations (4_000 + 4_000 draws total) took 16 seconds.\n"
     ]
    }
   ],
   "source": [
    "with pm.Model() as pooled_model:\n",
    "    # prior\n",
    "    global_mean    =  pm.Normal ('global_mean', 50,  10)\n",
    "    global_sigma   =  pm.HalfNormal ('global_sigma', sd = 36)\n",
    "\n",
    "    #likelihood\n",
    "    popularity          =  pm.Normal ('popularity', mu = global_mean,  sigma = global_sigma, observed = spotify[\"popularity\"])\n",
    "    trace_pooled     = pm.sample(return_inferencedata=True)"
   ]
  },
  {
   "cell_type": "code",
   "execution_count": 9,
   "metadata": {
    "slideshow": {
     "slide_type": "slide"
    }
   },
   "outputs": [
    {
     "data": {
      "text/html": [
       "<div>\n",
       "<style scoped>\n",
       "    .dataframe tbody tr th:only-of-type {\n",
       "        vertical-align: middle;\n",
       "    }\n",
       "\n",
       "    .dataframe tbody tr th {\n",
       "        vertical-align: top;\n",
       "    }\n",
       "\n",
       "    .dataframe thead th {\n",
       "        text-align: right;\n",
       "    }\n",
       "</style>\n",
       "<table border=\"1\" class=\"dataframe\">\n",
       "  <thead>\n",
       "    <tr style=\"text-align: right;\">\n",
       "      <th></th>\n",
       "      <th>mean</th>\n",
       "      <th>sd</th>\n",
       "      <th>hdi_3%</th>\n",
       "      <th>hdi_97%</th>\n",
       "      <th>mcse_mean</th>\n",
       "      <th>mcse_sd</th>\n",
       "      <th>ess_bulk</th>\n",
       "      <th>ess_tail</th>\n",
       "      <th>r_hat</th>\n",
       "    </tr>\n",
       "  </thead>\n",
       "  <tbody>\n",
       "    <tr>\n",
       "      <th>global_mean</th>\n",
       "      <td>58.308</td>\n",
       "      <td>1.114</td>\n",
       "      <td>56.199</td>\n",
       "      <td>60.326</td>\n",
       "      <td>0.018</td>\n",
       "      <td>0.013</td>\n",
       "      <td>3656.0</td>\n",
       "      <td>2610.0</td>\n",
       "      <td>1.0</td>\n",
       "    </tr>\n",
       "    <tr>\n",
       "      <th>global_sigma</th>\n",
       "      <td>20.726</td>\n",
       "      <td>0.809</td>\n",
       "      <td>19.307</td>\n",
       "      <td>22.325</td>\n",
       "      <td>0.014</td>\n",
       "      <td>0.010</td>\n",
       "      <td>3556.0</td>\n",
       "      <td>2772.0</td>\n",
       "      <td>1.0</td>\n",
       "    </tr>\n",
       "  </tbody>\n",
       "</table>\n",
       "</div>"
      ],
      "text/plain": [
       "                mean     sd  hdi_3%  hdi_97%  mcse_mean  mcse_sd  ess_bulk  \\\n",
       "global_mean   58.308  1.114  56.199   60.326      0.018    0.013    3656.0   \n",
       "global_sigma  20.726  0.809  19.307   22.325      0.014    0.010    3556.0   \n",
       "\n",
       "              ess_tail  r_hat  \n",
       "global_mean     2610.0    1.0  \n",
       "global_sigma    2772.0    1.0  "
      ]
     },
     "execution_count": 9,
     "metadata": {},
     "output_type": "execute_result"
    }
   ],
   "source": [
    "# The Spotify songs have an average popularity of about 58.\n",
    "# There is  a  large standard deviation  (global_sigma) of popularity  from song to song,\n",
    "#of about 20 points. The data set has large variability, as it contains songs from different authors. \n",
    "az.summary(trace_pooled)"
   ]
  },
  {
   "cell_type": "markdown",
   "metadata": {
    "slideshow": {
     "slide_type": "slide"
    }
   },
   "source": [
    "# Quiz yourself\n",
    "\n",
    "* How would you make  a prediction using the  pooled model for:\n",
    "\n",
    "    * a new song of  Mia X, the artist with the lowest mean popularity  (13) in the sample? \n",
    "    * Beyoncé, the artist with the highest mean popularity (70) in the sample?\n",
    "    * a group not present in the sample?\n",
    "   "
   ]
  },
  {
   "cell_type": "markdown",
   "metadata": {
    "slideshow": {
     "slide_type": "slide"
    }
   },
   "source": [
    "# Answer\n",
    "* The  complete pooled model ignores the artist; the prediction is the same  for any new song, be it a known or unknown artist."
   ]
  },
  {
   "cell_type": "markdown",
   "metadata": {
    "slideshow": {
     "slide_type": "slide"
    }
   },
   "source": [
    "# Predicting the popularity of the next song (*predictive distribution*)\n",
    "\n",
    "* The trace contains 4000 parameter samples of type  $<\\mu_s, \\sigma_s>$. \n",
    "\n",
    "* For each $s$  we draw  a possible future value of popularity as:\n",
    "\n",
    "$$\n",
    "y_s^{\\text{new}}  \\sim \\; N\\left(\\mu_s, \\sigma_s\\right)\\;\\; s=1,2...4000$$\n",
    "\n"
   ]
  },
  {
   "cell_type": "markdown",
   "metadata": {
    "slideshow": {
     "slide_type": "slide"
    }
   },
   "source": [
    "# Predictive distribution for a specific artist\n",
    "\n",
    "$$\n",
    "\\left[\n",
    "\\begin{array}{ll} \n",
    "\\mu_1 &   \\sigma_1 \\\\\n",
    "\\mu_2 & \\sigma_2 \\\\\n",
    "\\vdots & \\vdots  \\\\\n",
    "\\mu_{4000}  & \\sigma_{4000} \\\\\n",
    "\\end{array}\n",
    "\\right]\n",
    "\\;\\; \\longrightarrow \\;\\;\n",
    "\\left[\n",
    "\\begin{array}{l} \n",
    "y^{\\text{new}}_{1} \\\\\n",
    "y^{\\text{new}}_2 \\\\\n",
    "\\vdots \\\\\n",
    "y^{\\text{new}}_{4000} \\\\\n",
    "\\end{array}\n",
    "\\right]\n",
    "$$\n",
    "\n",
    "The predictive distribution accounts for:\n",
    "   * uncertainty in the parameters of $\\mu, \\sigma$\n",
    "   * uncertainty due to stochastic samplig from a normal distribution."
   ]
  },
  {
   "cell_type": "code",
   "execution_count": 10,
   "metadata": {
    "slideshow": {
     "slide_type": "slide"
    }
   },
   "outputs": [
    {
     "name": "stderr",
     "output_type": "stream",
     "text": [
      "Auto-assigning NUTS sampler...\n",
      "Initializing NUTS using jitter+adapt_diag...\n",
      "Multiprocess sampling (4 chains in 4 jobs)\n",
      "NUTS: [predictive, global_sigma, global_mean]\n"
     ]
    },
    {
     "data": {
      "text/html": [
       "\n",
       "<style>\n",
       "    /* Turns off some styling */\n",
       "    progress {\n",
       "        /* gets rid of default border in Firefox and Opera. */\n",
       "        border: none;\n",
       "        /* Needs to be in here for Safari polyfill so background images work as expected. */\n",
       "        background-size: auto;\n",
       "    }\n",
       "    .progress-bar-interrupted, .progress-bar-interrupted::-webkit-progress-bar {\n",
       "        background: #F44336;\n",
       "    }\n",
       "</style>\n"
      ],
      "text/plain": [
       "<IPython.core.display.HTML object>"
      ]
     },
     "metadata": {},
     "output_type": "display_data"
    },
    {
     "data": {
      "text/html": [
       "\n",
       "    <div>\n",
       "      <progress value='8000' class='' max='8000' style='width:300px; height:20px; vertical-align: middle;'></progress>\n",
       "      100.00% [8000/8000 00:04<00:00 Sampling 4 chains, 0 divergences]\n",
       "    </div>\n",
       "    "
      ],
      "text/plain": [
       "<IPython.core.display.HTML object>"
      ]
     },
     "metadata": {},
     "output_type": "display_data"
    },
    {
     "name": "stderr",
     "output_type": "stream",
     "text": [
      "/Users/giorgio/opt/anaconda3/envs/bda/lib/python3.9/site-packages/scipy/stats/_continuous_distns.py:624: RuntimeWarning: overflow encountered in _beta_ppf\n",
      "  return _boost._beta_ppf(q, a, b)\n",
      "/Users/giorgio/opt/anaconda3/envs/bda/lib/python3.9/site-packages/scipy/stats/_continuous_distns.py:624: RuntimeWarning: overflow encountered in _beta_ppf\n",
      "  return _boost._beta_ppf(q, a, b)\n",
      "/Users/giorgio/opt/anaconda3/envs/bda/lib/python3.9/site-packages/scipy/stats/_continuous_distns.py:624: RuntimeWarning: overflow encountered in _beta_ppf\n",
      "  return _boost._beta_ppf(q, a, b)\n",
      "/Users/giorgio/opt/anaconda3/envs/bda/lib/python3.9/site-packages/scipy/stats/_continuous_distns.py:624: RuntimeWarning: overflow encountered in _beta_ppf\n",
      "  return _boost._beta_ppf(q, a, b)\n",
      "Sampling 4 chains for 1_000 tune and 1_000 draw iterations (4_000 + 4_000 draws total) took 16 seconds.\n"
     ]
    }
   ],
   "source": [
    "#predictive distribution implemented in pymc3\n",
    "#this is more convenient, but less didactic, than implementing a for loop on the raw values of the trace.\n",
    "with pm.Model() as pooled_model:\n",
    "    # prior\n",
    "    global_mean    =   pm.Normal ('global_mean', 50,  10)\n",
    "    global_sigma   =  pm.HalfNormal ('global_sigma', sd = 36)\n",
    "\n",
    "    #likelihood\n",
    "    popularity          =  pm.Normal ('popularity', mu = global_mean,  sigma = global_sigma, observed = spotify[\"popularity\"])\n",
    "    \n",
    "    #prediction, computed for every posterior sample of global_mean and global_sigma.\n",
    "    predictive          =  pm.Normal('predictive', mu=global_mean, sigma=global_sigma )\n",
    "    trace_pooled     = pm.sample(return_inferencedata=True)"
   ]
  },
  {
   "cell_type": "code",
   "execution_count": 11,
   "metadata": {
    "slideshow": {
     "slide_type": "slide"
    }
   },
   "outputs": [
    {
     "data": {
      "text/html": [
       "<div>\n",
       "<style scoped>\n",
       "    .dataframe tbody tr th:only-of-type {\n",
       "        vertical-align: middle;\n",
       "    }\n",
       "\n",
       "    .dataframe tbody tr th {\n",
       "        vertical-align: top;\n",
       "    }\n",
       "\n",
       "    .dataframe thead th {\n",
       "        text-align: right;\n",
       "    }\n",
       "</style>\n",
       "<table border=\"1\" class=\"dataframe\">\n",
       "  <thead>\n",
       "    <tr style=\"text-align: right;\">\n",
       "      <th></th>\n",
       "      <th>mean</th>\n",
       "      <th>sd</th>\n",
       "      <th>hdi_3%</th>\n",
       "      <th>hdi_97%</th>\n",
       "      <th>mcse_mean</th>\n",
       "      <th>mcse_sd</th>\n",
       "      <th>ess_bulk</th>\n",
       "      <th>ess_tail</th>\n",
       "      <th>r_hat</th>\n",
       "    </tr>\n",
       "  </thead>\n",
       "  <tbody>\n",
       "    <tr>\n",
       "      <th>predictive</th>\n",
       "      <td>58.251</td>\n",
       "      <td>21.086</td>\n",
       "      <td>18.286</td>\n",
       "      <td>96.654</td>\n",
       "      <td>0.287</td>\n",
       "      <td>0.209</td>\n",
       "      <td>5357.0</td>\n",
       "      <td>2897.0</td>\n",
       "      <td>1.0</td>\n",
       "    </tr>\n",
       "  </tbody>\n",
       "</table>\n",
       "</div>"
      ],
      "text/plain": [
       "              mean      sd  hdi_3%  hdi_97%  mcse_mean  mcse_sd  ess_bulk  \\\n",
       "predictive  58.251  21.086  18.286   96.654      0.287    0.209    5357.0   \n",
       "\n",
       "            ess_tail  r_hat  \n",
       "predictive    2897.0    1.0  "
      ]
     },
     "execution_count": 11,
     "metadata": {},
     "output_type": "execute_result"
    }
   ],
   "source": [
    "#this prediction is the same for every artist.\n",
    "az.summary(trace_pooled, var_names='predictive')"
   ]
  },
  {
   "cell_type": "markdown",
   "metadata": {
    "slideshow": {
     "slide_type": "slide"
    }
   },
   "source": [
    "# Unpooled model\n",
    "\n",
    "* It independently analyzes the songs of each artist.\n",
    "\n",
    "\n",
    "* The  mean popularity of the $j$-th artist is  $\\mu_j$.\n",
    "\n",
    "\n",
    "* One artist’s mean doesn’t tell us anything about another’s."
   ]
  },
  {
   "cell_type": "markdown",
   "metadata": {
    "slideshow": {
     "slide_type": "slide"
    }
   },
   "source": [
    "# Unpooled model \n",
    "\n",
    "<img src='img/spotify-unpooled.png' width=500 align=\"center\" >\n",
    "\n",
    "* The popularity of the songs produced by artist $j$ are distributed $N(\\mu_j, \\sigma)$.\n",
    "\n",
    "\n",
    "* We assume   $\\sigma$ to be common to all artists.\n",
    "\n",
    "\n",
    "      "
   ]
  },
  {
   "cell_type": "markdown",
   "metadata": {
    "slideshow": {
     "slide_type": "slide"
    }
   },
   "source": [
    "# About the common sigma\n",
    "\n",
    "* This  assumption of common $\\sigma$ is reasonable and simplifies the inference (we have 45 parameters rather than 88). \n",
    "\n",
    "\n",
    "* It could be  worth implementing also a  model with a different $\\sigma$ for each artist and comparing the two models (model selection can be done using WAIC, a topic covered later in the course).\n"
   ]
  },
  {
   "cell_type": "markdown",
   "metadata": {
    "slideshow": {
     "slide_type": "slide"
    }
   },
   "source": [
    "# Unpooled model\n",
    "\n",
    "* The priors are the same of the pooled model. But every $\\mu_j$ is now an independent parameter.\n",
    "\n",
    "\\begin{align*}\n",
    "\\mu_j    & \\sim N(50, 20)  \\; \\; \\; j=1,2...44\\\\\n",
    "\\sigma & \\sim \\text{HalfNormal}(30) \\\\\n",
    "y_{ij}  & \\sim N(\\mu_j, \\sigma) \\\\\n",
    "\\end{align*}"
   ]
  },
  {
   "cell_type": "code",
   "execution_count": 52,
   "metadata": {
    "slideshow": {
     "slide_type": "slide"
    }
   },
   "outputs": [
    {
     "name": "stdout",
     "output_type": "stream",
     "text": [
      "songs from Beyoncé:  25\n",
      "songs from BUNT.:  3\n",
      "        artist  artist_code\n",
      "0         Alok            0\n",
      "1         Alok            0\n",
      "2         Alok            0\n",
      "3         Alok            0\n",
      "4         Alok            0\n",
      "..         ...          ...\n",
      "345  Zeds Dead           43\n",
      "346  Zeds Dead           43\n",
      "347  Zeds Dead           43\n",
      "348  Zeds Dead           43\n",
      "349  Zeds Dead           43\n",
      "\n",
      "[350 rows x 2 columns]\n"
     ]
    },
    {
     "name": "stderr",
     "output_type": "stream",
     "text": [
      "/var/folders/2k/rgs_y6s556x557660m9wmrfc0000gp/T/ipykernel_17273/1452641053.py:12: DeprecationWarning: np.asscalar(a) is deprecated since NumPy v1.16, use a.item() instead\n",
      "  beyonce_code = np.asscalar(np.unique(spotify['artist_code'][spotify['artist']=='Beyoncé']))\n",
      "/var/folders/2k/rgs_y6s556x557660m9wmrfc0000gp/T/ipykernel_17273/1452641053.py:13: DeprecationWarning: np.asscalar(a) is deprecated since NumPy v1.16, use a.item() instead\n",
      "  bunt_code       = np.asscalar(np.unique(spotify['artist_code'][spotify['artist']=='BUNT.']))\n"
     ]
    }
   ],
   "source": [
    "#The code below assigns a  numerical code to each author; then it assigns to each song the code of its author.\n",
    "n_artist = len(artist_count) #44\n",
    "\n",
    "#names of the authors of each song\n",
    "artist       = spotify['artist'].values\n",
    "\n",
    "#names mapped into codes\n",
    "spotify['artist_code']  = spotify['artist'].astype('category').cat.codes\n",
    "\n",
    "\n",
    "#how many songs from Beyoncé and BUNT.\n",
    "beyonce_code = np.asscalar(np.unique(spotify['artist_code'][spotify['artist']=='Beyoncé']))\n",
    "bunt_code       = np.asscalar(np.unique(spotify['artist_code'][spotify['artist']=='BUNT.']))\n",
    "print('songs from Beyoncé: ', np.sum(spotify['artist'] == 'Beyoncé'))\n",
    "print('songs from BUNT.: ', np.sum(spotify['artist'] == 'BUNT.'))\n",
    "\n",
    "#show the data structure\n",
    "print(spotify[['artist', 'artist_code']])"
   ]
  },
  {
   "cell_type": "code",
   "execution_count": 54,
   "metadata": {
    "slideshow": {
     "slide_type": "slide"
    }
   },
   "outputs": [
    {
     "name": "stderr",
     "output_type": "stream",
     "text": [
      "Auto-assigning NUTS sampler...\n",
      "Initializing NUTS using jitter+adapt_diag...\n",
      "Multiprocess sampling (4 chains in 4 jobs)\n",
      "NUTS: [global_sigma, mu_artist]\n"
     ]
    },
    {
     "data": {
      "text/html": [
       "\n",
       "<style>\n",
       "    /* Turns off some styling */\n",
       "    progress {\n",
       "        /* gets rid of default border in Firefox and Opera. */\n",
       "        border: none;\n",
       "        /* Needs to be in here for Safari polyfill so background images work as expected. */\n",
       "        background-size: auto;\n",
       "    }\n",
       "    .progress-bar-interrupted, .progress-bar-interrupted::-webkit-progress-bar {\n",
       "        background: #F44336;\n",
       "    }\n",
       "</style>\n"
      ],
      "text/plain": [
       "<IPython.core.display.HTML object>"
      ]
     },
     "metadata": {},
     "output_type": "display_data"
    },
    {
     "data": {
      "text/html": [
       "\n",
       "    <div>\n",
       "      <progress value='8000' class='' max='8000' style='width:300px; height:20px; vertical-align: middle;'></progress>\n",
       "      100.00% [8000/8000 00:05<00:00 Sampling 4 chains, 0 divergences]\n",
       "    </div>\n",
       "    "
      ],
      "text/plain": [
       "<IPython.core.display.HTML object>"
      ]
     },
     "metadata": {},
     "output_type": "display_data"
    },
    {
     "name": "stderr",
     "output_type": "stream",
     "text": [
      "/Users/giorgio/opt/anaconda3/envs/bda/lib/python3.9/site-packages/scipy/stats/_continuous_distns.py:624: RuntimeWarning: overflow encountered in _beta_ppf\n",
      "  return _boost._beta_ppf(q, a, b)\n",
      "Sampling 4 chains for 1_000 tune and 1_000 draw iterations (4_000 + 4_000 draws total) took 18 seconds.\n"
     ]
    }
   ],
   "source": [
    "\n",
    "with pm.Model() as unpooled_model:\n",
    "    # A vector of independent means, one for each artist. Notice the keyword 'shape'.\n",
    "    mu_artist            =  pm.Normal ('mu_artist', 50,  20, shape = n_artist)\n",
    "    \n",
    "    #The common sigma, shared among all authors.\n",
    "    global_sigma    =  pm.HalfNormal ('global_sigma', sd = 30)\n",
    "\n",
    "    #spotify[\"popularity\"] is the vector of popularities of each song; \n",
    "    #spotify['artist_code'] is a vector containing the code of the author of each song.\n",
    "    popularity      =  pm.Normal ('popularity', mu = mu_artist[spotify['artist_code']],  sigma = global_sigma, observed = spotify[\"popularity\"])\n",
    "    \n",
    "    trace_unpooled  = pm.sample(return_inferencedata=True)"
   ]
  },
  {
   "cell_type": "code",
   "execution_count": 55,
   "metadata": {
    "slideshow": {
     "slide_type": "slide"
    }
   },
   "outputs": [
    {
     "data": {
      "text/html": [
       "<div>\n",
       "<style scoped>\n",
       "    .dataframe tbody tr th:only-of-type {\n",
       "        vertical-align: middle;\n",
       "    }\n",
       "\n",
       "    .dataframe tbody tr th {\n",
       "        vertical-align: top;\n",
       "    }\n",
       "\n",
       "    .dataframe thead th {\n",
       "        text-align: right;\n",
       "    }\n",
       "</style>\n",
       "<table border=\"1\" class=\"dataframe\">\n",
       "  <thead>\n",
       "    <tr style=\"text-align: right;\">\n",
       "      <th></th>\n",
       "      <th>mean</th>\n",
       "      <th>sd</th>\n",
       "      <th>hdi_3%</th>\n",
       "      <th>hdi_97%</th>\n",
       "      <th>mcse_mean</th>\n",
       "      <th>mcse_sd</th>\n",
       "      <th>ess_bulk</th>\n",
       "      <th>ess_tail</th>\n",
       "      <th>r_hat</th>\n",
       "    </tr>\n",
       "  </thead>\n",
       "  <tbody>\n",
       "    <tr>\n",
       "      <th>mu_artist[Alok]</th>\n",
       "      <td>64.433</td>\n",
       "      <td>3.154</td>\n",
       "      <td>58.406</td>\n",
       "      <td>70.239</td>\n",
       "      <td>0.034</td>\n",
       "      <td>0.024</td>\n",
       "      <td>8774.0</td>\n",
       "      <td>2941.0</td>\n",
       "      <td>1.0</td>\n",
       "    </tr>\n",
       "    <tr>\n",
       "      <th>mu_artist[Atlas Genius]</th>\n",
       "      <td>46.137</td>\n",
       "      <td>6.748</td>\n",
       "      <td>33.511</td>\n",
       "      <td>58.967</td>\n",
       "      <td>0.071</td>\n",
       "      <td>0.050</td>\n",
       "      <td>9089.0</td>\n",
       "      <td>2915.0</td>\n",
       "      <td>1.0</td>\n",
       "    </tr>\n",
       "    <tr>\n",
       "      <th>mu_artist[Au/Ra]</th>\n",
       "      <td>59.732</td>\n",
       "      <td>5.843</td>\n",
       "      <td>48.683</td>\n",
       "      <td>70.726</td>\n",
       "      <td>0.057</td>\n",
       "      <td>0.040</td>\n",
       "      <td>10612.0</td>\n",
       "      <td>3141.0</td>\n",
       "      <td>1.0</td>\n",
       "    </tr>\n",
       "    <tr>\n",
       "      <th>mu_artist[BUNT.]</th>\n",
       "      <td>43.469</td>\n",
       "      <td>7.537</td>\n",
       "      <td>29.160</td>\n",
       "      <td>57.378</td>\n",
       "      <td>0.079</td>\n",
       "      <td>0.059</td>\n",
       "      <td>9049.0</td>\n",
       "      <td>2966.0</td>\n",
       "      <td>1.0</td>\n",
       "    </tr>\n",
       "    <tr>\n",
       "      <th>mu_artist[Beyoncé]</th>\n",
       "      <td>69.360</td>\n",
       "      <td>2.813</td>\n",
       "      <td>63.926</td>\n",
       "      <td>74.327</td>\n",
       "      <td>0.028</td>\n",
       "      <td>0.020</td>\n",
       "      <td>9984.0</td>\n",
       "      <td>2815.0</td>\n",
       "      <td>1.0</td>\n",
       "    </tr>\n",
       "  </tbody>\n",
       "</table>\n",
       "</div>"
      ],
      "text/plain": [
       "                           mean     sd  hdi_3%  hdi_97%  mcse_mean  mcse_sd  \\\n",
       "mu_artist[Alok]          64.433  3.154  58.406   70.239      0.034    0.024   \n",
       "mu_artist[Atlas Genius]  46.137  6.748  33.511   58.967      0.071    0.050   \n",
       "mu_artist[Au/Ra]         59.732  5.843  48.683   70.726      0.057    0.040   \n",
       "mu_artist[BUNT.]         43.469  7.537  29.160   57.378      0.079    0.059   \n",
       "mu_artist[Beyoncé]       69.360  2.813  63.926   74.327      0.028    0.020   \n",
       "\n",
       "                         ess_bulk  ess_tail  r_hat  \n",
       "mu_artist[Alok]            8774.0    2941.0    1.0  \n",
       "mu_artist[Atlas Genius]    9089.0    2915.0    1.0  \n",
       "mu_artist[Au/Ra]          10612.0    3141.0    1.0  \n",
       "mu_artist[BUNT.]           9049.0    2966.0    1.0  \n",
       "mu_artist[Beyoncé]         9984.0    2815.0    1.0  "
      ]
     },
     "execution_count": 55,
     "metadata": {},
     "output_type": "execute_result"
    }
   ],
   "source": [
    "# posterior mean of each artist (only the first ones are shown).\n",
    "#The mean is different for each artist.\n",
    "# The uncertainty about the posterior mean is represented by the length of its HDI.\n",
    "# Artist with many songs (like Beyoncé) have shorter HDI compared to artists with less songs(like BUNT.) \n",
    "\n",
    "# assing_coords is  used to assign  the artist name to each element of the vector mu_artist\n",
    "posterior = trace_unpooled.posterior.assign_coords(mu_artist_dim_0=artists)\n",
    "az.summary(posterior).head()"
   ]
  },
  {
   "cell_type": "code",
   "execution_count": 15,
   "metadata": {
    "slideshow": {
     "slide_type": "slide"
    }
   },
   "outputs": [
    {
     "data": {
      "text/html": [
       "<div>\n",
       "<style scoped>\n",
       "    .dataframe tbody tr th:only-of-type {\n",
       "        vertical-align: middle;\n",
       "    }\n",
       "\n",
       "    .dataframe tbody tr th {\n",
       "        vertical-align: top;\n",
       "    }\n",
       "\n",
       "    .dataframe thead th {\n",
       "        text-align: right;\n",
       "    }\n",
       "</style>\n",
       "<table border=\"1\" class=\"dataframe\">\n",
       "  <thead>\n",
       "    <tr style=\"text-align: right;\">\n",
       "      <th></th>\n",
       "      <th>mean</th>\n",
       "      <th>sd</th>\n",
       "      <th>hdi_3%</th>\n",
       "      <th>hdi_97%</th>\n",
       "      <th>mcse_mean</th>\n",
       "      <th>mcse_sd</th>\n",
       "      <th>ess_bulk</th>\n",
       "      <th>ess_tail</th>\n",
       "      <th>r_hat</th>\n",
       "    </tr>\n",
       "  </thead>\n",
       "  <tbody>\n",
       "    <tr>\n",
       "      <th>global_sigma</th>\n",
       "      <td>14.01</td>\n",
       "      <td>0.553</td>\n",
       "      <td>13.015</td>\n",
       "      <td>15.066</td>\n",
       "      <td>0.007</td>\n",
       "      <td>0.005</td>\n",
       "      <td>6158.0</td>\n",
       "      <td>3214.0</td>\n",
       "      <td>1.0</td>\n",
       "    </tr>\n",
       "  </tbody>\n",
       "</table>\n",
       "</div>"
      ],
      "text/plain": [
       "               mean     sd  hdi_3%  hdi_97%  mcse_mean  mcse_sd  ess_bulk  \\\n",
       "global_sigma  14.01  0.553  13.015   15.066      0.007    0.005    6158.0   \n",
       "\n",
       "              ess_tail  r_hat  \n",
       "global_sigma    3214.0    1.0  "
      ]
     },
     "execution_count": 15,
     "metadata": {},
     "output_type": "execute_result"
    }
   ],
   "source": [
    "# the global_sigma represents the variations between songs produced by the same artist.\n",
    "# It is the same for every artist.\n",
    "# It is lower compared to the pooled model, as it only accounts for variations between songs of the same artists.\n",
    "az.summary(trace_unpooled, var_names='global_sigma')\n"
   ]
  },
  {
   "cell_type": "code",
   "execution_count": 63,
   "metadata": {
    "scrolled": false,
    "slideshow": {
     "slide_type": "slide"
    }
   },
   "outputs": [
    {
     "data": {
      "image/png": "[encoded data removed]",
      "text/plain": [
       "<Figure size 800x400 with 1 Axes>"
      ]
     },
     "metadata": {},
     "output_type": "display_data"
    }
   ],
   "source": [
    "# The forest plot compares HDI intervals from a number of distributions  (different artists in our case).\n",
    "#The HDIs are shorter for artists that have published more songs.\n",
    "#We show only the first 5 artists: we limit and label the graph using the coords option. \n",
    "\n",
    "\n",
    "axes = az.plot_forest (trace_unpooled,\n",
    "                       var_names=\"mu_artist\",\n",
    "                       combined=True, # a single plot for each artist,  merging  samples from different chains.\n",
    "                       coords={\"mu_artist_dim_0\": range(5)},\n",
    "                       figsize=(8, 4))\n",
    "artists_5 = artists[:5]\n",
    "axes[0].set_yticklabels(artists_5[::-1]);"
   ]
  },
  {
   "cell_type": "markdown",
   "metadata": {
    "slideshow": {
     "slide_type": "slide"
    }
   },
   "source": [
    "# Predictive distribution\n",
    "\n",
    "* Select the posterior samples of $\\mu_{\\text{Beyoncé}}$ and $\\sigma$, and sample using a N distribution.\n",
    "\n",
    "$$\n",
    "\\left[\n",
    "\\begin{array}{ll} \n",
    "\\mu_{\\text{Beyoncé},1} &   \\sigma_1 \\\\\n",
    "\\mu_{\\text{Beyoncé},2}  & \\sigma_2 \\\\\n",
    "\\vdots & \\vdots  \\\\\n",
    "\\mu_{\\text{Beyoncé},4000}   & \\sigma_{4000} \\\\\n",
    "\\end{array}\n",
    "\\right]\n",
    "\\;\\; \\longrightarrow \\;\\;\n",
    "\\left[\n",
    "\\begin{array}{l} \n",
    "y_{\\text{Beyoncé},1}^{\\text{new}} \\\\\n",
    "y_{\\text{Beyoncé},2}^{\\text{new}}\\\\\n",
    "\\vdots \\\\\n",
    "y_{\\text{Beyoncé},4000}^{\\text{new}}\\\\\n",
    "\\end{array}\n",
    "\\right]\n",
    "$$\n",
    "\n",
    "The predictive distribution accounts for:\n",
    "   * uncertainty in the parameters of $\\mu_{\\text{Beyoncé}}, \\sigma$\n",
    "   * uncertainty due to stochastic sampling from a normal distribution."
   ]
  },
  {
   "cell_type": "code",
   "execution_count": 72,
   "metadata": {
    "slideshow": {
     "slide_type": "slide"
    }
   },
   "outputs": [
    {
     "name": "stderr",
     "output_type": "stream",
     "text": [
      "Auto-assigning NUTS sampler...\n",
      "Initializing NUTS using jitter+adapt_diag...\n",
      "Multiprocess sampling (4 chains in 4 jobs)\n",
      "NUTS: [pred_beyonce, global_sigma, mu_artist]\n"
     ]
    },
    {
     "data": {
      "text/html": [
       "\n",
       "<style>\n",
       "    /* Turns off some styling */\n",
       "    progress {\n",
       "        /* gets rid of default border in Firefox and Opera. */\n",
       "        border: none;\n",
       "        /* Needs to be in here for Safari polyfill so background images work as expected. */\n",
       "        background-size: auto;\n",
       "    }\n",
       "    .progress-bar-interrupted, .progress-bar-interrupted::-webkit-progress-bar {\n",
       "        background: #F44336;\n",
       "    }\n",
       "</style>\n"
      ],
      "text/plain": [
       "<IPython.core.display.HTML object>"
      ]
     },
     "metadata": {},
     "output_type": "display_data"
    },
    {
     "data": {
      "text/html": [
       "\n",
       "    <div>\n",
       "      <progress value='8000' class='' max='8000' style='width:300px; height:20px; vertical-align: middle;'></progress>\n",
       "      100.00% [8000/8000 00:07<00:00 Sampling 4 chains, 0 divergences]\n",
       "    </div>\n",
       "    "
      ],
      "text/plain": [
       "<IPython.core.display.HTML object>"
      ]
     },
     "metadata": {},
     "output_type": "display_data"
    },
    {
     "name": "stderr",
     "output_type": "stream",
     "text": [
      "/Users/giorgio/opt/anaconda3/envs/bda/lib/python3.9/site-packages/scipy/stats/_continuous_distns.py:624: RuntimeWarning: overflow encountered in _beta_ppf\n",
      "  return _boost._beta_ppf(q, a, b)\n",
      "/Users/giorgio/opt/anaconda3/envs/bda/lib/python3.9/site-packages/scipy/stats/_continuous_distns.py:624: RuntimeWarning: overflow encountered in _beta_ppf\n",
      "  return _boost._beta_ppf(q, a, b)\n",
      "Sampling 4 chains for 1_000 tune and 1_000 draw iterations (4_000 + 4_000 draws total) took 21 seconds.\n"
     ]
    }
   ],
   "source": [
    "#predictive distribution for Beyonce, implemented in Pymc3\n",
    "\n",
    "with pm.Model() as unpooled_model_with_preds:\n",
    "    \n",
    "    #lines below as in the unpooled model \n",
    "    mu_artist         =  pm.Normal ('mu_artist', 50,  20, shape= n_artist)\n",
    "    global_sigma   =  pm.HalfNormal ('global_sigma', sd = 30)\n",
    "    popularity         =  pm.Normal ('popularity', mu = mu_artist[spotify['artist_code']],  sigma = global_sigma, observed = spotify[\"popularity\"])\n",
    "    \n",
    "    #predictive distribution for specific artists\n",
    "    pred_beyonce   = pm.Normal ('pred_beyonce', mu = mu_artist[beyonce_code],  sigma = global_sigma)\n",
    "    \n",
    "    trace_unpooled_with_preds  = pm.sample(return_inferencedata=True)"
   ]
  },
  {
   "cell_type": "code",
   "execution_count": 73,
   "metadata": {
    "slideshow": {
     "slide_type": "slide"
    }
   },
   "outputs": [
    {
     "data": {
      "text/html": [
       "<div>\n",
       "<style scoped>\n",
       "    .dataframe tbody tr th:only-of-type {\n",
       "        vertical-align: middle;\n",
       "    }\n",
       "\n",
       "    .dataframe tbody tr th {\n",
       "        vertical-align: top;\n",
       "    }\n",
       "\n",
       "    .dataframe thead th {\n",
       "        text-align: right;\n",
       "    }\n",
       "</style>\n",
       "<table border=\"1\" class=\"dataframe\">\n",
       "  <thead>\n",
       "    <tr style=\"text-align: right;\">\n",
       "      <th></th>\n",
       "      <th>mean</th>\n",
       "      <th>sd</th>\n",
       "      <th>hdi_2.5%</th>\n",
       "      <th>hdi_97.5%</th>\n",
       "      <th>mcse_mean</th>\n",
       "      <th>mcse_sd</th>\n",
       "      <th>ess_bulk</th>\n",
       "      <th>ess_tail</th>\n",
       "      <th>r_hat</th>\n",
       "    </tr>\n",
       "  </thead>\n",
       "  <tbody>\n",
       "    <tr>\n",
       "      <th>pred_beyonce</th>\n",
       "      <td>69.171</td>\n",
       "      <td>14.493</td>\n",
       "      <td>40.132</td>\n",
       "      <td>96.168</td>\n",
       "      <td>0.137</td>\n",
       "      <td>0.104</td>\n",
       "      <td>11224.0</td>\n",
       "      <td>2440.0</td>\n",
       "      <td>1.0</td>\n",
       "    </tr>\n",
       "  </tbody>\n",
       "</table>\n",
       "</div>"
      ],
      "text/plain": [
       "                mean      sd  hdi_2.5%  hdi_97.5%  mcse_mean  mcse_sd  \\\n",
       "pred_beyonce  69.171  14.493    40.132     96.168      0.137    0.104   \n",
       "\n",
       "              ess_bulk  ess_tail  r_hat  \n",
       "pred_beyonce   11224.0    2440.0    1.0  "
      ]
     },
     "execution_count": 73,
     "metadata": {},
     "output_type": "execute_result"
    }
   ],
   "source": [
    "#Notice the larger uncertainty of predictive distribution, compared to the uncertainty on the posterior mean\n",
    "#Can you explain the reason?\n",
    "az.summary(trace_unpooled_with_preds, var_names=['pred_beyonce'], hdi_prob=.95)"
   ]
  },
  {
   "cell_type": "markdown",
   "metadata": {
    "slideshow": {
     "slide_type": "slide"
    }
   },
   "source": [
    "# Discussion\n",
    "\n",
    "* Posterior mean popularity of Beyonce': \n",
    "    * the HDI is between the .025 and .975 percentile of the posterior samples of $\\mu[beyonce]$\n",
    "    \n",
    "\n",
    "* Predictive distribution for the next song by Beyonce': \n",
    "    * the HDI is between the .025 and .975 percentile of the samples $y^{\\text{new}}_{\\text{beyonce}}$\n",
    "\n"
   ]
  },
  {
   "cell_type": "markdown",
   "metadata": {
    "slideshow": {
     "slide_type": "slide"
    }
   },
   "source": [
    "# Discussion\n",
    "\n",
    "The no pooled model represents the diversity between  artists with two shortcomings:\n",
    "\n",
    "* estimates for artists with few songs are  uncertain\n",
    "    \n",
    "* it  does not model the *population* of  artists. Even though we have analyzed 44 artist, we are unable to say anything about a  Spotify artist not yet present in the sample."
   ]
  },
  {
   "cell_type": "markdown",
   "metadata": {
    "slideshow": {
     "slide_type": "slide"
    }
   },
   "source": [
    "# Hierarchical model\n",
    "\n",
    "\\begin{equation}\n",
    "\\begin{array}{lrl}\n",
    "\\text{Layer 1:} & \\hspace{-0.05in} y_{ij} \\sim N( \\mu_j, \\sigma) & \\hspace{-0.075in} \\text{how  popularity varies WITHIN the songs of artist } j \\\\\n",
    "\\text{Layer 2:} & \\hspace{-0.05in} \\mu_j \\sim N( \\mu', \\sigma_\\mu) & \\hspace{-0.075in}  \\text{population of artists:  how  $\\mu_j$ varies BETWEEN artists}\\\\\n",
    "\\text{Layer 3:} & \\hspace{-0.05in} \\text{densities for } \\mu, \\sigma, \\sigma_\\mu  & \\hspace{-0.075in} \\sim \\text{prior  for shared  parameters} \\\\\n",
    "\\end{array}\n",
    "\\end{equation}\n",
    "\n",
    "* There is a prior over $\\mu'$ and $\\sigma_{\\mu}$, which are fixed numbers in the normal-normal model. This is a hierarchy of priors."
   ]
  },
  {
   "cell_type": "markdown",
   "metadata": {
    "slideshow": {
     "slide_type": "slide"
    }
   },
   "source": [
    "# Individual songs for each artist.\n",
    "\n",
    "* As in the unpooled model,  the popularity of songs  of  artist $j$ are assumed:\n",
    "\n",
    "$$  y_{ij} \\sim N(\\mu_j, \\sigma) $$\n",
    "\n",
    "\n",
    "*  $σ$ is the global sigma, which is equal for  all artists."
   ]
  },
  {
   "cell_type": "markdown",
   "metadata": {
    "slideshow": {
     "slide_type": "slide"
    }
   },
   "source": [
    "# Population of artists\n",
    "\n",
    "\n",
    "\n",
    "* The 44 $\\mu_j$'s  are samples  from the population of Spotify artists:\n",
    "\n",
    "\n",
    "$$ \\mu_j \\sim N(\\mu', \\sigma_{\\mu}) $$\n",
    "\n",
    "* $\\mu'$: mean popularity in the population of the Spotify artists\n",
    "* $\\sigma_{\\mu}$: spread between the  $\\mu_j$'s, i.e., between the popularity of the different artists"
   ]
  },
  {
   "cell_type": "markdown",
   "metadata": {
    "slideshow": {
     "slide_type": "slide"
    }
   },
   "source": [
    "# Modeling the population of artists\n",
    "\n",
    "$$ \\mu_j \\sim N(\\mu', \\sigma_{\\mu}) $$\n",
    "\n",
    "\n",
    "* We want to learn the population of artists.\n",
    "* Both $\\mu'$ and $\\sigma_{\\mu}$ are  *parameters*, to which we will assign a prior."
   ]
  },
  {
   "cell_type": "markdown",
   "metadata": {
    "slideshow": {
     "slide_type": "slide"
    }
   },
   "source": [
    "# Notation alert\n",
    "\n",
    "*  $μ_j$: mean popularity of songs from  the j-th artist\n",
    "* $\\mu'$: mean value of $\\mu_j$ within the whole  population of artists\n",
    "\n",
    "\n",
    "* $\\sigma$:  standard deviation of popularity between songs from the same author. \n",
    "* $\\sigma_{\\mu}$ standard deviation of the $\\mu_j$ within the population of artists."
   ]
  },
  {
   "cell_type": "markdown",
   "metadata": {
    "slideshow": {
     "slide_type": "slide"
    }
   },
   "source": [
    "# Priors for  $\\mu'$ and  $\\sigma_{\\mu}$\n",
    "\n",
    "\\begin{align*}\n",
    "\\mu'           & \\sim N(50, 20) && \\text{(50 +- 40)} \\\\\n",
    "\\sigma_\\mu & \\sim \\text{Half Normal}(6)    && \\text{spread betweent the different mu_j : next slide}  \\\\\n",
    "\\end{align*}"
   ]
  },
  {
   "cell_type": "code",
   "execution_count": 74,
   "metadata": {
    "slideshow": {
     "slide_type": "slide"
    }
   },
   "outputs": [
    {
     "data": {
      "text/html": [
       "<div>\n",
       "<style scoped>\n",
       "    .dataframe tbody tr th:only-of-type {\n",
       "        vertical-align: middle;\n",
       "    }\n",
       "\n",
       "    .dataframe tbody tr th {\n",
       "        vertical-align: top;\n",
       "    }\n",
       "\n",
       "    .dataframe thead th {\n",
       "        text-align: right;\n",
       "    }\n",
       "</style>\n",
       "<table border=\"1\" class=\"dataframe\">\n",
       "  <thead>\n",
       "    <tr style=\"text-align: right;\">\n",
       "      <th></th>\n",
       "      <th>0</th>\n",
       "    </tr>\n",
       "  </thead>\n",
       "  <tbody>\n",
       "    <tr>\n",
       "      <th>count</th>\n",
       "      <td>10000.000000</td>\n",
       "    </tr>\n",
       "    <tr>\n",
       "      <th>mean</th>\n",
       "      <td>17.483729</td>\n",
       "    </tr>\n",
       "    <tr>\n",
       "      <th>std</th>\n",
       "      <td>13.362621</td>\n",
       "    </tr>\n",
       "    <tr>\n",
       "      <th>min</th>\n",
       "      <td>0.006997</td>\n",
       "    </tr>\n",
       "    <tr>\n",
       "      <th>50%</th>\n",
       "      <td>14.714998</td>\n",
       "    </tr>\n",
       "    <tr>\n",
       "      <th>75%</th>\n",
       "      <td>25.376862</td>\n",
       "    </tr>\n",
       "    <tr>\n",
       "      <th>95%</th>\n",
       "      <td>43.277200</td>\n",
       "    </tr>\n",
       "    <tr>\n",
       "      <th>max</th>\n",
       "      <td>93.681280</td>\n",
       "    </tr>\n",
       "  </tbody>\n",
       "</table>\n",
       "</div>"
      ],
      "text/plain": [
       "                  0\n",
       "count  10000.000000\n",
       "mean      17.483729\n",
       "std       13.362621\n",
       "min        0.006997\n",
       "50%       14.714998\n",
       "75%       25.376862\n",
       "95%       43.277200\n",
       "max       93.681280"
      ]
     },
     "execution_count": 74,
     "metadata": {},
     "output_type": "execute_result"
    }
   ],
   "source": [
    "# how to choose the priors on sigma_mu\n",
    "# We assume the various mu_j  to vary in 0,100; hence a plausible sigma_mu is 15 (the HN has a long right tail anyway)\n",
    "pd.DataFrame(np.abs(np.random.normal(0, scale=22, size=10000))).describe(percentiles=[0.50, 0.75, 0.95])"
   ]
  },
  {
   "cell_type": "code",
   "execution_count": 75,
   "metadata": {
    "slideshow": {
     "slide_type": "slide"
    }
   },
   "outputs": [
    {
     "name": "stderr",
     "output_type": "stream",
     "text": [
      "Auto-assigning NUTS sampler...\n",
      "Initializing NUTS using jitter+adapt_diag...\n",
      "Multiprocess sampling (4 chains in 4 jobs)\n",
      "NUTS: [global_sigma, mu_artist, sigma_mu, mu_pop]\n"
     ]
    },
    {
     "data": {
      "text/html": [
       "\n",
       "<style>\n",
       "    /* Turns off some styling */\n",
       "    progress {\n",
       "        /* gets rid of default border in Firefox and Opera. */\n",
       "        border: none;\n",
       "        /* Needs to be in here for Safari polyfill so background images work as expected. */\n",
       "        background-size: auto;\n",
       "    }\n",
       "    .progress-bar-interrupted, .progress-bar-interrupted::-webkit-progress-bar {\n",
       "        background: #F44336;\n",
       "    }\n",
       "</style>\n"
      ],
      "text/plain": [
       "<IPython.core.display.HTML object>"
      ]
     },
     "metadata": {},
     "output_type": "display_data"
    },
    {
     "data": {
      "text/html": [
       "\n",
       "    <div>\n",
       "      <progress value='8000' class='' max='8000' style='width:300px; height:20px; vertical-align: middle;'></progress>\n",
       "      100.00% [8000/8000 00:06<00:00 Sampling 4 chains, 0 divergences]\n",
       "    </div>\n",
       "    "
      ],
      "text/plain": [
       "<IPython.core.display.HTML object>"
      ]
     },
     "metadata": {},
     "output_type": "display_data"
    },
    {
     "name": "stderr",
     "output_type": "stream",
     "text": [
      "/Users/giorgio/opt/anaconda3/envs/bda/lib/python3.9/site-packages/scipy/stats/_continuous_distns.py:624: RuntimeWarning: overflow encountered in _beta_ppf\n",
      "  return _boost._beta_ppf(q, a, b)\n",
      "/Users/giorgio/opt/anaconda3/envs/bda/lib/python3.9/site-packages/scipy/stats/_continuous_distns.py:624: RuntimeWarning: overflow encountered in _beta_ppf\n",
      "  return _boost._beta_ppf(q, a, b)\n",
      "Sampling 4 chains for 1_000 tune and 1_000 draw iterations (4_000 + 4_000 draws total) took 20 seconds.\n"
     ]
    }
   ],
   "source": [
    "n_artist = len(artist_count) #44\n",
    "\n",
    "with pm.Model() as hier_model:\n",
    "    \n",
    "    # layer 1: prior on the parameters of the population of artists (hyper-priors). \n",
    "    \n",
    "    # prior beliefs about the mean value and the spread of the different mu_j\n",
    "    mu_pop         = pm.Normal ('mu_pop', 50,  20)\n",
    "    sigma_mu     = pm.HalfNormal ('sigma_mu', 22)\n",
    "    \n",
    "    \n",
    "    # layer 2: each artist is a sample from the population of artists; we sample n_artist times from such population.\n",
    "    mu_artist        =  pm.Normal ('mu_artist', mu=mu_pop, sigma=sigma_mu, shape= n_artist)\n",
    "    \n",
    "    # global_sigma (spread between songs of the same authors) is as in the unpooled model.\n",
    "    global_sigma   =  pm.HalfNormal ('global_sigma', sd = 30)\n",
    "\n",
    "    #Popularity of each song is a sample from N(mu_j, global_sigma).\n",
    "    popularity    =  pm.Normal ('popularity', mu = mu_artist[spotify['artist_code']],  sigma = global_sigma, observed = spotify[\"popularity\"])\n",
    "    \n",
    "    trace_hier    = pm.sample(return_inferencedata=True)"
   ]
  },
  {
   "cell_type": "markdown",
   "metadata": {
    "slideshow": {
     "slide_type": "slide"
    }
   },
   "source": [
    "# Parameters\n",
    "* The hierarchical Spotify model  has  47 parameters:\n",
    "    * 44 artist-specific parameters $\\mu_j$\n",
    "    * 2 parameters for the population of artists: $\\mu',   \\sigma_{\\mu}$\n",
    "    * the global sigma $\\sigma$"
   ]
  },
  {
   "cell_type": "code",
   "execution_count": 77,
   "metadata": {
    "slideshow": {
     "slide_type": "slide"
    }
   },
   "outputs": [
    {
     "data": {
      "text/html": [
       "<div>\n",
       "<style scoped>\n",
       "    .dataframe tbody tr th:only-of-type {\n",
       "        vertical-align: middle;\n",
       "    }\n",
       "\n",
       "    .dataframe tbody tr th {\n",
       "        vertical-align: top;\n",
       "    }\n",
       "\n",
       "    .dataframe thead th {\n",
       "        text-align: right;\n",
       "    }\n",
       "</style>\n",
       "<table border=\"1\" class=\"dataframe\">\n",
       "  <thead>\n",
       "    <tr style=\"text-align: right;\">\n",
       "      <th></th>\n",
       "      <th>mean</th>\n",
       "      <th>hdi_3%</th>\n",
       "      <th>hdi_97%</th>\n",
       "      <th>r_hat</th>\n",
       "    </tr>\n",
       "  </thead>\n",
       "  <tbody>\n",
       "    <tr>\n",
       "      <th>mu_pop</th>\n",
       "      <td>52.385</td>\n",
       "      <td>47.797</td>\n",
       "      <td>57.114</td>\n",
       "      <td>1.00</td>\n",
       "    </tr>\n",
       "    <tr>\n",
       "      <th>sigma_mu</th>\n",
       "      <td>15.171</td>\n",
       "      <td>11.622</td>\n",
       "      <td>18.685</td>\n",
       "      <td>1.00</td>\n",
       "    </tr>\n",
       "    <tr>\n",
       "      <th>global_sigma</th>\n",
       "      <td>14.048</td>\n",
       "      <td>13.064</td>\n",
       "      <td>15.186</td>\n",
       "      <td>1.00</td>\n",
       "    </tr>\n",
       "    <tr>\n",
       "      <th>mu_artist[0]</th>\n",
       "      <td>64.279</td>\n",
       "      <td>58.263</td>\n",
       "      <td>70.238</td>\n",
       "      <td>1.01</td>\n",
       "    </tr>\n",
       "    <tr>\n",
       "      <th>mu_artist[1]</th>\n",
       "      <td>46.849</td>\n",
       "      <td>33.959</td>\n",
       "      <td>59.066</td>\n",
       "      <td>1.00</td>\n",
       "    </tr>\n",
       "  </tbody>\n",
       "</table>\n",
       "</div>"
      ],
      "text/plain": [
       "                mean  hdi_3%  hdi_97%  r_hat\n",
       "mu_pop        52.385  47.797   57.114   1.00\n",
       "sigma_mu      15.171  11.622   18.685   1.00\n",
       "global_sigma  14.048  13.064   15.186   1.00\n",
       "mu_artist[0]  64.279  58.263   70.238   1.01\n",
       "mu_artist[1]  46.849  33.959   59.066   1.00"
      ]
     },
     "execution_count": 77,
     "metadata": {},
     "output_type": "execute_result"
    }
   ],
   "source": [
    "#mu_pop is indeed close to 50 as we assumed, with a tight HDI\n",
    "#the 95% popularity of the artists varies in roughly 52 +- 30\n",
    "#the songs of a given author are comprised with 95% probability within a range of +-28 around its mean.\n",
    "az.summary(trace_hier, var_names=[\"mu_pop\", \"sigma_mu\", \"global_sigma\", \"mu_artist\"])[[\"mean\",\"hdi_3%\",\"hdi_97%\",\"r_hat\"]].head()"
   ]
  },
  {
   "cell_type": "code",
   "execution_count": 78,
   "metadata": {
    "scrolled": false,
    "slideshow": {
     "slide_type": "slide"
    }
   },
   "outputs": [
    {
     "data": {
      "image/png": "[encoded data removed]",
      "text/plain": [
       "<Figure size 600x900 with 1 Axes>"
      ]
     },
     "metadata": {},
     "output_type": "display_data"
    }
   ],
   "source": [
    "####ARRIVATO QUI\n",
    "\n",
    "#estimated mean popularity of each artist, according to the unpooled and to the hierarhical model\n",
    "# the estimates of the hierarchical model are closer to mean popularity of all songs in the sample.\n",
    "\n",
    "trace_unpooled_ = trace_unpooled.copy() # just to avoid touching the existing objects\n",
    "trace_hier_ = trace_hier.copy()\n",
    "\n",
    "#this way the name of the artist is assigned to each mu_j\n",
    "#the trace object has an internal field called mu_artist_dim_0\n",
    "trace_unpooled_.posterior = trace_unpooled.posterior.assign_coords(mu_artist_dim_0=artists)\n",
    "trace_hier_.posterior = trace_hier.posterior.assign_coords(mu_artist_dim_0=artists)\n",
    "\n",
    "axes = az.plot_forest([trace_unpooled_, trace_hier_], \n",
    "                      model_names=['unpooled_model', 'hier_model'], combined=True,\n",
    "                      var_names='mu_artist', hdi_prob=0.95, coords={\"mu_artist_dim_0\": artists[0:20]});\n",
    " \n",
    "#mean popularity of all songs\n",
    "grand_mean = spotify[\"popularity\"].mean()\n",
    "axes[0].axvline(x=grand_mean);"
   ]
  },
  {
   "cell_type": "code",
   "execution_count": 37,
   "metadata": {},
   "outputs": [
    {
     "data": {
      "text/html": [
       "<div><svg style=\"position: absolute; width: 0; height: 0; overflow: hidden\">\n",
       "<defs>\n",
       "<symbol id=\"icon-database\" viewBox=\"0 0 32 32\">\n",
       "<path d=\"M16 0c-8.837 0-16 2.239-16 5v4c0 2.761 7.163 5 16 5s16-2.239 16-5v-4c0-2.761-7.163-5-16-5z\"></path>\n",
       "<path d=\"M16 17c-8.837 0-16-2.239-16-5v6c0 2.761 7.163 5 16 5s16-2.239 16-5v-6c0 2.761-7.163 5-16 5z\"></path>\n",
       "<path d=\"M16 26c-8.837 0-16-2.239-16-5v6c0 2.761 7.163 5 16 5s16-2.239 16-5v-6c0 2.761-7.163 5-16 5z\"></path>\n",
       "</symbol>\n",
       "<symbol id=\"icon-file-text2\" viewBox=\"0 0 32 32\">\n",
       "<path d=\"M28.681 7.159c-0.694-0.947-1.662-2.053-2.724-3.116s-2.169-2.030-3.116-2.724c-1.612-1.182-2.393-1.319-2.841-1.319h-15.5c-1.378 0-2.5 1.121-2.5 2.5v27c0 1.378 1.122 2.5 2.5 2.5h23c1.378 0 2.5-1.122 2.5-2.5v-19.5c0-0.448-0.137-1.23-1.319-2.841zM24.543 5.457c0.959 0.959 1.712 1.825 2.268 2.543h-4.811v-4.811c0.718 0.556 1.584 1.309 2.543 2.268zM28 29.5c0 0.271-0.229 0.5-0.5 0.5h-23c-0.271 0-0.5-0.229-0.5-0.5v-27c0-0.271 0.229-0.5 0.5-0.5 0 0 15.499-0 15.5 0v7c0 0.552 0.448 1 1 1h7v19.5z\"></path>\n",
       "<path d=\"M23 26h-14c-0.552 0-1-0.448-1-1s0.448-1 1-1h14c0.552 0 1 0.448 1 1s-0.448 1-1 1z\"></path>\n",
       "<path d=\"M23 22h-14c-0.552 0-1-0.448-1-1s0.448-1 1-1h14c0.552 0 1 0.448 1 1s-0.448 1-1 1z\"></path>\n",
       "<path d=\"M23 18h-14c-0.552 0-1-0.448-1-1s0.448-1 1-1h14c0.552 0 1 0.448 1 1s-0.448 1-1 1z\"></path>\n",
       "</symbol>\n",
       "</defs>\n",
       "</svg>\n",
       "<style>/* CSS stylesheet for displaying xarray objects in jupyterlab.\n",
       " *\n",
       " */\n",
       "\n",
       ":root {\n",
       "  --xr-font-color0: var(--jp-content-font-color0, rgba(0, 0, 0, 1));\n",
       "  --xr-font-color2: var(--jp-content-font-color2, rgba(0, 0, 0, 0.54));\n",
       "  --xr-font-color3: var(--jp-content-font-color3, rgba(0, 0, 0, 0.38));\n",
       "  --xr-border-color: var(--jp-border-color2, #e0e0e0);\n",
       "  --xr-disabled-color: var(--jp-layout-color3, #bdbdbd);\n",
       "  --xr-background-color: var(--jp-layout-color0, white);\n",
       "  --xr-background-color-row-even: var(--jp-layout-color1, white);\n",
       "  --xr-background-color-row-odd: var(--jp-layout-color2, #eeeeee);\n",
       "}\n",
       "\n",
       "html[theme=dark],\n",
       "body.vscode-dark {\n",
       "  --xr-font-color0: rgba(255, 255, 255, 1);\n",
       "  --xr-font-color2: rgba(255, 255, 255, 0.54);\n",
       "  --xr-font-color3: rgba(255, 255, 255, 0.38);\n",
       "  --xr-border-color: #1F1F1F;\n",
       "  --xr-disabled-color: #515151;\n",
       "  --xr-background-color: #111111;\n",
       "  --xr-background-color-row-even: #111111;\n",
       "  --xr-background-color-row-odd: #313131;\n",
       "}\n",
       "\n",
       ".xr-wrap {\n",
       "  display: block;\n",
       "  min-width: 300px;\n",
       "  max-width: 700px;\n",
       "}\n",
       "\n",
       ".xr-text-repr-fallback {\n",
       "  /* fallback to plain text repr when CSS is not injected (untrusted notebook) */\n",
       "  display: none;\n",
       "}\n",
       "\n",
       ".xr-header {\n",
       "  padding-top: 6px;\n",
       "  padding-bottom: 6px;\n",
       "  margin-bottom: 4px;\n",
       "  border-bottom: solid 1px var(--xr-border-color);\n",
       "}\n",
       "\n",
       ".xr-header > div,\n",
       ".xr-header > ul {\n",
       "  display: inline;\n",
       "  margin-top: 0;\n",
       "  margin-bottom: 0;\n",
       "}\n",
       "\n",
       ".xr-obj-type,\n",
       ".xr-array-name {\n",
       "  margin-left: 2px;\n",
       "  margin-right: 10px;\n",
       "}\n",
       "\n",
       ".xr-obj-type {\n",
       "  color: var(--xr-font-color2);\n",
       "}\n",
       "\n",
       ".xr-sections {\n",
       "  padding-left: 0 !important;\n",
       "  display: grid;\n",
       "  grid-template-columns: 150px auto auto 1fr 20px 20px;\n",
       "}\n",
       "\n",
       ".xr-section-item {\n",
       "  display: contents;\n",
       "}\n",
       "\n",
       ".xr-section-item input {\n",
       "  display: none;\n",
       "}\n",
       "\n",
       ".xr-section-item input + label {\n",
       "  color: var(--xr-disabled-color);\n",
       "}\n",
       "\n",
       ".xr-section-item input:enabled + label {\n",
       "  cursor: pointer;\n",
       "  color: var(--xr-font-color2);\n",
       "}\n",
       "\n",
       ".xr-section-item input:enabled + label:hover {\n",
       "  color: var(--xr-font-color0);\n",
       "}\n",
       "\n",
       ".xr-section-summary {\n",
       "  grid-column: 1;\n",
       "  color: var(--xr-font-color2);\n",
       "  font-weight: 500;\n",
       "}\n",
       "\n",
       ".xr-section-summary > span {\n",
       "  display: inline-block;\n",
       "  padding-left: 0.5em;\n",
       "}\n",
       "\n",
       ".xr-section-summary-in:disabled + label {\n",
       "  color: var(--xr-font-color2);\n",
       "}\n",
       "\n",
       ".xr-section-summary-in + label:before {\n",
       "  display: inline-block;\n",
       "  content: '►';\n",
       "  font-size: 11px;\n",
       "  width: 15px;\n",
       "  text-align: center;\n",
       "}\n",
       "\n",
       ".xr-section-summary-in:disabled + label:before {\n",
       "  color: var(--xr-disabled-color);\n",
       "}\n",
       "\n",
       ".xr-section-summary-in:checked + label:before {\n",
       "  content: '▼';\n",
       "}\n",
       "\n",
       ".xr-section-summary-in:checked + label > span {\n",
       "  display: none;\n",
       "}\n",
       "\n",
       ".xr-section-summary,\n",
       ".xr-section-inline-details {\n",
       "  padding-top: 4px;\n",
       "  padding-bottom: 4px;\n",
       "}\n",
       "\n",
       ".xr-section-inline-details {\n",
       "  grid-column: 2 / -1;\n",
       "}\n",
       "\n",
       ".xr-section-details {\n",
       "  display: none;\n",
       "  grid-column: 1 / -1;\n",
       "  margin-bottom: 5px;\n",
       "}\n",
       "\n",
       ".xr-section-summary-in:checked ~ .xr-section-details {\n",
       "  display: contents;\n",
       "}\n",
       "\n",
       ".xr-array-wrap {\n",
       "  grid-column: 1 / -1;\n",
       "  display: grid;\n",
       "  grid-template-columns: 20px auto;\n",
       "}\n",
       "\n",
       ".xr-array-wrap > label {\n",
       "  grid-column: 1;\n",
       "  vertical-align: top;\n",
       "}\n",
       "\n",
       ".xr-preview {\n",
       "  color: var(--xr-font-color3);\n",
       "}\n",
       "\n",
       ".xr-array-preview,\n",
       ".xr-array-data {\n",
       "  padding: 0 5px !important;\n",
       "  grid-column: 2;\n",
       "}\n",
       "\n",
       ".xr-array-data,\n",
       ".xr-array-in:checked ~ .xr-array-preview {\n",
       "  display: none;\n",
       "}\n",
       "\n",
       ".xr-array-in:checked ~ .xr-array-data,\n",
       ".xr-array-preview {\n",
       "  display: inline-block;\n",
       "}\n",
       "\n",
       ".xr-dim-list {\n",
       "  display: inline-block !important;\n",
       "  list-style: none;\n",
       "  padding: 0 !important;\n",
       "  margin: 0;\n",
       "}\n",
       "\n",
       ".xr-dim-list li {\n",
       "  display: inline-block;\n",
       "  padding: 0;\n",
       "  margin: 0;\n",
       "}\n",
       "\n",
       ".xr-dim-list:before {\n",
       "  content: '(';\n",
       "}\n",
       "\n",
       ".xr-dim-list:after {\n",
       "  content: ')';\n",
       "}\n",
       "\n",
       ".xr-dim-list li:not(:last-child):after {\n",
       "  content: ',';\n",
       "  padding-right: 5px;\n",
       "}\n",
       "\n",
       ".xr-has-index {\n",
       "  font-weight: bold;\n",
       "}\n",
       "\n",
       ".xr-var-list,\n",
       ".xr-var-item {\n",
       "  display: contents;\n",
       "}\n",
       "\n",
       ".xr-var-item > div,\n",
       ".xr-var-item label,\n",
       ".xr-var-item > .xr-var-name span {\n",
       "  background-color: var(--xr-background-color-row-even);\n",
       "  margin-bottom: 0;\n",
       "}\n",
       "\n",
       ".xr-var-item > .xr-var-name:hover span {\n",
       "  padding-right: 5px;\n",
       "}\n",
       "\n",
       ".xr-var-list > li:nth-child(odd) > div,\n",
       ".xr-var-list > li:nth-child(odd) > label,\n",
       ".xr-var-list > li:nth-child(odd) > .xr-var-name span {\n",
       "  background-color: var(--xr-background-color-row-odd);\n",
       "}\n",
       "\n",
       ".xr-var-name {\n",
       "  grid-column: 1;\n",
       "}\n",
       "\n",
       ".xr-var-dims {\n",
       "  grid-column: 2;\n",
       "}\n",
       "\n",
       ".xr-var-dtype {\n",
       "  grid-column: 3;\n",
       "  text-align: right;\n",
       "  color: var(--xr-font-color2);\n",
       "}\n",
       "\n",
       ".xr-var-preview {\n",
       "  grid-column: 4;\n",
       "}\n",
       "\n",
       ".xr-var-name,\n",
       ".xr-var-dims,\n",
       ".xr-var-dtype,\n",
       ".xr-preview,\n",
       ".xr-attrs dt {\n",
       "  white-space: nowrap;\n",
       "  overflow: hidden;\n",
       "  text-overflow: ellipsis;\n",
       "  padding-right: 10px;\n",
       "}\n",
       "\n",
       ".xr-var-name:hover,\n",
       ".xr-var-dims:hover,\n",
       ".xr-var-dtype:hover,\n",
       ".xr-attrs dt:hover {\n",
       "  overflow: visible;\n",
       "  width: auto;\n",
       "  z-index: 1;\n",
       "}\n",
       "\n",
       ".xr-var-attrs,\n",
       ".xr-var-data {\n",
       "  display: none;\n",
       "  background-color: var(--xr-background-color) !important;\n",
       "  padding-bottom: 5px !important;\n",
       "}\n",
       "\n",
       ".xr-var-attrs-in:checked ~ .xr-var-attrs,\n",
       ".xr-var-data-in:checked ~ .xr-var-data {\n",
       "  display: block;\n",
       "}\n",
       "\n",
       ".xr-var-data > table {\n",
       "  float: right;\n",
       "}\n",
       "\n",
       ".xr-var-name span,\n",
       ".xr-var-data,\n",
       ".xr-attrs {\n",
       "  padding-left: 25px !important;\n",
       "}\n",
       "\n",
       ".xr-attrs,\n",
       ".xr-var-attrs,\n",
       ".xr-var-data {\n",
       "  grid-column: 1 / -1;\n",
       "}\n",
       "\n",
       "dl.xr-attrs {\n",
       "  padding: 0;\n",
       "  margin: 0;\n",
       "  display: grid;\n",
       "  grid-template-columns: 125px auto;\n",
       "}\n",
       "\n",
       ".xr-attrs dt,\n",
       ".xr-attrs dd {\n",
       "  padding: 0;\n",
       "  margin: 0;\n",
       "  float: left;\n",
       "  padding-right: 10px;\n",
       "  width: auto;\n",
       "}\n",
       "\n",
       ".xr-attrs dt {\n",
       "  font-weight: normal;\n",
       "  grid-column: 1;\n",
       "}\n",
       "\n",
       ".xr-attrs dt:hover span {\n",
       "  display: inline-block;\n",
       "  background: var(--xr-background-color);\n",
       "  padding-right: 10px;\n",
       "}\n",
       "\n",
       ".xr-attrs dd {\n",
       "  grid-column: 2;\n",
       "  white-space: pre-wrap;\n",
       "  word-break: break-all;\n",
       "}\n",
       "\n",
       ".xr-icon-database,\n",
       ".xr-icon-file-text2 {\n",
       "  display: inline-block;\n",
       "  vertical-align: middle;\n",
       "  width: 1em;\n",
       "  height: 1.5em !important;\n",
       "  stroke-width: 0;\n",
       "  stroke: currentColor;\n",
       "  fill: currentColor;\n",
       "}\n",
       "</style><pre class='xr-text-repr-fallback'>&lt;xarray.Dataset&gt;\n",
       "Dimensions:          (chain: 4, draw: 1000, mu_artist_dim_0: 44)\n",
       "Coordinates:\n",
       "  * chain            (chain) int64 0 1 2 3\n",
       "  * draw             (draw) int64 0 1 2 3 4 5 6 ... 993 994 995 996 997 998 999\n",
       "  * mu_artist_dim_0  (mu_artist_dim_0) &lt;U18 &#x27;Alok&#x27; ... &#x27;Zeds Dead&#x27;\n",
       "Data variables:\n",
       "    mu_artist        (chain, draw, mu_artist_dim_0) float64 61.35 58.7 ... 49.08\n",
       "    global_sigma     (chain, draw) float64 14.09 13.88 13.82 ... 13.54 14.87\n",
       "Attributes:\n",
       "    created_at:                 2022-11-10T12:37:06.464280\n",
       "    arviz_version:              0.12.1\n",
       "    inference_library:          pymc3\n",
       "    inference_library_version:  3.11.5\n",
       "    sampling_time:              21.460664749145508\n",
       "    tuning_steps:               1000</pre><div class='xr-wrap' hidden><div class='xr-header'><div class='xr-obj-type'>xarray.Dataset</div></div><ul class='xr-sections'><li class='xr-section-item'><input id='section-eda527a6-5954-4a1d-9057-5c77cc267f48' class='xr-section-summary-in' type='checkbox' disabled ><label for='section-eda527a6-5954-4a1d-9057-5c77cc267f48' class='xr-section-summary'  title='Expand/collapse section'>Dimensions:</label><div class='xr-section-inline-details'><ul class='xr-dim-list'><li><span class='xr-has-index'>chain</span>: 4</li><li><span class='xr-has-index'>draw</span>: 1000</li><li><span class='xr-has-index'>mu_artist_dim_0</span>: 44</li></ul></div><div class='xr-section-details'></div></li><li class='xr-section-item'><input id='section-b08cb91b-9c76-4b1c-a2e1-06cda77feecb' class='xr-section-summary-in' type='checkbox'  checked><label for='section-b08cb91b-9c76-4b1c-a2e1-06cda77feecb' class='xr-section-summary' >Coordinates: <span>(3)</span></label><div class='xr-section-inline-details'></div><div class='xr-section-details'><ul class='xr-var-list'><li class='xr-var-item'><div class='xr-var-name'><span class='xr-has-index'>chain</span></div><div class='xr-var-dims'>(chain)</div><div class='xr-var-dtype'>int64</div><div class='xr-var-preview xr-preview'>0 1 2 3</div><input id='attrs-e3687399-f822-438b-a5d9-31da36a48733' class='xr-var-attrs-in' type='checkbox' disabled><label for='attrs-e3687399-f822-438b-a5d9-31da36a48733' title='Show/Hide attributes'><svg class='icon xr-icon-file-text2'><use xlink:href='#icon-file-text2'></use></svg></label><input id='data-2f60a9fe-457a-4f9b-8777-7f781fd2fc13' class='xr-var-data-in' type='checkbox'><label for='data-2f60a9fe-457a-4f9b-8777-7f781fd2fc13' title='Show/Hide data repr'><svg class='icon xr-icon-database'><use xlink:href='#icon-database'></use></svg></label><div class='xr-var-attrs'><dl class='xr-attrs'></dl></div><div class='xr-var-data'><pre>array([0, 1, 2, 3])</pre></div></li><li class='xr-var-item'><div class='xr-var-name'><span class='xr-has-index'>draw</span></div><div class='xr-var-dims'>(draw)</div><div class='xr-var-dtype'>int64</div><div class='xr-var-preview xr-preview'>0 1 2 3 4 5 ... 995 996 997 998 999</div><input id='attrs-e667ccd3-9c35-431b-b033-387f027714e3' class='xr-var-attrs-in' type='checkbox' disabled><label for='attrs-e667ccd3-9c35-431b-b033-387f027714e3' title='Show/Hide attributes'><svg class='icon xr-icon-file-text2'><use xlink:href='#icon-file-text2'></use></svg></label><input id='data-7b68bc07-2933-4631-90f9-39de85e755d9' class='xr-var-data-in' type='checkbox'><label for='data-7b68bc07-2933-4631-90f9-39de85e755d9' title='Show/Hide data repr'><svg class='icon xr-icon-database'><use xlink:href='#icon-database'></use></svg></label><div class='xr-var-attrs'><dl class='xr-attrs'></dl></div><div class='xr-var-data'><pre>array([  0,   1,   2, ..., 997, 998, 999])</pre></div></li><li class='xr-var-item'><div class='xr-var-name'><span class='xr-has-index'>mu_artist_dim_0</span></div><div class='xr-var-dims'>(mu_artist_dim_0)</div><div class='xr-var-dtype'>&lt;U18</div><div class='xr-var-preview xr-preview'>&#x27;Alok&#x27; ... &#x27;Zeds Dead&#x27;</div><input id='attrs-ef2f0b32-0c04-4566-b580-8261d31d7482' class='xr-var-attrs-in' type='checkbox' disabled><label for='attrs-ef2f0b32-0c04-4566-b580-8261d31d7482' title='Show/Hide attributes'><svg class='icon xr-icon-file-text2'><use xlink:href='#icon-file-text2'></use></svg></label><input id='data-a54bd9d8-9d2d-4ffe-9831-16ae778d0933' class='xr-var-data-in' type='checkbox'><label for='data-a54bd9d8-9d2d-4ffe-9831-16ae778d0933' title='Show/Hide data repr'><svg class='icon xr-icon-database'><use xlink:href='#icon-database'></use></svg></label><div class='xr-var-attrs'><dl class='xr-attrs'></dl></div><div class='xr-var-data'><pre>array([&#x27;Alok&#x27;, &#x27;Atlas Genius&#x27;, &#x27;Au/Ra&#x27;, &#x27;BUNT.&#x27;, &#x27;Beyoncé&#x27;,\n",
       "       &#x27;Black Stone Cherry&#x27;, &#x27;C-Kan&#x27;, &#x27;Camila Cabello&#x27;, &#x27;Camilo&#x27;,\n",
       "       &#x27;Chris Goldarg&#x27;, &#x27;DA Image&#x27;, &#x27;David Lee Roth&#x27;, &#x27;Elisa&#x27;, &#x27;Frank Ocean&#x27;,\n",
       "       &#x27;Freestyle&#x27;, &#x27;Hinder&#x27;, &#x27;Honeywagon&#x27;, &#x27;House Of Pain&#x27;, &#x27;J. Cole&#x27;,\n",
       "       &#x27;Jazzinuf&#x27;, &#x27;Jean Juan&#x27;, &#x27;Kendrick Lamar&#x27;, &#x27;Kid Frost&#x27;, &#x27;León Larregui&#x27;,\n",
       "       &#x27;Lil Skies&#x27;, &#x27;MTK&#x27;, &#x27;Mia X&#x27;, &#x27;Michael Kiwanuka&#x27;, &#x27;Mike WiLL Made-It&#x27;,\n",
       "       &#x27;Missy Elliott&#x27;, &#x27;NODE&#x27;, &#x27;Placebo&#x27;, &#x27;Röyksopp&#x27;, &#x27;Sean Kingston&#x27;,\n",
       "       &#x27;Soul&amp;Roll&#x27;, &#x27;Sufjan Stevens&#x27;, &#x27;TV Noise&#x27;, &#x27;Tamar Braxton&#x27;, &#x27;The Blaze&#x27;,\n",
       "       &#x27;The Wrecks&#x27;, &#x27;The xx&#x27;, &#x27;Vampire Weekend&#x27;, &#x27;X Ambassadors&#x27;, &#x27;Zeds Dead&#x27;],\n",
       "      dtype=&#x27;&lt;U18&#x27;)</pre></div></li></ul></div></li><li class='xr-section-item'><input id='section-da18c5e9-e76a-4ed0-8a0b-75a951465e05' class='xr-section-summary-in' type='checkbox'  checked><label for='section-da18c5e9-e76a-4ed0-8a0b-75a951465e05' class='xr-section-summary' >Data variables: <span>(2)</span></label><div class='xr-section-inline-details'></div><div class='xr-section-details'><ul class='xr-var-list'><li class='xr-var-item'><div class='xr-var-name'><span>mu_artist</span></div><div class='xr-var-dims'>(chain, draw, mu_artist_dim_0)</div><div class='xr-var-dtype'>float64</div><div class='xr-var-preview xr-preview'>61.35 58.7 65.63 ... 51.91 49.08</div><input id='attrs-55b3f777-2bb0-4b5a-b7f8-60e6551dd21e' class='xr-var-attrs-in' type='checkbox' disabled><label for='attrs-55b3f777-2bb0-4b5a-b7f8-60e6551dd21e' title='Show/Hide attributes'><svg class='icon xr-icon-file-text2'><use xlink:href='#icon-file-text2'></use></svg></label><input id='data-06b27035-ac74-4a79-96ab-b89b09e1e677' class='xr-var-data-in' type='checkbox'><label for='data-06b27035-ac74-4a79-96ab-b89b09e1e677' title='Show/Hide data repr'><svg class='icon xr-icon-database'><use xlink:href='#icon-database'></use></svg></label><div class='xr-var-attrs'><dl class='xr-attrs'></dl></div><div class='xr-var-data'><pre>array([[[61.35307893, 58.69859928, 65.62952922, ..., 67.22326444,\n",
       "         50.6367322 , 41.24737604],\n",
       "        [67.9722802 , 34.09141451, 51.87667821, ..., 54.89152973,\n",
       "         64.99647286, 59.74024848],\n",
       "        [67.88163529, 30.68881943, 55.00892957, ..., 53.77555725,\n",
       "         58.29461284, 53.50425538],\n",
       "        ...,\n",
       "        [71.22431659, 42.13202167, 52.7652828 , ..., 63.25476447,\n",
       "         60.52004584, 59.13552878],\n",
       "        [62.96656605, 41.14463873, 56.86167031, ..., 58.22750426,\n",
       "         54.5529954 , 38.3323307 ],\n",
       "        [67.14221873, 42.94076947, 64.35534862, ..., 60.24303494,\n",
       "         55.01429133, 60.70587452]],\n",
       "\n",
       "       [[62.0402499 , 39.72947689, 61.33322173, ..., 61.63493931,\n",
       "         56.19494706, 49.25008872],\n",
       "        [66.91597616, 51.40342954, 58.84275076, ..., 65.61931781,\n",
       "         60.83652449, 54.58485555],\n",
       "        [62.31785455, 43.29054287, 61.5108044 , ..., 61.09772948,\n",
       "         56.2227661 , 49.44733004],\n",
       "...\n",
       "        [66.13288535, 46.75027004, 68.0406222 , ..., 57.95578792,\n",
       "         52.4504796 , 41.52943865],\n",
       "        [62.34982763, 46.60096639, 49.7049552 , ..., 69.59283431,\n",
       "         57.91387477, 58.79388538],\n",
       "        [69.03864866, 46.6034043 , 70.50482847, ..., 54.9620404 ,\n",
       "         57.81971061, 45.09769969]],\n",
       "\n",
       "       [[69.63535901, 49.64219289, 63.53457652, ..., 56.139786  ,\n",
       "         63.71045637, 47.92286326],\n",
       "        [69.01301726, 46.0204781 , 61.72035044, ..., 62.42772153,\n",
       "         57.61319624, 52.78235215],\n",
       "        [60.39959228, 45.30810792, 57.024115  , ..., 64.21645995,\n",
       "         56.16017385, 47.08952791],\n",
       "        ...,\n",
       "        [54.90547226, 38.84488552, 60.85461318, ..., 57.72494189,\n",
       "         55.7227804 , 46.38704898],\n",
       "        [64.20280908, 48.76462406, 48.96873315, ..., 66.48370309,\n",
       "         52.81885765, 46.08309228],\n",
       "        [65.05045051, 54.39939594, 58.73225175, ..., 68.9458942 ,\n",
       "         51.90517346, 49.08196426]]])</pre></div></li><li class='xr-var-item'><div class='xr-var-name'><span>global_sigma</span></div><div class='xr-var-dims'>(chain, draw)</div><div class='xr-var-dtype'>float64</div><div class='xr-var-preview xr-preview'>14.09 13.88 13.82 ... 13.54 14.87</div><input id='attrs-c1860341-def5-4b49-9058-7ab5314293a2' class='xr-var-attrs-in' type='checkbox' disabled><label for='attrs-c1860341-def5-4b49-9058-7ab5314293a2' title='Show/Hide attributes'><svg class='icon xr-icon-file-text2'><use xlink:href='#icon-file-text2'></use></svg></label><input id='data-44a7a243-85c0-4fae-bdf8-961555cabe4b' class='xr-var-data-in' type='checkbox'><label for='data-44a7a243-85c0-4fae-bdf8-961555cabe4b' title='Show/Hide data repr'><svg class='icon xr-icon-database'><use xlink:href='#icon-database'></use></svg></label><div class='xr-var-attrs'><dl class='xr-attrs'></dl></div><div class='xr-var-data'><pre>array([[14.0936256 , 13.87887204, 13.8227166 , ..., 14.07111724,\n",
       "        13.77025559, 13.90954493],\n",
       "       [14.50657133, 14.05824879, 13.71024833, ..., 13.89624616,\n",
       "        14.09273148, 13.42162037],\n",
       "       [13.83953238, 13.99256374, 13.99276492, ..., 14.32035466,\n",
       "        13.9499469 , 13.70893389],\n",
       "       [14.3601551 , 14.06051593, 14.46289789, ..., 14.5325172 ,\n",
       "        13.54348404, 14.87133128]])</pre></div></li></ul></div></li><li class='xr-section-item'><input id='section-6fc53a12-910a-4341-8c56-143c650eb57a' class='xr-section-summary-in' type='checkbox'  checked><label for='section-6fc53a12-910a-4341-8c56-143c650eb57a' class='xr-section-summary' >Attributes: <span>(6)</span></label><div class='xr-section-inline-details'></div><div class='xr-section-details'><dl class='xr-attrs'><dt><span>created_at :</span></dt><dd>2022-11-10T12:37:06.464280</dd><dt><span>arviz_version :</span></dt><dd>0.12.1</dd><dt><span>inference_library :</span></dt><dd>pymc3</dd><dt><span>inference_library_version :</span></dt><dd>3.11.5</dd><dt><span>sampling_time :</span></dt><dd>21.460664749145508</dd><dt><span>tuning_steps :</span></dt><dd>1000</dd></dl></div></li></ul></div></div>"
      ],
      "text/plain": [
       "<xarray.Dataset>\n",
       "Dimensions:          (chain: 4, draw: 1000, mu_artist_dim_0: 44)\n",
       "Coordinates:\n",
       "  * chain            (chain) int64 0 1 2 3\n",
       "  * draw             (draw) int64 0 1 2 3 4 5 6 ... 993 994 995 996 997 998 999\n",
       "  * mu_artist_dim_0  (mu_artist_dim_0) <U18 'Alok' ... 'Zeds Dead'\n",
       "Data variables:\n",
       "    mu_artist        (chain, draw, mu_artist_dim_0) float64 61.35 58.7 ... 49.08\n",
       "    global_sigma     (chain, draw) float64 14.09 13.88 13.82 ... 13.54 14.87\n",
       "Attributes:\n",
       "    created_at:                 2022-11-10T12:37:06.464280\n",
       "    arviz_version:              0.12.1\n",
       "    inference_library:          pymc3\n",
       "    inference_library_version:  3.11.5\n",
       "    sampling_time:              21.460664749145508\n",
       "    tuning_steps:               1000"
      ]
     },
     "execution_count": 37,
     "metadata": {},
     "output_type": "execute_result"
    }
   ],
   "source": [
    "trace_unpooled_.posterior"
   ]
  },
  {
   "cell_type": "code",
   "execution_count": 50,
   "metadata": {},
   "outputs": [
    {
     "data": {
      "text/html": [
       "<div>\n",
       "<style scoped>\n",
       "    .dataframe tbody tr th:only-of-type {\n",
       "        vertical-align: middle;\n",
       "    }\n",
       "\n",
       "    .dataframe tbody tr th {\n",
       "        vertical-align: top;\n",
       "    }\n",
       "\n",
       "    .dataframe thead th {\n",
       "        text-align: right;\n",
       "    }\n",
       "</style>\n",
       "<table border=\"1\" class=\"dataframe\">\n",
       "  <thead>\n",
       "    <tr style=\"text-align: right;\">\n",
       "      <th></th>\n",
       "      <th>mean</th>\n",
       "      <th>sd</th>\n",
       "      <th>hdi_3%</th>\n",
       "      <th>hdi_97%</th>\n",
       "      <th>mcse_mean</th>\n",
       "      <th>mcse_sd</th>\n",
       "      <th>ess_bulk</th>\n",
       "      <th>ess_tail</th>\n",
       "      <th>r_hat</th>\n",
       "    </tr>\n",
       "  </thead>\n",
       "  <tbody>\n",
       "    <tr>\n",
       "      <th>mu_artist</th>\n",
       "      <td>69.357</td>\n",
       "      <td>2.7</td>\n",
       "      <td>64.277</td>\n",
       "      <td>74.299</td>\n",
       "      <td>0.025</td>\n",
       "      <td>0.018</td>\n",
       "      <td>11875.0</td>\n",
       "      <td>2564.0</td>\n",
       "      <td>1.0</td>\n",
       "    </tr>\n",
       "  </tbody>\n",
       "</table>\n",
       "</div>"
      ],
      "text/plain": [
       "             mean   sd  hdi_3%  hdi_97%  mcse_mean  mcse_sd  ess_bulk  \\\n",
       "mu_artist  69.357  2.7  64.277   74.299      0.025    0.018   11875.0   \n",
       "\n",
       "           ess_tail  r_hat  \n",
       "mu_artist    2564.0    1.0  "
      ]
     },
     "execution_count": 50,
     "metadata": {},
     "output_type": "execute_result"
    }
   ],
   "source": [
    "az.summary(trace_unpooled_, var_names='mu_artist', coords={\"mu_artist_dim_0\": \"Beyoncé\"})"
   ]
  },
  {
   "cell_type": "markdown",
   "metadata": {
    "slideshow": {
     "slide_type": "slide"
    }
   },
   "source": [
    "# Shrinkage: pulling the estimates towards the grand mean\n",
    "\n",
    "*  The pooled  model ignores the fact that our data is grouped by artist;  the  posterior mean popularity was the same for each artist   (grand mean), roughly corresponding to the mean popularity of the 350 available songs.\n",
    "\n",
    "\n",
    "*  The unpooled model separately analyzes each artist;  its predictive means are roughly equivalent to the sample mean popularity of  each artist. It does not use the grand mean.\n",
    "\n",
    "\n",
    "* The hierarchical model pulls  (or *shrunk*) the posterior means of the unpooled model  toward the grand mean.\n"
   ]
  },
  {
   "cell_type": "markdown",
   "metadata": {
    "slideshow": {
     "slide_type": "slide"
    }
   },
   "source": [
    "# Shrinkage == arrivato qui\n",
    "\n",
    "* It the variances $\\sigma^2$ and  $\\sigma^2_{\\mu}$ are fixed, the posterior mean computed by the hierarchical model for  artist $j$  is: \n",
    "\n",
    "$$\n",
    "\\overline{y}_{j,\\text{hier}} =\n",
    "\\underbrace{\n",
    "\\frac{\\sigma^2}{\\sigma^2 + n_j \\sigma^2_{\\mu}}\n",
    "}_{\\text{weight of the grand mean}}\n",
    "\\overline{y}_{\\text{global}} + \n",
    "\\underbrace{\n",
    "\\frac{n_j\\sigma^2_{\\mu}}{\\sigma^2+ n_j \\sigma^2_{\\mu}}\n",
    "}_{\\text{weight of the estimate of the unpooled model}}\n",
    "\\overline{y}_j\n",
    "$$\n",
    "\n",
    "\n",
    "* This is not our case, as we treat both variances as parameters. Yet, we can use  the above formula to understand *shrinkage*.\n",
    "\n",
    "* The weight of   local model increases when we have more data ($n_j$) about artist $j$.\n",
    "* The weights also depend on $\\sigma_y$: the larger $\\sigma_y$ and hence the variability of popularity for the same artist, the larger the weight of the global model (we cannot trust much the means  $\\overline{y}_j$)."
   ]
  },
  {
   "cell_type": "markdown",
   "metadata": {
    "slideshow": {
     "slide_type": "slide"
    }
   },
   "source": [
    "# Shrinkage\n",
    "\n",
    "$$\n",
    "\\overline{y}_{j,\\text{hier}} =\n",
    "\\underbrace{\n",
    "\\frac{\\sigma^2_y}{\\sigma^2_y + n_j \\sigma^2_{\\mu}}\n",
    "}_{\\text{weight of the global model}}\n",
    "\\overline{y}_{\\text{global}} + \n",
    "\\underbrace{\n",
    "\\frac{n_j\\sigma^2_{\\mu}}{\\sigma^2_y + n_j \\sigma^2_{\\mu}}\n",
    "}_{\\text{weight of the estimate of the  model}}\n",
    "\\overline{y}_j\n",
    "$$\n",
    "\n",
    "* Scenarios in which the hierarchical posterior predictions shrinks towards the global mean:\n",
    "\n",
    "*  $n_j$ is low:  we rely more on global trends to understand a group for which we have little data.\n",
    "\n",
    "* the variability of popularity for songs of the same artist ($\\sigma_y$) is large in comparison to the variability the mean populatrity of the artists $\\sigma_{\\mu}$.\n",
    "\n",
    "*  the models learns that  artist are very similar to each other ($\\sigma_{\\mu}$ is low), it increases the weight of the pooled model."
   ]
  },
  {
   "cell_type": "code",
   "execution_count": 23,
   "metadata": {
    "slideshow": {
     "slide_type": "slide"
    }
   },
   "outputs": [
    {
     "data": {
      "image/png": "[encoded data removed]",
      "text/plain": [
       "<Figure size 800x300 with 1 Axes>"
      ]
     },
     "metadata": {},
     "output_type": "display_data"
    }
   ],
   "source": [
    "# here we define shrinkage as the difference between the posterior mean of the hierarchical model \n",
    "# and the unpooled model, in absolute value.\n",
    "# We show the amount of shrinkage, in absolute value, as a function of the number of songs for each artist\n",
    "\n",
    "n_j = spotify['artist'].value_counts(sort=False)\n",
    "mean_unpooled = az.summary(trace_unpooled, var_names=[\"mu_artist\"])[\"mean\"]\n",
    "mean_hier = az.summary(trace_hier, var_names=[\"mu_artist\"])[\"mean\"]\n",
    "\n",
    "#absolute value of the shrinkage\n",
    "shrinkage = pd.Series((mean_hier-mean_unpooled).values, index=artists).abs()\n",
    "\n",
    "df = pd.concat([n_j, shrinkage], axis=1)\n",
    "df.columns = [\"n_j\", \"shrinkage\"]\n",
    "plt.plot(df[\"n_j\"], df[\"shrinkage\"], \"*\")\n",
    "plt.xlabel(\"n_j\")\n",
    "plt.ylabel(\"shrinkage\"); "
   ]
  },
  {
   "cell_type": "markdown",
   "metadata": {
    "slideshow": {
     "slide_type": "slide"
    }
   },
   "source": [
    "# Grouping variable or covariate?\n",
    "\n",
    "* Suppose our dataset includes a categorical variable  $X$\n",
    "\n",
    "\n",
    "* Should $X$  be modeled  hierarchically or as a categorical variable (categorical covariate)?\n",
    "\n",
    "    *   if the observed data on $X$ covers all categories of interest, it is  better treated as a covariate\n",
    "    \n",
    "    *  if the observed categories is a random sample from many possible ones, it is a potential grouping variable.\n"
   ]
  },
  {
   "cell_type": "markdown",
   "metadata": {
    "slideshow": {
     "slide_type": "slide"
    }
   },
   "source": [
    "# Grouping variable or covariate?\n",
    "\n",
    "\n",
    "* Our data set includes only  44 among thousands of artists on Spotify. Hence, treating artist as a covariate (as in the unpooled model) would limit our understanding only to  this small number of artists.\n",
    "\n",
    "\n",
    "* Treating it as a grouping variable (as in the hierarchical model) allows us to not only learn about the 44 artists in our data, but the broader population of artists from which they were sampled.\n"
   ]
  },
  {
   "cell_type": "markdown",
   "metadata": {
    "slideshow": {
     "slide_type": "slide"
    }
   },
   "source": [
    "# Grouping variable or covariate?\n",
    "\n",
    "* Consider a daily data set of bike-sharing covering two years; for each day we know whether it was a weekday or a weekend.\n",
    "\n",
    "* Is the weekend variable a grouping variable or  a covariate?\n",
    "\n",
    "    * There are only two possible categories: weekend and weekday.\n",
    "    * The dataset covers both categories, with many observations for each category.\n",
    "    * Hence  it is a covariate."
   ]
  },
  {
   "cell_type": "markdown",
   "metadata": {
    "slideshow": {
     "slide_type": "slide"
    }
   },
   "source": [
    "# Grouping variable or covariate?\n",
    "\n",
    "* Consider a data set containing math scores  from a sample of 10 Swiss primary schools. \n",
    "\n",
    "\n",
    "* These 10 schools are merely a small sample from the hundreds  of Swiss primary schools.\n",
    "    * The `school_id`, treated as a covariate (unpooled model) would only allow us to learn about our small sample of schools.\n",
    "    * Treating it as a grouping variable in a hierarchical model  would allow us to extend our conclusions to the broader population of all schools; this is a better modelling choice.\n",
    "    \n",
    "    \n",
    "* The same consideration applies if you want to analyze e.g. data of a certain disease collected by different hospitals, in which case the involved hospitals can be modelled as a grouping variable."
   ]
  },
  {
   "cell_type": "markdown",
   "metadata": {
    "slideshow": {
     "slide_type": "slide"
    }
   },
   "source": [
    "# Conceptual exercise: modelling fuel prices\n",
    "\n",
    "* Define a hierarchical model for the fuel price which considers  different stations located in the same area over a period of e.g. one month.\n",
    "\n",
    "\n",
    " * Thus $y_{ij}$ is the price of gas at the $j$-th station in the $i$-th day.\n",
    "\n",
    "\n",
    "*  Discuss the meaning of all model parameters ( $\\mu_j$, $\\sigma_y$, $\\mu$, $\\sigma_{\\mu}$).\n",
    "\n",
    "\n",
    "*  Write the probabilistic model defining the priors based on your experience.    "
   ]
  },
  {
   "cell_type": "markdown",
   "metadata": {
    "slideshow": {
     "slide_type": "slide"
    }
   },
   "source": [
    "# Discussion\n",
    "\n",
    "* The pooled model is very rigid  and  miss the nuances in artists’ mean popularity. \n",
    "\n",
    "\n",
    "* No pooled models have the opposite problem. With the built-in flexibility to detect group-specific trends, they tend to have less bias than complete pooled models. But, since they’re tailored to the artists in our sample, it cannot produce predictions regarding  a different set of Spotify artists. Moreover, predictions about artists with limited number of songs have large uncertainty,\n",
    "\n",
    "\n",
    "* Hierarchical models offer a balanced alternative. Unlike complete pooled models, hierarchical models take group-specific trends into account, and thus will be less biased. And unlike no pooled models, hierarchical models take global trends into account, and thus will be less variable. "
   ]
  },
  {
   "cell_type": "markdown",
   "metadata": {
    "slideshow": {
     "slide_type": "slide"
    }
   },
   "source": [
    "# Probabilistic prediction  with the hierarchical model\n",
    "\n",
    "* Let us consider e.g. artist n. 25.\n",
    "\n",
    "* Assuming to access the sample of the trace, our prediction about the popularity of the next song by artist 25 is done simulating, for each sample $s$,: \n",
    " $$y_{25,s}^{new} \\sim N( \\mu_{25,s}, \\sigma_{y,s}) $$\n",
    " \n",
    " * Implement the prediction and check the consistency of the results by:\n",
    "     * using the samples from the trace\n",
    "     * implementing the prediction within the pymc3 model"
   ]
  },
  {
   "cell_type": "markdown",
   "metadata": {
    "slideshow": {
     "slide_type": "slide"
    }
   },
   "source": [
    "# Probabilistic prediction  with the hierarchical model\n",
    "\n",
    "\n",
    "* Write a pseudo-code to predict the popularity of the first  song of a novel artist.\n",
    "\n",
    "\n",
    "* Implement the prediction"
   ]
  },
  {
   "cell_type": "code",
   "execution_count": 24,
   "metadata": {
    "slideshow": {
     "slide_type": "slide"
    }
   },
   "outputs": [
    {
     "ename": "KeyError",
     "evalue": "'sigma_y'",
     "output_type": "error",
     "traceback": [
      "\u001b[0;31m---------------------------------------------------------------------------\u001b[0m",
      "\u001b[0;31mKeyError\u001b[0m                                  Traceback (most recent call last)",
      "File \u001b[0;32m~/opt/anaconda3/envs/bda/lib/python3.9/site-packages/xarray/core/dataset.py:1395\u001b[0m, in \u001b[0;36mDataset._construct_dataarray\u001b[0;34m(self, name)\u001b[0m\n\u001b[1;32m   1394\u001b[0m \u001b[38;5;28;01mtry\u001b[39;00m:\n\u001b[0;32m-> 1395\u001b[0m     variable \u001b[38;5;241m=\u001b[39m \u001b[38;5;28;43mself\u001b[39;49m\u001b[38;5;241;43m.\u001b[39;49m\u001b[43m_variables\u001b[49m\u001b[43m[\u001b[49m\u001b[43mname\u001b[49m\u001b[43m]\u001b[49m\n\u001b[1;32m   1396\u001b[0m \u001b[38;5;28;01mexcept\u001b[39;00m \u001b[38;5;167;01mKeyError\u001b[39;00m:\n",
      "\u001b[0;31mKeyError\u001b[0m: 'sigma_y'",
      "\nDuring handling of the above exception, another exception occurred:\n",
      "\u001b[0;31mKeyError\u001b[0m                                  Traceback (most recent call last)",
      "Input \u001b[0;32mIn [24]\u001b[0m, in \u001b[0;36m<cell line: 4>\u001b[0;34m()\u001b[0m\n\u001b[1;32m      1\u001b[0m \u001b[38;5;66;03m# prediction of the popularity of a new song for artist 25 by  accessing the trace\u001b[39;00m\n\u001b[1;32m      3\u001b[0m a \u001b[38;5;241m=\u001b[39m az\u001b[38;5;241m.\u001b[39mextract_dataset(trace_hier)\n\u001b[0;32m----> 4\u001b[0m y_new_25 \u001b[38;5;241m=\u001b[39m np\u001b[38;5;241m.\u001b[39mrandom\u001b[38;5;241m.\u001b[39mnormal (loc \u001b[38;5;241m=\u001b[39m a[\u001b[38;5;124m\"\u001b[39m\u001b[38;5;124mmu_artist\u001b[39m\u001b[38;5;124m\"\u001b[39m][\u001b[38;5;241m25\u001b[39m],  scale \u001b[38;5;241m=\u001b[39m \u001b[43ma\u001b[49m\u001b[43m[\u001b[49m\u001b[38;5;124;43m\"\u001b[39;49m\u001b[38;5;124;43msigma_y\u001b[39;49m\u001b[38;5;124;43m\"\u001b[39;49m\u001b[43m]\u001b[49m)\n\u001b[1;32m      5\u001b[0m pd\u001b[38;5;241m.\u001b[39mDataFrame(y_new_25)\u001b[38;5;241m.\u001b[39mdescribe(percentiles\u001b[38;5;241m=\u001b[39m[\u001b[38;5;241m0.03\u001b[39m,\u001b[38;5;241m0.97\u001b[39m])\n",
      "File \u001b[0;32m~/opt/anaconda3/envs/bda/lib/python3.9/site-packages/xarray/core/dataset.py:1499\u001b[0m, in \u001b[0;36mDataset.__getitem__\u001b[0;34m(self, key)\u001b[0m\n\u001b[1;32m   1496\u001b[0m     \u001b[38;5;28;01mreturn\u001b[39;00m \u001b[38;5;28mself\u001b[39m\u001b[38;5;241m.\u001b[39misel(\u001b[38;5;241m*\u001b[39m\u001b[38;5;241m*\u001b[39mcast(Mapping, key))\n\u001b[1;32m   1498\u001b[0m \u001b[38;5;28;01mif\u001b[39;00m hashable(key):\n\u001b[0;32m-> 1499\u001b[0m     \u001b[38;5;28;01mreturn\u001b[39;00m \u001b[38;5;28;43mself\u001b[39;49m\u001b[38;5;241;43m.\u001b[39;49m\u001b[43m_construct_dataarray\u001b[49m\u001b[43m(\u001b[49m\u001b[43mkey\u001b[49m\u001b[43m)\u001b[49m\n\u001b[1;32m   1500\u001b[0m \u001b[38;5;28;01melse\u001b[39;00m:\n\u001b[1;32m   1501\u001b[0m     \u001b[38;5;28;01mreturn\u001b[39;00m \u001b[38;5;28mself\u001b[39m\u001b[38;5;241m.\u001b[39m_copy_listed(key)\n",
      "File \u001b[0;32m~/opt/anaconda3/envs/bda/lib/python3.9/site-packages/xarray/core/dataset.py:1397\u001b[0m, in \u001b[0;36mDataset._construct_dataarray\u001b[0;34m(self, name)\u001b[0m\n\u001b[1;32m   1395\u001b[0m     variable \u001b[38;5;241m=\u001b[39m \u001b[38;5;28mself\u001b[39m\u001b[38;5;241m.\u001b[39m_variables[name]\n\u001b[1;32m   1396\u001b[0m \u001b[38;5;28;01mexcept\u001b[39;00m \u001b[38;5;167;01mKeyError\u001b[39;00m:\n\u001b[0;32m-> 1397\u001b[0m     _, name, variable \u001b[38;5;241m=\u001b[39m \u001b[43m_get_virtual_variable\u001b[49m\u001b[43m(\u001b[49m\n\u001b[1;32m   1398\u001b[0m \u001b[43m        \u001b[49m\u001b[38;5;28;43mself\u001b[39;49m\u001b[38;5;241;43m.\u001b[39;49m\u001b[43m_variables\u001b[49m\u001b[43m,\u001b[49m\u001b[43m \u001b[49m\u001b[43mname\u001b[49m\u001b[43m,\u001b[49m\u001b[43m \u001b[49m\u001b[38;5;28;43mself\u001b[39;49m\u001b[38;5;241;43m.\u001b[39;49m\u001b[43m_level_coords\u001b[49m\u001b[43m,\u001b[49m\u001b[43m \u001b[49m\u001b[38;5;28;43mself\u001b[39;49m\u001b[38;5;241;43m.\u001b[39;49m\u001b[43mdims\u001b[49m\n\u001b[1;32m   1399\u001b[0m \u001b[43m    \u001b[49m\u001b[43m)\u001b[49m\n\u001b[1;32m   1401\u001b[0m needed_dims \u001b[38;5;241m=\u001b[39m \u001b[38;5;28mset\u001b[39m(variable\u001b[38;5;241m.\u001b[39mdims)\n\u001b[1;32m   1403\u001b[0m coords: Dict[Hashable, Variable] \u001b[38;5;241m=\u001b[39m {}\n",
      "File \u001b[0;32m~/opt/anaconda3/envs/bda/lib/python3.9/site-packages/xarray/core/dataset.py:170\u001b[0m, in \u001b[0;36m_get_virtual_variable\u001b[0;34m(variables, key, level_vars, dim_sizes)\u001b[0m\n\u001b[1;32m    168\u001b[0m     ref_var \u001b[38;5;241m=\u001b[39m dim_var\u001b[38;5;241m.\u001b[39mto_index_variable()\u001b[38;5;241m.\u001b[39mget_level_variable(ref_name)\n\u001b[1;32m    169\u001b[0m \u001b[38;5;28;01melse\u001b[39;00m:\n\u001b[0;32m--> 170\u001b[0m     ref_var \u001b[38;5;241m=\u001b[39m \u001b[43mvariables\u001b[49m\u001b[43m[\u001b[49m\u001b[43mref_name\u001b[49m\u001b[43m]\u001b[49m\n\u001b[1;32m    172\u001b[0m \u001b[38;5;28;01mif\u001b[39;00m var_name \u001b[38;5;129;01mis\u001b[39;00m \u001b[38;5;28;01mNone\u001b[39;00m:\n\u001b[1;32m    173\u001b[0m     virtual_var \u001b[38;5;241m=\u001b[39m ref_var\n",
      "\u001b[0;31mKeyError\u001b[0m: 'sigma_y'"
     ]
    }
   ],
   "source": [
    "# prediction of the popularity of a new song for artist 25 by  accessing the trace\n",
    "\n",
    "a = az.extract_dataset(trace_hier)\n",
    "y_new_25 = np.random.normal (loc = a[\"mu_artist\"][25],  scale = a[\"sigma_y\"])\n",
    "pd.DataFrame(y_new_25).describe(percentiles=[0.03,0.97])\n",
    "\n",
    "# a very few sampled data are negative. Can you trace the reason of this problem and provide a solution?"
   ]
  },
  {
   "cell_type": "code",
   "execution_count": null,
   "metadata": {
    "slideshow": {
     "slide_type": "slide"
    }
   },
   "outputs": [],
   "source": [
    "n_artist = len(artist_count) #44\n",
    "\n",
    "with pm.Model() as hier_model_with_preds:\n",
    "    \n",
    "    # layer 1: prior on the parameters of the population of artists (hyper-priors). \n",
    "    # prior beliefs about the location of the mean popularity within the population of artists\n",
    "    mu_population          = pm.Normal ('mu_p', 50,  20)\n",
    "    sigma_mu = pm.HalfNormal ('sigma_mu', 6)\n",
    "    sigma_y      = pm.HalfNormal ('sigma', 15)\n",
    "\n",
    "    \n",
    "    # layer 2: model of the population of artists.\n",
    "    mu_artist  =  pm.Normal ('mu_artist', mu_population,  sigma_mu, shape= n_artist)\n",
    "    sigma_y     = pm.HalfNormal ('sigma_y', sd = sigma_y)\n",
    "\n",
    "    #layer 3 (observation specific for each artist)\n",
    "    popularity    =  pm.Normal ('popularity', mu = mu_artist[spotify['artist_code']],  sigma = sigma_y, observed = spotify[\"popularity\"])\n",
    "    \n",
    "    # == PREDICTIONS\n",
    "    #prediction of popularity for the next song of  artist 25\n",
    "    prediction_artist25 = pm.Normal('prediction_artist25', mu = mu_artist[25],  sigma = sigma_y)\n",
    "    \n",
    "    #prediction of popularity for a song from a  novel artist. This requires two steps.\n",
    "    # step 1:  sample the popularity mu_j of the new artist, by sampling from the population of artists.\n",
    "    mu_new_artist = pm.Normal('new_mean', mu=mu_population, sigma=sigma_mu)\n",
    "    # step 2:  sample the popularity of a song using the sampled values mu_j for the unknown artist popularity\n",
    "    prediction_new_artist = pm.Normal('prediction_new_artist', mu = mu_new_artist,  sigma = sigma_y)\n",
    "    \n",
    "    trace_hier_with_preds   = pm.sample(return_inferencedata=True)"
   ]
  },
  {
   "cell_type": "code",
   "execution_count": null,
   "metadata": {},
   "outputs": [],
   "source": [
    "# notice the substamtial uncertainty for the prediction of the new artist\n",
    "az.summary(trace_hier_with_preds, var_names=['prediction_artist25', 'prediction_new_artist'])"
   ]
  },
  {
   "cell_type": "markdown",
   "metadata": {
    "slideshow": {
     "slide_type": "slide"
    }
   },
   "source": [
    "# Conceptual exercise \n",
    "\n",
    "* Four friends take a  speed-typing tests. Each person repeat 20 times the typing of a certain word.\n",
    "\n",
    "* Let $y_{ij}$ be the time it takes friend $j$ to complete test $i$.\n",
    "\n",
    "\n",
    "1) Formalize  a hierarchical model, discussing  the meaning of all model parameters: ($μ_j, μ, \\sigma_y, \\sigma_{\\mu}$)\n",
    "\n",
    "    \n",
    "2) Consider the following scenarios and discuss their effect on the posterior distribution of the parameters:\n",
    "\n",
    "    * The overall results of the 20 timed tests are remarkably similar among the four friends.\n",
    "    * Each person is quite consistent in their typing times, but there are big differences from person to person – some tend to type much faster than others.\n",
    "\n",
    "* For each scenario, indicate whether:\n",
    "* $ σ_y<σ_μ$. \n",
    "* $ σ_y≈σ_μ$. \n",
    "* $ σ_y>σ_μ$. "
   ]
  }
 ],
 "metadata": {
  "celltoolbar": "Slideshow",
  "hide_input": false,
  "kernelspec": {
   "display_name": "Python 3 (ipykernel)",
   "language": "python",
   "name": "python3"
  },
  "language_info": {
   "codemirror_mode": {
    "name": "ipython",
    "version": 3
   },
   "file_extension": ".py",
   "mimetype": "text/x-python",
   "name": "python",
   "nbconvert_exporter": "python",
   "pygments_lexer": "ipython3",
   "version": "3.9.13"
  }
 },
 "nbformat": 4,
 "nbformat_minor": 1
}
