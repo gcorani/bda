{
 "cells": [
  {
   "cell_type": "code",
   "execution_count": 1,
   "metadata": {
    "slideshow": {
     "slide_type": "skip"
    }
   },
   "outputs": [],
   "source": [
    "%matplotlib inline\n",
    "import pymc as pm\n",
    "import numpy as np\n",
    "import scipy.stats as stats\n",
    "import pandas as pd\n",
    "import matplotlib.pyplot as plt\n",
    "import arviz as az\n",
    "from IPython.display import display, Markdown\n",
    "az.style.use('arviz-darkgrid')\n",
    "import numpy as np\n",
    "np.random.seed(44)\n"
   ]
  },
  {
   "cell_type": "code",
   "execution_count": 2,
   "metadata": {
    "slideshow": {
     "slide_type": "skip"
    }
   },
   "outputs": [],
   "source": [
    "plt.rcParams['font.size'] = 15\n",
    "plt.rcParams['legend.fontsize'] = 'medium'\n",
    "plt.rcParams.update({\n",
    "    'figure.figsize': [8.0, 3.0],\n",
    "    'figure.facecolor': '#fffff8',\n",
    "    'axes.facecolor': '#fffff8',\n",
    "    'figure.constrained_layout.use': True,\n",
    "    'font.size': 14.0,\n",
    "    'hist.bins': 'auto',\n",
    "    'lines.linewidth': 3.0,\n",
    "    'lines.markeredgewidth': 2.0,\n",
    "    'lines.markerfacecolor': 'none',\n",
    "    'lines.markersize': 8.0, \n",
    "})"
   ]
  },
  {
   "cell_type": "markdown",
   "metadata": {
    "slideshow": {
     "slide_type": "slide"
    }
   },
   "source": [
    "# Normal Hierarchical  Models\n",
    "\n",
    "\n",
    "Giorgio Corani <br/>\n",
    "*Bayesian Data Analysis and Probabilistic Programming*\n",
    "<br/>\n",
    "<br/>\n",
    "``giorgio.corani@supsi.ch``\n",
    "\n",
    "\n",
    "\n"
   ]
  },
  {
   "cell_type": "markdown",
   "metadata": {
    "slideshow": {
     "slide_type": "slide"
    }
   },
   "source": [
    "# Based on \n",
    "\n",
    "* Alicia A. Johnson, Miles Q. Ott, Mine Dogucu, Bayes Rules! An Introduction to Applied Bayesian Modeling, Chapter 16,  *Hierarchical Models without Predictors*, https://www.bayesrulesbook.com/chapter-16.html\n"
   ]
  },
  {
   "cell_type": "markdown",
   "metadata": {
    "slideshow": {
     "slide_type": "slide"
    }
   },
   "source": [
    "# Modeling songs popularity\n",
    "\n",
    "* Spotify  provides a data bases of songs and their *popularity* score,  which varies over  the 0-100 scale. \n",
    "\n",
    "\n",
    "* Higher popularity usually means the song has been played often, especially  recently. "
   ]
  },
  {
   "cell_type": "markdown",
   "metadata": {
    "slideshow": {
     "slide_type": "slide"
    }
   },
   "source": [
    "# Research questions \n",
    "\n",
    "\n",
    "*   What’s the typical popularity of a Spotify song?\n",
    "\n",
    "\n",
    "*   How does popularity vary from artist to artist?\n",
    "\n",
    "\n",
    "*   For any single artist, how much does popularity vary from song to song?\n",
    "\n",
    "\n",
    "*  We look for answers with a quantification of the uncertainty."
   ]
  },
  {
   "cell_type": "markdown",
   "metadata": {
    "slideshow": {
     "slide_type": "slide"
    }
   },
   "source": [
    "# Hierarchical data set\n",
    "\n",
    "* The data set  comprises  one or more songs for each of the 44 artists \n",
    "\n",
    "\n",
    "* The list of artists  is a  sample from the whole population of  artists that have songs on Spotify \n",
    "\n",
    "<img src='img/spotify-hierarchical-data-diagram.png' width=600 align=\"center\" >\n",
    "\n"
   ]
  },
  {
   "cell_type": "markdown",
   "metadata": {
    "slideshow": {
     "slide_type": "slide"
    }
   },
   "source": [
    "# The structure of the data\n",
    "\n",
    "* The $j$ subscript refers to the $j$-th  artist (we have 44 artists).\n",
    "\n",
    "*  $n_j$: number of songs created by artist $j$.\n",
    "\n",
    "*  $y_{ij}$:  popularity of the $i$-th song of artist $j$\n",
    "    * $j \\in \\{1,2,…,44\\}$, $i \\in \\{1,2,…,n_j\\}$.\n",
    "\n",
    "* The data set is constituted by  44 *sub-populations* (or *clusters*);   each artist provides a cluster of songs."
   ]
  },
  {
   "cell_type": "code",
   "execution_count": 3,
   "metadata": {
    "scrolled": true,
    "slideshow": {
     "slide_type": "slide"
    }
   },
   "outputs": [
    {
     "data": {
      "text/html": [
       "<div>\n",
       "<style scoped>\n",
       "    .dataframe tbody tr th:only-of-type {\n",
       "        vertical-align: middle;\n",
       "    }\n",
       "\n",
       "    .dataframe tbody tr th {\n",
       "        vertical-align: top;\n",
       "    }\n",
       "\n",
       "    .dataframe thead th {\n",
       "        text-align: right;\n",
       "    }\n",
       "</style>\n",
       "<table border=\"1\" class=\"dataframe\">\n",
       "  <thead>\n",
       "    <tr style=\"text-align: right;\">\n",
       "      <th></th>\n",
       "      <th>artist</th>\n",
       "      <th>title</th>\n",
       "      <th>popularity</th>\n",
       "    </tr>\n",
       "  </thead>\n",
       "  <tbody>\n",
       "    <tr>\n",
       "      <th>0</th>\n",
       "      <td>Alok</td>\n",
       "      <td>On &amp; On</td>\n",
       "      <td>79</td>\n",
       "    </tr>\n",
       "    <tr>\n",
       "      <th>1</th>\n",
       "      <td>Alok</td>\n",
       "      <td>All The Lies</td>\n",
       "      <td>56</td>\n",
       "    </tr>\n",
       "    <tr>\n",
       "      <th>2</th>\n",
       "      <td>Alok</td>\n",
       "      <td>Hear Me Now</td>\n",
       "      <td>75</td>\n",
       "    </tr>\n",
       "    <tr>\n",
       "      <th>3</th>\n",
       "      <td>Alok</td>\n",
       "      <td>The Wall</td>\n",
       "      <td>65</td>\n",
       "    </tr>\n",
       "    <tr>\n",
       "      <th>4</th>\n",
       "      <td>Alok</td>\n",
       "      <td>Hear Me Now</td>\n",
       "      <td>52</td>\n",
       "    </tr>\n",
       "  </tbody>\n",
       "</table>\n",
       "</div>"
      ],
      "text/plain": [
       "  artist         title  popularity\n",
       "0   Alok       On & On          79\n",
       "1   Alok  All The Lies          56\n",
       "2   Alok   Hear Me Now          75\n",
       "3   Alok      The Wall          65\n",
       "4   Alok   Hear Me Now          52"
      ]
     },
     "execution_count": 3,
     "metadata": {},
     "output_type": "execute_result"
    }
   ],
   "source": [
    "# the full data set is available from the bayesrule package for R. This is a reduced version which only contains song,\n",
    "#author and popularity.\n",
    "#The data set contains 350 songs by 44 artists\n",
    "spotify = pd.read_csv(\"data/spotify.csv\")\n",
    "\n",
    "spotify.head()"
   ]
  },
  {
   "cell_type": "code",
   "execution_count": 4,
   "metadata": {
    "slideshow": {
     "slide_type": "slide"
    }
   },
   "outputs": [
    {
     "data": {
      "text/plain": [
       "['Alok', 'Atlas Genius', 'Au/Ra', 'BUNT.', 'Beyoncé']"
      ]
     },
     "execution_count": 4,
     "metadata": {},
     "output_type": "execute_result"
    }
   ],
   "source": [
    "# we create a list containing the  name of each artist: ['Alok', 'Atlas Genius', 'Au/Ra', 'BUNT.', 'Beyoncé', ...]\n",
    "spotify[\"artist\"] = spotify[\"artist\"].astype(\"category\")\n",
    "artists = list(spotify[\"artist\"].cat.categories) \n",
    "\n",
    "#show the first artists\n",
    "artists[0:5]"
   ]
  },
  {
   "cell_type": "code",
   "execution_count": 5,
   "metadata": {
    "slideshow": {
     "slide_type": "slide"
    }
   },
   "outputs": [
    {
     "data": {
      "text/html": [
       "<div>\n",
       "<style scoped>\n",
       "    .dataframe tbody tr th:only-of-type {\n",
       "        vertical-align: middle;\n",
       "    }\n",
       "\n",
       "    .dataframe tbody tr th {\n",
       "        vertical-align: top;\n",
       "    }\n",
       "\n",
       "    .dataframe thead th {\n",
       "        text-align: right;\n",
       "    }\n",
       "</style>\n",
       "<table border=\"1\" class=\"dataframe\">\n",
       "  <thead>\n",
       "    <tr style=\"text-align: right;\">\n",
       "      <th></th>\n",
       "      <th>popularity</th>\n",
       "    </tr>\n",
       "    <tr>\n",
       "      <th>artist</th>\n",
       "      <th></th>\n",
       "    </tr>\n",
       "  </thead>\n",
       "  <tbody>\n",
       "    <tr>\n",
       "      <th>Mia X</th>\n",
       "      <td>13.250000</td>\n",
       "    </tr>\n",
       "    <tr>\n",
       "      <th>Chris Goldarg</th>\n",
       "      <td>16.400000</td>\n",
       "    </tr>\n",
       "    <tr>\n",
       "      <th>Soul&amp;Roll</th>\n",
       "      <td>24.200000</td>\n",
       "    </tr>\n",
       "    <tr>\n",
       "      <th>Honeywagon</th>\n",
       "      <td>31.666667</td>\n",
       "    </tr>\n",
       "    <tr>\n",
       "      <th>Röyksopp</th>\n",
       "      <td>33.250000</td>\n",
       "    </tr>\n",
       "  </tbody>\n",
       "</table>\n",
       "</div>"
      ],
      "text/plain": [
       "               popularity\n",
       "artist                   \n",
       "Mia X           13.250000\n",
       "Chris Goldarg   16.400000\n",
       "Soul&Roll       24.200000\n",
       "Honeywagon      31.666667\n",
       "Röyksopp        33.250000"
      ]
     },
     "execution_count": 5,
     "metadata": {},
     "output_type": "execute_result"
    }
   ],
   "source": [
    "# artist_popularity contains the mean popularity of the songs of each artist and the name of the artist\n",
    "# artist ranked from the less popular one.\n",
    "#we drop the title\n",
    "spotify = spotify[ [\"artist\",\"popularity\" ]]\n",
    "artist_popularity=spotify.groupby(['artist']).mean().sort_values('popularity').head()\n",
    "artist_popularity"
   ]
  },
  {
   "cell_type": "code",
   "execution_count": 6,
   "metadata": {
    "slideshow": {
     "slide_type": "slide"
    }
   },
   "outputs": [
    {
     "data": {
      "text/html": [
       "<div>\n",
       "<style scoped>\n",
       "    .dataframe tbody tr th:only-of-type {\n",
       "        vertical-align: middle;\n",
       "    }\n",
       "\n",
       "    .dataframe tbody tr th {\n",
       "        vertical-align: top;\n",
       "    }\n",
       "\n",
       "    .dataframe thead th {\n",
       "        text-align: right;\n",
       "    }\n",
       "</style>\n",
       "<table border=\"1\" class=\"dataframe\">\n",
       "  <thead>\n",
       "    <tr style=\"text-align: right;\">\n",
       "      <th></th>\n",
       "      <th>popularity</th>\n",
       "    </tr>\n",
       "    <tr>\n",
       "      <th>artist</th>\n",
       "      <th></th>\n",
       "    </tr>\n",
       "  </thead>\n",
       "  <tbody>\n",
       "    <tr>\n",
       "      <th>Alok</th>\n",
       "      <td>19</td>\n",
       "    </tr>\n",
       "    <tr>\n",
       "      <th>Atlas Genius</th>\n",
       "      <td>4</td>\n",
       "    </tr>\n",
       "    <tr>\n",
       "      <th>Au/Ra</th>\n",
       "      <td>5</td>\n",
       "    </tr>\n",
       "    <tr>\n",
       "      <th>BUNT.</th>\n",
       "      <td>3</td>\n",
       "    </tr>\n",
       "    <tr>\n",
       "      <th>Beyoncé</th>\n",
       "      <td>25</td>\n",
       "    </tr>\n",
       "  </tbody>\n",
       "</table>\n",
       "</div>"
      ],
      "text/plain": [
       "              popularity\n",
       "artist                  \n",
       "Alok                  19\n",
       "Atlas Genius           4\n",
       "Au/Ra                  5\n",
       "BUNT.                  3\n",
       "Beyoncé               25"
      ]
     },
     "execution_count": 6,
     "metadata": {},
     "output_type": "execute_result"
    }
   ],
   "source": [
    "# Number of the songs of each artists; it varies between 2 and 40.\n",
    "artist_count=spotify.groupby(['artist']).count()\n",
    "artist_count.head()"
   ]
  },
  {
   "cell_type": "markdown",
   "metadata": {
    "slideshow": {
     "slide_type": "slide"
    }
   },
   "source": [
    "# Modelling approaches\n",
    "\n",
    "* *Pooled*: merge  data from songs of all artists, without modelling the difference between artists.\n",
    "     \n",
    "     \n",
    "* *Unpooled*:  independently analyzes the songs of every  artist\n",
    "    * the mean popularity of songs from artist $j$ is $\\mu_j$\n",
    "    * inference about artists with  few published songs is  uncertain\n",
    "    * cannot predict a novel artist"
   ]
  },
  {
   "cell_type": "markdown",
   "metadata": {
    "slideshow": {
     "slide_type": "slide"
    }
   },
   "source": [
    "# Hierarchical model (a.k.a. partial pooling)\n",
    "\n",
    "* Artist $j$ has its own  mean popularity of songs, $\\mu_j$   \n",
    "    \n",
    "       \n",
    "* Additionally, $\\mu_j$ is modelled as a sample from the population of the popularity of all artists: $ \\mu_j \\sim N(\\mu', \\sigma_p)$\n",
    "\n",
    "\n",
    "*  $\\mu'$ and $\\sigma_p$ are the mean popularity and the std deviation of the $\\mu_j$'s within the *whole* population of artists (not only the 44 artists in our data set).   \n",
    "    \n",
    "    \n",
    "* We will assign priors to $\\mu'$ and $\\sigma_p$.\n",
    "\n",
    "\n",
    "\n",
    "\n",
    "\n",
    " "
   ]
  },
  {
   "cell_type": "markdown",
   "metadata": {
    "slideshow": {
     "slide_type": "slide"
    }
   },
   "source": [
    "# Hierarchical model (partial pooling)\n",
    "\n",
    "* It places a prior on the parameters of the prior (*hierarchical*).\n",
    "    \n",
    "       \n",
    "* It can make prediction also for an artist for which there are no songs in our sample, based on what it has learned about the populations of artists. Moreover, it  improves the estimates for artists with few songs. \n",
    "\n",
    "\n",
    "\n",
    "\n"
   ]
  },
  {
   "cell_type": "markdown",
   "metadata": {
    "slideshow": {
     "slide_type": "slide"
    }
   },
   "source": [
    "# Pooled model\n",
    "\n",
    "<img src='img/spotify-density.png' width=400 align=\"center\" >\n",
    "\n",
    "*  We fit a  normal-normal model  on all  songs in the sample (density  shown in the plot), ignoring the grouping structure implied by the different authors.\n"
   ]
  },
  {
   "cell_type": "markdown",
   "metadata": {
    "slideshow": {
     "slide_type": "slide"
    }
   },
   "source": [
    "# Pooled model\n",
    "\n",
    "* We fit a normal-normal model on  the data set containing all songs.\n",
    "\\begin{align*}\n",
    "\\mu & \\sim N(\\mu', \\sigma_{\\mu} ) \\\\\n",
    "\\sigma & \\sim \\text{HalfNormal}(\\xi)\\\\\n",
    "\\vec{y_{ij}} & \\sim N(\\mu, \\sigma)\n",
    "\\end{align*}\n",
    "\n",
    "*  $\\mu$ and $\\sigma$ are   *global* parameters, which apply to every song.\n",
    "\n",
    "* $\\mu'$ and  $\\sigma_{\\mu}$ are fixed numbers which are  represent some  prior knowledge.\n"
   ]
  },
  {
   "cell_type": "markdown",
   "metadata": {
    "slideshow": {
     "slide_type": "slide"
    }
   },
   "source": [
    "# Prior on $\\mu$\n",
    "\n",
    "* A priori,  we assume $\\mu$ to lie in  (30, 70).\n",
    "\n",
    "* Interpreting the  interval as a region of $\\pm$2 standard deviations, our prior beliefs about the mean of the population is:\n",
    "\n",
    "$$ \\mu \\sim N(\\underbrace{50}_{\\mu'}, \\underbrace{10}_{\\sigma_{\\mu}}) $$\n",
    "\n"
   ]
  },
  {
   "cell_type": "markdown",
   "metadata": {
    "slideshow": {
     "slide_type": "slide"
    }
   },
   "source": [
    "# Prior on $\\sigma$"
   ]
  },
  {
   "cell_type": "code",
   "execution_count": 7,
   "metadata": {
    "slideshow": {
     "slide_type": "slide"
    }
   },
   "outputs": [
    {
     "data": {
      "text/html": [
       "<div>\n",
       "<style scoped>\n",
       "    .dataframe tbody tr th:only-of-type {\n",
       "        vertical-align: middle;\n",
       "    }\n",
       "\n",
       "    .dataframe tbody tr th {\n",
       "        vertical-align: top;\n",
       "    }\n",
       "\n",
       "    .dataframe thead th {\n",
       "        text-align: right;\n",
       "    }\n",
       "</style>\n",
       "<table border=\"1\" class=\"dataframe\">\n",
       "  <thead>\n",
       "    <tr style=\"text-align: right;\">\n",
       "      <th></th>\n",
       "      <th>0</th>\n",
       "    </tr>\n",
       "  </thead>\n",
       "  <tbody>\n",
       "    <tr>\n",
       "      <th>count</th>\n",
       "      <td>10000.000000</td>\n",
       "    </tr>\n",
       "    <tr>\n",
       "      <th>mean</th>\n",
       "      <td>28.907927</td>\n",
       "    </tr>\n",
       "    <tr>\n",
       "      <th>std</th>\n",
       "      <td>21.774580</td>\n",
       "    </tr>\n",
       "    <tr>\n",
       "      <th>min</th>\n",
       "      <td>0.005977</td>\n",
       "    </tr>\n",
       "    <tr>\n",
       "      <th>25%</th>\n",
       "      <td>11.770519</td>\n",
       "    </tr>\n",
       "    <tr>\n",
       "      <th>50%</th>\n",
       "      <td>24.481657</td>\n",
       "    </tr>\n",
       "    <tr>\n",
       "      <th>75%</th>\n",
       "      <td>41.423314</td>\n",
       "    </tr>\n",
       "    <tr>\n",
       "      <th>max</th>\n",
       "      <td>137.738299</td>\n",
       "    </tr>\n",
       "  </tbody>\n",
       "</table>\n",
       "</div>"
      ],
      "text/plain": [
       "                  0\n",
       "count  10000.000000\n",
       "mean      28.907927\n",
       "std       21.774580\n",
       "min        0.005977\n",
       "25%       11.770519\n",
       "50%       24.481657\n",
       "75%       41.423314\n",
       "max      137.738299"
      ]
     },
     "execution_count": 7,
     "metadata": {},
     "output_type": "execute_result"
    }
   ],
   "source": [
    "# sigma controls the spread of popularity in the whole population of songs\n",
    "# We can interpret the range (0 , 100) as a range with length 4 stds (+-2 std around the mean).\n",
    "# Thus a plausible value of  sigma is  25. \n",
    "#This is slightly in excess, as some density is outside the allowed range (0,100).\n",
    "\n",
    "# Using  scale 36, we get the median of the distribution close to 25.\n",
    "from scipy.stats import halfnorm \n",
    "pd.DataFrame(halfnorm.rvs(scale=36, size=10000)).describe()"
   ]
  },
  {
   "cell_type": "markdown",
   "metadata": {
    "slideshow": {
     "slide_type": "slide"
    }
   },
   "source": [
    "# Pooled model\n",
    "\n",
    "\n",
    "\\begin{align*}\n",
    "\\mu    & \\sim N(50, 10) \\\\\n",
    "\\sigma & \\sim\\text{HalfNormal} (36) \\\\\n",
    "\\vec{y_{ij}}  & \\sim N(\\mu, \\sigma) \\\\\n",
    "\\end{align*}"
   ]
  },
  {
   "cell_type": "code",
   "execution_count": 8,
   "metadata": {
    "slideshow": {
     "slide_type": "slide"
    }
   },
   "outputs": [
    {
     "name": "stderr",
     "output_type": "stream",
     "text": [
      "Auto-assigning NUTS sampler...\n",
      "Initializing NUTS using jitter+adapt_diag...\n",
      "Multiprocess sampling (4 chains in 4 jobs)\n",
      "NUTS: [global_mean, global_sigma]\n"
     ]
    },
    {
     "data": {
      "text/html": [
       "\n",
       "<style>\n",
       "    /* Turns off some styling */\n",
       "    progress {\n",
       "        /* gets rid of default border in Firefox and Opera. */\n",
       "        border: none;\n",
       "        /* Needs to be in here for Safari polyfill so background images work as expected. */\n",
       "        background-size: auto;\n",
       "    }\n",
       "    progress:not([value]), progress:not([value])::-webkit-progress-bar {\n",
       "        background: repeating-linear-gradient(45deg, #7e7e7e, #7e7e7e 10px, #5c5c5c 10px, #5c5c5c 20px);\n",
       "    }\n",
       "    .progress-bar-interrupted, .progress-bar-interrupted::-webkit-progress-bar {\n",
       "        background: #F44336;\n",
       "    }\n",
       "</style>\n"
      ],
      "text/plain": [
       "<IPython.core.display.HTML object>"
      ]
     },
     "metadata": {},
     "output_type": "display_data"
    },
    {
     "data": {
      "text/html": [
       "\n",
       "    <div>\n",
       "      <progress value='8000' class='' max='8000' style='width:300px; height:20px; vertical-align: middle;'></progress>\n",
       "      100.00% [8000/8000 00:04&lt;00:00 Sampling 4 chains, 0 divergences]\n",
       "    </div>\n",
       "    "
      ],
      "text/plain": [
       "<IPython.core.display.HTML object>"
      ]
     },
     "metadata": {},
     "output_type": "display_data"
    },
    {
     "name": "stderr",
     "output_type": "stream",
     "text": [
      "Sampling 4 chains for 1_000 tune and 1_000 draw iterations (4_000 + 4_000 draws total) took 24 seconds.\n"
     ]
    }
   ],
   "source": [
    "with pm.Model() as pooled_model:\n",
    "    # prior\n",
    "    global_mean    =  pm.Normal ('global_mean', 50,  10)\n",
    "    global_sigma   =  pm.HalfNormal ('global_sigma', sigma = 36)\n",
    "\n",
    "    #likelihood\n",
    "    popularity          =  pm.Normal ('popularity', mu = global_mean,  sigma = global_sigma, observed = spotify[\"popularity\"])\n",
    "    trace_pooled     = pm.sample(return_inferencedata=True)"
   ]
  },
  {
   "cell_type": "code",
   "execution_count": 9,
   "metadata": {
    "slideshow": {
     "slide_type": "slide"
    }
   },
   "outputs": [
    {
     "data": {
      "text/html": [
       "<div>\n",
       "<style scoped>\n",
       "    .dataframe tbody tr th:only-of-type {\n",
       "        vertical-align: middle;\n",
       "    }\n",
       "\n",
       "    .dataframe tbody tr th {\n",
       "        vertical-align: top;\n",
       "    }\n",
       "\n",
       "    .dataframe thead th {\n",
       "        text-align: right;\n",
       "    }\n",
       "</style>\n",
       "<table border=\"1\" class=\"dataframe\">\n",
       "  <thead>\n",
       "    <tr style=\"text-align: right;\">\n",
       "      <th></th>\n",
       "      <th>mean</th>\n",
       "      <th>sd</th>\n",
       "      <th>hdi_3%</th>\n",
       "      <th>hdi_97%</th>\n",
       "      <th>mcse_mean</th>\n",
       "      <th>mcse_sd</th>\n",
       "      <th>ess_bulk</th>\n",
       "      <th>ess_tail</th>\n",
       "      <th>r_hat</th>\n",
       "    </tr>\n",
       "  </thead>\n",
       "  <tbody>\n",
       "    <tr>\n",
       "      <th>global_mean</th>\n",
       "      <td>58.300</td>\n",
       "      <td>1.095</td>\n",
       "      <td>56.256</td>\n",
       "      <td>60.351</td>\n",
       "      <td>0.017</td>\n",
       "      <td>0.012</td>\n",
       "      <td>3974.0</td>\n",
       "      <td>2784.0</td>\n",
       "      <td>1.0</td>\n",
       "    </tr>\n",
       "    <tr>\n",
       "      <th>global_sigma</th>\n",
       "      <td>20.719</td>\n",
       "      <td>0.795</td>\n",
       "      <td>19.174</td>\n",
       "      <td>22.109</td>\n",
       "      <td>0.012</td>\n",
       "      <td>0.009</td>\n",
       "      <td>4172.0</td>\n",
       "      <td>2909.0</td>\n",
       "      <td>1.0</td>\n",
       "    </tr>\n",
       "  </tbody>\n",
       "</table>\n",
       "</div>"
      ],
      "text/plain": [
       "                mean     sd  hdi_3%  hdi_97%  mcse_mean  mcse_sd  ess_bulk  \\\n",
       "global_mean   58.300  1.095  56.256   60.351      0.017    0.012    3974.0   \n",
       "global_sigma  20.719  0.795  19.174   22.109      0.012    0.009    4172.0   \n",
       "\n",
       "              ess_tail  r_hat  \n",
       "global_mean     2784.0    1.0  \n",
       "global_sigma    2909.0    1.0  "
      ]
     },
     "execution_count": 9,
     "metadata": {},
     "output_type": "execute_result"
    }
   ],
   "source": [
    "# The Spotify songs have an average popularity of about 58.\n",
    "# There is  a  large standard deviation  (global_sigma) of popularity  from song to song.\n",
    "# The data set has large variability, as it contains songs from different authors. \n",
    "az.summary(trace_pooled)"
   ]
  },
  {
   "cell_type": "markdown",
   "metadata": {
    "slideshow": {
     "slide_type": "slide"
    }
   },
   "source": [
    "# Quiz yourself\n",
    "\n",
    "* How would you make  a prediction using the  pooled model for:\n",
    "\n",
    "    * a new song of  Mia X, the artist with the lowest mean popularity  (13) in the sample? \n",
    "    * Beyoncé, the artist with the highest mean popularity (70) in the sample?\n",
    "    * a group not present in the sample?\n",
    "   "
   ]
  },
  {
   "cell_type": "markdown",
   "metadata": {
    "slideshow": {
     "slide_type": "slide"
    }
   },
   "source": [
    "# Answer\n",
    "* The   pooled model ignores the artist; the prediction for the popularity of a new song is the same for  every author.\n",
    "\n",
    "* It requires computing the *predictive distribution*."
   ]
  },
  {
   "cell_type": "markdown",
   "metadata": {
    "slideshow": {
     "slide_type": "slide"
    }
   },
   "source": [
    "# Predicting the popularity of the next song (*predictive distribution*)\n",
    "\n",
    "* The trace contains 4000 parameter samples  $<\\mu_s, \\sigma_s>$. \n",
    "\n",
    "* For each sample  we draw  a possible future value of popularity as:\n",
    "\n",
    "$$\n",
    "y_s^{\\text{new}}  \\sim \\; N\\left(\\mu_s, \\sigma_s\\right)\\;\\; s=1,2...4000$$\n",
    "\n"
   ]
  },
  {
   "cell_type": "markdown",
   "metadata": {
    "slideshow": {
     "slide_type": "slide"
    }
   },
   "source": [
    "# Predictive distribution for a specific artist\n",
    "\n",
    "$$\n",
    "\\left[\n",
    "\\begin{array}{ll} \n",
    "\\mu_1 &   \\sigma_1 \\\\\n",
    "\\mu_2 & \\sigma_2 \\\\\n",
    "\\vdots & \\vdots  \\\\\n",
    "\\mu_{4000}  & \\sigma_{4000} \\\\\n",
    "\\end{array}\n",
    "\\right]\n",
    "\\;\\; \\longrightarrow \\;\\;\n",
    "\\left[\n",
    "\\begin{array}{l} \n",
    "y^{\\text{new}}_{1} \\\\\n",
    "y^{\\text{new}}_2 \\\\\n",
    "\\vdots \\\\\n",
    "y^{\\text{new}}_{4000} \\\\\n",
    "\\end{array}\n",
    "\\right]\n",
    "$$\n",
    "\n",
    "The predictive distribution accounts for:\n",
    "   * uncertainty in the parameters of $\\mu, \\sigma$\n",
    "   * uncertainty due to stochastic sampling from a normal distribution."
   ]
  },
  {
   "cell_type": "code",
   "execution_count": 10,
   "metadata": {
    "slideshow": {
     "slide_type": "slide"
    }
   },
   "outputs": [
    {
     "name": "stdout",
     "output_type": "stream",
     "text": [
      "summary of predictive distribution: \n",
      "\n",
      "                 0\n",
      "count  4000.000000\n",
      "mean     57.877520\n",
      "std      20.651037\n",
      "min     -14.353612\n",
      "2.5%     17.401163\n",
      "50%      57.913387\n",
      "97.5%    98.069879\n",
      "max     125.787840\n"
     ]
    }
   ],
   "source": [
    "#prediction distribution of the  pooled model\n",
    "post_pooled   =  az.extract(trace_pooled.posterior)\n",
    "\n",
    "#posterior samples\n",
    "mu         = post_pooled.global_mean.values\n",
    "sigma      = post_pooled.global_sigma.values\n",
    "\n",
    "y_new = np.zeros(len(mu))\n",
    "for i, current_mu in enumerate(mu):\n",
    "        y_new[i]   = np.random.normal (loc = mu[i], scale = sigma[i])\n",
    "\n",
    "        \n",
    "\n",
    "print('summary of predictive distribution: \\n')\n",
    "print(pd.DataFrame(y_new).describe(percentiles=[0.025, 0.975]))"
   ]
  },
  {
   "cell_type": "code",
   "execution_count": 11,
   "metadata": {
    "scrolled": true,
    "slideshow": {
     "slide_type": "slide"
    }
   },
   "outputs": [
    {
     "name": "stderr",
     "output_type": "stream",
     "text": [
      "Auto-assigning NUTS sampler...\n",
      "Initializing NUTS using jitter+adapt_diag...\n",
      "Multiprocess sampling (4 chains in 4 jobs)\n",
      "NUTS: [global_mean, global_sigma, predictive]\n"
     ]
    },
    {
     "data": {
      "text/html": [
       "\n",
       "<style>\n",
       "    /* Turns off some styling */\n",
       "    progress {\n",
       "        /* gets rid of default border in Firefox and Opera. */\n",
       "        border: none;\n",
       "        /* Needs to be in here for Safari polyfill so background images work as expected. */\n",
       "        background-size: auto;\n",
       "    }\n",
       "    progress:not([value]), progress:not([value])::-webkit-progress-bar {\n",
       "        background: repeating-linear-gradient(45deg, #7e7e7e, #7e7e7e 10px, #5c5c5c 10px, #5c5c5c 20px);\n",
       "    }\n",
       "    .progress-bar-interrupted, .progress-bar-interrupted::-webkit-progress-bar {\n",
       "        background: #F44336;\n",
       "    }\n",
       "</style>\n"
      ],
      "text/plain": [
       "<IPython.core.display.HTML object>"
      ]
     },
     "metadata": {},
     "output_type": "display_data"
    },
    {
     "data": {
      "text/html": [
       "\n",
       "    <div>\n",
       "      <progress value='8000' class='' max='8000' style='width:300px; height:20px; vertical-align: middle;'></progress>\n",
       "      100.00% [8000/8000 00:04&lt;00:00 Sampling 4 chains, 0 divergences]\n",
       "    </div>\n",
       "    "
      ],
      "text/plain": [
       "<IPython.core.display.HTML object>"
      ]
     },
     "metadata": {},
     "output_type": "display_data"
    },
    {
     "name": "stderr",
     "output_type": "stream",
     "text": [
      "Sampling 4 chains for 1_000 tune and 1_000 draw iterations (4_000 + 4_000 draws total) took 24 seconds.\n"
     ]
    }
   ],
   "source": [
    "#predictive distribution implemented in pymc3\n",
    "#this is more convenient, but less didactic, than working  on the raw values of the trace.\n",
    "with pm.Model() as pooled_model:\n",
    "    # prior\n",
    "    global_mean    =   pm.Normal ('global_mean', 50,  10)\n",
    "    global_sigma   =  pm.HalfNormal ('global_sigma', sigma = 36)\n",
    "\n",
    "    #likelihood\n",
    "    popularity          =  pm.Normal ('popularity', mu = global_mean,  sigma = global_sigma, observed = spotify[\"popularity\"])\n",
    "    \n",
    "    #prediction, computed for every posterior sample of global_mean and global_sigma.\n",
    "    predictive          =  pm.Normal('predictive', mu=global_mean, sigma=global_sigma )\n",
    "    trace_pooled     = pm.sample(return_inferencedata=True)"
   ]
  },
  {
   "cell_type": "code",
   "execution_count": 12,
   "metadata": {
    "slideshow": {
     "slide_type": "slide"
    }
   },
   "outputs": [
    {
     "data": {
      "text/html": [
       "<div>\n",
       "<style scoped>\n",
       "    .dataframe tbody tr th:only-of-type {\n",
       "        vertical-align: middle;\n",
       "    }\n",
       "\n",
       "    .dataframe tbody tr th {\n",
       "        vertical-align: top;\n",
       "    }\n",
       "\n",
       "    .dataframe thead th {\n",
       "        text-align: right;\n",
       "    }\n",
       "</style>\n",
       "<table border=\"1\" class=\"dataframe\">\n",
       "  <thead>\n",
       "    <tr style=\"text-align: right;\">\n",
       "      <th></th>\n",
       "      <th>mean</th>\n",
       "      <th>sd</th>\n",
       "      <th>hdi_3%</th>\n",
       "      <th>hdi_97%</th>\n",
       "      <th>mcse_mean</th>\n",
       "      <th>mcse_sd</th>\n",
       "      <th>ess_bulk</th>\n",
       "      <th>ess_tail</th>\n",
       "      <th>r_hat</th>\n",
       "    </tr>\n",
       "  </thead>\n",
       "  <tbody>\n",
       "    <tr>\n",
       "      <th>predictive</th>\n",
       "      <td>58.23</td>\n",
       "      <td>21.165</td>\n",
       "      <td>15.197</td>\n",
       "      <td>94.983</td>\n",
       "      <td>0.279</td>\n",
       "      <td>0.206</td>\n",
       "      <td>5781.0</td>\n",
       "      <td>2892.0</td>\n",
       "      <td>1.0</td>\n",
       "    </tr>\n",
       "  </tbody>\n",
       "</table>\n",
       "</div>"
      ],
      "text/plain": [
       "             mean      sd  hdi_3%  hdi_97%  mcse_mean  mcse_sd  ess_bulk  \\\n",
       "predictive  58.23  21.165  15.197   94.983      0.279    0.206    5781.0   \n",
       "\n",
       "            ess_tail  r_hat  \n",
       "predictive    2892.0    1.0  "
      ]
     },
     "execution_count": 12,
     "metadata": {},
     "output_type": "execute_result"
    }
   ],
   "source": [
    "#this prediction is the same for every artist.\n",
    "az.summary(trace_pooled, var_names='predictive')"
   ]
  },
  {
   "cell_type": "markdown",
   "metadata": {
    "slideshow": {
     "slide_type": "slide"
    }
   },
   "source": [
    "# Unpooled model\n",
    "\n",
    "* It independently analyzes the songs of each artist.\n",
    "\n",
    "\n",
    "* The  mean popularity of the $j$-th artist is  $\\mu_j$.\n",
    "\n",
    "\n",
    "* One artist’s mean doesn’t tell us anything about another’s."
   ]
  },
  {
   "cell_type": "markdown",
   "metadata": {
    "slideshow": {
     "slide_type": "slide"
    }
   },
   "source": [
    "# Unpooled model \n",
    "\n",
    "<img src='img/spotify-unpooled.png' width=500 align=\"center\" >\n",
    "\n",
    "* The popularity of the songs produced by artist $j$ are distributed $N(\\mu_j, \\sigma)$.\n",
    "\n",
    "\n",
    "* We assume   $\\sigma$ to be common to all artists.\n",
    "\n",
    "\n",
    "      "
   ]
  },
  {
   "cell_type": "markdown",
   "metadata": {
    "slideshow": {
     "slide_type": "slide"
    }
   },
   "source": [
    "# About the common sigma\n",
    "\n",
    "* This  assumption of a common $\\sigma$ is reasonable and simplifies the inference (we have 45 parameters rather than 88). \n",
    "\n",
    "\n",
    "* It could be  worth implementing also a  model with a different $\\sigma$ for each artist and comparing the two models (model selection can be done using WAIC, a topic covered later in the course).\n"
   ]
  },
  {
   "cell_type": "markdown",
   "metadata": {
    "slideshow": {
     "slide_type": "slide"
    }
   },
   "source": [
    "# Unpooled model\n",
    "\n",
    "* The priors are the same of the pooled model. But every $\\mu_j$ is now an independent parameter.\n",
    "\n",
    "\\begin{align*}\n",
    "\\mu_j    & \\sim N(50, 10)  \\; \\; \\; j=1,2...44\\\\\n",
    "\\sigma & \\sim \\text{HalfNormal}(36) \\\\\n",
    "y_{ij}  & \\sim N(\\mu_j, \\sigma) \\\\\n",
    "\\end{align*}"
   ]
  },
  {
   "cell_type": "code",
   "execution_count": 13,
   "metadata": {
    "slideshow": {
     "slide_type": "slide"
    }
   },
   "outputs": [
    {
     "data": {
      "text/html": [
       "<div>\n",
       "<style scoped>\n",
       "    .dataframe tbody tr th:only-of-type {\n",
       "        vertical-align: middle;\n",
       "    }\n",
       "\n",
       "    .dataframe tbody tr th {\n",
       "        vertical-align: top;\n",
       "    }\n",
       "\n",
       "    .dataframe thead th {\n",
       "        text-align: right;\n",
       "    }\n",
       "</style>\n",
       "<table border=\"1\" class=\"dataframe\">\n",
       "  <thead>\n",
       "    <tr style=\"text-align: right;\">\n",
       "      <th></th>\n",
       "      <th>artist</th>\n",
       "      <th>popularity</th>\n",
       "    </tr>\n",
       "  </thead>\n",
       "  <tbody>\n",
       "    <tr>\n",
       "      <th>0</th>\n",
       "      <td>Alok</td>\n",
       "      <td>79</td>\n",
       "    </tr>\n",
       "    <tr>\n",
       "      <th>1</th>\n",
       "      <td>Alok</td>\n",
       "      <td>56</td>\n",
       "    </tr>\n",
       "    <tr>\n",
       "      <th>2</th>\n",
       "      <td>Alok</td>\n",
       "      <td>75</td>\n",
       "    </tr>\n",
       "    <tr>\n",
       "      <th>3</th>\n",
       "      <td>Alok</td>\n",
       "      <td>65</td>\n",
       "    </tr>\n",
       "    <tr>\n",
       "      <th>4</th>\n",
       "      <td>Alok</td>\n",
       "      <td>52</td>\n",
       "    </tr>\n",
       "    <tr>\n",
       "      <th>...</th>\n",
       "      <td>...</td>\n",
       "      <td>...</td>\n",
       "    </tr>\n",
       "    <tr>\n",
       "      <th>345</th>\n",
       "      <td>Zeds Dead</td>\n",
       "      <td>58</td>\n",
       "    </tr>\n",
       "    <tr>\n",
       "      <th>346</th>\n",
       "      <td>Zeds Dead</td>\n",
       "      <td>44</td>\n",
       "    </tr>\n",
       "    <tr>\n",
       "      <th>347</th>\n",
       "      <td>Zeds Dead</td>\n",
       "      <td>54</td>\n",
       "    </tr>\n",
       "    <tr>\n",
       "      <th>348</th>\n",
       "      <td>Zeds Dead</td>\n",
       "      <td>49</td>\n",
       "    </tr>\n",
       "    <tr>\n",
       "      <th>349</th>\n",
       "      <td>Zeds Dead</td>\n",
       "      <td>48</td>\n",
       "    </tr>\n",
       "  </tbody>\n",
       "</table>\n",
       "<p>350 rows × 2 columns</p>\n",
       "</div>"
      ],
      "text/plain": [
       "        artist  popularity\n",
       "0         Alok          79\n",
       "1         Alok          56\n",
       "2         Alok          75\n",
       "3         Alok          65\n",
       "4         Alok          52\n",
       "..         ...         ...\n",
       "345  Zeds Dead          58\n",
       "346  Zeds Dead          44\n",
       "347  Zeds Dead          54\n",
       "348  Zeds Dead          49\n",
       "349  Zeds Dead          48\n",
       "\n",
       "[350 rows x 2 columns]"
      ]
     },
     "execution_count": 13,
     "metadata": {},
     "output_type": "execute_result"
    }
   ],
   "source": [
    "#to see the structure of the data\n",
    "spotify"
   ]
  },
  {
   "cell_type": "code",
   "execution_count": 14,
   "metadata": {
    "slideshow": {
     "slide_type": "slide"
    }
   },
   "outputs": [
    {
     "name": "stdout",
     "output_type": "stream",
     "text": [
      "songs from Beyoncé:  25\n",
      "songs from BUNT.:  3\n"
     ]
    }
   ],
   "source": [
    "#The code below assigns a  numerical code to each author; then it assigns to each song the code of its author.\n",
    "n_artist = len(artist_count) #44\n",
    "\n",
    "#names of the authors of each song\n",
    "artist       = spotify['artist'].values\n",
    "\n",
    "#names mapped into codes\n",
    "spotify['artist_code']  = spotify['artist'].astype('category').cat.codes\n",
    "\n",
    "\n",
    "#how many songs from Beyoncé and BUNT.\n",
    "#the item() converts the np array into a scalar.\n",
    "#we will use later those two codes\n",
    "beyonce_code = np.unique(spotify['artist_code'][spotify['artist']=='Beyoncé']).item()\n",
    "bunt_code       = np.unique(spotify['artist_code'][spotify['artist']=='BUNT.']).item()\n",
    "\n",
    "print('songs from Beyoncé: ', np.sum(spotify['artist'] == 'Beyoncé'));\n",
    "print('songs from BUNT.: ', np.sum(spotify['artist'] == 'BUNT.'));"
   ]
  },
  {
   "cell_type": "code",
   "execution_count": 15,
   "metadata": {
    "slideshow": {
     "slide_type": "slide"
    }
   },
   "outputs": [
    {
     "data": {
      "text/html": [
       "<div>\n",
       "<style scoped>\n",
       "    .dataframe tbody tr th:only-of-type {\n",
       "        vertical-align: middle;\n",
       "    }\n",
       "\n",
       "    .dataframe tbody tr th {\n",
       "        vertical-align: top;\n",
       "    }\n",
       "\n",
       "    .dataframe thead th {\n",
       "        text-align: right;\n",
       "    }\n",
       "</style>\n",
       "<table border=\"1\" class=\"dataframe\">\n",
       "  <thead>\n",
       "    <tr style=\"text-align: right;\">\n",
       "      <th></th>\n",
       "      <th>artist</th>\n",
       "      <th>popularity</th>\n",
       "      <th>artist_code</th>\n",
       "    </tr>\n",
       "  </thead>\n",
       "  <tbody>\n",
       "    <tr>\n",
       "      <th>0</th>\n",
       "      <td>Alok</td>\n",
       "      <td>79</td>\n",
       "      <td>0</td>\n",
       "    </tr>\n",
       "    <tr>\n",
       "      <th>1</th>\n",
       "      <td>Alok</td>\n",
       "      <td>56</td>\n",
       "      <td>0</td>\n",
       "    </tr>\n",
       "    <tr>\n",
       "      <th>2</th>\n",
       "      <td>Alok</td>\n",
       "      <td>75</td>\n",
       "      <td>0</td>\n",
       "    </tr>\n",
       "    <tr>\n",
       "      <th>3</th>\n",
       "      <td>Alok</td>\n",
       "      <td>65</td>\n",
       "      <td>0</td>\n",
       "    </tr>\n",
       "    <tr>\n",
       "      <th>4</th>\n",
       "      <td>Alok</td>\n",
       "      <td>52</td>\n",
       "      <td>0</td>\n",
       "    </tr>\n",
       "    <tr>\n",
       "      <th>...</th>\n",
       "      <td>...</td>\n",
       "      <td>...</td>\n",
       "      <td>...</td>\n",
       "    </tr>\n",
       "    <tr>\n",
       "      <th>345</th>\n",
       "      <td>Zeds Dead</td>\n",
       "      <td>58</td>\n",
       "      <td>43</td>\n",
       "    </tr>\n",
       "    <tr>\n",
       "      <th>346</th>\n",
       "      <td>Zeds Dead</td>\n",
       "      <td>44</td>\n",
       "      <td>43</td>\n",
       "    </tr>\n",
       "    <tr>\n",
       "      <th>347</th>\n",
       "      <td>Zeds Dead</td>\n",
       "      <td>54</td>\n",
       "      <td>43</td>\n",
       "    </tr>\n",
       "    <tr>\n",
       "      <th>348</th>\n",
       "      <td>Zeds Dead</td>\n",
       "      <td>49</td>\n",
       "      <td>43</td>\n",
       "    </tr>\n",
       "    <tr>\n",
       "      <th>349</th>\n",
       "      <td>Zeds Dead</td>\n",
       "      <td>48</td>\n",
       "      <td>43</td>\n",
       "    </tr>\n",
       "  </tbody>\n",
       "</table>\n",
       "<p>350 rows × 3 columns</p>\n",
       "</div>"
      ],
      "text/plain": [
       "        artist  popularity  artist_code\n",
       "0         Alok          79            0\n",
       "1         Alok          56            0\n",
       "2         Alok          75            0\n",
       "3         Alok          65            0\n",
       "4         Alok          52            0\n",
       "..         ...         ...          ...\n",
       "345  Zeds Dead          58           43\n",
       "346  Zeds Dead          44           43\n",
       "347  Zeds Dead          54           43\n",
       "348  Zeds Dead          49           43\n",
       "349  Zeds Dead          48           43\n",
       "\n",
       "[350 rows x 3 columns]"
      ]
     },
     "execution_count": 15,
     "metadata": {},
     "output_type": "execute_result"
    }
   ],
   "source": [
    "#show the data structure\n",
    "spotify"
   ]
  },
  {
   "cell_type": "markdown",
   "metadata": {},
   "source": [
    "# Warning - possible improvement\n",
    "\n",
    "* To get the vector of parameters with the artist names, we could use dims=artist\n",
    "\n",
    "* See the implementation of the unpooled model here: https://www.pymc.io/projects/examples/en/latest/case_studies/multilevel_modeling.html\n",
    "\n",
    "* See also the code for computing the already sorted HDIs\n",
    "    \n",
    "    "
   ]
  },
  {
   "cell_type": "code",
   "execution_count": 16,
   "metadata": {
    "slideshow": {
     "slide_type": "slide"
    }
   },
   "outputs": [
    {
     "name": "stderr",
     "output_type": "stream",
     "text": [
      "Auto-assigning NUTS sampler...\n",
      "Initializing NUTS using jitter+adapt_diag...\n",
      "Multiprocess sampling (4 chains in 4 jobs)\n",
      "NUTS: [mu_artist, global_sigma]\n"
     ]
    },
    {
     "data": {
      "text/html": [
       "\n",
       "<style>\n",
       "    /* Turns off some styling */\n",
       "    progress {\n",
       "        /* gets rid of default border in Firefox and Opera. */\n",
       "        border: none;\n",
       "        /* Needs to be in here for Safari polyfill so background images work as expected. */\n",
       "        background-size: auto;\n",
       "    }\n",
       "    progress:not([value]), progress:not([value])::-webkit-progress-bar {\n",
       "        background: repeating-linear-gradient(45deg, #7e7e7e, #7e7e7e 10px, #5c5c5c 10px, #5c5c5c 20px);\n",
       "    }\n",
       "    .progress-bar-interrupted, .progress-bar-interrupted::-webkit-progress-bar {\n",
       "        background: #F44336;\n",
       "    }\n",
       "</style>\n"
      ],
      "text/plain": [
       "<IPython.core.display.HTML object>"
      ]
     },
     "metadata": {},
     "output_type": "display_data"
    },
    {
     "data": {
      "text/html": [
       "\n",
       "    <div>\n",
       "      <progress value='8000' class='' max='8000' style='width:300px; height:20px; vertical-align: middle;'></progress>\n",
       "      100.00% [8000/8000 00:09&lt;00:00 Sampling 4 chains, 0 divergences]\n",
       "    </div>\n",
       "    "
      ],
      "text/plain": [
       "<IPython.core.display.HTML object>"
      ]
     },
     "metadata": {},
     "output_type": "display_data"
    },
    {
     "name": "stderr",
     "output_type": "stream",
     "text": [
      "Sampling 4 chains for 1_000 tune and 1_000 draw iterations (4_000 + 4_000 draws total) took 28 seconds.\n"
     ]
    }
   ],
   "source": [
    "\n",
    "with pm.Model() as unpooled_model:\n",
    "    # A vector of independent means, one for each artist. Notice the keyword 'shape'.\n",
    "    mu_artist            =  pm.Normal ('mu_artist', 50,  10, shape = n_artist)\n",
    "    \n",
    "    #The common sigma, shared among all authors.\n",
    "    global_sigma    =  pm.HalfNormal ('global_sigma', sigma = 36)\n",
    "\n",
    "    #spotify[\"popularity\"] is the vector of popularities of each song; \n",
    "    #spotify['artist_code'] is a vector containing the code of the author of each song.\n",
    "    popularity      =  pm.Normal ('popularity', mu = mu_artist[spotify['artist_code']],  sigma = global_sigma, observed = spotify[\"popularity\"])\n",
    "    \n",
    "    trace_unpooled  = pm.sample(return_inferencedata=True)"
   ]
  },
  {
   "cell_type": "code",
   "execution_count": 17,
   "metadata": {
    "slideshow": {
     "slide_type": "slide"
    }
   },
   "outputs": [
    {
     "data": {
      "text/html": [
       "<div>\n",
       "<style scoped>\n",
       "    .dataframe tbody tr th:only-of-type {\n",
       "        vertical-align: middle;\n",
       "    }\n",
       "\n",
       "    .dataframe tbody tr th {\n",
       "        vertical-align: top;\n",
       "    }\n",
       "\n",
       "    .dataframe thead th {\n",
       "        text-align: right;\n",
       "    }\n",
       "</style>\n",
       "<table border=\"1\" class=\"dataframe\">\n",
       "  <thead>\n",
       "    <tr style=\"text-align: right;\">\n",
       "      <th></th>\n",
       "      <th>mean</th>\n",
       "      <th>sd</th>\n",
       "      <th>hdi_3%</th>\n",
       "      <th>hdi_97%</th>\n",
       "      <th>mcse_mean</th>\n",
       "      <th>mcse_sd</th>\n",
       "      <th>ess_bulk</th>\n",
       "      <th>ess_tail</th>\n",
       "      <th>r_hat</th>\n",
       "    </tr>\n",
       "  </thead>\n",
       "  <tbody>\n",
       "    <tr>\n",
       "      <th>mu_artist[Alok]</th>\n",
       "      <td>63.438</td>\n",
       "      <td>3.136</td>\n",
       "      <td>57.400</td>\n",
       "      <td>68.996</td>\n",
       "      <td>0.036</td>\n",
       "      <td>0.025</td>\n",
       "      <td>7770.0</td>\n",
       "      <td>2510.0</td>\n",
       "      <td>1.0</td>\n",
       "    </tr>\n",
       "    <tr>\n",
       "      <th>mu_artist[Atlas Genius]</th>\n",
       "      <td>47.235</td>\n",
       "      <td>5.751</td>\n",
       "      <td>36.262</td>\n",
       "      <td>57.621</td>\n",
       "      <td>0.058</td>\n",
       "      <td>0.042</td>\n",
       "      <td>9669.0</td>\n",
       "      <td>2996.0</td>\n",
       "      <td>1.0</td>\n",
       "    </tr>\n",
       "    <tr>\n",
       "      <th>mu_artist[Au/Ra]</th>\n",
       "      <td>57.736</td>\n",
       "      <td>5.441</td>\n",
       "      <td>47.255</td>\n",
       "      <td>67.624</td>\n",
       "      <td>0.055</td>\n",
       "      <td>0.041</td>\n",
       "      <td>9727.0</td>\n",
       "      <td>2580.0</td>\n",
       "      <td>1.0</td>\n",
       "    </tr>\n",
       "    <tr>\n",
       "      <th>mu_artist[BUNT.]</th>\n",
       "      <td>45.350</td>\n",
       "      <td>6.269</td>\n",
       "      <td>33.946</td>\n",
       "      <td>57.466</td>\n",
       "      <td>0.067</td>\n",
       "      <td>0.047</td>\n",
       "      <td>8828.0</td>\n",
       "      <td>2685.0</td>\n",
       "      <td>1.0</td>\n",
       "    </tr>\n",
       "    <tr>\n",
       "      <th>mu_artist[Beyoncé]</th>\n",
       "      <td>68.278</td>\n",
       "      <td>2.802</td>\n",
       "      <td>62.864</td>\n",
       "      <td>73.383</td>\n",
       "      <td>0.029</td>\n",
       "      <td>0.020</td>\n",
       "      <td>9516.0</td>\n",
       "      <td>2719.0</td>\n",
       "      <td>1.0</td>\n",
       "    </tr>\n",
       "  </tbody>\n",
       "</table>\n",
       "</div>"
      ],
      "text/plain": [
       "                           mean     sd  hdi_3%  hdi_97%  mcse_mean  mcse_sd  \\\n",
       "mu_artist[Alok]          63.438  3.136  57.400   68.996      0.036    0.025   \n",
       "mu_artist[Atlas Genius]  47.235  5.751  36.262   57.621      0.058    0.042   \n",
       "mu_artist[Au/Ra]         57.736  5.441  47.255   67.624      0.055    0.041   \n",
       "mu_artist[BUNT.]         45.350  6.269  33.946   57.466      0.067    0.047   \n",
       "mu_artist[Beyoncé]       68.278  2.802  62.864   73.383      0.029    0.020   \n",
       "\n",
       "                         ess_bulk  ess_tail  r_hat  \n",
       "mu_artist[Alok]            7770.0    2510.0    1.0  \n",
       "mu_artist[Atlas Genius]    9669.0    2996.0    1.0  \n",
       "mu_artist[Au/Ra]           9727.0    2580.0    1.0  \n",
       "mu_artist[BUNT.]           8828.0    2685.0    1.0  \n",
       "mu_artist[Beyoncé]         9516.0    2719.0    1.0  "
      ]
     },
     "execution_count": 17,
     "metadata": {},
     "output_type": "execute_result"
    }
   ],
   "source": [
    "# posterior mean of each artist (only the first ones are shown).\n",
    "#The mean is different for each artist.\n",
    "# The uncertainty about the posterior mean is represented by the length of its HDI.\n",
    "# Artist with many songs (like Beyoncé) have shorter HDI compared to artists with less songs(like BUNT.) \n",
    "\n",
    "# assing_coords is  used to assign  the artist name to each element of the vector mu_artist, and show the names in the summary.\n",
    "posterior = trace_unpooled.posterior.assign_coords(mu_artist_dim_0=artists)\n",
    "az.summary(posterior).head()"
   ]
  },
  {
   "cell_type": "code",
   "execution_count": 18,
   "metadata": {
    "slideshow": {
     "slide_type": "slide"
    }
   },
   "outputs": [
    {
     "data": {
      "image/png": "[encoded data removed]",
      "text/plain": [
       "<Figure size 800x300 with 1 Axes>"
      ]
     },
     "metadata": {},
     "output_type": "display_data"
    }
   ],
   "source": [
    "# The forest plot compares HDI intervals from a number of distributions  (different artists in our case).\n",
    "#The HDIs are shorter for artists that have published more songs.\n",
    "#We show only the first 5 artists: we limit and label the graph using the coords option. \n",
    "\n",
    "axes = az.plot_forest (trace_unpooled, var_names=\"mu_artist\",\n",
    "                       combined=True, # a single plot for each artist,  merging  samples from different chains.\n",
    "                       coords={\"mu_artist_dim_0\": range(5)}, figsize=(8, 3))\n",
    "artists_5 = artists[:5]\n",
    "axes[0].set_yticklabels(artists_5[::-1]);"
   ]
  },
  {
   "cell_type": "code",
   "execution_count": 19,
   "metadata": {
    "slideshow": {
     "slide_type": "slide"
    }
   },
   "outputs": [
    {
     "data": {
      "text/html": [
       "<div>\n",
       "<style scoped>\n",
       "    .dataframe tbody tr th:only-of-type {\n",
       "        vertical-align: middle;\n",
       "    }\n",
       "\n",
       "    .dataframe tbody tr th {\n",
       "        vertical-align: top;\n",
       "    }\n",
       "\n",
       "    .dataframe thead th {\n",
       "        text-align: right;\n",
       "    }\n",
       "</style>\n",
       "<table border=\"1\" class=\"dataframe\">\n",
       "  <thead>\n",
       "    <tr style=\"text-align: right;\">\n",
       "      <th></th>\n",
       "      <th>mean</th>\n",
       "      <th>sd</th>\n",
       "      <th>hdi_3%</th>\n",
       "      <th>hdi_97%</th>\n",
       "      <th>mcse_mean</th>\n",
       "      <th>mcse_sd</th>\n",
       "      <th>ess_bulk</th>\n",
       "      <th>ess_tail</th>\n",
       "      <th>r_hat</th>\n",
       "    </tr>\n",
       "  </thead>\n",
       "  <tbody>\n",
       "    <tr>\n",
       "      <th>global_sigma</th>\n",
       "      <td>14.207</td>\n",
       "      <td>0.604</td>\n",
       "      <td>13.052</td>\n",
       "      <td>15.298</td>\n",
       "      <td>0.007</td>\n",
       "      <td>0.005</td>\n",
       "      <td>6874.0</td>\n",
       "      <td>2963.0</td>\n",
       "      <td>1.0</td>\n",
       "    </tr>\n",
       "  </tbody>\n",
       "</table>\n",
       "</div>"
      ],
      "text/plain": [
       "                mean     sd  hdi_3%  hdi_97%  mcse_mean  mcse_sd  ess_bulk  \\\n",
       "global_sigma  14.207  0.604  13.052   15.298      0.007    0.005    6874.0   \n",
       "\n",
       "              ess_tail  r_hat  \n",
       "global_sigma    2963.0    1.0  "
      ]
     },
     "execution_count": 19,
     "metadata": {},
     "output_type": "execute_result"
    }
   ],
   "source": [
    "# the global_sigma represents the variations between songs produced by the same artist.\n",
    "# It is the same for every artist.\n",
    "# It is lower compared to the pooled model, as it only accounts for variations between songs of the same artists.\n",
    "az.summary(trace_unpooled, var_names='global_sigma')\n"
   ]
  },
  {
   "cell_type": "markdown",
   "metadata": {
    "slideshow": {
     "slide_type": "slide"
    }
   },
   "source": [
    "# Predictive distribution for the next song of a specific artist \n",
    "\n",
    "* For each  posterior samples $<\\mu_{\\text{Beyoncé},s}, \\sigma_s>$:\n",
    "    * sample $y_{\\text{Beyoncé},s}^{\\text{new}}$ from a normal distribution.\n",
    "\n",
    "$$\n",
    "\\left[\n",
    "\\begin{array}{ll} \n",
    "\\mu_{\\text{Beyoncé},1} &   \\sigma_1 \\\\\n",
    "\\mu_{\\text{Beyoncé},2}  & \\sigma_2 \\\\\n",
    "\\vdots & \\vdots  \\\\\n",
    "\\mu_{\\text{Beyoncé},4000}   & \\sigma_{4000} \\\\\n",
    "\\end{array}\n",
    "\\right]\n",
    "\\;\\; \\longrightarrow \\;\\;\n",
    "\\left[\n",
    "\\begin{array}{l} \n",
    "y_{\\text{Beyoncé},1}^{\\text{new}} \\\\\n",
    "y_{\\text{Beyoncé},2}^{\\text{new}}\\\\\n",
    "\\vdots \\\\\n",
    "y_{\\text{Beyoncé},4000}^{\\text{new}}\\\\\n",
    "\\end{array}\n",
    "\\right]\n",
    "$$"
   ]
  },
  {
   "cell_type": "code",
   "execution_count": null,
   "metadata": {
    "slideshow": {
     "slide_type": "slide"
    }
   },
   "outputs": [
    {
     "name": "stderr",
     "output_type": "stream",
     "text": [
      "Auto-assigning NUTS sampler...\n",
      "Initializing NUTS using jitter+adapt_diag...\n",
      "Multiprocess sampling (4 chains in 4 jobs)\n",
      "NUTS: [mu_artist, global_sigma, pred_beyonce]\n"
     ]
    }
   ],
   "source": [
    "#predictive distribution for the next song of Beyoncé, implemented in Pymc3\n",
    "\n",
    "with pm.Model() as unpooled_model_with_preds:\n",
    "    \n",
    "    #lines below as in the unpooled model \n",
    "    mu_artist         =  pm.Normal ('mu_artist', 50,  20, shape= n_artist)\n",
    "    global_sigma   =  pm.HalfNormal ('global_sigma', sigma = 30)\n",
    "    popularity         =  pm.Normal ('popularity', mu = mu_artist[spotify['artist_code']],  sigma = global_sigma, observed = spotify[\"popularity\"])\n",
    "    \n",
    "    #predictive distribution\n",
    "    pred_beyonce   = pm.Normal ('pred_beyonce', mu = mu_artist[beyonce_code],  sigma = global_sigma)\n",
    "    \n",
    "    trace_unpooled_with_preds  = pm.sample(return_inferencedata=True)"
   ]
  },
  {
   "cell_type": "code",
   "execution_count": null,
   "metadata": {
    "slideshow": {
     "slide_type": "slide"
    }
   },
   "outputs": [],
   "source": [
    "#Notice the larger uncertainty of predictive distribution, compared to the uncertainty on the posterior mean (mu_artist[Beyoncé])\n",
    "#Can you explain the reason?\n",
    "az.summary(trace_unpooled_with_preds, var_names=['pred_beyonce'], hdi_prob=.95)"
   ]
  },
  {
   "cell_type": "markdown",
   "metadata": {
    "slideshow": {
     "slide_type": "slide"
    }
   },
   "source": [
    "# Discussion\n",
    "\n",
    "* Posterior mean popularity of Beyoncé: \n",
    "\n",
    "    * the HDI is between the .025 and .975 percentile of the posterior samples of $\\mu_{\\text{Beyoncé}}$\n",
    "    \n",
    "\n",
    "* Predictive distribution for the next song by Beyoncé: \n",
    "\n",
    "    * the HDI is between the .025 and .975 percentile of the samples $y^{\\text{new}}_{\\text{Beyoncé}}$, which are generated sampling from $N(\\mu_{\\text{Beyoncé}}, \\sigma)$\n",
    "\n"
   ]
  },
  {
   "cell_type": "markdown",
   "metadata": {
    "slideshow": {
     "slide_type": "slide"
    }
   },
   "source": [
    "# Shortcoming of the unpooled model\n",
    "\n",
    "\n",
    "* estimates for artists with few songs are  uncertain\n",
    "\n",
    "    \n",
    "* it  does not model the *population* of  artists. Even though we have analyzed 44 artist, we are unable to say anything about another  Spotify artist not  present in our data set."
   ]
  },
  {
   "cell_type": "markdown",
   "metadata": {
    "slideshow": {
     "slide_type": "slide"
    }
   },
   "source": [
    "# Hierarchical model\n",
    "\n",
    "\\begin{equation}\n",
    "\\begin{array}{lrl}\n",
    "& \\hspace{-0.05in} y_{ij} \\sim N( \\mu_j, \\sigma) & \\hspace{-0.075in} \\text{distrib of  popularity of the songs of artist } j \\\\\n",
    "& \\hspace{-0.05in} \\sigma\\sim HN(\\xi) & \\hspace{-0.075in} \\text{prior on } \\sigma  \\\\\n",
    " & \\hspace{-0.05in} \\mu_j \\sim N( \\mu', \\sigma_\\mu) & \\hspace{-0.075in}  \\text{ $\\mu_j$ is a sample from the population of artists}\\\\\n",
    "& \\sigma_\\mu  \\sim HN(\\xi_2)  & \\hspace{-0.075in}\n",
    " \\text{prior beliefs about std of populairity in the population} \\\\\n",
    "& \\hspace{-0.05in}  \\mu' \\sim N(\\mu_{\\text{pop}}, \\sigma_{\\text{pop}}) &\n",
    " \\text{prior beliefs about mean popularity in the population} \\\\\n",
    "\\\\\n",
    "\\end{array}\n",
    "\\end{equation}\n",
    "\n",
    "* There is a prior over $\\mu'$ and $\\sigma_{\\mu}$ (which are instead fixed numbers in the normal-normal model). This is a *hierarchy* of priors."
   ]
  },
  {
   "cell_type": "markdown",
   "metadata": {
    "slideshow": {
     "slide_type": "slide"
    }
   },
   "source": [
    "# Individual songs for each artist.\n",
    "\n",
    "* As in the unpooled model,  the popularity of songs  of  artist $j$ are distributed:\n",
    "\n",
    "$$  y_{ij} \\sim N(\\mu_j, \\sigma) $$\n",
    "\n",
    "\n",
    "*  $σ$ is the global sigma, which is equal for  all artists.\n",
    "\n",
    "* $\\mu_j$ is however differently estimated by the unpooled and the hierarchical model; see later."
   ]
  },
  {
   "cell_type": "markdown",
   "metadata": {
    "slideshow": {
     "slide_type": "slide"
    }
   },
   "source": [
    "# Population of artists\n",
    "\n",
    "\n",
    "\n",
    "* The 44 $\\mu_j$'s  are samples  from the population of Spotify artists:\n",
    "\n",
    "\n",
    "$$ \\mu_j \\sim N(\\mu', \\sigma_{\\mu}) $$\n",
    "\n",
    "* $\\mu'$: mean of the $\\mu_j$'s in the whole population of  Spotify artists \n",
    "* $\\sigma_{\\mu}$: spread between the  $\\mu_j$'s within the population"
   ]
  },
  {
   "cell_type": "markdown",
   "metadata": {
    "slideshow": {
     "slide_type": "slide"
    }
   },
   "source": [
    "# Modeling the population of artists\n",
    "\n",
    "$$ \\mu_j \\sim N(\\mu', \\sigma_{\\mu}) $$\n",
    "\n",
    "\n",
    "* We want to learn the population of artists.\n",
    "* Both $\\mu'$ and $\\sigma_{\\mu}$ are  *parameters*, to which we will assign a prior."
   ]
  },
  {
   "cell_type": "markdown",
   "metadata": {
    "slideshow": {
     "slide_type": "slide"
    }
   },
   "source": [
    "# Notation alert\n",
    "\n",
    "*  $\\mu_j$: mean popularity of songs from  the j-th artist\n",
    "* $\\mu'$: mean value of the $\\mu_j$'s within the whole  population of artists\n",
    "\n",
    "\n",
    "* $\\sigma$:  standard deviation of popularity between songs from the same author. \n",
    "* $\\sigma_{\\mu}$ standard deviation of the $\\mu_j$ within the population of artists."
   ]
  },
  {
   "cell_type": "markdown",
   "metadata": {
    "slideshow": {
     "slide_type": "slide"
    }
   },
   "source": [
    "# Priors for  $\\mu'$ and  $\\sigma_{\\mu}$\n",
    "\n",
    "\\begin{align*}\n",
    "\\mu'           & \\sim N(50, 20) && \\text{95% pred interval is (50 +- 40)} \\\\\n",
    "\\sigma_{\\mu} & \\sim \\text{Half Normal}(6)    && \\text{spread between the different } \\mu_j  \\\\\n",
    "\\end{align*}"
   ]
  },
  {
   "cell_type": "code",
   "execution_count": null,
   "metadata": {
    "slideshow": {
     "slide_type": "slide"
    }
   },
   "outputs": [],
   "source": [
    "# how to choose the priors on sigma_mu\n",
    "# We assume the various mu_j  to vary in 0,100; hence a plausible sigma_mu is 15 (the HN has a long right tail anyway)\n",
    "pd.DataFrame(np.abs(np.random.normal(0, scale=22, size=10000))).describe(percentiles=[0.50, 0.75, 0.95])"
   ]
  },
  {
   "cell_type": "code",
   "execution_count": null,
   "metadata": {
    "slideshow": {
     "slide_type": "slide"
    }
   },
   "outputs": [],
   "source": [
    "n_artist = len(artist_count) #44\n",
    "\n",
    "with pm.Model() as hier_model:\n",
    "    \n",
    "    # prior on the parameters of the population of artists (hyper-priors). \n",
    "    \n",
    "    # prior beliefs about the mean value and the spread of the different mu_j\n",
    "    #This is where the hierarchical model differs from the unpooled model.\n",
    "    mu_pop         = pm.Normal ('mu_pop', 50,  20)\n",
    "    sigma_mu     = pm.HalfNormal ('sigma_mu', 22)\n",
    "    \n",
    "    \n",
    "    # layer 2: each artist is a sample from the population of artists; we sample n_artist times from such population.\n",
    "    mu_artist        =  pm.Normal ('mu_artist', mu=mu_pop, sigma=sigma_mu, shape= n_artist)\n",
    "    \n",
    "    # global_sigma (spread between songs of the same authors) is as in the unpooled model.\n",
    "    global_sigma   =  pm.HalfNormal ('global_sigma', sigma = 30)\n",
    "\n",
    "    #Popularity of each song is a sample from N(mu_j, global_sigma).\n",
    "    popularity    =  pm.Normal ('popularity', mu = mu_artist[spotify['artist_code']],  sigma = global_sigma, observed = spotify[\"popularity\"])\n",
    "    \n",
    "    trace_hier    = pm.sample(return_inferencedata=True)"
   ]
  },
  {
   "cell_type": "code",
   "execution_count": null,
   "metadata": {
    "slideshow": {
     "slide_type": "slide"
    }
   },
   "outputs": [],
   "source": [
    "#mu_pop is indeed close to 50 as we assumed\n",
    "#the 95% popularity of the artists varies in roughly 52 +- 30\n",
    "#the songs of a given author are comprised with 95% probability within a range of +-28 around its mean.\n",
    "az.summary(trace_hier, var_names=[\"mu_pop\", \"sigma_mu\", \"global_sigma\", \"mu_artist\"])[[\"mean\",\"hdi_3%\",\"hdi_97%\",\"r_hat\"]].head()"
   ]
  },
  {
   "cell_type": "code",
   "execution_count": null,
   "metadata": {
    "slideshow": {
     "slide_type": "slide"
    }
   },
   "outputs": [],
   "source": [
    "# preparing the traces, to be able to access using names. \n",
    "#this way the name of the artist is assigned to each mu_j\n",
    "#the trace object has an internal field called mu_artist_dim_0\n",
    "trace_unpooled.posterior = trace_unpooled.posterior.assign_coords(mu_artist_dim_0=artists)\n",
    "trace_hier.posterior = trace_hier.posterior.assign_coords(mu_artist_dim_0=artists)"
   ]
  },
  {
   "cell_type": "code",
   "execution_count": null,
   "metadata": {
    "scrolled": true,
    "slideshow": {
     "slide_type": "slide"
    }
   },
   "outputs": [],
   "source": [
    "#estimated mean popularity of each artist, according to the unpooled and to the hierarhical model\n",
    "# the expected values of the hierarchical model are pulled towards to general mean (shrinkage).\n",
    "axes = az.plot_forest([trace_unpooled, trace_hier], \n",
    "                      model_names=['unpooled_model', 'hier_model'], combined=True,\n",
    "                      var_names='mu_artist', hdi_prob=0.95, coords={\"mu_artist_dim_0\": artists[0:10]},  figsize=(8, 4));\n",
    "#mean popularity of all songs\n",
    "grand_mean = spotify[\"popularity\"].mean()\n",
    "axes[0].axvline(x=grand_mean);"
   ]
  },
  {
   "cell_type": "markdown",
   "metadata": {
    "slideshow": {
     "slide_type": "slide"
    }
   },
   "source": [
    "# Shrinkage: pulling the estimates towards the grand mean\n",
    "\n",
    "*  The pooled  model ignores the fact that our data is grouped by artist.\n",
    "\n",
    "\n",
    "*  The unpooled model separately analyzes each artist ignoring the information about the grand mean.\n",
    "\n",
    "\n",
    "* The hierarchical model pulls  the estimates of the unpooled model  towards the grand mean (*shrinkage*).\n"
   ]
  },
  {
   "cell_type": "markdown",
   "metadata": {
    "slideshow": {
     "slide_type": "slide"
    }
   },
   "source": [
    "# Shrinkage\n",
    "\n",
    "* Given $\\sigma^2$ and  $\\sigma^2_{\\mu}$, the posterior mean of the hierarchical model for  artist $j$  is: \n",
    "\n",
    "$$\n",
    "\\overline{\\mu}_{j,\\text{hier}} =\n",
    "\\underbrace{\n",
    "\\frac{\\sigma^2}{\\sigma^2 + n_j \\sigma^2_{\\mu}}\n",
    "}_{\\text{weight of the grand mean}}\n",
    "\\overline{\\mu}_{\\text{pooled}} + \n",
    "\\underbrace{\n",
    "\\frac{n_j\\sigma^2_{\\mu}}{\\sigma^2+ n_j \\sigma^2_{\\mu}}\n",
    "}_{\\text{weight of the estimate of the unpooled model}}\n",
    "\\overline{\\mu}_{j, \\text{unpooled}}\n",
    "$$\n",
    "\n",
    "* We denote by $\\overline{\\mu}$ the posterior mean."
   ]
  },
  {
   "cell_type": "markdown",
   "metadata": {
    "slideshow": {
     "slide_type": "slide"
    }
   },
   "source": [
    "# Shrinkage\n",
    "\n",
    "$$\n",
    "\\overline{\\mu}_{j,\\text{hier}} =\n",
    "\\underbrace{\n",
    "\\frac{\\sigma^2}{\\sigma^2 + n_j \\sigma^2_{\\mu}}\n",
    "}_{\\text{weight of the grand mean}}\n",
    "\\overline{\\mu}_{\\text{pooled}} + \n",
    "\\underbrace{\n",
    "\\frac{n_j\\sigma^2_{\\mu}}{\\sigma^2+ n_j \\sigma^2_{\\mu}}\n",
    "}_{\\text{weight of the estimate of the unpooled model}}\n",
    "\\overline{\\mu}_{j, \\text{unpooled}}\n",
    "$$\n",
    "\n",
    "\n",
    "* If $n_j$ is small:  $$\\overline{\\mu}_{j,\\text{hier}}  \\approx \\overline{\\mu}_{\\text{pooled}}$$\n",
    "\n",
    "* If $n_j$ is large:  $$\\overline{\\mu}_{j,\\text{hier}}  \\approx \\overline{\\mu}_{j, \\text{unpooled}}$$\n",
    "\n",
    "\n"
   ]
  },
  {
   "cell_type": "markdown",
   "metadata": {
    "slideshow": {
     "slide_type": "slide"
    }
   },
   "source": [
    "# Shrinkage\n",
    "\n",
    "$$\n",
    "\\overline{\\mu}_{j,\\text{hier}} =\n",
    "\\underbrace{\n",
    "\\frac{\\sigma^2}{\\sigma^2 + n_j \\sigma^2_{\\mu}}\n",
    "}_{\\text{weight of the grand mean}}\n",
    "\\overline{\\mu}_{\\text{pooled}} + \n",
    "\\underbrace{\n",
    "\\frac{n_j\\sigma^2_{\\mu}}{\\sigma^2+ n_j \\sigma^2_{\\mu}}\n",
    "}_{\\text{weight of the estimate of the unpooled model}}\n",
    "\\overline{\\mu}_{j, \\text{unpooled}}\n",
    "$$\n",
    "\n",
    "\n",
    "* If $\\sigma^2  \\gg \\sigma^2_{\\mu}$: $ \\overline{\\mu}_{j,\\text{hier}}  \\approx \\overline{\\mu}_{\\text{pooled}}$\n",
    "\n",
    "* If $\\sigma^2  \\ll \\sigma^2_{\\mu}$:  $$ \\overline{\\mu}_{j,\\text{hier}}  \\approx \\overline{\\mu}_{j, \\text{unpooled}}$$\n",
    "\n",
    "\n"
   ]
  },
  {
   "cell_type": "markdown",
   "metadata": {
    "slideshow": {
     "slide_type": "slide"
    }
   },
   "source": [
    "# Shrinkage\n",
    "\n",
    "* This allows  understanding *shrinkage*.\n",
    "\n",
    "\n",
    "* The behavior of the model is in reality more complex as  variances and means are parameters.\n",
    "\n",
    "\n",
    "* Hence a different weighted sum is computed  for each posterior sample of the trace. "
   ]
  },
  {
   "cell_type": "code",
   "execution_count": null,
   "metadata": {
    "slideshow": {
     "slide_type": "slide"
    }
   },
   "outputs": [],
   "source": [
    "# here we define shrinkage as the difference between the posterior mean of the hierarchical model \n",
    "# and the unpooled model, in absolute value.\n",
    "# We show that  shrinkage, in absolute value, decreases with  the number of songs that one  artist has..\n",
    "\n",
    "n_j = spotify['artist'].value_counts(sort=False)\n",
    "mean_unpooled = az.summary(trace_unpooled, var_names=[\"mu_artist\"])[\"mean\"]\n",
    "mean_hier = az.summary(trace_hier, var_names=[\"mu_artist\"])[\"mean\"]\n",
    "\n",
    "#absolute value of the shrinkage\n",
    "shrinkage = pd.Series((mean_hier-mean_unpooled).values, index=artists).abs()\n",
    "\n",
    "df = pd.concat([n_j, shrinkage], axis=1)\n",
    "df.columns = [\"n_j\", \"shrinkage\"]\n",
    "plt.plot(df[\"n_j\"], df[\"shrinkage\"], \"*\")\n",
    "plt.xlabel(\"n_j\")\n",
    "plt.ylabel(\"shrinkage\"); "
   ]
  },
  {
   "cell_type": "markdown",
   "metadata": {
    "slideshow": {
     "slide_type": "slide"
    }
   },
   "source": [
    "# Predictive distribution for the next song of a known artist\n",
    "\n",
    "$$\n",
    "\\left[\n",
    "\\begin{array}{ll} \n",
    "\\mu_{\\text{Beyoncé},1} &   \\sigma_1 \\\\\n",
    "\\mu_{\\text{Beyoncé},2}  & \\sigma_2 \\\\\n",
    "\\vdots & \\vdots  \\\\\n",
    "\\mu_{\\text{Beyoncé},4000}   & \\sigma_{4000} \\\\\n",
    "\\end{array}\n",
    "\\right]\n",
    "\\;\\; \\longrightarrow \\;\\;\n",
    "\\left[\n",
    "\\begin{array}{l} \n",
    "y_{\\text{Beyoncé},1}^{\\text{new}} \\\\\n",
    "y_{\\text{Beyoncé},2}^{\\text{new}}\\\\\n",
    "\\vdots \\\\\n",
    "y_{\\text{Beyoncé},4000}^{\\text{new}}\\\\\n",
    "\\end{array}\n",
    "\\right]\n",
    "$$\n",
    "\n",
    "* This works in the same way of the unpooled model,  with the difference that the values of $\\mu_{\\text{Beyoncé}}$ will be (slightly) pulled towards the general mean."
   ]
  },
  {
   "cell_type": "markdown",
   "metadata": {
    "slideshow": {
     "slide_type": "slide"
    }
   },
   "source": [
    "# Predictive distribution for the first song artist of a new artist \n",
    "\n",
    "* It requires two sampling steps.\n",
    "\n",
    "\n",
    "* First we sample possible values of $\\mu_{\\text{new a}}$ of the new artist from the population of artists.\n",
    "\n",
    "\n",
    "* Given the samples of $\\mu_{\\text{new a}}$, we follow the same procedure of the  artists with songs.\n",
    "\n"
   ]
  },
  {
   "cell_type": "markdown",
   "metadata": {
    "slideshow": {
     "slide_type": "slide"
    }
   },
   "source": [
    "# Predictive distribution for the first song artist of a new artist \n",
    "\n",
    "* We create samples for $\\mu_{\\text{new a}}$  by using the  posterior samples of $\\mu'$ and $\\sigma_{\\mu}$, i.e., by sampling from the population of artists.\n",
    "\n",
    "$$\n",
    "\\left[\n",
    "\\begin{array}{ll} \n",
    "\\mu'_{,1} &   \\sigma_{\\mu,1} \\\\\n",
    "\\mu'_{,2}  & \\sigma_{\\mu,2} \\\\\n",
    "\\vdots & \\vdots  \\\\\n",
    "\\mu_{',4000}   & \\sigma_{\\mu,4000} \\\\\n",
    "\\end{array}\n",
    "\\right]\n",
    "\\;\\; \\longrightarrow \\;\\;\n",
    "\\left[\n",
    "\\begin{array}{l} \n",
    "\\mu_{\\text{new a},1} \\\\\n",
    "\\mu_{\\text{new a},2}\\\\\n",
    "\\vdots \\\\\n",
    "\\mu_{\\text{new a},4000}\\\\\n",
    "\\end{array}\n",
    "\\right]\n",
    "$$"
   ]
  },
  {
   "cell_type": "markdown",
   "metadata": {
    "slideshow": {
     "slide_type": "slide"
    }
   },
   "source": [
    "# Predictive distribution for the next song of a  known artist\n",
    "\n",
    "* For each posterior sample  $<\\mu_{\\text{new a},s}, \\sigma_s>$, draw a value from $N(\\mu_{\\text{new a},s}, \\sigma_s)$.\n",
    "\n",
    "$$\n",
    "\\left[\n",
    "\\begin{array}{ll} \n",
    "\\mu_{\\text{new a},1} &   \\sigma_1 \\\\\n",
    "\\mu_{\\text{new a},2}  & \\sigma_2 \\\\\n",
    "\\vdots & \\vdots  \\\\\n",
    "\\mu_{\\text{new a},4000}   & \\sigma_{4000} \\\\\n",
    "\\end{array}\n",
    "\\right]\n",
    "\\;\\; \\longrightarrow \\;\\;\n",
    "\\left[\n",
    "\\begin{array}{l} \n",
    "y_{\\text{new a},1} \\\\\n",
    "y_{\\text{new a},2}\\\\\n",
    "\\vdots \\\\\n",
    "y_{\\text{new a},4000}\\\\\n",
    "\\end{array}\n",
    "\\right]\n",
    "$$"
   ]
  },
  {
   "cell_type": "markdown",
   "metadata": {
    "slideshow": {
     "slide_type": "slide"
    }
   },
   "source": [
    "# Your turn\n",
    "\n",
    "* Working on the raw samples from the trace, compute:\n",
    "\n",
    "    * the predictive distribution for the next song of Beyonce and BUNT using  the hierarchical and the unpooled model; comment the results.\n",
    "\n",
    "    * the predictive distribution for the first song of a a new artist using to the hierarchical model.\n",
    "\n",
    "    * hint:  use `beyonce_code` as index  for the position Beyonce within mu_artist\n",
    "\n"
   ]
  },
  {
   "cell_type": "markdown",
   "metadata": {
    "slideshow": {
     "slide_type": "slide"
    }
   },
   "source": [
    "# Your turn - 2\n",
    "\n",
    "* Alicia  invites four friends to  take 20 times a  speed-typing test. Let $y_{ij}$ be the time it takes friend $j$ to complete test $i$.\n",
    "\n",
    "* Define a hierarchical model and discuss the meaning of $μ_j$, $μ'$, $σ$, $σ_{\\mu}$.\n",
    "    \n",
    "* Assume that each person is  consistent in his typing times, but there are big differences from person to person. \n",
    "\n",
    "    * Is  $ \\sigma$  lower, larger or close to $\\sigma_{\\mu}$?\n"
   ]
  },
  {
   "cell_type": "markdown",
   "metadata": {
    "slideshow": {
     "slide_type": "slide"
    }
   },
   "source": [
    "# Grouping variable or covariate?\n",
    "\n",
    "* Consider a categorical variable  $X$.\n",
    "\n",
    "\n",
    "* Should $X$  be modeled  hierarchically  or  treated as a categorical variable (unpooled model)?\n",
    "\n",
    "    *   if the data covers all categories,  it is better treated as a categorical variable\n",
    "    \n",
    "    *  if the observed categories are only a  sample from many possible ones,  the hierarchical approach is recommended.\n"
   ]
  },
  {
   "cell_type": "markdown",
   "metadata": {
    "slideshow": {
     "slide_type": "slide"
    }
   },
   "source": [
    "# Grouping variable or covariate?\n",
    "\n",
    "\n",
    "* Our data set includes only  44 among thousands of artists on Spotify. Treating artist as a categorical variable (unpooled model) would limit our conclusions  to  this small sample.\n",
    "\n",
    "\n",
    "* Treating it as a grouping variable (hierarchical model) allows us to learn about the  broader population of artists from which they were sampled.\n"
   ]
  },
  {
   "cell_type": "markdown",
   "metadata": {
    "slideshow": {
     "slide_type": "slide"
    }
   },
   "source": [
    "# Grouping variable or covariate?\n",
    "\n",
    "* A daily data set of bike-sharing covers two years;  we know whether each day  was a weekday or a weekend.\n",
    "\n",
    "* The dataset covers both categories, with many observations for each category.\n",
    "\n",
    "* Hence  it is better treated as a categorical variable (unpooled model)."
   ]
  },
  {
   "cell_type": "markdown",
   "metadata": {
    "slideshow": {
     "slide_type": "slide"
    }
   },
   "source": [
    "# Grouping variable or covariate?\n",
    "\n",
    "* Consider a data set containing math scores  from of 10  Swiss primary schools; this is a  small sample from the hundreds  of schools.\n",
    "\n",
    "\n",
    "* The unpooled model  learns only about this small sample of schools.\n",
    "\n",
    "\n",
    "* The hierarchical model   extends its conclusions to the  population of all schools; this is a better modelling choice.\n",
    "    \n",
    "    \n",
    "* The same consideration applies if you want to analyze e.g. data of a certain disease collected by different hospitals."
   ]
  },
  {
   "cell_type": "markdown",
   "metadata": {
    "slideshow": {
     "slide_type": "slide"
    }
   },
   "source": [
    "# Solutions"
   ]
  },
  {
   "cell_type": "code",
   "execution_count": null,
   "metadata": {
    "slideshow": {
     "slide_type": "slide"
    }
   },
   "outputs": [],
   "source": [
    "#prediction for Beyonce using the unpooled and the hierarchical model \n",
    "post_hier         = az.extract(trace_hier.posterior)\n",
    "mu_beyonce_hier   = post_hier.mu_artist[beyonce_code].values\n",
    "global_sigma_hier = post_hier.global_sigma.values\n",
    "\n",
    "post_unpooled          = az.extract(trace_unpooled.posterior)\n",
    "mu_beyonce_unpooled    = post_unpooled.mu_artist[beyonce_code].values\n",
    "global_sigma_unpooled  = post_unpooled.global_sigma.values\n",
    "\n",
    "y_beyonce_hier          = np.zeros(len(mu_beyonce_hier))\n",
    "y_beyonce_unpooled = np.zeros(len(mu_beyonce_hier))\n",
    "\n",
    "for i, current_mu in enumerate(mu_beyonce_hier):\n",
    "        y_beyonce_hier[i]          = np.random.normal (loc = mu_beyonce_hier[i], scale = global_sigma_hier[i])\n",
    "        y_beyonce_unpooled[i] = np.random.normal (loc = mu_beyonce_unpooled[i], scale = global_sigma_unpooled[i])\n",
    "\n",
    "#the predictions of the hierarchical model are slightly lower and pulled towards the mean of the pooled model.\n",
    "#yet the difference is small since there are many songs from Beyonce. \n",
    "print('hier: ')\n",
    "print(pd.DataFrame(y_beyonce_hier).describe(percentiles=[0.025, 0.975]))\n",
    "print('\\n\\n')\n",
    "\n",
    "print('unpooled:')\n",
    "print(pd.DataFrame(y_beyonce_unpooled).describe(percentiles=[0.025, 0.975]))"
   ]
  },
  {
   "cell_type": "code",
   "execution_count": null,
   "metadata": {
    "slideshow": {
     "slide_type": "slide"
    }
   },
   "outputs": [],
   "source": [
    "#prediction for a novel artist\n",
    "post_hier   = az.extract(trace_hier.posterior)\n",
    "\n",
    "#posterior parameters of the population\n",
    "mu_population     = post_hier.mu_pop.values\n",
    "sigma_population = post_hier.sigma_mu.values\n",
    "\n",
    "mu_new_artist  = np.zeros(len(mu_population))\n",
    "\n",
    "for i, current_mu in enumerate(mu_population):\n",
    "        mu_new_artist[i] = np.random.normal (loc = mu_population[i], scale = sigma_population[i])\n",
    "\n",
    "#now we have the distribution for the mean of the novel artist.\n",
    "#we thus compute the distribution for its next song\n",
    "global_sigma = post_hier.global_sigma.values\n",
    "popularity_new_song_new_artist  = np.zeros(len(global_sigma))\n",
    "\n",
    "for i, current_mu in enumerate(mu_population):\n",
    "        popularity_new_song_new_artist[i] = np.random.normal (loc = mu_new_artist[i], scale = global_sigma[i])\n",
    "\n",
    "#we obtain a  large predictive distribution, whose 95% hdi varies between 9.8 and 94.\n",
    "#there is a major increase in the std wrt a known artist such as Beyonce.\n",
    "pd.DataFrame(popularity_new_song_new_artist).describe(percentiles=[0.025, 0.975])        "
   ]
  }
 ],
 "metadata": {
  "celltoolbar": "Slideshow",
  "hide_input": false,
  "kernelspec": {
   "display_name": "Python 3 (ipykernel)",
   "language": "python",
   "name": "python3"
  },
  "language_info": {
   "codemirror_mode": {
    "name": "ipython",
    "version": 3
   },
   "file_extension": ".py",
   "mimetype": "text/x-python",
   "name": "python",
   "nbconvert_exporter": "python",
   "pygments_lexer": "ipython3",
   "version": "3.8.17"
  }
 },
 "nbformat": 4,
 "nbformat_minor": 4
}
