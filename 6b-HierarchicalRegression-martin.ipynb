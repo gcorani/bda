{
 "cells": [
  {
   "cell_type": "code",
   "execution_count": 5,
   "metadata": {
    "slideshow": {
     "slide_type": "skip"
    }
   },
   "outputs": [],
   "source": [
    "%matplotlib inline\n",
    "import pymc3 as pm\n",
    "import numpy as np\n",
    "import scipy.stats as stats\n",
    "import pandas as pd\n",
    "import matplotlib.pyplot as plt\n",
    "import arviz as az\n",
    "import seaborn as sns\n",
    "from IPython.display import display, Markdown\n",
    "az.style.use('arviz-darkgrid')\n",
    "np.random.seed(44)\n"
   ]
  },
  {
   "cell_type": "code",
   "execution_count": 30,
   "metadata": {
    "slideshow": {
     "slide_type": "skip"
    }
   },
   "outputs": [],
   "source": [
    "import seaborn as sns\n",
    "sns.set_theme()\n",
    "plt.rcParams['font.size'] = 15\n",
    "plt.rcParams['legend.fontsize'] = 'medium'\n",
    "plt.rcParams.update({\n",
    "    \"figure.figsize\": [8, 4],\n",
    "    'figure.facecolor': '#fffff8',\n",
    "    'axes.facecolor': '#fffff8',\n",
    "    'figure.constrained_layout.use': True,\n",
    "    'font.size': 14.0,\n",
    "    'hist.bins': 'auto',\n",
    "    'lines.linewidth': 3.0,\n",
    "    'lines.markeredgewidth': 2.0,\n",
    "    'lines.markerfacecolor': 'none',\n",
    "    'lines.markersize': 8.0, \n",
    "})\n",
    "sns.set(rc={'figure.figsize':(10,6)})"
   ]
  },
  {
   "cell_type": "markdown",
   "metadata": {
    "slideshow": {
     "slide_type": "slide"
    }
   },
   "source": [
    "# Hierarchical regression\n",
    "\n",
    "\n",
    "Giorgio Corani <br/>\n",
    "*Bayesian Data Analysis and Probabilistic Programming*\n",
    "<br/>\n",
    "<br/>\n",
    "``giorgio.corani@supsi.ch``\n",
    "\n",
    "\n",
    "\n"
   ]
  },
  {
   "cell_type": "markdown",
   "metadata": {
    "slideshow": {
     "slide_type": "slide"
    }
   },
   "source": [
    "# Outline\n",
    "* Hierarchical regression\n",
    "* Varying variance"
   ]
  },
  {
   "cell_type": "markdown",
   "metadata": {
    "slideshow": {
     "slide_type": "slide"
    }
   },
   "source": [
    "# Credits \n",
    "\n",
    "*  Based on Chapter 3 of O. Martin, *Bayesian Analysis with Python, Second Edition*.\n",
    "*  Adapted by G. Corani"
   ]
  },
  {
   "cell_type": "markdown",
   "metadata": {
    "collapsed": true
   },
   "source": [
    "## Regresión lineal jerárquica\n",
    "\n",
    "En el capítulo anterior, aprendimos los rudimentos de los modelos jerárquicos. Este mismo concepto se puede aplicar a las regresiones lineales. Esto permite que los modelos realicen inferencias a nivel de subgrupo y a nivel global. Como ya vimos, esto se hace incluyendo hiperpriors.\n",
    "\n",
    "Vamos a crear ocho grupos de datos relacionados, incluido uno con un solo dato"
   ]
  },
  {
   "cell_type": "code",
   "execution_count": null,
   "metadata": {},
   "outputs": [],
   "source": [
    "N = 20\n",
    "M = 8\n",
    "idx = np.repeat(range(M-1), N)\n",
    "idx = np.append(idx, 7)\n",
    "np.random.seed(314)\n",
    "\n",
    "alfa_real = np.random.normal(2.5, 0.5, size=M)\n",
    "beta_real = np.random.beta(6, 1, size=M)\n",
    "eps_real = np.random.normal(0, 0.5, size=len(idx))\n",
    "\n",
    "y_m = np.zeros(len(idx))\n",
    "x_m = np.random.normal(10, 1, len(idx))\n",
    "y_m = alfa_real[idx] + beta_real[idx] * x_m  + eps_real\n",
    "\n",
    "_, ax = plt.subplots(2, 4, figsize=(10,5), sharex=True, sharey=True)\n",
    "ax = np.ravel(ax)\n",
    "j, k = 0, N\n",
    "for i in range(M):\n",
    "    ax[i].scatter(x_m[j:k], y_m[j:k])\n",
    "    ax[i].set_xlabel('$x_{}$'.format(i))\n",
    "    ax[i].set_ylabel('$y_{}$'.format(i), rotation=0, labelpad=15)\n",
    "    ax[i].set_xlim(6, 15)\n",
    "    ax[i].set_ylim(7, 17)\n",
    "    j += N\n",
    "    k += N\n",
    "plt.tight_layout();"
   ]
  },
  {
   "cell_type": "markdown",
   "metadata": {},
   "source": [
    "Vamos a centrar los datos antes de pasárselos al modelo."
   ]
  },
  {
   "cell_type": "code",
   "execution_count": null,
   "metadata": {},
   "outputs": [],
   "source": [
    "x_centered = x_m - x_m.mean()"
   ]
  },
  {
   "cell_type": "code",
   "execution_count": null,
   "metadata": {},
   "outputs": [],
   "source": [
    "with pm.Model() as hierarchical_model:\n",
    "    # hyper-priors\n",
    "    α_μ_tmp = pm.Normal('α_μ_tmp', mu=0, sd=10)\n",
    "    α_σ_tmp = pm.HalfNormal('α_σ_tmp', 10)\n",
    "    β_μ = pm.Normal('β_μ', mu=0, sd=10)\n",
    "    β_σ = pm.HalfNormal('β_σ', sd=10)\n",
    "\n",
    "    # priors\n",
    "    α_tmp = pm.Normal('α_tmp', mu=α_μ_tmp, sd=α_σ_tmp, shape=M)\n",
    "    β = pm.Normal('β', mu=β_μ, sd=β_σ, shape=M)\n",
    "    ϵ = pm.HalfCauchy('ϵ', 5)\n",
    "    ν = pm.Exponential('ν', 1/30)\n",
    "\n",
    "    y_pred = pm.StudentT('y_pred', mu=α_tmp[idx] + β[idx] * x_centered, sd=ϵ, nu=ν, observed=y_m)\n",
    "\n",
    "    α = pm.Deterministic('α', α_tmp - β * x_m.mean()) \n",
    "\n",
    "    trace_hm = pm.sample(1000, tune=1000)"
   ]
  },
  {
   "cell_type": "code",
   "execution_count": null,
   "metadata": {},
   "outputs": [],
   "source": [
    "az.plot_forest(trace_hm, var_names=['α', 'β'], figsize=(8, 9), combined=True, r_hat=False, ess=False);"
   ]
  },
  {
   "cell_type": "markdown",
   "metadata": {},
   "source": [
    "Dibujemos las líneas ajustadas, para cada uno de los ocho grupos."
   ]
  },
  {
   "cell_type": "code",
   "execution_count": null,
   "metadata": {},
   "outputs": [],
   "source": [
    "# add uncertainty\n",
    "_, ax = plt.subplots(2, 4, figsize=(10,5), sharex=True, sharey=True)\n",
    "ax = np.ravel(ax)\n",
    "j, k = 0, N\n",
    "x_range = np.linspace(x_m.min(), x_m.max(), 10)\n",
    "for i in range(M):\n",
    "    ax[i].scatter(x_m[j:k], y_m[j:k])\n",
    "    ax[i].set_xlabel('$x_{}$'.format(i))\n",
    "    ax[i].set_ylabel('$y_{}$'.format(i), labelpad=10, rotation=0)\n",
    "    alfa_m = trace_hm['α'][:,i].mean()\n",
    "    beta_m = trace_hm['β'][:,i].mean()\n",
    "    ax[i].plot(x_range, alfa_m + beta_m * x_range, c='k',\n",
    "             label='y = {:.2f} + {:.2f} * x'.format(alfa_m, beta_m))\n",
    "    plt.xlim(x_m.min()-1, x_m.max()+1)\n",
    "    plt.ylim(y_m.min()-1, y_m.max()+1)\n",
    "    j += N\n",
    "    k += N\n",
    "plt.tight_layout();"
   ]
  },
  {
   "cell_type": "markdown",
   "metadata": {},
   "source": [
    "## Regresión polinomial\n",
    "\n",
    "\n",
    "Ahora vamos a aprender cómo ajustar curvas usando una regresión lineal. Una manera de ajustar curvas usando un modelo de regresión lineal es construyendo un polinomio como este:\n",
    "\n",
    "$$\\mu = \\beta_0 x^0 + \\beta_1 x^1  \\dots + \\beta_m x^m \\tag{3.12} $$\n",
    "\n",
    "Si prestamos atención, podemos ver que este polinomio _esconde_  un modelo lineal simple. De hecho si hacemos que $\\beta_n = 0$ para $n \\gt 1$ obtendremos:\n",
    "\n",
    "$$\\mu = \\beta_0 + \\beta_1 x^1 \\tag{3.13} $$\n",
    "\n",
    "Que no es otra cosa que la ecuación de una recta. Una regresión polinomial sigue siendo una regresión lineal, ya que la linearidad del modelo está relacionada con la forma en que los parámetros entran en el modelo y no con las variables. Probemos construyendo una regresión polinomial de grado 2.\n",
    "\n",
    "$$\\mu = \\beta_0 + \\beta_1 x^1 + \\beta_2 x^2 \\tag{3.14} $$\n",
    "\n",
    "El tercer término controla la curvatura de la relación como veremos a continuación.\n",
    "\n",
    "Como un conjunto de datos, vamos a utilizar el segundo grupo del cuarteto de Anscombe."
   ]
  },
  {
   "cell_type": "code",
   "execution_count": null,
   "metadata": {},
   "outputs": [],
   "source": [
    "#ans = pd.read_csv('anscombe.csv')\n",
    "x_2 = ans[ans.group == 'II']['x'].values\n",
    "y_2 = ans[ans.group == 'II']['y'].values\n",
    "x_2 = x_2 - x_2.mean()\n",
    "#y_2 = y_2 - y_2.mean()\n",
    "\n",
    "plt.scatter(x_2, y_2)\n",
    "plt.xlabel('x')\n",
    "plt.ylabel('y', rotation=0);"
   ]
  },
  {
   "cell_type": "code",
   "execution_count": null,
   "metadata": {},
   "outputs": [],
   "source": [
    "with pm.Model() as model_poly:\n",
    "    α = pm.Normal('α', mu=y_2.mean(), sd=1)\n",
    "    β1 = pm.Normal('β1', mu=0, sd=1)\n",
    "    β2 = pm.Normal('β2', mu=0, sd=1)\n",
    "    ϵ = pm.HalfCauchy('ϵ', 5)\n",
    "\n",
    "    mu = α + β1 * x_2 + β2 * x_2**2\n",
    "    \n",
    "    y_pred = pm.Normal('y_pred', mu=mu, sd=ϵ, observed=y_2)\n",
    "    \n",
    "    trace_poly = pm.sample(2000)"
   ]
  },
  {
   "cell_type": "markdown",
   "metadata": {},
   "source": [
    "Once again, we are going to omit some checks and summaries and just plot the results, a nice curved line fitting the data almost with no errors. Take into account the minimalistic nature of the dataset."
   ]
  },
  {
   "cell_type": "code",
   "execution_count": null,
   "metadata": {},
   "outputs": [],
   "source": [
    "az.plot_trace(trace_poly);"
   ]
  },
  {
   "cell_type": "code",
   "execution_count": null,
   "metadata": {},
   "outputs": [],
   "source": [
    "az.summary(trace_poly)"
   ]
  },
  {
   "cell_type": "code",
   "execution_count": null,
   "metadata": {},
   "outputs": [],
   "source": [
    "x_p = np.linspace(-6, 6)\n",
    "y_p = trace_poly['α'].mean() + trace_poly['β1'].mean() * x_p + trace_poly['β2'].mean() * x_p**2\n",
    "plt.scatter(x_2, y_2)\n",
    "plt.xlabel('$x$', fontsize=16)\n",
    "plt.ylabel('$y$', fontsize=16, rotation=0)\n",
    "plt.plot(x_p, y_p, c='C1');"
   ]
  },
  {
   "cell_type": "markdown",
   "metadata": {},
   "source": [
    "### Interpretando los parámetros de una regresión polinomial\n",
    "\n",
    "Uno de los problemas de la regresión polinómica es la interpretación de sus parámetros. Si queremos saber cómo cambia $y$ por unidad de cambio de $x$, no podemos simplemente verificar el valor de $\\beta_1$, ya que $\\beta_2$, y los coeficientes más altos (de estar presentes), tendrán un efecto en dicha cantidad. Entonces los coeficientes $\\beta$ ya no son pendientes, son otra cosa. En el ejemplo anterior, $\\beta_1$ es positivo y, por lo tanto, la curva comienza con una pendiente positiva, pero $\\beta_2$ es negativo y, por lo tanto, después de un tiempo, la línea comienza a curvarse hacia abajo. Es como si tuviéramos dos fuerzas en juego, una empujando la línea hacia arriba y la otra hacia abajo. La interacción depende del valor de $x$. Cuando $x \\lessapprox 11$ (en la escala original, o 2 en la escala centrada), la contribución dominante proviene de $\\beta_1$, y cuando $x \\gtrapprox 11$, entonces $\\beta_2$ domina.\n",
    "\n",
    "El problema de interpretar los parámetros no es solo un problema matemático, ya que esto se puede resolver mediante una inspección cuidadosa del modelo. El problema es que, en muchos casos, los parámetros no se traducen a cantidades que tengan sentido a la luz de nuestro conocimiento de dominio. Es decir no podemos relacionarlos con la tasa metabólica de una célula, la energía emitida por una galaxia o el número de habitaciones en una casa. Los parámetros terminan siendo simplemente perillas que podemos manipular para mejorar el ajuste pero sin un significado claro. En la práctica, la mayoría de la gente suele estar de acuerdo en que los polinomios de orden superior a dos o tres generalmente no son modelos muy útiles y se prefieren alternativas, quizá como los Procesos Gaussianos.\n"
   ]
  },
  {
   "cell_type": "markdown",
   "metadata": {},
   "source": [
    "## Regresión lineal Multiple\n",
    "\n",
    "\n",
    "Hasta ahora hemos estado trabajando con una variable dependiente y una variable independiente, sin embargo no es inusual tener varias variables independientes que queremos incluir en nuestro modelo. Algunos ejemplos podrían ser:\n",
    "\n",
    "* Calidad percibida del vino (dependiente) y acidez, densidad, nivel de alcohol, azúcar residual y contenido de sulfatos (variables independientes)\n",
    "* Calificaciones promedio de los estudiantes (dependientes) e ingresos familiares, distancia de la casa a la escuela y educación de la madre (variable categórica)\n",
    "\n",
    "Podemos extender fácilmente el modelo de regresión lineal simple para tratar con más de una variable independiente. Llamamos a este modelo regresión lineal múltiple, que no debe confundirse con la regresión lineal multivariada, que corresponde con el caso de múltiples variables dependientes.\n",
    "\n",
    "En una regresión lineal múltiple modelamos la media de la variable dependiente como:\n",
    "\n",
    "$$\\mu = \\alpha + \\beta_1 x_1 + \\beta_2 x_2 \\dots + \\beta_m x_m \\tag{3.15}$$\n",
    "\n",
    "La expresión 3.15 se parece a una regresión polinomial (ecuación 3.12), pero no es exactamente lo mismo. Para la regresión lineal múltiple tenemos diferentes variables independientes en lugar de potencias sucesivas de la misma variable independiente. Desde el punto de vista de la regresión lineal múltiple, podemos decir que una regresión polinomial es como una regresión lineal múltiple pero con variables _inventadas_.\n",
    "\n",
    "Usando la notación de álgebra lineal, podemos escribir una versión más corta:\n",
    "\n",
    "$$\\mu = \\alpha + X \\beta \\tag{3.16}$$\n",
    "\n",
    "\n",
    "Donde $\\beta$ es un vector de coeficientes de longitud $m$, es decir, el número de variables dependientes. La variable $X$ es una matriz de tamaño $m \\times n$ si $n$ es el número de observaciones y $m$ es el número de variables independientes. Si estás un poco oxidado con el álgebra lineal, puedes consultar el artículo de Wikipedia sobre el producto escalar entre dos vectores y su generalización a la multiplicación de matrices. Básicamente lo que necesitamos saber por el momento es que estamos usando una forma más corta y conveniente de escribir nuestro modelo:\n",
    "\n",
    "$$X \\beta = \\sum_{i=1}^n \\beta_ix_i = \\beta_1 x_1 + \\beta_2 x_2 \\dots + \\beta_m x_m \\tag{3.17} $$\n",
    "\n",
    "Usando el modelo de regresión lineal simple, encontramos una línea recta que (con suerte) explica nuestros datos. Bajo el modelo de regresión lineal múltiple, encontramos, en cambio, un hiperplano de dimensión $m$. Por lo tanto, el modelo de regresión lineal múltiple es esencialmente el mismo modelo de regresión lineal simple, la única diferencia es que ahora $\\beta $ es un vector y $X$ es una matriz.\n",
    "\n",
    "Vamos a definir nuestros datos:"
   ]
  },
  {
   "cell_type": "code",
   "execution_count": null,
   "metadata": {},
   "outputs": [],
   "source": [
    "np.random.seed(314)\n",
    "N = 100\n",
    "alpha_real = 2.5\n",
    "beta_real = [0.9, 1.5]\n",
    "eps_real = np.random.normal(0, 0.5, size=N)\n",
    "\n",
    "X = np.array([np.random.normal(i, j, N) for i,j in zip([10, 2], [1, 1.5])]).T\n",
    "X_mean = X.mean(axis=0, keepdims=True)\n",
    "X_centered = X - X_mean\n",
    "y = alpha_real + np.dot(X, beta_real) + eps_real"
   ]
  },
  {
   "cell_type": "markdown",
   "metadata": {},
   "source": [
    "A continuación vamos a definir una función que realiza tres gráficos de dispersión, dos entre cada variable independiente y la variable dependiente y el último entre ambas variables dependientes. Usaremos esta función para ayudarnos durante el resto del capítulo:"
   ]
  },
  {
   "cell_type": "code",
   "execution_count": null,
   "metadata": {},
   "outputs": [],
   "source": [
    "def scatter_plot(x, y):\n",
    "    plt.figure(figsize=(10, 10))\n",
    "    for idx, x_i in enumerate(x.T):\n",
    "        plt.subplot(2, 2, idx+1)\n",
    "        plt.scatter(x_i, y)\n",
    "        plt.xlabel('x_{}'.format(idx+1))\n",
    "        plt.ylabel('y', rotation=0)\n",
    "\n",
    "    plt.subplot(2, 2, idx+2)\n",
    "    plt.scatter(x[:,0], x[:,1])\n",
    "    plt.xlabel('x_{}'.format(idx))\n",
    "    plt.ylabel('x_{}'.format(idx+1), rotation=0)\n",
    "\n",
    "scatter_plot(X_centered, y);"
   ]
  },
  {
   "cell_type": "markdown",
   "metadata": {},
   "source": [
    "Ahora sí vamos a definir, en PyMC3, un modelo adecuado para la regresión lineal múltiple. Como es de esperar el código luce muy similar al modelo de regresión lineal simple. Las principales diferencias son:\n",
    "\n",
    "* La variable $\\beta$ es Gaussiana con `shape = 2`, es decir una pendiente por cada variable independiente.\n",
    "* La variable $\\mu$ la definimos usando la función `pm.math.dot()`\n",
    "\n",
    "Si estás familiarizado con NumPy, probablemente sepas que NumPy también incluye una función para multiplicar matrices `np.dot` y desde Python 3.5 (y desde NumPy 1.10) existe un nuevo operador para multiplicar matrices `@`. Sin embargo, aquí usamos la función de PyMC3, que no es más que un alias para el operador de multiplicación de matrices de Theano. Necesitamos hacer esto porque la variable $\\beta$ es un tensor de Theano y no un array de NumPy."
   ]
  },
  {
   "cell_type": "code",
   "execution_count": null,
   "metadata": {},
   "outputs": [],
   "source": [
    "with pm.Model() as model_mlr:\n",
    "    α_tmp = pm.Normal('α_tmp', mu=0, sd=10)\n",
    "    β = pm.Normal('β', mu=0, sd=1, shape=2)\n",
    "    ϵ = pm.HalfCauchy('ϵ', 5)\n",
    "\n",
    "    μ = α_tmp + pm.math.dot(X_centered, β)\n",
    "\n",
    "    α = pm.Deterministic('α', α_tmp - pm.math.dot(X_mean, β)) \n",
    "\n",
    "    y_pred = pm.Normal('y_pred', mu=μ, sd=ϵ, observed=y)\n",
    "\n",
    "    trace_mlr = pm.sample(2000)"
   ]
  },
  {
   "cell_type": "code",
   "execution_count": null,
   "metadata": {},
   "outputs": [],
   "source": [
    "var_names = ['α', 'β','ϵ']\n",
    "az.plot_trace(trace_mlr, var_names);"
   ]
  },
  {
   "cell_type": "code",
   "execution_count": null,
   "metadata": {},
   "outputs": [],
   "source": [
    "az.summary(trace_mlr, var_names)"
   ]
  },
  {
   "cell_type": "markdown",
   "metadata": {},
   "source": [
    "Como podemos ver, nuestro modelo es capaz de recuperar los valores correctos (verificalo comparando contra los valores utilizados para generar los datos sintéticos).\n",
    "\n",
    "En las siguientes secciones, nos centraremos en algunas precauciones que debemos tomar al analizar los resultados de un modelo de regresión múltiple, especialmente la interpretación de las pendientes. El principal mensaje de la siguiente sección es que en una regresión lineal múltiple, cada uno de los parámetros solo tiene sentido en el contexto del resto de los parámetros."
   ]
  },
  {
   "cell_type": "markdown",
   "metadata": {
    "collapsed": true
   },
   "source": [
    "## Variables de confusión y variables redundantes\n",
    "\n",
    "Imagina la siguiente situación. Tenemos una variable $z$ correlacionada con la variable pronosticadora $x$ y, al mismo tiempo, con la variable dependiente $y$. Supongamos que la variable $z$ es la responsable de causar $x$ y $y$. Por ejemplo, $z$ podría ser la revolución industrial (¡una variable realmente compleja!), $x$ el número de piratas, e $y$ la concentración de $CO_2$, este ejemplo debería ser muy familiar para el lector de Pastafariano. Si omitimos $z$ de nuestro análisis, podríamos terminar con una buena relación lineal entre $x$ e $y$, incluso podríamos predecir $x$ a partir de $y$. Sin embargo, si nuestro interés radica en minimizar el calentamiento global, podríamos pasar por alto lo que realmente está sucediendo con el mecanismo subyacente que relaciona estas variables.\n",
    "\n",
    "Lo que intento decir es la conocida expresión **correlación no implica causalidad**. Una razón por la que esto no es necesariamente cierto es que podemos estar omitiendo la variable $z$ de nuestro análisis. Cuando esto sucede, llamamos a $z$ [variable de confusión](https://en.wikipedia.org/wiki/Confounding) o factor de confusión. En muchos escenarios reales $z$ es fácil de perder de vista. Tal vez no la medimos o no estaba presente en el conjunto de datos que nos enviaron, o ni siquiera pensamos que $z$ podría estar relacionado con nuestro problema. No tomar en cuenta las variables de confusión en un análisis podría llevarnos a establecer correlaciones falsas. Esto siempre es un problema cuando tratamos de explicar algo y también puede ser problemático cuando tratamos de predecir algo sin preocuparnos por comprender el mecanismo subyacente. Comprender el mecanismo nos ayuda a traducir lo que hemos aprendido a situaciones nuevas; las predicciones ciegas no siempre tienen buena transferibilidad. Por ejemplo, la cantidad de zapatillas producidas en Argentina podría utilizarse como un indicador fácil de medir para estimar la fortaleza de su economía, pero podría ser un pésimo predictor para otros países con una matriz de producción o un contexto cultural diferente.\n",
    "\n",
    "A continuación vamos a usar datos sintéticos para explorar un poco el concepto de variable de confusión. El siguiente código simula una variable de confusión como $x_1$. Observe cómo esta variable tiene influencias en $x_2$ y también en $y$:"
   ]
  },
  {
   "cell_type": "code",
   "execution_count": null,
   "metadata": {},
   "outputs": [],
   "source": [
    "np.random.seed(42)\n",
    "N = 100\n",
    "x_1 = np.random.normal(size=N)\n",
    "x_2 = x_1 + np.random.normal(size=N, scale=1)\n",
    "#x_2 = x_1 + np.random.normal(size=N, scale=0.01)  \n",
    "y = x_1 + np.random.normal(size=N)\n",
    "X = np.vstack((x_1, x_2)).T"
   ]
  },
  {
   "cell_type": "markdown",
   "metadata": {},
   "source": [
    "Debido a como generamos los datos estos ya están centrados como se puede ver en la siguiente figura:"
   ]
  },
  {
   "cell_type": "code",
   "execution_count": null,
   "metadata": {},
   "outputs": [],
   "source": [
    "scatter_plot(X, y);"
   ]
  },
  {
   "cell_type": "markdown",
   "metadata": {},
   "source": [
    "Ahora vamos a construir tres modelos relacionados, el primero `m_x1x2`, es un modelo de regresión lineal con dos variables independientes $x_1$ y $x_2$ (apilados en la variable $X$). El segundo modelo, `m_x1`, es una regresión lineal simple para y el tercero, `m_x2`, una regresión de línea simple para $x_2$:"
   ]
  },
  {
   "cell_type": "code",
   "execution_count": null,
   "metadata": {},
   "outputs": [],
   "source": [
    "with pm.Model() as m_x1x2:\n",
    "    α = pm.Normal('α', mu=0, sd=10)\n",
    "    β1 = pm.Normal('β1', mu=0, sd=10)\n",
    "    β2 = pm.Normal('β2', mu=0, sd=10)\n",
    "    ϵ = pm.HalfCauchy('ϵ', 5)\n",
    "\n",
    "    μ = α + β1 * X[:,0] + β2 * X[:,1] \n",
    "    \n",
    "    y_pred = pm.Normal('y_pred', mu=μ, sd=ϵ, observed=y)\n",
    " \n",
    "    trace_x1x2 = pm.sample(2000)\n",
    "    \n",
    "    \n",
    "with pm.Model() as m_x1:\n",
    "    α = pm.Normal('α', mu=0, sd=10)\n",
    "    β1 = pm.Normal('β1', mu=0, sd=10)\n",
    "    ϵ = pm.HalfCauchy('ϵ', 5)\n",
    "\n",
    "    μ = α + β1 * X[:,0]\n",
    "    \n",
    "    y_pred = pm.Normal('y_pred', mu=μ, sd=ϵ, observed=y)\n",
    " \n",
    "    trace_x1 = pm.sample(2000)\n",
    "    \n",
    "with pm.Model() as m_x2:\n",
    "    α = pm.Normal('α', mu=0, sd=10)\n",
    "    β2 = pm.Normal('β2', mu=0, sd=10)\n",
    "    ϵ = pm.HalfCauchy('ϵ', 5)\n",
    "\n",
    "    μ = α + β2 * X[:,1]\n",
    "    \n",
    "    y_pred = pm.Normal('y_pred', mu=μ, sd=ϵ, observed=y)\n",
    " \n",
    "    trace_x2 = pm.sample(2000)"
   ]
  },
  {
   "cell_type": "markdown",
   "metadata": {},
   "source": [
    "A continuación usamos un forestplot a fin de comparar los valores de $\\beta$ para estos 3 modelos."
   ]
  },
  {
   "cell_type": "code",
   "execution_count": null,
   "metadata": {},
   "outputs": [],
   "source": [
    "az.plot_forest([trace_x1x2, trace_x1, trace_x2], model_names=['m_x1x2', 'm_x1', 'm_x2'], var_names=['β1', 'β2'],\n",
    "               r_hat=0, ess=0, combined=1, colors='cycle',\n",
    "               figsize=(8, 3));"
   ]
  },
  {
   "cell_type": "markdown",
   "metadata": {},
   "source": [
    "Como podemos ver $\\beta_2$ para el modelo `m_x1x2` es alrededor de cero, lo que indica una contribución casi nula de la variable $x_2$ para explicar $y$. Esto es interesante porque ya sabemos que la variable realmente importante es $x_1$ (como se puede verificar en la generación de datos sintéticos). También hay que notar, y esto es realmente importante, $\\beta_2$ para el modelo `m_x2` es alrededor de 0.55, es decir es más grande que para el modelo `m_x1x2`. En otras palabras el poder de $x_2$ para predecir $y$ se reduce cuando tenemos en cuenta $x_1$, la información en $x_1$ es redundante dado $x_2$.\n",
    "\n",
    "\n",
    "## Multicolinearidad o cuando la correlación es demasiado alta\n",
    "\n",
    "Llevemos el ejemplo anterior a un extremo y veamos qué sucede cuando dos variables están altamente correlacionadas. Para estudiar este problema y sus consecuencias para la inferencia, utilizaremos los mismos datos y modelos sintéticos que antes, pero ahora aumentaremos el grado de correlación entre $x_1$ y $x_2$ al reducir la cantidad de _ruido Gaussiano_ que agregamos a $x_1$ para obtener $x_2$."
   ]
  },
  {
   "cell_type": "code",
   "execution_count": null,
   "metadata": {},
   "outputs": [],
   "source": [
    "# Este es el mismo código de una celdas antes pero con una valor más bajo de `scale`\n",
    "np.random.seed(42)\n",
    "N = 100\n",
    "x_1 = np.random.normal(size=N)\n",
    "x_2 = x_1 + np.random.normal(size=N, scale=0.01)  \n",
    "y = x_1 + np.random.normal(size=N)\n",
    "X = np.vstack((x_1, x_2)).T"
   ]
  },
  {
   "cell_type": "markdown",
   "metadata": {},
   "source": [
    "El cambio en la generación de datos, de la celda anterior, prácticamente equivale a sumar 0 a $x_1$, por lo tanto ambas variables son iguales para todo propósito práctico. A continuación, pueden intentar variar los valores de la desviación estándar y usar valores menos extremos, pero por ahora queremos que el efecto sea bien claro. En el siguiente gráfico se puede ver que ahora el diagrama de dispersión para $x_1$ y $x_2$ es prácticamente una línea recta con una pendiente alrededor de 1:"
   ]
  },
  {
   "cell_type": "code",
   "execution_count": null,
   "metadata": {},
   "outputs": [],
   "source": [
    "scatter_plot(X, y)"
   ]
  },
  {
   "cell_type": "markdown",
   "metadata": {},
   "source": [
    "Ejecutamos una regresión lineal múltiple:"
   ]
  },
  {
   "cell_type": "code",
   "execution_count": null,
   "metadata": {},
   "outputs": [],
   "source": [
    "with pm.Model() as model_red :\n",
    "    α = pm.Normal('α', mu=0, sd=10)\n",
    "    β = pm.Normal('β', mu=0, sd=10, shape=2)\n",
    "    ϵ = pm.HalfCauchy('ϵ', 5)\n",
    "\n",
    "    μ = α + pm.math.dot(X, β)\n",
    "    \n",
    "    y_pred = pm.Normal('y_pred', mu=μ, sd=ϵ, observed=y)\n",
    " \n",
    "    trace_red = pm.sample(2000)"
   ]
  },
  {
   "cell_type": "markdown",
   "metadata": {},
   "source": [
    "Y verificamos los resultados de los parámetros con un forestplot:"
   ]
  },
  {
   "cell_type": "code",
   "execution_count": null,
   "metadata": {},
   "outputs": [],
   "source": [
    "az.plot_forest(trace_red, var_names=['β'], r_hat=0, ess=0, combined=1, figsize=(8, 2));"
   ]
  },
  {
   "cell_type": "markdown",
   "metadata": {},
   "source": [
    "Los valores de los HPD para $\\beta$ son sospechosamente amplios, podemos obtener una idea de lo que está sucediendo con un diagrama de dispersión de los coeficientes $\\beta$"
   ]
  },
  {
   "cell_type": "code",
   "execution_count": null,
   "metadata": {},
   "outputs": [],
   "source": [
    "az.plot_joint(trace_red, var_names=['β'], joint_kwargs={'alpha':0.01});"
   ]
  },
  {
   "cell_type": "markdown",
   "metadata": {},
   "source": [
    "La distribución de los coeficientes $\\beta$ es una diagonal realmente estrecha. Cuando un coeficiente $\\beta$ sube, el otro debe bajar. Ambos están efectivamente correlacionados. Esto es solo una consecuencia del modelo y los datos. Según nuestro modelo, la media $\\mu$ es:\n",
    "\n",
    "$$ \\mu = \\alpha + \\beta_1 x_1 + \\beta_2 x_2 \\tag{3.19} $$\n",
    "\n",
    "Si suponemos que $x_1$ y $x_2$ no son prácticamente equivalentes, sino matemáticamente idénticos, podemos volver a escribir el modelo como:\n",
    "\n",
    "$$ \\mu = \\alpha + (\\beta_1 + \\beta_2) x \\tag{3.20} $$\n",
    "\n",
    "\n",
    "Resulta que es la suma $\\beta_1 + \\beta_2$ y no sus valores separados, lo que afecta $\\mu$. Podemos hacer que $\\beta_1$ sea más pequeño y más pequeño siempre que hagamos que $\\beta_2$ sea más y más grande. Los resultados nos están diciendo que como prácticamente NO tenemos dos variables $x$, prácticamente NO tenemos dos parámetros $\\beta$. Decimos entonces que el modelo está **indeterminado** (o de forma equivalente, los datos no pueden restringir los parámetros en el modelo). En nuestro ejemplo, hay dos razones por las cuales $\\beta$ no se mueve libremente en el intervalo $(-\\infty, \\infty)$. Primero, ambas variables son casi las mismas, pero no son exactamente iguales, en segundo lugar, y lo más importante, los _a prioris_ actuan como restricciones de los valores plausibles que $\\beta$ puede tomar.\n",
    "\n",
    "Hay un par de cosas que notar de este ejemplo. En primer lugar, el _a posteriori_ es tan solo la consecuencia lógica de los datos y el modelo, por lo tanto no hay nada _de malo_ en obtener distribuciones tan amplias para $\\beta$, _C'est la vie_. En segundo lugar, podemos confiar en este modelo para hacer predicciones ya que los valores predichos por el modelo están de acuerdo con los datos, es decir el modelo captura los datos muy bien. En tercer lugar, este puede no ser un modelo muy bueno para comprender nuestro problema. Puede ser más inteligente simplemente eliminar una de las variables del modelo. Terminaremos teniendo un modelo que predice los datos igual que antes, pero con una interpretación más simple.\n",
    "\n",
    "En cualquier conjunto de datos real, van a existir variables (parcialmente) correlacionadas. Esto sucede por al menos dos razones: la existencia de correlaciones espurias y quizá lo más relevante; al estudiar un problema tendemos a recolectar información que consideramos relevante pero que mucha de la cual es parcialmente redundante. Por ejemplo la cantidad de radiación solar, la temperatura y las precipitaciones son factores que influyen para predecir el rinde de un cultivo, y son variables que tienen a estar correlacionadas por ejemplo en Argentina el verano es la temporada húmeda.  \n",
    "\n",
    "¿Qué tan fuerte deben correlacionarse dos o más variables para convertirse en un problema? Bueno se suele considerar que a partir de 0.9845. No, mentira! Desafortunadamente, la estadística es una disciplina con muy pocos números mágicos. Siempre es posible hacer una matriz de correlación antes de ejecutar cualquier modelo y verificar las variables con una alta correlación de, digamos por encima de 0.9 o más. Sin embargo, el problema con este enfoque es que lo que realmente importa no son las correlaciones por pares que podemos observar en una matriz de correlación, sino la correlación de las variables dentro de un modelo, y como ya vimos, las variables se comportan de forma diferente cuando están aisladas que cuando se relacionan dentro de un modelo. Dos o más variables pueden aumentar o disminuir su correlación cuando se colocan en el contexto de otras variables en un modelo de regresión múltiple. Como siempre, una inspección cuidadosa de la distribución _a posteriori_ junto con una aproximación iterativa y crítica del modelado, son muy recomendables y pueden ayudarnos a detectar problemas y comprender los datos y los modelos.\n",
    "\n",
    "Solo como una guía rápida (a tomar con pinzas). ¿Qué deberíamos hacer si encontramos variables altamente correlacionadas?\n",
    "\n",
    "* Si la correlación es realmente alta, podemos eliminar una de las variables del análisis; dado que ambas variables tienen información similar, cual eliminamos suele ser a menudo irrelevante. Podemos eliminar variables basadas en nuestra conveniencia, por ejemplo eliminar variables menos conocidas o más difíciles de interpretar o medir.\n",
    "* Otra posibilidad es crear una nueva variable promediando las variables redundantes. Una versión más sofisticada es usar un algoritmo de reducción de variables como un análisis de componentes principales (PCA). El problema con PCA es que las variables resultantes son combinaciones lineales de las originales que ofuscan, en general, la interpretabilidad de los resultados.\n",
    "* Otra solución es utilizar _a prioris_ más fuertes para restringir los valores plausibles que puede adoptar el coeficiente, en este contexto los _a prioris_ se usan como regularizadores de la inferencia (algo que discutiremos en el capítulo 5)."
   ]
  },
  {
   "cell_type": "markdown",
   "metadata": {
    "collapsed": true
   },
   "source": [
    "## Variables de efecto de enmascaramiento\n",
    "\n",
    "Otro ejemplo de cómo las variables contribuyen a un resultado es el caso de las variables que enmascaran. Vamos a crear dos variables independientes ($x_1$ y $x_2$), las cuales están positivamente correlacionadas entre sí y están correlacionadas con $y$, pero en direcciones opuestas $x_1$ está correlacionada positivamente y $x_2$ correlacionada negativamente."
   ]
  },
  {
   "cell_type": "code",
   "execution_count": null,
   "metadata": {},
   "outputs": [],
   "source": [
    "np.random.seed(42)\n",
    "N = 126\n",
    "r = 0.8\n",
    "x_1 = np.random.normal(size=N)\n",
    "x_2 = np.random.normal(x_1, scale=(1 - r ** 2) ** 0.5)\n",
    "y = np.random.normal(x_1 - x_2)\n",
    "X = np.vstack((x_1, x_2)).T"
   ]
  },
  {
   "cell_type": "code",
   "execution_count": null,
   "metadata": {},
   "outputs": [],
   "source": [
    "scatter_plot(X, y);"
   ]
  },
  {
   "cell_type": "code",
   "execution_count": null,
   "metadata": {},
   "outputs": [],
   "source": [
    "with pm.Model() as m_x1x2:\n",
    "    α = pm.Normal('α', mu=0, sd=10)\n",
    "    β1 = pm.Normal('β1', mu=0, sd=10)\n",
    "    β2 = pm.Normal('β2', mu=0, sd=10)\n",
    "    ϵ = pm.HalfCauchy('ϵ', 5)\n",
    "\n",
    "    μ = α + β1 * X[:,0] + β2 * X[:,1] \n",
    "    \n",
    "    y_pred = pm.Normal('y_pred', mu=μ, sd=ϵ, observed=y)\n",
    " \n",
    "    trace_x1x2 = pm.sample(1000)\n",
    "    \n",
    "    \n",
    "with pm.Model() as m_x1:\n",
    "    α = pm.Normal('α', mu=0, sd=10)\n",
    "    β1 = pm.Normal('β1', mu=0, sd=10)\n",
    "    ϵ = pm.HalfCauchy('ϵ', 5)\n",
    "\n",
    "    μ = α + β1 * X[:,0]\n",
    "    \n",
    "    y_pred = pm.Normal('y_pred', mu=μ, sd=ϵ, observed=y)\n",
    " \n",
    "    trace_x1 = pm.sample(1000)\n",
    "    \n",
    "with pm.Model() as m_x2:\n",
    "    α = pm.Normal('α', mu=0, sd=10)\n",
    "    β2 = pm.Normal('β2', mu=0, sd=10)\n",
    "    ϵ = pm.HalfCauchy('ϵ', 5)\n",
    "\n",
    "    μ = α + β2 * X[:,1]\n",
    "    \n",
    "    y_pred = pm.Normal('y_pred', mu=μ, sd=ϵ, observed=y)\n",
    " \n",
    "    trace_x2 = pm.sample(1000)"
   ]
  },
  {
   "cell_type": "markdown",
   "metadata": {},
   "source": [
    "Como hicimos antes, vamos a construir 3 modelos relacionados, el primero m_x1x2, es un modelo de regresión lineal con dos variables independientes $x_1$ y $x_2$ (_apilados_ en la variable X). El segundo modelo, m_x1, es una regresión lineal simple para $x_1$ y el tercero, m_x2, una regresión lineal simple para $x_2$. Después de tomar muestras de estos modelos, eche un vistazo a los parámetros $\\beta$ usando un `forestplot` para compararlos en un solo diagrama."
   ]
  },
  {
   "cell_type": "code",
   "execution_count": null,
   "metadata": {},
   "outputs": [],
   "source": [
    "az.plot_forest([trace_x1x2, trace_x1, trace_x2], model_names=['m_x1x2', 'm_x1', 'm_x2'],\n",
    "              var_names=['β1', 'β2'], r_hat=0, ess=0, combined=1, colors='cycle',\n",
    "              figsize=(8, 3));"
   ]
  },
  {
   "cell_type": "markdown",
   "metadata": {},
   "source": [
    "## Agregar interacciones\n",
    "\n",
    "Hasta ahora, en la definición del modelo de regresión múltiple, se declara (implícitamente) que un cambio en $x_i$ da como resultado un cambio constante en $y$ manteniendo los valores fijos para el resto de las variables de predicción. Pero, por supuesto, esto no es necesariamente cierto. Podría suceder que los cambios en $x_i$ afecten $y$ modulados por cambios en $x_j$. Un ejemplo clásico de este comportamiento es la interacción entre drogas. Por ejemplo, aumentar la dosis del fármaco A resulta en un efecto positivo en un paciente. Esto es cierto en ausencia de fármaco B (o para dosis bajas de B) mientras que el efecto de A es negativo (incluso letal) al aumentar las dosis de B.\n",
    "\n",
    "En todos los ejemplos que hemos visto hasta ahora, las variables dependientes contribuyen aditivamente a la variable predicha, solo agregamos variables (cada una multiplicada por un coeficiente). Si deseamos capturar efectos, como en el ejemplo de la droga, necesitamos incluir términos en nuestro modelo que no sean aditivos. Una opción común es multiplicar variables, por ejemplo:\n",
    "\n",
    "$$\\mu = \\alpha + \\beta_1 x_1 + \\beta_2 x_2 + \\beta_3 x_1x_2 \\tag{3.21} $$\n",
    "\n",
    "Observe que el coeficiente $\\beta_3$ está multiplicando una tercera variable que es el producto de $x_1$ y $x_2$. Este término no aditivo es un ejemplo de lo que se conoce en las estadísticas como **interacción**. Hay otras maneras de introducir interacciones, pero vamos a restringir la discusión al caso multiplicativo, ya que es la expresión más común para las interacciones.\n",
    "\n",
    "Interpretar modelos lineales con interacciones no es tan fácil como interpretar modelos lineales sin ellos. Reescribamos la expresión 3.21.\n",
    "\n",
    "$$\n",
    "\\mu = \\alpha + \\underbrace{{(\\beta_1 + \\beta_3} x_2)} _ {\\text{slope} x_1} x_1 + \\beta_2 x_2 \\\\\n",
    "\\mu = \\alpha + \\beta_1 x_1 + \\underbrace{(\\beta_2 + \\beta_3 x_1)} _ {\\text{pendiente} x_2} x_2 \\\\ \\tag{3.22}\n",
    "$$\n",
    "\n",
    "Esto muestra que:\n",
    "\n",
    "* El término de interacción se puede entender como un modelo lineal. La expresión para la media, es un modelo lineal ¡Con un modelo lineal adentro!\n",
    "* La interacción es simétrica, podemos considerarla como la pendiente de $x_1$ en función de $x_2$ y al mismo tiempo como la pendiente de $x_2$ en función de $x_1$.\n",
    "* En un modelo de regresión múltiple sin interacciones obtenemos un hiperplano. Un término de interacción introduce una curvatura en tal hipersuperficie. Porque las pendientes ya no son constantes, sino una función de otra variable.\n",
    "* El coeficiente $\\beta_1$ describe la influencia del predictor $x_1$ solo cuando $x_2 = 0$. Esto es cierto porque para ese valor $\\beta_3x_2 = 0$ y luego la pendiente de $x_1$ se reduce a $\\beta1 x_1$. Por simetría, el mismo razonamiento se puede aplicar a $\\beta_2$."
   ]
  },
  {
   "cell_type": "markdown",
   "metadata": {},
   "source": [
    "## Varianza variable\n",
    "\n",
    "Hemos estado usando el modelo lineal para modelar la media de una distribución, dejando la varianza de lado. En caso que consideremos que el supuesto de varianza constante no tiene sentido podemos considerar la varianza como una función (lineal) de la variable dependiente.\n",
    "\n",
    "La Organización Mundial de la Salud y otras instituciones de salud de todo el mundo recopilan datos para recién nacidos y adultos mayores y diseñan estándares de gráficos de crecimiento. Estas tablas son un componente esencial del conjunto de herramientas pediátricas y también como una medida del bienestar general de las poblaciones con el fin de formular políticas de salud, planificar intervenciones y controlar su eficacia. Un ejemplo de tales datos son la longitud (alturas) de las niñas recién nacidas en función de la edad (en meses):"
   ]
  },
  {
   "cell_type": "code",
   "execution_count": null,
   "metadata": {},
   "outputs": [],
   "source": [
    "data = pd.read_csv('datos/babies.csv')\n",
    "data.plot.scatter('Meses', 'Longitud');"
   ]
  },
  {
   "cell_type": "markdown",
   "metadata": {},
   "source": [
    "Para modelar estos datos, presentaremos 3 elementos nuevos en comparación con los modelos anteriores:\n",
    "\n",
    "* $\\epsilon$ ahora es una función lineal de $x$, y para hacer esto agregamos dos nuevos parámetros $\\gamma$ y $\\delta$, estos son análogos directos de $\\alpha$ y $\\beta$.\n",
    "* El modelo lineal para la media es una función de $\\sqrt{x}$, esto es solo un truco simple para ajustar un modelo lineal a una curva.\n",
    "* Hemos definido una variable compartida (`x_shared`, esto nos permitirá cambiar los valores de la variable $x$ (`Meses` en este ejemplo) sin la necesidad de volver a muestrear el modelo. Por qué hacemos estos será evidente pronto si tienen un poco de paciencia."
   ]
  },
  {
   "cell_type": "code",
   "execution_count": null,
   "metadata": {},
   "outputs": [],
   "source": [
    "with pm.Model() as model_vv:\n",
    "    α = pm.Normal('α', sd=10)\n",
    "    β = pm.Normal('β', sd=10)\n",
    "    γ = pm.HalfNormal('γ', sd=10)\n",
    "    δ = pm.HalfNormal('δ', sd=10)\n",
    "    \n",
    "    x_shared = shared(data.Meses.values * 1.)\n",
    "\n",
    "    μ = pm.Deterministic('μ', α + β * x_shared**0.5)\n",
    "    ϵ = pm.Deterministic('ϵ', γ + δ * x_shared)\n",
    "    \n",
    "    y_pred = pm.Normal('y_pred', mu=μ, sd=ϵ, observed=data.Longitud)\n",
    "    \n",
    "    trace_vv = pm.sample(1000, tune=1000)"
   ]
  },
  {
   "cell_type": "markdown",
   "metadata": {},
   "source": [
    "La siguiente figura muestra el resultado de nuestro modelo. La media de es $\\mu$ representada con una curva negra, y dos bandas naranja semitransparentes representan 1 y 2 desviaciones estándar."
   ]
  },
  {
   "cell_type": "code",
   "execution_count": null,
   "metadata": {},
   "outputs": [],
   "source": [
    "plt.plot(data.Meses, data.Longitud, 'C0.', alpha=0.1);\n",
    "\n",
    "μ_m = trace_vv['μ'].mean(0)\n",
    "ϵ_m = trace_vv['ϵ'].mean(0)\n",
    "\n",
    "plt.plot(data.Meses, μ_m, c='k')\n",
    "plt.fill_between(data.Meses, μ_m + 1 * ϵ_m, μ_m - 1 * ϵ_m, alpha=0.6, color='C1')\n",
    "plt.fill_between(data.Meses, μ_m + 2 * ϵ_m, μ_m - 2 * ϵ_m, alpha=0.4, color='C1')\n",
    "\n",
    "plt.xlabel('x')\n",
    "plt.ylabel('y', rotation=0);"
   ]
  },
  {
   "cell_type": "markdown",
   "metadata": {},
   "source": [
    "Ahora que tenemos ajustado el modelo podríamos querer averiguar cómo se compara la longitud de una niña en particular con el modelo. Una forma de responder a esta pregunta es preguntarle al modelo por la distribución de la variable _longitud_ para bebas de digamos de 0.5 meses. Usando PyMC3 podemos hacer estas preguntas con la función sample_ppc, ya que esto arrojará muestras de $\\tilde y$ es decir los valores predichos considerando la incertidumbre de los parámetros. El único problema es que, por defecto, esta función devolverá valores de $\\tilde y$ para los valores observados de $x$ y de 0,5 meses (el valor que me importa) no es parte de los datos originales. La manera más fácil de obtener predicciones para valores no observados es definir una variable compartida $x$ (como parte del modelo) y luego actualizar el valor de la variable compartida justo antes del muestreo de la distribución predictiva _a posteriori_."
   ]
  },
  {
   "cell_type": "code",
   "execution_count": null,
   "metadata": {},
   "outputs": [],
   "source": [
    "x_shared.set_value([0.5])\n",
    "ppc = pm.sample_ppc(trace_vv, 2000, model=model_vv)\n",
    "y_ppc = ppc['y_pred'][:,0]"
   ]
  },
  {
   "cell_type": "markdown",
   "metadata": {},
   "source": [
    "Ahora podemos graficar la distribución esperada de las longitudes para las bebas con 2 semanas de vida y calcular cantidades adicionales, por ejemplo, el percentil de un niño para su longitud:"
   ]
  },
  {
   "cell_type": "code",
   "execution_count": null,
   "metadata": {},
   "outputs": [],
   "source": [
    "ref = 51.5\n",
    "density, l, u = az.plots._fast_kde(y_ppc)\n",
    "x_ = np.linspace(l, u, 200)\n",
    "plt.plot(x_, density)\n",
    "percentile = int(sum(y_ppc <= ref) / len(y_ppc) * 100)\n",
    "plt.fill_between(x_[x_ < ref], density[x_ < ref], label='percentile = {:2d}'.format(percentile))\n",
    "plt.xlabel('longitud')\n",
    "plt.yticks([])\n",
    "plt.legend();"
   ]
  },
  {
   "cell_type": "markdown",
   "metadata": {},
   "source": [
    "Los modelos lineales son muy comunes y son una familia más extensa que la vista hasta ahora (como veremos en el próximo capítulo). Por esa razón, PyMC3 incluye un módulo que simplifica la creación de modelos lineales generalizados (el nombre quedará claro en el próximo capítulo). Por ejemplo, una regresión lineal simple se puede especificar como:\n",
    "\n",
    "```python\n",
    "with pm.Model () as modelo:\n",
    "    glm.glm ('y ~ x', datos)\n",
    "    trace = sample (2000)\n",
    "```\n",
    "\n",
    "La segunda línea del código anterior se ocupa de agregar priors (planos XXXX !!!!!) predeterminados para la intersección y para la pendiente y una Gaussiana como _likelihood_. Lo cual está bien si solo desea ejecutar una regresión lineal predeterminada. Tenga en cuenta que el MAP de este modelo será esencialmente equivalente al obtenido utilizando el método (frecuentista) de mínimos cuadrados. De ser necesario, también es posible usar el módulo glm y cambiar los _a prioris_ y el _likelihood_. La sintaxis está tomada de paquetes de R, donde 'y ~ x' especifica que tenemos una variable $y$ que queremos estimar como una función lineal de $x$. "
   ]
  },
  {
   "cell_type": "markdown",
   "metadata": {},
   "source": [
    "## Resumen\n",
    "\n",
    "Una regresión lineal simple es un modelo que puede usarse para predecir / explicar una variable desde otra. El uso de lenguaje de aprendizaje automático es un caso de aprendizaje supervisado. Desde una perspectiva probabilítica, un modelo de regresión lineal es una extensión del modelo de Gauss donde la media no se estima directamente, sino que se calcula como una función lineal de una variable de predicción y algunos parámetros adicionales. Si bien la distribución gaussiana es la opción más común para la variable dependiente, somos libres de elegir otras distribuciones. Una alternativa, especialmente útil cuando se trata de posibles valores atípicos, es la distribución t de Student. También aprendemos sobre el coeficiente de correlación de Pearson, la medida más común de la correlación lineal entre dos variables, cómo calcular una versión bayesiana a partir de los datos y muestras predictivas posteriores y su conexión a la distribución gaussiana multivariada. Una forma útil de expandir el modelo de regresión lineal es haciendo una versión jerárquica de él. Esto es muy simple de lograr con PyMC3 y obtenemos los beneficios del _shrinkage_. También, brevemente, la importancia de no interpretar la correlación como causalidad. Por sorprendente que pueda parecer, podemos usar modelos lineales para ajustar las curvas, lo mostramos con dos ejemplos de regresión polinomial y tomando la raíz cuadrada de la variable independiente. La regresión lineal simple se puede extender fácilmente para tratar con más de una variable independiente en lo que generalmente se llama regresión lineal múltiple. Se requieren algunas precauciones para evitar errores y problemas para interpretar este tipo de modelos. Otras formas de utilizar el motivo lineal es modelar las interacciones y tratar con una varianza no constante para la variable dependiente. En el próximo capítulo, veremos cómo extender el modelo de regresión lineal para clasificar los datos."
   ]
  },
  {
   "cell_type": "markdown",
   "metadata": {},
   "source": [
    "# Ejercicios\n",
    "\n",
    "1. En la siguiente definición de modelo probabilístico cual es el _likelihood_, cual es el _a priori_ y cual el _a posteriori_.\n",
    "\n",
    "$$\n",
    "y_i \\sim Normal(\\mu, \\sigma) \\\\\n",
    "\\mu \\sim Normal(0, 10) \\\\\n",
    "\\sigma \\sim HalfNormal(25)\n",
    "$$\n",
    "\n",
    "2. En el modelo del punto 1 ¿cuántos parámetros hay en el posterior? o expresado de otra forma ¿cuántas dimensiones tiene el _a posteriori_?\n",
    "\n",
    "3. Escriba el teorema de Bayes para el modelo del punto 1.\n",
    "\n",
    "4. En el siguiente modelo ¿cuál es el modelo lineal?¿cuál el likelihood y cuantos parámetros hay en la distribución a posteriori?\n",
    "\n",
    "$$\n",
    "y \\sim Normal(\\mu, \\epsilon) \\\\\n",
    "\\mu = \\alpha + \\beta x \\\\\n",
    "\\alpha \\sim Normal(0, 10) \\\\\n",
    "\\beta \\sim Normal(0, 1) \\\\\n",
    "\\epsilon \\sim HalfNormal(25) \\\\\n",
    "$$\n",
    "\n",
    "\n",
    "5. Para el modelo del punto 1, asumiendo que tiene 57 datos provenientes de una gaussiana con media 4 y desviación estándar 0.5, obtenga usando PyMC3:\n",
    "    * La distribución a posteriori\n",
    "    * La distribución a priori\n",
    "    * La distribución predictiva a posteriori \n",
    "    * La distribución predictiva a priori\n",
    "\n",
    "tip: además de `sample` PyMC3 tiene varias funciones para muestrear \n",
    "\n",
    "6. Ejecuta el modelo `model_g`:\n",
    "    * Usando NUTS (sampler por defecto)\n",
    "    * Usando Metropolis\n",
    "\n",
    "Compare los resultados usando funciones de ArviZ como `plot_trace` y `plot_pairs`. Centre la variable $x$ y repita el ejercicio ¿Qué opina?\n",
    "\n",
    "\n",
    "7. Usando el conjunto de datos `howell` (disponible junto con esta notebook) realice un modelo lineal del peso ($x$) versus la altura ($y$). Excluya a los menores de 18 años. Exponga los resultados.\n",
    "\n",
    "8. Para 4 individuos se registraron los pesos (45.73, 65.8, 54.2, 32.59), pero no las alturas. Usando el modelo del punto anterior prediga la altura esperada para cada individuo junto con un intervalo de credibilidad del 50% y del 89%.\n",
    "\n",
    "9. Repita el punto 7 pero para los menores de 18 años. Exponga los resultados.\n",
    "\n",
    "10. Es conocido que para muchas especies el peso no escala con la altura, pero si el logaritmo del pesos. Use esa información para ajustar el conjunto de datos `howell` (sin distinción por edad). Repita el ajuste usando un polinomio de grado 2. Explique y compare ambos resultados.\n",
    "\n",
    "11. Piense en un modelo que sea capaz de ajustar los 3 primeros conjuntos del cuarteo de Anscombe, y en uno que sea capaz de ajustar los 4.\n",
    "\n",
    "12. Para el modelo `hierarchical_model` repita la figura donde se representan los 8 grupos y las 8 lineas ajustadas, pero esta vez incluyendo la incertidumbre del ajuste.\n",
    "\n",
    "13. Escriba en PyMC3 un modelo lineal para predecir la cantidad de papers que un estudiante de doctorado producirá en función de el tamaño del grupo donde trabaja el estudiante, la cantidad de fondos que recibe el grupo, el género del estudiante ¿Cómo cambia el modelo si se asume género binario o género categórico (más de dos opciones)?\n",
    "\n",
    "14. Supongamos que el siguiente enunciado es cierto \"las ciudades en Argentina con más policías tienen más delitos\" ¿Quiere decir esto que la policía Argentina es corrupta?\n",
    "\n",
    "15. Lea este [post](https://twiecki.github.io/blog/2017/02/08/bayesian-hierchical-non-centered/) y replique los resultados usted mismo."
   ]
  }
 ],
 "metadata": {
  "celltoolbar": "Slideshow",
  "kernelspec": {
   "display_name": "Python 3 (ipykernel)",
   "language": "python",
   "name": "python3"
  },
  "language_info": {
   "codemirror_mode": {
    "name": "ipython",
    "version": 3
   },
   "file_extension": ".py",
   "mimetype": "text/x-python",
   "name": "python",
   "nbconvert_exporter": "python",
   "pygments_lexer": "ipython3",
   "version": "3.9.12"
  }
 },
 "nbformat": 4,
 "nbformat_minor": 1
}
