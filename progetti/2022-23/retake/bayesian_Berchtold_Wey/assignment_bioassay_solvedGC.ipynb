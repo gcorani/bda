{
 "cells": [
  {
   "cell_type": "code",
   "execution_count": 1,
   "metadata": {
    "pycharm": {
     "name": "#%%\n"
    }
   },
   "outputs": [],
   "source": [
    "import numpy as np\n",
    "import matplotlib.pyplot as plt\n",
    "import scipy.stats as stats\n",
    "from matplotlib import cm\n",
    "import arviz as az\n",
    "import pymc as pm"
   ]
  },
  {
   "cell_type": "markdown",
   "metadata": {
    "pycharm": {
     "name": "#%% md\n"
    }
   },
   "source": [
    "# Assignment 1: Toxicity bioassay"
   ]
  },
  {
   "cell_type": "markdown",
   "metadata": {
    "pycharm": {
     "name": "#%% md\n"
    }
   },
   "source": [
    "## Problem and data"
   ]
  },
  {
   "cell_type": "markdown",
   "metadata": {
    "pycharm": {
     "name": "#%% md\n"
    }
   },
   "source": [
    "A **bioassay** is biochemical test to estimate the potency of a sample compound. A typical bioassay involves a stimulus (ex. drugs) applied to a subject (ex. animals, tissues, plants). The corresponding response (ex. death) of the subject is thereby triggered and measured (Wikipedia).\n",
    "\n",
    "The following bioassay taken from Racine et al. (1986) is meant to evaluate the toxicity of a drug on animals. The effect of the drug is evaluated at $N=4$ dose levels. Each dose level $x_i$ is administered to a batch of $n_i$ animals. The number of deaths $y_i$ is the observed response."
   ]
  },
  {
   "cell_type": "markdown",
   "metadata": {
    "pycharm": {
     "name": "#%% md\n"
    }
   },
   "source": [
    "| |Dose $x_i$ (log g/ml) | Number of animals $n_i$ | Number of deaths $y_i$ |\n",
    "| ---|--- | --- | --- |\n",
    "| 1|-0.86 | 5 | 0 |\n",
    "| 2|-0.30 | 5 | 1 |\n",
    "| 3|-0.05 | 5 | 3 |\n",
    "| 4|0.73  | 5 | 5 |\n"
   ]
  },
  {
   "cell_type": "markdown",
   "metadata": {
    "pycharm": {
     "name": "#%% md\n"
    }
   },
   "source": [
    "For instance, the dose level $x_3=-0.05$ has been administered at $n_3=5$ animals. Out of the 5 animals, $y_3=3$ died. <br/>\n",
    "Note that the dose $x_i$ is measured on a logarithmic scale. Thus, negative concentration levels are present.\n",
    "\n",
    "We define for convenience (both as math symbols and as Python objects) the vectors $x$, $n$, and $y$ containing the quantities of the corresponding columns."
   ]
  },
  {
   "cell_type": "code",
   "execution_count": 2,
   "metadata": {
    "pycharm": {
     "name": "#%%\n"
    }
   },
   "outputs": [],
   "source": [
    "x = np.array([-0.86, -0.30, -0.05, 0.73]) # dose levels\n",
    "n = np.array([5., 5., 5., 5.]) # number of subjects per dose level\n",
    "y = np.array([0, 1, 3, 5]) # number of deaths per dose level"
   ]
  },
  {
   "cell_type": "markdown",
   "metadata": {
    "pycharm": {
     "name": "#%% md\n"
    }
   },
   "source": [
    "## Modeling assumptions"
   ]
  },
  {
   "cell_type": "markdown",
   "metadata": {
    "pycharm": {
     "name": "#%% md\n"
    }
   },
   "source": [
    "For the probabilistic model, we make the following assumptions:\n",
    "\n",
    "1. The outcome of the $n_i$ animals within each group $i$ are *independent*. Each animal in the group has probability $p_i$ of death.\n",
    "\n",
    "2. The probability of death $p_i$ depends on the dose $x_i$ as follows:\n",
    "    $$p_i = \\rm{sigm}(\\alpha + \\beta x_i),$$ \n",
    "    where \n",
    "    \\begin{align*}\n",
    "    \\rm{sigm}(z) = \\frac{1}{1 + e^{-z}}.\n",
    "    \\end{align*}\n",
    "3. The prior probability of the parameters \n",
    "$\\theta = \\begin{bmatrix}\n",
    "\\alpha \\\\\n",
    "\\beta\n",
    "\\end{bmatrix}$\n",
    "is Gaussian: \n",
    "\\begin{align}\n",
    "\\alpha &\\sim \\mathcal{N}(\\mu_\\alpha, \\sigma^2_\\alpha), \\qquad \\mu_\\alpha = 0, \\sigma_\\alpha=2\\\\\n",
    "\\beta &\\sim \\mathcal{N}(\\mu_\\beta, \\sigma^2_\\beta), \\qquad \\mu_\\beta=10, \\sigma_\\beta=10.\n",
    "\\end{align}\n",
    "4. The outcomes in the four groups are independent of each other, given $\\theta$.\n"
   ]
  },
  {
   "cell_type": "markdown",
   "metadata": {
    "pycharm": {
     "name": "#%% md\n"
    }
   },
   "source": [
    "## 1.1: Probabilistic model\n",
    "\n",
    "* Derive and comment the full probabilistic model."
   ]
  },
  {
   "cell_type": "markdown",
   "metadata": {},
   "source": [
    "\\begin{align}\n",
    "\\alpha &\\sim \\mathcal{N}(0, 2^2)\\\\\n",
    "\\beta &\\sim \\mathcal{N}(10, 10^2)\\\\\n",
    "\\text{per ogni gruppo}&:\\\\\n",
    "z_i &= \\alpha + \\beta x_i && \\\\\n",
    "p_i &=  \\frac{1}{1 + e^{-z_i}}\\\\\n",
    "y_{i} &= \\text{Bin}(p_i, n=n_i)\n",
    "\\end{align}"
   ]
  },
  {
   "cell_type": "markdown",
   "metadata": {
    "pycharm": {
     "name": "#%% md\n"
    }
   },
   "source": [
    "## 1.2: Maximum Likelihood estimation "
   ]
  },
  {
   "cell_type": "markdown",
   "metadata": {},
   "source": [
    "* Derive an analytical expression of the likelihood function $\\mathcal{L}(\\theta) = P(y|\\theta)$.\n",
    "* **GC: serve dire ogni dose i costituisce un'osservazione separata?? **"
   ]
  },
  {
   "cell_type": "markdown",
   "metadata": {},
   "source": [
    "Assuming $\\alpha$ and $\\beta$ to be equal for each group, for the i-th group we have:\n",
    "\n",
    "\\begin{align}\n",
    "P(y_i|\\theta) = P(y_i|\\alpha, \\beta) & = \n",
    "\\binom{y_i}{n_i} \\left\\{\\frac{1}{1 + e^{-z_i}}\\right\\}^{y_i}\n",
    "\\left\\{1-\\frac{1}{1 + e^{-z_i}}\\right\\}^{n_i-y_i}\n",
    "\\\\\n",
    "& = \n",
    "\\binom{y_i}{n_i} \\left\\{\\frac{1}{1 + e^{-z_i}}\\right\\}^{y_i}\n",
    "\\left\\{\\frac{e^{-z_i}}{1 + e^{-z_i}}\\right\\}^{n_i-y_i}\n",
    "\\\\\n",
    "& = \n",
    "\\binom{y_i}{n_i} \\left\\{\\frac{1}{1 + e^{-\\alpha - \\beta x_i}}\\right\\}^{y_i}\n",
    "\\left\\{\\frac{e^{-\\alpha - \\beta x_i}}{1 + e^{-\\alpha - \\beta x_i}}\\right\\}^{n_i-y_i}\\\\\n",
    "& \\propto\n",
    "\\left\\{\\frac{1}{1 + e^{-\\alpha - \\beta x_i}}\\right\\}^{y_i}\n",
    "\\left\\{\\frac{e^{-\\alpha - \\beta x_i}}{1 + e^{-\\alpha - \\beta x_i}}\\right\\}^{n_i-y_i}\n",
    "\\end{align}\n",
    "\n",
    "\n",
    "The full likelihood  factorizes  over the groups as follwows: (I guess we cannot  drop the binomial coefficients).\n",
    "\\begin{align}\n",
    "P(y|\\theta) = \\prod_i P(y_i|\\alpha, \\beta) & = \n",
    "\\prod_i \\binom{y_i}{n_i} \\left\\{\\frac{1}{1 + e^{-\\alpha - \\beta x_i}}\\right\\}^{y_i}\n",
    "\\left\\{\\frac{e^{-\\alpha - \\beta x_i}}{1 + e^{-\\alpha - \\beta x_i}}\\right\\}^{n_i-y_i}\\\\\n",
    "\\end{align}\n",
    "\n",
    "\n"
   ]
  },
  {
   "cell_type": "markdown",
   "metadata": {
    "pycharm": {
     "name": "#%% md\n"
    }
   },
   "source": [
    "* Write a Python function corresponding to the likelihood function $\\mathcal{L}(\\theta)$. Ignore multiplicative factors which do not depend on $\\theta$.\n",
    "\n",
    "** mi sembra che i coefficienti binomiali non possano essere ignorati **"
   ]
  },
  {
   "cell_type": "code",
   "execution_count": 3,
   "metadata": {
    "pycharm": {
     "name": "#%%\n"
    }
   },
   "outputs": [],
   "source": [
    "import math \n",
    "\n",
    "def sigmoid(z):\n",
    "    return 1/(1 + np.exp(-z)) \n",
    "\n",
    "#GC: i think the likelihood should depend not only on theta, but also on the data (x, y and n)\n",
    "# As we have different groups,  n and y are vectors.\n",
    "\n",
    "#ps: what is pass??\n",
    "#we need passing parameter theta\n",
    "#def lik(alpha, beta, n, y):\n",
    "def lik(theta):\n",
    "    alpha = theta[0]\n",
    "    beta = theta[1]\n",
    "    n_groups = len(x)\n",
    "    lik = 1\n",
    "    z = alpha + beta * x\n",
    "    for i in range (n_groups):\n",
    "        comb = math.comb( int(n[i]), int(y[i]))\n",
    "        lik = lik * comb * (sigmoid(z[i])**y[i]) *  (1-sigmoid(z[i]))**(n[i]-y[i])\n",
    "    return (lik)"
   ]
  },
  {
   "cell_type": "code",
   "execution_count": 4,
   "metadata": {},
   "outputs": [],
   "source": [
    "# a stepsize of 0.1 might be enough\n",
    "\n",
    "a = np.arange(-4, 8, 0.1)  \n",
    "b = np.arange(-10, 40, 0.1)\n",
    "lik_ab = np.zeros([len(a), len(b)])\n",
    "for i, current_a in enumerate(a):\n",
    "    for j, current_b in enumerate(b):\n",
    "        lik_ab[i,j] = lik ([current_a, current_b])\n",
    "\n",
    "np.savetxt(\"lik.csv\", lik_ab, delimiter=\",\")"
   ]
  },
  {
   "cell_type": "code",
   "execution_count": 5,
   "metadata": {},
   "outputs": [
    {
     "name": "stdout",
     "output_type": "stream",
     "text": [
      "coordinates of the max : 0.8000000000000043 , 7.5999999999999375\n",
      "max lik value: 0.1375900685018062\n"
     ]
    }
   ],
   "source": [
    "#finding the maximum..\n",
    "ind = np.unravel_index(np.argmax(lik_ab, axis=None), lik_ab.shape) \n",
    "\n",
    "#stampa le coordinate del massimo\n",
    "a_max = a[ind[0]]\n",
    "b_max = b[ind[1]]\n",
    "print(\"coordinates of the max : \" +  str(a_max) + \" , \" + str(b_max))\n",
    "print(\"max lik value: \" + str(lik_ab[ind]))"
   ]
  },
  {
   "cell_type": "markdown",
   "metadata": {
    "pycharm": {
     "name": "#%% md\n"
    }
   },
   "source": [
    "* Visualize the likelihood function in 2D and comment the obtained figure. \n",
    "\n",
    "   Hints:\n",
    "    * you may use the `pcolormesh` function of `matplotlib`\n",
    "    * appropriate ranges for $\\alpha$ and $\\beta$ are $[-4, 8]$ and $[-10, 40]$, respectively\n",
    "    * an appropriate step size for both $\\alpha$ and $\\beta$ is 0.01"
   ]
  },
  {
   "cell_type": "code",
   "execution_count": 6,
   "metadata": {},
   "outputs": [
    {
     "data": {
      "image/png": "[encoded data removed]",
      "text/plain": [
       "<Figure size 640x480 with 1 Axes>"
      ]
     },
     "metadata": {},
     "output_type": "display_data"
    }
   ],
   "source": [
    "#strangely I hat to invert the matrix (googling about how to do it)\n",
    "#I find matshow to be more convenient, althout in that case there are no proper labels for axis\n",
    "#however I had to set the stepsize to 1 for both variables, with 0.01 the figure would look flat\n",
    "fig, ax = plt.subplots()\n",
    "ax.pcolormesh(a, b, lik_ab.T);"
   ]
  },
  {
   "cell_type": "markdown",
   "metadata": {
    "pycharm": {
     "name": "#%% md\n"
    }
   },
   "source": [
    "* Derive an analytical expression of the log-likelihood function $\\ell(\\theta)$. "
   ]
  },
  {
   "cell_type": "markdown",
   "metadata": {},
   "source": [
    "\\begin{align}\n",
    "& \\text{log } \\left(\n",
    "\\prod_i \\binom{y_i}{n_i} \\left\\{\\frac{1}{1 + e^{-\\alpha - \\beta x_i}}\\right\\}^{y_i}\n",
    "\\left\\{\\frac{e^{-\\alpha - \\beta x_i}}{1 + e^{-\\alpha - \\beta x_i}}\\right\\}^{n_i-y_i}\n",
    "\\right)\n",
    "\\\\\n",
    "= &  \n",
    "\\sum_i    \\binom{y_i}{n_i} +\n",
    "y_i \\text{ log } \\left(\n",
    "\\frac{1}{1 + e^{-\\alpha - \\beta x_i}} \\right) + \n",
    "(n_i-y_i) \\text{ log }\n",
    "\\left( \\frac{e^{-\\alpha - \\beta x_i}}{1 + e^{-\\alpha - \\beta x_i}}\\right)\\\\\n",
    "= &  \n",
    "\\sum_i    \\binom{y_i}{n_i} -\n",
    "y_i \\text{ log } \\left(\n",
    "1 + e^{-\\alpha - \\beta x_i} \\right) + \n",
    "(n_i-y_i) \\text{ log }\n",
    "\\left( \\frac{e^{-\\alpha - \\beta x_i}}{1 + e^{-\\alpha - \\beta x_i}}\\right)\n",
    "\\end{align}"
   ]
  },
  {
   "cell_type": "markdown",
   "metadata": {
    "pycharm": {
     "name": "#%% md\n"
    }
   },
   "source": [
    "* Write a Python function corresponding to the log-likelihood function $\\ell(\\theta)$, possibly up to an additive factor not depending on $\\theta$. "
   ]
  },
  {
   "cell_type": "code",
   "execution_count": 7,
   "metadata": {},
   "outputs": [],
   "source": [
    "#i let the log-likelihood  depend not only on theta, but also on the data (y and n)\n",
    "#however later it cannot be optimized, so it has to depend only on alpha and beta\n",
    "#here we can drop the binomial coefficient\n",
    "\n",
    "#def log_lik(alpha, beta, n, y) \n",
    "#def log_lik( [alpha, beta] ) - optimize requires a vector x\n",
    "\n",
    "\n",
    "def log_lik( theta ):\n",
    "    groups  = len(n)\n",
    "    log_lik = 0 \n",
    "    alpha   = theta[0]\n",
    "    beta    = theta[1]\n",
    "    for i  in range(groups):\n",
    "        e_ab = np.exp( - alpha - beta * x[i])\n",
    "        log_lik = log_lik - y[i] * np.log(1 + e_ab) + (n[i] - y[i]) * np.log(e_ab / (1 + e_ab))\n",
    "    return (log_lik)\n",
    "    "
   ]
  },
  {
   "cell_type": "markdown",
   "metadata": {},
   "source": [
    "* Visualize the log-likelihood function in 2D and comment the obtained figure. "
   ]
  },
  {
   "cell_type": "code",
   "execution_count": 8,
   "metadata": {},
   "outputs": [],
   "source": [
    "#also here, I needed increasing the stepsize to 1 to see something.\n",
    "a = np.arange(-4, 8, 1)  \n",
    "b = np.arange(-10, 40, 1)\n",
    "log_lik_ab = np.zeros([len(a), len(b)])\n",
    "for i, current_a in enumerate(a):\n",
    "    for j, current_b in enumerate(b):\n",
    "        log_lik_ab[i,j] = log_lik ([current_a, current_b])"
   ]
  },
  {
   "cell_type": "code",
   "execution_count": 9,
   "metadata": {},
   "outputs": [
    {
     "data": {
      "image/png": "[encoded data removed]",
      "text/plain": [
       "<Figure size 640x480 with 1 Axes>"
      ]
     },
     "metadata": {},
     "output_type": "display_data"
    }
   ],
   "source": [
    "#plt.matshow(log_lik_ab);\n",
    "fig, ax = plt.subplots()\n",
    "ax.pcolormesh(a, b, log_lik_ab.T);"
   ]
  },
  {
   "cell_type": "markdown",
   "metadata": {
    "pycharm": {
     "name": "#%% md\n"
    }
   },
   "source": [
    "* Compute the maximum likelihood estimate $\\alpha^{\\rm ml}, \\beta^{\\rm ml}$ of the parameters $\\alpha, \\beta$ through numerical optimizations. \n",
    "\n",
    "    Hints:\n",
    "     * You may use the Python function `scipy.optimize.minimize`. \n",
    "     * You may look at the figures above to define a good starting point for optimization \n",
    "     * You may either minimize the likelihood or the log-likelihood. What is your choice?"
   ]
  },
  {
   "cell_type": "markdown",
   "metadata": {
    "pycharm": {
     "name": "#%% md\n"
    }
   },
   "source": [
    "* Visualize the likelihood function in 2D together with the ML estimate. Comment the obtained figure. "
   ]
  },
  {
   "cell_type": "code",
   "execution_count": 10,
   "metadata": {},
   "outputs": [],
   "source": [
    "# minimize the log-lik\n",
    "# we need a function returning -1*loglik, to minimize it\n",
    "def m_log_lik( theta ):\n",
    "    ll = log_lik (theta)\n",
    "    return (-1 * ll)\n",
    "\n",
    "def m_lik( theta ):\n",
    "    l = lik (theta)\n",
    "    return (-1 * l)\n"
   ]
  },
  {
   "cell_type": "code",
   "execution_count": 11,
   "metadata": {},
   "outputs": [
    {
     "name": "stdout",
     "output_type": "stream",
     "text": [
      "  message: Optimization terminated successfully.\n",
      "  success: True\n",
      "   status: 0\n",
      "      fun: 5.894441638972409\n",
      "        x: [ 8.466e-01  7.749e+00]\n",
      "      nit: 11\n",
      "      jac: [ 7.451e-06 -9.537e-07]\n",
      " hess_inv: [[ 9.843e-01  3.477e+00]\n",
      "            [ 3.477e+00  2.361e+01]]\n",
      "     nfev: 39\n",
      "     njev: 13\n"
     ]
    }
   ],
   "source": [
    "# minimize the log-lik\n",
    "# we need a function returning -1*loglik, to minimize it\n",
    "\n",
    "from scipy.optimize import minimize\n",
    "a0 = 10\n",
    "b0 = 10\n",
    "\n",
    "res_loglik = minimize(m_log_lik, [a0, b0]);\n",
    "print(res_loglik)"
   ]
  },
  {
   "cell_type": "code",
   "execution_count": 12,
   "metadata": {},
   "outputs": [
    {
     "data": {
      "image/png": "[encoded data removed]",
      "text/plain": [
       "<Figure size 640x480 with 1 Axes>"
      ]
     },
     "metadata": {},
     "output_type": "display_data"
    }
   ],
   "source": [
    "#plt.matshow(log_lik_ab);\n",
    "fig, ax = plt.subplots()\n",
    "ax.pcolormesh(a, b, log_lik_ab.T);\n",
    "x_opt = res_loglik.x[0]\n",
    "y_opt = res_loglik.x[1]\n",
    "plt.plot(x_opt, y_opt, marker=\"o\", markersize=10);"
   ]
  },
  {
   "cell_type": "code",
   "execution_count": 13,
   "metadata": {},
   "outputs": [
    {
     "name": "stdout",
     "output_type": "stream",
     "text": [
      "  message: Optimization terminated successfully.\n",
      "  success: True\n",
      "   status: 0\n",
      "      fun: -5.838426723803972e-23\n",
      "        x: [ 1.000e+01  1.000e+01]\n",
      "      nit: 0\n",
      "      jac: [ 5.842e-22 -2.772e-22]\n",
      " hess_inv: [[1 0]\n",
      "            [0 1]]\n",
      "     nfev: 3\n",
      "     njev: 1\n"
     ]
    }
   ],
   "source": [
    "# minimize the lik\n",
    "# does not move from the initialization if the initialization is far from the maximum, \n",
    "#as the function is flat in 0: jacobian is 0\n",
    "res_lik = minimize(m_lik, [a0, b0])\n",
    "print(res_lik)"
   ]
  },
  {
   "cell_type": "markdown",
   "metadata": {
    "pycharm": {
     "name": "#%% md\n"
    }
   },
   "source": [
    "## 1.2: Maximum A Posteriori estimation"
   ]
  },
  {
   "cell_type": "markdown",
   "metadata": {
    "pycharm": {
     "name": "#%% md\n"
    }
   },
   "source": [
    "* Derive an analytical expression of the posterior $f(\\theta | y)$, up to a multiplicative factor not depending on $\\theta$. \n",
    "\n",
    "Hint: exploit the already-obtained likelihood and the known functional form of the Gaussian pdf."
   ]
  },
  {
   "cell_type": "markdown",
   "metadata": {},
   "source": [
    "\\begin{align}\n",
    "f(\\theta|y) & \\propto f(\\theta) f(D|\\theta)= f(\\alpha) f(\\beta) f(D|\\theta) \\\\\n",
    "& = \\prod_i \\binom{y_i}{n_i} \\left\\{\\frac{1}{1 + e^{-\\alpha - \\beta x_i}}\\right\\}^{y_i}\n",
    "\\left\\{\\frac{e^{-\\alpha - \\beta x_i}}{1 + e^{-\\alpha - \\beta x_i}}\\right\\}^{n_i-y_i}\n",
    "e^{-\\frac{1}{2}\\left(\\frac{a - \\mu_a}{\\sigma_a}\\right)^2}\n",
    "e^{-\\frac{1}{2}\\left(\\frac{b - \\mu_a}{\\sigma_b}\\right)^2}\\\\\n",
    "& = \\prod_i \\binom{y_i}{n_i} \\left\\{\\frac{1}{1 + e^{-\\alpha - \\beta x_i}}\\right\\}^{y_i}\n",
    "\\left\\{\\frac{e^{-\\alpha - \\beta x_i}}{1 + e^{-\\alpha - \\beta x_i}}\\right\\}^{n_i-y_i}\n",
    "e^{-\\frac{1}{2}\\left(\\frac{a}{2}\\right)^2}\n",
    "e^{-\\frac{1}{2}\\left(\\frac{b - 10}{2}\\right)^2}\n",
    "\\end{align}"
   ]
  },
  {
   "cell_type": "markdown",
   "metadata": {
    "pycharm": {
     "name": "#%% md\n"
    }
   },
   "source": [
    "* Derive an analytical expression of the log-posterior $\\log f(\\theta | y)$, up to an additive factor not depending on $\\theta$."
   ]
  },
  {
   "cell_type": "markdown",
   "metadata": {},
   "source": [
    "\\begin{align}\n",
    "\\sum_i    \\binom{y_i}{n_i} -\n",
    "y_i \\text{ log } \\left(\n",
    "1 + e^{-\\alpha - \\beta x_i} \\right) + \n",
    "(n_i-y_i) \\text{ log }\n",
    "\\left( \\frac{e^{-\\alpha - \\beta x_i}}{1 + e^{-\\alpha - \\beta x_i}}\\right) -\n",
    "\\frac{1}{2} \\frac{a^2}{4} -\n",
    "\\frac{1}{2} \\frac{(b-10)^2}{4} = \\\\\n",
    "\\sum_i    \\binom{y_i}{n_i} -\n",
    "y_i \\text{ log } \\left(\n",
    "1 + e^{-\\alpha - \\beta x_i} \\right) + \n",
    "(n_i-y_i) \\text{ log }\n",
    "\\left( \\frac{e^{-\\alpha - \\beta x_i}}{1 + e^{-\\alpha - \\beta x_i}}\\right) -\n",
    "\\frac{a^2}{8} - \\frac{(b-10)^2}{8}\n",
    "\\end{align}"
   ]
  },
  {
   "cell_type": "markdown",
   "metadata": {
    "pycharm": {
     "name": "#%% md\n"
    }
   },
   "source": [
    "* Write the unnormalized posterior and log-posterior (up to a multiplicative/additive factor, respectively) as Python functions."
   ]
  },
  {
   "cell_type": "code",
   "execution_count": 14,
   "metadata": {},
   "outputs": [],
   "source": [
    "def log_post( theta ):\n",
    "    groups  = len(n)\n",
    "    alpha   = theta[0]\n",
    "    beta    = theta[1]\n",
    "    log_post = -alpha**2/8 #prior on alpha\n",
    "    log_post = -(beta - 10)**2/8 #prior on beta\n",
    "    for i  in range(groups):\n",
    "        e_ab = np.exp( - alpha - beta * x[i])\n",
    "        log_post = log_post - y[i] * np.log(1 + e_ab) + (n[i] - y[i]) * np.log(e_ab / (1 + e_ab))\n",
    "    return (log_post)\n",
    "    "
   ]
  },
  {
   "cell_type": "markdown",
   "metadata": {
    "pycharm": {
     "name": "#%% md\n"
    }
   },
   "source": [
    "* Compute the maximum a posteriore estimate $\\alpha^{\\rm MAP}, \\beta^{\\rm MAP}$."
   ]
  },
  {
   "cell_type": "code",
   "execution_count": 15,
   "metadata": {},
   "outputs": [
    {
     "name": "stdout",
     "output_type": "stream",
     "text": [
      "  message: Optimization terminated successfully.\n",
      "  success: True\n",
      "   status: 0\n",
      "      fun: 5.974202934499842\n",
      "        x: [ 1.133e+00  9.733e+00]\n",
      "      nit: 12\n",
      "      jac: [ 8.345e-07 -5.960e-08]\n",
      " hess_inv: [[ 6.243e-01  4.793e-01]\n",
      "            [ 4.793e-01  3.575e+00]]\n",
      "     nfev: 39\n",
      "     njev: 13\n"
     ]
    }
   ],
   "source": [
    "from scipy.optimize import minimize\n",
    "a0 = 10\n",
    "b0 = 10\n",
    "\n",
    "def m_log_post ( theta ):\n",
    "    lp = log_post(theta)\n",
    "    return ( -1 * lp)\n",
    "    \n",
    "\n",
    "res_post = minimize(m_log_post, [a0, b0]);\n",
    "print(res_post)"
   ]
  },
  {
   "cell_type": "markdown",
   "metadata": {
    "pycharm": {
     "name": "#%% md\n"
    }
   },
   "source": [
    "* Visualize the MAP estimate together with the unnormalized posterior in 2D. Comment the results."
   ]
  },
  {
   "cell_type": "code",
   "execution_count": 16,
   "metadata": {},
   "outputs": [
    {
     "data": {
      "image/png": "[encoded data removed]",
      "text/plain": [
       "<Figure size 640x480 with 1 Axes>"
      ]
     },
     "metadata": {},
     "output_type": "display_data"
    }
   ],
   "source": [
    "#plt.matshow(log_lik_ab);\n",
    "fig, ax = plt.subplots()\n",
    "ax.pcolormesh(a, b, log_lik_ab.T);\n",
    "x_opt_post = res_post.x[0]\n",
    "y_opt_post = res_post.x[1]\n",
    "plt.plot(x_opt, y_opt, marker=\"o\", markersize=10);\n",
    "plt.plot(x_opt_post, y_opt_post, marker=\"o\", markersize=10, markerfacecolor=\"red\");"
   ]
  },
  {
   "cell_type": "markdown",
   "metadata": {
    "pycharm": {
     "name": "#%% md\n"
    }
   },
   "source": [
    "## 1.3 Brute-force posterior estimation"
   ]
  },
  {
   "cell_type": "markdown",
   "metadata": {
    "pycharm": {
     "name": "#%% md\n"
    }
   },
   "source": [
    "* Compute a gridding approximation of the *normalized* posterior, with the correct normalization constant. Explain the passages."
   ]
  },
  {
   "cell_type": "markdown",
   "metadata": {
    "pycharm": {
     "name": "#%% md\n"
    }
   },
   "source": [
    "* Using the grid-based approximation of the posterior, compute the posterior mean of $\\alpha$ and $\\beta$."
   ]
  },
  {
   "cell_type": "code",
   "execution_count": null,
   "metadata": {},
   "outputs": [],
   "source": []
  },
  {
   "cell_type": "markdown",
   "metadata": {
    "pycharm": {
     "name": "#%% md\n"
    }
   },
   "source": [
    "## 1.4 Monte-carlo posterior estimation"
   ]
  },
  {
   "cell_type": "markdown",
   "metadata": {},
   "source": [
    "* Obtain a sample-based approximation of the posterior $f(\\theta | y)$ by implementing the Metropolis algorithm from scratch."
   ]
  },
  {
   "cell_type": "markdown",
   "metadata": {},
   "source": [
    "* Compare the Metropolis samples with the gridding-based approximation of the posterior distribution $f(\\theta | y)$ and comment the result."
   ]
  },
  {
   "cell_type": "markdown",
   "metadata": {
    "pycharm": {
     "name": "#%% md\n"
    }
   },
   "source": [
    "* Obtain a sample-based approximation of the posterior $f(\\theta | y)$ using pymc3."
   ]
  },
  {
   "cell_type": "markdown",
   "metadata": {},
   "source": [
    "* Comment the results obtained with pymc3 and compare them with previous results (gridding and Metropolis from scratch)."
   ]
  }
 ],
 "metadata": {
  "kernelspec": {
   "display_name": "Python 3 (ipykernel)",
   "language": "python",
   "name": "python3"
  },
  "language_info": {
   "codemirror_mode": {
    "name": "ipython",
    "version": 3
   },
   "file_extension": ".py",
   "mimetype": "text/x-python",
   "name": "python",
   "nbconvert_exporter": "python",
   "pygments_lexer": "ipython3",
   "version": "3.11.4"
  }
 },
 "nbformat": 4,
 "nbformat_minor": 4
}
