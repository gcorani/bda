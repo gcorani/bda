{
  "cells": [
    {
      "cell_type": "code",
      "execution_count": null,
      "metadata": {
        "id": "xfa-QWi1Xn3D"
      },
      "outputs": [],
      "source": [
        "# you might need this if you are on a mac\n",
        "#import pytensor\n",
        "#pytensor.config.cxx = \"/usr/bin/clang++\""
      ]
    },
    {
      "cell_type": "code",
      "execution_count": null,
      "metadata": {
        "pycharm": {
          "name": "#%%\n"
        },
        "id": "QKuGO9PyXn3E"
      },
      "outputs": [],
      "source": [
        "import numpy as np\n",
        "import scipy\n",
        "import scipy.stats as stats\n",
        "import matplotlib.pyplot as plt\n",
        "import seaborn as sns\n",
        "import pymc as pm\n",
        "import arviz as az\n",
        "import pandas as pd\n",
        "#import plotly.express as px"
      ]
    },
    {
      "cell_type": "code",
      "execution_count": null,
      "metadata": {
        "pycharm": {
          "name": "#%%\n"
        },
        "id": "TI8nArQWXn3F"
      },
      "outputs": [],
      "source": [
        "sns.set()"
      ]
    },
    {
      "cell_type": "markdown",
      "metadata": {
        "pycharm": {
          "name": "#%% md\n"
        },
        "id": "4mRpeS6FXn3F"
      },
      "source": [
        "## Factory data\n",
        "\n",
        "The following dataset contains quality control measurements from 6\n",
        "machines in a factory (range: 0-120, units of the measurements are irrelevant here).\n",
        "\n",
        "In the dataset, each column contains the measurements for a single machine. Quality control measurements are expensive and time-consuming, so only 5 measurements were done for each machine.\n",
        "\n",
        "In addition to the existing machines, we are interested in the quality of another machine (the seventh machine) which is not in the dataset."
      ]
    },
    {
      "cell_type": "code",
      "execution_count": null,
      "metadata": {
        "pycharm": {
          "name": "#%%\n"
        },
        "id": "OgN6y4GPXn3G",
        "outputId": "6385aa43-3d8b-458f-dd3e-b9b97b4485a5"
      },
      "outputs": [
        {
          "data": {
            "text/html": [
              "<div>\n",
              "<style scoped>\n",
              "    .dataframe tbody tr th:only-of-type {\n",
              "        vertical-align: middle;\n",
              "    }\n",
              "\n",
              "    .dataframe tbody tr th {\n",
              "        vertical-align: top;\n",
              "    }\n",
              "\n",
              "    .dataframe thead th {\n",
              "        text-align: right;\n",
              "    }\n",
              "</style>\n",
              "<table border=\"1\" class=\"dataframe\">\n",
              "  <thead>\n",
              "    <tr style=\"text-align: right;\">\n",
              "      <th>machine</th>\n",
              "      <th>M0</th>\n",
              "      <th>M1</th>\n",
              "      <th>M2</th>\n",
              "      <th>M3</th>\n",
              "      <th>M4</th>\n",
              "      <th>M5</th>\n",
              "    </tr>\n",
              "    <tr>\n",
              "      <th>measurement</th>\n",
              "      <th></th>\n",
              "      <th></th>\n",
              "      <th></th>\n",
              "      <th></th>\n",
              "      <th></th>\n",
              "      <th></th>\n",
              "    </tr>\n",
              "  </thead>\n",
              "  <tbody>\n",
              "    <tr>\n",
              "      <th>0</th>\n",
              "      <td>83.0</td>\n",
              "      <td>117.0</td>\n",
              "      <td>101.0</td>\n",
              "      <td>105.0</td>\n",
              "      <td>79.0</td>\n",
              "      <td>57.0</td>\n",
              "    </tr>\n",
              "    <tr>\n",
              "      <th>1</th>\n",
              "      <td>92.0</td>\n",
              "      <td>109.0</td>\n",
              "      <td>93.0</td>\n",
              "      <td>119.0</td>\n",
              "      <td>97.0</td>\n",
              "      <td>92.0</td>\n",
              "    </tr>\n",
              "    <tr>\n",
              "      <th>2</th>\n",
              "      <td>92.0</td>\n",
              "      <td>114.0</td>\n",
              "      <td>92.0</td>\n",
              "      <td>116.0</td>\n",
              "      <td>103.0</td>\n",
              "      <td>104.0</td>\n",
              "    </tr>\n",
              "    <tr>\n",
              "      <th>3</th>\n",
              "      <td>46.0</td>\n",
              "      <td>104.0</td>\n",
              "      <td>86.0</td>\n",
              "      <td>102.0</td>\n",
              "      <td>79.0</td>\n",
              "      <td>77.0</td>\n",
              "    </tr>\n",
              "    <tr>\n",
              "      <th>4</th>\n",
              "      <td>67.0</td>\n",
              "      <td>87.0</td>\n",
              "      <td>67.0</td>\n",
              "      <td>116.0</td>\n",
              "      <td>92.0</td>\n",
              "      <td>100.0</td>\n",
              "    </tr>\n",
              "  </tbody>\n",
              "</table>\n",
              "</div>"
            ],
            "text/plain": [
              "machine        M0     M1     M2     M3     M4     M5\n",
              "measurement                                         \n",
              "0            83.0  117.0  101.0  105.0   79.0   57.0\n",
              "1            92.0  109.0   93.0  119.0   97.0   92.0\n",
              "2            92.0  114.0   92.0  116.0  103.0  104.0\n",
              "3            46.0  104.0   86.0  102.0   79.0   77.0\n",
              "4            67.0   87.0   67.0  116.0   92.0  100.0"
            ]
          },
          "execution_count": 19,
          "metadata": {},
          "output_type": "execute_result"
        }
      ],
      "source": [
        "df_wide = pd.read_csv(\"factory.csv\")\n",
        "df_wide.set_index(\"measurement\", inplace=True)\n",
        "df_wide.columns.name = \"machine\"\n",
        "df_wide"
      ]
    },
    {
      "cell_type": "markdown",
      "metadata": {
        "id": "tQdtB42LXn3G"
      },
      "source": [
        "* Transform the dataset to the long format: one row per machine per measurement"
      ]
    },
    {
      "cell_type": "markdown",
      "metadata": {
        "pycharm": {
          "name": "#%% md\n"
        },
        "id": "GYgjbP-VXn3H"
      },
      "source": [
        "A \"long\" format is more convenient for the following analyises. Let us *melt* the dataframe!"
      ]
    },
    {
      "cell_type": "code",
      "execution_count": null,
      "metadata": {
        "pycharm": {
          "name": "#%%\n"
        },
        "id": "kxwl4AdJXn3H"
      },
      "outputs": [],
      "source": [
        "df = pd.melt(df_wide.reset_index(),\n",
        "             id_vars=[\"measurement\"],\n",
        "             value_vars=['M0', 'M1', 'M2', 'M3', 'M4', 'M5'],\n",
        "             value_name='quality')\n",
        "df[\"machine\"] = df[\"machine\"].astype(\"category\") # useful for group analysis (with pymc)"
      ]
    },
    {
      "cell_type": "code",
      "execution_count": null,
      "metadata": {
        "id": "cKGSIHRHXn3H",
        "outputId": "e5c2d821-830d-4d5c-c99b-f1469b8f9359"
      },
      "outputs": [
        {
          "data": {
            "text/html": [
              "<div>\n",
              "<style scoped>\n",
              "    .dataframe tbody tr th:only-of-type {\n",
              "        vertical-align: middle;\n",
              "    }\n",
              "\n",
              "    .dataframe tbody tr th {\n",
              "        vertical-align: top;\n",
              "    }\n",
              "\n",
              "    .dataframe thead th {\n",
              "        text-align: right;\n",
              "    }\n",
              "</style>\n",
              "<table border=\"1\" class=\"dataframe\">\n",
              "  <thead>\n",
              "    <tr style=\"text-align: right;\">\n",
              "      <th></th>\n",
              "      <th>measurement</th>\n",
              "      <th>machine</th>\n",
              "      <th>quality</th>\n",
              "    </tr>\n",
              "  </thead>\n",
              "  <tbody>\n",
              "    <tr>\n",
              "      <th>0</th>\n",
              "      <td>0</td>\n",
              "      <td>M0</td>\n",
              "      <td>83.0</td>\n",
              "    </tr>\n",
              "    <tr>\n",
              "      <th>1</th>\n",
              "      <td>1</td>\n",
              "      <td>M0</td>\n",
              "      <td>92.0</td>\n",
              "    </tr>\n",
              "    <tr>\n",
              "      <th>2</th>\n",
              "      <td>2</td>\n",
              "      <td>M0</td>\n",
              "      <td>92.0</td>\n",
              "    </tr>\n",
              "    <tr>\n",
              "      <th>3</th>\n",
              "      <td>3</td>\n",
              "      <td>M0</td>\n",
              "      <td>46.0</td>\n",
              "    </tr>\n",
              "    <tr>\n",
              "      <th>4</th>\n",
              "      <td>4</td>\n",
              "      <td>M0</td>\n",
              "      <td>67.0</td>\n",
              "    </tr>\n",
              "    <tr>\n",
              "      <th>5</th>\n",
              "      <td>0</td>\n",
              "      <td>M1</td>\n",
              "      <td>117.0</td>\n",
              "    </tr>\n",
              "  </tbody>\n",
              "</table>\n",
              "</div>"
            ],
            "text/plain": [
              "   measurement machine  quality\n",
              "0            0      M0     83.0\n",
              "1            1      M0     92.0\n",
              "2            2      M0     92.0\n",
              "3            3      M0     46.0\n",
              "4            4      M0     67.0\n",
              "5            0      M1    117.0"
            ]
          },
          "execution_count": 21,
          "metadata": {},
          "output_type": "execute_result"
        }
      ],
      "source": [
        "df.head(6)"
      ]
    },
    {
      "cell_type": "markdown",
      "metadata": {
        "id": "gYRGGPFjXn3H"
      },
      "source": [
        "Note: the category column has the useful properies `cat.categories` (all the possible values of the categorical variable) and `cat.codes` (an equivalent integer representation of the variable)"
      ]
    },
    {
      "cell_type": "code",
      "execution_count": null,
      "metadata": {
        "id": "Uixg-siPXn3H",
        "outputId": "e3b517ce-5f8c-447d-93ff-f7a67eba5472"
      },
      "outputs": [
        {
          "data": {
            "text/plain": [
              "Index(['M0', 'M1', 'M2', 'M3', 'M4', 'M5'], dtype='object')"
            ]
          },
          "execution_count": 22,
          "metadata": {},
          "output_type": "execute_result"
        }
      ],
      "source": [
        "df[\"machine\"].cat.categories"
      ]
    },
    {
      "cell_type": "code",
      "execution_count": null,
      "metadata": {
        "id": "AoN2AH52Xn3H",
        "outputId": "f044c520-9956-4c0f-cfe9-fe8a41205515"
      },
      "outputs": [
        {
          "data": {
            "text/plain": [
              "0    0\n",
              "1    0\n",
              "2    0\n",
              "3    0\n",
              "4    0\n",
              "5    1\n",
              "dtype: int8"
            ]
          },
          "execution_count": 23,
          "metadata": {},
          "output_type": "execute_result"
        }
      ],
      "source": [
        "df[\"machine\"].cat.codes.head(6)"
      ]
    },
    {
      "cell_type": "markdown",
      "metadata": {
        "pycharm": {
          "name": "#%% md\n"
        },
        "id": "n99A5UIcXn3H"
      },
      "source": [
        "## Some traditional data analysis (data-challenge style)"
      ]
    },
    {
      "cell_type": "markdown",
      "metadata": {
        "pycharm": {
          "name": "#%% md\n"
        },
        "id": "y-9HbfnMXn3I"
      },
      "source": [
        "* Obtain the global mean and standard deviation of the quality measurement (pooled mean/standard deviation)"
      ]
    },
    {
      "cell_type": "code",
      "execution_count": null,
      "metadata": {
        "pycharm": {
          "name": "#%%\n"
        },
        "id": "5qPibv3EXn3I",
        "outputId": "94a30d95-2de7-41e1-851b-c203d11dbc43"
      },
      "outputs": [
        {
          "data": {
            "text/plain": [
              "(92.93333333333334, 18.001787906096773)"
            ]
          },
          "execution_count": 24,
          "metadata": {},
          "output_type": "execute_result"
        }
      ],
      "source": [
        "df[\"quality\"].mean(), df[\"quality\"].std()"
      ]
    },
    {
      "cell_type": "markdown",
      "metadata": {
        "pycharm": {
          "name": "#%% md\n"
        },
        "id": "6oA1aOTIXn3I"
      },
      "source": [
        "* Plot a histogram and a boxplot of the quality measurement"
      ]
    },
    {
      "cell_type": "code",
      "execution_count": null,
      "metadata": {
        "pycharm": {
          "name": "#%%\n"
        },
        "id": "jemNkmo0Xn3I",
        "outputId": "51b96c13-a8b5-4085-904a-315f9f9324d9"
      },
      "outputs": [
        {
          "data": {
            "image/png": "[encoded data removed]",
            "text/plain": [
              "<Figure size 640x480 with 1 Axes>"
            ]
          },
          "metadata": {},
          "output_type": "display_data"
        }
      ],
      "source": [
        "sns.histplot(df[\"quality\"]);\n",
        "#px.histogram(df[\"quality\"]);"
      ]
    },
    {
      "cell_type": "code",
      "execution_count": null,
      "metadata": {
        "id": "ajRxEpEyXn3I",
        "outputId": "83c825d5-e417-43ec-ac72-75cc64e6b1c3"
      },
      "outputs": [
        {
          "data": {
            "image/png": "[encoded data removed]",
            "text/plain": [
              "<Figure size 640x480 with 1 Axes>"
            ]
          },
          "metadata": {},
          "output_type": "display_data"
        }
      ],
      "source": [
        "sns.boxplot(df[\"quality\"]);"
      ]
    },
    {
      "cell_type": "markdown",
      "metadata": {
        "pycharm": {
          "name": "#%% md\n"
        },
        "id": "JyjYtxDeXn3I"
      },
      "source": [
        "* Obtain the mean and standard deviation of quality measurement, for the different machines (unpooled mean/standard deviation)"
      ]
    },
    {
      "cell_type": "code",
      "execution_count": null,
      "metadata": {
        "pycharm": {
          "name": "#%%\n"
        },
        "id": "Eol4A33SXn3I",
        "outputId": "f888f7bb-5f61-4328-b51a-8a10c748dc65"
      },
      "outputs": [
        {
          "name": "stderr",
          "output_type": "stream",
          "text": [
            "/var/folders/w7/h67z1rn941j1p0m51k08d9xc0000gp/T/ipykernel_73675/4058271444.py:1: FutureWarning: The default of observed=False is deprecated and will be changed to True in a future version of pandas. Pass observed=False to retain current behavior or observed=True to adopt the future default and silence this warning.\n",
            "  df.groupby(\"machine\")[[\"quality\"]].agg([\"mean\", \"std\"])\n"
          ]
        },
        {
          "data": {
            "text/html": [
              "<div>\n",
              "<style scoped>\n",
              "    .dataframe tbody tr th:only-of-type {\n",
              "        vertical-align: middle;\n",
              "    }\n",
              "\n",
              "    .dataframe tbody tr th {\n",
              "        vertical-align: top;\n",
              "    }\n",
              "\n",
              "    .dataframe thead tr th {\n",
              "        text-align: left;\n",
              "    }\n",
              "\n",
              "    .dataframe thead tr:last-of-type th {\n",
              "        text-align: right;\n",
              "    }\n",
              "</style>\n",
              "<table border=\"1\" class=\"dataframe\">\n",
              "  <thead>\n",
              "    <tr>\n",
              "      <th></th>\n",
              "      <th colspan=\"2\" halign=\"left\">quality</th>\n",
              "    </tr>\n",
              "    <tr>\n",
              "      <th></th>\n",
              "      <th>mean</th>\n",
              "      <th>std</th>\n",
              "    </tr>\n",
              "    <tr>\n",
              "      <th>machine</th>\n",
              "      <th></th>\n",
              "      <th></th>\n",
              "    </tr>\n",
              "  </thead>\n",
              "  <tbody>\n",
              "    <tr>\n",
              "      <th>M0</th>\n",
              "      <td>76.0</td>\n",
              "      <td>19.634154</td>\n",
              "    </tr>\n",
              "    <tr>\n",
              "      <th>M1</th>\n",
              "      <td>106.2</td>\n",
              "      <td>11.819475</td>\n",
              "    </tr>\n",
              "    <tr>\n",
              "      <th>M2</th>\n",
              "      <td>87.8</td>\n",
              "      <td>12.794530</td>\n",
              "    </tr>\n",
              "    <tr>\n",
              "      <th>M3</th>\n",
              "      <td>111.6</td>\n",
              "      <td>7.569676</td>\n",
              "    </tr>\n",
              "    <tr>\n",
              "      <th>M4</th>\n",
              "      <td>90.0</td>\n",
              "      <td>10.770330</td>\n",
              "    </tr>\n",
              "    <tr>\n",
              "      <th>M5</th>\n",
              "      <td>86.0</td>\n",
              "      <td>19.222383</td>\n",
              "    </tr>\n",
              "  </tbody>\n",
              "</table>\n",
              "</div>"
            ],
            "text/plain": [
              "        quality           \n",
              "           mean        std\n",
              "machine                   \n",
              "M0         76.0  19.634154\n",
              "M1        106.2  11.819475\n",
              "M2         87.8  12.794530\n",
              "M3        111.6   7.569676\n",
              "M4         90.0  10.770330\n",
              "M5         86.0  19.222383"
            ]
          },
          "execution_count": 27,
          "metadata": {},
          "output_type": "execute_result"
        }
      ],
      "source": [
        "df.groupby(\"machine\")[[\"quality\"]].agg([\"mean\", \"std\"])"
      ]
    },
    {
      "cell_type": "markdown",
      "metadata": {
        "pycharm": {
          "name": "#%% md\n"
        },
        "id": "Q5lPW5WRXn3I"
      },
      "source": [
        "* Draw boxplots of quality for the different factories"
      ]
    },
    {
      "cell_type": "code",
      "execution_count": null,
      "metadata": {
        "pycharm": {
          "name": "#%%\n"
        },
        "id": "mpjE3uyJXn3I",
        "outputId": "eb4dc4ac-af0c-48c2-f5cc-687b1d7822f3"
      },
      "outputs": [
        {
          "data": {
            "image/png": "[encoded data removed]",
            "text/plain": [
              "<Figure size 640x480 with 1 Axes>"
            ]
          },
          "metadata": {},
          "output_type": "display_data"
        }
      ],
      "source": [
        "sns.boxplot(data=df, x=\"quality\", y=\"machine\");\n",
        "#px.box(df, x=\"quality\", y=\"machine\")"
      ]
    },
    {
      "cell_type": "markdown",
      "metadata": {
        "pycharm": {
          "name": "#%% md\n"
        },
        "id": "VEcJbRyTXn3I"
      },
      "source": [
        "Even from a classical analysis, there seems to be evidence that different machines have different quality."
      ]
    },
    {
      "cell_type": "markdown",
      "metadata": {
        "pycharm": {
          "name": "#%% md\n"
        },
        "id": "dKjFTOOiXn3J"
      },
      "source": [
        "## Pooled Bayesian Model\n",
        "\n",
        "Consider the following *pooled* Bayesian model:\n",
        "\\begin{align*}\n",
        "\\mu &\\sim N(90, 10) \\\\\n",
        "\\sigma &\\sim \\text{HalfNormal}(36) \\\\\n",
        "\\vec{y}_{ij} &\\sim N(\\mu, \\sigma) \\\\\n",
        "\\end{align*}\n"
      ]
    },
    {
      "cell_type": "markdown",
      "metadata": {
        "id": "Ibj91G6hXn3J"
      },
      "source": [
        "* Discuss the pooled model and its underlying hypotheses"
      ]
    },
    {
      "cell_type": "markdown",
      "metadata": {
        "id": "QmG4qBg4Xn3J"
      },
      "source": [
        "* Implement the pooled model in pymc"
      ]
    },
    {
      "cell_type": "markdown",
      "metadata": {
        "pycharm": {
          "name": "#%% md\n"
        },
        "id": "RYxKsERzXn3J"
      },
      "source": [
        "## Unpooled Bayesian Model\n",
        "\n",
        "Consider the following Bayesian unpooled model\n",
        "\\begin{align*}\n",
        "\\mu_{j} &\\sim {N}(90, 20) \\\\\n",
        "\\sigma_{j} &\\sim \\text{HalfNormal}(23) \\\\\n",
        "\\vec{y}_{ij} &\\sim {N}(\\mu_j, \\sigma_j) \\\\\n",
        "\\end{align*}\n",
        "\n"
      ]
    },
    {
      "cell_type": "markdown",
      "metadata": {
        "id": "D2mSSruZXn3J"
      },
      "source": [
        "* Discuss the unpooled model and its underlying hypotheses"
      ]
    },
    {
      "cell_type": "markdown",
      "metadata": {
        "id": "yIy9BfrNXn3J"
      },
      "source": [
        "* Implement the unpooled model in pymc"
      ]
    },
    {
      "cell_type": "markdown",
      "metadata": {
        "pycharm": {
          "name": "#%% md\n"
        },
        "id": "PhNNENavXn3J"
      },
      "source": [
        "* Compare the sample unpooled standard deviation with the Bayesian estimate. What do you observe?"
      ]
    },
    {
      "cell_type": "markdown",
      "metadata": {
        "pycharm": {
          "name": "#%% md\n"
        },
        "id": "XIeAs3kLXn3J"
      },
      "source": [
        "## Hierarchical model, common std\n",
        "\n",
        "Consider the following Bayesian hierarchical model:\n",
        "\n",
        "\\begin{align*}\n",
        "\\mu_\\mu & \\sim N(90, 10)\\\\\n",
        "\\sigma_\\mu  & \\sim \\text{HalfNormal}(30) \\\\\n",
        "\\mu_{j} &\\sim {N}(\\mu_\\mu, \\sigma_\\mu) \\\\\n",
        "\\sigma &\\sim \\text{HalfNormal}(23) \\\\\n",
        "\\vec{y}_{ij} &\\sim {N}(\\mu_j, \\sigma) \\\\\n",
        "\\end{align*}\n",
        "\n"
      ]
    },
    {
      "cell_type": "markdown",
      "metadata": {
        "id": "01Xg2NlpXn3J"
      },
      "source": [
        "* Discuss the hierarchical model and its underlying hypotheses"
      ]
    },
    {
      "cell_type": "markdown",
      "metadata": {
        "id": "VVPnUoHpXn3J"
      },
      "source": [
        "* Implement the hierarchical model in pymc"
      ]
    },
    {
      "cell_type": "markdown",
      "metadata": {
        "id": "xhJtbWwQXn3J"
      },
      "source": [
        "## Model selection\n",
        "\n",
        "What is the best model ultimately? In our case: Pooled, Unpooled, or Hierarchical?\n",
        "\n",
        "\n",
        "To answer this question, we need a **model selection** strategy/metric.\n",
        "\n",
        "* You know metrics for point regression models (mse, rmse, mae,...)\n",
        "* You know metrics for point classification models (accuracy, prediciton, recall...)\n",
        "\n",
        "\n",
        "### The WAIC Criterion\n",
        "To score full Bayesian models, we need a metric that evaluates a (sample-based approximation of a) *distribution*.\n",
        "\n",
        "* A popular metric to score a distribution is the log-pointwise-predictive-density ${\\rm lpd}(y, \\Theta)$:\n",
        "$$ {\\rm lpd}(y, \\Theta) = \\sum_i \\log \\frac{1}{S} \\sum_s p(y_i | \\Theta_s),$$\n",
        "where $y$ are the observations and $\\Theta$ is the sample-based approximation of the posterior ($\\Theta_s$ is a single MCMC draw). It is the (approximate) logarithm of the expected likelihood (the higher, the better)!\n",
        "\n",
        "\n",
        "* The ${\\rm lpd}(y, \\Theta)$ generally increases for increasing model complexity and it is thus prone to overfitting when used on the same data used for model building. It should be evaluated with fresh data in (cross)-validation.\n",
        "\n",
        "* The WAIC criterion (the lower, the better) balances high ${\\rm lpd}$ and low model complexity explicitly. It can be applied directly on the training data $y$!\n",
        "\n",
        "\\begin{align}\n",
        "{\\rm WAIC}(y, \\Theta) &= -2(\\rm{lpd} - p_{\\rm waic}).\\\\\n",
        " p_{{\\rm waic}} &= \\sum_i {\\rm var}_{\\theta} \\log p(y_i|\\theta)\n",
        "\\end{align}\n",
        "\n",
        "* The WAIC is equivalent up to a factor to the ${\\rm elpd}$, the *expected* $\\rm{lpd}$ on fresh data (the higher, the better):\n",
        "\n",
        "$${\\rm elpd}(y, \\Theta) = \\rm{lpd} - p_{\\rm waic}.$$\n",
        "\n",
        "Advantages of WAIC/elpd:\n",
        "\n",
        "* Well-defined both for continuous and for categorical observations\n",
        "* Applicable to Bayesian models returning point-wise estimates\n",
        "* Applicable to the training data directly (built-in complexity penalty)\n",
        "* Works well in practice\n",
        "\n",
        "Note: WAIC stands for Widely Applicable Information Criterion!\n",
        "\n",
        "### The WAIC Criterion in arviz\n",
        "\n",
        "Arviz has a built-in function `az.waic` to compute the WAIC (actually, as of v0.12.1, arviz computes the ${\\rm elpd}$, see <a href=\"https://python.arviz.org/en/v0.12.1/api/generated/arviz.waic.html?highlight=waic\">documentation</a>):\n"
      ]
    },
    {
      "cell_type": "code",
      "execution_count": null,
      "metadata": {
        "id": "Z4P9tQeiXn3J",
        "outputId": "3cad71c0-49c7-49e3-d6b6-ab07a70593f8"
      },
      "outputs": [
        {
          "ename": "NameError",
          "evalue": "name 'trace_pooled' is not defined",
          "output_type": "error",
          "traceback": [
            "\u001b[0;31m---------------------------------------------------------------------------\u001b[0m",
            "\u001b[0;31mNameError\u001b[0m                                 Traceback (most recent call last)",
            "Cell \u001b[0;32mIn[29], line 1\u001b[0m\n\u001b[0;32m----> 1\u001b[0m az\u001b[38;5;241m.\u001b[39mwaic(\u001b[43mtrace_pooled\u001b[49m)\n",
            "\u001b[0;31mNameError\u001b[0m: name 'trace_pooled' is not defined"
          ]
        }
      ],
      "source": [
        "az.waic(trace_pooled)"
      ]
    },
    {
      "cell_type": "markdown",
      "metadata": {
        "id": "Et4hpoA0Xn3K"
      },
      "source": [
        "There is an even more convenient method to evaluate the criterion on several models and rank them according to the WAIC criterion (from best to worst, ascending WAIC/descending elpd)"
      ]
    },
    {
      "cell_type": "code",
      "execution_count": null,
      "metadata": {
        "pycharm": {
          "name": "#%%\n"
        },
        "id": "r-GPxkIrXn3K"
      },
      "outputs": [],
      "source": [
        "#with factory_pooled, factory_separate, factory_hierarchical:\n",
        "comp_df = az.compare({\"model_pooled\": trace_pooled,\n",
        "                      \"model_unpooled\": trace_unpooled,\n",
        "                      \"model_hierarchical\": trace_hierarchical},\n",
        "                      ic=\"waic\") # ic stands for \"information criterion\"\n",
        "comp_df"
      ]
    },
    {
      "cell_type": "code",
      "execution_count": null,
      "metadata": {
        "pycharm": {
          "name": "#%%\n"
        },
        "id": "llbJlN5YXn3K"
      },
      "outputs": [],
      "source": [
        "az.plot_compare(comp_df);"
      ]
    },
    {
      "cell_type": "markdown",
      "metadata": {
        "id": "x8oucSnUXn3K"
      },
      "source": [
        "## Posterior predictions of new measurements"
      ]
    },
    {
      "cell_type": "markdown",
      "metadata": {
        "id": "ltRYYy4fXn3L"
      },
      "source": [
        "* Given the pooled model, make a prediction for a new measurement"
      ]
    },
    {
      "cell_type": "markdown",
      "metadata": {
        "id": "kuSh-fL2Xn3L"
      },
      "source": [
        "* Given the unpooled model, make a prediction for a new measurement of the machine M1"
      ]
    }
  ],
  "metadata": {
    "kernelspec": {
      "display_name": "pymc_env",
      "language": "python",
      "name": "python3"
    },
    "language_info": {
      "codemirror_mode": {
        "name": "ipython",
        "version": 3
      },
      "file_extension": ".py",
      "mimetype": "text/x-python",
      "name": "python",
      "nbconvert_exporter": "python",
      "pygments_lexer": "ipython3",
      "version": "3.12.6"
    },
    "colab": {
      "provenance": []
    }
  },
  "nbformat": 4,
  "nbformat_minor": 0
}