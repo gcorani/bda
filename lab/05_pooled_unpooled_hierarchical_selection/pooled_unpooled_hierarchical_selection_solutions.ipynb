{
 "cells": [
  {
   "cell_type": "code",
   "execution_count": 1,
   "metadata": {},
   "outputs": [
    {
     "name": "stderr",
     "output_type": "stream",
     "text": [
      "WARNING (pytensor.tensor.blas): Using NumPy C-API based implementation for BLAS functions.\n"
     ]
    }
   ],
   "source": [
    "# you might need this if you are on a mac\n",
    "import pytensor\n",
    "pytensor.config.cxx = \"/usr/bin/clang++\""
   ]
  },
  {
   "cell_type": "code",
   "execution_count": 2,
   "metadata": {
    "pycharm": {
     "name": "#%%\n"
    }
   },
   "outputs": [],
   "source": [
    "import numpy as np\n",
    "import scipy\n",
    "import scipy.stats as stats\n",
    "import matplotlib.pyplot as plt\n",
    "import seaborn as sns\n",
    "import pymc as pm\n",
    "import arviz as az\n",
    "import pandas as pd\n",
    "#import plotly.express as px"
   ]
  },
  {
   "cell_type": "code",
   "execution_count": 3,
   "metadata": {
    "pycharm": {
     "name": "#%%\n"
    }
   },
   "outputs": [],
   "source": [
    "sns.set()"
   ]
  },
  {
   "cell_type": "markdown",
   "metadata": {
    "pycharm": {
     "name": "#%% md\n"
    }
   },
   "source": [
    "## Factory data\n",
    "\n",
    "The following dataset contains quality control measurements from 6\n",
    "machines in a factory (range: 0-120, units of the measurements are irrelevant here). \n",
    "\n",
    "In the dataset, each column contains the measurements for a single machine. Quality control measurements are expensive and time-consuming, so only 5 measurements were done for each machine. \n",
    "\n",
    "In addition to the existing machines, we are interested in the quality of another machine (the seventh machine) which is not in the dataset."
   ]
  },
  {
   "cell_type": "code",
   "execution_count": 4,
   "metadata": {
    "pycharm": {
     "name": "#%%\n"
    }
   },
   "outputs": [
    {
     "data": {
      "text/html": [
       "<div>\n",
       "<style scoped>\n",
       "    .dataframe tbody tr th:only-of-type {\n",
       "        vertical-align: middle;\n",
       "    }\n",
       "\n",
       "    .dataframe tbody tr th {\n",
       "        vertical-align: top;\n",
       "    }\n",
       "\n",
       "    .dataframe thead th {\n",
       "        text-align: right;\n",
       "    }\n",
       "</style>\n",
       "<table border=\"1\" class=\"dataframe\">\n",
       "  <thead>\n",
       "    <tr style=\"text-align: right;\">\n",
       "      <th>machine</th>\n",
       "      <th>M0</th>\n",
       "      <th>M1</th>\n",
       "      <th>M2</th>\n",
       "      <th>M3</th>\n",
       "      <th>M4</th>\n",
       "      <th>M5</th>\n",
       "    </tr>\n",
       "    <tr>\n",
       "      <th>measurement</th>\n",
       "      <th></th>\n",
       "      <th></th>\n",
       "      <th></th>\n",
       "      <th></th>\n",
       "      <th></th>\n",
       "      <th></th>\n",
       "    </tr>\n",
       "  </thead>\n",
       "  <tbody>\n",
       "    <tr>\n",
       "      <th>0</th>\n",
       "      <td>83.0</td>\n",
       "      <td>117.0</td>\n",
       "      <td>101.0</td>\n",
       "      <td>105.0</td>\n",
       "      <td>79.0</td>\n",
       "      <td>57.0</td>\n",
       "    </tr>\n",
       "    <tr>\n",
       "      <th>1</th>\n",
       "      <td>92.0</td>\n",
       "      <td>109.0</td>\n",
       "      <td>93.0</td>\n",
       "      <td>119.0</td>\n",
       "      <td>97.0</td>\n",
       "      <td>92.0</td>\n",
       "    </tr>\n",
       "    <tr>\n",
       "      <th>2</th>\n",
       "      <td>92.0</td>\n",
       "      <td>114.0</td>\n",
       "      <td>92.0</td>\n",
       "      <td>116.0</td>\n",
       "      <td>103.0</td>\n",
       "      <td>104.0</td>\n",
       "    </tr>\n",
       "    <tr>\n",
       "      <th>3</th>\n",
       "      <td>46.0</td>\n",
       "      <td>104.0</td>\n",
       "      <td>86.0</td>\n",
       "      <td>102.0</td>\n",
       "      <td>79.0</td>\n",
       "      <td>77.0</td>\n",
       "    </tr>\n",
       "    <tr>\n",
       "      <th>4</th>\n",
       "      <td>67.0</td>\n",
       "      <td>87.0</td>\n",
       "      <td>67.0</td>\n",
       "      <td>116.0</td>\n",
       "      <td>92.0</td>\n",
       "      <td>100.0</td>\n",
       "    </tr>\n",
       "  </tbody>\n",
       "</table>\n",
       "</div>"
      ],
      "text/plain": [
       "machine        M0     M1     M2     M3     M4     M5\n",
       "measurement                                         \n",
       "0            83.0  117.0  101.0  105.0   79.0   57.0\n",
       "1            92.0  109.0   93.0  119.0   97.0   92.0\n",
       "2            92.0  114.0   92.0  116.0  103.0  104.0\n",
       "3            46.0  104.0   86.0  102.0   79.0   77.0\n",
       "4            67.0   87.0   67.0  116.0   92.0  100.0"
      ]
     },
     "execution_count": 4,
     "metadata": {},
     "output_type": "execute_result"
    }
   ],
   "source": [
    "df_wide = pd.read_csv(\"factory.csv\")\n",
    "df_wide.set_index(\"measurement\", inplace=True)\n",
    "df_wide.columns.name = \"machine\"\n",
    "df_wide"
   ]
  },
  {
   "cell_type": "markdown",
   "metadata": {},
   "source": [
    "* Transform the dataset to the long format: one row per machine per measurement"
   ]
  },
  {
   "cell_type": "markdown",
   "metadata": {
    "pycharm": {
     "name": "#%% md\n"
    }
   },
   "source": [
    "A \"long\" format is more convenient for the following analyises. Let us *melt* the dataframe!"
   ]
  },
  {
   "cell_type": "code",
   "execution_count": 5,
   "metadata": {
    "pycharm": {
     "name": "#%%\n"
    }
   },
   "outputs": [],
   "source": [
    "df = pd.melt(df_wide.reset_index(),\n",
    "             id_vars=[\"measurement\"],\n",
    "             value_vars=['M0', 'M1', 'M2', 'M3', 'M4', 'M5'],\n",
    "             value_name='quality')\n",
    "df[\"machine\"] = df[\"machine\"].astype(\"category\") # useful for group analysis (with pymc)"
   ]
  },
  {
   "cell_type": "code",
   "execution_count": 6,
   "metadata": {},
   "outputs": [
    {
     "data": {
      "text/html": [
       "<div>\n",
       "<style scoped>\n",
       "    .dataframe tbody tr th:only-of-type {\n",
       "        vertical-align: middle;\n",
       "    }\n",
       "\n",
       "    .dataframe tbody tr th {\n",
       "        vertical-align: top;\n",
       "    }\n",
       "\n",
       "    .dataframe thead th {\n",
       "        text-align: right;\n",
       "    }\n",
       "</style>\n",
       "<table border=\"1\" class=\"dataframe\">\n",
       "  <thead>\n",
       "    <tr style=\"text-align: right;\">\n",
       "      <th></th>\n",
       "      <th>measurement</th>\n",
       "      <th>machine</th>\n",
       "      <th>quality</th>\n",
       "    </tr>\n",
       "  </thead>\n",
       "  <tbody>\n",
       "    <tr>\n",
       "      <th>0</th>\n",
       "      <td>0</td>\n",
       "      <td>M0</td>\n",
       "      <td>83.0</td>\n",
       "    </tr>\n",
       "    <tr>\n",
       "      <th>1</th>\n",
       "      <td>1</td>\n",
       "      <td>M0</td>\n",
       "      <td>92.0</td>\n",
       "    </tr>\n",
       "    <tr>\n",
       "      <th>2</th>\n",
       "      <td>2</td>\n",
       "      <td>M0</td>\n",
       "      <td>92.0</td>\n",
       "    </tr>\n",
       "    <tr>\n",
       "      <th>3</th>\n",
       "      <td>3</td>\n",
       "      <td>M0</td>\n",
       "      <td>46.0</td>\n",
       "    </tr>\n",
       "    <tr>\n",
       "      <th>4</th>\n",
       "      <td>4</td>\n",
       "      <td>M0</td>\n",
       "      <td>67.0</td>\n",
       "    </tr>\n",
       "    <tr>\n",
       "      <th>5</th>\n",
       "      <td>0</td>\n",
       "      <td>M1</td>\n",
       "      <td>117.0</td>\n",
       "    </tr>\n",
       "  </tbody>\n",
       "</table>\n",
       "</div>"
      ],
      "text/plain": [
       "   measurement machine  quality\n",
       "0            0      M0     83.0\n",
       "1            1      M0     92.0\n",
       "2            2      M0     92.0\n",
       "3            3      M0     46.0\n",
       "4            4      M0     67.0\n",
       "5            0      M1    117.0"
      ]
     },
     "execution_count": 6,
     "metadata": {},
     "output_type": "execute_result"
    }
   ],
   "source": [
    "df.head(6)"
   ]
  },
  {
   "cell_type": "markdown",
   "metadata": {},
   "source": [
    "Note: the category column has the useful properies `cat.categories` (all the possible values of the categorical variable) and `cat.codes` (an equivalent integer representation of the variable)"
   ]
  },
  {
   "cell_type": "code",
   "execution_count": 7,
   "metadata": {},
   "outputs": [
    {
     "data": {
      "text/plain": [
       "Index(['M0', 'M1', 'M2', 'M3', 'M4', 'M5'], dtype='object')"
      ]
     },
     "execution_count": 7,
     "metadata": {},
     "output_type": "execute_result"
    }
   ],
   "source": [
    "df[\"machine\"].cat.categories"
   ]
  },
  {
   "cell_type": "code",
   "execution_count": 8,
   "metadata": {},
   "outputs": [
    {
     "data": {
      "text/plain": [
       "0    0\n",
       "1    0\n",
       "2    0\n",
       "3    0\n",
       "4    0\n",
       "5    1\n",
       "dtype: int8"
      ]
     },
     "execution_count": 8,
     "metadata": {},
     "output_type": "execute_result"
    }
   ],
   "source": [
    "df[\"machine\"].cat.codes.head(6)"
   ]
  },
  {
   "cell_type": "markdown",
   "metadata": {
    "pycharm": {
     "name": "#%% md\n"
    }
   },
   "source": [
    "## Some traditional data analysis (data-challenge style)"
   ]
  },
  {
   "cell_type": "markdown",
   "metadata": {
    "pycharm": {
     "name": "#%% md\n"
    }
   },
   "source": [
    "* Obtain the global mean and standard deviation of the quality measurement (pooled mean/standard deviation)"
   ]
  },
  {
   "cell_type": "code",
   "execution_count": 9,
   "metadata": {
    "pycharm": {
     "name": "#%%\n"
    }
   },
   "outputs": [
    {
     "data": {
      "text/plain": [
       "(92.93333333333334, 18.001787906096773)"
      ]
     },
     "execution_count": 9,
     "metadata": {},
     "output_type": "execute_result"
    }
   ],
   "source": [
    "df[\"quality\"].mean(), df[\"quality\"].std()"
   ]
  },
  {
   "cell_type": "markdown",
   "metadata": {
    "pycharm": {
     "name": "#%% md\n"
    }
   },
   "source": [
    "* Plot a histogram and a boxplot of the quality measurement"
   ]
  },
  {
   "cell_type": "code",
   "execution_count": 10,
   "metadata": {
    "pycharm": {
     "name": "#%%\n"
    }
   },
   "outputs": [
    {
     "data": {
      "image/png": "[encoded data removed]",
      "text/plain": [
       "<Figure size 640x480 with 1 Axes>"
      ]
     },
     "metadata": {},
     "output_type": "display_data"
    }
   ],
   "source": [
    "sns.histplot(df[\"quality\"]);\n",
    "#px.histogram(df[\"quality\"]);"
   ]
  },
  {
   "cell_type": "code",
   "execution_count": 11,
   "metadata": {},
   "outputs": [
    {
     "data": {
      "image/png": "[encoded data removed]",
      "text/plain": [
       "<Figure size 640x480 with 1 Axes>"
      ]
     },
     "metadata": {},
     "output_type": "display_data"
    }
   ],
   "source": [
    "sns.boxplot(df[\"quality\"]);"
   ]
  },
  {
   "cell_type": "markdown",
   "metadata": {
    "pycharm": {
     "name": "#%% md\n"
    }
   },
   "source": [
    "* Obtain the mean and standard deviation of quality measurement, for the different machines (unpooled mean/standard deviation)"
   ]
  },
  {
   "cell_type": "code",
   "execution_count": 12,
   "metadata": {
    "pycharm": {
     "name": "#%%\n"
    }
   },
   "outputs": [
    {
     "name": "stderr",
     "output_type": "stream",
     "text": [
      "/var/folders/w7/h67z1rn941j1p0m51k08d9xc0000gp/T/ipykernel_74094/4058271444.py:1: FutureWarning: The default of observed=False is deprecated and will be changed to True in a future version of pandas. Pass observed=False to retain current behavior or observed=True to adopt the future default and silence this warning.\n",
      "  df.groupby(\"machine\")[[\"quality\"]].agg([\"mean\", \"std\"])\n"
     ]
    },
    {
     "data": {
      "text/html": [
       "<div>\n",
       "<style scoped>\n",
       "    .dataframe tbody tr th:only-of-type {\n",
       "        vertical-align: middle;\n",
       "    }\n",
       "\n",
       "    .dataframe tbody tr th {\n",
       "        vertical-align: top;\n",
       "    }\n",
       "\n",
       "    .dataframe thead tr th {\n",
       "        text-align: left;\n",
       "    }\n",
       "\n",
       "    .dataframe thead tr:last-of-type th {\n",
       "        text-align: right;\n",
       "    }\n",
       "</style>\n",
       "<table border=\"1\" class=\"dataframe\">\n",
       "  <thead>\n",
       "    <tr>\n",
       "      <th></th>\n",
       "      <th colspan=\"2\" halign=\"left\">quality</th>\n",
       "    </tr>\n",
       "    <tr>\n",
       "      <th></th>\n",
       "      <th>mean</th>\n",
       "      <th>std</th>\n",
       "    </tr>\n",
       "    <tr>\n",
       "      <th>machine</th>\n",
       "      <th></th>\n",
       "      <th></th>\n",
       "    </tr>\n",
       "  </thead>\n",
       "  <tbody>\n",
       "    <tr>\n",
       "      <th>M0</th>\n",
       "      <td>76.0</td>\n",
       "      <td>19.634154</td>\n",
       "    </tr>\n",
       "    <tr>\n",
       "      <th>M1</th>\n",
       "      <td>106.2</td>\n",
       "      <td>11.819475</td>\n",
       "    </tr>\n",
       "    <tr>\n",
       "      <th>M2</th>\n",
       "      <td>87.8</td>\n",
       "      <td>12.794530</td>\n",
       "    </tr>\n",
       "    <tr>\n",
       "      <th>M3</th>\n",
       "      <td>111.6</td>\n",
       "      <td>7.569676</td>\n",
       "    </tr>\n",
       "    <tr>\n",
       "      <th>M4</th>\n",
       "      <td>90.0</td>\n",
       "      <td>10.770330</td>\n",
       "    </tr>\n",
       "    <tr>\n",
       "      <th>M5</th>\n",
       "      <td>86.0</td>\n",
       "      <td>19.222383</td>\n",
       "    </tr>\n",
       "  </tbody>\n",
       "</table>\n",
       "</div>"
      ],
      "text/plain": [
       "        quality           \n",
       "           mean        std\n",
       "machine                   \n",
       "M0         76.0  19.634154\n",
       "M1        106.2  11.819475\n",
       "M2         87.8  12.794530\n",
       "M3        111.6   7.569676\n",
       "M4         90.0  10.770330\n",
       "M5         86.0  19.222383"
      ]
     },
     "execution_count": 12,
     "metadata": {},
     "output_type": "execute_result"
    }
   ],
   "source": [
    "df.groupby(\"machine\")[[\"quality\"]].agg([\"mean\", \"std\"])"
   ]
  },
  {
   "cell_type": "markdown",
   "metadata": {
    "pycharm": {
     "name": "#%% md\n"
    }
   },
   "source": [
    "* Draw boxplots of quality for the different factories"
   ]
  },
  {
   "cell_type": "code",
   "execution_count": 13,
   "metadata": {
    "pycharm": {
     "name": "#%%\n"
    }
   },
   "outputs": [
    {
     "data": {
      "image/png": "[encoded data removed]",
      "text/plain": [
       "<Figure size 640x480 with 1 Axes>"
      ]
     },
     "metadata": {},
     "output_type": "display_data"
    }
   ],
   "source": [
    "sns.boxplot(data=df, x=\"quality\", y=\"machine\");\n",
    "#px.box(df, x=\"quality\", y=\"machine\")"
   ]
  },
  {
   "cell_type": "markdown",
   "metadata": {
    "pycharm": {
     "name": "#%% md\n"
    }
   },
   "source": [
    "Even from a classical analysis, there seems to be evidence that different machines have different quality."
   ]
  },
  {
   "cell_type": "markdown",
   "metadata": {
    "pycharm": {
     "name": "#%% md\n"
    }
   },
   "source": [
    "## Pooled Bayesian Model\n",
    "\n",
    "Consider the following *pooled* Bayesian model:\n",
    "\\begin{align*}\n",
    "\\mu &\\sim N(90, 10) \\\\\n",
    "\\sigma &\\sim \\text{HalfNormal}(36) \\\\\n",
    "\\vec{y}_{ij} &\\sim N(\\mu, \\sigma) \\\\\n",
    "\\end{align*}\n"
   ]
  },
  {
   "cell_type": "markdown",
   "metadata": {},
   "source": [
    "* Discuss the pooled model and its underlying hypotheses "
   ]
  },
  {
   "cell_type": "markdown",
   "metadata": {},
   "source": [
    "The model does not make distinction between different machines. It is a single normal-normal model for measurements from all the different machines; it assumes the measurement to share *global* mean and standard deviation $\\mu$ and $\\sigma$, respectively. \n",
    "\n",
    "It could have been constructed assuming that: \n",
    "1. The (global) mean quality $\\mu$ is between $90-3*10=60$ and $90+3*10=120$ with probability 99%\n",
    "2. All quality measurements $\\vec{y}_{ij}$ are in a range of width $25*6=150$ with probability 99%\n"
   ]
  },
  {
   "cell_type": "code",
   "execution_count": 14,
   "metadata": {
    "pycharm": {
     "name": "#%%\n"
    }
   },
   "outputs": [
    {
     "data": {
      "text/plain": [
       "0    23.60533\n",
       "dtype: float64"
      ]
     },
     "execution_count": 14,
     "metadata": {},
     "output_type": "execute_result"
    }
   ],
   "source": [
    "pd.DataFrame(stats.halfnorm.rvs(size=10_000, scale=36)).median()"
   ]
  },
  {
   "cell_type": "markdown",
   "metadata": {},
   "source": [
    "* Implement the pooled model in pymc"
   ]
  },
  {
   "cell_type": "code",
   "execution_count": 15,
   "metadata": {
    "pycharm": {
     "name": "#%%\n"
    }
   },
   "outputs": [
    {
     "name": "stderr",
     "output_type": "stream",
     "text": [
      "Auto-assigning NUTS sampler...\n",
      "Initializing NUTS using jitter+adapt_diag...\n",
      "Multiprocess sampling (4 chains in 4 jobs)\n",
      "NUTS: [global_mu, global_sigma]\n"
     ]
    },
    {
     "data": {
      "application/vnd.jupyter.widget-view+json": {
       "model_id": "31eb2721013f4d5f8941ded1c4d4fe63",
       "version_major": 2,
       "version_minor": 0
      },
      "text/plain": [
       "Output()"
      ]
     },
     "metadata": {},
     "output_type": "display_data"
    },
    {
     "data": {
      "text/html": [
       "<pre style=\"white-space:pre;overflow-x:auto;line-height:normal;font-family:Menlo,'DejaVu Sans Mono',consolas,'Courier New',monospace\"></pre>\n"
      ],
      "text/plain": []
     },
     "metadata": {},
     "output_type": "display_data"
    },
    {
     "name": "stderr",
     "output_type": "stream",
     "text": [
      "Sampling 4 chains for 1_000 tune and 10_000 draw iterations (4_000 + 40_000 draws total) took 2 seconds.\n"
     ]
    }
   ],
   "source": [
    "with pm.Model() as model_pooled:\n",
    "    global_mu = pm.Normal('global_mu', mu=90, sigma=15)\n",
    "    global_sigma = pm.HalfNormal('global_sigma', sigma=30)\n",
    "    y = pm.Normal('y', mu=global_mu, sigma=global_sigma, observed=df[\"quality\"])\n",
    "    trace_pooled = pm.sample(10_000, idata_kwargs = {'log_likelihood': True})"
   ]
  },
  {
   "cell_type": "code",
   "execution_count": 16,
   "metadata": {},
   "outputs": [],
   "source": [
    "#pm.model_to_graphviz(model_pooled)"
   ]
  },
  {
   "cell_type": "code",
   "execution_count": 17,
   "metadata": {
    "pycharm": {
     "name": "#%%\n"
    }
   },
   "outputs": [
    {
     "data": {
      "text/html": [
       "<div>\n",
       "<style scoped>\n",
       "    .dataframe tbody tr th:only-of-type {\n",
       "        vertical-align: middle;\n",
       "    }\n",
       "\n",
       "    .dataframe tbody tr th {\n",
       "        vertical-align: top;\n",
       "    }\n",
       "\n",
       "    .dataframe thead th {\n",
       "        text-align: right;\n",
       "    }\n",
       "</style>\n",
       "<table border=\"1\" class=\"dataframe\">\n",
       "  <thead>\n",
       "    <tr style=\"text-align: right;\">\n",
       "      <th></th>\n",
       "      <th>mean</th>\n",
       "      <th>sd</th>\n",
       "      <th>hdi_3%</th>\n",
       "      <th>hdi_97%</th>\n",
       "      <th>mcse_mean</th>\n",
       "      <th>mcse_sd</th>\n",
       "      <th>ess_bulk</th>\n",
       "      <th>ess_tail</th>\n",
       "      <th>r_hat</th>\n",
       "    </tr>\n",
       "  </thead>\n",
       "  <tbody>\n",
       "    <tr>\n",
       "      <th>global_mu</th>\n",
       "      <td>92.772</td>\n",
       "      <td>3.344</td>\n",
       "      <td>86.371</td>\n",
       "      <td>99.029</td>\n",
       "      <td>0.018</td>\n",
       "      <td>0.013</td>\n",
       "      <td>35570.0</td>\n",
       "      <td>25637.0</td>\n",
       "      <td>1.0</td>\n",
       "    </tr>\n",
       "    <tr>\n",
       "      <th>global_sigma</th>\n",
       "      <td>18.672</td>\n",
       "      <td>2.535</td>\n",
       "      <td>14.307</td>\n",
       "      <td>23.588</td>\n",
       "      <td>0.013</td>\n",
       "      <td>0.010</td>\n",
       "      <td>37464.0</td>\n",
       "      <td>27908.0</td>\n",
       "      <td>1.0</td>\n",
       "    </tr>\n",
       "  </tbody>\n",
       "</table>\n",
       "</div>"
      ],
      "text/plain": [
       "                mean     sd  hdi_3%  hdi_97%  mcse_mean  mcse_sd  ess_bulk  \\\n",
       "global_mu     92.772  3.344  86.371   99.029      0.018    0.013   35570.0   \n",
       "global_sigma  18.672  2.535  14.307   23.588      0.013    0.010   37464.0   \n",
       "\n",
       "              ess_tail  r_hat  \n",
       "global_mu      25637.0    1.0  \n",
       "global_sigma   27908.0    1.0  "
      ]
     },
     "metadata": {},
     "output_type": "display_data"
    }
   ],
   "source": [
    "with model_pooled:\n",
    "    display(az.summary(trace_pooled))"
   ]
  },
  {
   "cell_type": "code",
   "execution_count": 18,
   "metadata": {
    "pycharm": {
     "name": "#%%\n"
    }
   },
   "outputs": [
    {
     "data": {
      "image/png": "[encoded data removed]",
      "text/plain": [
       "<Figure size 1472x552 with 2 Axes>"
      ]
     },
     "metadata": {},
     "output_type": "display_data"
    }
   ],
   "source": [
    "with model_pooled:\n",
    "    az.plot_posterior(trace_pooled);"
   ]
  },
  {
   "cell_type": "markdown",
   "metadata": {
    "pycharm": {
     "name": "#%% md\n"
    }
   },
   "source": [
    "## Unpooled Bayesian Model\n",
    "\n",
    "Consider the following Bayesian unpooled model\n",
    "\\begin{align*}\n",
    "\\mu_{j} &\\sim {N}(90, 20) \\\\\n",
    "\\sigma_{j} &\\sim \\text{HalfNormal}(23) \\\\\n",
    "\\vec{y}_{ij} &\\sim {N}(\\mu_j, \\sigma_j) \\\\\n",
    "\\end{align*}"
   ]
  },
  {
   "cell_type": "markdown",
   "metadata": {},
   "source": [
    "* Discuss the unpooled model and its underlying hypotheses "
   ]
  },
  {
   "cell_type": "markdown",
   "metadata": {},
   "source": [
    "The unpooled model actually consists in 6 completely separate normal-normal sub-models for the 6 different machines. \n",
    "It could have build according to the hipotheses that: \n",
    "1. The mean quality of each machine is between $90-3*20=30$ and $90+3*20=150$ with probability 99%\n",
    "2. The quality measurements of each machine are in a range of width $15*6=90$ with probability 99%"
   ]
  },
  {
   "cell_type": "code",
   "execution_count": 19,
   "metadata": {},
   "outputs": [
    {
     "data": {
      "text/plain": [
       "0    15.460102\n",
       "dtype: float64"
      ]
     },
     "execution_count": 19,
     "metadata": {},
     "output_type": "execute_result"
    }
   ],
   "source": [
    "pd.DataFrame(stats.halfnorm.rvs(size=10_000, scale=23)).median()"
   ]
  },
  {
   "cell_type": "markdown",
   "metadata": {},
   "source": [
    "* Implement the unpooled model in pymc"
   ]
  },
  {
   "cell_type": "code",
   "execution_count": 20,
   "metadata": {
    "pycharm": {
     "name": "#%%\n"
    }
   },
   "outputs": [
    {
     "data": {
      "text/plain": [
       "(['M0', 'M1', 'M2', 'M3', 'M4', 'M5'], 6)"
      ]
     },
     "execution_count": 20,
     "metadata": {},
     "output_type": "execute_result"
    }
   ],
   "source": [
    "#df[\"machine_id\"] = df[\"machine\"].cat.codes\n",
    "machines = list(df[\"machine\"].cat.categories)\n",
    "n_machines = len(machines) # number of machines (6)\n",
    "machines, n_machines"
   ]
  },
  {
   "cell_type": "code",
   "execution_count": 21,
   "metadata": {
    "pycharm": {
     "name": "#%%\n"
    }
   },
   "outputs": [
    {
     "name": "stderr",
     "output_type": "stream",
     "text": [
      "Auto-assigning NUTS sampler...\n",
      "Initializing NUTS using jitter+adapt_diag...\n",
      "Multiprocess sampling (4 chains in 4 jobs)\n",
      "NUTS: [group_mu, group_sigma]\n"
     ]
    },
    {
     "data": {
      "application/vnd.jupyter.widget-view+json": {
       "model_id": "570f0f8e633b427e8afc6a0bc25a9268",
       "version_major": 2,
       "version_minor": 0
      },
      "text/plain": [
       "Output()"
      ]
     },
     "metadata": {},
     "output_type": "display_data"
    },
    {
     "data": {
      "text/html": [
       "<pre style=\"white-space:pre;overflow-x:auto;line-height:normal;font-family:Menlo,'DejaVu Sans Mono',consolas,'Courier New',monospace\"></pre>\n"
      ],
      "text/plain": []
     },
     "metadata": {},
     "output_type": "display_data"
    },
    {
     "name": "stderr",
     "output_type": "stream",
     "text": [
      "Sampling 4 chains for 1_000 tune and 10_000 draw iterations (4_000 + 40_000 draws total) took 5 seconds.\n"
     ]
    }
   ],
   "source": [
    "with pm.Model() as model_unpooled:\n",
    "    group_mu = pm.Normal('group_mu', mu=90, sigma=20, shape=n_machines)\n",
    "    group_sigma = pm.HalfNormal('group_sigma', sigma=23, shape=n_machines)\n",
    "    #y = pm.Normal('y', mu=group_mu[df[\"machine_id\"]], sd=group_sigma[df[\"machine_id\"]], observed=df[\"quality\"])\n",
    "    y = pm.Normal('y', mu=group_mu[df[\"machine\"].cat.codes],\n",
    "                       sigma=group_sigma[df[\"machine\"].cat.codes],\n",
    "                       observed=df[\"quality\"])\n",
    "    trace_unpooled = pm.sample(10_000, idata_kwargs = {'log_likelihood': True})\n"
   ]
  },
  {
   "cell_type": "code",
   "execution_count": 22,
   "metadata": {
    "pycharm": {
     "name": "#%%\n"
    }
   },
   "outputs": [],
   "source": [
    "#pm.model_to_graphviz(model_unpooled)"
   ]
  },
  {
   "cell_type": "code",
   "execution_count": 23,
   "metadata": {},
   "outputs": [],
   "source": [
    "trace_unpooled.posterior = trace_unpooled.posterior.assign_coords(group_mu_dim_0=machines,\n",
    "                                                                  group_sigma_dim_0=machines)"
   ]
  },
  {
   "cell_type": "code",
   "execution_count": 24,
   "metadata": {},
   "outputs": [
    {
     "data": {
      "text/html": [
       "<div>\n",
       "<style scoped>\n",
       "    .dataframe tbody tr th:only-of-type {\n",
       "        vertical-align: middle;\n",
       "    }\n",
       "\n",
       "    .dataframe tbody tr th {\n",
       "        vertical-align: top;\n",
       "    }\n",
       "\n",
       "    .dataframe thead th {\n",
       "        text-align: right;\n",
       "    }\n",
       "</style>\n",
       "<table border=\"1\" class=\"dataframe\">\n",
       "  <thead>\n",
       "    <tr style=\"text-align: right;\">\n",
       "      <th></th>\n",
       "      <th>mean</th>\n",
       "      <th>sd</th>\n",
       "      <th>hdi_3%</th>\n",
       "      <th>hdi_97%</th>\n",
       "      <th>mcse_mean</th>\n",
       "      <th>mcse_sd</th>\n",
       "      <th>ess_bulk</th>\n",
       "      <th>ess_tail</th>\n",
       "      <th>r_hat</th>\n",
       "    </tr>\n",
       "  </thead>\n",
       "  <tbody>\n",
       "    <tr>\n",
       "      <th>group_mu[M0]</th>\n",
       "      <td>78.762</td>\n",
       "      <td>8.976</td>\n",
       "      <td>61.053</td>\n",
       "      <td>95.088</td>\n",
       "      <td>0.043</td>\n",
       "      <td>0.031</td>\n",
       "      <td>46701.0</td>\n",
       "      <td>24428.0</td>\n",
       "      <td>1.0</td>\n",
       "    </tr>\n",
       "    <tr>\n",
       "      <th>group_mu[M1]</th>\n",
       "      <td>104.383</td>\n",
       "      <td>6.833</td>\n",
       "      <td>90.849</td>\n",
       "      <td>117.000</td>\n",
       "      <td>0.035</td>\n",
       "      <td>0.025</td>\n",
       "      <td>42381.0</td>\n",
       "      <td>24000.0</td>\n",
       "      <td>1.0</td>\n",
       "    </tr>\n",
       "    <tr>\n",
       "      <th>group_mu[M2]</th>\n",
       "      <td>87.992</td>\n",
       "      <td>7.025</td>\n",
       "      <td>74.960</td>\n",
       "      <td>101.933</td>\n",
       "      <td>0.038</td>\n",
       "      <td>0.027</td>\n",
       "      <td>37379.0</td>\n",
       "      <td>23781.0</td>\n",
       "      <td>1.0</td>\n",
       "    </tr>\n",
       "    <tr>\n",
       "      <th>group_mu[M3]</th>\n",
       "      <td>110.240</td>\n",
       "      <td>5.100</td>\n",
       "      <td>100.451</td>\n",
       "      <td>119.628</td>\n",
       "      <td>0.034</td>\n",
       "      <td>0.024</td>\n",
       "      <td>30910.0</td>\n",
       "      <td>17941.0</td>\n",
       "      <td>1.0</td>\n",
       "    </tr>\n",
       "    <tr>\n",
       "      <th>group_mu[M4]</th>\n",
       "      <td>89.984</td>\n",
       "      <td>6.247</td>\n",
       "      <td>77.841</td>\n",
       "      <td>101.757</td>\n",
       "      <td>0.031</td>\n",
       "      <td>0.022</td>\n",
       "      <td>43185.0</td>\n",
       "      <td>24987.0</td>\n",
       "      <td>1.0</td>\n",
       "    </tr>\n",
       "    <tr>\n",
       "      <th>group_mu[M5]</th>\n",
       "      <td>86.765</td>\n",
       "      <td>8.797</td>\n",
       "      <td>70.175</td>\n",
       "      <td>103.898</td>\n",
       "      <td>0.044</td>\n",
       "      <td>0.032</td>\n",
       "      <td>41060.0</td>\n",
       "      <td>26739.0</td>\n",
       "      <td>1.0</td>\n",
       "    </tr>\n",
       "    <tr>\n",
       "      <th>group_sigma[M0]</th>\n",
       "      <td>22.141</td>\n",
       "      <td>7.358</td>\n",
       "      <td>11.084</td>\n",
       "      <td>36.161</td>\n",
       "      <td>0.037</td>\n",
       "      <td>0.028</td>\n",
       "      <td>46462.0</td>\n",
       "      <td>30598.0</td>\n",
       "      <td>1.0</td>\n",
       "    </tr>\n",
       "    <tr>\n",
       "      <th>group_sigma[M1]</th>\n",
       "      <td>15.233</td>\n",
       "      <td>6.201</td>\n",
       "      <td>6.430</td>\n",
       "      <td>26.659</td>\n",
       "      <td>0.035</td>\n",
       "      <td>0.026</td>\n",
       "      <td>40604.0</td>\n",
       "      <td>27610.0</td>\n",
       "      <td>1.0</td>\n",
       "    </tr>\n",
       "    <tr>\n",
       "      <th>group_sigma[M2]</th>\n",
       "      <td>16.029</td>\n",
       "      <td>6.240</td>\n",
       "      <td>7.079</td>\n",
       "      <td>27.685</td>\n",
       "      <td>0.034</td>\n",
       "      <td>0.026</td>\n",
       "      <td>42341.0</td>\n",
       "      <td>27994.0</td>\n",
       "      <td>1.0</td>\n",
       "    </tr>\n",
       "    <tr>\n",
       "      <th>group_sigma[M3]</th>\n",
       "      <td>10.630</td>\n",
       "      <td>5.016</td>\n",
       "      <td>4.051</td>\n",
       "      <td>19.605</td>\n",
       "      <td>0.032</td>\n",
       "      <td>0.025</td>\n",
       "      <td>34311.0</td>\n",
       "      <td>23726.0</td>\n",
       "      <td>1.0</td>\n",
       "    </tr>\n",
       "    <tr>\n",
       "      <th>group_sigma[M4]</th>\n",
       "      <td>13.981</td>\n",
       "      <td>5.827</td>\n",
       "      <td>5.737</td>\n",
       "      <td>24.677</td>\n",
       "      <td>0.033</td>\n",
       "      <td>0.024</td>\n",
       "      <td>39643.0</td>\n",
       "      <td>27512.0</td>\n",
       "      <td>1.0</td>\n",
       "    </tr>\n",
       "    <tr>\n",
       "      <th>group_sigma[M5]</th>\n",
       "      <td>21.786</td>\n",
       "      <td>7.381</td>\n",
       "      <td>10.175</td>\n",
       "      <td>35.265</td>\n",
       "      <td>0.037</td>\n",
       "      <td>0.028</td>\n",
       "      <td>48330.0</td>\n",
       "      <td>30837.0</td>\n",
       "      <td>1.0</td>\n",
       "    </tr>\n",
       "  </tbody>\n",
       "</table>\n",
       "</div>"
      ],
      "text/plain": [
       "                    mean     sd   hdi_3%  hdi_97%  mcse_mean  mcse_sd  \\\n",
       "group_mu[M0]      78.762  8.976   61.053   95.088      0.043    0.031   \n",
       "group_mu[M1]     104.383  6.833   90.849  117.000      0.035    0.025   \n",
       "group_mu[M2]      87.992  7.025   74.960  101.933      0.038    0.027   \n",
       "group_mu[M3]     110.240  5.100  100.451  119.628      0.034    0.024   \n",
       "group_mu[M4]      89.984  6.247   77.841  101.757      0.031    0.022   \n",
       "group_mu[M5]      86.765  8.797   70.175  103.898      0.044    0.032   \n",
       "group_sigma[M0]   22.141  7.358   11.084   36.161      0.037    0.028   \n",
       "group_sigma[M1]   15.233  6.201    6.430   26.659      0.035    0.026   \n",
       "group_sigma[M2]   16.029  6.240    7.079   27.685      0.034    0.026   \n",
       "group_sigma[M3]   10.630  5.016    4.051   19.605      0.032    0.025   \n",
       "group_sigma[M4]   13.981  5.827    5.737   24.677      0.033    0.024   \n",
       "group_sigma[M5]   21.786  7.381   10.175   35.265      0.037    0.028   \n",
       "\n",
       "                 ess_bulk  ess_tail  r_hat  \n",
       "group_mu[M0]      46701.0   24428.0    1.0  \n",
       "group_mu[M1]      42381.0   24000.0    1.0  \n",
       "group_mu[M2]      37379.0   23781.0    1.0  \n",
       "group_mu[M3]      30910.0   17941.0    1.0  \n",
       "group_mu[M4]      43185.0   24987.0    1.0  \n",
       "group_mu[M5]      41060.0   26739.0    1.0  \n",
       "group_sigma[M0]   46462.0   30598.0    1.0  \n",
       "group_sigma[M1]   40604.0   27610.0    1.0  \n",
       "group_sigma[M2]   42341.0   27994.0    1.0  \n",
       "group_sigma[M3]   34311.0   23726.0    1.0  \n",
       "group_sigma[M4]   39643.0   27512.0    1.0  \n",
       "group_sigma[M5]   48330.0   30837.0    1.0  "
      ]
     },
     "metadata": {},
     "output_type": "display_data"
    }
   ],
   "source": [
    "with model_unpooled:\n",
    "    display(az.summary(trace_unpooled))"
   ]
  },
  {
   "cell_type": "code",
   "execution_count": 25,
   "metadata": {
    "pycharm": {
     "name": "#%%\n"
    }
   },
   "outputs": [
    {
     "data": {
      "image/png": "[encoded data removed]",
      "text/plain": [
       "<Figure size 1200x552 with 1 Axes>"
      ]
     },
     "metadata": {},
     "output_type": "display_data"
    }
   ],
   "source": [
    "with model_unpooled:\n",
    "    axes = az.plot_forest (trace_unpooled,  kind='ridgeplot', hdi_prob=0.95, var_names=\"group_mu\", combined=True);\n",
    "    plt.title(\"Posterior mean for the 6 machines\")\n",
    "    #axes[0].set_yticklabels(machines[::-1])\n",
    "    "
   ]
  },
  {
   "cell_type": "code",
   "execution_count": 26,
   "metadata": {
    "pycharm": {
     "name": "#%%\n"
    }
   },
   "outputs": [
    {
     "data": {
      "image/png": "[encoded data removed]",
      "text/plain": [
       "<Figure size 1200x552 with 1 Axes>"
      ]
     },
     "metadata": {},
     "output_type": "display_data"
    }
   ],
   "source": [
    "with model_unpooled:\n",
    "    axes = az.plot_forest (trace_unpooled,  kind='ridgeplot', hdi_prob=0.95, var_names=\"group_sigma\", combined=True);\n",
    "    plt.title(\"Posterior standard deviation for the 6 machines\")\n",
    "    #axes[0].set_yticklabels(machines[::-1])"
   ]
  },
  {
   "cell_type": "markdown",
   "metadata": {
    "pycharm": {
     "name": "#%% md\n"
    }
   },
   "source": [
    "* Compare the sample unpooled standard deviation with the Bayesian estimate. What do you observe?"
   ]
  },
  {
   "cell_type": "markdown",
   "metadata": {
    "pycharm": {
     "name": "#%% md\n"
    }
   },
   "source": [
    "We already computed the sample standard deviations before:"
   ]
  },
  {
   "cell_type": "code",
   "execution_count": 27,
   "metadata": {
    "pycharm": {
     "name": "#%%\n"
    }
   },
   "outputs": [
    {
     "name": "stderr",
     "output_type": "stream",
     "text": [
      "/var/folders/w7/h67z1rn941j1p0m51k08d9xc0000gp/T/ipykernel_74094/4058271444.py:1: FutureWarning: The default of observed=False is deprecated and will be changed to True in a future version of pandas. Pass observed=False to retain current behavior or observed=True to adopt the future default and silence this warning.\n",
      "  df.groupby(\"machine\")[[\"quality\"]].agg([\"mean\", \"std\"])\n"
     ]
    },
    {
     "data": {
      "text/html": [
       "<div>\n",
       "<style scoped>\n",
       "    .dataframe tbody tr th:only-of-type {\n",
       "        vertical-align: middle;\n",
       "    }\n",
       "\n",
       "    .dataframe tbody tr th {\n",
       "        vertical-align: top;\n",
       "    }\n",
       "\n",
       "    .dataframe thead tr th {\n",
       "        text-align: left;\n",
       "    }\n",
       "\n",
       "    .dataframe thead tr:last-of-type th {\n",
       "        text-align: right;\n",
       "    }\n",
       "</style>\n",
       "<table border=\"1\" class=\"dataframe\">\n",
       "  <thead>\n",
       "    <tr>\n",
       "      <th></th>\n",
       "      <th colspan=\"2\" halign=\"left\">quality</th>\n",
       "    </tr>\n",
       "    <tr>\n",
       "      <th></th>\n",
       "      <th>mean</th>\n",
       "      <th>std</th>\n",
       "    </tr>\n",
       "    <tr>\n",
       "      <th>machine</th>\n",
       "      <th></th>\n",
       "      <th></th>\n",
       "    </tr>\n",
       "  </thead>\n",
       "  <tbody>\n",
       "    <tr>\n",
       "      <th>M0</th>\n",
       "      <td>76.0</td>\n",
       "      <td>19.634154</td>\n",
       "    </tr>\n",
       "    <tr>\n",
       "      <th>M1</th>\n",
       "      <td>106.2</td>\n",
       "      <td>11.819475</td>\n",
       "    </tr>\n",
       "    <tr>\n",
       "      <th>M2</th>\n",
       "      <td>87.8</td>\n",
       "      <td>12.794530</td>\n",
       "    </tr>\n",
       "    <tr>\n",
       "      <th>M3</th>\n",
       "      <td>111.6</td>\n",
       "      <td>7.569676</td>\n",
       "    </tr>\n",
       "    <tr>\n",
       "      <th>M4</th>\n",
       "      <td>90.0</td>\n",
       "      <td>10.770330</td>\n",
       "    </tr>\n",
       "    <tr>\n",
       "      <th>M5</th>\n",
       "      <td>86.0</td>\n",
       "      <td>19.222383</td>\n",
       "    </tr>\n",
       "  </tbody>\n",
       "</table>\n",
       "</div>"
      ],
      "text/plain": [
       "        quality           \n",
       "           mean        std\n",
       "machine                   \n",
       "M0         76.0  19.634154\n",
       "M1        106.2  11.819475\n",
       "M2         87.8  12.794530\n",
       "M3        111.6   7.569676\n",
       "M4         90.0  10.770330\n",
       "M5         86.0  19.222383"
      ]
     },
     "execution_count": 27,
     "metadata": {},
     "output_type": "execute_result"
    }
   ],
   "source": [
    "df.groupby(\"machine\")[[\"quality\"]].agg([\"mean\", \"std\"])"
   ]
  },
  {
   "cell_type": "markdown",
   "metadata": {
    "pycharm": {
     "name": "#%% md\n"
    }
   },
   "source": [
    "The posterior means of the bayesian estimates are:"
   ]
  },
  {
   "cell_type": "code",
   "execution_count": 28,
   "metadata": {
    "pycharm": {
     "name": "#%%\n"
    }
   },
   "outputs": [
    {
     "data": {
      "text/html": [
       "<div>\n",
       "<style scoped>\n",
       "    .dataframe tbody tr th:only-of-type {\n",
       "        vertical-align: middle;\n",
       "    }\n",
       "\n",
       "    .dataframe tbody tr th {\n",
       "        vertical-align: top;\n",
       "    }\n",
       "\n",
       "    .dataframe thead th {\n",
       "        text-align: right;\n",
       "    }\n",
       "</style>\n",
       "<table border=\"1\" class=\"dataframe\">\n",
       "  <thead>\n",
       "    <tr style=\"text-align: right;\">\n",
       "      <th></th>\n",
       "      <th>mean</th>\n",
       "      <th>sd</th>\n",
       "      <th>hdi_3%</th>\n",
       "      <th>hdi_97%</th>\n",
       "      <th>mcse_mean</th>\n",
       "      <th>mcse_sd</th>\n",
       "      <th>ess_bulk</th>\n",
       "      <th>ess_tail</th>\n",
       "      <th>r_hat</th>\n",
       "    </tr>\n",
       "  </thead>\n",
       "  <tbody>\n",
       "    <tr>\n",
       "      <th>group_sigma[M0]</th>\n",
       "      <td>22.141</td>\n",
       "      <td>7.358</td>\n",
       "      <td>11.084</td>\n",
       "      <td>36.161</td>\n",
       "      <td>0.037</td>\n",
       "      <td>0.028</td>\n",
       "      <td>46462.0</td>\n",
       "      <td>30598.0</td>\n",
       "      <td>1.0</td>\n",
       "    </tr>\n",
       "    <tr>\n",
       "      <th>group_sigma[M1]</th>\n",
       "      <td>15.233</td>\n",
       "      <td>6.201</td>\n",
       "      <td>6.430</td>\n",
       "      <td>26.659</td>\n",
       "      <td>0.035</td>\n",
       "      <td>0.026</td>\n",
       "      <td>40604.0</td>\n",
       "      <td>27610.0</td>\n",
       "      <td>1.0</td>\n",
       "    </tr>\n",
       "    <tr>\n",
       "      <th>group_sigma[M2]</th>\n",
       "      <td>16.029</td>\n",
       "      <td>6.240</td>\n",
       "      <td>7.079</td>\n",
       "      <td>27.685</td>\n",
       "      <td>0.034</td>\n",
       "      <td>0.026</td>\n",
       "      <td>42341.0</td>\n",
       "      <td>27994.0</td>\n",
       "      <td>1.0</td>\n",
       "    </tr>\n",
       "    <tr>\n",
       "      <th>group_sigma[M3]</th>\n",
       "      <td>10.630</td>\n",
       "      <td>5.016</td>\n",
       "      <td>4.051</td>\n",
       "      <td>19.605</td>\n",
       "      <td>0.032</td>\n",
       "      <td>0.025</td>\n",
       "      <td>34311.0</td>\n",
       "      <td>23726.0</td>\n",
       "      <td>1.0</td>\n",
       "    </tr>\n",
       "    <tr>\n",
       "      <th>group_sigma[M4]</th>\n",
       "      <td>13.981</td>\n",
       "      <td>5.827</td>\n",
       "      <td>5.737</td>\n",
       "      <td>24.677</td>\n",
       "      <td>0.033</td>\n",
       "      <td>0.024</td>\n",
       "      <td>39643.0</td>\n",
       "      <td>27512.0</td>\n",
       "      <td>1.0</td>\n",
       "    </tr>\n",
       "    <tr>\n",
       "      <th>group_sigma[M5]</th>\n",
       "      <td>21.786</td>\n",
       "      <td>7.381</td>\n",
       "      <td>10.175</td>\n",
       "      <td>35.265</td>\n",
       "      <td>0.037</td>\n",
       "      <td>0.028</td>\n",
       "      <td>48330.0</td>\n",
       "      <td>30837.0</td>\n",
       "      <td>1.0</td>\n",
       "    </tr>\n",
       "  </tbody>\n",
       "</table>\n",
       "</div>"
      ],
      "text/plain": [
       "                   mean     sd  hdi_3%  hdi_97%  mcse_mean  mcse_sd  ess_bulk  \\\n",
       "group_sigma[M0]  22.141  7.358  11.084   36.161      0.037    0.028   46462.0   \n",
       "group_sigma[M1]  15.233  6.201   6.430   26.659      0.035    0.026   40604.0   \n",
       "group_sigma[M2]  16.029  6.240   7.079   27.685      0.034    0.026   42341.0   \n",
       "group_sigma[M3]  10.630  5.016   4.051   19.605      0.032    0.025   34311.0   \n",
       "group_sigma[M4]  13.981  5.827   5.737   24.677      0.033    0.024   39643.0   \n",
       "group_sigma[M5]  21.786  7.381  10.175   35.265      0.037    0.028   48330.0   \n",
       "\n",
       "                 ess_tail  r_hat  \n",
       "group_sigma[M0]   30598.0    1.0  \n",
       "group_sigma[M1]   27610.0    1.0  \n",
       "group_sigma[M2]   27994.0    1.0  \n",
       "group_sigma[M3]   23726.0    1.0  \n",
       "group_sigma[M4]   27512.0    1.0  \n",
       "group_sigma[M5]   30837.0    1.0  "
      ]
     },
     "metadata": {},
     "output_type": "display_data"
    }
   ],
   "source": [
    "with model_unpooled:\n",
    "    display(az.summary(trace_unpooled, var_names=[\"group_sigma\"]))"
   ]
  },
  {
   "cell_type": "code",
   "execution_count": 29,
   "metadata": {
    "pycharm": {
     "name": "#%%\n"
    }
   },
   "outputs": [
    {
     "data": {
      "image/png": "[encoded data removed]",
      "text/plain": [
       "<Figure size 2208x1104 with 6 Axes>"
      ]
     },
     "metadata": {},
     "output_type": "display_data"
    }
   ],
   "source": [
    "# az.plot_posterior(trace_separate[\"group_std\"][:, 0], point_estimate='mode')\n",
    "with model_unpooled:\n",
    "    az.plot_posterior(trace_unpooled, var_names=[\"group_sigma\"], point_estimate='mode'); # the posterior mean is 29, the mode is 19!"
   ]
  },
  {
   "cell_type": "markdown",
   "metadata": {
    "pycharm": {
     "name": "#%% md\n"
    }
   },
   "source": [
    "The sample std is rather different from the posterior std mean. The sample std is actually much similar to the posterior mode (as expected from theory)! The posterior std distributions are heavily right-skewed!"
   ]
  },
  {
   "cell_type": "markdown",
   "metadata": {
    "pycharm": {
     "name": "#%% md\n"
    }
   },
   "source": [
    "## Hierarchical model, common std\n",
    "\n",
    "Consider the following Bayesian hierarchical model:\n",
    "\n",
    "\\begin{align*}\n",
    "\\mu_\\mu & \\sim N(90, 10)\\\\\n",
    "\\sigma_\\mu  & \\sim \\text{HalfNormal}(30) \\\\\n",
    "\\mu_{j} &\\sim {N}(\\mu_\\mu, \\sigma_\\mu) \\\\\n",
    "\\sigma &\\sim \\text{HalfNormal}(23) \\\\\n",
    "\\vec{y}_{ij} &\\sim {N}(\\mu_j, \\sigma) \\\\\n",
    "\\end{align*}\n",
    "\n"
   ]
  },
  {
   "cell_type": "markdown",
   "metadata": {},
   "source": [
    "* Discuss the hierarchical model and its underlying hypotheses "
   ]
  },
  {
   "cell_type": "markdown",
   "metadata": {},
   "source": [
    "The hierarchical model may be seen as an extension of the unpooled model. While in the unpooled model the 6 different $\\mu_j$ are independent of each other, in the hierarchical model they share common parent variabes $\\mu_\\mu$ and $\\sigma_\\mu$ representing our prior belief about their mean value and their spread, respectively. Indeed, each $\\mu_j$ is assumed to be normal with mean $\\mu_\\mu$ and standard deviation $\\sigma_\\mu$. Furthermore, we assume a single random variable $\\sigma$ modeling the spread of the different measurements for a given machine (note that in the previous unpooled model we had different standard deviation parameters for the different groups, it is kind of an arbitrary choice/modeling assumption).\n",
    "\n",
    "From the numerical values of the model coefficients, the modeler might have made the following assumptions:\n",
    "1. The mean of the mean quality of each machine is between $90-3*10=60$ and $90+3*10=120$ with probability 99% $\\Rightarrow$ from $\\mu_\\mu \\sim N(90, 10)$\n",
    "2. The quality measurements of each machine are in a range of width $15*6=90$ with probability 99% $\\Rightarrow$ from $\\sigma \\sim \\text{HalfNormal}(23)$\n",
    "3. The different $\\mu_j$ vary in a range of width $6*20=120$ with probability 99% $\\Rightarrow$ from $\\sigma_\\mu  \\sim \\text{HalfNormal}(30)$"
   ]
  },
  {
   "cell_type": "code",
   "execution_count": 30,
   "metadata": {},
   "outputs": [
    {
     "data": {
      "text/plain": [
       "0    15.563066\n",
       "dtype: float64"
      ]
     },
     "execution_count": 30,
     "metadata": {},
     "output_type": "execute_result"
    }
   ],
   "source": [
    "pd.DataFrame(stats.halfnorm.rvs(size=10_000, scale=23)).median()"
   ]
  },
  {
   "cell_type": "code",
   "execution_count": 31,
   "metadata": {},
   "outputs": [
    {
     "data": {
      "text/plain": [
       "0    19.880286\n",
       "dtype: float64"
      ]
     },
     "execution_count": 31,
     "metadata": {},
     "output_type": "execute_result"
    }
   ],
   "source": [
    "pd.DataFrame(stats.halfnorm.rvs(size=10_000, scale=30)).median()"
   ]
  },
  {
   "cell_type": "markdown",
   "metadata": {},
   "source": [
    "* Implement the hierarchical model in pymc"
   ]
  },
  {
   "cell_type": "code",
   "execution_count": 32,
   "metadata": {
    "pycharm": {
     "name": "#%%\n"
    }
   },
   "outputs": [
    {
     "ename": "KeyError",
     "evalue": "'machine_id'",
     "output_type": "error",
     "traceback": [
      "\u001b[0;31m---------------------------------------------------------------------------\u001b[0m",
      "\u001b[0;31mKeyError\u001b[0m                                  Traceback (most recent call last)",
      "File \u001b[0;32m~/anaconda3/envs/pymc_env/lib/python3.12/site-packages/pandas/core/indexes/base.py:3805\u001b[0m, in \u001b[0;36mIndex.get_loc\u001b[0;34m(self, key)\u001b[0m\n\u001b[1;32m   3804\u001b[0m \u001b[38;5;28;01mtry\u001b[39;00m:\n\u001b[0;32m-> 3805\u001b[0m     \u001b[38;5;28;01mreturn\u001b[39;00m \u001b[38;5;28;43mself\u001b[39;49m\u001b[38;5;241;43m.\u001b[39;49m\u001b[43m_engine\u001b[49m\u001b[38;5;241;43m.\u001b[39;49m\u001b[43mget_loc\u001b[49m\u001b[43m(\u001b[49m\u001b[43mcasted_key\u001b[49m\u001b[43m)\u001b[49m\n\u001b[1;32m   3806\u001b[0m \u001b[38;5;28;01mexcept\u001b[39;00m \u001b[38;5;167;01mKeyError\u001b[39;00m \u001b[38;5;28;01mas\u001b[39;00m err:\n",
      "File \u001b[0;32mindex.pyx:167\u001b[0m, in \u001b[0;36mpandas._libs.index.IndexEngine.get_loc\u001b[0;34m()\u001b[0m\n",
      "File \u001b[0;32mindex.pyx:196\u001b[0m, in \u001b[0;36mpandas._libs.index.IndexEngine.get_loc\u001b[0;34m()\u001b[0m\n",
      "File \u001b[0;32mpandas/_libs/hashtable_class_helper.pxi:7081\u001b[0m, in \u001b[0;36mpandas._libs.hashtable.PyObjectHashTable.get_item\u001b[0;34m()\u001b[0m\n",
      "File \u001b[0;32mpandas/_libs/hashtable_class_helper.pxi:7089\u001b[0m, in \u001b[0;36mpandas._libs.hashtable.PyObjectHashTable.get_item\u001b[0;34m()\u001b[0m\n",
      "\u001b[0;31mKeyError\u001b[0m: 'machine_id'",
      "\nThe above exception was the direct cause of the following exception:\n",
      "\u001b[0;31mKeyError\u001b[0m                                  Traceback (most recent call last)",
      "Cell \u001b[0;32mIn[32], line 10\u001b[0m\n\u001b[1;32m      8\u001b[0m group_mu \u001b[38;5;241m=\u001b[39m pm\u001b[38;5;241m.\u001b[39mNormal(\u001b[38;5;124m'\u001b[39m\u001b[38;5;124mgroup_mu\u001b[39m\u001b[38;5;124m'\u001b[39m, mu\u001b[38;5;241m=\u001b[39mmu_mu, sigma\u001b[38;5;241m=\u001b[39msigma_mu, shape\u001b[38;5;241m=\u001b[39mn_machines)\n\u001b[1;32m      9\u001b[0m global_std \u001b[38;5;241m=\u001b[39m pm\u001b[38;5;241m.\u001b[39mHalfNormal(\u001b[38;5;124m'\u001b[39m\u001b[38;5;124mglobal_std\u001b[39m\u001b[38;5;124m'\u001b[39m, sigma\u001b[38;5;241m=\u001b[39m\u001b[38;5;241m23\u001b[39m)\n\u001b[0;32m---> 10\u001b[0m y \u001b[38;5;241m=\u001b[39m pm\u001b[38;5;241m.\u001b[39mNormal(\u001b[38;5;124m'\u001b[39m\u001b[38;5;124my\u001b[39m\u001b[38;5;124m'\u001b[39m, mu\u001b[38;5;241m=\u001b[39mgroup_mu[\u001b[43mdf\u001b[49m\u001b[43m[\u001b[49m\u001b[38;5;124;43m\"\u001b[39;49m\u001b[38;5;124;43mmachine_id\u001b[39;49m\u001b[38;5;124;43m\"\u001b[39;49m\u001b[43m]\u001b[49m],\n\u001b[1;32m     11\u001b[0m                    sigma\u001b[38;5;241m=\u001b[39mglobal_std, observed\u001b[38;5;241m=\u001b[39mdf[\u001b[38;5;124m\"\u001b[39m\u001b[38;5;124mquality\u001b[39m\u001b[38;5;124m\"\u001b[39m])\n\u001b[1;32m     12\u001b[0m trace_hierarchical \u001b[38;5;241m=\u001b[39m pm\u001b[38;5;241m.\u001b[39msample(\u001b[38;5;241m10_000\u001b[39m, idata_kwargs \u001b[38;5;241m=\u001b[39m {\u001b[38;5;124m'\u001b[39m\u001b[38;5;124mlog_likelihood\u001b[39m\u001b[38;5;124m'\u001b[39m: \u001b[38;5;28;01mTrue\u001b[39;00m})\n",
      "File \u001b[0;32m~/anaconda3/envs/pymc_env/lib/python3.12/site-packages/pandas/core/frame.py:4102\u001b[0m, in \u001b[0;36mDataFrame.__getitem__\u001b[0;34m(self, key)\u001b[0m\n\u001b[1;32m   4100\u001b[0m \u001b[38;5;28;01mif\u001b[39;00m \u001b[38;5;28mself\u001b[39m\u001b[38;5;241m.\u001b[39mcolumns\u001b[38;5;241m.\u001b[39mnlevels \u001b[38;5;241m>\u001b[39m \u001b[38;5;241m1\u001b[39m:\n\u001b[1;32m   4101\u001b[0m     \u001b[38;5;28;01mreturn\u001b[39;00m \u001b[38;5;28mself\u001b[39m\u001b[38;5;241m.\u001b[39m_getitem_multilevel(key)\n\u001b[0;32m-> 4102\u001b[0m indexer \u001b[38;5;241m=\u001b[39m \u001b[38;5;28;43mself\u001b[39;49m\u001b[38;5;241;43m.\u001b[39;49m\u001b[43mcolumns\u001b[49m\u001b[38;5;241;43m.\u001b[39;49m\u001b[43mget_loc\u001b[49m\u001b[43m(\u001b[49m\u001b[43mkey\u001b[49m\u001b[43m)\u001b[49m\n\u001b[1;32m   4103\u001b[0m \u001b[38;5;28;01mif\u001b[39;00m is_integer(indexer):\n\u001b[1;32m   4104\u001b[0m     indexer \u001b[38;5;241m=\u001b[39m [indexer]\n",
      "File \u001b[0;32m~/anaconda3/envs/pymc_env/lib/python3.12/site-packages/pandas/core/indexes/base.py:3812\u001b[0m, in \u001b[0;36mIndex.get_loc\u001b[0;34m(self, key)\u001b[0m\n\u001b[1;32m   3807\u001b[0m     \u001b[38;5;28;01mif\u001b[39;00m \u001b[38;5;28misinstance\u001b[39m(casted_key, \u001b[38;5;28mslice\u001b[39m) \u001b[38;5;129;01mor\u001b[39;00m (\n\u001b[1;32m   3808\u001b[0m         \u001b[38;5;28misinstance\u001b[39m(casted_key, abc\u001b[38;5;241m.\u001b[39mIterable)\n\u001b[1;32m   3809\u001b[0m         \u001b[38;5;129;01mand\u001b[39;00m \u001b[38;5;28many\u001b[39m(\u001b[38;5;28misinstance\u001b[39m(x, \u001b[38;5;28mslice\u001b[39m) \u001b[38;5;28;01mfor\u001b[39;00m x \u001b[38;5;129;01min\u001b[39;00m casted_key)\n\u001b[1;32m   3810\u001b[0m     ):\n\u001b[1;32m   3811\u001b[0m         \u001b[38;5;28;01mraise\u001b[39;00m InvalidIndexError(key)\n\u001b[0;32m-> 3812\u001b[0m     \u001b[38;5;28;01mraise\u001b[39;00m \u001b[38;5;167;01mKeyError\u001b[39;00m(key) \u001b[38;5;28;01mfrom\u001b[39;00m \u001b[38;5;21;01merr\u001b[39;00m\n\u001b[1;32m   3813\u001b[0m \u001b[38;5;28;01mexcept\u001b[39;00m \u001b[38;5;167;01mTypeError\u001b[39;00m:\n\u001b[1;32m   3814\u001b[0m     \u001b[38;5;66;03m# If we have a listlike key, _check_indexing_error will raise\u001b[39;00m\n\u001b[1;32m   3815\u001b[0m     \u001b[38;5;66;03m#  InvalidIndexError. Otherwise we fall through and re-raise\u001b[39;00m\n\u001b[1;32m   3816\u001b[0m     \u001b[38;5;66;03m#  the TypeError.\u001b[39;00m\n\u001b[1;32m   3817\u001b[0m     \u001b[38;5;28mself\u001b[39m\u001b[38;5;241m.\u001b[39m_check_indexing_error(key)\n",
      "\u001b[0;31mKeyError\u001b[0m: 'machine_id'"
     ]
    }
   ],
   "source": [
    "with pm.Model() as model_hierarchical:\n",
    "    \n",
    "    # hyper_priors\n",
    "    mu_mu = pm.Normal('mu_mu', mu=90, sigma=10)\n",
    "    sigma_mu = pm.HalfNormal('sigma_mu', sigma=30)\n",
    "\n",
    "    # priors    \n",
    "    group_mu = pm.Normal('group_mu', mu=mu_mu, sigma=sigma_mu, shape=n_machines)\n",
    "    global_std = pm.HalfNormal('global_std', sigma=23)\n",
    "    y = pm.Normal('y', mu=group_mu[df[\"machine_id\"]],\n",
    "                       sigma=global_std, observed=df[\"quality\"])\n",
    "    trace_hierarchical = pm.sample(10_000, idata_kwargs = {'log_likelihood': True})"
   ]
  },
  {
   "cell_type": "code",
   "execution_count": null,
   "metadata": {},
   "outputs": [],
   "source": [
    "#pm.model_to_graphviz(model_hierarchical)"
   ]
  },
  {
   "cell_type": "code",
   "execution_count": null,
   "metadata": {},
   "outputs": [],
   "source": [
    "trace_hierarchical.posterior = trace_hierarchical.posterior.assign_coords(group_mu_dim_0=machines)"
   ]
  },
  {
   "cell_type": "code",
   "execution_count": null,
   "metadata": {
    "pycharm": {
     "name": "#%%\n"
    }
   },
   "outputs": [
    {
     "data": {
      "text/html": [
       "<div>\n",
       "<style scoped>\n",
       "    .dataframe tbody tr th:only-of-type {\n",
       "        vertical-align: middle;\n",
       "    }\n",
       "\n",
       "    .dataframe tbody tr th {\n",
       "        vertical-align: top;\n",
       "    }\n",
       "\n",
       "    .dataframe thead th {\n",
       "        text-align: right;\n",
       "    }\n",
       "</style>\n",
       "<table border=\"1\" class=\"dataframe\">\n",
       "  <thead>\n",
       "    <tr style=\"text-align: right;\">\n",
       "      <th></th>\n",
       "      <th>mean</th>\n",
       "      <th>sd</th>\n",
       "      <th>hdi_3%</th>\n",
       "      <th>hdi_97%</th>\n",
       "      <th>mcse_mean</th>\n",
       "      <th>mcse_sd</th>\n",
       "      <th>ess_bulk</th>\n",
       "      <th>ess_tail</th>\n",
       "      <th>r_hat</th>\n",
       "    </tr>\n",
       "  </thead>\n",
       "  <tbody>\n",
       "    <tr>\n",
       "      <th>global_std</th>\n",
       "      <td>15.152</td>\n",
       "      <td>2.347</td>\n",
       "      <td>11.041</td>\n",
       "      <td>19.576</td>\n",
       "      <td>0.027</td>\n",
       "      <td>0.021</td>\n",
       "      <td>10994.0</td>\n",
       "      <td>4656.0</td>\n",
       "      <td>1.0</td>\n",
       "    </tr>\n",
       "    <tr>\n",
       "      <th>group_mu[M1]</th>\n",
       "      <td>80.255</td>\n",
       "      <td>6.654</td>\n",
       "      <td>67.906</td>\n",
       "      <td>92.718</td>\n",
       "      <td>0.082</td>\n",
       "      <td>0.061</td>\n",
       "      <td>6685.0</td>\n",
       "      <td>1728.0</td>\n",
       "      <td>1.0</td>\n",
       "    </tr>\n",
       "    <tr>\n",
       "      <th>group_mu[M2]</th>\n",
       "      <td>102.580</td>\n",
       "      <td>6.438</td>\n",
       "      <td>90.458</td>\n",
       "      <td>114.567</td>\n",
       "      <td>0.074</td>\n",
       "      <td>0.052</td>\n",
       "      <td>7563.0</td>\n",
       "      <td>9361.0</td>\n",
       "      <td>1.0</td>\n",
       "    </tr>\n",
       "    <tr>\n",
       "      <th>group_mu[M3]</th>\n",
       "      <td>88.956</td>\n",
       "      <td>5.977</td>\n",
       "      <td>77.858</td>\n",
       "      <td>100.609</td>\n",
       "      <td>0.030</td>\n",
       "      <td>0.021</td>\n",
       "      <td>39746.0</td>\n",
       "      <td>27986.0</td>\n",
       "      <td>1.0</td>\n",
       "    </tr>\n",
       "    <tr>\n",
       "      <th>group_mu[M4]</th>\n",
       "      <td>106.525</td>\n",
       "      <td>6.898</td>\n",
       "      <td>93.572</td>\n",
       "      <td>119.688</td>\n",
       "      <td>0.101</td>\n",
       "      <td>0.072</td>\n",
       "      <td>4910.0</td>\n",
       "      <td>1177.0</td>\n",
       "      <td>1.0</td>\n",
       "    </tr>\n",
       "    <tr>\n",
       "      <th>group_mu[M5]</th>\n",
       "      <td>90.629</td>\n",
       "      <td>5.965</td>\n",
       "      <td>79.277</td>\n",
       "      <td>101.745</td>\n",
       "      <td>0.028</td>\n",
       "      <td>0.020</td>\n",
       "      <td>46403.0</td>\n",
       "      <td>27560.0</td>\n",
       "      <td>1.0</td>\n",
       "    </tr>\n",
       "    <tr>\n",
       "      <th>group_mu[M6]</th>\n",
       "      <td>87.635</td>\n",
       "      <td>6.039</td>\n",
       "      <td>76.157</td>\n",
       "      <td>98.868</td>\n",
       "      <td>0.031</td>\n",
       "      <td>0.022</td>\n",
       "      <td>38230.0</td>\n",
       "      <td>26039.0</td>\n",
       "      <td>1.0</td>\n",
       "    </tr>\n",
       "    <tr>\n",
       "      <th>mu_mu</th>\n",
       "      <td>92.076</td>\n",
       "      <td>5.348</td>\n",
       "      <td>81.654</td>\n",
       "      <td>102.120</td>\n",
       "      <td>0.028</td>\n",
       "      <td>0.019</td>\n",
       "      <td>37853.0</td>\n",
       "      <td>28689.0</td>\n",
       "      <td>1.0</td>\n",
       "    </tr>\n",
       "    <tr>\n",
       "      <th>sigma_mu</th>\n",
       "      <td>13.861</td>\n",
       "      <td>6.558</td>\n",
       "      <td>2.144</td>\n",
       "      <td>25.077</td>\n",
       "      <td>0.090</td>\n",
       "      <td>0.064</td>\n",
       "      <td>2078.0</td>\n",
       "      <td>800.0</td>\n",
       "      <td>1.0</td>\n",
       "    </tr>\n",
       "  </tbody>\n",
       "</table>\n",
       "</div>"
      ],
      "text/plain": [
       "                 mean     sd  hdi_3%  hdi_97%  mcse_mean  mcse_sd  ess_bulk  \\\n",
       "global_std     15.152  2.347  11.041   19.576      0.027    0.021   10994.0   \n",
       "group_mu[M1]   80.255  6.654  67.906   92.718      0.082    0.061    6685.0   \n",
       "group_mu[M2]  102.580  6.438  90.458  114.567      0.074    0.052    7563.0   \n",
       "group_mu[M3]   88.956  5.977  77.858  100.609      0.030    0.021   39746.0   \n",
       "group_mu[M4]  106.525  6.898  93.572  119.688      0.101    0.072    4910.0   \n",
       "group_mu[M5]   90.629  5.965  79.277  101.745      0.028    0.020   46403.0   \n",
       "group_mu[M6]   87.635  6.039  76.157   98.868      0.031    0.022   38230.0   \n",
       "mu_mu          92.076  5.348  81.654  102.120      0.028    0.019   37853.0   \n",
       "sigma_mu       13.861  6.558   2.144   25.077      0.090    0.064    2078.0   \n",
       "\n",
       "              ess_tail  r_hat  \n",
       "global_std      4656.0    1.0  \n",
       "group_mu[M1]    1728.0    1.0  \n",
       "group_mu[M2]    9361.0    1.0  \n",
       "group_mu[M3]   27986.0    1.0  \n",
       "group_mu[M4]    1177.0    1.0  \n",
       "group_mu[M5]   27560.0    1.0  \n",
       "group_mu[M6]   26039.0    1.0  \n",
       "mu_mu          28689.0    1.0  \n",
       "sigma_mu         800.0    1.0  "
      ]
     },
     "execution_count": 35,
     "metadata": {},
     "output_type": "execute_result"
    }
   ],
   "source": [
    "az.summary(trace_hierarchical)"
   ]
  },
  {
   "cell_type": "markdown",
   "metadata": {},
   "source": [
    "## Model selection \n",
    "\n",
    "What is the best model ultimately? In our case: Pooled, Unpooled, or Hierarchical?\n",
    "\n",
    "\n",
    "To answer this question, we need a **model selection** strategy/metric.\n",
    "\n",
    "* You know metrics for point regression models (mse, rmse, mae,...)\n",
    "* You know metrics for point classification models (accuracy, prediciton, recall...)\n",
    "\n",
    "\n",
    "### The WAIC Criterion \n",
    "To score full Bayesian models, we need a metric that evaluates a (sample-based approximation of a) *distribution*. \n",
    "\n",
    "* A popular metric to score a distribution is the log-pointwise-predictive-density ${\\rm lpd}(y, \\Theta)$:\n",
    "$$ {\\rm lpd}(y, \\Theta) = \\sum_i \\log \\frac{1}{S} \\sum_s p(y_i | \\Theta_s),$$\n",
    "where $y$ are the observations and $\\Theta$ is the sample-based approximation of the posterior ($\\Theta_s$ is a single MCMC draw). It is the (approximate) logarithm of the expected likelihood (the higher, the better)!\n",
    "\n",
    "\n",
    "* The ${\\rm lpd}(y, \\Theta)$ generally increases for increasing model complexity and it is thus prone to overfitting when used on the same data used for model building. It should be evaluated with fresh data in (cross)-validation.\n",
    "\n",
    "* The WAIC criterion (the lower, the better) balances high ${\\rm lpd}$ and low model complexity explicitly. It can be applied directly on the training data $y$!\n",
    "\n",
    "\\begin{align}\n",
    "{\\rm WAIC}(y, \\Theta) &= -2(\\rm{lpd} - p_{\\rm waic}).\\\\\n",
    " p_{{\\rm waic}} &= \\sum_i {\\rm var}_{\\theta} \\log p(y_i|\\theta)\n",
    "\\end{align}\n",
    "\n",
    "* The WAIC is equivalent up to a factor to the ${\\rm elpd}$, the *expected* $\\rm{lpd}$ on fresh data (the higher, the better):\n",
    "\n",
    "$${\\rm elpd}(y, \\Theta) = \\rm{lpd} - p_{\\rm waic}.$$\n",
    "\n",
    "Advantages of WAIC/elpd:\n",
    "\n",
    "* Well-defined both for continuous and for categorical observations\n",
    "* Applicable to Bayesian models returning point-wise estimates\n",
    "* Applicable to the training data directly (built-in complexity penalty)\n",
    "* Works well in practice\n",
    "\n",
    "Note: WAIC stands for Widely Applicable Information Criterion!\n",
    "\n",
    "### The WAIC Criterion in arviz\n",
    "\n",
    "Arviz has a built-in function `az.waic` to compute the WAIC (actually, as of v0.12.1, arviz computes the ${\\rm elpd}$, see <a href=\"https://python.arviz.org/en/v0.12.1/api/generated/arviz.waic.html?highlight=waic\">documentation</a>):\n"
   ]
  },
  {
   "cell_type": "code",
   "execution_count": null,
   "metadata": {},
   "outputs": [
    {
     "name": "stderr",
     "output_type": "stream",
     "text": [
      "/Users/marco.forgione/anaconda3/envs/pymc_env/lib/python3.12/site-packages/arviz/stats/stats.py:1647: UserWarning: For one or more samples the posterior variance of the log predictive densities exceeds 0.4. This could be indication of WAIC starting to fail. \n",
      "See http://arxiv.org/abs/1507.04544 for details\n",
      "  warnings.warn(\n"
     ]
    },
    {
     "data": {
      "text/plain": [
       "Computed from 40000 posterior samples and 30 observations log-likelihood matrix.\n",
       "\n",
       "          Estimate       SE\n",
       "elpd_waic  -130.86     4.20\n",
       "p_waic        1.95        -\n",
       "\n",
       "There has been a warning during the calculation. Please check the results."
      ]
     },
     "execution_count": 36,
     "metadata": {},
     "output_type": "execute_result"
    }
   ],
   "source": [
    "az.waic(trace_pooled)"
   ]
  },
  {
   "cell_type": "markdown",
   "metadata": {},
   "source": [
    "There is an even more convenient method to evaluate the criterion on several models and rank them according to the WAIC criterion (from best to worst, ascending WAIC/descending elpd)"
   ]
  },
  {
   "cell_type": "code",
   "execution_count": null,
   "metadata": {
    "pycharm": {
     "name": "#%%\n"
    }
   },
   "outputs": [
    {
     "name": "stderr",
     "output_type": "stream",
     "text": [
      "/Users/marco.forgione/anaconda3/envs/pymc_env/lib/python3.12/site-packages/arviz/stats/stats.py:1647: UserWarning: For one or more samples the posterior variance of the log predictive densities exceeds 0.4. This could be indication of WAIC starting to fail. \n",
      "See http://arxiv.org/abs/1507.04544 for details\n",
      "  warnings.warn(\n",
      "/Users/marco.forgione/anaconda3/envs/pymc_env/lib/python3.12/site-packages/arviz/stats/stats.py:1647: UserWarning: For one or more samples the posterior variance of the log predictive densities exceeds 0.4. This could be indication of WAIC starting to fail. \n",
      "See http://arxiv.org/abs/1507.04544 for details\n",
      "  warnings.warn(\n",
      "/Users/marco.forgione/anaconda3/envs/pymc_env/lib/python3.12/site-packages/arviz/stats/stats.py:1647: UserWarning: For one or more samples the posterior variance of the log predictive densities exceeds 0.4. This could be indication of WAIC starting to fail. \n",
      "See http://arxiv.org/abs/1507.04544 for details\n",
      "  warnings.warn(\n"
     ]
    },
    {
     "data": {
      "text/html": [
       "<div>\n",
       "<style scoped>\n",
       "    .dataframe tbody tr th:only-of-type {\n",
       "        vertical-align: middle;\n",
       "    }\n",
       "\n",
       "    .dataframe tbody tr th {\n",
       "        vertical-align: top;\n",
       "    }\n",
       "\n",
       "    .dataframe thead th {\n",
       "        text-align: right;\n",
       "    }\n",
       "</style>\n",
       "<table border=\"1\" class=\"dataframe\">\n",
       "  <thead>\n",
       "    <tr style=\"text-align: right;\">\n",
       "      <th></th>\n",
       "      <th>rank</th>\n",
       "      <th>elpd_waic</th>\n",
       "      <th>p_waic</th>\n",
       "      <th>elpd_diff</th>\n",
       "      <th>weight</th>\n",
       "      <th>se</th>\n",
       "      <th>dse</th>\n",
       "      <th>warning</th>\n",
       "      <th>scale</th>\n",
       "    </tr>\n",
       "  </thead>\n",
       "  <tbody>\n",
       "    <tr>\n",
       "      <th>model_hierarchical</th>\n",
       "      <td>0</td>\n",
       "      <td>-126.528408</td>\n",
       "      <td>5.344024</td>\n",
       "      <td>0.000000</td>\n",
       "      <td>0.69918</td>\n",
       "      <td>4.051385</td>\n",
       "      <td>0.000000</td>\n",
       "      <td>True</td>\n",
       "      <td>log</td>\n",
       "    </tr>\n",
       "    <tr>\n",
       "      <th>model_unpooled</th>\n",
       "      <td>1</td>\n",
       "      <td>-127.127036</td>\n",
       "      <td>7.256076</td>\n",
       "      <td>0.598628</td>\n",
       "      <td>0.30082</td>\n",
       "      <td>3.210752</td>\n",
       "      <td>1.915616</td>\n",
       "      <td>True</td>\n",
       "      <td>log</td>\n",
       "    </tr>\n",
       "    <tr>\n",
       "      <th>model_pooled</th>\n",
       "      <td>2</td>\n",
       "      <td>-130.860498</td>\n",
       "      <td>1.949066</td>\n",
       "      <td>4.332090</td>\n",
       "      <td>0.00000</td>\n",
       "      <td>4.198705</td>\n",
       "      <td>1.963699</td>\n",
       "      <td>True</td>\n",
       "      <td>log</td>\n",
       "    </tr>\n",
       "  </tbody>\n",
       "</table>\n",
       "</div>"
      ],
      "text/plain": [
       "                    rank   elpd_waic    p_waic  elpd_diff   weight        se  \\\n",
       "model_hierarchical     0 -126.528408  5.344024   0.000000  0.69918  4.051385   \n",
       "model_unpooled         1 -127.127036  7.256076   0.598628  0.30082  3.210752   \n",
       "model_pooled           2 -130.860498  1.949066   4.332090  0.00000  4.198705   \n",
       "\n",
       "                         dse  warning scale  \n",
       "model_hierarchical  0.000000     True   log  \n",
       "model_unpooled      1.915616     True   log  \n",
       "model_pooled        1.963699     True   log  "
      ]
     },
     "execution_count": 37,
     "metadata": {},
     "output_type": "execute_result"
    }
   ],
   "source": [
    "#with factory_pooled, factory_separate, factory_hierarchical:\n",
    "comp_df = az.compare({\"model_pooled\": trace_pooled,\n",
    "                      \"model_unpooled\": trace_unpooled,\n",
    "                      \"model_hierarchical\": trace_hierarchical},\n",
    "                      ic=\"waic\") # ic stands for \"information criterion\"\n",
    "comp_df"
   ]
  },
  {
   "cell_type": "code",
   "execution_count": null,
   "metadata": {
    "pycharm": {
     "name": "#%%\n"
    }
   },
   "outputs": [
    {
     "data": {
      "image/png": "[encoded data removed]",
      "text/plain": [
       "<Figure size 600x300 with 1 Axes>"
      ]
     },
     "metadata": {},
     "output_type": "display_data"
    }
   ],
   "source": [
    "az.plot_compare(comp_df);"
   ]
  },
  {
   "cell_type": "markdown",
   "metadata": {},
   "source": [
    "## Posterior predictions of new measurements"
   ]
  },
  {
   "cell_type": "markdown",
   "metadata": {},
   "source": [
    "* Given the pooled model, make a prediction for a new measurement"
   ]
  },
  {
   "cell_type": "markdown",
   "metadata": {},
   "source": [
    "We can do it by adding a line in pymc corresponding to the prediction:"
   ]
  },
  {
   "cell_type": "code",
   "execution_count": null,
   "metadata": {},
   "outputs": [
    {
     "name": "stderr",
     "output_type": "stream",
     "text": [
      "Auto-assigning NUTS sampler...\n",
      "Initializing NUTS using jitter+adapt_diag...\n",
      "Multiprocess sampling (4 chains in 4 jobs)\n",
      "NUTS: [global_mu, global_sigma, y_pred]\n"
     ]
    },
    {
     "data": {
      "application/vnd.jupyter.widget-view+json": {
       "model_id": "517c3b62dffe4fd9aca6e3c382fbe859",
       "version_major": 2,
       "version_minor": 0
      },
      "text/plain": [
       "Output()"
      ]
     },
     "metadata": {},
     "output_type": "display_data"
    },
    {
     "data": {
      "text/html": [
       "<pre style=\"white-space:pre;overflow-x:auto;line-height:normal;font-family:Menlo,'DejaVu Sans Mono',consolas,'Courier New',monospace\"></pre>\n"
      ],
      "text/plain": []
     },
     "metadata": {},
     "output_type": "display_data"
    },
    {
     "name": "stderr",
     "output_type": "stream",
     "text": [
      "Sampling 4 chains for 1_000 tune and 10_000 draw iterations (4_000 + 40_000 draws total) took 3 seconds.\n"
     ]
    }
   ],
   "source": [
    "with pm.Model() as model_pooled_with_pred:\n",
    "    \n",
    "    global_mu = pm.Normal('global_mu', mu=90, sigma=15)\n",
    "    global_sigma = pm.HalfNormal('global_sigma', sigma=30)\n",
    "    y = pm.Normal('y', mu=global_mu, sigma=global_sigma, observed=df[\"quality\"])\n",
    "    \n",
    "    y_pred = pm.Normal(\"y_pred\", mu=global_mu, sigma=global_sigma)\n",
    "    \n",
    "    trace_pooled_with_pred = pm.sample(10_000, return_inferencedata=True)"
   ]
  },
  {
   "cell_type": "code",
   "execution_count": null,
   "metadata": {},
   "outputs": [
    {
     "data": {
      "text/html": [
       "<div>\n",
       "<style scoped>\n",
       "    .dataframe tbody tr th:only-of-type {\n",
       "        vertical-align: middle;\n",
       "    }\n",
       "\n",
       "    .dataframe tbody tr th {\n",
       "        vertical-align: top;\n",
       "    }\n",
       "\n",
       "    .dataframe thead th {\n",
       "        text-align: right;\n",
       "    }\n",
       "</style>\n",
       "<table border=\"1\" class=\"dataframe\">\n",
       "  <thead>\n",
       "    <tr style=\"text-align: right;\">\n",
       "      <th></th>\n",
       "      <th>mean</th>\n",
       "      <th>sd</th>\n",
       "      <th>hdi_3%</th>\n",
       "      <th>hdi_97%</th>\n",
       "      <th>mcse_mean</th>\n",
       "      <th>mcse_sd</th>\n",
       "      <th>ess_bulk</th>\n",
       "      <th>ess_tail</th>\n",
       "      <th>r_hat</th>\n",
       "    </tr>\n",
       "  </thead>\n",
       "  <tbody>\n",
       "    <tr>\n",
       "      <th>global_mu</th>\n",
       "      <td>92.787</td>\n",
       "      <td>3.330</td>\n",
       "      <td>86.647</td>\n",
       "      <td>99.260</td>\n",
       "      <td>0.016</td>\n",
       "      <td>0.011</td>\n",
       "      <td>45349.0</td>\n",
       "      <td>30899.0</td>\n",
       "      <td>1.0</td>\n",
       "    </tr>\n",
       "    <tr>\n",
       "      <th>global_sigma</th>\n",
       "      <td>18.651</td>\n",
       "      <td>2.531</td>\n",
       "      <td>14.161</td>\n",
       "      <td>23.353</td>\n",
       "      <td>0.013</td>\n",
       "      <td>0.009</td>\n",
       "      <td>40763.0</td>\n",
       "      <td>29544.0</td>\n",
       "      <td>1.0</td>\n",
       "    </tr>\n",
       "    <tr>\n",
       "      <th>y_pred</th>\n",
       "      <td>92.644</td>\n",
       "      <td>18.852</td>\n",
       "      <td>56.924</td>\n",
       "      <td>128.087</td>\n",
       "      <td>0.087</td>\n",
       "      <td>0.063</td>\n",
       "      <td>46761.0</td>\n",
       "      <td>31576.0</td>\n",
       "      <td>1.0</td>\n",
       "    </tr>\n",
       "  </tbody>\n",
       "</table>\n",
       "</div>"
      ],
      "text/plain": [
       "                mean      sd  hdi_3%  hdi_97%  mcse_mean  mcse_sd  ess_bulk  \\\n",
       "global_mu     92.787   3.330  86.647   99.260      0.016    0.011   45349.0   \n",
       "global_sigma  18.651   2.531  14.161   23.353      0.013    0.009   40763.0   \n",
       "y_pred        92.644  18.852  56.924  128.087      0.087    0.063   46761.0   \n",
       "\n",
       "              ess_tail  r_hat  \n",
       "global_mu      30899.0    1.0  \n",
       "global_sigma   29544.0    1.0  \n",
       "y_pred         31576.0    1.0  "
      ]
     },
     "metadata": {},
     "output_type": "display_data"
    }
   ],
   "source": [
    "with model_pooled_with_pred:\n",
    "    display(az.summary(trace_pooled_with_pred)) # var_names='y_pred'"
   ]
  },
  {
   "cell_type": "markdown",
   "metadata": {},
   "source": [
    "Otherwise, we can play with the trace directly. For each sampled value of global_mu and global_sigma, we sample from\n",
    "N(global_mu, global_sigma)"
   ]
  },
  {
   "cell_type": "code",
   "execution_count": null,
   "metadata": {},
   "outputs": [
    {
     "data": {
      "text/plain": [
       "(92.8587363103119, 19.02560200127664)"
      ]
     },
     "execution_count": 41,
     "metadata": {},
     "output_type": "execute_result"
    }
   ],
   "source": [
    "post_pooled = az.extract(trace_pooled.posterior)\n",
    "\n",
    "y_pred = np.zeros_like(post_pooled.global_mu.values)\n",
    "for idx in range(y_pred.shape[0]):\n",
    "    y_pred[idx] = scipy.stats.norm.rvs(loc=post_pooled.global_mu.values[idx],\n",
    "                                       scale=post_pooled.global_sigma.values[idx])\n",
    "    \n",
    "#y_pred = scipy.stats.norm.rvs(loc=post_pooled.global_mu.values,scale=post_pooled.global_sigma.values) # faster vectorized implementation!\n",
    "\n",
    "y_pred.mean(), y_pred.std() # similar to y_pred in the trace (note: there is randomness!)"
   ]
  },
  {
   "cell_type": "markdown",
   "metadata": {},
   "source": [
    "* Given the unpooled model, make a prediction for a new measurement of the machine M1"
   ]
  },
  {
   "cell_type": "code",
   "execution_count": null,
   "metadata": {},
   "outputs": [
    {
     "name": "stderr",
     "output_type": "stream",
     "text": [
      "Auto-assigning NUTS sampler...\n",
      "Initializing NUTS using jitter+adapt_diag...\n",
      "Multiprocess sampling (4 chains in 4 jobs)\n",
      "NUTS: [group_mu, group_sigma, y_M1]\n"
     ]
    },
    {
     "data": {
      "application/vnd.jupyter.widget-view+json": {
       "model_id": "b58ed3e4cfee455d96df905941f4f33d",
       "version_major": 2,
       "version_minor": 0
      },
      "text/plain": [
       "Output()"
      ]
     },
     "metadata": {},
     "output_type": "display_data"
    },
    {
     "data": {
      "text/html": [
       "<pre style=\"white-space:pre;overflow-x:auto;line-height:normal;font-family:Menlo,'DejaVu Sans Mono',consolas,'Courier New',monospace\"></pre>\n"
      ],
      "text/plain": []
     },
     "metadata": {},
     "output_type": "display_data"
    },
    {
     "name": "stderr",
     "output_type": "stream",
     "text": [
      "Sampling 4 chains for 1_000 tune and 10_000 draw iterations (4_000 + 40_000 draws total) took 6 seconds.\n",
      "There were 3 divergences after tuning. Increase `target_accept` or reparameterize.\n"
     ]
    }
   ],
   "source": [
    "with pm.Model() as model_unpooled_with_pred_M1:\n",
    "    group_mu = pm.Normal('group_mu', mu=90, sigma=20, shape=n_machines)\n",
    "    group_sigma = pm.HalfNormal('group_sigma', sigma=23, shape=n_machines)\n",
    "    y = pm.Normal('y', mu=group_mu[df[\"machine\"].cat.codes],\n",
    "                  sigma=group_sigma[df[\"machine\"].cat.codes],\n",
    "                  observed=df[\"quality\"])\n",
    "    \n",
    "    y_M1_pred = pm.Normal('y_M1', mu=group_mu[0], sigma=group_sigma[0])\n",
    "    \n",
    "    trace_unpooled_with_pred_M1 = pm.sample(10_000, return_inferencedata=True)\n"
   ]
  },
  {
   "cell_type": "code",
   "execution_count": null,
   "metadata": {},
   "outputs": [
    {
     "data": {
      "text/html": [
       "<div>\n",
       "<style scoped>\n",
       "    .dataframe tbody tr th:only-of-type {\n",
       "        vertical-align: middle;\n",
       "    }\n",
       "\n",
       "    .dataframe tbody tr th {\n",
       "        vertical-align: top;\n",
       "    }\n",
       "\n",
       "    .dataframe thead th {\n",
       "        text-align: right;\n",
       "    }\n",
       "</style>\n",
       "<table border=\"1\" class=\"dataframe\">\n",
       "  <thead>\n",
       "    <tr style=\"text-align: right;\">\n",
       "      <th></th>\n",
       "      <th>mean</th>\n",
       "      <th>sd</th>\n",
       "      <th>hdi_3%</th>\n",
       "      <th>hdi_97%</th>\n",
       "      <th>mcse_mean</th>\n",
       "      <th>mcse_sd</th>\n",
       "      <th>ess_bulk</th>\n",
       "      <th>ess_tail</th>\n",
       "      <th>r_hat</th>\n",
       "    </tr>\n",
       "  </thead>\n",
       "  <tbody>\n",
       "    <tr>\n",
       "      <th>y_M1</th>\n",
       "      <td>78.721</td>\n",
       "      <td>25.269</td>\n",
       "      <td>32.292</td>\n",
       "      <td>128.777</td>\n",
       "      <td>0.131</td>\n",
       "      <td>0.097</td>\n",
       "      <td>39933.0</td>\n",
       "      <td>27643.0</td>\n",
       "      <td>1.0</td>\n",
       "    </tr>\n",
       "  </tbody>\n",
       "</table>\n",
       "</div>"
      ],
      "text/plain": [
       "        mean      sd  hdi_3%  hdi_97%  mcse_mean  mcse_sd  ess_bulk  ess_tail  \\\n",
       "y_M1  78.721  25.269  32.292  128.777      0.131    0.097   39933.0   27643.0   \n",
       "\n",
       "      r_hat  \n",
       "y_M1    1.0  "
      ]
     },
     "metadata": {},
     "output_type": "display_data"
    }
   ],
   "source": [
    "with model_unpooled_with_pred_M1:\n",
    "    display(az.summary(trace_unpooled_with_pred_M1, var_names=\"y_M1\"))"
   ]
  },
  {
   "cell_type": "code",
   "execution_count": null,
   "metadata": {},
   "outputs": [
    {
     "data": {
      "text/plain": [
       "(78.52682409754631, 25.164085773931166)"
      ]
     },
     "execution_count": 44,
     "metadata": {},
     "output_type": "execute_result"
    }
   ],
   "source": [
    "post_unpooled = az.extract(trace_unpooled.posterior)\n",
    "y_M1_pred = scipy.stats.norm.rvs(loc=post_unpooled.group_mu[0].values,\n",
    "                                 scale=post_unpooled.group_sigma[0].values)\n",
    "y_M1_pred.mean(), y_M1_pred.std() # similar to y_pred in the trace (note: there is randomness!)"
   ]
  }
 ],
 "metadata": {
  "kernelspec": {
   "display_name": "pymc_env",
   "language": "python",
   "name": "python3"
  },
  "language_info": {
   "codemirror_mode": {
    "name": "ipython",
    "version": 3
   },
   "file_extension": ".py",
   "mimetype": "text/x-python",
   "name": "python",
   "nbconvert_exporter": "python",
   "pygments_lexer": "ipython3",
   "version": "undefined.undefined.undefined"
  }
 },
 "nbformat": 4,
 "nbformat_minor": 4
}
