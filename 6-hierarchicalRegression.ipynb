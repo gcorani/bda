{
 "cells": [
  {
   "cell_type": "code",
   "execution_count": 1,
   "metadata": {
    "slideshow": {
     "slide_type": "skip"
    }
   },
   "outputs": [],
   "source": [
    "%matplotlib inline\n",
    "import pymc3 as pm\n",
    "import numpy as np\n",
    "import scipy.stats as stats\n",
    "import pandas as pd\n",
    "import matplotlib.pyplot as plt\n",
    "import arviz as az\n",
    "from IPython.display import display, Markdown\n",
    "import seaborn as sns; sns.set_context('notebook')\n",
    "import warnings\n",
    "warnings.simplefilter(\"ignore\")\n",
    "az.style.use('arviz-darkgrid')\n",
    "np.random.seed(44)\n"
   ]
  },
  {
   "cell_type": "code",
   "execution_count": 2,
   "metadata": {
    "slideshow": {
     "slide_type": "skip"
    }
   },
   "outputs": [],
   "source": [
    "plt.rcParams['font.size'] = 15\n",
    "plt.rcParams['legend.fontsize'] = 'medium'\n",
    "plt.rcParams.update({\n",
    "    \"figure.figsize\": [8, 4],\n",
    "    'figure.constrained_layout.use': True,\n",
    "    'font.size': 14.0,\n",
    "    'hist.bins': 'auto',\n",
    "    'lines.linewidth': 3.0,\n",
    "    'lines.markeredgewidth': 2.0,\n",
    "    'lines.markerfacecolor': 'none',\n",
    "    'lines.markersize': 8.0, \n",
    "})"
   ]
  },
  {
   "cell_type": "markdown",
   "metadata": {
    "slideshow": {
     "slide_type": "slide"
    }
   },
   "source": [
    "# Hierarchical linear regression\n",
    "\n",
    "\n",
    "Giorgio Corani <br/>\n",
    "*Bayesian Data Analysis and Probabilistic Programming*\n",
    "<br/>\n",
    "<br/>\n",
    "``giorgio.corani@supsi.ch``\n",
    "\n",
    "\n",
    "\n"
   ]
  },
  {
   "cell_type": "markdown",
   "metadata": {
    "slideshow": {
     "slide_type": "slide"
    }
   },
   "source": [
    "# Based on..\n",
    "\n",
    "*  Chris Fonnesbeck, <a href=\"https://github.com/fonnesbeck/bayes_course_july2020\">Bayesian Computing Course</a>\n",
    "*  O. Martin, *Bayesian analysis with Python*, Ch. 3"
   ]
  },
  {
   "cell_type": "markdown",
   "metadata": {
    "slideshow": {
     "slide_type": "slide"
    }
   },
   "source": [
    "# Hierarchical regression\n",
    "\n",
    "* Hierarchical  regression is  a generalization of linear regression, which allows the  parameters to **vary by group**.\n",
    "\n",
    "\n",
    "* This allows modelling observations which are  *grouped*  (also referred to as *clustered*). "
   ]
  },
  {
   "cell_type": "markdown",
   "metadata": {
    "slideshow": {
     "slide_type": "slide"
    }
   },
   "source": [
    "# Hierarchical (or multilevel) modeling\n",
    "\n",
    "A *hierarchical model* provides a compromise between:\n",
    "\n",
    "* the *pooled model*, which merges the observations from all clusters, fitting a single regression.  This might be  excessively constrained; \n",
    "\n",
    "\n",
    "* the *unpooled model*, which fits an independent regression for each cluster. Estimates are however unreliable on cluster containing few observations and there is no generalization to unobserved groups."
   ]
  },
  {
   "cell_type": "markdown",
   "metadata": {
    "slideshow": {
     "slide_type": "slide"
    }
   },
   "source": [
    "# The radon data set (Gelman et al., 2007)\n",
    "\n",
    "<img src='img/how_radon_enters.jpg' width=400 align=\"center\" >"
   ]
  },
  {
   "cell_type": "markdown",
   "metadata": {
    "slideshow": {
     "slide_type": "slide"
    }
   },
   "source": [
    "# The radon data set (Gelman et al., 2007)\n",
    "\n",
    "* The amount of the radioactive gas radon has been measured among different households in all counties of several states.\n",
    "\n",
    "\n",
    "* Radon gas is  the highest cause of lung cancer in non-smokers.\n",
    "\n",
    "\n",
    "\n",
    "* Its level is  generally higher in the basement; moreover, its presence depends on the  type of soil."
   ]
  },
  {
   "cell_type": "markdown",
   "metadata": {
    "slideshow": {
     "slide_type": "slide"
    }
   },
   "source": [
    "# Radon contamination in Minnesota\n",
    "\n",
    "* We will model radon levels in Minnesota. The state is divided in 85 different *counties*.\n",
    "\n",
    "\n",
    "* For each measure we know:\n",
    "    * the county\n",
    "    * the floor (basement or  first floor) \n",
    "    * average  uranium level in the county (positively correlated with radon)"
   ]
  },
  {
   "cell_type": "markdown",
   "metadata": {
    "slideshow": {
     "slide_type": "slide"
    }
   },
   "source": [
    "### Data organization"
   ]
  },
  {
   "cell_type": "code",
   "execution_count": 3,
   "metadata": {
    "slideshow": {
     "slide_type": "slide"
    }
   },
   "outputs": [],
   "source": [
    "# Import radon data, 919 rows\n",
    "#Eventually we have log_radon_std (Y), floor_std (X) and the \n",
    "#index of the county in which the measurement has been taken.\n",
    "\n",
    "radon_data = pd.read_csv('data/radon.csv', index_col=0)\n",
    "\n",
    "\n",
    "#list of  counties in Minnesota (J=85 different counties)\n",
    "counties      = radon_data.county.unique()\n",
    "n_counties = counties.shape[0] \n",
    "\n",
    "#numerical id of the county of each measure (919 rows)\n",
    "county               = radon_data.county_code.values\n",
    "#code and name of each county\n",
    "county_lookup = dict(zip(counties, np.arange(n_counties)))\n",
    "\n",
    "#explanatory variable: the floor: 0 (ground level) or 1 (first floor).\n",
    "#we standardize x to avoid correlation in the posterior.\n",
    "floor           = radon_data.floor.values\n",
    "floor_std   = (floor - floor.mean()) / floor.std()\n",
    "\n",
    "#y \n",
    "log_radon         = radon_data.log_radon.values\n",
    "#standardization of y is useful to set the prior without worrying about the scale of the data.\n",
    "log_radon_std = (log_radon - log_radon.mean()) / log_radon.std()"
   ]
  },
  {
   "cell_type": "code",
   "execution_count": 4,
   "metadata": {
    "slideshow": {
     "slide_type": "slide"
    }
   },
   "outputs": [
    {
     "data": {
      "image/png": "[encoded data removed]",
      "text/plain": [
       "<Figure size 800x400 with 1 Axes>"
      ]
     },
     "metadata": {},
     "output_type": "display_data"
    }
   ],
   "source": [
    "#Distribution of radon levels in MN (log scale):\n",
    "\n",
    "sns.histplot(log_radon);"
   ]
  },
  {
   "cell_type": "code",
   "execution_count": 5,
   "metadata": {
    "slideshow": {
     "slide_type": "slide"
    }
   },
   "outputs": [
    {
     "data": {
      "image/png": "[encoded data removed]",
      "text/plain": [
       "<Figure size 800x400 with 1 Axes>"
      ]
     },
     "metadata": {},
     "output_type": "display_data"
    }
   ],
   "source": [
    "#as floor takes only 0 and 1 as values, we have data organized into two columns \n",
    "#The radon level is higher in the basement (floor = 0) than in the first floor (floor = 1).\n",
    "sns.scatterplot(floor, log_radon);"
   ]
  },
  {
   "cell_type": "markdown",
   "metadata": {
    "slideshow": {
     "slide_type": "slide"
    }
   },
   "source": [
    "# Pooled regression\n",
    "\n",
    "A regression model which ignores the county:\n",
    "\n",
    "$$y_i \\sim N( \\alpha + \\beta x_i, \\sigma)$$\n",
    "\n",
    "\n",
    "* $y_i$: log-radon measured in the $i$-th household ($i$=1,2,...919)\n",
    "\n",
    "* $x_i$: floor of the measurement in the $i$-th household (1 or 0; 0 means basement)\n",
    "\n",
    "* $\\alpha$ : intercept.  (on  centered data, it represents the mean log-radon in Minnesota). \n"
   ]
  },
  {
   "cell_type": "markdown",
   "metadata": {
    "slideshow": {
     "slide_type": "slide"
    }
   },
   "source": [
    "# Pooled regression \n",
    "\n",
    "* We have no prior knowledge; we thus use   data-dependent priors. \n",
    "\n",
    "* Assuming standardized data ($\\sigma_y = 1, \\sigma_x =1$), the model is:\n",
    "\n",
    "\\begin{align}\n",
    "\\beta  & \\sim N (0,1)  && \\text{prior on the slope for standardized data} \\\\\n",
    "\\alpha &\\sim N(0,1) && \\text{prior on the intercept for standardized data} \\\\\n",
    "\\sigma &\\sim \\text{HalfNormal}(0,1) && \\text{prior on the dev std } \\\\\n",
    "y_i  &\\sim N( \\alpha + \\beta x_i,  \\sigma) && \\text{likelihood}\n",
    "\\end{align}"
   ]
  },
  {
   "cell_type": "markdown",
   "metadata": {
    "slideshow": {
     "slide_type": "slide"
    }
   },
   "source": [
    "# Unpooled regression \n",
    "\n",
    "\n",
    "$$y_i \\sim N( \\alpha_{j[i]} + \\beta x_i, \\sigma) $$\n",
    "\n",
    "* $\\alpha_{j[i]}$ : the intercept for the county where household $i$ is located (think of  $j$ as an array containing the county code for each measure)\n",
    "\n",
    "\n",
    "*  The intercept is independently estimated of  for each county\n"
   ]
  },
  {
   "cell_type": "markdown",
   "metadata": {
    "slideshow": {
     "slide_type": "slide"
    }
   },
   "source": [
    "# Unpooled regression\n",
    "\n",
    "\n",
    "$$y_i = \\alpha_{j[i]} + \\beta x_i + \\epsilon_i$$\n",
    "\n",
    "* The slope $\\beta$ is equal for all counties; we assume that the difference between floor and basement does not depend on the county.\n",
    "\n"
   ]
  },
  {
   "cell_type": "markdown",
   "metadata": {
    "slideshow": {
     "slide_type": "slide"
    }
   },
   "source": [
    "# Unpooled model\n",
    "\n",
    "Assuming standardized data we fit, independently for each of the 85 counties: \n",
    "\n",
    "\\begin{align}\n",
    "\\beta & \\sim N (0,1)  && \\text{prior on the slope} \\\\\n",
    "\\alpha_j &\\sim N(0,1) \\,\\, j=1,2..., 85&& \\text{prior on the intercept} \\\\\n",
    "\\sigma &\\sim \\text{HalfNormal}(0,1) && \\text{prior on the dev std} \\\\\n",
    "y_i  &\\sim N( \\alpha_{j[i]} + \\beta x_i,  \\sigma) && \\text{likelihood}\n",
    "\\end{align}"
   ]
  },
  {
   "cell_type": "markdown",
   "metadata": {
    "slideshow": {
     "slide_type": "slide"
    }
   },
   "source": [
    "# Discussion\n",
    "\n",
    "* Pooled model: we assume that all observations are samples from the same process,  ignoring the effect of the county.\n",
    "\n",
    "\n",
    "* Unpooled model: we learn from scratch every model, without transferring any information between models of the different counties."
   ]
  },
  {
   "cell_type": "markdown",
   "metadata": {
    "slideshow": {
     "slide_type": "slide"
    }
   },
   "source": [
    "# Implementation"
   ]
  },
  {
   "cell_type": "code",
   "execution_count": 6,
   "metadata": {
    "slideshow": {
     "slide_type": "slide"
    }
   },
   "outputs": [],
   "source": [
    "#pooled model\n",
    "\n",
    "with pm.Model() as pooled_model:\n",
    "\n",
    "    alpha = pm.Normal('alpha', mu=0,  sigma=1)\n",
    "    beta   = pm.Normal('beta', mu=0,  sigma=1)\n",
    "    sigma = pm.HalfNormal('sigma', 1)\n",
    "    \n",
    "    y = pm.Normal('y', alpha + beta*floor_std, sigma, observed=log_radon_std)\n",
    "    "
   ]
  },
  {
   "cell_type": "code",
   "execution_count": null,
   "metadata": {
    "scrolled": true,
    "slideshow": {
     "slide_type": "slide"
    }
   },
   "outputs": [
    {
     "name": "stderr",
     "output_type": "stream",
     "text": [
      "Auto-assigning NUTS sampler...\n",
      "Initializing NUTS using jitter+adapt_diag...\n",
      "Multiprocess sampling (4 chains in 4 jobs)\n",
      "NUTS: [sigma, beta, alpha]\n"
     ]
    }
   ],
   "source": [
    "with pooled_model:\n",
    "    pooled_trace = pm.sample(return_inferencedata=False)"
   ]
  },
  {
   "cell_type": "code",
   "execution_count": null,
   "metadata": {
    "scrolled": true,
    "slideshow": {
     "slide_type": "slide"
    }
   },
   "outputs": [],
   "source": [
    "    #standardization of x removes correlation in the posterior.\n",
    "with pooled_model:\n",
    "        az.plot_pair(pooled_trace);"
   ]
  },
  {
   "cell_type": "code",
   "execution_count": null,
   "metadata": {
    "slideshow": {
     "slide_type": "slide"
    }
   },
   "outputs": [],
   "source": [
    "# posterior mean of the parameters\n",
    "a_pooled =  pooled_trace['alpha'].mean(axis=0)\n",
    "b_pooled = pooled_trace['beta'].mean(axis=0)\n",
    "\n",
    "plt.scatter(floor_std, log_radon_std)\n",
    "xvals = np.linspace(-1, 2.5)\n",
    "plt.plot(xvals, b_pooled * xvals + a_pooled, 'r--')\n",
    "plt.xlabel('floor (standardized)')\n",
    "plt.ylabel('log_radon (standardized)');"
   ]
  },
  {
   "cell_type": "markdown",
   "metadata": {
    "slideshow": {
     "slide_type": "slide"
    }
   },
   "source": [
    "# Implementation of the unpooled model"
   ]
  },
  {
   "cell_type": "code",
   "execution_count": null,
   "metadata": {
    "slideshow": {
     "slide_type": "slide"
    }
   },
   "outputs": [],
   "source": [
    "with pm.Model() as unpooled_model:\n",
    "    # a different intercept for each county\n",
    "    alpha = pm.Normal('alpha', mu=0, sigma=1, shape=n_counties)\n",
    "\n",
    "    # the slope is the same for all counties\n",
    "    beta = pm.Normal('beta', mu=0, sigma=1)\n",
    "    σ   = pm.HalfNormal('σ', 1)\n",
    "    \n",
    "    #county is a vector containing the county index  for each measure.\n",
    "    mu = alpha[county] + beta *floor_std\n",
    "    \n",
    "    y = pm.Normal('y', mu, sigma=σ, observed=log_radon_std)\n",
    "    "
   ]
  },
  {
   "cell_type": "code",
   "execution_count": null,
   "metadata": {
    "slideshow": {
     "slide_type": "slide"
    }
   },
   "outputs": [],
   "source": [
    "with unpooled_model:\n",
    "    unpooled_trace = pm.sample(return_inferencedata=False)"
   ]
  },
  {
   "cell_type": "markdown",
   "metadata": {
    "slideshow": {
     "slide_type": "slide"
    }
   },
   "source": [
    "## Comparing the pooled and unpooled model"
   ]
  },
  {
   "cell_type": "code",
   "execution_count": null,
   "metadata": {
    "slideshow": {
     "slide_type": "slide"
    }
   },
   "outputs": [],
   "source": [
    "#The code below shows the pooled and unpooled model for some sample counties.\n",
    "sample_counties = ('LAC QUI PARLE', 'AITKIN', 'KOOCHICHING', 'DOUGLAS', 'CLAY', 'STEARNS', 'RAMSEY', 'ST LOUIS')\n",
    "fig, axes = plt.subplots(2, 4, figsize=(12, 6), sharey=True, sharex=True)\n",
    "axes = axes.ravel()\n",
    "\n",
    "#slope of the unpooled model (posterior mean)\n",
    "beta_unpooled = unpooled_trace['beta'].mean()\n",
    "# intercept of the unpooled model (posterior mean): an array, one element for each county.\n",
    "alpha_unpooled = pd.Series(unpooled_trace['alpha'].mean(axis=0), index=counties)\n",
    "\n",
    "for i,c in enumerate(sample_counties):\n",
    "    #select the subset of observation referring to the specific county\n",
    "    y = log_radon_std[radon_data.county==c]\n",
    "    x = floor_std[radon_data.county==c]\n",
    "    axes[i].scatter(x + np.random.randn(len(x))*0.01, y, alpha=0.4)\n",
    "    \n",
    "\n",
    "    # Plot both models and data\n",
    "    xvals = np.linspace(floor_std.min(), floor_std.max() )\n",
    "    # Unpooled model\n",
    "    axes[i].plot(xvals,  alpha_unpooled[c] + beta_unpooled * xvals,  label=\"unpooled\" )\n",
    "    axes[i].plot(xvals,  a_pooled + b_pooled * xvals, 'r--', label=\"pooled\")\n",
    "    axes[i].set_xticks([floor_std.min(), floor_std.max()])\n",
    "    axes[i].set_xticklabels(['basement', '1st floor'])\n",
    "    axes[i].set_ylim(-3 ,3)\n",
    "    axes[i].set_title(c)\n",
    "    if not i%2: axes[i].set_ylabel('log radon  (std_ed)')\n",
    "    axes[0].legend()\n",
    "\n",
    "plt.savefig('img/pooled_unpooled.png')"
   ]
  },
  {
   "cell_type": "markdown",
   "metadata": {
    "slideshow": {
     "slide_type": "slide"
    }
   },
   "source": [
    "<img src='img/pooled_unpooled.png' width=1000 align=\"center\" >\n",
    "\n",
    "* The pooled model (red) does not identify high-radon counties\n",
    "* The unpooled models (blue) yields extreme  estimates in counties where few observations are available,  like LAC QUI PARLE."
   ]
  },
  {
   "cell_type": "markdown",
   "metadata": {
    "slideshow": {
     "slide_type": "slide"
    }
   },
   "source": [
    "# Hierarchical regression\n",
    "\n",
    "\n",
    "* The hierarchical model  learns:\n",
    "    * for each county, it uses a different intercept \n",
    "    *  it learns  the characteristics of the  population prior from which all these intercepts are samples.\n",
    "\n",
    "* This a  *varying intercept* model.\n",
    "\n",
    "* The estimates for  counties with little data are pulled towards that of the pooled model."
   ]
  },
  {
   "cell_type": "markdown",
   "metadata": {
    "slideshow": {
     "slide_type": "slide"
    }
   },
   "source": [
    "# Hierarchical model (varying intercept model)\n",
    "\n",
    "\\begin{align}\n",
    "y_i  &\\sim N( \\alpha_{j[i]} + \\beta x_i,  \\sigma) && \\text{likelihood} \\\\\n",
    "\\beta & \\sim N (0,1)  && \\text{prior on the slope} \\\\\n",
    "\\sigma &\\sim \\text{HalfNormal}(0,1) && \\text{prior on the dev std} \\\\\n",
    "\\alpha_j &\\sim N(\\mu_{\\alpha}, \\sigma_{\\alpha}) \\,\\, j=1,2..., 85&& \\text{population of intercepts} \\\\\n",
    "\\mu_{\\alpha} &\\sim N(0,10)  && \\text{prior on the mean intercept} \\\\\n",
    "\\sigma_{\\alpha} &\\sim \\text{half-normal}(5) && \\text{prior on the std of intercepts}\\\\\n",
    "\\end{align}"
   ]
  },
  {
   "cell_type": "code",
   "execution_count": null,
   "metadata": {
    "slideshow": {
     "slide_type": "slide"
    }
   },
   "outputs": [],
   "source": [
    "with pm.Model() as hier_model:\n",
    "    \n",
    "    # Population of intercepts\n",
    "    μ_a = pm.Normal('μ_a', mu=0., sigma=10)\n",
    "    σ_a = pm.HalfNormal('σ_a', 5)\n",
    "    \n",
    "    # Intercepts draw from the population of intercepts\n",
    "    alpha = pm.Normal('alpha', mu=μ_a, sigma=σ_a, shape=n_counties)\n",
    "    \n",
    "    # Common slope\n",
    "    beta = pm.Normal('beta', mu=0, sigma=1)\n",
    "\n",
    "    # Expected value\n",
    "    y_hat = alpha[county] + beta * floor_std\n",
    "    \n",
    "    # Std dev control how much the observation deviated from the expected regression line\n",
    "    σ_y = pm.HalfCauchy('σ_y',1)\n",
    "    \n",
    "    \n",
    "    # Data likelihood\n",
    "    y_like = pm.Normal('y_like', mu=y_hat, sigma=σ_y, observed=log_radon_std)    "
   ]
  },
  {
   "cell_type": "code",
   "execution_count": null,
   "metadata": {
    "slideshow": {
     "slide_type": "slide"
    }
   },
   "outputs": [],
   "source": [
    "with hier_model:\n",
    "    hier_trace = pm.sample(return_inferencedata=False)"
   ]
  },
  {
   "cell_type": "markdown",
   "metadata": {
    "slideshow": {
     "slide_type": "slide"
    }
   },
   "source": [
    "## Partial pooling \n",
    "\n",
    "* The estimate of the hierarchical model is a compromise, based on sample size, between the pooled and unpooled model  (*partial pooling*):\n",
    "\n",
    "\n",
    "$$\\hat{\\alpha} \\approx \\frac{(n_j/\\sigma_y^2)\\bar{y}_j + (1/\\sigma_{\\alpha}^2)\\bar{y}}{(n_j/\\sigma_y^2) + (1/\\sigma_{\\alpha}^2)}$$\n",
    "\n",
    "* Estimates for counties with smaller sample sizes will shrink towards the state-wide average.\n",
    "\n",
    "* Estimates for counties with larger sample sizes will be closer to the unpooled county estimates."
   ]
  },
  {
   "cell_type": "code",
   "execution_count": null,
   "metadata": {
    "slideshow": {
     "slide_type": "slide"
    }
   },
   "outputs": [],
   "source": [
    "#the code below compare the estimates provided by the pooled, unpooled and hierarchical model\n",
    "fig, axes = plt.subplots(2, 4, figsize=(12, 6), sharey=True, sharex=True)\n",
    "axes = axes.ravel()\n",
    "\n",
    "#slope of the hier model (posterior mean)\n",
    "beta_hier = hier_trace['beta'].mean()\n",
    "# intercept of the hier model (posterior mean): an array, one element for each county.\n",
    "alpha_hier = pd.Series(hier_trace['alpha'].mean(axis=0), index=counties)\n",
    "\n",
    "\n",
    "for i,c in enumerate(sample_counties):\n",
    "    \n",
    "    # Plot county data\n",
    "    y = log_radon_std[radon_data.county==c]\n",
    "    x = floor_std[radon_data.county==c]\n",
    "    axes[i].scatter(x + np.random.randn(len(x))*0.01, y, alpha=0.4)\n",
    "\n",
    "    \n",
    "    xvals = np.linspace(floor_std.min(), floor_std.max() )\n",
    "    # Unpooled model\n",
    "    axes[i].plot(xvals,  alpha_unpooled[county_lookup[c]] + beta_unpooled * xvals,  label=\"unpooled\" )\n",
    "    # Pooled model\n",
    "    axes[i].plot(xvals,  a_pooled + b_pooled * xvals, 'r--', label=\"pooled\")\n",
    "    # Hierarchical model\n",
    "    axes[i].plot(xvals,  alpha_hier[county_lookup[c]] + beta_hier * xvals,  label=\"hierarchical\" )\n",
    "    #axes[i].plot(xvals, mp*xvals+ beta_hier[county_lookup[c]], 'k:')\n",
    "    \n",
    "    axes[i].set_xticks([floor_std.min(), floor_std.max()])\n",
    "    axes[i].set_xticklabels(['basement', '1st floor'])\n",
    "    axes[i].set_ylim(-3 ,3)\n",
    "    axes[i].set_title(c)\n",
    "    if not i%2: axes[i].set_ylabel('log radon  (std_ed)')\n",
    "    axes[0].legend()\n",
    "\n",
    "plt.savefig('img/pooled_unpooled_hier.png') "
   ]
  },
  {
   "cell_type": "markdown",
   "metadata": {
    "slideshow": {
     "slide_type": "slide"
    }
   },
   "source": [
    "#  The hierarchical model is a sensible compromise \n",
    "\n",
    "<img src='img/pooled_unpooled_hier.png' width=900 align=\"center\" >\n",
    "\n",
    "* On data-rich counties, it close to the unpooled model.\n",
    "\n",
    "* On data-poor counties, it is close to the pooled model."
   ]
  },
  {
   "cell_type": "code",
   "execution_count": null,
   "metadata": {
    "scrolled": true,
    "slideshow": {
     "slide_type": "slide"
    }
   },
   "outputs": [],
   "source": [
    "#the code below shows the amount of shrinkage (i.e, how much the unpooled estimate is pulled towards the global mean (pooled estimated)), \n",
    "# as a function of n_j, the number of observations available for each county.\n",
    "sample_trace = hier_trace['alpha']\n",
    "\n",
    "fig, axes = plt.subplots(1, 2, figsize=(14,6), sharex=True, sharey=True)\n",
    "n_samples, n_counties = sample_trace.shape\n",
    "jitter = np.random.normal(scale=0.1, size=n_counties)\n",
    "\n",
    "n_county = radon_data.groupby('county')['county_code'].count()\n",
    "unpooled_means = radon_data.groupby('county')['log_radon'].mean()\n",
    "unpooled_sd = radon_data.groupby('county')['log_radon'].std()\n",
    "unpooled = pd.DataFrame({'n':n_county, 'm':unpooled_means, 'sd':unpooled_sd})\n",
    "unpooled['se'] = unpooled.sd/np.sqrt(unpooled.n)\n",
    "\n",
    "axes[0].plot(unpooled.n + jitter, unpooled.m, 'b.')\n",
    "for j, row in zip(jitter, unpooled.iterrows()):\n",
    "    name, dat = row\n",
    "    axes[0].plot([dat.n+j,dat.n+j], [dat.m-dat.se, dat.m+dat.se], 'b-')\n",
    "axes[0].set_xscale('log')\n",
    "axes[0].hlines(sample_trace.mean(), 0.9, 100, linestyles='--')\n",
    "axes[0].set_title(\"Unpooled\")\n",
    "        \n",
    "n_samples, n_counties = sample_trace.shape\n",
    "means = sample_trace.mean(axis=0)\n",
    "sd = sample_trace.std(axis=0)\n",
    "axes[1].scatter(n_county.values + jitter, means)\n",
    "axes[1].set_xscale('log')\n",
    "axes[1].set_xlim(1,100)\n",
    "axes[1].set_ylim(-3, 3)\n",
    "axes[1].hlines(sample_trace.mean(), 0.9, 100, linestyles='--')\n",
    "axes[1].set_title(\"Hierarchical\")\n",
    "for j,n,m,s in zip(jitter, n_county.values, means, sd):\n",
    "    axes[1].plot([n+j]*2, [m-s, m+s], 'b-');\n",
    "    \n",
    "plt.savefig('img/shrinkage.png')"
   ]
  },
  {
   "cell_type": "markdown",
   "metadata": {
    "slideshow": {
     "slide_type": "skip"
    }
   },
   "source": [
    "\n",
    "<img src='img/shrinkage.png' width=900 align=\"center\" >\n",
    "\n",
    "* For small sample sizes the estimates of the unpooled model are both more extreme and more uncertain compared to the hierarchical model.\n",
    "\n",
    "\n",
    "* The estimates of the hierarchical model are smoothed towards the mean of the population and less uncertain."
   ]
  },
  {
   "cell_type": "markdown",
   "metadata": {
    "slideshow": {
     "slide_type": "slide"
    }
   },
   "source": [
    "# Ranking models according to WAIC\n",
    "\n",
    "* WAIC is a model selection criterion for Bayesian models.\n",
    "\n"
   ]
  },
  {
   "cell_type": "code",
   "execution_count": null,
   "metadata": {
    "scrolled": true,
    "slideshow": {
     "slide_type": "slide"
    }
   },
   "outputs": [],
   "source": [
    "# the hierarchical model is ranked first\n",
    "az.waic (pooled_trace)\n",
    "az.compare({'pooled':pooled_trace, 'unpooled': unpooled_trace,  'hierarchical':hier_trace}, ic='waic')"
   ]
  },
  {
   "cell_type": "markdown",
   "metadata": {
    "slideshow": {
     "slide_type": "slide"
    }
   },
   "source": [
    "# Prediction\n",
    "\n",
    "Gelman (2006) used cross-validation tests to check the prediction error of the unpooled, pooled, and partially-pooled models\n",
    "\n",
    "**root mean squared cross-validation prediction errors**:\n",
    "\n",
    "* unpooled = 0.86\n",
    "* pooled = 0.84\n",
    "* multilevel = 0.79\n",
    "\n",
    "There are two types of prediction that can be made in a multilevel model:\n",
    "\n",
    "1. a new individual within an existing group\n",
    "2. a new individual within a new group\n",
    "\n"
   ]
  },
  {
   "cell_type": "markdown",
   "metadata": {
    "slideshow": {
     "slide_type": "slide"
    }
   },
   "source": [
    "# Your turn: compute predictive distributions\n",
    "\n",
    "* Compute the predictive distribution for a measurement taken in the basement in the  'LAC QUI PARLE' county,  using the unpooled and the hierarchical model.\n",
    "\n",
    "* Compute the predictive distribution for a measurement taken in the basement in a county not included in our sample  "
   ]
  },
  {
   "cell_type": "markdown",
   "metadata": {
    "slideshow": {
     "slide_type": "slide"
    }
   },
   "source": [
    "# Solutions"
   ]
  },
  {
   "cell_type": "code",
   "execution_count": null,
   "metadata": {},
   "outputs": [],
   "source": [
    "floor_std"
   ]
  },
  {
   "cell_type": "code",
   "execution_count": null,
   "metadata": {},
   "outputs": [],
   "source": []
  }
 ],
 "metadata": {
  "celltoolbar": "Slideshow",
  "kernelspec": {
   "display_name": "Python 3 (ipykernel)",
   "language": "python",
   "name": "python3"
  },
  "language_info": {
   "codemirror_mode": {
    "name": "ipython",
    "version": 3
   },
   "file_extension": ".py",
   "mimetype": "text/x-python",
   "name": "python",
   "nbconvert_exporter": "python",
   "pygments_lexer": "ipython3",
   "version": "3.9.13"
  },
  "latex_envs": {
   "bibliofile": "biblio.bib",
   "cite_by": "apalike",
   "current_citInitial": 1,
   "eqLabelWithNumbers": true,
   "eqNumInitial": 0
  }
 },
 "nbformat": 4,
 "nbformat_minor": 4
}
