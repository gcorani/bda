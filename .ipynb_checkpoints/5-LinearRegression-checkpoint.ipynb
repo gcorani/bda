{
 "cells": [
  {
   "cell_type": "code",
   "execution_count": 1,
   "metadata": {
    "slideshow": {
     "slide_type": "skip"
    }
   },
   "outputs": [],
   "source": [
    "%matplotlib inline\n",
    "import pymc3 as pm\n",
    "import numpy as np\n",
    "import scipy.stats as stats\n",
    "import pandas as pd\n",
    "import matplotlib.pyplot as plt\n",
    "import arviz as az\n",
    "import seaborn as sns\n",
    "from IPython.display import display, Markdown\n",
    "az.style.use('arviz-darkgrid')\n",
    "np.random.seed(44)\n"
   ]
  },
  {
   "cell_type": "code",
   "execution_count": 2,
   "metadata": {
    "slideshow": {
     "slide_type": "skip"
    }
   },
   "outputs": [],
   "source": [
    "import seaborn as sns\n",
    "sns.set_theme()\n",
    "plt.rcParams['font.size'] = 15\n",
    "plt.rcParams['legend.fontsize'] = 'medium'\n",
    "plt.rcParams.update({\n",
    "    \"figure.figsize\": [8, 4],\n",
    "    'figure.facecolor': '#fffff8',\n",
    "    'axes.facecolor': '#fffff8',\n",
    "    'figure.constrained_layout.use': True,\n",
    "    'font.size': 14.0,\n",
    "    'hist.bins': 'auto',\n",
    "    'lines.linewidth': 3.0,\n",
    "    'lines.markeredgewidth': 2.0,\n",
    "    'lines.markerfacecolor': 'none',\n",
    "    'lines.markersize': 8.0, \n",
    "})\n",
    "sns.set(rc={'figure.figsize':(8,4)})"
   ]
  },
  {
   "cell_type": "markdown",
   "metadata": {
    "slideshow": {
     "slide_type": "slide"
    }
   },
   "source": [
    "# Linear regression\n",
    "\n",
    "\n",
    "Giorgio Corani <br/>\n",
    "*Bayesian Data Analysis and Probabilistic Programming*\n",
    "<br/>\n",
    "<br/>\n",
    "``giorgio.corani@supsi.ch``\n",
    "\n",
    "\n",
    "\n"
   ]
  },
  {
   "cell_type": "markdown",
   "metadata": {
    "slideshow": {
     "slide_type": "slide"
    }
   },
   "source": [
    "# Outline\n",
    "* Traditional linear regression\n",
    "* Probabilistic linear regression\n",
    "* Robust linear regression"
   ]
  },
  {
   "cell_type": "markdown",
   "metadata": {
    "slideshow": {
     "slide_type": "slide"
    }
   },
   "source": [
    "# Credits \n",
    "\n",
    "\n",
    "*  Mostly based on Chapter 3 of O. Martin, *Bayesian Analysis with Python, Second Edition*.\n",
    "\n",
    "* The discussion of traditional linear regression is based on Sec 5.1 ( <a href=\"https://otexts.com/fpp2/regression-intro.html\">https://otexts.com/fpp2/regression-intro.html</a>) of the online book <a href=\"https://otexts.com/fpp2/\"> Forecasting: Principles and Practice </a> by Rob J Hyndman and George Athanasopoulos\n",
    "\n",
    "*  NOtebook by G. Corani"
   ]
  },
  {
   "cell_type": "markdown",
   "metadata": {
    "slideshow": {
     "slide_type": "slide"
    }
   },
   "source": [
    "# Linear regression\n",
    "\n",
    "* Suppose we have a variable $x$ and we want to predict $y$. \n",
    "* We have paired observations $\\{(x_1,y_1), (x_2,y_2), (x_3,y_3),\\dots (x_n,y_n)\\}$. \n",
    "*  $y$ is the *dependent* (or  *response*) variable\n",
    "*  $x$  is the *independent*  (or *explanatory*  or *covariate*)  variable\n",
    "\n"
   ]
  },
  {
   "cell_type": "markdown",
   "metadata": {
    "slideshow": {
     "slide_type": "slide"
    }
   },
   "source": [
    "# Simple linear regression\n",
    "\n",
    "$$y_i = \\alpha + x_i \\beta  + \\epsilon_i$$\n",
    "\n",
    "\n",
    "* $y_i$ and $x_i$ denote the observation of $x$ and $y$ in the $i$-th row of data.\n",
    "\n",
    "* $\\beta$ (*slope*): average predicted change in $y$  for a unit change in  $x$. \n",
    "\n",
    "* $\\alpha$ (*intercept*):  predicted value of $y$ for $x$ = 0.\n",
    "\n",
    "* $\\epsilon_i$ is a noise affecting the $i$-th observation, so that  the observations do not lie on the straight line but are scattered around it. "
   ]
  },
  {
   "cell_type": "markdown",
   "metadata": {
    "slideshow": {
     "slide_type": "slide"
    }
   },
   "source": [
    "# Simple linear regression\n",
    "\n",
    "<img src='img/linreg.png' width=600 align=\"center\" > \n",
    "\n",
    "$$y_i = \\alpha + x_i \\beta  + \\epsilon_i$$\n",
    "\n",
    "\n",
    "*   The noise term $\\epsilon_i$ implies a deviation from the  linear model. It captures anything that may affect $y_i$ other than $x_i$."
   ]
  },
  {
   "cell_type": "markdown",
   "metadata": {
    "slideshow": {
     "slide_type": "slide"
    }
   },
   "source": [
    "# Assumptions about  $\\epsilon$\n",
    "\n",
    "We assume the noise $\\epsilon$ :\n",
    "\n",
    "*  to have mean zero; otherwise the prediction will be systematically biased;\n",
    "*  to be  normally distributed with  variance $\\sigma^2_{\\epsilon}$;\n",
    "*   to be independent from the value of $y$.\n",
    "\n",
    "Thus, we assume $\\epsilon_i \\sim N(0, \\sigma^2_{\\epsilon})$."
   ]
  },
  {
   "cell_type": "markdown",
   "metadata": {
    "slideshow": {
     "slide_type": "slide"
    }
   },
   "source": [
    "# Multiple linear regression\n",
    "\n",
    "* Linear regression with $k$ explanatory variables:\n",
    "\n",
    "\\begin{align}\n",
    " y_i= \\alpha+ β_1 x_{i,1} t + β_2 x_{i,2}  +⋯+\\beta_{i,k} +ε_i,\n",
    "\\end{align}\n",
    "\n",
    "* $x_{i,j}$: observation of the $j$-th explanatory variable in the $i$-th row of data\n",
    "\n",
    "* The coefficients $\\beta_1,…,\\beta_k$ measure the effect of each predictor after taking into account the effects of all the other predictors in the model.\n",
    "\n",
    "* They measure the *marginal effects* of each  explanatory variable."
   ]
  },
  {
   "cell_type": "markdown",
   "metadata": {
    "slideshow": {
     "slide_type": "slide"
    }
   },
   "source": [
    "# Traditional estimation"
   ]
  },
  {
   "cell_type": "markdown",
   "metadata": {
    "slideshow": {
     "slide_type": "slide"
    }
   },
   "source": [
    "# Least square estimation for simple regression\n",
    "\n",
    "* We need to estimate from data the coefficients $\\alpha, \\beta$.\n",
    "\n",
    "*  The estimated coefficients are referred to as  $\\hat{\\alpha}, \\hat{\\beta}$.\n",
    "\n",
    "* We do so  by minimising the sum of the squared errors: \n",
    "\n",
    "\\begin{align}\n",
    "\\hat{\\alpha}, \\hat{\\beta} & = \\arg \\min    \\sum_{i=1}^{n} e_i^2\\\\\n",
    "& =    \\arg \\min  \\sum_{i=1}^{n} (y_i - \\hat{y}_i)^2  =\\\\\n",
    "& =    \\arg \\min  \\sum_{i=1}^{n}   \\left(y_i− \\hat{\\alpha}− \\hat{\\beta} x_{i}\\right)^2.\n",
    "\\end{align}\n",
    "\n",
    "\n",
    "\n",
    "\n"
   ]
  },
  {
   "cell_type": "markdown",
   "metadata": {
    "slideshow": {
     "slide_type": "slide"
    }
   },
   "source": [
    "# residuals vs $\\epsilon_i$\n",
    "\n",
    "* The $e_i$'s are called residuals:\n",
    "$$e_i = y_i  - \\hat{y}_i$$\n",
    "\n",
    "* Each $e_i$ is the difference between the observation and the expected value of $y$.\n",
    "\n",
    "* Thus $e_i$ is an estimate of $\\epsilon_i$, in the same way that $\\hat{b}$ is an estimate of $\\beta$\n"
   ]
  },
  {
   "cell_type": "markdown",
   "metadata": {
    "slideshow": {
     "slide_type": "slide"
    }
   },
   "source": [
    "# Estimated slope\n",
    "For simple linear regression the estimate of the slope  is:\n",
    "    $$\\hat{\\beta} = R \\frac{s_y}{s_x}$$\n",
    "  where \n",
    "  * R is the correlation $\\operatorname{Cor}(X,Y)$\n",
    "  * $s_y$ and $s_x$ are the standard deviation of $X$ and $Y$ measured on the sample\n",
    "    \n",
    "* Higher correlation results in higher slope.\n",
    "* The term $\\frac{s_y}{s_x}$ converts between the different units of measurements of $X$ and $Y$.\n",
    " "
   ]
  },
  {
   "cell_type": "markdown",
   "metadata": {
    "slideshow": {
     "slide_type": "slide"
    }
   },
   "source": [
    "# Estimated intercept \n",
    "* The least-squares line passes through ($\\bar{x},\\bar{y}$):\n",
    "    * $\\bar{x}$: mean of $x$ in the sample\n",
    "    * $\\bar{y}$: mean of $y$ in the sample\n",
    "    \n",
    "* The estimate of the intercept  is thus:\n",
    "\n",
    "\n",
    "\\begin{align}\n",
    "     \\bar{y} & = \\hat{\\alpha} + \\hat{\\beta} \\bar{x} \\\\\n",
    "      \\hat{\\beta} & = R \\frac{s_y}{s_x} \\\\\n",
    "      \\hat{\\alpha}  &= \\bar{y} - R \\frac{s_y}{s_x} \\bar{x} \\\\\n",
    "\\end{align}\n",
    "  \n",
    "\n",
    "\n",
    "\n",
    "\n"
   ]
  },
  {
   "cell_type": "markdown",
   "metadata": {
    "slideshow": {
     "slide_type": "slide"
    }
   },
   "source": [
    "# Point prediction\n",
    "\n",
    "* The prediction of $y$ is denoted by $\\hat{y}$. It is computed by:\n",
    "    * using the estimates  $\\hat{\\alpha}, \\hat{\\beta_1},…,\\hat{\\beta_k}$ in  the regression equation \n",
    "    * setting the error term to zero, since $E[\\epsilon]=0$.\n",
    "\\begin{align}\n",
    " \\hat{y}_i= \\hat{\\alpha} + \\hat{\\beta}_1 x_{1,i} + \\hat{\\beta}_2 x_{2,i} +⋯+\\hat{\\beta}_k x_{k,i}\n",
    " \\end{align}\n",
    " \n",
    "* The prediction relies on single estimate (*point estimate*) of the parameters. \n",
    "* Relying on point estimates  might lead to overfitting: alternative parameter values might be plausible but they are ignored.\n",
    "* Solution: account  for parameter uncertainty in the predictions (see later).\n"
   ]
  },
  {
   "cell_type": "markdown",
   "metadata": {
    "slideshow": {
     "slide_type": "slide"
    }
   },
   "source": [
    "# Linear regression in sklearn"
   ]
  },
  {
   "cell_type": "markdown",
   "metadata": {
    "slideshow": {
     "slide_type": "slide"
    }
   },
   "source": [
    "# Generating the data\n",
    "\n",
    "* We generate $x$ by random sampling.\n",
    "* We generate  the observations corrupted by  noise as  $y_i = \\alpha + \\beta x_i + \\epsilon$\n",
    "* We then plot both the  model ($y = \\alpha + \\beta x$) and the observations corrupted by noise."
   ]
  },
  {
   "cell_type": "code",
   "execution_count": 20,
   "metadata": {
    "slideshow": {
     "slide_type": "slide"
    }
   },
   "outputs": [
    {
     "data": {
      "image/png": "[encoded data removed]",
      "text/plain": [
       "<Figure size 800x400 with 1 Axes>"
      ]
     },
     "metadata": {},
     "output_type": "display_data"
    }
   ],
   "source": [
    "np.random.seed(1)\n",
    "N = 15\n",
    "\n",
    "#real parameters have a final '0' in their names.\n",
    "alpha0  = 2.5\n",
    "beta0   = 3\n",
    "eps0    = np.random.normal(0, 1, size=N)\n",
    "\n",
    "# the x are generared according to N(mean=10, sigma=2)\n",
    "x       = np.random.normal(10, 2, N)\n",
    "y       = alpha0 + beta0 * x \n",
    "y_obs   = y + eps0\n",
    "\n",
    "\n",
    "fig = plt.figure(figsize=(8, 4))\n",
    "ax  = plt.axes()\n",
    "\n",
    "#plot noisy observations\n",
    "ax.plot(x, y_obs, 'C0.')\n",
    "ax.set_xlabel('x')\n",
    "ax.set_ylabel('y', rotation=0) \n",
    "\n",
    "#plot the actual model\n",
    "ax.plot(x, y, 'k'); "
   ]
  },
  {
   "cell_type": "markdown",
   "metadata": {
    "slideshow": {
     "slide_type": "slide"
    }
   },
   "source": [
    "# Fitting linear regression on the data"
   ]
  },
  {
   "cell_type": "code",
   "execution_count": 23,
   "metadata": {
    "slideshow": {
     "slide_type": "slide"
    }
   },
   "outputs": [
    {
     "name": "stdout",
     "output_type": "stream",
     "text": [
      "Estimated intercept: \n",
      " 0.52\n",
      "Estimation  error: \n",
      " 1.98\n",
      "\n",
      "\n",
      "Estimated beta: \n",
      " [3.19]\n",
      "Estimation  error: \n",
      " [0.19]\n"
     ]
    },
    {
     "data": {
      "image/png": "[encoded data removed]",
      "text/plain": [
       "<Figure size 800x400 with 1 Axes>"
      ]
     },
     "metadata": {},
     "output_type": "display_data"
    }
   ],
   "source": [
    "from sklearn import  linear_model\n",
    "\n",
    "# Create linear regression object\n",
    "regr = linear_model.LinearRegression()\n",
    "\n",
    "# Train the model using all observations\n",
    "#We need to reshape x to feed the model\n",
    "regr.fit(x.reshape(-1,1), y_obs)\n",
    "y_pred = regr.predict(x.reshape(-1,1))\n",
    "\n",
    "\n",
    "# print the coefficients\n",
    "print(\"Estimated intercept: \\n\",  np.round(regr.intercept_,2))\n",
    "print(\"Estimation  error: \\n\",  np.round(np.abs(regr.intercept_ - alpha0),2))\n",
    "print(\"\\n\" )\n",
    "print(\"Estimated beta: \\n\",  np.round(regr.coef_,2))\n",
    "print(\"Estimation  error: \\n\",  np.round(np.abs(regr.coef_ - beta0),2))\n",
    "\n",
    "plt.figure(figsize=(8, 4))\n",
    "plt.scatter(x, y_obs, color=\"blue\", label='obs')\n",
    "plt.plot(x, y_pred, color=\"orange\", linewidth=3, linestyle='dashed', label='estimated regression');\n",
    "plt.plot(x, y, color=\"black\", linewidth=3, linestyle='solid', label='actual regression')\n",
    "plt.legend();"
   ]
  },
  {
   "cell_type": "markdown",
   "metadata": {
    "slideshow": {
     "slide_type": "slide"
    }
   },
   "source": [
    "# Shortcoming of least squares fitting\n",
    "\n",
    "* The least square estimate, being based on the squared error, is  sensive to outliers.\n",
    "* Moreover, it is important to account for the uncertainty of the parameter estimates when computing the predictions.\n",
    "* What if we have related data sets, i.e., data collected from different hospitals about the same disease?\n",
    "\n",
    "* We will see how the probabilistic approach to regression addresses  such problems."
   ]
  },
  {
   "cell_type": "markdown",
   "metadata": {
    "slideshow": {
     "slide_type": "slide"
    }
   },
   "source": [
    "# Probabilistic approach to linear regression\n"
   ]
  },
  {
   "cell_type": "markdown",
   "metadata": {
    "slideshow": {
     "slide_type": "slide"
    }
   },
   "source": [
    "\n",
    "$$y \\sim \\mathcal{N}(\\mu=\\alpha + x \\beta, \\epsilon)$$\n",
    "\n",
    "$y_i$ is a Gaussian  variable with:\n",
    "* mean $\\alpha + x_i \\beta$ \n",
    "* standard deviation $\\sigma_{\\epsilon}$.  \n",
    "\n",
    "A linear regression is a Gaussian model whose mean is a linear function of the covariates."
   ]
  },
  {
   "cell_type": "markdown",
   "metadata": {
    "slideshow": {
     "slide_type": "slide"
    }
   },
   "source": [
    "# Priors\n",
    "\n",
    "* The parameters of the model are  $\\alpha$, $\\beta$ and $\\epsilon$. \n",
    "\n",
    "* We have to assign priors to them.\n",
    "\n",
    "* A possible choice  priors is to assign Gaussian priors to $\\alpha$ and $\\beta$, and half-normal prior to $\\sigma_{\\epsilon}$:\n",
    "$$\n",
    "\\alpha \\sim \\mathcal{N}(\\mu_\\alpha, \\sigma_\\alpha) \\\\\n",
    "\\beta \\sim \\mathcal{N}(\\mu_\\beta, \\sigma_\\beta) \\\\\n",
    "\\epsilon \\sim |{N}(0, \\sigma_\\epsilon)| \n",
    "$$"
   ]
  },
  {
   "cell_type": "markdown",
   "metadata": {
    "slideshow": {
     "slide_type": "slide"
    }
   },
   "source": [
    "\n",
    "# Priors\n",
    "\n",
    "* In general  we do not have a very clear idea about what the  value of the parameters. \n",
    "\n",
    "* We thus set  priors which are large compared to the scale of the data.\n",
    "\n",
    "* Using standardized data simplify this choice."
   ]
  },
  {
   "cell_type": "markdown",
   "metadata": {
    "slideshow": {
     "slide_type": "slide"
    }
   },
   "source": [
    "# Kruschke's diagram \n",
    "\n",
    "<img src='img/diagram-lin-reg.png' width=500 align=\"center\" >\n",
    "\n",
    "* The symbol '~' defines parameters ($\\alpha, \\beta, \\sigma_{\\epsilon}$)\n",
    "* The symbol  '='  defines deterministic variables such as  $\\mu$ \n"
   ]
  },
  {
   "cell_type": "markdown",
   "metadata": {
    "slideshow": {
     "slide_type": "slide"
    }
   },
   "source": [
    "\n",
    "# Weakly informative priors\n",
    "\n",
    "Intercept:\n",
    "* $\\mu_\\alpha$=0\n",
    "* $\\sigma_\\alpha$ = 10 $\\sigma_y$ \n",
    "\n",
    "Slope\n",
    "* $\\mu_\\beta$=0\n",
    "* $\\sigma_\\beta$ = 10 $\\sigma_y$ \n",
    "\n",
    "Noise\n",
    "* $\\sigma_\\epsilon$ = 10 $\\sigma_y$ \n"
   ]
  },
  {
   "cell_type": "markdown",
   "metadata": {
    "slideshow": {
     "slide_type": "slide"
    }
   },
   "source": [
    "# Linear regression in PyMC3"
   ]
  },
  {
   "cell_type": "markdown",
   "metadata": {},
   "source": [
    "# following model does not sample!!"
   ]
  },
  {
   "cell_type": "code",
   "execution_count": null,
   "metadata": {
    "slideshow": {
     "slide_type": "slide"
    }
   },
   "outputs": [
    {
     "name": "stderr",
     "output_type": "stream",
     "text": [
      "Auto-assigning NUTS sampler...\n",
      "Initializing NUTS using jitter+adapt_diag...\n",
      "Multiprocess sampling (4 chains in 4 jobs)\n",
      "NUTS: [sigma_eps, beta, alpha]\n"
     ]
    },
    {
     "data": {
      "text/html": [
       "\n",
       "<style>\n",
       "    /* Turns off some styling */\n",
       "    progress {\n",
       "        /* gets rid of default border in Firefox and Opera. */\n",
       "        border: none;\n",
       "        /* Needs to be in here for Safari polyfill so background images work as expected. */\n",
       "        background-size: auto;\n",
       "    }\n",
       "    .progress-bar-interrupted, .progress-bar-interrupted::-webkit-progress-bar {\n",
       "        background: #F44336;\n",
       "    }\n",
       "</style>\n"
      ],
      "text/plain": [
       "<IPython.core.display.HTML object>"
      ]
     },
     "metadata": {},
     "output_type": "display_data"
    },
    {
     "data": {
      "text/html": [
       "\n",
       "    <div>\n",
       "      <progress value='1705' class='' max='8000' style='width:300px; height:20px; vertical-align: middle;'></progress>\n",
       "      21.31% [1705/8000 00:01<00:06 Sampling 4 chains, 0 divergences]\n",
       "    </div>\n",
       "    "
      ],
      "text/plain": [
       "<IPython.core.display.HTML object>"
      ]
     },
     "metadata": {},
     "output_type": "display_data"
    }
   ],
   "source": [
    "with pm.Model() as reg_model:\n",
    "    #priors on coefficients\n",
    "    alpha = pm.Normal ('alpha', mu=0,  sd=y.std())\n",
    "    beta   = pm.Normal ('beta',    mu=0,  sd=y.std())\n",
    "    \n",
    "    #The prior on sigma_eps allows the parameter to practically vary  between 0 and  3*sigma_y. \n",
    "    #This is indeed a wide range, since the variance of the noise is generally smaller than sigma_y.\n",
    "    sigma_eps = pm.HalfNormal ('sigma_eps', sd= y.std())\n",
    "    \n",
    "    # mu  is expressed  as a deterministic variable; in this way PyMC3 saves  its values   in the trace.\n",
    "    # this is heplful if we want to inspect our uncertainty about the estimated regression line, as we will do later.\n",
    "    mu = pm.Deterministic('mu', alpha + beta * x)\n",
    "    \n",
    "   #alternative formulation, which does not save mu in the trace\n",
    "    #y_pred = pm.Normal('y_pred', mu= α + β * x, sd=ε, observed=y)\n",
    "  \n",
    "    #this is the likelihood (observation model)\n",
    "    y_pred = pm.Normal('y_pred', mu=mu, sd=sigma_eps, observed=y_obs)\n",
    "    \n",
    "    trace_g = pm.sample(return_inferencedata=True)"
   ]
  },
  {
   "cell_type": "markdown",
   "metadata": {
    "slideshow": {
     "slide_type": "slide"
    }
   },
   "source": [
    "# Discussion\n",
    "* Some warnings are returned.\n",
    "* To explore the results of our inference, we are  generate a trace plot, omitting the deterministic variable. \n",
    "* We  do so by passing the names of the variables we want to include in the plot, using  the 'var_names' argument."
   ]
  },
  {
   "cell_type": "code",
   "execution_count": 14,
   "metadata": {
    "slideshow": {
     "slide_type": "slide"
    }
   },
   "outputs": [
    {
     "data": {
      "text/html": [
       "<div>\n",
       "<style scoped>\n",
       "    .dataframe tbody tr th:only-of-type {\n",
       "        vertical-align: middle;\n",
       "    }\n",
       "\n",
       "    .dataframe tbody tr th {\n",
       "        vertical-align: top;\n",
       "    }\n",
       "\n",
       "    .dataframe thead th {\n",
       "        text-align: right;\n",
       "    }\n",
       "</style>\n",
       "<table border=\"1\" class=\"dataframe\">\n",
       "  <thead>\n",
       "    <tr style=\"text-align: right;\">\n",
       "      <th></th>\n",
       "      <th>mean</th>\n",
       "      <th>sd</th>\n",
       "      <th>hdi_3%</th>\n",
       "      <th>hdi_97%</th>\n",
       "      <th>mcse_mean</th>\n",
       "      <th>mcse_sd</th>\n",
       "      <th>ess_bulk</th>\n",
       "      <th>ess_tail</th>\n",
       "      <th>r_hat</th>\n",
       "    </tr>\n",
       "  </thead>\n",
       "  <tbody>\n",
       "    <tr>\n",
       "      <th>alpha</th>\n",
       "      <td>2.5</td>\n",
       "      <td>0.0</td>\n",
       "      <td>2.5</td>\n",
       "      <td>2.5</td>\n",
       "      <td>0.0</td>\n",
       "      <td>0.0</td>\n",
       "      <td>8.0</td>\n",
       "      <td>14.0</td>\n",
       "      <td>1.69</td>\n",
       "    </tr>\n",
       "    <tr>\n",
       "      <th>beta</th>\n",
       "      <td>3.0</td>\n",
       "      <td>0.0</td>\n",
       "      <td>3.0</td>\n",
       "      <td>3.0</td>\n",
       "      <td>0.0</td>\n",
       "      <td>0.0</td>\n",
       "      <td>8.0</td>\n",
       "      <td>12.0</td>\n",
       "      <td>1.77</td>\n",
       "    </tr>\n",
       "    <tr>\n",
       "      <th>sigma_eps</th>\n",
       "      <td>0.0</td>\n",
       "      <td>0.0</td>\n",
       "      <td>0.0</td>\n",
       "      <td>0.0</td>\n",
       "      <td>0.0</td>\n",
       "      <td>0.0</td>\n",
       "      <td>4.0</td>\n",
       "      <td>11.0</td>\n",
       "      <td>4.03</td>\n",
       "    </tr>\n",
       "  </tbody>\n",
       "</table>\n",
       "</div>"
      ],
      "text/plain": [
       "           mean   sd  hdi_3%  hdi_97%  mcse_mean  mcse_sd  ess_bulk  ess_tail  \\\n",
       "alpha       2.5  0.0     2.5      2.5        0.0      0.0       8.0      14.0   \n",
       "beta        3.0  0.0     3.0      3.0        0.0      0.0       8.0      12.0   \n",
       "sigma_eps   0.0  0.0     0.0      0.0        0.0      0.0       4.0      11.0   \n",
       "\n",
       "           r_hat  \n",
       "alpha       1.69  \n",
       "beta        1.77  \n",
       "sigma_eps   4.03  "
      ]
     },
     "execution_count": 14,
     "metadata": {},
     "output_type": "execute_result"
    }
   ],
   "source": [
    "az.summary(trace_g, var_names=['alpha', 'beta', 'sigma_eps'])"
   ]
  },
  {
   "cell_type": "code",
   "execution_count": null,
   "metadata": {
    "slideshow": {
     "slide_type": "slide"
    }
   },
   "outputs": [],
   "source": [
    "az.plot_trace(trace_g, var_names=['alpha', 'beta', 'sigma_eps']);"
   ]
  },
  {
   "cell_type": "code",
   "execution_count": null,
   "metadata": {
    "scrolled": true,
    "slideshow": {
     "slide_type": "slide"
    }
   },
   "outputs": [],
   "source": [
    "az.plot_pair(trace_g, var_names=['alpha', 'beta',]);"
   ]
  },
  {
   "cell_type": "markdown",
   "metadata": {
    "slideshow": {
     "slide_type": "slide"
    }
   },
   "source": [
    "# Correlation between  parameters in the posterior\n",
    "* The correlation between the samples of $\\alpha$ and $\\beta$ can be explained as follows.\n",
    "\n",
    "* By providing on $\\alpha$ and $\\beta$, we consider a range of  values for both parameters, not only a point estimate. \n",
    "\n",
    "* However, chosen the intercept, the  most likely = value of the slope is such that the fitted line  pass close to  ($\\bar{x}, \\bar{y}$).\n",
    "\n",
    "\n"
   ]
  },
  {
   "cell_type": "markdown",
   "metadata": {
    "slideshow": {
     "slide_type": "slide"
    }
   },
   "source": [
    "# Correlation between  parameters in the posterior\n",
    "\n",
    "\n",
    "* An increase in the slope means a decrease of the intercept and vice versa. This causes the correlation between parameters.  \n",
    "\n",
    "* The shape of the posterior (excluding  $\\sigma$) is almost a diagonal space. \n",
    "\n",
    "* We are in practice spinning a  line fixed at the center of the data.\n",
    "\n",
    "* This can be problematic for  the sampling algorithm: samples  samples  become highly autocorrelated and  sampling becomes slow. "
   ]
  },
  {
   "cell_type": "markdown",
   "metadata": {
    "slideshow": {
     "slide_type": "slide"
    }
   },
   "source": [
    "# Centering the data\n",
    "* We can  remove the correlation between $\\alpha$ and $\\beta$ in the posterior by centering $x$:\n",
    "$$x_i' = x_i' - \\bar{x}$$ \n",
    "\n",
    "* The mean of  $x'$ is 0.\n",
    "* The pivot point when changing the slope is exactly the intercept. \n",
    "* Hence the slope can vary independently from the intercept.\n",
    "* Centering data  also helps in interpreting the results. The intercept is the value of   when  $x$=0; this is  meaningless if $x$ is  quantity such as the height or weight.\n",
    "* When centering the variables, the intercept is  the value of $y$ corresponding to the mean value of $x$  ."
   ]
  },
  {
   "cell_type": "markdown",
   "metadata": {
    "slideshow": {
     "slide_type": "slide"
    }
   },
   "source": [
    "# Standardizing the data\n",
    "Standardizing is  common  in statistics and ML since many algorithms behave better when the data is standardized.  This transformation is achieved by centering the data and dividing it by the standard deviation:\n",
    "\n",
    "We transform  each data point as:\n",
    "\\begin{align}\n",
    "x_i' & = \\frac{x_i-\\bar{x}}{\\sigma_x}\\\\\n",
    "y_i' & = \\frac{y_i-\\bar{y}}{\\sigma_y}\n",
    "\\end{align}\n"
   ]
  },
  {
   "cell_type": "markdown",
   "metadata": {
    "slideshow": {
     "slide_type": "slide"
    }
   },
   "source": [
    "# Standardizing the data\n",
    "* Besides removing autocorrelation, by standardizing the data  we can always use the same  priors without  worrying about the scale of the data. \n",
    "\n",
    "* For standardized data:\n",
    "\n",
    "    * the intercept is around 0.\n",
    "    * the slope is generally restricted in [-1, 1]. \n",
    "\n",
    "* Recall that in linear regression:\n",
    "$$\\hat{\\beta} = R \\frac{s_y}{s_x} $$\n",
    "\n",
    "* With standardized data. $s_y$ = $s_x$=1. \n",
    "* $R$ varies in [-1,1] by definition.\n",
    "* With multiple regression, the situation is more complex but the intuition remain valid; however we do not force the prior to be strictly  bounded in [-1,1]\n"
   ]
  },
  {
   "cell_type": "markdown",
   "metadata": {
    "slideshow": {
     "slide_type": "slide"
    }
   },
   "source": [
    "# Standardizing the data\n",
    "*  Standardizing the data allow us to talk in terms of Z-scores, that is, in units of standard deviations.\n",
    "\n",
    "* A value of -1.3 in Z-score units means that the value in question is 1.3 standard deviations below the mean, irrespective of the scale of the data.\n",
    "* A change in one Z-score unit is a change in one standard deviation, whatever the scale of the original data is. \n",
    "* This is useful dealing with several variables; having all of the variables in the same scale can simplify the interpretation of the data."
   ]
  },
  {
   "cell_type": "code",
   "execution_count": 16,
   "metadata": {
    "slideshow": {
     "slide_type": "slide"
    }
   },
   "outputs": [],
   "source": [
    "x_std = (x - x.mean()) /  x.std()\n",
    "y_std = (y - y.mean()) /  y.std()"
   ]
  },
  {
   "cell_type": "code",
   "execution_count": 17,
   "metadata": {
    "slideshow": {
     "slide_type": "slide"
    }
   },
   "outputs": [
    {
     "name": "stderr",
     "output_type": "stream",
     "text": [
      "Auto-assigning NUTS sampler...\n",
      "Initializing NUTS using jitter+adapt_diag...\n",
      "Multiprocess sampling (4 chains in 4 jobs)\n",
      "NUTS: [sigma_eps, beta, alpha]\n"
     ]
    },
    {
     "data": {
      "text/html": [
       "\n",
       "<style>\n",
       "    /* Turns off some styling */\n",
       "    progress {\n",
       "        /* gets rid of default border in Firefox and Opera. */\n",
       "        border: none;\n",
       "        /* Needs to be in here for Safari polyfill so background images work as expected. */\n",
       "        background-size: auto;\n",
       "    }\n",
       "    .progress-bar-interrupted, .progress-bar-interrupted::-webkit-progress-bar {\n",
       "        background: #F44336;\n",
       "    }\n",
       "</style>\n"
      ],
      "text/plain": [
       "<IPython.core.display.HTML object>"
      ]
     },
     "metadata": {},
     "output_type": "display_data"
    },
    {
     "data": {
      "text/html": [
       "\n",
       "    <div>\n",
       "      <progress value='3625' class='' max='8000' style='width:300px; height:20px; vertical-align: middle;'></progress>\n",
       "      45.31% [3625/8000 00:03<00:03 Sampling 4 chains, 0 divergences]\n",
       "    </div>\n",
       "    "
      ],
      "text/plain": [
       "<IPython.core.display.HTML object>"
      ]
     },
     "metadata": {},
     "output_type": "display_data"
    },
    {
     "name": "stderr",
     "output_type": "stream",
     "text": [
      "/Users/giorgio/opt/anaconda3/envs/bda/lib/python3.9/site-packages/pymc3/step_methods/hmc/quadpotential.py:220: RuntimeWarning: divide by zero encountered in true_divide\n",
      "  np.divide(1, self._stds, out=self._inv_stds)\n",
      "/Users/giorgio/opt/anaconda3/envs/bda/lib/python3.9/site-packages/pymc3/step_methods/hmc/quadpotential.py:199: RuntimeWarning: invalid value encountered in multiply\n",
      "  return np.multiply(self._var, x, out=out)\n"
     ]
    },
    {
     "ename": "RuntimeError",
     "evalue": "Chain 2 failed.",
     "output_type": "error",
     "traceback": [
      "\u001b[0;31m---------------------------------------------------------------------------\u001b[0m",
      "\u001b[0;31mRemoteTraceback\u001b[0m                           Traceback (most recent call last)",
      "\u001b[0;31mRemoteTraceback\u001b[0m: \n\"\"\"\nTraceback (most recent call last):\n  File \"/Users/giorgio/opt/anaconda3/envs/bda/lib/python3.9/site-packages/pymc3/parallel_sampling.py\", line 137, in run\n    self._start_loop()\n  File \"/Users/giorgio/opt/anaconda3/envs/bda/lib/python3.9/site-packages/pymc3/parallel_sampling.py\", line 191, in _start_loop\n    point, stats = self._compute_point()\n  File \"/Users/giorgio/opt/anaconda3/envs/bda/lib/python3.9/site-packages/pymc3/parallel_sampling.py\", line 216, in _compute_point\n    point, stats = self._step_method.step(self._point)\n  File \"/Users/giorgio/opt/anaconda3/envs/bda/lib/python3.9/site-packages/pymc3/step_methods/arraystep.py\", line 276, in step\n    apoint, stats = self.astep(array)\n  File \"/Users/giorgio/opt/anaconda3/envs/bda/lib/python3.9/site-packages/pymc3/step_methods/hmc/base_hmc.py\", line 147, in astep\n    self.potential.raise_ok(self._logp_dlogp_func._ordering.vmap)\n  File \"/Users/giorgio/opt/anaconda3/envs/bda/lib/python3.9/site-packages/pymc3/step_methods/hmc/quadpotential.py\", line 268, in raise_ok\n    raise ValueError(\"\\n\".join(errmsg))\nValueError: Mass matrix contains zeros on the diagonal. \nThe derivative of RV `beta`.ravel()[0] is zero.\n\"\"\"",
      "\nThe above exception was the direct cause of the following exception:\n",
      "\u001b[0;31mValueError\u001b[0m                                Traceback (most recent call last)",
      "\u001b[0;31mValueError\u001b[0m: Mass matrix contains zeros on the diagonal. \nThe derivative of RV `beta`.ravel()[0] is zero.",
      "\nThe above exception was the direct cause of the following exception:\n",
      "\u001b[0;31mRuntimeError\u001b[0m                              Traceback (most recent call last)",
      "Input \u001b[0;32mIn [17]\u001b[0m, in \u001b[0;36m<cell line: 1>\u001b[0;34m()\u001b[0m\n\u001b[1;32m     11\u001b[0m mu              \u001b[38;5;241m=\u001b[39m pm\u001b[38;5;241m.\u001b[39mDeterministic(\u001b[38;5;124m'\u001b[39m\u001b[38;5;124mmu\u001b[39m\u001b[38;5;124m'\u001b[39m, alpha \u001b[38;5;241m+\u001b[39m beta \u001b[38;5;241m*\u001b[39m x_std)\n\u001b[1;32m     12\u001b[0m y_pred       \u001b[38;5;241m=\u001b[39m pm\u001b[38;5;241m.\u001b[39mNormal(\u001b[38;5;124m'\u001b[39m\u001b[38;5;124my_pred\u001b[39m\u001b[38;5;124m'\u001b[39m, mu\u001b[38;5;241m=\u001b[39mmu, sd\u001b[38;5;241m=\u001b[39msigma_eps, observed\u001b[38;5;241m=\u001b[39my_std)\n\u001b[0;32m---> 14\u001b[0m trace_std \u001b[38;5;241m=\u001b[39m \u001b[43mpm\u001b[49m\u001b[38;5;241;43m.\u001b[39;49m\u001b[43msample\u001b[49m\u001b[43m(\u001b[49m\u001b[43mreturn_inferencedata\u001b[49m\u001b[38;5;241;43m=\u001b[39;49m\u001b[38;5;28;43;01mTrue\u001b[39;49;00m\u001b[43m)\u001b[49m\n",
      "File \u001b[0;32m~/opt/anaconda3/envs/bda/lib/python3.9/site-packages/deprecat/classic.py:215\u001b[0m, in \u001b[0;36mdeprecat.<locals>.wrapper_function\u001b[0;34m(wrapped_, instance_, args_, kwargs_)\u001b[0m\n\u001b[1;32m    213\u001b[0m         \u001b[38;5;28;01melse\u001b[39;00m:\n\u001b[1;32m    214\u001b[0m             warnings\u001b[38;5;241m.\u001b[39mwarn(message, category\u001b[38;5;241m=\u001b[39mcategory, stacklevel\u001b[38;5;241m=\u001b[39m_routine_stacklevel)\n\u001b[0;32m--> 215\u001b[0m \u001b[38;5;28;01mreturn\u001b[39;00m \u001b[43mwrapped_\u001b[49m\u001b[43m(\u001b[49m\u001b[38;5;241;43m*\u001b[39;49m\u001b[43margs_\u001b[49m\u001b[43m,\u001b[49m\u001b[43m \u001b[49m\u001b[38;5;241;43m*\u001b[39;49m\u001b[38;5;241;43m*\u001b[39;49m\u001b[43mkwargs_\u001b[49m\u001b[43m)\u001b[49m\n",
      "File \u001b[0;32m~/opt/anaconda3/envs/bda/lib/python3.9/site-packages/pymc3/sampling.py:575\u001b[0m, in \u001b[0;36msample\u001b[0;34m(draws, step, init, n_init, initvals, trace, chain_idx, chains, cores, tune, progressbar, model, random_seed, discard_tuned_samples, compute_convergence_checks, callback, jitter_max_retries, start, return_inferencedata, idata_kwargs, mp_ctx, pickle_backend, **kwargs)\u001b[0m\n\u001b[1;32m    573\u001b[0m _print_step_hierarchy(step)\n\u001b[1;32m    574\u001b[0m \u001b[38;5;28;01mtry\u001b[39;00m:\n\u001b[0;32m--> 575\u001b[0m     trace \u001b[38;5;241m=\u001b[39m \u001b[43m_mp_sample\u001b[49m\u001b[43m(\u001b[49m\u001b[38;5;241;43m*\u001b[39;49m\u001b[38;5;241;43m*\u001b[39;49m\u001b[43msample_args\u001b[49m\u001b[43m,\u001b[49m\u001b[43m \u001b[49m\u001b[38;5;241;43m*\u001b[39;49m\u001b[38;5;241;43m*\u001b[39;49m\u001b[43mparallel_args\u001b[49m\u001b[43m)\u001b[49m\n\u001b[1;32m    576\u001b[0m \u001b[38;5;28;01mexcept\u001b[39;00m pickle\u001b[38;5;241m.\u001b[39mPickleError:\n\u001b[1;32m    577\u001b[0m     _log\u001b[38;5;241m.\u001b[39mwarning(\u001b[38;5;124m\"\u001b[39m\u001b[38;5;124mCould not pickle model, sampling singlethreaded.\u001b[39m\u001b[38;5;124m\"\u001b[39m)\n",
      "File \u001b[0;32m~/opt/anaconda3/envs/bda/lib/python3.9/site-packages/pymc3/sampling.py:1496\u001b[0m, in \u001b[0;36m_mp_sample\u001b[0;34m(draws, tune, step, chains, cores, chain, random_seed, start, progressbar, trace, model, callback, discard_tuned_samples, mp_ctx, pickle_backend, **kwargs)\u001b[0m\n\u001b[1;32m   1494\u001b[0m \u001b[38;5;28;01mtry\u001b[39;00m:\n\u001b[1;32m   1495\u001b[0m     \u001b[38;5;28;01mwith\u001b[39;00m sampler:\n\u001b[0;32m-> 1496\u001b[0m         \u001b[38;5;28;01mfor\u001b[39;00m draw \u001b[38;5;129;01min\u001b[39;00m sampler:\n\u001b[1;32m   1497\u001b[0m             trace \u001b[38;5;241m=\u001b[39m traces[draw\u001b[38;5;241m.\u001b[39mchain \u001b[38;5;241m-\u001b[39m chain]\n\u001b[1;32m   1498\u001b[0m             \u001b[38;5;28;01mif\u001b[39;00m trace\u001b[38;5;241m.\u001b[39msupports_sampler_stats \u001b[38;5;129;01mand\u001b[39;00m draw\u001b[38;5;241m.\u001b[39mstats \u001b[38;5;129;01mis\u001b[39;00m \u001b[38;5;129;01mnot\u001b[39;00m \u001b[38;5;28;01mNone\u001b[39;00m:\n",
      "File \u001b[0;32m~/opt/anaconda3/envs/bda/lib/python3.9/site-packages/pymc3/parallel_sampling.py:479\u001b[0m, in \u001b[0;36mParallelSampler.__iter__\u001b[0;34m(self)\u001b[0m\n\u001b[1;32m    476\u001b[0m     \u001b[38;5;28mself\u001b[39m\u001b[38;5;241m.\u001b[39m_progress\u001b[38;5;241m.\u001b[39mupdate(\u001b[38;5;28mself\u001b[39m\u001b[38;5;241m.\u001b[39m_total_draws)\n\u001b[1;32m    478\u001b[0m \u001b[38;5;28;01mwhile\u001b[39;00m \u001b[38;5;28mself\u001b[39m\u001b[38;5;241m.\u001b[39m_active:\n\u001b[0;32m--> 479\u001b[0m     draw \u001b[38;5;241m=\u001b[39m \u001b[43mProcessAdapter\u001b[49m\u001b[38;5;241;43m.\u001b[39;49m\u001b[43mrecv_draw\u001b[49m\u001b[43m(\u001b[49m\u001b[38;5;28;43mself\u001b[39;49m\u001b[38;5;241;43m.\u001b[39;49m\u001b[43m_active\u001b[49m\u001b[43m)\u001b[49m\n\u001b[1;32m    480\u001b[0m     proc, is_last, draw, tuning, stats, warns \u001b[38;5;241m=\u001b[39m draw\n\u001b[1;32m    481\u001b[0m     \u001b[38;5;28mself\u001b[39m\u001b[38;5;241m.\u001b[39m_total_draws \u001b[38;5;241m+\u001b[39m\u001b[38;5;241m=\u001b[39m \u001b[38;5;241m1\u001b[39m\n",
      "File \u001b[0;32m~/opt/anaconda3/envs/bda/lib/python3.9/site-packages/pymc3/parallel_sampling.py:359\u001b[0m, in \u001b[0;36mProcessAdapter.recv_draw\u001b[0;34m(processes, timeout)\u001b[0m\n\u001b[1;32m    357\u001b[0m     \u001b[38;5;28;01melse\u001b[39;00m:\n\u001b[1;32m    358\u001b[0m         error \u001b[38;5;241m=\u001b[39m \u001b[38;5;167;01mRuntimeError\u001b[39;00m(\u001b[38;5;124m\"\u001b[39m\u001b[38;5;124mChain \u001b[39m\u001b[38;5;132;01m%s\u001b[39;00m\u001b[38;5;124m failed.\u001b[39m\u001b[38;5;124m\"\u001b[39m \u001b[38;5;241m%\u001b[39m proc\u001b[38;5;241m.\u001b[39mchain)\n\u001b[0;32m--> 359\u001b[0m     \u001b[38;5;28;01mraise\u001b[39;00m error \u001b[38;5;28;01mfrom\u001b[39;00m \u001b[38;5;21;01mold_error\u001b[39;00m\n\u001b[1;32m    360\u001b[0m \u001b[38;5;28;01melif\u001b[39;00m msg[\u001b[38;5;241m0\u001b[39m] \u001b[38;5;241m==\u001b[39m \u001b[38;5;124m\"\u001b[39m\u001b[38;5;124mwriting_done\u001b[39m\u001b[38;5;124m\"\u001b[39m:\n\u001b[1;32m    361\u001b[0m     proc\u001b[38;5;241m.\u001b[39m_readable \u001b[38;5;241m=\u001b[39m \u001b[38;5;28;01mTrue\u001b[39;00m\n",
      "\u001b[0;31mRuntimeError\u001b[0m: Chain 2 failed."
     ]
    }
   ],
   "source": [
    "with pm.Model() as model_std:\n",
    "    #priors on coefficients, no longer dependent on the scale of the data\n",
    "    #We known that alpha will be around 0, while beta will be generally in [-1,1]. \n",
    "    #The priors below provide a large support, spanning practically the range [-3,3].\n",
    "    alpha = pm.Normal ('alpha', mu=0, sd=1)\n",
    "    beta   = pm.Normal ('beta',   mu=0,  sd=1)\n",
    "    \n",
    "    #prior on the standard deviation of the noise. The Half-Normal with sd=1 let  practically  sigma_eps vary between 0 and  3.\n",
    "    #This is wide range, considering that the standardized y has standard deviation 1.\n",
    "    sigma_eps = pm.HalfNormal ('sigma_eps', sd=1)\n",
    "    mu              = pm.Deterministic('mu', alpha + beta * x_std)\n",
    "    y_pred       = pm.Normal('y_pred', mu=mu, sd=sigma_eps, observed=y_std)\n",
    "\n",
    "    trace_std = pm.sample(return_inferencedata=True)"
   ]
  },
  {
   "cell_type": "markdown",
   "metadata": {
    "slideshow": {
     "slide_type": "slide"
    }
   },
   "source": [
    "# No more correlation in the posterior..."
   ]
  },
  {
   "cell_type": "code",
   "execution_count": null,
   "metadata": {
    "slideshow": {
     "slide_type": "slide"
    }
   },
   "outputs": [],
   "source": [
    "az.plot_pair(trace_std, var_names=['alpha', 'beta',], figsize=[8,4]);"
   ]
  },
  {
   "cell_type": "markdown",
   "metadata": {
    "slideshow": {
     "slide_type": "slide"
    }
   },
   "source": [
    "## Interpreting and visualizing the posterior\n",
    "\n",
    "* We now plot the average line that fits the data, which is obtained by using the posterior mean of $\\alpha$ and $\\beta$.\n",
    "* The average line does not show our uncertainty on the estimate of the parameters.\n",
    "* We will also plot a range around the line, showing the uncertainty about the fitted line. \n",
    "* This is a consequence of our uncertainty in the estimates of  $\\alpha$ and $\\beta$, which are characterized by a posterior distribution and not only by a point estimate.\n"
   ]
  },
  {
   "cell_type": "markdown",
   "metadata": {
    "slideshow": {
     "slide_type": "slide"
    }
   },
   "source": [
    "# Showing our uncertainty on the estimated line (parameter uncertainty)"
   ]
  },
  {
   "cell_type": "code",
   "execution_count": null,
   "metadata": {
    "scrolled": true,
    "slideshow": {
     "slide_type": "slide"
    }
   },
   "outputs": [],
   "source": [
    "#to quickly compute the plot, we pick one sample every 10 of the posterior\n",
    "draws = range(0, len(idata.alpha.values),10)\n",
    "\n",
    "#idata.alpha.values access the sampled values of alpha; likewise for idat.beta.values\n",
    "#we show a different line for each caouple of (alpha, beta) in the posterior samples.\n",
    "#This shows our uncertainty in the estimate of the line.\n",
    "plt.plot(x_std,  idata.alpha.values[draws] + idata.beta.values[draws] * x_std[:, np.newaxis], c='gray', alpha=0.5)\n",
    "\n",
    "#Here we use instead the point estimate, as  in traditional regression.\n",
    "#Posterior mean of the parameters\n",
    "alpha_m =  idata.alpha.values.mean()\n",
    "beta_m   =  idata.beta.values.mean()\n",
    "\n",
    "#Mean value of the regression line\n",
    "plt.plot(x_std, alpha_m + beta_m * x_std, c='k',label='y = {:.2f} + {:.2f} * x'.format(alpha_m, beta_m))\n",
    "plt.legend();"
   ]
  },
  {
   "cell_type": "markdown",
   "metadata": {
    "slideshow": {
     "slide_type": "slide"
    }
   },
   "source": [
    "That uncertainty is lower in the middle, although it is not reduced to a single point, that is, the posterior is compatible with lines not passing exactly through the mean of the data, as we have already mentioned."
   ]
  },
  {
   "cell_type": "markdown",
   "metadata": {
    "slideshow": {
     "slide_type": "slide"
    }
   },
   "source": [
    "# Predictive checks (DOES NOT WORK)\n",
    "\n",
    "* We can  plot the HPD (for example, 94% and 50%) of the predicted data, that is, where we expect to see the 94% and 50% of future data.\n",
    "* Given the value $x_i$,  we compute the prediction corresponding to  sample $s$ of the posterior as::\n",
    "\n",
    "    $$ \\hat{y}_s = \\alpha_{s} + \\beta_{s} x_i + \\epsilon_s$$\n",
    "\n"
   ]
  },
  {
   "cell_type": "code",
   "execution_count": null,
   "metadata": {
    "slideshow": {
     "slide_type": "skip"
    }
   },
   "outputs": [],
   "source": [
    "ppc_std= pm.sample_posterior_predictive(trace_std, model=model_std, samples=2000)\n",
    "az.plot_ppc(az.from_pymc3(posterior_predictive=ppc_std, model=model_std));"
   ]
  },
  {
   "cell_type": "code",
   "execution_count": null,
   "metadata": {
    "scrolled": false
   },
   "outputs": [],
   "source": [
    "# does not work!!\n"
   ]
  },
  {
   "cell_type": "markdown",
   "metadata": {
    "slideshow": {
     "slide_type": "slide"
    }
   },
   "source": [
    "# Prediction intervals\n",
    "\n",
    " * If  we have  a test value $x_j$, how do assess the uncertainty of our prediction about $y_j$?\n",
    " * We have a posterior distribution about $y_j$.\n",
    " * Let us denoting by $D$ the training data and by $\\theta$ the vector of parameters: $\\theta = [\\alpha, \\beta_1, .. \\beta_k]$\n",
    " \n",
    " \\begin{align}\n",
    " p(y_j|x_j,D) =  \\int p(y_j|x_j,D)p(\\theta|D) d\\theta\n",
    " \\end{align}\n",
    " \n",
    " \n",
    " "
   ]
  },
  {
   "cell_type": "markdown",
   "metadata": {
    "slideshow": {
     "slide_type": "slide"
    }
   },
   "source": [
    "# Prediction intervals\n",
    "\n",
    "\n",
    " \\begin{align}\n",
    " p(y_j|x_j,D) =  \\int \\underbrace{p(y_j|x_j,\\theta,D)}_{\\text{prediction made by a specific parameter value}} \\underbrace{p(\\theta|D)}_{\\text{posterior of the parameters}} d\\theta\n",
    " \\end{align}\n",
    " \n",
    " * We are thus weighting the prediction made by different values of $\\theta$ using their posterior distribution as weights. \n",
    " \n",
    " "
   ]
  },
  {
   "cell_type": "markdown",
   "metadata": {
    "slideshow": {
     "slide_type": "slide"
    }
   },
   "source": [
    "# Prediction intervals with samples.\n",
    "\n",
    "In reality we have posterior samples. Let us denote a generic sample $s$ as $\\theta_s$.\n",
    "The posterior distribution of $y_j$ is obtained by computing for each sample $s$:\n",
    "\n",
    "    $$ \\hat{y}_{j,s} = \\alpha_{s} + \\beta_{s} x_j + \\epsilon_s $$\n",
    " \n",
    " * The above formula express our uncertainty in $y_j$ considering:\n",
    "     * the uncertainty in the parameters $\\alpha$, $\\beta$ (each couple ($\\alpha_s, \\beta_s$) yields a slightly different prediction)\n",
    "     * the effect of the noise\n",
    " \n",
    " "
   ]
  },
  {
   "cell_type": "markdown",
   "metadata": {
    "slideshow": {
     "slide_type": "slide"
    }
   },
   "source": [
    "\n",
    " * Given the value $x_i$,  we compute the prediction corresponding to sample $s$ of the posterior as::\n",
    "\n",
    "    $$ \\hat{y}_s = \\alpha_{s} + \\beta_{s} x_i + \\epsilon_s$$\n",
    "    \n",
    "* Thus intervals accounts for\n",
    "\n",
    "    * the uncertainty in the estimates of the parameters (including noise in the estimate of $\\sigma_{\\epsilon}$\n",
    "    * the noise which corrupts the data \n",
    "   \n",
    "   See the following example recalling that: \n",
    "       * the 2.5 and 9.75 percentiles yield the 95% prediction interval\n",
    "       * the 5 and the 95 percentile yield the 90% prediction interval\n",
    "\n",
    " "
   ]
  },
  {
   "cell_type": "code",
   "execution_count": null,
   "metadata": {
    "slideshow": {
     "slide_type": "slide"
    }
   },
   "outputs": [],
   "source": [
    "x_test = 1.5\n",
    "draws = range(0, len(idata.alpha.values))\n",
    "preds = idata.alpha.values[draws] + idata.beta.values[draws] * x_test +  idata.sigma_eps.values[draws] \n",
    "pd.DataFrame(preds).describe (percentiles=[.025, .05, .5, .95, .975])"
   ]
  },
  {
   "cell_type": "markdown",
   "metadata": {
    "slideshow": {
     "slide_type": "slide"
    }
   },
   "source": [
    "## Robust linear regression\n",
    "\n",
    "\n",
    "* Gaussianity is often a reasonable approximation. \n",
    "* But sometimes the  Gaussian assumption fails, for example, in the presence of outliers. \n",
    "* The Student's t-distribution effectively deals with outliers and provides  a more robust inference. \n",
    "* This  idea can be applied also to linear regression.\n"
   ]
  },
  {
   "cell_type": "markdown",
   "metadata": {
    "slideshow": {
     "slide_type": "slide"
    }
   },
   "source": [
    "# Anscombe quartet\n",
    "* Four data sets whose summary statistics are identical, but vary considerably when graphed.\n",
    "* We will use the third data set, which contains an outlier.\n",
    "\n",
    "<img src='img/anscombe.png' width=400 align=\"center\" >"
   ]
  },
  {
   "cell_type": "code",
   "execution_count": null,
   "metadata": {
    "slideshow": {
     "slide_type": "slide"
    }
   },
   "outputs": [],
   "source": [
    "data = pd.read_csv('data/anscombe.csv')\n",
    "x_3  = np.array(data[data.group == 'III']['x'].values)\n",
    "y_3  = np.array(data[data.group == 'III']['y'].values)\n",
    "\n",
    "#we also standardize the data\n",
    "x_3_std = (x_3  - x_3.mean()) / x_3.std()\n",
    "y_3_std = (y_3  - y_3.mean()) / y_3.std()"
   ]
  },
  {
   "cell_type": "markdown",
   "metadata": {
    "slideshow": {
     "slide_type": "slide"
    }
   },
   "source": [
    "# Robust linear regression in PyMC3"
   ]
  },
  {
   "cell_type": "code",
   "execution_count": null,
   "metadata": {
    "slideshow": {
     "slide_type": "slide"
    }
   },
   "outputs": [],
   "source": [
    "with pm.Model() as robust_model:\n",
    "    #priors on intercept, slope and standard deviation of noise for standardized data\n",
    "    alpha         = pm.Normal ('alpha', mu=0, sd=1)\n",
    "    beta          = pm.Normal ('beta',   mu=0,  sd=1)\n",
    "    sigma_eps     = pm.HalfNormal ('sigma_eps', sd=1)\n",
    "    \n",
    "    y_pred       = pm.StudentT ('y_pred', mu= alpha + beta * x_3_std,  sd=sigma_eps, nu=4, observed=y_3_std)    \n",
    "    trace_t      = pm.sample(return_inferencedata=True)"
   ]
  },
  {
   "cell_type": "markdown",
   "metadata": {},
   "source": [
    " \n",
    "# WAIC\n",
    "* We can compare the two models using WAIC\n",
    "* Point to be made here, or make a specific notebook dedicated to model selection?"
   ]
  },
  {
   "cell_type": "code",
   "execution_count": null,
   "metadata": {
    "slideshow": {
     "slide_type": "slide"
    }
   },
   "outputs": [],
   "source": [
    "with pm.Model() as gaussian_model:\n",
    "    #priors on intercept, slope and standard deviation of noise for standardized data\n",
    "    alpha         = pm.Normal ('alpha', mu=0, sd=1)\n",
    "    beta          = pm.Normal ('beta',   mu=0,  sd=1)\n",
    "    sigma_eps     = pm.HalfNormal ('sigma_eps', sd=1)\n",
    "    \n",
    "    y_pred         = pm.Normal ('y_pred', mu= alpha + beta * x_3_std,  sd=sigma_eps, observed=y_3_std)    \n",
    "    trace_normal   = pm.sample(return_inferencedata=True)"
   ]
  },
  {
   "cell_type": "code",
   "execution_count": null,
   "metadata": {},
   "outputs": [],
   "source": [
    "az.compare({'robust_model':trace_t, 'normal_model': trace_normal}, ic='waic')"
   ]
  },
  {
   "cell_type": "markdown",
   "metadata": {
    "slideshow": {
     "slide_type": "slide"
    }
   },
   "source": [
    "# Comment on the estimate\n",
    "* As shown in next slide, the values of   $\\alpha$, $\\beta$   and $\\sigma_{\\epsilon}$ have very narrow HDI.\n",
    "* Thus, there is little uncertainty in their estimates.\n",
    "* Indeed, we are fitting a line to a perfectly aligned set of points, apart from the outlier."
   ]
  },
  {
   "cell_type": "code",
   "execution_count": null,
   "metadata": {
    "slideshow": {
     "slide_type": "slide"
    }
   },
   "outputs": [],
   "source": [
    "az.summary(trace_t)"
   ]
  },
  {
   "cell_type": "markdown",
   "metadata": {},
   "source": [
    "# Robust vs non-robust fit\n",
    "* We now compare the robust fit, according to model_t, and the non-robust fit obtained  SciPy's linear regression (this is very close to the straight line to the gaussian model, using the posterior mean of $\\alpha$ and $\\beta$). (you can add it as an exercise)."
   ]
  },
  {
   "cell_type": "code",
   "execution_count": null,
   "metadata": {
    "slideshow": {
     "slide_type": "slide"
    }
   },
   "outputs": [],
   "source": [
    "beta_c, alpha_c = stats.linregress(x_3_std, y_3_std)[:2]\n",
    "\n",
    "# plotting least-square regression\n",
    "plt.figure(figsize=(8, 4))\n",
    "plt.plot(x_3_std, (alpha_c + beta_c * x_3_std), 'k', label='least_squares', alpha=0.5)\n",
    "plt.plot(x_3_std, y_3_std, 'C0o')\n",
    "\n",
    "#posterior mean of the parameters\n",
    "post_t         = az.extract_dataset(trace_t)\n",
    "alpha_t       = post_t.alpha.values.mean()\n",
    "beta_t         = post_t.beta.values.mean()\n",
    "\n",
    "# plotting robust regression, using for simplicity the posterior mean of the parameters\n",
    "plt.plot(x_3_std, alpha_t + beta_t * x_3_std, c='k', label='robust')\n",
    "plt.xlabel('$x$', fontsize=16)\n",
    "plt.ylabel('$y$', rotation=0, fontsize=16)\n",
    "plt.legend();"
   ]
  },
  {
   "cell_type": "markdown",
   "metadata": {
    "slideshow": {
     "slide_type": "slide"
    }
   },
   "source": [
    "# Discussion\n",
    "\n",
    "* The least-squares fit tries to compromise and include all points.\n",
    "* The robust model automatically discards the outlier and fits a line that passes exactly through all the remaining points. \n",
    "* This is  a  peculiar dataset, but the message remains for more real and complex ones. \n",
    "* A Student's t-distribution, due to its heavier tails, is able to give less importance to points that are far away from the bulk of the data, filtering outliers in an automatic way."
   ]
  },
  {
   "cell_type": "markdown",
   "metadata": {},
   "source": [
    "# mettere un esempio di multiple linear regression (con parametro shape in pymc3) e discutere regularizing priors come nel libro di Martin"
   ]
  },
  {
   "cell_type": "markdown",
   "metadata": {},
   "source": [
    "# possible exercises: see end of the chapter\n",
    "\n",
    "1. En la siguiente definición de modelo probabilístico cual es el _likelihood_, cual es el _a priori_ y cual el _a posteriori_.\n",
    "\n",
    "$$\n",
    "y_i \\sim Normal(\\mu, \\sigma) \\\\\n",
    "\\mu \\sim Normal(0, 10) \\\\\n",
    "\\sigma \\sim HalfNormal(25)\n",
    "$$\n",
    "\n",
    "2. En el modelo del punto 1 ¿cuántos parámetros hay en el posterior? o expresado de otra forma ¿cuántas dimensiones tiene el _a posteriori_?\n",
    "\n",
    "3. Escriba el teorema de Bayes para el modelo del punto 1.\n",
    "\n",
    "4. En el siguiente modelo ¿cuál es el modelo lineal?¿cuál el likelihood y cuantos parámetros hay en la distribución a posteriori?\n",
    "\n",
    "$$\n",
    "y \\sim Normal(\\mu, \\epsilon) \\\\\n",
    "\\mu = \\alpha + \\beta x \\\\\n",
    "\\alpha \\sim Normal(0, 10) \\\\\n",
    "\\beta \\sim Normal(0, 1) \\\\\n",
    "\\epsilon \\sim HalfNormal(25) \\\\\n",
    "$$\n",
    "\n",
    "\n",
    "5. Para el modelo del punto 1, asumiendo que tiene 57 datos provenientes de una gaussiana con media 4 y desviación estándar 0.5, obtenga usando PyMC3:\n",
    "    * La distribución a posteriori\n",
    "    * La distribución a priori\n",
    "    * La distribución predictiva a posteriori \n",
    "    * La distribución predictiva a priori\n",
    "\n",
    "tip: además de `sample` PyMC3 tiene varias funciones para muestrear \n",
    "\n",
    "6. Ejecuta el modelo `model_g`:\n",
    "    * Usando NUTS (sampler por defecto)\n",
    "    * Usando Metropolis\n",
    "\n",
    "Compare los resultados usando funciones de ArviZ como `plot_trace` y `plot_pairs`. Centre la variable $x$ y repita el ejercicio ¿Qué opina?\n",
    "\n",
    "\n",
    "7. Usando el conjunto de datos `howell` (disponible junto con esta notebook) realice un modelo lineal del peso ($x$) versus la altura ($y$). Excluya a los menores de 18 años. Exponga los resultados.\n",
    "\n",
    "8. Para 4 individuos se registraron los pesos (45.73, 65.8, 54.2, 32.59), pero no las alturas. Usando el modelo del punto anterior prediga la altura esperada para cada individuo junto con un intervalo de credibilidad del 50% y del 89%.\n",
    "\n",
    "9. Repita el punto 7 pero para los menores de 18 años. Exponga los resultados.\n",
    "\n",
    "10. Es conocido que para muchas especies el peso no escala con la altura, pero si el logaritmo del pesos. Use esa información para ajustar el conjunto de datos `howell` (sin distinción por edad). Repita el ajuste usando un polinomio de grado 2. Explique y compare ambos resultados.\n",
    "\n",
    "11. Piense en un modelo que sea capaz de ajustar los 3 primeros conjuntos del cuarteo de Anscombe, y en uno que sea capaz de ajustar los 4.\n",
    "\n",
    "12. Para el modelo `hierarchical_model` repita la figura donde se representan los 8 grupos y las 8 lineas ajustadas, pero esta vez incluyendo la incertidumbre del ajuste.\n",
    "\n",
    "13. Escriba en PyMC3 un modelo lineal para predecir la cantidad de papers que un estudiante de doctorado producirá en función de el tamaño del grupo donde trabaja el estudiante, la cantidad de fondos que recibe el grupo, el género del estudiante ¿Cómo cambia el modelo si se asume género binario o género categórico (más de dos opciones)?\n",
    "\n",
    "14. Supongamos que el siguiente enunciado es cierto \"las ciudades en Argentina con más policías tienen más delitos\" ¿Quiere decir esto que la policía Argentina es corrupta?\n",
    "\n",
    "15. Lea este [post](https://twiecki.github.io/blog/2017/02/08/bayesian-hierchical-non-centered/) y replique los resultados usted mismo."
   ]
  },
  {
   "cell_type": "code",
   "execution_count": null,
   "metadata": {},
   "outputs": [],
   "source": []
  },
  {
   "cell_type": "code",
   "execution_count": null,
   "metadata": {},
   "outputs": [],
   "source": []
  }
 ],
 "metadata": {
  "celltoolbar": "Slideshow",
  "kernelspec": {
   "display_name": "Python 3 (ipykernel)",
   "language": "python",
   "name": "python3"
  },
  "language_info": {
   "codemirror_mode": {
    "name": "ipython",
    "version": 3
   },
   "file_extension": ".py",
   "mimetype": "text/x-python",
   "name": "python",
   "nbconvert_exporter": "python",
   "pygments_lexer": "ipython3",
   "version": "3.9.12"
  }
 },
 "nbformat": 4,
 "nbformat_minor": 1
}
