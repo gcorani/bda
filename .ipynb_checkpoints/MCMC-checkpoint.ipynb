{
 "cells": [
  {
   "cell_type": "markdown",
   "id": "1d9623ee",
   "metadata": {
    "slideshow": {
     "slide_type": "slide"
    }
   },
   "source": [
    "# Markov Chain Monte Carlo (based on Krushke, Chapter 7) "
   ]
  },
  {
   "cell_type": "markdown",
   "id": "33905db7",
   "metadata": {
    "slideshow": {
     "slide_type": "slide"
    }
   },
   "source": [
    "\n",
    "* Generally the likelihood is **not**  conjugate to the prior.\n",
    "\n",
    "* Grid approximation is one approach to addressing such situation, but it does not scale. \n",
    "\n",
    "* If we need to compute the joint distribution of 6 parameters, each represented by 1000 states, we have $1000^6$ states, , which is too many for any computer to evaluate.\n",
    "\n",
    "* MCMC methods address this type of problems. We will start with a single-parameter problem.\n"
   ]
  },
  {
   "cell_type": "markdown",
   "id": "da712275",
   "metadata": {
    "slideshow": {
     "slide_type": "slide"
    }
   },
   "source": [
    "* We do assume the prior $p(\\theta)$ and the likelihood $p(D \\mid \\theta)$ to be easily computable for any value of $D$ and $\\theta$. \n",
    "\n",
    "*  The method does not require evaluating the difficult integral in the denominator of Bayes’ rule.\n",
    "\n",
    "* The method produces  approximation of the posterior distribution $p(\\theta|D)$ by returning  a large number of  values of $\\theta$ sampled from that distribution."
   ]
  },
  {
   "cell_type": "markdown",
   "id": "0b414938",
   "metadata": {
    "slideshow": {
     "slide_type": "slide"
    }
   },
   "source": [
    "#  APPROXIMATING A DISTRIBUTION WITH A LARGE SAMPLE\n",
    "\n",
    "* By randomly sampling a subset of people from a population, we estimate the underlying tendencies in the entire population. \n",
    "\n",
    "* The larger the sample, the better the estimation. \n",
    "\n",
    "* In our application the population from which we  sample is a **posterior probability distribution**."
   ]
  },
  {
   "cell_type": "markdown",
   "id": "15c65b2b",
   "metadata": {
    "slideshow": {
     "slide_type": "slide"
    }
   },
   "source": [
    "# Metropolis algorithm example"
   ]
  },
  {
   "cell_type": "code",
   "execution_count": null,
   "id": "08608411",
   "metadata": {},
   "outputs": [],
   "source": []
  }
 ],
 "metadata": {
  "celltoolbar": "Slideshow",
  "kernelspec": {
   "display_name": "Python 3 (ipykernel)",
   "language": "python",
   "name": "python3"
  },
  "language_info": {
   "codemirror_mode": {
    "name": "ipython",
    "version": 3
   },
   "file_extension": ".py",
   "mimetype": "text/x-python",
   "name": "python",
   "nbconvert_exporter": "python",
   "pygments_lexer": "ipython3",
   "version": "3.8.12"
  }
 },
 "nbformat": 4,
 "nbformat_minor": 5
}
