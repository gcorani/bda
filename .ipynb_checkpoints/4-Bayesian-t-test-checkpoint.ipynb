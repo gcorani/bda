{
 "cells": [
  {
   "cell_type": "code",
   "execution_count": 1,
   "metadata": {
    "slideshow": {
     "slide_type": "skip"
    }
   },
   "outputs": [
    {
     "name": "stderr",
     "output_type": "stream",
     "text": [
      "WARNING (theano.configdefaults): g++ not detected ! Theano will be unable to execute optimized C-implementations (for both CPU and GPU) and will default to Python implementations. Performance will be severely degraded. To remove this warning, set Theano flags cxx to an empty string.\n",
      "WARNING (theano.tensor.blas): Using NumPy C-API based implementation for BLAS functions.\n"
     ]
    }
   ],
   "source": [
    "%matplotlib inline\n",
    "import numpy as np\n",
    "import pymc3 as pm\n",
    "import pandas as pd\n",
    "import matplotlib.pyplot as plt\n",
    "import scipy.stats as stats\n",
    "import arviz as az\n",
    "import seaborn as sns\n",
    "sns.set(rc={'figure.figsize':(12,8)})\n",
    "sns.set_theme()\n",
    "\n",
    "from IPython.display import display, Markdown\n",
    "az.style.use('arviz-darkgrid')\n",
    "np.random.seed(44)\n"
   ]
  },
  {
   "cell_type": "markdown",
   "metadata": {
    "slideshow": {
     "slide_type": "slide"
    }
   },
   "source": [
    "# Bayesian T-Test\n",
    "\n",
    "Giorgio Corani <br/>\n",
    "*Bayesian Data Analysis and Probabilistic Programming*\n",
    "<br/>\n",
    "<br/>\n",
    "``giorgio.corani@supsi.ch``"
   ]
  },
  {
   "cell_type": "markdown",
   "metadata": {
    "slideshow": {
     "slide_type": "slide"
    }
   },
   "source": [
    "# Reference for Bayesian t-test\n",
    "\n",
    "\n",
    "> Kruschke J, **Doing Bayesian Data Analysis**, Ch. 12"
   ]
  },
  {
   "cell_type": "markdown",
   "metadata": {
    "slideshow": {
     "slide_type": "slide"
    }
   },
   "source": [
    "# da OpenIntro: RIPRENDERE IL T TEST, LA NOTAZIONE E QUALE CONCLUSIONE TRARREMMO NEL CASO FREQUENTISTA"
   ]
  },
  {
   "cell_type": "markdown",
   "metadata": {
    "slideshow": {
     "slide_type": "slide"
    }
   },
   "source": [
    "# Drug trial evaluation\n",
    "\n",
    "* We  want to  evaluate  of a drug that is supposed to increase intelligence.\n",
    "\n",
    "* We have IQ measures  of:\n",
    "    * 47 individuals receiving the drug  (treatment group)\n",
    "    * 42 individuals  receiving the placebo (control group). \n",
    "    \n",
    "* Some observations are however far from the mean."
   ]
  },
  {
   "cell_type": "code",
   "execution_count": 3,
   "metadata": {
    "scrolled": false,
    "slideshow": {
     "slide_type": "skip"
    }
   },
   "outputs": [],
   "source": [
    "drug = np.array ([101,100,102,104,105,97,105,105,98,101,100,123,105,103,100,95,102,106,\n",
    "        109,102,82,102,100,104,102,101,102,102,103,103,97,97,103,101,97,104,\n",
    "        96,103,124,103,103,100,101,103,104,100,101])\n",
    "placebo = np.array ([ 99,101,100,101,99,100,97,101,104,101,102,102,100,105,88,101,100,\n",
    "           104,100,100,100,101,102,103,97,101,101,100,101,99,101,100,100,\n",
    "           101,100,99,101,100,102,99,98,99])\n",
    "\n",
    "y  = pd.DataFrame(dict(value=np.r_[drug, placebo], group=np.r_[['drug']*len(drug), ['placebo']*len(placebo)]))"
   ]
  },
  {
   "cell_type": "code",
   "execution_count": 4,
   "metadata": {
    "scrolled": false,
    "slideshow": {
     "slide_type": "slide"
    }
   },
   "outputs": [
    {
     "data": {
      "image/png": "[encoded data removed]",
      "text/plain": [
       "<Figure size 720x480 with 1 Axes>"
      ]
     },
     "metadata": {},
     "output_type": "display_data"
    }
   ],
   "source": [
    "sns.histplot(data=y, x=\"value\", hue=\"group\");"
   ]
  },
  {
   "cell_type": "markdown",
   "metadata": {
    "slideshow": {
     "slide_type": "slide"
    }
   },
   "source": [
    "# Research question\n",
    "* The sample mean of Group 1 is superior, but there is a lot of variability within groups, and the variances of the two groups also appear to differ.\n",
    "* There also appear to be some outliers.\n",
    "* Are these groups credibly different?\n",
    "* Is the drug credibly associated to a higher  IQ? "
   ]
  },
  {
   "cell_type": "markdown",
   "metadata": {
    "slideshow": {
     "slide_type": "slide"
    }
   },
   "source": [
    "## Likelihood\n",
    "\n",
    "* We  assume the two populations to have their own means ($\\mu_1, \\mu_2$) and standard deviations ($\\sigma_1, \\sigma_2$).\n",
    "\n",
    "* Given such parameters, and assuming a normal  likelihood function,  we have:\n",
    "\n",
    "$$y^{(treat)}_i \\sim N(\\mu_1, \\sigma_1)$$\n",
    "\n",
    "$$y^{(placebo)}_i \\sim N(\\mu_2, \\sigma_2)$$\n",
    "\n",
    "where $i$ refers to the $i$-th individual in the group.\n",
    "\n",
    "* To make inference on the $\\mu$'s and on the $\\sigma$'s, we need assigning priors to them."
   ]
  },
  {
   "cell_type": "markdown",
   "metadata": {
    "slideshow": {
     "slide_type": "slide"
    }
   },
   "source": [
    "# Prior on the mean of each group\n",
    "\n",
    "* We assign a normal prior to both means.\n",
    "* As mean of the prior, we use the mean of the  data, merging observations from the two groups (pooled mean).\n",
    "* As standard deviation, we use twice the mean of the standard deviation of the two groups (pooled standard deviation). "
   ]
  },
  {
   "cell_type": "code",
   "execution_count": 5,
   "metadata": {
    "slideshow": {
     "slide_type": "slide"
    }
   },
   "outputs": [],
   "source": [
    "# 'pooled'  implies that we merge measures from both groups.\n",
    "pooled_m = y.value.mean()\n",
    "pooled_s = ( ( drug.std() + placebo.std()) /2) \n",
    "\n",
    "#we are not yet instatianting the model as we do not provide the model name.\n",
    "with pm.Model():\n",
    "    #the means of both groups have the same prior\n",
    "    mu_drug     = pm.Normal ('mu_drug',    mu = pooled_m,  sd = pooled_s)\n",
    "    mu_placebo  = pm.Normal ('mu_placebo', mu = pooled_m,  sd = pooled_s)"
   ]
  },
  {
   "cell_type": "markdown",
   "metadata": {
    "slideshow": {
     "slide_type": "slide"
    }
   },
   "source": [
    "## Prior on standard deviation\n",
    "\n",
    "* Let us denote by $s_{p}$ the pooled standard deviation of the data.\n",
    "\n",
    "* Kruschke's original model adopts a uniform distribution with a very wide range ($s_{p}/1000$, $s_{p} \\cdot 1000$). But this gives a lot of prior weight to  inadmissable values. Moreover, the model is slow to sample.\n",
    "\n"
   ]
  },
  {
   "cell_type": "markdown",
   "metadata": {
    "slideshow": {
     "slide_type": "slide"
    }
   },
   "source": [
    "## Prior on standard deviation\n",
    "\n",
    "* In general it is better to apply any prior information that you have available. \n",
    "\n",
    "* The IQ can be interpreted according to the <a href=\"https://www.123test.com/interpretation-of-an-iq-score/\"> IQ scale meaning </a>.\n",
    "\n",
    "    * its  mean is about 100;  its standard devation in the whole population is  around 10 and the IQ is assumed to be normally distributed. \n",
    "\n",
    "    * thus extreme values of IQ  are 70 ( $\\mu - 3 \\sigma$: cognitively impaired) and 130 ($\\mu + 3 \\sigma$: very gifted). \n",
    "\n",
    "\n",
    "*  We give to  standard deviations a Half-normal prior over a plausible range of values, recalling that in our case $s_{p} \\approx 8.5$. \n",
    "\n"
   ]
  },
  {
   "cell_type": "code",
   "execution_count": 6,
   "metadata": {
    "slideshow": {
     "slide_type": "slide"
    }
   },
   "outputs": [
    {
     "data": {
      "text/html": [
       "<div>\n",
       "<style scoped>\n",
       "    .dataframe tbody tr th:only-of-type {\n",
       "        vertical-align: middle;\n",
       "    }\n",
       "\n",
       "    .dataframe tbody tr th {\n",
       "        vertical-align: top;\n",
       "    }\n",
       "\n",
       "    .dataframe thead th {\n",
       "        text-align: right;\n",
       "    }\n",
       "</style>\n",
       "<table border=\"1\" class=\"dataframe\">\n",
       "  <thead>\n",
       "    <tr style=\"text-align: right;\">\n",
       "      <th></th>\n",
       "      <th>0</th>\n",
       "    </tr>\n",
       "  </thead>\n",
       "  <tbody>\n",
       "    <tr>\n",
       "      <th>count</th>\n",
       "      <td>1000.000000</td>\n",
       "    </tr>\n",
       "    <tr>\n",
       "      <th>mean</th>\n",
       "      <td>16.973149</td>\n",
       "    </tr>\n",
       "    <tr>\n",
       "      <th>std</th>\n",
       "      <td>12.816294</td>\n",
       "    </tr>\n",
       "    <tr>\n",
       "      <th>min</th>\n",
       "      <td>0.017129</td>\n",
       "    </tr>\n",
       "    <tr>\n",
       "      <th>5%</th>\n",
       "      <td>1.182240</td>\n",
       "    </tr>\n",
       "    <tr>\n",
       "      <th>50%</th>\n",
       "      <td>14.388817</td>\n",
       "    </tr>\n",
       "    <tr>\n",
       "      <th>95%</th>\n",
       "      <td>40.951711</td>\n",
       "    </tr>\n",
       "    <tr>\n",
       "      <th>max</th>\n",
       "      <td>65.192425</td>\n",
       "    </tr>\n",
       "  </tbody>\n",
       "</table>\n",
       "</div>"
      ],
      "text/plain": [
       "                 0\n",
       "count  1000.000000\n",
       "mean     16.973149\n",
       "std      12.816294\n",
       "min       0.017129\n",
       "5%        1.182240\n",
       "50%      14.388817\n",
       "95%      40.951711\n",
       "max      65.192425"
      ]
     },
     "execution_count": 6,
     "metadata": {},
     "output_type": "execute_result"
    }
   ],
   "source": [
    "from scipy.stats import halfnorm\n",
    "\n",
    "#sample and summarize 1000 draws from a half-normal distribution whose scale is three times the sigma pooled.\n",
    "# this yields a  diffuse prior, but still defined over plausible range. \n",
    "pd.DataFrame(halfnorm.rvs(scale= pooled_s * 5, size=1000)).describe(percentiles=[.05, .5, .95])\n"
   ]
  },
  {
   "cell_type": "code",
   "execution_count": 11,
   "metadata": {
    "slideshow": {
     "slide_type": "slide"
    }
   },
   "outputs": [],
   "source": [
    "#full model\n",
    "\n",
    "with pm.Model() as  diff_drug_model:\n",
    "    mu_drug         = pm.Normal     ('mu_drug',    mu = pooled_m,  sd = pooled_s)\n",
    "    mu_placebo      = pm.Normal     ('mu_placebo', mu = pooled_m,  sd = pooled_s)\n",
    "    sigma_drug      = pm.HalfNormal ('sigma_drug',    sigma=pooled_s*5)\n",
    "    sigma_placebo   = pm.HalfNormal ('sigma_placebo', sigma=pooled_s*5)\n",
    "\n",
    "    \n",
    "    #likelihood for the two groups\n",
    "    y_drug      = pm.Normal  ('y_1',  mu=mu_drug,    sigma=sigma_drug,    observed= drug)\n",
    "    y_placebo   = pm.Normal  ('y_2',  mu=mu_placebo, sigma=sigma_placebo, observed= placebo)"
   ]
  },
  {
   "cell_type": "markdown",
   "metadata": {
    "slideshow": {
     "slide_type": "slide"
    }
   },
   "source": [
    "# Comparing the means\n",
    "\n",
    "To compare the means of the two populations we consider:\n",
    "* the difference between the means of the populations:\n",
    "$$\\mu_1 - \\mu_2$$ \n",
    "\n",
    "*  Cohen's d (*effect size*, more about it later): \n",
    "$$\n",
    "\\displaystyle\n",
    "\\frac{\\mu_2 - \\mu_1}{\\sigma_P}$$ \n",
    "\n",
    "where  $\\sigma_P$ is the pooled standard deviation,  $\\sigma_P = \\sqrt{ \\frac{\\sigma_2^2 + \\sigma_1^2}{2} }$\n",
    "\n",
    "* Effect size is  the amount of change induced by the treatment relative to the standard deviation. \n",
    "* In other words, effect size is the “standardized” change. \n",
    "* A conventionally “small” effect size in psychological research is 0.2 (Cohen, 1988),\n",
    "\n",
    "\n",
    "* We  can define such indicators  as *deterministic* variables in PyMC3;  their sampled values will be part of the output.\n",
    "* We can thus have their posterior distribution."
   ]
  },
  {
   "cell_type": "markdown",
   "metadata": {
    "slideshow": {
     "slide_type": "slide"
    }
   },
   "source": [
    "# Interpretation of Cohen's d values\n",
    "\n",
    "$$\n",
    "\\displaystyle\n",
    "\\frac{\\mu_2 - \\mu_1}{\\sqrt{\\frac{\\sigma_2^2 + \\sigma_1^2}{2}}}\n",
    "$$\n",
    "\n",
    "Guidelines:\n",
    "* small  effect ($0 \\leq d \\leq 0.5$)\n",
    "* medium effect  ($0.5 \\leq d \\leq 1$)\n",
    "* large  effect ($d >  1$)\n",
    "\n",
    "The same guidelines can be used to interpret negative values of  $d$."
   ]
  },
  {
   "cell_type": "code",
   "execution_count": 12,
   "metadata": {
    "slideshow": {
     "slide_type": "slide"
    }
   },
   "outputs": [
    {
     "name": "stderr",
     "output_type": "stream",
     "text": [
      "Auto-assigning NUTS sampler...\n",
      "Initializing NUTS using jitter+adapt_diag...\n",
      "/Users/giorgiocorani/opt/anaconda3/lib/python3.8/site-packages/theano/tensor/elemwise.py:826: RuntimeWarning: divide by zero encountered in log\n",
      "  variables = ufunc(*ufunc_args, **ufunc_kwargs)\n",
      "/Users/giorgiocorani/opt/anaconda3/lib/python3.8/site-packages/theano/tensor/elemwise.py:826: RuntimeWarning: invalid value encountered in multiply\n",
      "  variables = ufunc(*ufunc_args, **ufunc_kwargs)\n",
      "/Users/giorgiocorani/opt/anaconda3/lib/python3.8/site-packages/theano/tensor/elemwise.py:826: RuntimeWarning: invalid value encountered in log\n",
      "  variables = ufunc(*ufunc_args, **ufunc_kwargs)\n",
      "Multiprocess sampling (2 chains in 2 jobs)\n",
      "NUTS: [sigma_placebo, sigma_drug, mu_placebo, mu_drug]\n"
     ]
    },
    {
     "data": {
      "text/html": [
       "\n",
       "<style>\n",
       "    /* Turns off some styling */\n",
       "    progress {\n",
       "        /* gets rid of default border in Firefox and Opera. */\n",
       "        border: none;\n",
       "        /* Needs to be in here for Safari polyfill so background images work as expected. */\n",
       "        background-size: auto;\n",
       "    }\n",
       "    .progress-bar-interrupted, .progress-bar-interrupted::-webkit-progress-bar {\n",
       "        background: #F44336;\n",
       "    }\n",
       "</style>\n"
      ],
      "text/plain": [
       "<IPython.core.display.HTML object>"
      ]
     },
     "metadata": {},
     "output_type": "display_data"
    },
    {
     "data": {
      "text/html": [
       "\n",
       "    <div>\n",
       "      <progress value='4000' class='' max='4000' style='width:300px; height:20px; vertical-align: middle;'></progress>\n",
       "      100.00% [4000/4000 01:35<00:00 Sampling 2 chains, 0 divergences]\n",
       "    </div>\n",
       "    "
      ],
      "text/plain": [
       "<IPython.core.display.HTML object>"
      ]
     },
     "metadata": {},
     "output_type": "display_data"
    },
    {
     "name": "stderr",
     "output_type": "stream",
     "text": [
      "Sampling 2 chains for 1_000 tune and 1_000 draw iterations (2_000 + 2_000 draws total) took 100 seconds.\n"
     ]
    }
   ],
   "source": [
    "with diff_drug_model:\n",
    "    #The deterministic variables are function of the parameters, whose values appear in the trace.\n",
    "    diff_of_means = pm.Deterministic ('diff_of_means', mu_drug - mu_placebo)\n",
    "    effect_size   = pm.Deterministic('effect_size', diff_of_means / np.sqrt((sigma_drug**2 + sigma_placebo**2) / 2))\n",
    "    trace         = pm.sample(return_inferencedata=True)"
   ]
  },
  {
   "cell_type": "markdown",
   "metadata": {
    "slideshow": {
     "slide_type": "slide"
    }
   },
   "source": [
    "# Did the sampler converge? Trace plot of parameters and deterministic variables"
   ]
  },
  {
   "cell_type": "code",
   "execution_count": null,
   "metadata": {
    "slideshow": {
     "slide_type": "slide"
    }
   },
   "outputs": [],
   "source": [
    "az.plot_trace(trace);"
   ]
  },
  {
   "cell_type": "code",
   "execution_count": null,
   "metadata": {
    "slideshow": {
     "slide_type": "slide"
    }
   },
   "outputs": [],
   "source": [
    "az.summary(trace)"
   ]
  },
  {
   "cell_type": "markdown",
   "metadata": {
    "slideshow": {
     "slide_type": "slide"
    }
   },
   "source": [
    "# Is the model adequate? Posterior predictive checks"
   ]
  },
  {
   "cell_type": "code",
   "execution_count": null,
   "metadata": {
    "slideshow": {
     "slide_type": "slide"
    }
   },
   "outputs": [],
   "source": [
    "with diff_drug_model:\n",
    "     ppc = pm.sample_posterior_predictive(trace)\n",
    "az.plot_ppc(az.from_pymc3(posterior_predictive=ppc, model=diff_drug_model));"
   ]
  },
  {
   "cell_type": "markdown",
   "metadata": {
    "slideshow": {
     "slide_type": "slide"
    }
   },
   "source": [
    "# Discussion\n",
    "* The density is too low in the center of the distribution.\n",
    "* For the moment, we continue the analysis with our current model.\n",
    "* Later we will improve the model by making it robust.\n"
   ]
  },
  {
   "cell_type": "markdown",
   "metadata": {},
   "source": [
    "# Assessing the credibility of the difference being 0\n",
    "* We can assess the credibility of a certain value. \n",
    "* We are  interested in 0, which corresponds to the mean IQ being the same in the two groups. \n",
    "*  We thus  examine the posterior distribution of the credible parameter values and sees whether 0  falls in a region of high density or not.\n",
    "* If the null value is far from the most credible values, we  reject it."
   ]
  },
  {
   "cell_type": "code",
   "execution_count": null,
   "metadata": {
    "slideshow": {
     "slide_type": "slide"
    }
   },
   "outputs": [],
   "source": [
    "az.plot_posterior(trace, var_names=['diff_of_means','effect_size'],  ref_val=0, color='#87ceeb', linewidth=5);"
   ]
  },
  {
   "cell_type": "markdown",
   "metadata": {
    "slideshow": {
     "slide_type": "slide"
    }
   },
   "source": [
    "# Fine-grained analysis of  the effect size\n",
    "\n",
    "* The posterior probability of the effect size being small, medium, large are computed in the next slide.\n",
    "\n"
   ]
  },
  {
   "cell_type": "code",
   "execution_count": 21,
   "metadata": {
    "slideshow": {
     "slide_type": "slide"
    }
   },
   "outputs": [],
   "source": [
    "d  = az.extract_dataset(trace, var_names=\"effect_size\")"
   ]
  },
  {
   "cell_type": "markdown",
   "metadata": {
    "slideshow": {
     "slide_type": "slide"
    }
   },
   "source": [
    "# Discussion\n",
    "\n",
    "* As the value of 0 is out of the 95 HDI, we can reject it: it is not plausible.\n",
    "* The difference between the two means is 1.9 on average.\n",
    "*  The 95% HDI of the difference of means falls well above zero, and about 97% of the credible values are greater than zero. \n",
    "* Thus the groups’ means are credibly different. \n",
    "* Bayesian analysis yields the posterior distribution of credible values, which we can use to take  conclusions\n"
   ]
  },
  {
   "cell_type": "code",
   "execution_count": 46,
   "metadata": {
    "slideshow": {
     "slide_type": "slide"
    }
   },
   "outputs": [
    {
     "data": {
      "text/plain": [
       "(0.0, 0.5]      0.6610\n",
       "(0.5, 1.0]      0.3085\n",
       "(1.0, 100.0]    0.0015\n",
       "Name: effect_size, dtype: float64"
      ]
     },
     "execution_count": 46,
     "metadata": {},
     "output_type": "execute_result"
    }
   ],
   "source": [
    "effect=pd.DataFrame(d.effect_size, columns=[\"effect_size\"])\n",
    "bins = [0, 0.5, 1, 100]\n",
    "res = pd.cut(effect[\"effect_size\"],bins= bins).value_counts() / len(effect)\n",
    "res"
   ]
  },
  {
   "cell_type": "markdown",
   "metadata": {
    "slideshow": {
     "slide_type": "slide"
    }
   },
   "source": [
    "## Robust likelihood\n",
    "We could choose  a Student-t distribution to describe the distributions of the scores in each group. This choice adds robustness to the analysis, as a T distribution is less sensitive to outlier observations, relative to a normal distribution.\n",
    "As already discussed, we use a Student-t distribution with 4 degrees of freedom, in oder to filer outlieres.\n",
    "\n",
    "Thus, the likelihood functions of our model are specified as follows:\n",
    "\n",
    "$$y^{(treat)}_i \\sim T(\\nu=4, \\mu_1, \\sigma_1)$$\n",
    "\n",
    "$$y^{(placebo)}_i \\sim T(\\nu=4, \\mu_2, \\sigma_2)$$\n"
   ]
  },
  {
   "cell_type": "code",
   "execution_count": null,
   "metadata": {
    "slideshow": {
     "slide_type": "slide"
    }
   },
   "outputs": [],
   "source": [
    "σ_low = 1\n",
    "σ_high = 20\n",
    "μ_m = y.value.mean()\n",
    "μ_s = y.value.std() * 2\n",
    "\n",
    "with pm.Model() as robust_model:\n",
    "    #the first part of the model (prior on means and sigmas) does not change.\n",
    "    mu_drug       = pm.Normal ('mu_drug',       mu=μ_m,  sd=μ_s)\n",
    "    mu_placebo  = pm.Normal ('mu_placebo', mu=μ_m,  sd=μ_s)\n",
    "    sigma_drug          =   pm.HalfNormal ('sigma_drug',       sigma=pooled_s*5)\n",
    "    sigma_placebo     =   pm.HalfNormal ('sigma_placebo', sigma=pooled_s*5)\n",
    "\n",
    "    #But we drop the normal likelihood\n",
    "    #y_drug       = pm.Normal    ('y_1',  mu=mu_drug,      sigma=sigma_drug,      observed= drug)\n",
    "    #y_placebo = pm.Normal   ('y_2',  mu=mu_placebo, sigma=sigma_placebo, observed= placebo)\n",
    "    \n",
    "    #Adopting instead a robust likelihood. \n",
    "    #For simplicity we use a Student T with nu=4.  A more sophisticated approach would be to put a prior also on nu, but\n",
    "    #that makes the model more complex to sample. \n",
    "    group1 = pm.StudentT ('drug',       nu=4, mu=mu_drug,       sd=sigma_drug,       observed=drug)\n",
    "    group2 = pm.StudentT ('placebo', nu=4, mu=mu_placebo,  sd=sigma_placebo, observed=placebo)\n",
    "    \n",
    "    #Derived quantities:\n",
    "    diff_of_means = pm.Deterministic('diff_of_means', mu_drug - mu_placebo)\n",
    "    effect_size   = pm.Deterministic('effect_size', diff_of_means / np.sqrt((sigma_drug**2 + sigma_placebo**2) / 2))\n",
    "    robust_trace  = pm.sample(return_inferencedata=True)"
   ]
  },
  {
   "cell_type": "code",
   "execution_count": null,
   "metadata": {
    "slideshow": {
     "slide_type": "slide"
    }
   },
   "outputs": [],
   "source": [
    "az.summary(robust_trace)"
   ]
  },
  {
   "cell_type": "code",
   "execution_count": null,
   "metadata": {
    "slideshow": {
     "slide_type": "slide"
    }
   },
   "outputs": [],
   "source": [
    "with robust_model:\n",
    "     robust_ppc = pm.sample_posterior_predictive(robust_trace)\n",
    "az.plot_ppc(az.from_pymc3(posterior_predictive=robust_ppc, model=robust_model));"
   ]
  },
  {
   "cell_type": "markdown",
   "metadata": {
    "slideshow": {
     "slide_type": "slide"
    }
   },
   "source": [
    "# The robust model provides a better fit to the data. Which conclusions can we draw from the posterior?"
   ]
  },
  {
   "cell_type": "code",
   "execution_count": null,
   "metadata": {
    "scrolled": false,
    "slideshow": {
     "slide_type": "slide"
    }
   },
   "outputs": [],
   "source": [
    "az.plot_posterior(robust_trace, var_names=[ 'diff_of_means', 'effect_size'], color='#87ceeb', linewidth=5, ref_val=0);"
   ]
  },
  {
   "cell_type": "markdown",
   "metadata": {
    "slideshow": {
     "slide_type": "slide"
    }
   },
   "source": [
    "* The conclusions are even stronger than in the previous case, confirming the strong association between the drug and a higher IQ."
   ]
  }
 ],
 "metadata": {
  "anaconda-cloud": {},
  "celltoolbar": "Slideshow",
  "kernelspec": {
   "display_name": "Python 3 (ipykernel)",
   "language": "python",
   "name": "python3"
  },
  "language_info": {
   "codemirror_mode": {
    "name": "ipython",
    "version": 3
   },
   "file_extension": ".py",
   "mimetype": "text/x-python",
   "name": "python",
   "nbconvert_exporter": "python",
   "pygments_lexer": "ipython3",
   "version": "3.9.12"
  },
  "latex_envs": {
   "bibliofile": "biblio.bib",
   "cite_by": "apalike",
   "current_citInitial": 1,
   "eqLabelWithNumbers": true,
   "eqNumInitial": 0
  }
 },
 "nbformat": 4,
 "nbformat_minor": 2
}
