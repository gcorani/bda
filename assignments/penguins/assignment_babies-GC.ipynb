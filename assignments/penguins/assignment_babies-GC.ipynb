{
 "cells": [
  {
   "cell_type": "code",
   "execution_count": 1,
   "metadata": {
    "pycharm": {
     "name": "#%%\n"
    }
   },
   "outputs": [],
   "source": [
    "import pandas as pd\n",
    "import numpy as np\n",
    "import matplotlib.pyplot as plt\n",
    "import scipy.stats as stats\n",
    "from scipy.special import logsumexp\n",
    "from matplotlib import cm\n",
    "import arviz as az\n",
    "import pymc as pm"
   ]
  },
  {
   "cell_type": "markdown",
   "metadata": {
    "pycharm": {
     "name": "#%% md\n"
    }
   },
   "source": [
    "# Assignment: Babies"
   ]
  },
  {
   "cell_type": "code",
   "execution_count": 2,
   "metadata": {},
   "outputs": [],
   "source": [
    "babies = pd.read_csv('babies_month_length.csv')"
   ]
  },
  {
   "cell_type": "code",
   "execution_count": 3,
   "metadata": {},
   "outputs": [],
   "source": [
    "month_obs = babies[\"Month\"].values # x variable\n",
    "length_obs = babies[\"Length\"].values # y variable"
   ]
  },
  {
   "cell_type": "markdown",
   "metadata": {
    "pycharm": {
     "name": "#%% md\n"
    }
   },
   "source": [
    "## Problem and data\n",
    "\n",
    "The length of human babies $y$ increase with the month from birth $x$ of the baby. For simplicity, we hypothize a *linear* dependency between $x$ and $y$, see scatterplot below."
   ]
  },
  {
   "cell_type": "code",
   "execution_count": 51,
   "metadata": {},
   "outputs": [
    {
     "data": {
      "image/png": "[encoded data removed]",
      "text/plain": [
       "<Figure size 640x480 with 1 Axes>"
      ]
     },
     "metadata": {},
     "output_type": "display_data"
    }
   ],
   "source": [
    "fig, ax = plt.subplots()\n",
    "ax.plot(babies[\"Month\"], babies[\"Length\"], 'C0.', alpha=1.0, label=\"samples\")\n",
    "#ax.plot(0, alpha, \"r*\", label=\"alpha\")\n",
    "ax.set_ylabel(\"Length $y$ (cm)\")\n",
    "ax.set_xlabel(\"Month $x$ (-)\")\n",
    "plt.legend();"
   ]
  },
  {
   "cell_type": "markdown",
   "metadata": {},
   "source": [
    "While the linear hypotesis seems reasonable, the points do not lie exactly on a line. In order to better characterize the data, we introduce the following probabilistic assumptions:\n",
    "\n",
    "\n",
    "\n",
    "1. The average of the baby length $y_{\\mu}$ at a given month $x$ is linear with intercept and slope coefficients \n",
    "   $\\alpha$ and $\\beta$, respectively:  $$y_{\\mu} = \\alpha + \\beta x$$\n",
    "\n",
    "2. The actual baby length is Gaussian with mean $y_{\\mu}$ and standard deviation $\\sigma$\n",
    "3. The prior probability of $\\beta$ is Gaussian with mean $0$ and standard deviation $\\sigma_\\beta=0.5$\n",
    "4. The prior probability of $\\sigma$ is a Half-Normal with standard deviation $\\sigma_\\sigma=1.0$\n",
    "5. The intercept coefficient $\\alpha$ is considered known and equal to $55.0$\n",
    "6. Probabilities of different observations are independent of each other, given  $\\beta, \\sigma$\n",
    "\n",
    "\n",
    "Note: Condition 5 is rather artificial. It has been introduced here to limit the number of random variables and allow implementation of different approximate inference techniques."
   ]
  },
  {
   "cell_type": "code",
   "execution_count": 52,
   "metadata": {},
   "outputs": [],
   "source": [
    "# Probabilistic model constants\n",
    "alpha = 55.0\n",
    "sigma_sigma = 1.0\n",
    "sigma_beta = 0.5"
   ]
  },
  {
   "cell_type": "markdown",
   "metadata": {
    "pycharm": {
     "name": "#%% md\n"
    }
   },
   "source": [
    "## 1.1: Probabilistic model\n",
    "\n",
    "* Derive and comment the full probabilistic model."
   ]
  },
  {
   "cell_type": "markdown",
   "metadata": {
    "pycharm": {
     "name": "#%% md\n"
    }
   },
   "source": [
    "## 1.2: Maximum Likelihood estimation \n"
   ]
  },
  {
   "cell_type": "markdown",
   "metadata": {},
   "source": [
    "* Derive an analytical expression of the log-likelihood function $\\ell(\\beta, \\sigma) = \\log P(y|\\beta, \\sigma)$."
   ]
  },
  {
   "cell_type": "markdown",
   "metadata": {},
   "source": [
    "\\begin{align*}\n",
    "\\mathcal{l}(\\beta, \\sigma) = \\prod_{i=1}^{n} N(y_i; 55 + \\beta x_i, sigma)\n",
    "\\end{align*}"
   ]
  },
  {
   "cell_type": "markdown",
   "metadata": {},
   "source": [
    "* Write a Python function corresponding to the log-likelihood function $\\ell(\\beta, \\sigma)$. You may ignore additive factors which do not depend on $\\beta, \\sigma$."
   ]
  },
  {
   "cell_type": "code",
   "execution_count": 53,
   "metadata": {},
   "outputs": [
    {
     "ename": "TypeError",
     "evalue": "array() missing required argument 'object' (pos 0)",
     "output_type": "error",
     "traceback": [
      "\u001b[0;31m---------------------------------------------------------------------------\u001b[0m",
      "\u001b[0;31mTypeError\u001b[0m                                 Traceback (most recent call last)",
      "\u001b[1;32m/Users/giorgio/Downloads/assignment/assignment_babies.ipynb Cell 14\u001b[0m line \u001b[0;36m3\n\u001b[1;32m      <a href='vscode-notebook-cell:/Users/giorgio/Downloads/assignment/assignment_babies.ipynb#X44sZmlsZQ%3D%3D?line=0'>1</a>\u001b[0m \u001b[39mimport\u001b[39;00m \u001b[39mnumpy\u001b[39;00m \u001b[39mas\u001b[39;00m \u001b[39mnp\u001b[39;00m\n\u001b[0;32m----> <a href='vscode-notebook-cell:/Users/giorgio/Downloads/assignment/assignment_babies.ipynb#X44sZmlsZQ%3D%3D?line=2'>3</a>\u001b[0m loglik \u001b[39m=\u001b[39m np\u001b[39m.\u001b[39;49marray()\n",
      "\u001b[0;31mTypeError\u001b[0m: array() missing required argument 'object' (pos 0)"
     ]
    }
   ],
   "source": [
    "import numpy as np\n",
    "\n",
    "loglik = np.array()"
   ]
  },
  {
   "cell_type": "markdown",
   "metadata": {},
   "source": [
    "* Visualize the log-likelihood function $\\ell(\\beta, \\sigma)$ in 2D"
   ]
  },
  {
   "cell_type": "markdown",
   "metadata": {},
   "source": [
    "* Obtain the maximum likelihood estimate $\\beta^{\\rm ml}, \\sigma^{\\rm ml}$\n",
    "\n",
    "Hint: choose a good point to initialize the optimization"
   ]
  },
  {
   "cell_type": "markdown",
   "metadata": {},
   "source": [
    "* Visualize the log-likelihood together with the maximum likelihood estimate"
   ]
  },
  {
   "cell_type": "markdown",
   "metadata": {},
   "source": [
    "* Visualize the *likelihood* function $\\mathcal{L}(\\sigma, \\beta)$ in 2D up to a multiplicative constant"
   ]
  },
  {
   "cell_type": "markdown",
   "metadata": {
    "pycharm": {
     "name": "#%% md\n"
    }
   },
   "source": [
    "## 1.2: Maximum A Posteriori Estimation"
   ]
  },
  {
   "cell_type": "markdown",
   "metadata": {},
   "source": [
    "* Derive an analytical expression of the posterior $f(\\theta | y)$, up to a *multiplicative* factor that does not depend on $\\beta, \\sigma$. \n",
    "\n",
    "Hint: exploit the already-obtained likelihood and the functional form of the Gaussian pdf."
   ]
  },
  {
   "cell_type": "markdown",
   "metadata": {
    "pycharm": {
     "name": "#%% md\n"
    }
   },
   "source": [
    "* Derive an analytical expression of the log-posterior $\\log f(\\theta | y)$, up to an *additive* factor that does not depend on $\\beta, \\sigma$. \n"
   ]
  },
  {
   "cell_type": "markdown",
   "metadata": {},
   "source": [
    "\\begin{align*}\n",
    "\\mathcal{f}(\\beta, \\sigma \\mid D) = p(\\beta) p(\\sigma) \\prod_{i=1}^{n} N(y_i; 55 + \\beta x_i, sigma)\\\\\n",
    "log(\\mathcal{f}(\\beta, \\sigma \\mid D)) = log(p(\\beta)) + log(p(\\sigma)) + \\sum_{i=1}^{n} N(y_i; 55 + \\beta x_i, sigma)\\\\\n",
    "\\end{align*}"
   ]
  },
  {
   "cell_type": "markdown",
   "metadata": {
    "pycharm": {
     "name": "#%% md\n"
    }
   },
   "source": [
    "* Write the log-posterior (up to an additive factor) as Python functions."
   ]
  },
  {
   "cell_type": "markdown",
   "metadata": {
    "pycharm": {
     "name": "#%% md\n"
    }
   },
   "source": [
    "* Compute the maximum a posteriore estimate $\\beta^{\\rm MAP}, \\sigma^{\\rm MAP}$."
   ]
  },
  {
   "cell_type": "markdown",
   "metadata": {
    "pycharm": {
     "name": "#%% md\n"
    }
   },
   "source": [
    "* Visualize the MAP estimate together with the log-posterior in 2D. Comment the results."
   ]
  },
  {
   "cell_type": "markdown",
   "metadata": {
    "pycharm": {
     "name": "#%% md\n"
    }
   },
   "source": [
    "## 1.3 Gridding (aka brute-force) posterior estimation"
   ]
  },
  {
   "cell_type": "markdown",
   "metadata": {
    "pycharm": {
     "name": "#%% md\n"
    }
   },
   "source": [
    "* Compute a gridding approximation of the *normalized* posterior, with the correct normalization constant. Explain the passages."
   ]
  },
  {
   "cell_type": "markdown",
   "metadata": {},
   "source": [
    "* Visualize the *normalized* posterior, together with the ML and MAP estimates"
   ]
  },
  {
   "cell_type": "markdown",
   "metadata": {
    "pycharm": {
     "name": "#%% md\n"
    }
   },
   "source": [
    "* Using the grid-based approximation of the posterior, compute the posterior mean of $\\beta$ and $\\sigma$."
   ]
  },
  {
   "cell_type": "markdown",
   "metadata": {
    "pycharm": {
     "name": "#%% md\n"
    }
   },
   "source": [
    "This is yet another meaningful point estimate of the latent variables $\\beta, \\sigma$ "
   ]
  },
  {
   "cell_type": "markdown",
   "metadata": {
    "pycharm": {
     "name": "#%% md\n"
    }
   },
   "source": [
    "## 1.4 Monte-carlo estimation"
   ]
  },
  {
   "cell_type": "markdown",
   "metadata": {
    "pycharm": {
     "name": "#%% md\n"
    }
   },
   "source": [
    "* Obtain a sample-based approximation of the posterior $f(\\beta, \\sigma | y)$ using pymc."
   ]
  },
  {
   "cell_type": "markdown",
   "metadata": {},
   "source": [
    "* Obtain a sample-based approximation of the posterior $f(\\beta, \\sigma | y)$ by implementing the Metropolis algorithm from scratch."
   ]
  },
  {
   "cell_type": "markdown",
   "metadata": {},
   "source": []
  },
  {
   "cell_type": "code",
   "execution_count": 4,
   "metadata": {},
   "outputs": [
    {
     "name": "stderr",
     "output_type": "stream",
     "text": [
      "Auto-assigning NUTS sampler...\n",
      "Initializing NUTS using jitter+adapt_diag...\n",
      "Multiprocess sampling (4 chains in 4 jobs)\n",
      "NUTS: [beta, sigma]\n"
     ]
    },
    {
     "data": {
      "text/html": [
       "\n",
       "<style>\n",
       "    /* Turns off some styling */\n",
       "    progress {\n",
       "        /* gets rid of default border in Firefox and Opera. */\n",
       "        border: none;\n",
       "        /* Needs to be in here for Safari polyfill so background images work as expected. */\n",
       "        background-size: auto;\n",
       "    }\n",
       "    progress:not([value]), progress:not([value])::-webkit-progress-bar {\n",
       "        background: repeating-linear-gradient(45deg, #7e7e7e, #7e7e7e 10px, #5c5c5c 10px, #5c5c5c 20px);\n",
       "    }\n",
       "    .progress-bar-interrupted, .progress-bar-interrupted::-webkit-progress-bar {\n",
       "        background: #F44336;\n",
       "    }\n",
       "</style>\n"
      ],
      "text/plain": [
       "<IPython.core.display.HTML object>"
      ]
     },
     "metadata": {},
     "output_type": "display_data"
    },
    {
     "data": {
      "text/html": [
       "\n",
       "    <div>\n",
       "      <progress value='8000' class='' max='8000' style='width:300px; height:20px; vertical-align: middle;'></progress>\n",
       "      100.00% [8000/8000 00:02&lt;00:00 Sampling 4 chains, 0 divergences]\n",
       "    </div>\n",
       "    "
      ],
      "text/plain": [
       "<IPython.core.display.HTML object>"
      ]
     },
     "metadata": {},
     "output_type": "display_data"
    },
    {
     "name": "stderr",
     "output_type": "stream",
     "text": [
      "Sampling 4 chains for 1_000 tune and 1_000 draw iterations (4_000 + 4_000 draws total) took 35 seconds.\n"
     ]
    }
   ],
   "source": [
    "import pymc as pm\n",
    "penguinModel = pm.Model()\n",
    "\n",
    "with penguinModel:\n",
    "    alpha = 55\n",
    "    beta = pm.Normal('beta', mu=0, sigma=0.5)\n",
    "    sigma = pm.HalfNormal('sigma',sigma=1)\n",
    "    y = pm.Normal('y',mu=alpha + beta * month_obs, sigma=sigma, observed= length_obs)\n",
    "    trace = pm.sample()"
   ]
  },
  {
   "cell_type": "code",
   "execution_count": 5,
   "metadata": {},
   "outputs": [
    {
     "data": {
      "image/png": "[encoded data removed]",
      "text/plain": [
       "<Figure size 1472x552 with 2 Axes>"
      ]
     },
     "metadata": {},
     "output_type": "display_data"
    }
   ],
   "source": [
    "with penguinModel:\n",
    "    az.plot_posterior(trace)"
   ]
  },
  {
   "cell_type": "code",
   "execution_count": 6,
   "metadata": {},
   "outputs": [
    {
     "data": {
      "text/html": [
       "<div>\n",
       "<style scoped>\n",
       "    .dataframe tbody tr th:only-of-type {\n",
       "        vertical-align: middle;\n",
       "    }\n",
       "\n",
       "    .dataframe tbody tr th {\n",
       "        vertical-align: top;\n",
       "    }\n",
       "\n",
       "    .dataframe thead th {\n",
       "        text-align: right;\n",
       "    }\n",
       "</style>\n",
       "<table border=\"1\" class=\"dataframe\">\n",
       "  <thead>\n",
       "    <tr style=\"text-align: right;\">\n",
       "      <th></th>\n",
       "      <th>mean</th>\n",
       "      <th>sd</th>\n",
       "      <th>hdi_3%</th>\n",
       "      <th>hdi_97%</th>\n",
       "      <th>mcse_mean</th>\n",
       "      <th>mcse_sd</th>\n",
       "      <th>ess_bulk</th>\n",
       "      <th>ess_tail</th>\n",
       "      <th>r_hat</th>\n",
       "    </tr>\n",
       "  </thead>\n",
       "  <tbody>\n",
       "    <tr>\n",
       "      <th>beta</th>\n",
       "      <td>1.450</td>\n",
       "      <td>0.036</td>\n",
       "      <td>1.383</td>\n",
       "      <td>1.519</td>\n",
       "      <td>0.001</td>\n",
       "      <td>0.000</td>\n",
       "      <td>3242.0</td>\n",
       "      <td>2486.0</td>\n",
       "      <td>1.0</td>\n",
       "    </tr>\n",
       "    <tr>\n",
       "      <th>sigma</th>\n",
       "      <td>1.548</td>\n",
       "      <td>0.321</td>\n",
       "      <td>0.995</td>\n",
       "      <td>2.131</td>\n",
       "      <td>0.006</td>\n",
       "      <td>0.004</td>\n",
       "      <td>2929.0</td>\n",
       "      <td>2439.0</td>\n",
       "      <td>1.0</td>\n",
       "    </tr>\n",
       "  </tbody>\n",
       "</table>\n",
       "</div>"
      ],
      "text/plain": [
       "        mean     sd  hdi_3%  hdi_97%  mcse_mean  mcse_sd  ess_bulk  ess_tail  \\\n",
       "beta   1.450  0.036   1.383    1.519      0.001    0.000    3242.0    2486.0   \n",
       "sigma  1.548  0.321   0.995    2.131      0.006    0.004    2929.0    2439.0   \n",
       "\n",
       "       r_hat  \n",
       "beta     1.0  \n",
       "sigma    1.0  "
      ]
     },
     "execution_count": 6,
     "metadata": {},
     "output_type": "execute_result"
    }
   ],
   "source": [
    "az.summary(trace)"
   ]
  },
  {
   "cell_type": "code",
   "execution_count": 103,
   "metadata": {},
   "outputs": [],
   "source": [
    "# computes the log-posterior for a specific parameter value and given the data set\n",
    "def log_posterior (alpha, beta, sigma, x, y):\n",
    "    #log prior\n",
    "    log_beta = np.log( stats.norm.pdf(beta, loc=0, scale=0.5) )\n",
    "    log_sigma = np.log( stats.halfnorm.pdf(sigma, scale=1) )\n",
    "    log_prior = log_beta + log_sigma\n",
    "    log_lik=0\n",
    "    for i in (range(len(y))):\n",
    "        log_lik = log_lik + stats.norm.pdf(y[i], loc = alpha + beta * x[i], scale = sigma)\n",
    "    return (log_beta[0] + log_sigma[0] + log_lik[0])\n"
   ]
  },
  {
   "cell_type": "code",
   "execution_count": 104,
   "metadata": {},
   "outputs": [],
   "source": [
    "#bivariate metropolis sampling\n",
    "import scipy.stats as stats\n",
    "\n",
    "samples=100\n",
    "trace = np.zeros([samples,2])\n",
    "logp_trace = np.zeros([samples])\n",
    "\n",
    "\n",
    "#draw initial value\n",
    "alpha = 55\n",
    "sigma0 = stats.halfnorm.rvs(scale=1, size=1)\n",
    "beta0  = stats.norm.rvs(loc=0, scale=0.5, size=1)\n",
    "trace[0] = [beta0[0], sigma0[0]]\n",
    "logp_trace[0] = log_posterior(alpha, beta0, sigma0, x=month_obs, y=length_obs) \n",
    "\n",
    "#for i in range(samples)\n",
    "    #draw proposal\n",
    "    #compute difference of log-posterior\n",
    "\n"
   ]
  },
  {
   "cell_type": "code",
   "execution_count": 78,
   "metadata": {},
   "outputs": [
    {
     "name": "stderr",
     "output_type": "stream",
     "text": [
      "/var/folders/2k/rgs_y6s556x557660m9wmrfc0000gp/T/ipykernel_8036/2485819306.py:3: DeprecationWarning: Conversion of an array with ndim > 0 to a scalar is deprecated, and will error in future. Ensure you extract a single element from your array before performing this operation. (Deprecated NumPy 1.25.)\n",
      "  trace[0,0] = stats.norm.rvs(loc=0, scale=0.5, size=1)\n"
     ]
    }
   ],
   "source": [
    "trace = np.zeros([10,2])\n",
    "trace[0] = [1, 2]\n",
    "trace[0,0] = stats.norm.rvs(loc=0, scale=0.5, size=1)"
   ]
  },
  {
   "cell_type": "code",
   "execution_count": 102,
   "metadata": {},
   "outputs": [
    {
     "data": {
      "text/plain": [
       "array([-0.76100387])"
      ]
     },
     "execution_count": 102,
     "metadata": {},
     "output_type": "execute_result"
    }
   ],
   "source": [
    "log_posterior(alpha, beta0, sigma0, x=month_obs, y=length_obs) "
   ]
  },
  {
   "cell_type": "code",
   "execution_count": null,
   "metadata": {},
   "outputs": [],
   "source": []
  }
 ],
 "metadata": {
  "kernelspec": {
   "display_name": "Python 3 (ipykernel)",
   "language": "python",
   "name": "python3"
  },
  "language_info": {
   "codemirror_mode": {
    "name": "ipython",
    "version": 3
   },
   "file_extension": ".py",
   "mimetype": "text/x-python",
   "name": "python",
   "nbconvert_exporter": "python",
   "pygments_lexer": "ipython3",
   "version": "3.11.4"
  }
 },
 "nbformat": 4,
 "nbformat_minor": 1
}
