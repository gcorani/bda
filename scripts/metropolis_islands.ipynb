{
 "cells": [
  {
   "cell_type": "code",
   "execution_count": 11,
   "id": "27507d8a-3c87-4d19-ad15-f1118caa135d",
   "metadata": {},
   "outputs": [],
   "source": [
    "#!/usr/bin/env python3\n",
    "# -*- coding: utf-8 -*-\n",
    "\"\"\"\n",
    "Created on Mon May  2 20:47:09 2022\n",
    "\n",
    "@author: giorgio\n",
    "\"\"\"\n",
    "import numpy as np\n",
    "import pandas as pd\n",
    "\n",
    "# returns the next position, deciding between moving left or right\n",
    "# it is necessary checking to stay within the bounds (1,7)\n",
    "def get_next_position( proposal, current_position ):\n",
    "    next_position = current_position\n",
    "    if np.random.uniform() < np.min( np.concatenate([ [1], (proposal/current_position).flatten() ])) :\n",
    "            next_position = proposal\n",
    "    return (next_position)"
   ]
  },
  {
   "cell_type": "markdown",
   "id": "72ba3396-cfc3-4079-bd94-a4ae63831aa7",
   "metadata": {},
   "source": [
    "# Simulation"
   ]
  },
  {
   "cell_type": "code",
   "execution_count": 24,
   "id": "e85392b9-0284-45cc-8daf-6358968affe6",
   "metadata": {},
   "outputs": [
    {
     "name": "stdout",
     "output_type": "stream",
     "text": [
      "1000/5000\n",
      "2000/5000\n",
      "3000/5000\n",
      "4000/5000\n",
      "5000/5000\n"
     ]
    }
   ],
   "source": [
    "samples = 5000\n",
    "\n",
    "position = np.ones([samples,1])\n",
    "start = 3\n",
    "position[0] = start\n",
    "\n",
    "for i in range(1,samples):\n",
    "    if (( i+1 ) % 1000 == 0):\n",
    "        print (str(i+1) + \"/\" + str(samples))\n",
    "    # initialize the proposal to the right, remaining within the allowed bounds\n",
    "    proposal = min(position[i-1]+1,7)\n",
    "\n",
    "    #change to left with probability 50% (avoiding negative values)\n",
    "    if  np.random.uniform()<0.5: \n",
    "        proposal = max(position[i-1]-1,1)\n",
    "    \n",
    "    position[i] = get_next_position( proposal, position[i-1])"
   ]
  },
  {
   "cell_type": "markdown",
   "id": "3693d0c9-3de1-402e-ad3b-0a0e83fd92d1",
   "metadata": {},
   "source": [
    "# Show the results"
   ]
  },
  {
   "cell_type": "code",
   "execution_count": 25,
   "id": "8a5f2b02-ff24-4f20-afcc-4a65e614453f",
   "metadata": {},
   "outputs": [],
   "source": [
    "df = pd.DataFrame(position, columns=[\"position\"])\n",
    "#frequency of each visit\n",
    "freqs = pd.crosstab(index=df['position'],columns=df['position'], margins=True)[\"All\"][0:7]\n",
    "\n",
    "#compare sampled and actual distribution\n",
    "empirical_p = freqs / sum(freqs)\n",
    "true_p = pd.Series(range(1,8)/np.sum(range(1,8)), index=empirical_p.index)\n",
    "results = pd.concat([true_p, empirical_p], axis=1)\n",
    "\n",
    "#this data frame compares the sampled and the actual distribution\n",
    "# if you want a better fit, increase the number of samples\n",
    "results = results.rename(columns={0: 'actual_distribution', 'All': 'sampled_distribution'})"
   ]
  },
  {
   "cell_type": "code",
   "execution_count": 26,
   "id": "5c021f7a-e3f5-4686-83f7-68a5bd6d7b05",
   "metadata": {},
   "outputs": [
    {
     "name": "stdout",
     "output_type": "stream",
     "text": [
      "          actual_distribution  sampled_distribution\n",
      "position                                           \n",
      "1.0                  0.035714                0.0458\n",
      "2.0                  0.071429                0.0864\n",
      "3.0                  0.107143                0.1062\n",
      "4.0                  0.142857                0.1358\n",
      "5.0                  0.178571                0.1704\n",
      "6.0                  0.214286                0.2050\n",
      "7.0                  0.250000                0.2504\n"
     ]
    }
   ],
   "source": [
    "print (results)"
   ]
  }
 ],
 "metadata": {
  "kernelspec": {
   "display_name": "Python 3 (ipykernel)",
   "language": "python",
   "name": "python3"
  },
  "language_info": {
   "codemirror_mode": {
    "name": "ipython",
    "version": 3
   },
   "file_extension": ".py",
   "mimetype": "text/x-python",
   "name": "python",
   "nbconvert_exporter": "python",
   "pygments_lexer": "ipython3",
   "version": "3.12.4"
  }
 },
 "nbformat": 4,
 "nbformat_minor": 5
}
