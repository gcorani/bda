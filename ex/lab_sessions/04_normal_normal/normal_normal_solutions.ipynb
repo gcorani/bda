{
 "cells": [
  {
   "cell_type": "code",
   "execution_count": null,
   "metadata": {
    "pycharm": {
     "name": "#%%\n"
    }
   },
   "outputs": [],
   "source": [
    "import numpy as np\n",
    "import pandas as pd\n",
    "import scipy\n",
    "import scipy.stats as stats\n",
    "import matplotlib.pyplot as plt\n",
    "from matplotlib import cm\n",
    "import pymc as pm\n",
    "import arviz as az\n",
    "import seaborn as sns"
   ]
  },
  {
   "cell_type": "markdown",
   "metadata": {},
   "source": [
    "# Exercise session 4: Normal-normal"
   ]
  },
  {
   "cell_type": "markdown",
   "metadata": {},
   "source": [
    "* Derive a normal-normal probabilistic model for the heigth of the Swiss population compatible with the following prior assumptions:\n",
    "\n",
    "1. The mean height of the population lies with 99% probability between 160 and 190 cm\n",
    "2. The heigth of each individual lies with 99% probability between 100 and 250 cm\n",
    "\n",
    "Treat the population mean *and* standard deviation as random variables.\n",
    "\n",
    "Two Swiss individuals are observed, their heighs are 168, 178 cm"
   ]
  },
  {
   "cell_type": "code",
   "execution_count": null,
   "metadata": {},
   "outputs": [],
   "source": [
    "y = np.array([168, 178])"
   ]
  },
  {
   "cell_type": "markdown",
   "metadata": {},
   "source": [
    "The probabilistic model is:\n",
    "\n",
    "\\begin{align}\n",
    " \\mu    & \\sim N(\\mu_\\mu, \\sigma_\\mu)\\\\\n",
    " \\sigma & \\sim \\textrm{Half-Normal}(\\xi)\\\\\n",
    " \\vec{y} & \\sim N(\\mu, \\sigma)\n",
    "\\end{align}\n",
    "\n",
    "\n",
    "The hyper-parameters of the probabilistic models are chosen in accordance with the prior assumptions as follows:\n",
    " - The prior mean of the population mean $\\mu_\\mu$ could be set to (190 + 160)/2 = 175 cm. <br/>\n",
    " - The prior standard deviation of the population mean $\\sigma_\\mu$ could be set to (190 -175)/3 = 5 cm. <br/>\n",
    " - A plausible value for the standard deviation $\\sigma$ of the individuals within the population is (250-100)/6 = 25.\n",
    "A half-normal distribution with scale parameter $\\xi=38$ has median slightly over 25. "
   ]
  },
  {
   "cell_type": "markdown",
   "metadata": {},
   "source": [
    "* Implement the model in pymc3"
   ]
  },
  {
   "cell_type": "code",
   "execution_count": null,
   "metadata": {},
   "outputs": [],
   "source": [
    "mu_mu = 175 # mean of the prior mean's distribution\n",
    "sigma_mu = 5 # standard deviation of the prior mean's distribution \n",
    "xi = 38 # scale parameter of the prior population's standard deviation\n",
    "#pd.DataFrame(stats.halfnorm.rvs(size=1000, scale=38)).median() # approx 24"
   ]
  },
  {
   "cell_type": "code",
   "execution_count": null,
   "metadata": {},
   "outputs": [],
   "source": [
    "with pm.Model() as model_height:\n",
    "\n",
    "    # prior distribution\n",
    "    mu = pm.Normal('mu', mu_mu, sigma_mu) # prior meam\n",
    "    sigma = pm.HalfNormal('sigma', sigma=38) # prior std\n",
    "\n",
    "    # observation model (likelihood)\n",
    "    y_obs = pm.Normal('y_obs', mu=mu, sigma=sigma, observed=y)\n",
    "    \n",
    "    trace_height = pm.sample(return_inferencedata=True, draws=2000, tune=2000) # defaults: 1000, 1000"
   ]
  },
  {
   "cell_type": "code",
   "execution_count": null,
   "metadata": {},
   "outputs": [],
   "source": [
    "pm.model_to_graphviz(model_height) # pip install graphviz, apt-get install graphviz (on ubuntu)"
   ]
  },
  {
   "cell_type": "code",
   "execution_count": null,
   "metadata": {},
   "outputs": [],
   "source": [
    "with model_height:\n",
    "    display(az.summary(trace_height))"
   ]
  },
  {
   "cell_type": "code",
   "execution_count": null,
   "metadata": {},
   "outputs": [],
   "source": [
    "with model_height:\n",
    "    az.plot_trace(trace_height);"
   ]
  },
  {
   "cell_type": "code",
   "execution_count": null,
   "metadata": {},
   "outputs": [],
   "source": [
    "with model_height:\n",
    "    az.plot_posterior(trace_height);"
   ]
  },
  {
   "cell_type": "code",
   "execution_count": null,
   "metadata": {},
   "outputs": [],
   "source": [
    "with model_height:\n",
    "    az.plot_pair(trace_height,\n",
    "                 kind=\"kde\", # scatter, hexbin, kde\n",
    "                 var_names=[\"sigma\", \"mu\"], \n",
    "                 marginals=True);"
   ]
  },
  {
   "cell_type": "code",
   "execution_count": null,
   "metadata": {},
   "outputs": [],
   "source": [
    "with model_height:\n",
    "    az.plot_pair(trace_height,\n",
    "                 kind=\"scatter\", \n",
    "                 var_names=[\"sigma\", \"mu\"], \n",
    "                 marginals=True);"
   ]
  },
  {
   "cell_type": "markdown",
   "metadata": {},
   "source": [
    "* Visualize the prior density $f_{\\rm prior}(\\mu, \\sigma)$ in 2D"
   ]
  },
  {
   "cell_type": "code",
   "execution_count": null,
   "metadata": {},
   "outputs": [],
   "source": [
    "prior_mu = stats.norm(loc=mu_mu, scale=sigma_mu)\n",
    "prior_sigma = stats.halfnorm(scale=xi)\n",
    "\n",
    "def prior_pdf_fun(mu, sigma):\n",
    "    return prior_mu.pdf(mu)*prior_sigma.pdf(sigma)\n",
    "\n",
    "mu_vec = np.linspace(145, 205, 100)\n",
    "sigma_vec = np.linspace(0.01, 100, 120)\n",
    "prior_pdf_mat = np.zeros((len(mu_vec), len(sigma_vec))) \n",
    "\n",
    "\n",
    "\n",
    "for mu_idx, mu_val in enumerate(mu_vec):\n",
    "    for sigma_idx, sigma_val in enumerate(sigma_vec):\n",
    "        prior_pdf_mat[mu_idx, sigma_idx] = prior_pdf_fun(mu_val, sigma_val) #prior_mu.pdf(mu_val)*prior_sigma.pdf(sigma_val)"
   ]
  },
  {
   "cell_type": "code",
   "execution_count": null,
   "metadata": {},
   "outputs": [],
   "source": [
    "fig, ax = plt.subplots(figsize=(10, 6))\n",
    "c = ax.pcolormesh(sigma_vec, mu_vec, prior_pdf_mat, cmap=cm.coolwarm, shading='auto')\n",
    "fig.colorbar(c, ax=ax)\n",
    "ax.set_title(f\"Prior pdf\")\n",
    "ax.set_xlabel(r\"$\\sigma$\")\n",
    "ax.set_ylabel(r\"$\\mu$\");"
   ]
  },
  {
   "cell_type": "markdown",
   "metadata": {},
   "source": [
    "* Obtain a gridding approximation of the posterior $f(\\mu, \\sigma | \\vec{y})$ and visualize it in 2D."
   ]
  },
  {
   "cell_type": "markdown",
   "metadata": {},
   "source": [
    "As always, the posterior is proportional to the product prior $\\times$ likelihood:\n",
    "\n",
    "$$f(\\mu, \\sigma | \\vec{y}) \\propto f_{\\rm prior}(\\mu, \\sigma)(\\vec{y} | \\mu, \\sigma)$$ \n",
    "\n",
    "Gridding, aka brute-forcing, consists in computing this product on a dense grid, and then (approximately) normalizing the result so that it integrates to 1."
   ]
  },
  {
   "cell_type": "code",
   "execution_count": null,
   "metadata": {},
   "outputs": [],
   "source": [
    "def lik_fun(mu, sigma, observed=y):\n",
    "    return np.prod(stats.norm.pdf(observed, loc=mu, scale=sigma))\n",
    "\n",
    "mu_vec = np.linspace(145, 205, 100); dmu = np.diff(mu_vec)[0]\n",
    "sigma_vec = np.linspace(0.01, 100, 120); dsigma = np.diff(sigma_vec)[0]\n",
    "post_pdf_mat = np.zeros((len(mu_vec), len(sigma_vec))) \n",
    "\n",
    "for mu_idx, mu_val in enumerate(mu_vec):\n",
    "    for sigma_idx, sigma_val in enumerate(sigma_vec):\n",
    "        post_pdf_mat[mu_idx, sigma_idx] = prior_pdf_fun(mu_val, sigma_val) * \\\n",
    "             lik_fun(mu_val, sigma_val, observed=y)\n",
    "        #prior_f = prior_mu.pdf(mu_val) * prior_sigma.pdf(sigma_val)\n",
    "        #lik = np.prod(stats.norm.pdf(y, loc=mu_val, scale=sigma_val))\n",
    "        #post_pdf_mat[mu_idx, sigma_idx] = prior_f * lik\n",
    "\n",
    "post_pdf_mat = post_pdf_mat/(np.sum(post_pdf_mat)*dmu*dsigma) # normalization"
   ]
  },
  {
   "cell_type": "code",
   "execution_count": null,
   "metadata": {},
   "outputs": [],
   "source": [
    "fig, ax = plt.subplots(figsize=(10, 6))\n",
    "c = ax.pcolormesh(sigma_vec, mu_vec, post_pdf_mat, cmap=cm.coolwarm, shading='auto')\n",
    "fig.colorbar(c, ax=ax)\n",
    "ax.set_title(r\"Posterior density $f(\\mu, \\sigma | \\vec{y})$, gridding approximation\")\n",
    "ax.set_xlabel(r\"$\\sigma$\")\n",
    "ax.set_ylabel(r\"$\\mu$\");"
   ]
  },
  {
   "cell_type": "markdown",
   "metadata": {},
   "source": [
    "The gridding posterior may be compared with the MC samples from pymc3"
   ]
  },
  {
   "cell_type": "code",
   "execution_count": null,
   "metadata": {},
   "outputs": [],
   "source": [
    "post_samples = az.extract(trace_height.posterior) #post_samples = az.extract_dataset(trace_height.posterior)\n",
    "fig, ax = plt.subplots(figsize=(10, 6))\n",
    "sns.kdeplot(x=post_samples.sigma.values, y=post_samples.mu.values,\n",
    "            fill=True, cmap=cm.coolwarm, levels=20)\n",
    "fig.colorbar(c, ax=ax)\n",
    "ax.set_xlabel(r\"$\\sigma$\")\n",
    "ax.set_ylabel(r\"$\\mu$\")\n",
    "ax.set_xlim([0.01, 120])\n",
    "ax.set_ylim([145, 205])\n",
    "plt.title(r\"Posterior density $f(\\mu, \\sigma | \\vec{y})$, KDE of MC samples from pymc3\");"
   ]
  },
  {
   "cell_type": "markdown",
   "metadata": {},
   "source": [
    "There seems to be an excellent match!"
   ]
  },
  {
   "cell_type": "markdown",
   "metadata": {},
   "source": [
    "* Obtain a gridding approximation of the posterior $f(\\mu, \\sigma | \\vec{y})$ using a log-domain implementation. Visualize the result in 2D."
   ]
  },
  {
   "cell_type": "code",
   "execution_count": null,
   "metadata": {
    "pycharm": {
     "name": "#%%\n"
    }
   },
   "outputs": [],
   "source": [
    "def post_logpdf_fun(mu, sigma, observed=y):\n",
    "    log_prior = prior_mu.logpdf(mu) + prior_sigma.logpdf(sigma)\n",
    "    log_lik = np.sum(stats.norm.logpdf(observed, loc=mu, scale=sigma))\n",
    "    log_post = log_prior + log_lik\n",
    "    return log_post\n",
    "\n",
    "mu_vec = np.linspace(145, 205, 100); dmu = np.diff(mu_vec)[0]\n",
    "sigma_vec = np.linspace(0.01, 100, 120); dsigma = np.diff(sigma_vec)[0]\n",
    "post_logpdf_mat = np.zeros((len(mu_vec), len(sigma_vec))) \n",
    "\n",
    "prior_mu = stats.norm(loc=mu_mu, scale=sigma_mu)\n",
    "prior_sigma = stats.halfnorm(scale=xi)\n",
    "\n",
    "for mu_idx, mu_val in enumerate(mu_vec):\n",
    "    for sigma_idx, sigma_val in enumerate(sigma_vec):\n",
    "        post_logpdf_mat[mu_idx, sigma_idx] = post_logpdf_fun(mu_val, sigma_val, observed=y)\n",
    "\n",
    "# from log pdf to pdf, robust way\n",
    "post_logpdf_mat = post_logpdf_mat - np.max(post_logpdf_mat) # shift the logpdf to have a maximum of 0\n",
    "post_pdf_mat = np.exp(post_logpdf_mat) # exponentiate safely (maximum value is exp(0)=1)\n",
    "post_pdf_mat = post_pdf_mat/(np.sum(post_pdf_mat)*dmu*dsigma) # normalize to a distribution\n",
    "\n",
    "# with the logsumexp magic, we could do it in one shot!\n",
    "#post_pdf_mat_ = np.exp(post_logpdf_mat - scipy.special.logsumexp(post_logpdf_mat))/(dmu*dsigma)"
   ]
  },
  {
   "cell_type": "code",
   "execution_count": null,
   "metadata": {},
   "outputs": [],
   "source": [
    "fig, ax = plt.subplots(figsize=(10, 6))\n",
    "c = ax.pcolormesh(sigma_vec, mu_vec, post_pdf_mat, cmap=cm.coolwarm, shading='auto')\n",
    "fig.colorbar(c, ax=ax)\n",
    "ax.set_title(f\"Posterior distribution\")\n",
    "ax.set_xlabel(r\"$\\sigma$\")\n",
    "ax.set_ylabel(r\"$\\mu$\");"
   ]
  },
  {
   "cell_type": "markdown",
   "metadata": {},
   "source": [
    "Note: we kept the grid rather coarse. With a faster sotware impementation, we can do somewhat better."
   ]
  },
  {
   "cell_type": "code",
   "execution_count": null,
   "metadata": {},
   "outputs": [],
   "source": [
    "def log_post_fun_vectorized(mu, sigma, observed=y):\n",
    "    log_prior = prior_mu.logpdf(mu) + prior_sigma.logpdf(sigma)\n",
    "    log_lik = np.sum(stats.norm.logpdf(observed, loc=mu, scale=sigma), axis=-1, keepdims=True)\n",
    "    log_post = log_prior + log_lik\n",
    "    return log_post\n",
    "\n",
    "mu_vec_fine = np.linspace(145, 205, 1000); dmu = np.diff(mu_vec)[0]\n",
    "sigma_vec_fine = np.linspace(0.01, 100, 1200); dsigma = np.diff(sigma_vec)[0]\n",
    "\n",
    "SIGMA, MU = np.meshgrid(sigma_vec_fine, mu_vec_fine, indexing='xy')\n",
    "post_logpdf_mat = log_post_fun_vectorized(MU[:, :, np.newaxis], SIGMA[:, :, np.newaxis], observed=y)\n",
    "post_logpdf_mat = post_logpdf_mat.squeeze() # remove useless trailing dimension\n",
    "post_logpdf_mat -= np.max(post_logpdf_mat) # shift the distributions to have a maximum of 0\n",
    "post_pdf_mat = np.exp(post_logpdf_mat)\n",
    "post_pdf_mat /= (np.sum(post_pdf_mat) * dmu * dsigma)"
   ]
  },
  {
   "cell_type": "code",
   "execution_count": null,
   "metadata": {},
   "outputs": [],
   "source": [
    "fig, ax = plt.subplots(figsize=(10, 6))\n",
    "c = ax.pcolormesh(SIGMA, MU, post_pdf_mat, cmap=cm.coolwarm, shading='auto')\n",
    "fig.colorbar(c, ax=ax)\n",
    "ax.set_title(f\"Posterior distribution\")\n",
    "ax.set_xlabel(r\"$\\sigma$\")\n",
    "ax.set_ylabel(r\"$\\mu$\");"
   ]
  },
  {
   "cell_type": "markdown",
   "metadata": {},
   "source": [
    "The vectorized implementation is much faster ($\\approx$ 100x!) and we can use a finer grid. Still, we would be out of business for higher-dimensional problems..."
   ]
  },
  {
   "cell_type": "markdown",
   "metadata": {},
   "source": [
    "* What happens to the two gridding approximations (basic and in log domain) if the observation is `y_long` defined below?"
   ]
  },
  {
   "cell_type": "code",
   "execution_count": null,
   "metadata": {},
   "outputs": [],
   "source": [
    "y_long = np.repeat(y, 200) # A much longer observation. "
   ]
  },
  {
   "cell_type": "code",
   "execution_count": null,
   "metadata": {},
   "outputs": [],
   "source": [
    "mu_vec = np.linspace(145, 205, 100); dmu = np.diff(mu_vec)[0]\n",
    "sigma_vec = np.linspace(0.01, 100, 120); dsigma = np.diff(sigma_vec)[0]\n",
    "post_pdf_mat = np.zeros((len(mu_vec), len(sigma_vec))) \n",
    "\n",
    "for mu_idx, mu_val in enumerate(mu_vec):\n",
    "    for sigma_idx, sigma_val in enumerate(sigma_vec):\n",
    "        post_pdf_mat[mu_idx, sigma_idx] = prior_pdf_fun(mu_val, sigma_val) * \\\n",
    "             lik_fun(mu_val, sigma_val, observed=y_long)\n",
    "\n",
    "post_pdf_mat = post_pdf_mat/(np.sum(post_pdf_mat)*dmu*dsigma) # normalization"
   ]
  },
  {
   "cell_type": "code",
   "execution_count": null,
   "metadata": {},
   "outputs": [],
   "source": [
    "fig, ax = plt.subplots(figsize=(10, 6))\n",
    "c = ax.pcolormesh(sigma_vec, mu_vec, post_pdf_mat, cmap=cm.coolwarm, shading='auto')\n",
    "fig.colorbar(c, ax=ax)\n",
    "ax.set_title(f\"Posterior distribution\")\n",
    "ax.set_xlabel(r\"$\\sigma$\")\n",
    "ax.set_ylabel(r\"$\\mu$\");"
   ]
  },
  {
   "cell_type": "markdown",
   "metadata": {},
   "source": [
    "The implementation without log fails miserably!"
   ]
  },
  {
   "cell_type": "code",
   "execution_count": null,
   "metadata": {},
   "outputs": [],
   "source": [
    "def post_logpdf_fun(mu, sigma, observed=y):\n",
    "    log_prior = prior_mu.logpdf(mu) + prior_sigma.logpdf(sigma)\n",
    "    log_lik = np.sum(stats.norm.logpdf(observed, loc=mu, scale=sigma))\n",
    "    log_post = log_prior + log_lik\n",
    "    return log_post\n",
    "\n",
    "mu_vec = np.linspace(145, 205, 100); dmu = np.diff(mu_vec)[0]\n",
    "sigma_vec = np.linspace(0.01, 100, 120); dsigma = np.diff(sigma_vec)[0]\n",
    "#mu_vec = np.linspace(172, 174, 100); dmu = np.diff(mu_vec)[0]\n",
    "#sigma_vec = np.linspace(2.0, 8.0, 120); dsigma = np.diff(sigma_vec)[0]\n",
    "post_logpdf_mat = np.zeros((len(mu_vec), len(sigma_vec))) \n",
    "\n",
    "prior_mu = stats.norm(loc=mu_mu, scale=sigma_mu)\n",
    "prior_sigma = stats.halfnorm(scale=xi)\n",
    "\n",
    "for mu_idx, mu_val in enumerate(mu_vec):\n",
    "    for sigma_idx, sigma_val in enumerate(sigma_vec):\n",
    "        post_logpdf_mat[mu_idx, sigma_idx] = post_logpdf_fun(mu_val, sigma_val, observed=y_long)\n",
    "\n",
    "post_logpdf_mat = post_logpdf_mat - np.max(post_logpdf_mat) # shift the distributions to have a maximum of 0\n",
    "\n",
    "post_pdf_mat = np.exp(post_logpdf_mat)\n",
    "post_pdf_mat = post_pdf_mat/(np.sum(post_pdf_mat)*dmu*dsigma)"
   ]
  },
  {
   "cell_type": "code",
   "execution_count": null,
   "metadata": {},
   "outputs": [],
   "source": [
    "fig, ax = plt.subplots(figsize=(10, 6))\n",
    "c = ax.pcolormesh(sigma_vec, mu_vec, post_pdf_mat, cmap=cm.coolwarm, shading='auto')\n",
    "fig.colorbar(c, ax=ax)\n",
    "ax.set_title(f\"Posterior distribution\")\n",
    "ax.set_xlabel(r\"$\\sigma$\")\n",
    "ax.set_ylabel(r\"$\\mu$\");"
   ]
  },
  {
   "cell_type": "markdown",
   "metadata": {},
   "source": [
    "The implementation in the log domain still works. Perhaps we can choose a better grid range..."
   ]
  },
  {
   "cell_type": "markdown",
   "metadata": {},
   "source": [
    "* Obtain a sample-based approximation of the posterior implementing Metropolis from scratch."
   ]
  },
  {
   "cell_type": "code",
   "execution_count": null,
   "metadata": {},
   "outputs": [],
   "source": [
    "def p_ratio_fun(mu_propose, sigma_propose, mu_previous, sigma_previous):\n",
    "    log_p_propose = post_logpdf_fun(mu_propose, sigma_propose, observed=y)\n",
    "    log_p_previous = post_logpdf_fun(mu_previous, sigma_previous, observed=y)\n",
    "    log_p_ratio = log_p_propose - log_p_previous \n",
    "    p_ratio = np.exp(log_p_ratio)\n",
    "    return p_ratio"
   ]
  },
  {
   "cell_type": "code",
   "execution_count": null,
   "metadata": {},
   "outputs": [],
   "source": [
    "draws = 4_000 # number of Metropolis draws\n",
    "tune = 1_000 # tuning samples to be discarded\n",
    "mu_0 = 175.0 # initial value for alpha\n",
    "sigma_0 = 10.0 # initial value for alpha\n",
    "\n",
    "sigma_prop_mu = 2.0 # standard deviation of the proposal for mu\n",
    "sigma_prop_sigma = 5.0 # standard deviation of the proposal for sigma\n",
    "\n",
    "N = draws + tune\n",
    "mus = []\n",
    "sigmas = []\n",
    "mu_step = mu_0\n",
    "sigma_step = sigma_0\n",
    "for idx in range(N):\n",
    "    mus.append(mu_step)\n",
    "    sigmas.append(sigma_step)\n",
    "\n",
    "    mu_prop = mu_step + sigma_prop_mu * np.random.randn()\n",
    "    sigma_prop = sigma_step + sigma_prop_sigma * np.random.randn()\n",
    "  \n",
    "    p_ratio = p_ratio_fun(mu_prop, sigma_prop, mu_step, sigma_step)\n",
    "    accept_prob = np.minimum(1.0, p_ratio)\n",
    "    accept = (np.random.rand() < accept_prob)\n",
    "    \n",
    "    if accept:\n",
    "        mu_step = mu_prop\n",
    "        sigma_step = sigma_prop\n",
    "\n",
    "mus = np.array(mus[tune:]) # discard initial samples (burn-in)\n",
    "sigmas = np.array(sigmas[tune:])\n",
    "thetas = np.c_[mus, sigmas]"
   ]
  },
  {
   "cell_type": "code",
   "execution_count": null,
   "metadata": {},
   "outputs": [],
   "source": [
    "np.mean(thetas, axis=0) # result similar to pymc3!"
   ]
  },
  {
   "cell_type": "code",
   "execution_count": null,
   "metadata": {},
   "outputs": [],
   "source": [
    "fig, ax = plt.subplots(figsize=(10, 6))\n",
    "sns.kdeplot(x=sigmas, y=mus,\n",
    "            fill=True, cmap=cm.coolwarm, levels=20)\n",
    "fig.colorbar(c, ax=ax)\n",
    "ax.set_xlabel(r\"$\\sigma$\")\n",
    "ax.set_ylabel(r\"$\\mu$\")\n",
    "ax.set_xlim([0.01, 120])\n",
    "ax.set_ylim([145, 205])\n",
    "plt.title(r\"Posterior density $f(\\mu, \\sigma | \\vec{y})$, KDE of MC samples of Metropolis implemented from scratch\");"
   ]
  },
  {
   "cell_type": "code",
   "execution_count": null,
   "metadata": {},
   "outputs": [],
   "source": [
    "#fig, ax = plt.subplots(figsize=(10, 6))\n",
    "#az.plot_kde(sigmas, mus, contour_kwargs={\"colors\":None, \"cmap\":cm.coolwarm, \"levels\": 10})\n",
    "#ax.set_xlabel(r\"$\\sigma$\")\n",
    "#ax.set_ylabel(r\"$\\mu$\")\n",
    "#ax.set_xlim([0.01, 120])\n",
    "#ax.set_ylim([145, 205])\n",
    "#fig.colorbar(c, ax=ax);"
   ]
  },
  {
   "cell_type": "markdown",
   "metadata": {},
   "source": [
    "* Compare the solutions obtained with the different techniques (gridding, metropolis, pymc3)."
   ]
  }
 ],
 "metadata": {
  "kernelspec": {
   "display_name": "Python 3 (ipykernel)",
   "language": "python",
   "name": "python3"
  },
  "language_info": {
   "codemirror_mode": {
    "name": "ipython",
    "version": 3
   },
   "file_extension": ".py",
   "mimetype": "text/x-python",
   "name": "python",
   "nbconvert_exporter": "python",
   "pygments_lexer": "ipython3",
   "version": "3.11.6"
  }
 },
 "nbformat": 4,
 "nbformat_minor": 1
}
