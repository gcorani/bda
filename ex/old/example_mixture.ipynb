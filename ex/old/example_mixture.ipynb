{
 "cells": [
  {
   "cell_type": "code",
   "execution_count": null,
   "metadata": {
    "pycharm": {
     "name": "#%%\n"
    }
   },
   "outputs": [],
   "source": [
    "import numpy as np\n",
    "import scipy\n",
    "import scipy.stats as stats\n",
    "import matplotlib.pyplot as plt\n",
    "import seaborn as sns\n",
    "import pymc3 as pm\n",
    "import arviz as az\n",
    "import pandas as pd\n",
    "import plotly.express as px"
   ]
  },
  {
   "cell_type": "markdown",
   "metadata": {
    "pycharm": {
     "name": "#%% md\n"
    }
   },
   "source": [
    "## Factor data"
   ]
  },
  {
   "cell_type": "code",
   "execution_count": null,
   "metadata": {
    "pycharm": {
     "name": "#%%\n"
    }
   },
   "outputs": [],
   "source": [
    "mean_1 = 0\n",
    "mean_2 = 5\n",
    "std = 1\n",
    "N = 100\n",
    "y = np.r_[np.random.randn(N)*std + mean_1, np.random.randn(N)*std + mean_2]\n",
    "f = np.array(np.r_[np.zeros(N), np.ones(N)]).astype(\"int\")\n",
    "df = pd.DataFrame({\"factor\": f, \"value\": y})\n",
    "df[\"factor\"] = df[\"factor\"].astype(\"category\")\n",
    "df"
   ]
  },
  {
   "cell_type": "code",
   "execution_count": null,
   "metadata": {},
   "outputs": [],
   "source": [
    "#px.histogram(df, x=\"value\", color=\"factor\")\n",
    "sns.boxplot(data=df, x=\"value\", y=\"factor\")\n",
    "df.groupby(\"factor\").agg([\"mean\", \"std\"])"
   ]
  },
  {
   "cell_type": "markdown",
   "metadata": {
    "pycharm": {
     "name": "#%% md\n"
    }
   },
   "source": [
    "## Hierarchical model, common std\n",
    "\n",
    "\\begin{align*}\n",
    "y_{ij} &\\sim \\mathcal{N}(\\mu_j, \\sigma_j) \\\\\n",
    "\\mu_{j} &\\sim \\mathcal{N}(0, 1) \\\\\n",
    "\\sigma_{j} &\\sim |\\mathcal{N}|(0, \\sigma_j) \\\\\n",
    "\\end{align*}\n",
    "\n"
   ]
  },
  {
   "cell_type": "markdown",
   "metadata": {},
   "source": [
    "* Implement the hierarchical model with common std in pymc3"
   ]
  },
  {
   "cell_type": "code",
   "execution_count": null,
   "metadata": {},
   "outputs": [],
   "source": [
    "df[\"factor_id\"] = df[\"factor\"].cat.codes\n",
    "factors = list(df[\"factor\"].cat.categories)\n",
    "n_factors = len(factors) # number of machines (6)"
   ]
  },
  {
   "cell_type": "code",
   "execution_count": null,
   "metadata": {
    "pycharm": {
     "name": "#%%\n"
    }
   },
   "outputs": [],
   "source": [
    "with pm.Model() as model_hierarchical:\n",
    "    \n",
    "    # hyper_priors\n",
    "    hyper_mu_mu = pm.Normal('hyper_mu_mu', mu=92, sd=100)\n",
    "    hyper_mu_std = pm.HalfNormal('hyper_mu_std', sd=100)\n",
    "\n",
    "    # priors    \n",
    "    group_mu = pm.Normal('group_mu', mu=hyper_mu_mu, sd=hyper_mu_std, shape=n_factors)\n",
    "    std = pm.HalfNormal('std', sd=100)\n",
    "    y = pm.Normal('y', mu=group_mu[df[\"factor_id\"]], sd=std, observed=df[\"value\"])\n",
    "    \n",
    "    # prediction\n",
    "    pred_mu = pm.Normal('pred_mu', mu=hyper_mu_mu, sd=hyper_mu_std)\n",
    "    pred_y = pm.Normal('pred_y', mu=pred_mu, sd=std)\n",
    "    \n",
    "    \n",
    "    trace_hierarchical = pm.sample(1000, return_inferencedata=True)"
   ]
  },
  {
   "cell_type": "code",
   "execution_count": null,
   "metadata": {
    "pycharm": {
     "name": "#%%\n"
    }
   },
   "outputs": [],
   "source": [
    "with model_hierarchical:\n",
    "    display(az.summary(trace_hierarchical))"
   ]
  },
  {
   "cell_type": "code",
   "execution_count": null,
   "metadata": {},
   "outputs": [],
   "source": [
    "plt.hist(np.array(trace_hierarchical.posterior.pred_y).ravel(), bins=100);"
   ]
  }
 ],
 "metadata": {
  "kernelspec": {
   "display_name": "Python 3 (ipykernel)",
   "language": "python",
   "name": "python3"
  },
  "language_info": {
   "codemirror_mode": {
    "name": "ipython",
    "version": 3
   },
   "file_extension": ".py",
   "mimetype": "text/x-python",
   "name": "python",
   "nbconvert_exporter": "python",
   "pygments_lexer": "ipython3",
   "version": "3.9.12"
  },
  "vscode": {
   "interpreter": {
    "hash": "221c891a34d53b6a976517fba14e87e2d44925797743ab4436332eb8ae3ca627"
   }
  }
 },
 "nbformat": 4,
 "nbformat_minor": 1
}
