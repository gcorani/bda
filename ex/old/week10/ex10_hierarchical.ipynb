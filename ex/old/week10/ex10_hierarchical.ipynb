{
 "cells": [
  {
   "cell_type": "code",
   "execution_count": null,
   "metadata": {
    "pycharm": {
     "name": "#%%\n"
    }
   },
   "outputs": [],
   "source": [
    "import numpy as np\n",
    "import scipy\n",
    "import scipy.stats as stats\n",
    "import matplotlib.pyplot as plt\n",
    "import seaborn as sns\n",
    "import pymc3 as pm\n",
    "import arviz as az\n",
    "import pandas as pd\n",
    "import plotly.express as px"
   ]
  },
  {
   "cell_type": "code",
   "execution_count": null,
   "metadata": {
    "pycharm": {
     "name": "#%%\n"
    }
   },
   "outputs": [],
   "source": [
    "sns.set()"
   ]
  },
  {
   "cell_type": "markdown",
   "metadata": {
    "pycharm": {
     "name": "#%% md\n"
    }
   },
   "source": [
    "## Factory data"
   ]
  },
  {
   "cell_type": "code",
   "execution_count": null,
   "metadata": {
    "pycharm": {
     "name": "#%%\n"
    }
   },
   "outputs": [],
   "source": [
    "df_wide = pd.read_csv(\"factory.csv\")\n",
    "df_wide.set_index(\"measurement\", inplace=True)\n",
    "df_wide.columns.name = \"machine\"\n",
    "df_wide"
   ]
  },
  {
   "cell_type": "markdown",
   "metadata": {
    "pycharm": {
     "name": "#%% md\n"
    }
   },
   "source": [
    "A \"wide\" format is more convenient for the following analyises. Let us *melt* the dataframe!"
   ]
  },
  {
   "cell_type": "code",
   "execution_count": null,
   "metadata": {
    "pycharm": {
     "name": "#%%\n"
    }
   },
   "outputs": [],
   "source": [
    "df = pd.melt(df_wide.reset_index(),\n",
    "             id_vars=[\"measurement\"],\n",
    "             value_vars=['M1', 'M2', 'M3', 'M4', 'M5', 'M6'],\n",
    "             value_name='quality')\n",
    "df[\"machine\"] = df[\"machine\"].astype(\"category\")\n",
    "df.head()"
   ]
  },
  {
   "cell_type": "markdown",
   "metadata": {
    "pycharm": {
     "name": "#%% md\n"
    }
   },
   "source": [
    "## Some traditional analysis"
   ]
  },
  {
   "cell_type": "markdown",
   "metadata": {
    "pycharm": {
     "name": "#%% md\n"
    }
   },
   "source": [
    "* Obtain the pooled (global) mean and standard deviation of quality measurement"
   ]
  },
  {
   "cell_type": "code",
   "execution_count": null,
   "metadata": {
    "pycharm": {
     "name": "#%%\n"
    }
   },
   "outputs": [],
   "source": [
    "df[\"quality\"].mean(), df[\"quality\"].std()"
   ]
  },
  {
   "cell_type": "markdown",
   "metadata": {
    "pycharm": {
     "name": "#%% md\n"
    }
   },
   "source": [
    "* Plot the histogram of the quality measurement"
   ]
  },
  {
   "cell_type": "code",
   "execution_count": null,
   "metadata": {
    "pycharm": {
     "name": "#%%\n"
    }
   },
   "outputs": [],
   "source": [
    "sns.histplot(df[\"quality\"]);\n",
    "#px.histogram(df[\"quality\"]);"
   ]
  },
  {
   "cell_type": "markdown",
   "metadata": {
    "pycharm": {
     "name": "#%% md\n"
    }
   },
   "source": [
    "* Obtain the mean and standard deviation of quality measurement, for the different machines"
   ]
  },
  {
   "cell_type": "code",
   "execution_count": null,
   "metadata": {
    "pycharm": {
     "name": "#%%\n"
    }
   },
   "outputs": [],
   "source": [
    "df.groupby(\"machine\")[[\"quality\"]].agg([\"mean\", \"std\"])"
   ]
  },
  {
   "cell_type": "markdown",
   "metadata": {
    "pycharm": {
     "name": "#%% md\n"
    }
   },
   "source": [
    "* Draw boxplots of quality for the different factories"
   ]
  },
  {
   "cell_type": "code",
   "execution_count": null,
   "metadata": {
    "pycharm": {
     "name": "#%%\n"
    }
   },
   "outputs": [],
   "source": [
    "sns.boxplot(data=df, x=\"quality\", y=\"machine\");\n",
    "#px.box(df, x=\"quality\", y=\"machine\")"
   ]
  },
  {
   "cell_type": "markdown",
   "metadata": {
    "pycharm": {
     "name": "#%% md\n"
    }
   },
   "source": [
    "Even from a classical analysis, there seems to be evidence that different machines have different quality."
   ]
  },
  {
   "cell_type": "markdown",
   "metadata": {
    "pycharm": {
     "name": "#%% md\n"
    }
   },
   "source": [
    "## Pooled Bayesian model\n",
    "\n",
    "\\begin{align*}\n",
    "y_{ij} &\\sim \\mathcal{N}(\\mu, \\sigma) \\\\\n",
    "\\mu &\\sim \\mathcal{N}(92, 100) \\\\\n",
    "\\sigma &\\sim |\\mathcal{N}|(0, 100) \\\\\n",
    "\\end{align*}\n"
   ]
  },
  {
   "cell_type": "markdown",
   "metadata": {
    "pycharm": {
     "name": "#%% md\n"
    }
   },
   "source": [
    "* Implement the pooled model in pymc3"
   ]
  },
  {
   "cell_type": "code",
   "execution_count": null,
   "metadata": {
    "pycharm": {
     "name": "#%%\n"
    }
   },
   "outputs": [],
   "source": [
    "pd.DataFrame(stats.halfnorm.rvs(size=1000, scale=15)).describe()"
   ]
  },
  {
   "cell_type": "code",
   "execution_count": null,
   "metadata": {
    "pycharm": {
     "name": "#%%\n"
    }
   },
   "outputs": [],
   "source": [
    "with pm.Model() as model_pooled:\n",
    "    mu = pm.Normal('mu', mu=92.5, sd=10)\n",
    "    std = pm.HalfNormal('std', sd=15)\n",
    "    y = pm.Normal('y', mu=mu, sd=std, observed=df[\"quality\"])\n",
    "    trace_pooled = pm.sample(10_000, return_inferencedata=True)"
   ]
  },
  {
   "cell_type": "code",
   "execution_count": null,
   "metadata": {
    "pycharm": {
     "name": "#%%\n"
    }
   },
   "outputs": [],
   "source": [
    "with model_pooled:\n",
    "    display(az.summary(trace_pooled))"
   ]
  },
  {
   "cell_type": "code",
   "execution_count": null,
   "metadata": {
    "pycharm": {
     "name": "#%%\n"
    }
   },
   "outputs": [],
   "source": [
    "with model_pooled:\n",
    "    az.plot_posterior(trace_pooled);"
   ]
  },
  {
   "cell_type": "code",
   "execution_count": null,
   "metadata": {
    "pycharm": {
     "name": "#%%\n"
    }
   },
   "outputs": [],
   "source": [
    "#std_pooled_trace = np.array(trace_pooled.posterior[\"std\"]).reshape(-1)\n",
    "#plt.hist(std_pooled_trace, bins=50);"
   ]
  },
  {
   "cell_type": "markdown",
   "metadata": {
    "pycharm": {
     "name": "#%% md\n"
    }
   },
   "source": [
    "## Unpooled Bayesian Model\n",
    "\n",
    "\\begin{align*}\n",
    "y_{ij} &\\sim \\mathcal{N}(\\mu_j, \\sigma_j) \\\\\n",
    "\\mu_{j} &\\sim \\mathcal{N}(0, 1) \\\\\n",
    "\\sigma_{j} &\\sim |\\mathcal{N}|(0, \\sigma_j) \\\\\n",
    "\\end{align*}\n",
    "\n"
   ]
  },
  {
   "cell_type": "markdown",
   "metadata": {
    "pycharm": {
     "name": "#%% md\n"
    }
   },
   "source": [
    "* Implement the unpooled model in pymc3"
   ]
  },
  {
   "cell_type": "code",
   "execution_count": null,
   "metadata": {
    "pycharm": {
     "name": "#%%\n"
    }
   },
   "outputs": [],
   "source": [
    "df[\"machine\"] = df[\"machine\"].astype(\"category\")\n",
    "df[\"machine_id\"] = df[\"machine\"].cat.codes\n",
    "#df[\"machine\"].cat.categories\n",
    "#df[\"machine\"].cat.codes\n",
    "machines = list(df[\"machine\"].cat.categories)\n",
    "n_machines = len(machines) # number of machines (6)\n",
    "df.head()"
   ]
  },
  {
   "cell_type": "code",
   "execution_count": null,
   "metadata": {
    "pycharm": {
     "name": "#%%\n"
    }
   },
   "outputs": [],
   "source": [
    "with pm.Model() as model_unpooled:\n",
    "    group_mu = pm.Normal('group_mu', mu=92.5, sd=100, shape=n_machines)\n",
    "    group_std = pm.HalfNormal('group_std', sd=100, shape=n_machines)\n",
    "    y = pm.Normal('y', mu=group_mu[df[\"machine_id\"]], sd=group_std[df[\"machine_id\"]], observed=df[\"quality\"])\n",
    "    trace_unpooled = pm.sample(10_000, return_inferencedata=True)\n"
   ]
  },
  {
   "cell_type": "code",
   "execution_count": null,
   "metadata": {
    "pycharm": {
     "name": "#%%\n"
    }
   },
   "outputs": [],
   "source": [
    "with model_unpooled:\n",
    "    display(az.summary(trace_unpooled))"
   ]
  },
  {
   "cell_type": "code",
   "execution_count": null,
   "metadata": {
    "pycharm": {
     "name": "#%%\n"
    }
   },
   "outputs": [],
   "source": [
    "with model_unpooled:\n",
    "    axes = az.plot_forest (trace_unpooled,  kind='ridgeplot', hdi_prob=0.95, var_names=\"group_mu\", combined=True);\n",
    "    axes[0].set_yticklabels(machines[::-1])"
   ]
  },
  {
   "cell_type": "code",
   "execution_count": null,
   "metadata": {
    "pycharm": {
     "name": "#%%\n"
    }
   },
   "outputs": [],
   "source": [
    "with model_unpooled:\n",
    "    axes = az.plot_forest (trace_unpooled,  kind='ridgeplot', hdi_prob=0.95, var_names=\"group_std\", combined=True);\n",
    "    axes[0].set_yticklabels(machines[::-1])"
   ]
  },
  {
   "cell_type": "markdown",
   "metadata": {
    "pycharm": {
     "name": "#%% md\n"
    }
   },
   "source": [
    "* Compare the sample unpooled standard deviation with the bayesian estimate. What do you observe?"
   ]
  },
  {
   "cell_type": "markdown",
   "metadata": {
    "pycharm": {
     "name": "#%% md\n"
    }
   },
   "source": [
    "We already computed the sample standard deviations before:"
   ]
  },
  {
   "cell_type": "code",
   "execution_count": null,
   "metadata": {
    "pycharm": {
     "name": "#%%\n"
    }
   },
   "outputs": [],
   "source": [
    "df.groupby(\"machine\")[[\"quality\"]].agg([\"mean\", \"std\"])"
   ]
  },
  {
   "cell_type": "markdown",
   "metadata": {
    "pycharm": {
     "name": "#%% md\n"
    }
   },
   "source": [
    "The posterior means of the bayesian estimates are:"
   ]
  },
  {
   "cell_type": "code",
   "execution_count": null,
   "metadata": {
    "pycharm": {
     "name": "#%%\n"
    }
   },
   "outputs": [],
   "source": [
    "with model_unpooled:\n",
    "    display(az.summary(trace_unpooled, var_names=[\"group_std\"]))"
   ]
  },
  {
   "cell_type": "code",
   "execution_count": null,
   "metadata": {
    "pycharm": {
     "name": "#%%\n"
    }
   },
   "outputs": [],
   "source": [
    "#plt.hist(trace_separate[\"group_std\"][:, 5], bins=50);\n",
    "#trace_std = np.array(trace_separate.posterior[\"group_std\"]).reshape(-1, machines)\n",
    "#px.histogram(trace_std[:, 0])#, bins=50);"
   ]
  },
  {
   "cell_type": "code",
   "execution_count": null,
   "metadata": {
    "pycharm": {
     "name": "#%%\n"
    }
   },
   "outputs": [],
   "source": [
    "# az.plot_posterior(trace_separate[\"group_std\"][:, 0], point_estimate='mode')\n",
    "with model_unpooled:\n",
    "    az.plot_posterior(trace_unpooled, var_names=[\"group_std\"], point_estimate='mode'); # the posterior mean is 29, the mode is 19!"
   ]
  },
  {
   "cell_type": "markdown",
   "metadata": {
    "pycharm": {
     "name": "#%% md\n"
    }
   },
   "source": [
    "The sample std is rather different from the posterior std mean. The sample std is actually much similar to the posterior mode (as expected from theory)! The posterior std distributions are heaviy right-skewed!"
   ]
  },
  {
   "cell_type": "markdown",
   "metadata": {
    "pycharm": {
     "name": "#%% md\n"
    }
   },
   "source": [
    "## Hierarchical model, common std\n",
    "\n",
    "\\begin{align*}\n",
    "\\mu_\\mu & \\sim N() \\\\\n",
    "\\mu_{\\sigma} \\sim\n",
    "y_{ij} &\\sim \\mathcal{N}(\\mu_j, \\sigma_j) \\\\\n",
    "\\mu_{j} &\\sim \\mathcal{N}(0, 1) \\\\\n",
    "\\sigma_{j} &\\sim |\\mathcal{N}|(0, \\sigma_j) \\\\\n",
    "\\end{align*}\n",
    "\n"
   ]
  },
  {
   "cell_type": "markdown",
   "metadata": {
    "pycharm": {
     "name": "#%% md\n"
    }
   },
   "source": [
    "* Implement the hierarchical model with common std in pymc3"
   ]
  },
  {
   "cell_type": "code",
   "execution_count": null,
   "metadata": {
    "pycharm": {
     "name": "#%%\n"
    }
   },
   "outputs": [],
   "source": [
    "with pm.Model() as model_hierarchical:\n",
    "    \n",
    "    # hyper_priors\n",
    "    hyper_mu_mu = pm.Normal('hyper_mu_mu', mu=92, sd=100)\n",
    "    hyper_mu_std = pm.HalfNormal('hyper_mu_std', sd=100)\n",
    "\n",
    "    # priors    \n",
    "    group_mu = pm.Normal('group_mu', mu=hyper_mu_mu, sd=hyper_mu_std, shape=n_machines)\n",
    "    std = pm.HalfNormal('std', sd=100)\n",
    "    y = pm.Normal('y', mu=group_mu[df[\"machine_id\"]], sd=std, observed=df[\"quality\"])\n",
    "    trace_hierarchical = pm.sample(10_000, return_inferencedata=True)"
   ]
  },
  {
   "cell_type": "code",
   "execution_count": null,
   "metadata": {
    "pycharm": {
     "name": "#%%\n"
    }
   },
   "outputs": [],
   "source": [
    "az.summary(trace_hierarchical)"
   ]
  },
  {
   "cell_type": "code",
   "execution_count": null,
   "metadata": {
    "pycharm": {
     "name": "#%%\n"
    }
   },
   "outputs": [],
   "source": [
    "axes = az.plot_forest([trace_unpooled, trace_hierarchical], \n",
    "                      model_names=['factory_unpooled', 'factory_hierarchical'], combined=True, kind='ridgeplot', var_names='group_mu', hdi_prob=0.95);\n",
    "\n",
    "grand_mean = df[\"quality\"].mean()\n",
    "axes[0].axvline(x=grand_mean, color=\"r\", label=\"grand_mean\");\n",
    "axes[0].set_yticklabels(machines[::-1]);"
   ]
  },
  {
   "cell_type": "markdown",
   "metadata": {
    "pycharm": {
     "name": "#%% md\n"
    }
   },
   "source": [
    "In the hierarchical model, the machine means are pushed towards the grand mean"
   ]
  },
  {
   "cell_type": "markdown",
   "metadata": {
    "pycharm": {
     "name": "#%% md\n"
    }
   },
   "source": [
    "## Model selection "
   ]
  },
  {
   "cell_type": "code",
   "execution_count": null,
   "metadata": {
    "pycharm": {
     "name": "#%%\n"
    }
   },
   "outputs": [],
   "source": [
    "#with factory_pooled, factory_separate, factory_hierarchical:\n",
    "comp_df = az.compare({\"model_pooled\": trace_pooled,\n",
    "                      \"model_unpooled\": trace_unpooled,\n",
    "                      \"model_hierarchical\": trace_hierarchical},\n",
    "                     ic=\"waic\", method=\"BB-pseudo-BMA\")\n",
    "comp_df"
   ]
  },
  {
   "cell_type": "code",
   "execution_count": null,
   "metadata": {
    "pycharm": {
     "name": "#%%\n"
    }
   },
   "outputs": [],
   "source": [
    "comp_df"
   ]
  },
  {
   "cell_type": "code",
   "execution_count": null,
   "metadata": {
    "pycharm": {
     "name": "#%%\n"
    }
   },
   "outputs": [],
   "source": [
    "az.plot_compare(comp_df)"
   ]
  },
  {
   "cell_type": "markdown",
   "metadata": {
    "pycharm": {
     "name": "#%% md\n"
    }
   },
   "source": [
    "## Manual WAIC computations"
   ]
  },
  {
   "cell_type": "markdown",
   "metadata": {
    "pycharm": {
     "name": "#%% md\n"
    }
   },
   "source": [
    "Let us compare the arviz computation of WAIC with a manual implementation:"
   ]
  },
  {
   "cell_type": "code",
   "execution_count": null,
   "metadata": {
    "pycharm": {
     "name": "#%%\n"
    }
   },
   "outputs": [],
   "source": [
    "with model_hierarchical:\n",
    "    display(az.waic(trace_hierarchical))"
   ]
  },
  {
   "cell_type": "code",
   "execution_count": null,
   "metadata": {
    "pycharm": {
     "name": "#%%\n"
    }
   },
   "outputs": [],
   "source": [
    "log_lik = np.array(trace_hierarchical.log_likelihood.y) # chains, iters, obs\n",
    "log_lik = log_lik.reshape((-1, log_lik.shape[-1])) # mc samples, obs\n",
    "S, ny = log_lik.shape"
   ]
  },
  {
   "cell_type": "code",
   "execution_count": null,
   "metadata": {
    "pycharm": {
     "name": "#%%\n"
    }
   },
   "outputs": [],
   "source": [
    "p_waic = np.var(log_lik, axis=0) # correct\n",
    "p_waic = np.sum(p_waic)\n",
    "p_waic"
   ]
  },
  {
   "cell_type": "code",
   "execution_count": null,
   "metadata": {
    "pycharm": {
     "name": "#%%\n"
    }
   },
   "outputs": [],
   "source": [
    "lppd = scipy.special.logsumexp(log_lik, axis=0) - np.log(S) # sum is equivalent to logsumexp in log domain...\n",
    "lppd = np.sum(lppd)\n",
    "lppd"
   ]
  },
  {
   "cell_type": "code",
   "execution_count": null,
   "metadata": {
    "pycharm": {
     "name": "#%%\n"
    }
   },
   "outputs": [],
   "source": [
    "-2*(lppd - p_waic)"
   ]
  },
  {
   "cell_type": "code",
   "execution_count": null,
   "metadata": {
    "pycharm": {
     "name": "#%%\n"
    }
   },
   "outputs": [],
   "source": [
    "lppd - p_waic"
   ]
  },
  {
   "cell_type": "markdown",
   "metadata": {
    "pycharm": {
     "name": "#%% md\n"
    }
   },
   "source": [
    "## With predictive distribution"
   ]
  },
  {
   "cell_type": "markdown",
   "metadata": {
    "pycharm": {
     "name": "#%% md\n"
    }
   },
   "source": [
    "TODO"
   ]
  },
  {
   "cell_type": "code",
   "execution_count": null,
   "metadata": {
    "pycharm": {
     "name": "#%%\n"
    }
   },
   "outputs": [],
   "source": [
    "with pm.Model() as model_pooled_with_pred:\n",
    "    mu = pm.Normal('mu', mu=92.5, sd=10)\n",
    "    std = pm.HalfNormal('std', sd=15)\n",
    "    y = pm.Normal('y', mu=mu, sd=std, observed=df[\"quality\"])\n",
    "    \n",
    "    # Prediction\n",
    "    y_pred = pm.Normal('y_pred', mu=mu, sd=std)\n",
    "    trace_pooled_with_pred = pm.sample(10_000, return_inferencedata=True)"
   ]
  },
  {
   "cell_type": "code",
   "execution_count": null,
   "metadata": {
    "pycharm": {
     "name": "#%%\n"
    }
   },
   "outputs": [],
   "source": [
    "#trace_pooled_with_pred.posterior.y_pred"
   ]
  },
  {
   "cell_type": "code",
   "execution_count": null,
   "metadata": {
    "pycharm": {
     "name": "#%%\n"
    }
   },
   "outputs": [],
   "source": [
    "with pm.Model() as model_hierarchical_with_pred:\n",
    "    \n",
    "    # hyper_priors\n",
    "    hyper_mu_mu = pm.Normal('hyper_mu_mu', mu=92, sd=100)\n",
    "    hyper_mu_std = pm.HalfNormal('hyper_mu_std', sd=100)\n",
    "\n",
    "    # priors    \n",
    "    group_mu = pm.Normal('group_mu', mu=hyper_mu_mu, sd=hyper_mu_std, shape=n_machines)\n",
    "    std = pm.HalfNormal('std', sd=100)\n",
    "    y = pm.Normal('y', mu=group_mu[df[\"machine_id\"]], sd=std, observed=df[\"quality\"])\n",
    "    \n",
    "    \n",
    "    pred_mu = pm.Normal('pred_mu', mu=hyper_mu_mu, sd=hyper_mu_std)\n",
    "    pred_y = pm.Normal('pred_y', mu=pred_mu, sd=std)\n",
    "    \n",
    "    \n",
    "    trace_hierarchical_with_pred = pm.sample(10_000, return_inferencedata=True)\n",
    "    \n",
    "    \n",
    "    "
   ]
  },
  {
   "cell_type": "code",
   "execution_count": null,
   "metadata": {
    "pycharm": {
     "name": "#%%\n"
    }
   },
   "outputs": [],
   "source": [
    "with pm.Model() as model_hierarchical_with_pred:\n",
    "    \n",
    "    # hyper_priors\n",
    "    hyper_mu_mu = pm.Normal('hyper_mu_mu', mu=92, sd=100)\n",
    "    hyper_mu_std = pm.HalfNormal('hyper_mu_std', sd=100)\n",
    "\n",
    "    # priors    \n",
    "    group_mu = pm.Normal('group_mu', mu=hyper_mu_mu, sd=hyper_mu_std, shape=n_machines)\n",
    "    std = pm.HalfNormal('std', sd=100)\n",
    "    y = pm.Normal('y', mu=group_mu[df[\"machine_id\"]], sd=std, observed=df[\"quality\"])\n",
    "    \n",
    "    \n",
    "    pred_mu = pm.Normal('pred_mu', mu=hyper_mu_mu, sd=hyper_mu_std)\n",
    "    pred_y = pm.Normal('pred_y', mu=pred_mu, sd=std)\n",
    "    \n",
    "    \n",
    "    trace_hierarchical_with_pred = pm.sample(10_000, return_inferencedata=True)\n",
    "    \n",
    "    \n",
    "    "
   ]
  }
 ],
 "metadata": {
  "kernelspec": {
   "display_name": "Python 3 (ipykernel)",
   "language": "python",
   "name": "python3"
  },
  "language_info": {
   "codemirror_mode": {
    "name": "ipython",
    "version": 3
   },
   "file_extension": ".py",
   "mimetype": "text/x-python",
   "name": "python",
   "nbconvert_exporter": "python",
   "pygments_lexer": "ipython3",
   "version": "3.10.4"
  },
  "vscode": {
   "interpreter": {
    "hash": "221c891a34d53b6a976517fba14e87e2d44925797743ab4436332eb8ae3ca627"
   }
  }
 },
 "nbformat": 4,
 "nbformat_minor": 1
}
