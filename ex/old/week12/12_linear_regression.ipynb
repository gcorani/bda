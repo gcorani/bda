{
 "cells": [
  {
   "cell_type": "code",
   "execution_count": null,
   "metadata": {
    "pycharm": {
     "name": "#%%\n"
    }
   },
   "outputs": [],
   "source": [
    "import numpy as np\n",
    "import scipy.stats as stats\n",
    "import matplotlib.pyplot as plt\n",
    "import seaborn as sns\n",
    "import pymc3 as pm\n",
    "import arviz as az"
   ]
  },
  {
   "cell_type": "code",
   "execution_count": null,
   "metadata": {
    "pycharm": {
     "name": "#%%\n"
    }
   },
   "outputs": [],
   "source": [
    "sns.set()"
   ]
  },
  {
   "cell_type": "markdown",
   "metadata": {
    "pycharm": {
     "name": "#%% md\n"
    }
   },
   "source": [
    "Probabilistic model:\n",
    "\n",
    "\\begin{align*}\n",
    "y &\\sim \\mathcal{N}(\\alpha + \\beta x, \\epsilon) \\\\\n",
    "\\alpha &\\sim \\mathcal{N}(\\mu_\\alpha, \\sigma_\\alpha)\\\\\n",
    "\\beta &\\sim \\mathcal{N}(\\mu_\\beta, \\sigma_\\beta)\\\\\n",
    "\\epsilon &\\sim |\\mathcal{N}(0, \\sigma_\\epsilon)|,\n",
    "\\end{align*}\n",
    "\n",
    "where $y$ is the observed variable and $x$ is an independent, deterministic variable."
   ]
  },
  {
   "cell_type": "markdown",
   "metadata": {
    "pycharm": {
     "name": "#%% md\n"
    }
   },
   "source": [
    "Let us generate data:"
   ]
  },
  {
   "cell_type": "code",
   "execution_count": null,
   "metadata": {
    "pycharm": {
     "name": "#%%\n"
    }
   },
   "outputs": [],
   "source": [
    "np.random.seed(1)\n",
    "N = 100\n",
    "alpha_real = 2.5\n",
    "beta_real = 0.9\n",
    "eps_real = np.random.normal(0, 0.5, size=N)\n",
    "\n",
    "x = np.random.normal(10, 1, N)\n",
    "y_real = alpha_real + beta_real * x\n",
    "y = y_real + eps_real"
   ]
  },
  {
   "cell_type": "markdown",
   "metadata": {
    "pycharm": {
     "name": "#%% md\n"
    }
   },
   "source": [
    "Standard least-squares solution:"
   ]
  },
  {
   "cell_type": "code",
   "execution_count": null,
   "metadata": {
    "pycharm": {
     "name": "#%%\n"
    }
   },
   "outputs": [],
   "source": [
    "# solution using either sklearn or from scratch"
   ]
  },
  {
   "cell_type": "code",
   "execution_count": null,
   "metadata": {
    "pycharm": {
     "name": "#%%\n"
    }
   },
   "outputs": [],
   "source": [
    "plt.plot(x, y, 'bo')\n",
    "plt.xlabel('x')\n",
    "plt.ylabel('y', rotation=0)\n",
    "plt.plot(x, y_real, 'k');"
   ]
  },
  {
   "cell_type": "markdown",
   "metadata": {
    "pycharm": {
     "name": "#%% md\n"
    }
   },
   "source": [
    "Let us implement the probabilistic model with pymc(3)"
   ]
  },
  {
   "cell_type": "code",
   "execution_count": null,
   "metadata": {
    "pycharm": {
     "name": "#%%\n"
    }
   },
   "outputs": [],
   "source": [
    "with pm.Model() as model_g:\n",
    "    alpha = pm.Normal(\"alpha\", mu=0, sd=10)\n",
    "    beta = pm.Normal(\"beta\", mu=0, sd=1)\n",
    "    epsilon = pm.HalfNormal(\"epsilon\", 5)\n",
    "\n",
    "    mu = pm.Deterministic(\"mu\", alpha + beta * x)\n",
    "    y_pred = pm.Normal('y_pred', mu=mu, sd=epsilon, observed=y)\n",
    "\n",
    "    idata_g = pm.sample(2000, tune=2000, return_inferencedata=True)"
   ]
  },
  {
   "cell_type": "code",
   "execution_count": null,
   "metadata": {
    "pycharm": {
     "name": "#%%\n"
    }
   },
   "outputs": [],
   "source": [
    "az.plot_trace(idata_g, var_names=['alpha', 'beta', 'epsilon']);"
   ]
  },
  {
   "cell_type": "code",
   "execution_count": null,
   "metadata": {
    "pycharm": {
     "name": "#%%\n"
    }
   },
   "outputs": [],
   "source": [
    "az.plot_pair(idata_g, var_names=['alpha', 'beta'], scatter_kwargs={'alpha': 0.1});"
   ]
  },
  {
   "cell_type": "code",
   "execution_count": null,
   "metadata": {
    "pycharm": {
     "name": "#%%\n"
    }
   },
   "outputs": [],
   "source": [
    "az.plot_trace(idata_g, var_names=['alpha', 'beta', 'epsilon']);"
   ]
  },
  {
   "cell_type": "code",
   "execution_count": null,
   "metadata": {
    "pycharm": {
     "name": "#%%\n"
    }
   },
   "outputs": [],
   "source": [
    "az.plot_pair(idata_g, var_names=['alpha', 'beta'], scatter_kwargs={'alpha': 0.1});"
   ]
  },
  {
   "cell_type": "code",
   "execution_count": null,
   "metadata": {
    "pycharm": {
     "name": "#%%\n"
    }
   },
   "outputs": [],
   "source": [
    "plt.plot(x, y, 'C0.')\n",
    "\n",
    "posterior_g = idata_g.posterior.stack(samples={\"chain\", \"draw\"})\n",
    "alpha_m = posterior_g['alpha'].mean().item()\n",
    "beta_m = posterior_g['beta'].mean().item()\n",
    "\n",
    "draws = range(0, posterior_g.samples.size, 10)\n",
    "plt.plot(x, posterior_g['alpha'][draws].values + posterior_g['beta'][draws].values * x[:,None], c='gray', alpha=0.5)\n",
    "\n",
    "plt.plot(x, alpha_m + beta_m * x, c='k',\n",
    "         label=f'y = {alpha_m:.2f} + {beta_m:.2f} * x')\n",
    "\n",
    "plt.xlabel('x')\n",
    "plt.ylabel('y', rotation=0)\n",
    "plt.legend();"
   ]
  },
  {
   "cell_type": "code",
   "execution_count": null,
   "metadata": {
    "pycharm": {
     "name": "#%%\n"
    }
   },
   "outputs": [],
   "source": []
  }
 ],
 "metadata": {
  "kernelspec": {
   "display_name": "Python 3 (ipykernel)",
   "language": "python",
   "name": "python3"
  },
  "language_info": {
   "codemirror_mode": {
    "name": "ipython",
    "version": 3
   },
   "file_extension": ".py",
   "mimetype": "text/x-python",
   "name": "python",
   "nbconvert_exporter": "python",
   "pygments_lexer": "ipython3",
   "version": "3.9.12"
  }
 },
 "nbformat": 4,
 "nbformat_minor": 1
}
