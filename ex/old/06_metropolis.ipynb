{
 "cells": [
  {
   "cell_type": "code",
   "execution_count": null,
   "metadata": {
    "pycharm": {
     "name": "#%%\n"
    }
   },
   "outputs": [],
   "source": [
    "import numpy as np\n",
    "import scipy.stats as stats\n",
    "import matplotlib.pyplot as plt\n",
    "import seaborn as sns"
   ]
  },
  {
   "cell_type": "code",
   "execution_count": null,
   "metadata": {
    "pycharm": {
     "name": "#%%\n"
    }
   },
   "outputs": [],
   "source": [
    "sns.set()"
   ]
  },
  {
   "cell_type": "markdown",
   "metadata": {},
   "source": [
    "Prior for $\\theta$: Beta distribution\n",
    "$$ p_{\\rm prior}(\\theta) = \\frac{1}{B(a,b)}\\theta^{a-1}(1-\\theta)^{b-1}, \\qquad \\theta \\in [0,1]$$\n",
    "\n",
    "Likelihood of observation:\n",
    "$$\\mathcal{L}(\\theta) = p(y|\\theta) = {n \\choose y} \\theta^y (1-\\theta)^{n-y}$$"
   ]
  },
  {
   "cell_type": "code",
   "execution_count": null,
   "metadata": {
    "pycharm": {
     "name": "#%%\n"
    }
   },
   "outputs": [],
   "source": [
    "a = 20 # prior: parameter a\n",
    "b = 10 # prior: parameter b\n",
    "n = 50 # likelihood: number of tosses\n",
    "y = 10 # likelihood: number of HEADs observed. (Fixed in this example. It could be sampled form a binomial instead)\n",
    "sigma = 0.1 # proposal standard deviation\n",
    "theta_0 = 0.5 # a lucky guess...\n",
    "N = 50_000 # chain length"
   ]
  },
  {
   "cell_type": "markdown",
   "metadata": {},
   "source": [
    "* Obtain functional form of the prior, the likelihood, and of the unnormalized posterior"
   ]
  },
  {
   "cell_type": "code",
   "execution_count": null,
   "metadata": {
    "pycharm": {
     "name": "#%%\n"
    }
   },
   "outputs": [],
   "source": [
    "prior_fun = lambda theta: stats.beta.pdf(theta, a, b)\n",
    "lik_fun = lambda theta: (theta ** y) * (1 - theta)**(n-y)\n",
    "\n",
    "def unnorm_prior_fun(theta):\n",
    "    p_theta = theta**(a-1)*(1-theta)**(b-1) # since we look for an unnormalized posterior, this is also good enough\n",
    "    p_theta = p_theta * ((theta <= 1.0) & (theta >= 0.0))\n",
    "    return p_theta\n",
    "    \n",
    "unnorm_post_fun = lambda theta: unnorm_prior_fun(theta)*lik_fun(theta)"
   ]
  },
  {
   "cell_type": "code",
   "execution_count": null,
   "metadata": {
    "pycharm": {
     "name": "#%%\n"
    }
   },
   "outputs": [],
   "source": [
    "dtheta = 1e-3\n",
    "theta_vec = np.arange(0, 1, dtheta)\n",
    "plt.plot(theta_vec, unnorm_post_fun(theta_vec))\n",
    "plt.xlabel(r\"$\\theta$\");\n",
    "plt.title(r\"Unnormalized posterior  distribution of $\\theta$\");"
   ]
  },
  {
   "cell_type": "code",
   "execution_count": null,
   "metadata": {
    "pycharm": {
     "name": "#%%\n"
    }
   },
   "outputs": [],
   "source": [
    "# Approach 1: compute the posterior in closed-form (if you can...)\n",
    "\n",
    "exact_post_fun = lambda theta: stats.beta.pdf(theta, a+y, b+n-y) # exact posterior"
   ]
  },
  {
   "cell_type": "code",
   "execution_count": null,
   "metadata": {
    "pycharm": {
     "name": "#%%\n"
    }
   },
   "outputs": [],
   "source": [
    "dtheta = 1e-3\n",
    "theta_vec = np.arange(0, 1, dtheta)\n",
    "plt.plot(theta_vec, exact_post_fun(theta_vec))\n",
    "plt.xlabel(r\"$\\theta$\");\n",
    "plt.title(r\"Exact posterior distribution of $\\theta$\");"
   ]
  },
  {
   "cell_type": "code",
   "execution_count": null,
   "metadata": {
    "pycharm": {
     "name": "#%%\n"
    }
   },
   "outputs": [],
   "source": [
    "# Approach 2: compute normalization constant (easy in 1D, suffers curse of dimensionality...)\n",
    "\n",
    "dtheta = 1e-3\n",
    "theta_vec = np.arange(0, 1, dtheta)\n",
    "normalization_constant = np.sum(unnorm_post_fun(theta_vec)) * dtheta\n",
    "scaled_post_fun = lambda theta: unnorm_post_fun(theta)/normalization_constant\n",
    "\n",
    "plt.plot(theta_vec, exact_post_fun(theta_vec), label=\"Exact\")\n",
    "plt.plot(theta_vec, scaled_post_fun(theta_vec), label=\"Normalized\")\n",
    "plt.xlabel(r\"$\\theta$\");\n",
    "plt.legend()\n",
    "plt.title(r\"Posterior distribution of $\\theta$\");"
   ]
  },
  {
   "cell_type": "code",
   "execution_count": null,
   "metadata": {
    "pycharm": {
     "name": "#%%\n"
    }
   },
   "outputs": [],
   "source": [
    "theta_step = theta_0\n",
    "p_step = unnorm_post_fun(theta_step)\n",
    "thetas = []\n",
    "\n",
    "for idx in range(N):\n",
    "    thetas.append(theta_step)\n",
    "    theta_prop = theta_step + sigma*np.random.randn()\n",
    "    p_prop = unnorm_post_fun(theta_prop) # evaluate unscaled distribution\n",
    "  \n",
    "    if p_prop > p_step:\n",
    "        accept = True\n",
    "    else:\n",
    "        p_ratio = p_prop/p_step\n",
    "        accept =  np.random.binomial(1, p_ratio) # othewise, accept w.p. p_ratio\n",
    "    \n",
    "    if accept:\n",
    "        theta_step = theta_prop\n",
    "        p_step = p_prop"
   ]
  },
  {
   "cell_type": "code",
   "execution_count": null,
   "metadata": {
    "pycharm": {
     "name": "#%%\n"
    }
   },
   "outputs": [],
   "source": [
    "plt.hist(thetas, density=True, bins=50, label=\"Metropolis samples\")\n",
    "plt.plot(theta_vec, exact_post_fun(theta_vec), label=\"Exact posterior\")\n",
    "plt.legend()\n",
    "plt.xlim([0, 1]);"
   ]
  },
  {
   "cell_type": "markdown",
   "metadata": {},
   "source": [
    "Note: the unnormalized posterior distribution has a bad numerical scaling. In some cases, this can become an issue.\n",
    "\n",
    "The standard approach is to work out all operations in log-domain:\n",
    "\n",
    "\\begin{align*}\n",
    "\\ell(\\theta) &= \\log \\mathcal{L}(\\theta) = {n \\choose y} + y \\log (\\theta) + (n-y) \\log (1-\\theta) \\\\\n",
    " \\log p_{\\rm prior}(\\theta) &= -\\log({B(a,b)}) + (a-1) \\log (\\theta) + (b-1)\\log(1-\\theta) \\\\\n",
    " \\log p_{\\rm post}(\\theta) &= \\ell(\\theta) + \\log p_{\\rm prior}(\\theta) + \\log p(y).\n",
    "\\end{align*}\n"
   ]
  },
  {
   "cell_type": "code",
   "execution_count": null,
   "metadata": {},
   "outputs": [],
   "source": [
    "log_lik_fun = lambda theta: y * np.log(theta) + (n-y)*np.log(1 - theta)\n",
    "\n",
    "def unnorm_log_prior_fun(theta):\n",
    "    log_p_theta = (a-1)*np.log(theta) + (b-1)*np.log(1-theta) \n",
    "    log_p_theta = log_p_theta * ((theta <= 1.0) & (theta >= 0.0))\n",
    "    return log_p_theta\n",
    "\n",
    "unnorm_log_post_fun = lambda theta: log_lik_fun(theta) + unnorm_log_prior_fun(theta)"
   ]
  },
  {
   "cell_type": "code",
   "execution_count": null,
   "metadata": {},
   "outputs": [],
   "source": [
    "dtheta = 1e-3\n",
    "theta_vec = np.arange(0, 1, dtheta)\n",
    "plt.plot(theta_vec, unnorm_log_post_fun(theta_vec))\n",
    "plt.xlabel(r\"$\\theta$\");\n",
    "plt.title(r\"Unnormalized log-posterior  distribution of $\\theta$\");"
   ]
  },
  {
   "cell_type": "markdown",
   "metadata": {},
   "source": [
    "The log-posterior has a much better scaling!"
   ]
  },
  {
   "cell_type": "markdown",
   "metadata": {},
   "source": [
    "Then, $p_{\\rm ratio}(\\theta_{\\rm proposal}, \\theta_{\\rm previous}) = \\frac{p_{\\rm post}(\\theta_{\\rm proposal})}{p_{\\rm post}(\\theta_{\\rm previous})}$ may be computed in a more numerically stable way by exponentiating the difference between the log-posteriors at $\\theta_{\\rm proposal}$ and $\\theta_{\\rm previous}$,  exploiting the identity:\n",
    "\n",
    "\n",
    "$$p_{\\rm ratio}(\\theta_{\\rm proposal}, \\theta_{\\rm previous}) = e^{(\\log p_{\\rm post}(\\theta_{\\rm proposal})- \\log p_{\\rm post}(\\theta_{\\rm previous}))}$$"
   ]
  },
  {
   "cell_type": "code",
   "execution_count": null,
   "metadata": {},
   "outputs": [],
   "source": [
    "def p_ratio_fun(theta_propose, theta_previous):\n",
    "    log_p_previous = unnorm_log_post_fun(theta_previous)\n",
    "    log_p_propose = unnorm_log_post_fun(theta_propose)\n",
    "    log_p_ratio = log_p_propose - log_p_previous # log(p_prop/p_prev) = log(p_prop) - log(p_prev)\n",
    "    p_ratio = np.exp(log_p_ratio)\n",
    "    #p_ratio = np.nan_to_num(p_ratio, nan=0.0)\n",
    "    return p_ratio"
   ]
  },
  {
   "cell_type": "code",
   "execution_count": null,
   "metadata": {},
   "outputs": [],
   "source": [
    "theta_step = theta_0\n",
    "thetas = []\n",
    "\n",
    "for idx in range(N):\n",
    "    thetas.append(theta_step)\n",
    "    theta_prop = theta_step + sigma*np.random.randn()\n",
    "    theta_prop = np.clip(theta_prop, 0, 1)\n",
    "    \n",
    "    p_ratio = p_ratio_fun(theta_prop, theta_step)\n",
    "    accept_prob = np.minimum(1.0, p_ratio)\n",
    "    accept = (np.random.rand() < accept_prob)\n",
    "    \n",
    "    if accept:\n",
    "        theta_step = theta_prop\n",
    "        p_step = p_prop"
   ]
  },
  {
   "cell_type": "code",
   "execution_count": null,
   "metadata": {},
   "outputs": [],
   "source": [
    "plt.hist(thetas, density=True, bins=50, label=\"Metropolis samples\")\n",
    "plt.plot(theta_vec, exact_post_fun(theta_vec), label=\"Exact posterior\")\n",
    "plt.legend()\n",
    "plt.xlim([0, 1]);"
   ]
  }
 ],
 "metadata": {
  "kernelspec": {
   "display_name": "Python 3 (ipykernel)",
   "language": "python",
   "name": "python3"
  },
  "language_info": {
   "codemirror_mode": {
    "name": "ipython",
    "version": 3
   },
   "file_extension": ".py",
   "mimetype": "text/x-python",
   "name": "python",
   "nbconvert_exporter": "python",
   "pygments_lexer": "ipython3",
   "version": "3.9.12"
  }
 },
 "nbformat": 4,
 "nbformat_minor": 1
}
