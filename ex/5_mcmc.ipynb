{
 "cells": [
  {
   "cell_type": "code",
   "execution_count": 1,
   "metadata": {
    "pycharm": {
     "name": "#%%\n"
    }
   },
   "outputs": [],
   "source": [
    "import numpy as np\n",
    "import scipy.stats as stats\n",
    "import matplotlib.pyplot as plt\n",
    "import seaborn as sns"
   ]
  },
  {
   "cell_type": "code",
   "execution_count": 2,
   "metadata": {
    "pycharm": {
     "name": "#%%\n"
    }
   },
   "outputs": [],
   "source": [
    "sns.set()"
   ]
  },
  {
   "cell_type": "code",
   "execution_count": null,
   "outputs": [],
   "source": [
    "a = 20 # prior: parameter a\n",
    "b = 10 # prior: parameter b\n",
    "n = 50 # likelihood: number of tosses\n",
    "y = 10 # likelihood: number of HEADs\n",
    "sigma = 0.1 # proposal standard deviation\n",
    "theta_0 = 0.5 # a lucky guess...\n",
    "N = 50_000 # chain length"
   ],
   "metadata": {
    "collapsed": false,
    "pycharm": {
     "name": "#%%\n"
    }
   }
  },
  {
   "cell_type": "code",
   "execution_count": null,
   "outputs": [],
   "source": [
    "prior_fun = lambda theta: stats.beta.pdf(theta, a, b)\n",
    "lik_fun = lambda theta: (theta ** y) * (1 - theta)**(n-y)\n",
    "unscaled_post_fun = lambda theta: prior_fun(theta)*lik_fun(theta)"
   ],
   "metadata": {
    "collapsed": false,
    "pycharm": {
     "name": "#%%\n"
    }
   }
  },
  {
   "cell_type": "code",
   "execution_count": null,
   "outputs": [],
   "source": [
    "dtheta = 1e-3\n",
    "theta_vec = np.arange(0, 1, dtheta)\n",
    "plt.plot(theta_vec, unscaled_post_fun(theta_vec))\n",
    "plt.xlabel(r\"$\\theta$\");\n",
    "plt.title(r\"Prior distribution of $\\theta$\");"
   ],
   "metadata": {
    "collapsed": false,
    "pycharm": {
     "name": "#%%\n"
    }
   }
  },
  {
   "cell_type": "code",
   "execution_count": null,
   "outputs": [],
   "source": [
    "# Approach 1: compute the posterior in closed-form (if you can...)\n",
    "\n",
    "exact_post_fun = lambda theta: stats.beta.pdf(theta, a+y, b+n-y) # exact posterior"
   ],
   "metadata": {
    "collapsed": false,
    "pycharm": {
     "name": "#%%\n"
    }
   }
  },
  {
   "cell_type": "code",
   "execution_count": null,
   "outputs": [],
   "source": [
    "dtheta = 1e-3\n",
    "theta_vec = np.arange(0, 1, dtheta)\n",
    "plt.plot(theta_vec, exact_post_fun(theta_vec))\n",
    "plt.xlabel(r\"$\\theta$\");\n",
    "plt.title(r\"Exact posterior distribution of $\\theta$\");"
   ],
   "metadata": {
    "collapsed": false,
    "pycharm": {
     "name": "#%%\n"
    }
   }
  },
  {
   "cell_type": "code",
   "execution_count": null,
   "outputs": [],
   "source": [
    "# Approach 2: compute normalization constant (easy in 1D, suffers curse of dimensionality...)\n",
    "\n",
    "dtheta = 1e-3\n",
    "theta_vec = np.arange(0, 1, dtheta)\n",
    "normalization_constant = np.sum(unscaled_post_fun(theta_vec)) * dtheta\n",
    "scaled_post_fun = lambda theta: unscaled_post_fun(theta)/normalization_constant\n",
    "\n",
    "plt.plot(theta_vec, exact_post_fun(theta_vec), label=\"Exact\")\n",
    "plt.plot(theta_vec, scaled_post_fun(theta_vec), label=\"Normalized\")\n",
    "plt.xlabel(r\"$\\theta$\");\n",
    "plt.legend()\n",
    "plt.title(r\"Posterior distribution of $\\theta$\");"
   ],
   "metadata": {
    "collapsed": false,
    "pycharm": {
     "name": "#%%\n"
    }
   }
  },
  {
   "cell_type": "code",
   "execution_count": null,
   "outputs": [],
   "source": [
    "theta_step = theta_0\n",
    "p_step = unscaled_post_fun(theta_step)\n",
    "thetas = []\n",
    "\n",
    "for idx in range(N):\n",
    "    thetas.append(theta_step)\n",
    "    theta_prop = theta_step + sigma*np.random.randn()\n",
    "    p_prop = unscaled_post_fun(theta_prop) # evaluate unscaled distribution\n",
    "\n",
    "    p_ratio = p_prop/p_step\n",
    "    accept = p_ratio >= 1 # accept if p_prop > p_step\n",
    "    accept =  accept or np.random.binomial(1, p_ratio) # accept w.p. ratio otherwise\n",
    "    \n",
    "    if accept:\n",
    "        theta_step = theta_prop\n",
    "        p_step = p_prop"
   ],
   "metadata": {
    "collapsed": false,
    "pycharm": {
     "name": "#%%\n"
    }
   }
  },
  {
   "cell_type": "code",
   "execution_count": null,
   "outputs": [],
   "source": [
    "plt.hist(thetas, density=True, bins=50, label=\"Metropolis samples\")\n",
    "plt.plot(theta_vec, exact_post_fun(theta_vec), label=\"Exact posterior\")\n",
    "plt.legend()\n",
    "plt.xlim([0, 1]);"
   ],
   "metadata": {
    "collapsed": false,
    "pycharm": {
     "name": "#%%\n"
    }
   }
  },
  {
   "cell_type": "code",
   "execution_count": 9,
   "metadata": {},
   "outputs": [],
   "source": [
    "theta_step = theta_0\n",
    "p_step = unscaled_post_fun(theta_step)\n",
    "thetas = []\n",
    "\n",
    "for idx in range(N):\n",
    "    thetas.append(theta_step)\n",
    "    theta_prop = theta_step + sigma*np.random.randn()\n",
    "    p_prop = unscaled_post_fun(theta_prop) # evaluate unscaled distribution\n",
    "\n",
    "    p_ratio = p_prop/p_step\n",
    "    accept = p_ratio >= 1 # accept if p_prop > p_step\n",
    "    accept =  accept or np.random.binomial(1, p_ratio) # accept w.p. ratio otherwise\n",
    "    \n",
    "    if accept:\n",
    "        theta_step = theta_prop\n",
    "        p_step = p_prop"
   ]
  },
  {
   "cell_type": "code",
   "execution_count": 10,
   "metadata": {},
   "outputs": [
    {
     "data": {
      "image/png": "[encoded data removed]",
      "text/plain": [
       "<Figure size 432x288 with 1 Axes>"
      ]
     },
     "metadata": {},
     "output_type": "display_data"
    }
   ],
   "source": [
    "plt.hist(thetas, density=True, bins=50, label=\"Metropolis samples\")\n",
    "plt.plot(theta_vec, exact_post_fun(theta_vec), label=\"Exact posterior\")\n",
    "plt.legend()\n",
    "plt.xlim([0, 1]);"
   ]
  }
 ],
 "metadata": {
  "kernelspec": {
   "display_name": "Python 3 (ipykernel)",
   "language": "python",
   "name": "python3"
  },
  "language_info": {
   "codemirror_mode": {
    "name": "ipython",
    "version": 3
   },
   "file_extension": ".py",
   "mimetype": "text/x-python",
   "name": "python",
   "nbconvert_exporter": "python",
   "pygments_lexer": "ipython3",
   "version": "3.9.12"
  }
 },
 "nbformat": 4,
 "nbformat_minor": 1
}