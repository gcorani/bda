{
 "cells": [
  {
   "cell_type": "code",
   "execution_count": 1,
   "metadata": {
    "pycharm": {
     "name": "#%%\n"
    }
   },
   "outputs": [],
   "source": [
    "import numpy as np\n",
    "import scipy\n",
    "import scipy.stats as stats\n",
    "import matplotlib.pyplot as plt\n",
    "import seaborn as sns\n",
    "import pymc3 as pm\n",
    "import arviz as az\n",
    "import pandas as pd\n",
    "#import plotly.express as px"
   ]
  },
  {
   "cell_type": "code",
   "execution_count": 2,
   "metadata": {
    "pycharm": {
     "name": "#%%\n"
    }
   },
   "outputs": [],
   "source": [
    "sns.set()"
   ]
  },
  {
   "cell_type": "markdown",
   "metadata": {
    "pycharm": {
     "name": "#%% md\n"
    }
   },
   "source": [
    "## Factory data\n",
    "\n",
    "The following dataset contains quality control measurements from 6\n",
    "machines in a factory (range: 0-120, units of the measurements are irrelevant here). \n",
    "\n",
    "In the dataset, each column contains the measurements for a single machine. Quality control measurements are expensive and time-consuming, so only 5 measurements were done for each machine. \n",
    "\n",
    "In addition to the existing machines, we are interested in the quality of another machine (the seventh machine) which is not in the dataset."
   ]
  },
  {
   "cell_type": "code",
   "execution_count": 3,
   "metadata": {
    "pycharm": {
     "name": "#%%\n"
    },
    "scrolled": true
   },
   "outputs": [
    {
     "data": {
      "text/html": [
       "<div>\n",
       "<style scoped>\n",
       "    .dataframe tbody tr th:only-of-type {\n",
       "        vertical-align: middle;\n",
       "    }\n",
       "\n",
       "    .dataframe tbody tr th {\n",
       "        vertical-align: top;\n",
       "    }\n",
       "\n",
       "    .dataframe thead th {\n",
       "        text-align: right;\n",
       "    }\n",
       "</style>\n",
       "<table border=\"1\" class=\"dataframe\">\n",
       "  <thead>\n",
       "    <tr style=\"text-align: right;\">\n",
       "      <th>machine</th>\n",
       "      <th>M1</th>\n",
       "      <th>M2</th>\n",
       "      <th>M3</th>\n",
       "      <th>M4</th>\n",
       "      <th>M5</th>\n",
       "      <th>M6</th>\n",
       "    </tr>\n",
       "    <tr>\n",
       "      <th>measurement</th>\n",
       "      <th></th>\n",
       "      <th></th>\n",
       "      <th></th>\n",
       "      <th></th>\n",
       "      <th></th>\n",
       "      <th></th>\n",
       "    </tr>\n",
       "  </thead>\n",
       "  <tbody>\n",
       "    <tr>\n",
       "      <th>0</th>\n",
       "      <td>83.0</td>\n",
       "      <td>117.0</td>\n",
       "      <td>101.0</td>\n",
       "      <td>105.0</td>\n",
       "      <td>79.0</td>\n",
       "      <td>57.0</td>\n",
       "    </tr>\n",
       "    <tr>\n",
       "      <th>1</th>\n",
       "      <td>92.0</td>\n",
       "      <td>109.0</td>\n",
       "      <td>93.0</td>\n",
       "      <td>119.0</td>\n",
       "      <td>97.0</td>\n",
       "      <td>92.0</td>\n",
       "    </tr>\n",
       "    <tr>\n",
       "      <th>2</th>\n",
       "      <td>92.0</td>\n",
       "      <td>114.0</td>\n",
       "      <td>92.0</td>\n",
       "      <td>116.0</td>\n",
       "      <td>103.0</td>\n",
       "      <td>104.0</td>\n",
       "    </tr>\n",
       "    <tr>\n",
       "      <th>3</th>\n",
       "      <td>46.0</td>\n",
       "      <td>104.0</td>\n",
       "      <td>86.0</td>\n",
       "      <td>102.0</td>\n",
       "      <td>79.0</td>\n",
       "      <td>77.0</td>\n",
       "    </tr>\n",
       "    <tr>\n",
       "      <th>4</th>\n",
       "      <td>67.0</td>\n",
       "      <td>87.0</td>\n",
       "      <td>67.0</td>\n",
       "      <td>116.0</td>\n",
       "      <td>92.0</td>\n",
       "      <td>100.0</td>\n",
       "    </tr>\n",
       "  </tbody>\n",
       "</table>\n",
       "</div>"
      ],
      "text/plain": [
       "machine        M1     M2     M3     M4     M5     M6\n",
       "measurement                                         \n",
       "0            83.0  117.0  101.0  105.0   79.0   57.0\n",
       "1            92.0  109.0   93.0  119.0   97.0   92.0\n",
       "2            92.0  114.0   92.0  116.0  103.0  104.0\n",
       "3            46.0  104.0   86.0  102.0   79.0   77.0\n",
       "4            67.0   87.0   67.0  116.0   92.0  100.0"
      ]
     },
     "execution_count": 3,
     "metadata": {},
     "output_type": "execute_result"
    }
   ],
   "source": [
    "df_wide = pd.read_csv(\"factory.csv\")\n",
    "df_wide.set_index(\"measurement\", inplace=True)\n",
    "df_wide.columns.name = \"machine\"\n",
    "df_wide"
   ]
  },
  {
   "cell_type": "markdown",
   "metadata": {},
   "source": [
    "* Transform the dataset to the long format: one row per machine per measurement"
   ]
  },
  {
   "cell_type": "markdown",
   "metadata": {
    "pycharm": {
     "name": "#%% md\n"
    }
   },
   "source": [
    "A \"long\" format is more convenient for the following analyises. Let us *melt* the dataframe!"
   ]
  },
  {
   "cell_type": "code",
   "execution_count": 4,
   "metadata": {
    "pycharm": {
     "name": "#%%\n"
    }
   },
   "outputs": [],
   "source": [
    "df = pd.melt(df_wide.reset_index(),\n",
    "             id_vars=[\"measurement\"],\n",
    "             value_vars=['M1', 'M2', 'M3', 'M4', 'M5', 'M6'],\n",
    "             value_name='quality')\n",
    "df[\"machine\"] = df[\"machine\"].astype(\"category\") # useful for group analysis (with pymc3)"
   ]
  },
  {
   "cell_type": "code",
   "execution_count": 5,
   "metadata": {},
   "outputs": [
    {
     "data": {
      "text/html": [
       "<div>\n",
       "<style scoped>\n",
       "    .dataframe tbody tr th:only-of-type {\n",
       "        vertical-align: middle;\n",
       "    }\n",
       "\n",
       "    .dataframe tbody tr th {\n",
       "        vertical-align: top;\n",
       "    }\n",
       "\n",
       "    .dataframe thead th {\n",
       "        text-align: right;\n",
       "    }\n",
       "</style>\n",
       "<table border=\"1\" class=\"dataframe\">\n",
       "  <thead>\n",
       "    <tr style=\"text-align: right;\">\n",
       "      <th></th>\n",
       "      <th>measurement</th>\n",
       "      <th>machine</th>\n",
       "      <th>quality</th>\n",
       "    </tr>\n",
       "  </thead>\n",
       "  <tbody>\n",
       "    <tr>\n",
       "      <th>0</th>\n",
       "      <td>0</td>\n",
       "      <td>M1</td>\n",
       "      <td>83.0</td>\n",
       "    </tr>\n",
       "    <tr>\n",
       "      <th>1</th>\n",
       "      <td>1</td>\n",
       "      <td>M1</td>\n",
       "      <td>92.0</td>\n",
       "    </tr>\n",
       "    <tr>\n",
       "      <th>2</th>\n",
       "      <td>2</td>\n",
       "      <td>M1</td>\n",
       "      <td>92.0</td>\n",
       "    </tr>\n",
       "    <tr>\n",
       "      <th>3</th>\n",
       "      <td>3</td>\n",
       "      <td>M1</td>\n",
       "      <td>46.0</td>\n",
       "    </tr>\n",
       "    <tr>\n",
       "      <th>4</th>\n",
       "      <td>4</td>\n",
       "      <td>M1</td>\n",
       "      <td>67.0</td>\n",
       "    </tr>\n",
       "    <tr>\n",
       "      <th>5</th>\n",
       "      <td>0</td>\n",
       "      <td>M2</td>\n",
       "      <td>117.0</td>\n",
       "    </tr>\n",
       "  </tbody>\n",
       "</table>\n",
       "</div>"
      ],
      "text/plain": [
       "   measurement machine  quality\n",
       "0            0      M1     83.0\n",
       "1            1      M1     92.0\n",
       "2            2      M1     92.0\n",
       "3            3      M1     46.0\n",
       "4            4      M1     67.0\n",
       "5            0      M2    117.0"
      ]
     },
     "execution_count": 5,
     "metadata": {},
     "output_type": "execute_result"
    }
   ],
   "source": [
    "df.head(6)"
   ]
  },
  {
   "cell_type": "markdown",
   "metadata": {},
   "source": [
    "Note: the category column has the useful properies `cat.categories` (all the possible values of the categorical variable) and `cat.codes` (an equivalent integer representation of the variable)"
   ]
  },
  {
   "cell_type": "code",
   "execution_count": 6,
   "metadata": {},
   "outputs": [
    {
     "data": {
      "text/plain": [
       "Index(['M1', 'M2', 'M3', 'M4', 'M5', 'M6'], dtype='object')"
      ]
     },
     "execution_count": 6,
     "metadata": {},
     "output_type": "execute_result"
    }
   ],
   "source": [
    "df[\"machine\"].cat.categories"
   ]
  },
  {
   "cell_type": "code",
   "execution_count": 7,
   "metadata": {
    "scrolled": true
   },
   "outputs": [
    {
     "data": {
      "text/plain": [
       "0    0\n",
       "1    0\n",
       "2    0\n",
       "3    0\n",
       "4    0\n",
       "5    1\n",
       "dtype: int8"
      ]
     },
     "execution_count": 7,
     "metadata": {},
     "output_type": "execute_result"
    }
   ],
   "source": [
    "df[\"machine\"].cat.codes.head(6)"
   ]
  },
  {
   "cell_type": "markdown",
   "metadata": {
    "pycharm": {
     "name": "#%% md\n"
    }
   },
   "source": [
    "## Some traditional data analysis"
   ]
  },
  {
   "cell_type": "markdown",
   "metadata": {
    "pycharm": {
     "name": "#%% md\n"
    }
   },
   "source": [
    "* Obtain the global mean and standard deviation of the quality measurement (pooled mean/standard deviation)"
   ]
  },
  {
   "cell_type": "code",
   "execution_count": 8,
   "metadata": {
    "pycharm": {
     "name": "#%%\n"
    }
   },
   "outputs": [
    {
     "data": {
      "text/plain": [
       "(92.93333333333334, 18.001787906096773)"
      ]
     },
     "execution_count": 8,
     "metadata": {},
     "output_type": "execute_result"
    }
   ],
   "source": [
    "df[\"quality\"].mean(), df[\"quality\"].std()"
   ]
  },
  {
   "cell_type": "markdown",
   "metadata": {
    "pycharm": {
     "name": "#%% md\n"
    }
   },
   "source": [
    "* Plot a histogram and a boxplot of the quality measurement"
   ]
  },
  {
   "cell_type": "code",
   "execution_count": 9,
   "metadata": {
    "pycharm": {
     "name": "#%%\n"
    }
   },
   "outputs": [
    {
     "data": {
      "image/png": "[encoded data removed]",
      "text/plain": [
       "<Figure size 640x480 with 1 Axes>"
      ]
     },
     "metadata": {},
     "output_type": "display_data"
    }
   ],
   "source": [
    "sns.histplot(df[\"quality\"]);\n",
    "#px.histogram(df[\"quality\"]);"
   ]
  },
  {
   "cell_type": "code",
   "execution_count": 10,
   "metadata": {},
   "outputs": [
    {
     "data": {
      "image/png": "[encoded data removed]",
      "text/plain": [
       "<Figure size 640x480 with 1 Axes>"
      ]
     },
     "metadata": {},
     "output_type": "display_data"
    }
   ],
   "source": [
    "sns.boxplot(df[\"quality\"]);"
   ]
  },
  {
   "cell_type": "markdown",
   "metadata": {
    "pycharm": {
     "name": "#%% md\n"
    }
   },
   "source": [
    "* Obtain the mean and standard deviation of quality measurement, for the different machines (unpooled mean/standard deviation)"
   ]
  },
  {
   "cell_type": "code",
   "execution_count": 11,
   "metadata": {
    "pycharm": {
     "name": "#%%\n"
    }
   },
   "outputs": [
    {
     "data": {
      "text/html": [
       "<div>\n",
       "<style scoped>\n",
       "    .dataframe tbody tr th:only-of-type {\n",
       "        vertical-align: middle;\n",
       "    }\n",
       "\n",
       "    .dataframe tbody tr th {\n",
       "        vertical-align: top;\n",
       "    }\n",
       "\n",
       "    .dataframe thead tr th {\n",
       "        text-align: left;\n",
       "    }\n",
       "\n",
       "    .dataframe thead tr:last-of-type th {\n",
       "        text-align: right;\n",
       "    }\n",
       "</style>\n",
       "<table border=\"1\" class=\"dataframe\">\n",
       "  <thead>\n",
       "    <tr>\n",
       "      <th></th>\n",
       "      <th colspan=\"2\" halign=\"left\">quality</th>\n",
       "    </tr>\n",
       "    <tr>\n",
       "      <th></th>\n",
       "      <th>mean</th>\n",
       "      <th>std</th>\n",
       "    </tr>\n",
       "    <tr>\n",
       "      <th>machine</th>\n",
       "      <th></th>\n",
       "      <th></th>\n",
       "    </tr>\n",
       "  </thead>\n",
       "  <tbody>\n",
       "    <tr>\n",
       "      <th>M1</th>\n",
       "      <td>76.0</td>\n",
       "      <td>19.634154</td>\n",
       "    </tr>\n",
       "    <tr>\n",
       "      <th>M2</th>\n",
       "      <td>106.2</td>\n",
       "      <td>11.819475</td>\n",
       "    </tr>\n",
       "    <tr>\n",
       "      <th>M3</th>\n",
       "      <td>87.8</td>\n",
       "      <td>12.794530</td>\n",
       "    </tr>\n",
       "    <tr>\n",
       "      <th>M4</th>\n",
       "      <td>111.6</td>\n",
       "      <td>7.569676</td>\n",
       "    </tr>\n",
       "    <tr>\n",
       "      <th>M5</th>\n",
       "      <td>90.0</td>\n",
       "      <td>10.770330</td>\n",
       "    </tr>\n",
       "    <tr>\n",
       "      <th>M6</th>\n",
       "      <td>86.0</td>\n",
       "      <td>19.222383</td>\n",
       "    </tr>\n",
       "  </tbody>\n",
       "</table>\n",
       "</div>"
      ],
      "text/plain": [
       "        quality           \n",
       "           mean        std\n",
       "machine                   \n",
       "M1         76.0  19.634154\n",
       "M2        106.2  11.819475\n",
       "M3         87.8  12.794530\n",
       "M4        111.6   7.569676\n",
       "M5         90.0  10.770330\n",
       "M6         86.0  19.222383"
      ]
     },
     "execution_count": 11,
     "metadata": {},
     "output_type": "execute_result"
    }
   ],
   "source": [
    "df.groupby(\"machine\")[[\"quality\"]].agg([\"mean\", \"std\"])"
   ]
  },
  {
   "cell_type": "markdown",
   "metadata": {
    "pycharm": {
     "name": "#%% md\n"
    }
   },
   "source": [
    "* Draw boxplots of quality for the different factories"
   ]
  },
  {
   "cell_type": "code",
   "execution_count": 12,
   "metadata": {
    "pycharm": {
     "name": "#%%\n"
    },
    "scrolled": false
   },
   "outputs": [
    {
     "data": {
      "image/png": "[encoded data removed]",
      "text/plain": [
       "<Figure size 640x480 with 1 Axes>"
      ]
     },
     "metadata": {},
     "output_type": "display_data"
    }
   ],
   "source": [
    "sns.boxplot(data=df, x=\"quality\", y=\"machine\");\n",
    "#px.box(df, x=\"quality\", y=\"machine\")"
   ]
  },
  {
   "cell_type": "markdown",
   "metadata": {
    "pycharm": {
     "name": "#%% md\n"
    }
   },
   "source": [
    "Even from a classical analysis, there seems to be evidence that different machines have different quality."
   ]
  },
  {
   "cell_type": "markdown",
   "metadata": {
    "pycharm": {
     "name": "#%% md\n"
    }
   },
   "source": [
    "## Pooled Bayesian Model\n",
    "\n",
    "Consider the following *pooled* model:\n",
    "\\begin{align*}\n",
    "\\mu &\\sim N(90, 10) \\\\\n",
    "\\sigma &\\sim \\text{HalfNormal}(36) \\\\\n",
    "\\vec{y}_{ij} &\\sim N(\\mu, \\sigma) \\\\\n",
    "\\end{align*}\n"
   ]
  },
  {
   "cell_type": "markdown",
   "metadata": {},
   "source": [
    "* Discuss the pooled model and its underlying hypotheses "
   ]
  },
  {
   "cell_type": "markdown",
   "metadata": {},
   "source": [
    "The model does not make distinction between different machines. It is a single model for measurements from all the different machines; it assumes the measurement to share *global* mean and standard deviation $\\mu$ and $\\sigma$, respectively. \n",
    "\n",
    "It could have been constructed assuming that: \n",
    "1. The (global) mean quality $\\mu$ is between $90-3*10=60$ and $90+3*10=120$ with probability 99%\n",
    "2. All quality measurements $\\vec{y}_{ij}$ is in a range of width $25*6=150$ with probability 99%\n"
   ]
  },
  {
   "cell_type": "code",
   "execution_count": 13,
   "metadata": {
    "pycharm": {
     "name": "#%%\n"
    }
   },
   "outputs": [
    {
     "data": {
      "text/plain": [
       "0    24.513018\n",
       "dtype: float64"
      ]
     },
     "execution_count": 13,
     "metadata": {},
     "output_type": "execute_result"
    }
   ],
   "source": [
    "pd.DataFrame(stats.halfnorm.rvs(size=10_000, scale=36)).median()"
   ]
  },
  {
   "cell_type": "markdown",
   "metadata": {},
   "source": [
    "* Implement the pooled model in pymc3"
   ]
  },
  {
   "cell_type": "code",
   "execution_count": 14,
   "metadata": {
    "pycharm": {
     "name": "#%%\n"
    }
   },
   "outputs": [
    {
     "name": "stderr",
     "output_type": "stream",
     "text": [
      "Auto-assigning NUTS sampler...\n",
      "Initializing NUTS using jitter+adapt_diag...\n",
      "Multiprocess sampling (2 chains in 2 jobs)\n",
      "NUTS: [global_std, global_mu]\n"
     ]
    },
    {
     "data": {
      "text/html": [
       "\n",
       "    <div>\n",
       "        <style>\n",
       "            /* Turns off some styling */\n",
       "            progress {\n",
       "                /* gets rid of default border in Firefox and Opera. */\n",
       "                border: none;\n",
       "                /* Needs to be in here for Safari polyfill so background images work as expected. */\n",
       "                background-size: auto;\n",
       "            }\n",
       "            .progress-bar-interrupted, .progress-bar-interrupted::-webkit-progress-bar {\n",
       "                background: #F44336;\n",
       "            }\n",
       "        </style>\n",
       "      <progress value='22000' class='' max='22000' style='width:300px; height:20px; vertical-align: middle;'></progress>\n",
       "      100.00% [22000/22000 00:11<00:00 Sampling 2 chains, 0 divergences]\n",
       "    </div>\n",
       "    "
      ],
      "text/plain": [
       "<IPython.core.display.HTML object>"
      ]
     },
     "metadata": {},
     "output_type": "display_data"
    },
    {
     "name": "stderr",
     "output_type": "stream",
     "text": [
      "Sampling 2 chains for 1_000 tune and 10_000 draw iterations (2_000 + 20_000 draws total) took 12 seconds.\n"
     ]
    }
   ],
   "source": [
    "with pm.Model() as model_pooled:\n",
    "    global_mu = pm.Normal('global_mu', mu=90, sd=15)\n",
    "    global_std = pm.HalfNormal('global_std', sd=30)\n",
    "    y = pm.Normal('y', mu=global_mu, sd=global_std, observed=df[\"quality\"])\n",
    "    trace_pooled = pm.sample(10_000, return_inferencedata=True)"
   ]
  },
  {
   "cell_type": "code",
   "execution_count": 15,
   "metadata": {},
   "outputs": [
    {
     "data": {
      "image/svg+xml": [
       "<?xml version=\"1.0\" encoding=\"UTF-8\" standalone=\"no\"?>\n",
       "<!DOCTYPE svg PUBLIC \"-//W3C//DTD SVG 1.1//EN\"\n",
       " \"http://www.w3.org/Graphics/SVG/1.1/DTD/svg11.dtd\">\n",
       "<!-- Generated by graphviz version 2.40.1 (20161225.0304)\n",
       " -->\n",
       "<!-- Title: %3 Pages: 1 -->\n",
       "<svg width=\"250pt\" height=\"233pt\"\n",
       " viewBox=\"0.00 0.00 249.72 232.91\" xmlns=\"http://www.w3.org/2000/svg\" xmlns:xlink=\"http://www.w3.org/1999/xlink\">\n",
       "<g id=\"graph0\" class=\"graph\" transform=\"scale(1 1) rotate(0) translate(4 228.9066)\">\n",
       "<title>%3</title>\n",
       "<polygon fill=\"#ffffff\" stroke=\"transparent\" points=\"-4,4 -4,-228.9066 245.7229,-228.9066 245.7229,4 -4,4\"/>\n",
       "<g id=\"clust1\" class=\"cluster\">\n",
       "<title>cluster30</title>\n",
       "<path fill=\"none\" stroke=\"#000000\" d=\"M80.033,-8C80.033,-8 156.033,-8 156.033,-8 162.033,-8 168.033,-14 168.033,-20 168.033,-20 168.033,-109.9533 168.033,-109.9533 168.033,-115.9533 162.033,-121.9533 156.033,-121.9533 156.033,-121.9533 80.033,-121.9533 80.033,-121.9533 74.033,-121.9533 68.033,-115.9533 68.033,-109.9533 68.033,-109.9533 68.033,-20 68.033,-20 68.033,-14 74.033,-8 80.033,-8\"/>\n",
       "<text text-anchor=\"middle\" x=\"153.033\" y=\"-15.8\" font-family=\"Times,serif\" font-size=\"14.00\" fill=\"#000000\">30</text>\n",
       "</g>\n",
       "<!-- global_mu -->\n",
       "<g id=\"node1\" class=\"node\">\n",
       "<title>global_mu</title>\n",
       "<ellipse fill=\"none\" stroke=\"#000000\" cx=\"53.033\" cy=\"-187.43\" rx=\"53.066\" ry=\"37.4533\"/>\n",
       "<text text-anchor=\"middle\" x=\"53.033\" y=\"-198.73\" font-family=\"Times,serif\" font-size=\"14.00\" fill=\"#000000\">global_mu</text>\n",
       "<text text-anchor=\"middle\" x=\"53.033\" y=\"-183.73\" font-family=\"Times,serif\" font-size=\"14.00\" fill=\"#000000\">~</text>\n",
       "<text text-anchor=\"middle\" x=\"53.033\" y=\"-168.73\" font-family=\"Times,serif\" font-size=\"14.00\" fill=\"#000000\">Normal</text>\n",
       "</g>\n",
       "<!-- y -->\n",
       "<g id=\"node3\" class=\"node\">\n",
       "<title>y</title>\n",
       "<ellipse fill=\"#d3d3d3\" stroke=\"#000000\" cx=\"118.033\" cy=\"-76.4767\" rx=\"41.9398\" ry=\"37.4533\"/>\n",
       "<text text-anchor=\"middle\" x=\"118.033\" y=\"-87.7767\" font-family=\"Times,serif\" font-size=\"14.00\" fill=\"#000000\">y</text>\n",
       "<text text-anchor=\"middle\" x=\"118.033\" y=\"-72.7767\" font-family=\"Times,serif\" font-size=\"14.00\" fill=\"#000000\">~</text>\n",
       "<text text-anchor=\"middle\" x=\"118.033\" y=\"-57.7767\" font-family=\"Times,serif\" font-size=\"14.00\" fill=\"#000000\">Normal</text>\n",
       "</g>\n",
       "<!-- global_mu&#45;&gt;y -->\n",
       "<g id=\"edge1\" class=\"edge\">\n",
       "<title>global_mu&#45;&gt;y</title>\n",
       "<path fill=\"none\" stroke=\"#000000\" d=\"M73.4211,-152.6281C79.7079,-141.8966 86.7004,-129.9607 93.2492,-118.782\"/>\n",
       "<polygon fill=\"#000000\" stroke=\"#000000\" points=\"96.3492,-120.4144 98.3841,-110.0168 90.3094,-116.876 96.3492,-120.4144\"/>\n",
       "</g>\n",
       "<!-- global_std -->\n",
       "<g id=\"node2\" class=\"node\">\n",
       "<title>global_std</title>\n",
       "<ellipse fill=\"none\" stroke=\"#000000\" cx=\"183.033\" cy=\"-187.43\" rx=\"58.8803\" ry=\"37.4533\"/>\n",
       "<text text-anchor=\"middle\" x=\"183.033\" y=\"-198.73\" font-family=\"Times,serif\" font-size=\"14.00\" fill=\"#000000\">global_std</text>\n",
       "<text text-anchor=\"middle\" x=\"183.033\" y=\"-183.73\" font-family=\"Times,serif\" font-size=\"14.00\" fill=\"#000000\">~</text>\n",
       "<text text-anchor=\"middle\" x=\"183.033\" y=\"-168.73\" font-family=\"Times,serif\" font-size=\"14.00\" fill=\"#000000\">HalfNormal</text>\n",
       "</g>\n",
       "<!-- global_std&#45;&gt;y -->\n",
       "<g id=\"edge2\" class=\"edge\">\n",
       "<title>global_std&#45;&gt;y</title>\n",
       "<path fill=\"none\" stroke=\"#000000\" d=\"M162.4666,-152.3237C156.1862,-141.6031 149.2153,-129.704 142.6925,-118.5698\"/>\n",
       "<polygon fill=\"#000000\" stroke=\"#000000\" points=\"145.654,-116.7007 137.5792,-109.8415 139.6141,-120.2391 145.654,-116.7007\"/>\n",
       "</g>\n",
       "</g>\n",
       "</svg>\n"
      ],
      "text/plain": [
       "<graphviz.graphs.Digraph at 0x7f3571759240>"
      ]
     },
     "execution_count": 15,
     "metadata": {},
     "output_type": "execute_result"
    }
   ],
   "source": [
    "pm.model_to_graphviz(model_pooled)"
   ]
  },
  {
   "cell_type": "code",
   "execution_count": 16,
   "metadata": {
    "pycharm": {
     "name": "#%%\n"
    }
   },
   "outputs": [
    {
     "data": {
      "text/html": [
       "<div>\n",
       "<style scoped>\n",
       "    .dataframe tbody tr th:only-of-type {\n",
       "        vertical-align: middle;\n",
       "    }\n",
       "\n",
       "    .dataframe tbody tr th {\n",
       "        vertical-align: top;\n",
       "    }\n",
       "\n",
       "    .dataframe thead th {\n",
       "        text-align: right;\n",
       "    }\n",
       "</style>\n",
       "<table border=\"1\" class=\"dataframe\">\n",
       "  <thead>\n",
       "    <tr style=\"text-align: right;\">\n",
       "      <th></th>\n",
       "      <th>mean</th>\n",
       "      <th>sd</th>\n",
       "      <th>hdi_3%</th>\n",
       "      <th>hdi_97%</th>\n",
       "      <th>mcse_mean</th>\n",
       "      <th>mcse_sd</th>\n",
       "      <th>ess_bulk</th>\n",
       "      <th>ess_tail</th>\n",
       "      <th>r_hat</th>\n",
       "    </tr>\n",
       "  </thead>\n",
       "  <tbody>\n",
       "    <tr>\n",
       "      <th>global_mu</th>\n",
       "      <td>92.809</td>\n",
       "      <td>3.362</td>\n",
       "      <td>86.518</td>\n",
       "      <td>99.161</td>\n",
       "      <td>0.027</td>\n",
       "      <td>0.019</td>\n",
       "      <td>15540.0</td>\n",
       "      <td>13429.0</td>\n",
       "      <td>1.0</td>\n",
       "    </tr>\n",
       "    <tr>\n",
       "      <th>global_std</th>\n",
       "      <td>18.683</td>\n",
       "      <td>2.583</td>\n",
       "      <td>14.140</td>\n",
       "      <td>23.535</td>\n",
       "      <td>0.023</td>\n",
       "      <td>0.016</td>\n",
       "      <td>12724.0</td>\n",
       "      <td>11984.0</td>\n",
       "      <td>1.0</td>\n",
       "    </tr>\n",
       "  </tbody>\n",
       "</table>\n",
       "</div>"
      ],
      "text/plain": [
       "              mean     sd  hdi_3%  hdi_97%  mcse_mean  mcse_sd  ess_bulk  \\\n",
       "global_mu   92.809  3.362  86.518   99.161      0.027    0.019   15540.0   \n",
       "global_std  18.683  2.583  14.140   23.535      0.023    0.016   12724.0   \n",
       "\n",
       "            ess_tail  r_hat  \n",
       "global_mu    13429.0    1.0  \n",
       "global_std   11984.0    1.0  "
      ]
     },
     "metadata": {},
     "output_type": "display_data"
    }
   ],
   "source": [
    "with model_pooled:\n",
    "    display(az.summary(trace_pooled))"
   ]
  },
  {
   "cell_type": "code",
   "execution_count": 17,
   "metadata": {
    "pycharm": {
     "name": "#%%\n"
    }
   },
   "outputs": [
    {
     "data": {
      "image/png": "[encoded data removed]",
      "text/plain": [
       "<Figure size 1472x552 with 2 Axes>"
      ]
     },
     "metadata": {},
     "output_type": "display_data"
    }
   ],
   "source": [
    "with model_pooled:\n",
    "    az.plot_posterior(trace_pooled);"
   ]
  },
  {
   "cell_type": "markdown",
   "metadata": {
    "pycharm": {
     "name": "#%% md\n"
    }
   },
   "source": [
    "## Unpooled Bayesian Model\n",
    "\n",
    "Consider the following unpooled model\n",
    "\\begin{align*}\n",
    "\\mu_{j} &\\sim {N}(90, 20) \\\\\n",
    "\\sigma_{j} &\\sim \\text{HalfNormal}(23) \\\\\n",
    "\\vec{y}_{ij} &\\sim {N}(\\mu_j, \\sigma_j) \\\\\n",
    "\\end{align*}\n",
    "\n"
   ]
  },
  {
   "cell_type": "markdown",
   "metadata": {},
   "source": [
    "* Discuss the unpooled model and its underlying hypotheses \n",
    "\n",
    "The unpooled model actually consists in 6 completely separate sub-models for the 6 different machines. \n",
    "It could have build according to the hipotheses that, for each machine: \n",
    "1. The mean quality of each machine is between $90-3*20=30$ and $90+3*20=150$ with probability 99%\n",
    "2. The quality measurements of each machine are in a range of width $15*6=90$ with probability 99%"
   ]
  },
  {
   "cell_type": "code",
   "execution_count": 18,
   "metadata": {},
   "outputs": [
    {
     "data": {
      "text/plain": [
       "0    15.435756\n",
       "dtype: float64"
      ]
     },
     "execution_count": 18,
     "metadata": {},
     "output_type": "execute_result"
    }
   ],
   "source": [
    "pd.DataFrame(stats.halfnorm.rvs(size=10_000, scale=23)).median()"
   ]
  },
  {
   "cell_type": "markdown",
   "metadata": {},
   "source": [
    "* Implement the unpooled model in pymc3"
   ]
  },
  {
   "cell_type": "code",
   "execution_count": 19,
   "metadata": {
    "pycharm": {
     "name": "#%%\n"
    }
   },
   "outputs": [
    {
     "data": {
      "text/plain": [
       "(['M1', 'M2', 'M3', 'M4', 'M5', 'M6'], 6)"
      ]
     },
     "execution_count": 19,
     "metadata": {},
     "output_type": "execute_result"
    }
   ],
   "source": [
    "df[\"machine_id\"] = df[\"machine\"].cat.codes\n",
    "machines = list(df[\"machine\"].cat.categories)\n",
    "n_machines = len(machines) # number of machines (6)\n",
    "machines, n_machines"
   ]
  },
  {
   "cell_type": "code",
   "execution_count": 20,
   "metadata": {
    "pycharm": {
     "name": "#%%\n"
    }
   },
   "outputs": [
    {
     "name": "stderr",
     "output_type": "stream",
     "text": [
      "Auto-assigning NUTS sampler...\n",
      "Initializing NUTS using jitter+adapt_diag...\n",
      "Multiprocess sampling (2 chains in 2 jobs)\n",
      "NUTS: [group_std, group_mu]\n"
     ]
    },
    {
     "data": {
      "text/html": [
       "\n",
       "    <div>\n",
       "        <style>\n",
       "            /* Turns off some styling */\n",
       "            progress {\n",
       "                /* gets rid of default border in Firefox and Opera. */\n",
       "                border: none;\n",
       "                /* Needs to be in here for Safari polyfill so background images work as expected. */\n",
       "                background-size: auto;\n",
       "            }\n",
       "            .progress-bar-interrupted, .progress-bar-interrupted::-webkit-progress-bar {\n",
       "                background: #F44336;\n",
       "            }\n",
       "        </style>\n",
       "      <progress value='22000' class='' max='22000' style='width:300px; height:20px; vertical-align: middle;'></progress>\n",
       "      100.00% [22000/22000 00:17<00:00 Sampling 2 chains, 0 divergences]\n",
       "    </div>\n",
       "    "
      ],
      "text/plain": [
       "<IPython.core.display.HTML object>"
      ]
     },
     "metadata": {},
     "output_type": "display_data"
    },
    {
     "name": "stderr",
     "output_type": "stream",
     "text": [
      "Sampling 2 chains for 1_000 tune and 10_000 draw iterations (2_000 + 20_000 draws total) took 18 seconds.\n"
     ]
    }
   ],
   "source": [
    "with pm.Model() as model_unpooled:\n",
    "    group_mu = pm.Normal('group_mu', mu=90, sd=20, shape=n_machines)\n",
    "    group_std = pm.HalfNormal('group_std', sd=23, shape=n_machines)\n",
    "    #y = pm.Normal('y', mu=group_mu[df[\"machine_id\"]], sd=group_std[df[\"machine_id\"]], observed=df[\"quality\"])\n",
    "    y = pm.Normal('y', mu=group_mu[df[\"machine\"].cat.codes],\n",
    "                  sd=group_std[df[\"machine\"].cat.codes],\n",
    "                  observed=df[\"quality\"])\n",
    "    trace_unpooled = pm.sample(10_000, return_inferencedata=True)\n"
   ]
  },
  {
   "cell_type": "code",
   "execution_count": 21,
   "metadata": {
    "pycharm": {
     "name": "#%%\n"
    }
   },
   "outputs": [
    {
     "data": {
      "image/svg+xml": [
       "<?xml version=\"1.0\" encoding=\"UTF-8\" standalone=\"no\"?>\n",
       "<!DOCTYPE svg PUBLIC \"-//W3C//DTD SVG 1.1//EN\"\n",
       " \"http://www.w3.org/Graphics/SVG/1.1/DTD/svg11.dtd\">\n",
       "<!-- Generated by graphviz version 2.40.1 (20161225.0304)\n",
       " -->\n",
       "<!-- Title: %3 Pages: 1 -->\n",
       "<svg width=\"279pt\" height=\"260pt\"\n",
       " viewBox=\"0.00 0.00 279.00 259.91\" xmlns=\"http://www.w3.org/2000/svg\" xmlns:xlink=\"http://www.w3.org/1999/xlink\">\n",
       "<g id=\"graph0\" class=\"graph\" transform=\"scale(1 1) rotate(0) translate(4 255.9066)\">\n",
       "<title>%3</title>\n",
       "<polygon fill=\"#ffffff\" stroke=\"transparent\" points=\"-4,4 -4,-255.9066 275,-255.9066 275,4 -4,4\"/>\n",
       "<g id=\"clust1\" class=\"cluster\">\n",
       "<title>cluster6</title>\n",
       "<path fill=\"none\" stroke=\"#000000\" d=\"M20,-129.9533C20,-129.9533 251,-129.9533 251,-129.9533 257,-129.9533 263,-135.9533 263,-141.9533 263,-141.9533 263,-231.9066 263,-231.9066 263,-237.9066 257,-243.9066 251,-243.9066 251,-243.9066 20,-243.9066 20,-243.9066 14,-243.9066 8,-237.9066 8,-231.9066 8,-231.9066 8,-141.9533 8,-141.9533 8,-135.9533 14,-129.9533 20,-129.9533\"/>\n",
       "<text text-anchor=\"middle\" x=\"251.5\" y=\"-137.7533\" font-family=\"Times,serif\" font-size=\"14.00\" fill=\"#000000\">6</text>\n",
       "</g>\n",
       "<g id=\"clust2\" class=\"cluster\">\n",
       "<title>cluster30</title>\n",
       "<path fill=\"none\" stroke=\"#000000\" d=\"M94,-8C94,-8 170,-8 170,-8 176,-8 182,-14 182,-20 182,-20 182,-109.9533 182,-109.9533 182,-115.9533 176,-121.9533 170,-121.9533 170,-121.9533 94,-121.9533 94,-121.9533 88,-121.9533 82,-115.9533 82,-109.9533 82,-109.9533 82,-20 82,-20 82,-14 88,-8 94,-8\"/>\n",
       "<text text-anchor=\"middle\" x=\"167\" y=\"-15.8\" font-family=\"Times,serif\" font-size=\"14.00\" fill=\"#000000\">30</text>\n",
       "</g>\n",
       "<!-- group_std -->\n",
       "<g id=\"node1\" class=\"node\">\n",
       "<title>group_std</title>\n",
       "<ellipse fill=\"none\" stroke=\"#000000\" cx=\"196\" cy=\"-198.43\" rx=\"58.8803\" ry=\"37.4533\"/>\n",
       "<text text-anchor=\"middle\" x=\"196\" y=\"-209.73\" font-family=\"Times,serif\" font-size=\"14.00\" fill=\"#000000\">group_std</text>\n",
       "<text text-anchor=\"middle\" x=\"196\" y=\"-194.73\" font-family=\"Times,serif\" font-size=\"14.00\" fill=\"#000000\">~</text>\n",
       "<text text-anchor=\"middle\" x=\"196\" y=\"-179.73\" font-family=\"Times,serif\" font-size=\"14.00\" fill=\"#000000\">HalfNormal</text>\n",
       "</g>\n",
       "<!-- y -->\n",
       "<g id=\"node3\" class=\"node\">\n",
       "<title>y</title>\n",
       "<ellipse fill=\"#d3d3d3\" stroke=\"#000000\" cx=\"132\" cy=\"-76.4767\" rx=\"41.9398\" ry=\"37.4533\"/>\n",
       "<text text-anchor=\"middle\" x=\"132\" y=\"-87.7767\" font-family=\"Times,serif\" font-size=\"14.00\" fill=\"#000000\">y</text>\n",
       "<text text-anchor=\"middle\" x=\"132\" y=\"-72.7767\" font-family=\"Times,serif\" font-size=\"14.00\" fill=\"#000000\">~</text>\n",
       "<text text-anchor=\"middle\" x=\"132\" y=\"-57.7767\" font-family=\"Times,serif\" font-size=\"14.00\" fill=\"#000000\">Normal</text>\n",
       "</g>\n",
       "<!-- group_std&#45;&gt;y -->\n",
       "<g id=\"edge1\" class=\"edge\">\n",
       "<title>group_std&#45;&gt;y</title>\n",
       "<path fill=\"none\" stroke=\"#000000\" d=\"M177.3165,-162.8282C170.2343,-149.3329 162.0929,-133.8194 154.682,-119.6977\"/>\n",
       "<polygon fill=\"#000000\" stroke=\"#000000\" points=\"157.6821,-117.8823 149.936,-110.654 151.4837,-121.1352 157.6821,-117.8823\"/>\n",
       "</g>\n",
       "<!-- group_mu -->\n",
       "<g id=\"node2\" class=\"node\">\n",
       "<title>group_mu</title>\n",
       "<ellipse fill=\"none\" stroke=\"#000000\" cx=\"68\" cy=\"-198.43\" rx=\"51.7379\" ry=\"37.4533\"/>\n",
       "<text text-anchor=\"middle\" x=\"68\" y=\"-209.73\" font-family=\"Times,serif\" font-size=\"14.00\" fill=\"#000000\">group_mu</text>\n",
       "<text text-anchor=\"middle\" x=\"68\" y=\"-194.73\" font-family=\"Times,serif\" font-size=\"14.00\" fill=\"#000000\">~</text>\n",
       "<text text-anchor=\"middle\" x=\"68\" y=\"-179.73\" font-family=\"Times,serif\" font-size=\"14.00\" fill=\"#000000\">Normal</text>\n",
       "</g>\n",
       "<!-- group_mu&#45;&gt;y -->\n",
       "<g id=\"edge2\" class=\"edge\">\n",
       "<title>group_mu&#45;&gt;y</title>\n",
       "<path fill=\"none\" stroke=\"#000000\" d=\"M86.5115,-163.156C93.6584,-149.5374 101.9041,-133.825 109.3959,-119.5493\"/>\n",
       "<polygon fill=\"#000000\" stroke=\"#000000\" points=\"112.6433,-120.8932 114.191,-110.412 106.4449,-117.6403 112.6433,-120.8932\"/>\n",
       "</g>\n",
       "</g>\n",
       "</svg>\n"
      ],
      "text/plain": [
       "<graphviz.graphs.Digraph at 0x7f356bc26380>"
      ]
     },
     "execution_count": 21,
     "metadata": {},
     "output_type": "execute_result"
    }
   ],
   "source": [
    "pm.model_to_graphviz(model_unpooled)"
   ]
  },
  {
   "cell_type": "code",
   "execution_count": 22,
   "metadata": {},
   "outputs": [
    {
     "data": {
      "text/html": [
       "<div>\n",
       "<style scoped>\n",
       "    .dataframe tbody tr th:only-of-type {\n",
       "        vertical-align: middle;\n",
       "    }\n",
       "\n",
       "    .dataframe tbody tr th {\n",
       "        vertical-align: top;\n",
       "    }\n",
       "\n",
       "    .dataframe thead th {\n",
       "        text-align: right;\n",
       "    }\n",
       "</style>\n",
       "<table border=\"1\" class=\"dataframe\">\n",
       "  <thead>\n",
       "    <tr style=\"text-align: right;\">\n",
       "      <th></th>\n",
       "      <th>mean</th>\n",
       "      <th>sd</th>\n",
       "      <th>hdi_3%</th>\n",
       "      <th>hdi_97%</th>\n",
       "      <th>mcse_mean</th>\n",
       "      <th>mcse_sd</th>\n",
       "      <th>ess_bulk</th>\n",
       "      <th>ess_tail</th>\n",
       "      <th>r_hat</th>\n",
       "    </tr>\n",
       "  </thead>\n",
       "  <tbody>\n",
       "    <tr>\n",
       "      <th>group_mu[0]</th>\n",
       "      <td>78.854</td>\n",
       "      <td>9.077</td>\n",
       "      <td>62.252</td>\n",
       "      <td>96.494</td>\n",
       "      <td>0.063</td>\n",
       "      <td>0.046</td>\n",
       "      <td>21876.0</td>\n",
       "      <td>12596.0</td>\n",
       "      <td>1.0</td>\n",
       "    </tr>\n",
       "    <tr>\n",
       "      <th>group_mu[1]</th>\n",
       "      <td>104.366</td>\n",
       "      <td>6.717</td>\n",
       "      <td>91.175</td>\n",
       "      <td>116.722</td>\n",
       "      <td>0.052</td>\n",
       "      <td>0.037</td>\n",
       "      <td>18458.0</td>\n",
       "      <td>11404.0</td>\n",
       "      <td>1.0</td>\n",
       "    </tr>\n",
       "    <tr>\n",
       "      <th>group_mu[2]</th>\n",
       "      <td>88.030</td>\n",
       "      <td>6.885</td>\n",
       "      <td>75.339</td>\n",
       "      <td>101.783</td>\n",
       "      <td>0.053</td>\n",
       "      <td>0.037</td>\n",
       "      <td>18430.0</td>\n",
       "      <td>12075.0</td>\n",
       "      <td>1.0</td>\n",
       "    </tr>\n",
       "    <tr>\n",
       "      <th>group_mu[3]</th>\n",
       "      <td>110.325</td>\n",
       "      <td>4.993</td>\n",
       "      <td>101.056</td>\n",
       "      <td>119.856</td>\n",
       "      <td>0.044</td>\n",
       "      <td>0.031</td>\n",
       "      <td>15110.0</td>\n",
       "      <td>9510.0</td>\n",
       "      <td>1.0</td>\n",
       "    </tr>\n",
       "    <tr>\n",
       "      <th>group_mu[4]</th>\n",
       "      <td>89.990</td>\n",
       "      <td>6.161</td>\n",
       "      <td>78.520</td>\n",
       "      <td>102.343</td>\n",
       "      <td>0.045</td>\n",
       "      <td>0.032</td>\n",
       "      <td>20417.0</td>\n",
       "      <td>11712.0</td>\n",
       "      <td>1.0</td>\n",
       "    </tr>\n",
       "    <tr>\n",
       "      <th>group_mu[5]</th>\n",
       "      <td>86.665</td>\n",
       "      <td>8.747</td>\n",
       "      <td>70.524</td>\n",
       "      <td>103.964</td>\n",
       "      <td>0.059</td>\n",
       "      <td>0.042</td>\n",
       "      <td>22414.0</td>\n",
       "      <td>13349.0</td>\n",
       "      <td>1.0</td>\n",
       "    </tr>\n",
       "    <tr>\n",
       "      <th>group_std[0]</th>\n",
       "      <td>22.261</td>\n",
       "      <td>7.419</td>\n",
       "      <td>10.728</td>\n",
       "      <td>35.959</td>\n",
       "      <td>0.053</td>\n",
       "      <td>0.040</td>\n",
       "      <td>22134.0</td>\n",
       "      <td>14947.0</td>\n",
       "      <td>1.0</td>\n",
       "    </tr>\n",
       "    <tr>\n",
       "      <th>group_std[1]</th>\n",
       "      <td>15.108</td>\n",
       "      <td>6.130</td>\n",
       "      <td>6.511</td>\n",
       "      <td>26.297</td>\n",
       "      <td>0.050</td>\n",
       "      <td>0.037</td>\n",
       "      <td>18504.0</td>\n",
       "      <td>13174.0</td>\n",
       "      <td>1.0</td>\n",
       "    </tr>\n",
       "    <tr>\n",
       "      <th>group_std[2]</th>\n",
       "      <td>15.969</td>\n",
       "      <td>6.232</td>\n",
       "      <td>6.697</td>\n",
       "      <td>27.049</td>\n",
       "      <td>0.049</td>\n",
       "      <td>0.037</td>\n",
       "      <td>21131.0</td>\n",
       "      <td>14106.0</td>\n",
       "      <td>1.0</td>\n",
       "    </tr>\n",
       "    <tr>\n",
       "      <th>group_std[3]</th>\n",
       "      <td>10.528</td>\n",
       "      <td>5.010</td>\n",
       "      <td>4.099</td>\n",
       "      <td>19.499</td>\n",
       "      <td>0.043</td>\n",
       "      <td>0.033</td>\n",
       "      <td>18120.0</td>\n",
       "      <td>12927.0</td>\n",
       "      <td>1.0</td>\n",
       "    </tr>\n",
       "    <tr>\n",
       "      <th>group_std[4]</th>\n",
       "      <td>13.948</td>\n",
       "      <td>5.852</td>\n",
       "      <td>5.872</td>\n",
       "      <td>24.556</td>\n",
       "      <td>0.047</td>\n",
       "      <td>0.035</td>\n",
       "      <td>20682.0</td>\n",
       "      <td>14214.0</td>\n",
       "      <td>1.0</td>\n",
       "    </tr>\n",
       "    <tr>\n",
       "      <th>group_std[5]</th>\n",
       "      <td>21.692</td>\n",
       "      <td>7.175</td>\n",
       "      <td>10.767</td>\n",
       "      <td>35.259</td>\n",
       "      <td>0.055</td>\n",
       "      <td>0.042</td>\n",
       "      <td>19284.0</td>\n",
       "      <td>14996.0</td>\n",
       "      <td>1.0</td>\n",
       "    </tr>\n",
       "  </tbody>\n",
       "</table>\n",
       "</div>"
      ],
      "text/plain": [
       "                 mean     sd   hdi_3%  hdi_97%  mcse_mean  mcse_sd  ess_bulk  \\\n",
       "group_mu[0]    78.854  9.077   62.252   96.494      0.063    0.046   21876.0   \n",
       "group_mu[1]   104.366  6.717   91.175  116.722      0.052    0.037   18458.0   \n",
       "group_mu[2]    88.030  6.885   75.339  101.783      0.053    0.037   18430.0   \n",
       "group_mu[3]   110.325  4.993  101.056  119.856      0.044    0.031   15110.0   \n",
       "group_mu[4]    89.990  6.161   78.520  102.343      0.045    0.032   20417.0   \n",
       "group_mu[5]    86.665  8.747   70.524  103.964      0.059    0.042   22414.0   \n",
       "group_std[0]   22.261  7.419   10.728   35.959      0.053    0.040   22134.0   \n",
       "group_std[1]   15.108  6.130    6.511   26.297      0.050    0.037   18504.0   \n",
       "group_std[2]   15.969  6.232    6.697   27.049      0.049    0.037   21131.0   \n",
       "group_std[3]   10.528  5.010    4.099   19.499      0.043    0.033   18120.0   \n",
       "group_std[4]   13.948  5.852    5.872   24.556      0.047    0.035   20682.0   \n",
       "group_std[5]   21.692  7.175   10.767   35.259      0.055    0.042   19284.0   \n",
       "\n",
       "              ess_tail  r_hat  \n",
       "group_mu[0]    12596.0    1.0  \n",
       "group_mu[1]    11404.0    1.0  \n",
       "group_mu[2]    12075.0    1.0  \n",
       "group_mu[3]     9510.0    1.0  \n",
       "group_mu[4]    11712.0    1.0  \n",
       "group_mu[5]    13349.0    1.0  \n",
       "group_std[0]   14947.0    1.0  \n",
       "group_std[1]   13174.0    1.0  \n",
       "group_std[2]   14106.0    1.0  \n",
       "group_std[3]   12927.0    1.0  \n",
       "group_std[4]   14214.0    1.0  \n",
       "group_std[5]   14996.0    1.0  "
      ]
     },
     "metadata": {},
     "output_type": "display_data"
    }
   ],
   "source": [
    "with model_pooled:\n",
    "    display(az.summary(trace_unpooled))"
   ]
  },
  {
   "cell_type": "code",
   "execution_count": 23,
   "metadata": {},
   "outputs": [],
   "source": [
    "trace_unpooled.posterior = trace_unpooled.posterior.assign_coords(group_mu_dim_0=machines,\n",
    "                                                                  group_std_dim_0=machines)"
   ]
  },
  {
   "cell_type": "code",
   "execution_count": 24,
   "metadata": {
    "pycharm": {
     "name": "#%%\n"
    }
   },
   "outputs": [
    {
     "data": {
      "image/png": "[encoded data removed]",
      "text/plain": [
       "<Figure size 1200x552 with 1 Axes>"
      ]
     },
     "metadata": {},
     "output_type": "display_data"
    }
   ],
   "source": [
    "with model_unpooled:\n",
    "    axes = az.plot_forest (trace_unpooled,  kind='ridgeplot', hdi_prob=0.95, var_names=\"group_mu\", combined=True);\n",
    "    plt.title(\"Posterior mean for the 6 machines\")\n",
    "    #axes[0].set_yticklabels(machines[::-1])\n",
    "    "
   ]
  },
  {
   "cell_type": "code",
   "execution_count": 25,
   "metadata": {
    "pycharm": {
     "name": "#%%\n"
    }
   },
   "outputs": [
    {
     "data": {
      "image/png": "[encoded data removed]",
      "text/plain": [
       "<Figure size 1200x552 with 1 Axes>"
      ]
     },
     "metadata": {},
     "output_type": "display_data"
    }
   ],
   "source": [
    "with model_unpooled:\n",
    "    axes = az.plot_forest (trace_unpooled,  kind='ridgeplot', hdi_prob=0.95, var_names=\"group_std\", combined=True);\n",
    "    plt.title(\"Posterior standard deviation for the 6 machines\")\n",
    "    #axes[0].set_yticklabels(machines[::-1])"
   ]
  },
  {
   "cell_type": "markdown",
   "metadata": {
    "pycharm": {
     "name": "#%% md\n"
    }
   },
   "source": [
    "* Compare the sample unpooled standard deviation with the bayesian estimate. What do you observe?"
   ]
  },
  {
   "cell_type": "markdown",
   "metadata": {
    "pycharm": {
     "name": "#%% md\n"
    }
   },
   "source": [
    "We already computed the sample standard deviations before:"
   ]
  },
  {
   "cell_type": "code",
   "execution_count": 26,
   "metadata": {
    "pycharm": {
     "name": "#%%\n"
    }
   },
   "outputs": [
    {
     "data": {
      "text/html": [
       "<div>\n",
       "<style scoped>\n",
       "    .dataframe tbody tr th:only-of-type {\n",
       "        vertical-align: middle;\n",
       "    }\n",
       "\n",
       "    .dataframe tbody tr th {\n",
       "        vertical-align: top;\n",
       "    }\n",
       "\n",
       "    .dataframe thead tr th {\n",
       "        text-align: left;\n",
       "    }\n",
       "\n",
       "    .dataframe thead tr:last-of-type th {\n",
       "        text-align: right;\n",
       "    }\n",
       "</style>\n",
       "<table border=\"1\" class=\"dataframe\">\n",
       "  <thead>\n",
       "    <tr>\n",
       "      <th></th>\n",
       "      <th colspan=\"2\" halign=\"left\">quality</th>\n",
       "    </tr>\n",
       "    <tr>\n",
       "      <th></th>\n",
       "      <th>mean</th>\n",
       "      <th>std</th>\n",
       "    </tr>\n",
       "    <tr>\n",
       "      <th>machine</th>\n",
       "      <th></th>\n",
       "      <th></th>\n",
       "    </tr>\n",
       "  </thead>\n",
       "  <tbody>\n",
       "    <tr>\n",
       "      <th>M1</th>\n",
       "      <td>76.0</td>\n",
       "      <td>19.634154</td>\n",
       "    </tr>\n",
       "    <tr>\n",
       "      <th>M2</th>\n",
       "      <td>106.2</td>\n",
       "      <td>11.819475</td>\n",
       "    </tr>\n",
       "    <tr>\n",
       "      <th>M3</th>\n",
       "      <td>87.8</td>\n",
       "      <td>12.794530</td>\n",
       "    </tr>\n",
       "    <tr>\n",
       "      <th>M4</th>\n",
       "      <td>111.6</td>\n",
       "      <td>7.569676</td>\n",
       "    </tr>\n",
       "    <tr>\n",
       "      <th>M5</th>\n",
       "      <td>90.0</td>\n",
       "      <td>10.770330</td>\n",
       "    </tr>\n",
       "    <tr>\n",
       "      <th>M6</th>\n",
       "      <td>86.0</td>\n",
       "      <td>19.222383</td>\n",
       "    </tr>\n",
       "  </tbody>\n",
       "</table>\n",
       "</div>"
      ],
      "text/plain": [
       "        quality           \n",
       "           mean        std\n",
       "machine                   \n",
       "M1         76.0  19.634154\n",
       "M2        106.2  11.819475\n",
       "M3         87.8  12.794530\n",
       "M4        111.6   7.569676\n",
       "M5         90.0  10.770330\n",
       "M6         86.0  19.222383"
      ]
     },
     "execution_count": 26,
     "metadata": {},
     "output_type": "execute_result"
    }
   ],
   "source": [
    "df.groupby(\"machine\")[[\"quality\"]].agg([\"mean\", \"std\"])"
   ]
  },
  {
   "cell_type": "markdown",
   "metadata": {
    "pycharm": {
     "name": "#%% md\n"
    }
   },
   "source": [
    "The posterior means of the bayesian estimates are:"
   ]
  },
  {
   "cell_type": "code",
   "execution_count": 27,
   "metadata": {
    "pycharm": {
     "name": "#%%\n"
    }
   },
   "outputs": [
    {
     "data": {
      "text/html": [
       "<div>\n",
       "<style scoped>\n",
       "    .dataframe tbody tr th:only-of-type {\n",
       "        vertical-align: middle;\n",
       "    }\n",
       "\n",
       "    .dataframe tbody tr th {\n",
       "        vertical-align: top;\n",
       "    }\n",
       "\n",
       "    .dataframe thead th {\n",
       "        text-align: right;\n",
       "    }\n",
       "</style>\n",
       "<table border=\"1\" class=\"dataframe\">\n",
       "  <thead>\n",
       "    <tr style=\"text-align: right;\">\n",
       "      <th></th>\n",
       "      <th>mean</th>\n",
       "      <th>sd</th>\n",
       "      <th>hdi_3%</th>\n",
       "      <th>hdi_97%</th>\n",
       "      <th>mcse_mean</th>\n",
       "      <th>mcse_sd</th>\n",
       "      <th>ess_bulk</th>\n",
       "      <th>ess_tail</th>\n",
       "      <th>r_hat</th>\n",
       "    </tr>\n",
       "  </thead>\n",
       "  <tbody>\n",
       "    <tr>\n",
       "      <th>group_std[M1]</th>\n",
       "      <td>22.261</td>\n",
       "      <td>7.419</td>\n",
       "      <td>10.728</td>\n",
       "      <td>35.959</td>\n",
       "      <td>0.053</td>\n",
       "      <td>0.040</td>\n",
       "      <td>22134.0</td>\n",
       "      <td>14947.0</td>\n",
       "      <td>1.0</td>\n",
       "    </tr>\n",
       "    <tr>\n",
       "      <th>group_std[M2]</th>\n",
       "      <td>15.108</td>\n",
       "      <td>6.130</td>\n",
       "      <td>6.511</td>\n",
       "      <td>26.297</td>\n",
       "      <td>0.050</td>\n",
       "      <td>0.037</td>\n",
       "      <td>18504.0</td>\n",
       "      <td>13174.0</td>\n",
       "      <td>1.0</td>\n",
       "    </tr>\n",
       "    <tr>\n",
       "      <th>group_std[M3]</th>\n",
       "      <td>15.969</td>\n",
       "      <td>6.232</td>\n",
       "      <td>6.697</td>\n",
       "      <td>27.049</td>\n",
       "      <td>0.049</td>\n",
       "      <td>0.037</td>\n",
       "      <td>21131.0</td>\n",
       "      <td>14106.0</td>\n",
       "      <td>1.0</td>\n",
       "    </tr>\n",
       "    <tr>\n",
       "      <th>group_std[M4]</th>\n",
       "      <td>10.528</td>\n",
       "      <td>5.010</td>\n",
       "      <td>4.099</td>\n",
       "      <td>19.499</td>\n",
       "      <td>0.043</td>\n",
       "      <td>0.033</td>\n",
       "      <td>18120.0</td>\n",
       "      <td>12927.0</td>\n",
       "      <td>1.0</td>\n",
       "    </tr>\n",
       "    <tr>\n",
       "      <th>group_std[M5]</th>\n",
       "      <td>13.948</td>\n",
       "      <td>5.852</td>\n",
       "      <td>5.872</td>\n",
       "      <td>24.556</td>\n",
       "      <td>0.047</td>\n",
       "      <td>0.035</td>\n",
       "      <td>20682.0</td>\n",
       "      <td>14214.0</td>\n",
       "      <td>1.0</td>\n",
       "    </tr>\n",
       "    <tr>\n",
       "      <th>group_std[M6]</th>\n",
       "      <td>21.692</td>\n",
       "      <td>7.175</td>\n",
       "      <td>10.767</td>\n",
       "      <td>35.259</td>\n",
       "      <td>0.055</td>\n",
       "      <td>0.042</td>\n",
       "      <td>19284.0</td>\n",
       "      <td>14996.0</td>\n",
       "      <td>1.0</td>\n",
       "    </tr>\n",
       "  </tbody>\n",
       "</table>\n",
       "</div>"
      ],
      "text/plain": [
       "                 mean     sd  hdi_3%  hdi_97%  mcse_mean  mcse_sd  ess_bulk  \\\n",
       "group_std[M1]  22.261  7.419  10.728   35.959      0.053    0.040   22134.0   \n",
       "group_std[M2]  15.108  6.130   6.511   26.297      0.050    0.037   18504.0   \n",
       "group_std[M3]  15.969  6.232   6.697   27.049      0.049    0.037   21131.0   \n",
       "group_std[M4]  10.528  5.010   4.099   19.499      0.043    0.033   18120.0   \n",
       "group_std[M5]  13.948  5.852   5.872   24.556      0.047    0.035   20682.0   \n",
       "group_std[M6]  21.692  7.175  10.767   35.259      0.055    0.042   19284.0   \n",
       "\n",
       "               ess_tail  r_hat  \n",
       "group_std[M1]   14947.0    1.0  \n",
       "group_std[M2]   13174.0    1.0  \n",
       "group_std[M3]   14106.0    1.0  \n",
       "group_std[M4]   12927.0    1.0  \n",
       "group_std[M5]   14214.0    1.0  \n",
       "group_std[M6]   14996.0    1.0  "
      ]
     },
     "metadata": {},
     "output_type": "display_data"
    }
   ],
   "source": [
    "with model_unpooled:\n",
    "    display(az.summary(trace_unpooled, var_names=[\"group_std\"]))"
   ]
  },
  {
   "cell_type": "code",
   "execution_count": 28,
   "metadata": {
    "pycharm": {
     "name": "#%%\n"
    }
   },
   "outputs": [
    {
     "data": {
      "image/png": "[encoded data removed]",
      "text/plain": [
       "<Figure size 2208x1104 with 6 Axes>"
      ]
     },
     "metadata": {},
     "output_type": "display_data"
    }
   ],
   "source": [
    "# az.plot_posterior(trace_separate[\"group_std\"][:, 0], point_estimate='mode')\n",
    "with model_unpooled:\n",
    "    az.plot_posterior(trace_unpooled, var_names=[\"group_std\"], point_estimate='mode'); # the posterior mean is 29, the mode is 19!"
   ]
  },
  {
   "cell_type": "markdown",
   "metadata": {
    "pycharm": {
     "name": "#%% md\n"
    }
   },
   "source": [
    "The sample std is rather different from the posterior std mean. The sample std is actually much similar to the posterior mode (as expected from theory)! The posterior std distributions are heavily right-skewed!"
   ]
  },
  {
   "cell_type": "markdown",
   "metadata": {
    "pycharm": {
     "name": "#%% md\n"
    }
   },
   "source": [
    "## Hierarchical model, common std\n",
    "\n",
    "Consider the following hierarchical model:\n",
    "\n",
    "\\begin{align*}\n",
    "\\mu_\\mu & \\sim N(90, 10)\\\\\n",
    "\\sigma_\\mu  & \\sim \\text{HalfNormal}(30) \\\\\n",
    "\\mu_{j} &\\sim \\mathcal{N}(\\mu_\\mu, \\sigma_\\mu) \\\\\n",
    "\\sigma &\\sim \\text{HalfNormal}(23) \\\\\n",
    "\\vec{y}_{ij} &\\sim \\mathcal{N}(\\mu_j, \\sigma) \\\\\n",
    "\\end{align*}\n",
    "\n"
   ]
  },
  {
   "cell_type": "markdown",
   "metadata": {},
   "source": [
    "* Discuss the hierarchical model and its underlying hypotheses "
   ]
  },
  {
   "cell_type": "markdown",
   "metadata": {},
   "source": [
    "1. The mean of the mean quality of each machine is between $90-3*10=60$ and $90+3*10=120$ with probability 99% $\\Rightarrow$ from $\\mu_\\mu \\sim N(90, 10)$\n",
    "2. The quality measurements of each machine are in a range of width $15*6=90$ with probability 99% $\\Rightarrow$ from $\\sigma \\sim \\text{HalfNormal}(23)$\n",
    "3. The different $\\mu_j$ vary in a range of width $6*20=120$ with probability 99% $\\Rightarrow$ from $\\sigma_\\mu  \\sim \\text{HalfNormal}(30)$"
   ]
  },
  {
   "cell_type": "code",
   "execution_count": 50,
   "metadata": {},
   "outputs": [
    {
     "data": {
      "text/plain": [
       "0    15.58343\n",
       "dtype: float64"
      ]
     },
     "execution_count": 50,
     "metadata": {},
     "output_type": "execute_result"
    }
   ],
   "source": [
    "pd.DataFrame(stats.halfnorm.rvs(size=10_000, scale=23)).median()"
   ]
  },
  {
   "cell_type": "code",
   "execution_count": 49,
   "metadata": {},
   "outputs": [
    {
     "data": {
      "text/plain": [
       "0    20.470473\n",
       "dtype: float64"
      ]
     },
     "execution_count": 49,
     "metadata": {},
     "output_type": "execute_result"
    }
   ],
   "source": [
    "pd.DataFrame(stats.halfnorm.rvs(size=10_000, scale=30)).median()"
   ]
  },
  {
   "cell_type": "markdown",
   "metadata": {},
   "source": [
    "* Implement the model in pymc3"
   ]
  },
  {
   "cell_type": "code",
   "execution_count": 30,
   "metadata": {
    "pycharm": {
     "name": "#%%\n"
    }
   },
   "outputs": [
    {
     "name": "stderr",
     "output_type": "stream",
     "text": [
      "Auto-assigning NUTS sampler...\n",
      "Initializing NUTS using jitter+adapt_diag...\n",
      "Multiprocess sampling (2 chains in 2 jobs)\n",
      "NUTS: [std, group_mu, hyper_std_mu, hyper_mu_mu]\n"
     ]
    },
    {
     "data": {
      "text/html": [
       "\n",
       "    <div>\n",
       "        <style>\n",
       "            /* Turns off some styling */\n",
       "            progress {\n",
       "                /* gets rid of default border in Firefox and Opera. */\n",
       "                border: none;\n",
       "                /* Needs to be in here for Safari polyfill so background images work as expected. */\n",
       "                background-size: auto;\n",
       "            }\n",
       "            .progress-bar-interrupted, .progress-bar-interrupted::-webkit-progress-bar {\n",
       "                background: #F44336;\n",
       "            }\n",
       "        </style>\n",
       "      <progress value='22000' class='' max='22000' style='width:300px; height:20px; vertical-align: middle;'></progress>\n",
       "      100.00% [22000/22000 00:20<00:00 Sampling 2 chains, 146 divergences]\n",
       "    </div>\n",
       "    "
      ],
      "text/plain": [
       "<IPython.core.display.HTML object>"
      ]
     },
     "metadata": {},
     "output_type": "display_data"
    },
    {
     "name": "stderr",
     "output_type": "stream",
     "text": [
      "Sampling 2 chains for 1_000 tune and 10_000 draw iterations (2_000 + 20_000 draws total) took 21 seconds.\n",
      "There were 47 divergences after tuning. Increase `target_accept` or reparameterize.\n",
      "There were 99 divergences after tuning. Increase `target_accept` or reparameterize.\n",
      "The number of effective samples is smaller than 25% for some parameters.\n"
     ]
    }
   ],
   "source": [
    "with pm.Model() as model_hierarchical:\n",
    "    \n",
    "    # hyper_priors\n",
    "    hyper_mu_mu = pm.Normal('hyper_mu_mu', mu=90, sd=10)\n",
    "    hyper_std_mu = pm.HalfNormal('hyper_std_mu', sd=30)\n",
    "\n",
    "    # priors    \n",
    "    group_mu = pm.Normal('group_mu', mu=hyper_mu_mu, sd=hyper_std_mu, shape=n_machines)\n",
    "    std = pm.HalfNormal('std', sd=23)\n",
    "    y = pm.Normal('y', mu=group_mu[df[\"machine_id\"]], sd=std, observed=df[\"quality\"])\n",
    "    trace_hierarchical = pm.sample(10_000, return_inferencedata=True)"
   ]
  },
  {
   "cell_type": "code",
   "execution_count": 31,
   "metadata": {},
   "outputs": [
    {
     "data": {
      "image/svg+xml": [
       "<?xml version=\"1.0\" encoding=\"UTF-8\" standalone=\"no\"?>\n",
       "<!DOCTYPE svg PUBLIC \"-//W3C//DTD SVG 1.1//EN\"\n",
       " \"http://www.w3.org/Graphics/SVG/1.1/DTD/svg11.dtd\">\n",
       "<!-- Generated by graphviz version 2.40.1 (20161225.0304)\n",
       " -->\n",
       "<!-- Title: %3 Pages: 1 -->\n",
       "<svg width=\"340pt\" height=\"355pt\"\n",
       " viewBox=\"0.00 0.00 340.28 354.86\" xmlns=\"http://www.w3.org/2000/svg\" xmlns:xlink=\"http://www.w3.org/1999/xlink\">\n",
       "<g id=\"graph0\" class=\"graph\" transform=\"scale(1 1) rotate(0) translate(4 350.86)\">\n",
       "<title>%3</title>\n",
       "<polygon fill=\"#ffffff\" stroke=\"transparent\" points=\"-4,4 -4,-350.86 336.2792,-350.86 336.2792,4 -4,4\"/>\n",
       "<g id=\"clust1\" class=\"cluster\">\n",
       "<title>cluster6</title>\n",
       "<path fill=\"none\" stroke=\"#000000\" d=\"M97.5894,-129.9533C97.5894,-129.9533 193.5894,-129.9533 193.5894,-129.9533 199.5894,-129.9533 205.5894,-135.9533 205.5894,-141.9533 205.5894,-141.9533 205.5894,-231.9066 205.5894,-231.9066 205.5894,-237.9066 199.5894,-243.9066 193.5894,-243.9066 193.5894,-243.9066 97.5894,-243.9066 97.5894,-243.9066 91.5894,-243.9066 85.5894,-237.9066 85.5894,-231.9066 85.5894,-231.9066 85.5894,-141.9533 85.5894,-141.9533 85.5894,-135.9533 91.5894,-129.9533 97.5894,-129.9533\"/>\n",
       "<text text-anchor=\"middle\" x=\"194.0894\" y=\"-137.7533\" font-family=\"Times,serif\" font-size=\"14.00\" fill=\"#000000\">6</text>\n",
       "</g>\n",
       "<g id=\"clust2\" class=\"cluster\">\n",
       "<title>cluster30</title>\n",
       "<path fill=\"none\" stroke=\"#000000\" d=\"M112.5894,-8C112.5894,-8 188.5894,-8 188.5894,-8 194.5894,-8 200.5894,-14 200.5894,-20 200.5894,-20 200.5894,-109.9533 200.5894,-109.9533 200.5894,-115.9533 194.5894,-121.9533 188.5894,-121.9533 188.5894,-121.9533 112.5894,-121.9533 112.5894,-121.9533 106.5894,-121.9533 100.5894,-115.9533 100.5894,-109.9533 100.5894,-109.9533 100.5894,-20 100.5894,-20 100.5894,-14 106.5894,-8 112.5894,-8\"/>\n",
       "<text text-anchor=\"middle\" x=\"185.5894\" y=\"-15.8\" font-family=\"Times,serif\" font-size=\"14.00\" fill=\"#000000\">30</text>\n",
       "</g>\n",
       "<!-- hyper_mu_mu -->\n",
       "<g id=\"node1\" class=\"node\">\n",
       "<title>hyper_mu_mu</title>\n",
       "<ellipse fill=\"none\" stroke=\"#000000\" cx=\"68.5894\" cy=\"-309.3833\" rx=\"68.6788\" ry=\"37.4533\"/>\n",
       "<text text-anchor=\"middle\" x=\"68.5894\" y=\"-320.6833\" font-family=\"Times,serif\" font-size=\"14.00\" fill=\"#000000\">hyper_mu_mu</text>\n",
       "<text text-anchor=\"middle\" x=\"68.5894\" y=\"-305.6833\" font-family=\"Times,serif\" font-size=\"14.00\" fill=\"#000000\">~</text>\n",
       "<text text-anchor=\"middle\" x=\"68.5894\" y=\"-290.6833\" font-family=\"Times,serif\" font-size=\"14.00\" fill=\"#000000\">Normal</text>\n",
       "</g>\n",
       "<!-- group_mu -->\n",
       "<g id=\"node4\" class=\"node\">\n",
       "<title>group_mu</title>\n",
       "<ellipse fill=\"none\" stroke=\"#000000\" cx=\"145.5894\" cy=\"-198.43\" rx=\"51.7379\" ry=\"37.4533\"/>\n",
       "<text text-anchor=\"middle\" x=\"145.5894\" y=\"-209.73\" font-family=\"Times,serif\" font-size=\"14.00\" fill=\"#000000\">group_mu</text>\n",
       "<text text-anchor=\"middle\" x=\"145.5894\" y=\"-194.73\" font-family=\"Times,serif\" font-size=\"14.00\" fill=\"#000000\">~</text>\n",
       "<text text-anchor=\"middle\" x=\"145.5894\" y=\"-179.73\" font-family=\"Times,serif\" font-size=\"14.00\" fill=\"#000000\">Normal</text>\n",
       "</g>\n",
       "<!-- hyper_mu_mu&#45;&gt;group_mu -->\n",
       "<g id=\"edge1\" class=\"edge\">\n",
       "<title>hyper_mu_mu&#45;&gt;group_mu</title>\n",
       "<path fill=\"none\" stroke=\"#000000\" d=\"M92.9526,-274.277C100.396,-263.5515 108.658,-251.6463 116.388,-240.5077\"/>\n",
       "<polygon fill=\"#000000\" stroke=\"#000000\" points=\"119.3472,-242.3825 122.1732,-232.1715 113.5963,-238.3915 119.3472,-242.3825\"/>\n",
       "</g>\n",
       "<!-- std -->\n",
       "<g id=\"node2\" class=\"node\">\n",
       "<title>std</title>\n",
       "<ellipse fill=\"none\" stroke=\"#000000\" cx=\"273.5894\" cy=\"-198.43\" rx=\"58.8803\" ry=\"37.4533\"/>\n",
       "<text text-anchor=\"middle\" x=\"273.5894\" y=\"-209.73\" font-family=\"Times,serif\" font-size=\"14.00\" fill=\"#000000\">std</text>\n",
       "<text text-anchor=\"middle\" x=\"273.5894\" y=\"-194.73\" font-family=\"Times,serif\" font-size=\"14.00\" fill=\"#000000\">~</text>\n",
       "<text text-anchor=\"middle\" x=\"273.5894\" y=\"-179.73\" font-family=\"Times,serif\" font-size=\"14.00\" fill=\"#000000\">HalfNormal</text>\n",
       "</g>\n",
       "<!-- y -->\n",
       "<g id=\"node5\" class=\"node\">\n",
       "<title>y</title>\n",
       "<ellipse fill=\"#d3d3d3\" stroke=\"#000000\" cx=\"150.5894\" cy=\"-76.4767\" rx=\"41.9398\" ry=\"37.4533\"/>\n",
       "<text text-anchor=\"middle\" x=\"150.5894\" y=\"-87.7767\" font-family=\"Times,serif\" font-size=\"14.00\" fill=\"#000000\">y</text>\n",
       "<text text-anchor=\"middle\" x=\"150.5894\" y=\"-72.7767\" font-family=\"Times,serif\" font-size=\"14.00\" fill=\"#000000\">~</text>\n",
       "<text text-anchor=\"middle\" x=\"150.5894\" y=\"-57.7767\" font-family=\"Times,serif\" font-size=\"14.00\" fill=\"#000000\">Normal</text>\n",
       "</g>\n",
       "<!-- std&#45;&gt;y -->\n",
       "<g id=\"edge3\" class=\"edge\">\n",
       "<title>std&#45;&gt;y</title>\n",
       "<path fill=\"none\" stroke=\"#000000\" d=\"M244.1726,-165.8562C233.485,-154.3177 221.1832,-141.3713 209.5894,-129.9533 202.7899,-123.257 195.3674,-116.2837 188.1522,-109.6695\"/>\n",
       "<polygon fill=\"#000000\" stroke=\"#000000\" points=\"190.198,-106.7993 180.4437,-102.6636 185.49,-111.9795 190.198,-106.7993\"/>\n",
       "</g>\n",
       "<!-- hyper_std_mu -->\n",
       "<g id=\"node3\" class=\"node\">\n",
       "<title>hyper_std_mu</title>\n",
       "<ellipse fill=\"none\" stroke=\"#000000\" cx=\"222.5894\" cy=\"-309.3833\" rx=\"67.3507\" ry=\"37.4533\"/>\n",
       "<text text-anchor=\"middle\" x=\"222.5894\" y=\"-320.6833\" font-family=\"Times,serif\" font-size=\"14.00\" fill=\"#000000\">hyper_std_mu</text>\n",
       "<text text-anchor=\"middle\" x=\"222.5894\" y=\"-305.6833\" font-family=\"Times,serif\" font-size=\"14.00\" fill=\"#000000\">~</text>\n",
       "<text text-anchor=\"middle\" x=\"222.5894\" y=\"-290.6833\" font-family=\"Times,serif\" font-size=\"14.00\" fill=\"#000000\">HalfNormal</text>\n",
       "</g>\n",
       "<!-- hyper_std_mu&#45;&gt;group_mu -->\n",
       "<g id=\"edge2\" class=\"edge\">\n",
       "<title>hyper_std_mu&#45;&gt;group_mu</title>\n",
       "<path fill=\"none\" stroke=\"#000000\" d=\"M198.2261,-274.277C190.7827,-263.5515 182.5207,-251.6463 174.7907,-240.5077\"/>\n",
       "<polygon fill=\"#000000\" stroke=\"#000000\" points=\"177.5824,-238.3915 169.0055,-232.1715 171.8316,-242.3825 177.5824,-238.3915\"/>\n",
       "</g>\n",
       "<!-- group_mu&#45;&gt;y -->\n",
       "<g id=\"edge4\" class=\"edge\">\n",
       "<title>group_mu&#45;&gt;y</title>\n",
       "<path fill=\"none\" stroke=\"#000000\" d=\"M147.1303,-160.8449C147.6056,-149.2534 148.1353,-136.3328 148.6345,-124.1558\"/>\n",
       "<polygon fill=\"#000000\" stroke=\"#000000\" points=\"152.1322,-124.2826 149.0449,-114.1476 145.1381,-123.9958 152.1322,-124.2826\"/>\n",
       "</g>\n",
       "</g>\n",
       "</svg>\n"
      ],
      "text/plain": [
       "<graphviz.graphs.Digraph at 0x7f35671a41c0>"
      ]
     },
     "execution_count": 31,
     "metadata": {},
     "output_type": "execute_result"
    }
   ],
   "source": [
    "pm.model_to_graphviz(model_hierarchical)"
   ]
  },
  {
   "cell_type": "code",
   "execution_count": 32,
   "metadata": {
    "pycharm": {
     "name": "#%%\n"
    }
   },
   "outputs": [
    {
     "data": {
      "text/html": [
       "<div>\n",
       "<style scoped>\n",
       "    .dataframe tbody tr th:only-of-type {\n",
       "        vertical-align: middle;\n",
       "    }\n",
       "\n",
       "    .dataframe tbody tr th {\n",
       "        vertical-align: top;\n",
       "    }\n",
       "\n",
       "    .dataframe thead th {\n",
       "        text-align: right;\n",
       "    }\n",
       "</style>\n",
       "<table border=\"1\" class=\"dataframe\">\n",
       "  <thead>\n",
       "    <tr style=\"text-align: right;\">\n",
       "      <th></th>\n",
       "      <th>mean</th>\n",
       "      <th>sd</th>\n",
       "      <th>hdi_3%</th>\n",
       "      <th>hdi_97%</th>\n",
       "      <th>mcse_mean</th>\n",
       "      <th>mcse_sd</th>\n",
       "      <th>ess_bulk</th>\n",
       "      <th>ess_tail</th>\n",
       "      <th>r_hat</th>\n",
       "    </tr>\n",
       "  </thead>\n",
       "  <tbody>\n",
       "    <tr>\n",
       "      <th>hyper_mu_mu</th>\n",
       "      <td>92.064</td>\n",
       "      <td>5.322</td>\n",
       "      <td>82.198</td>\n",
       "      <td>102.453</td>\n",
       "      <td>0.040</td>\n",
       "      <td>0.029</td>\n",
       "      <td>17346.0</td>\n",
       "      <td>13345.0</td>\n",
       "      <td>1.0</td>\n",
       "    </tr>\n",
       "    <tr>\n",
       "      <th>group_mu[0]</th>\n",
       "      <td>80.255</td>\n",
       "      <td>6.585</td>\n",
       "      <td>68.570</td>\n",
       "      <td>93.386</td>\n",
       "      <td>0.071</td>\n",
       "      <td>0.052</td>\n",
       "      <td>8719.0</td>\n",
       "      <td>5411.0</td>\n",
       "      <td>1.0</td>\n",
       "    </tr>\n",
       "    <tr>\n",
       "      <th>group_mu[1]</th>\n",
       "      <td>102.653</td>\n",
       "      <td>6.378</td>\n",
       "      <td>90.801</td>\n",
       "      <td>114.691</td>\n",
       "      <td>0.055</td>\n",
       "      <td>0.039</td>\n",
       "      <td>13367.0</td>\n",
       "      <td>9768.0</td>\n",
       "      <td>1.0</td>\n",
       "    </tr>\n",
       "    <tr>\n",
       "      <th>group_mu[2]</th>\n",
       "      <td>88.961</td>\n",
       "      <td>5.940</td>\n",
       "      <td>77.748</td>\n",
       "      <td>100.414</td>\n",
       "      <td>0.049</td>\n",
       "      <td>0.035</td>\n",
       "      <td>14597.0</td>\n",
       "      <td>8741.0</td>\n",
       "      <td>1.0</td>\n",
       "    </tr>\n",
       "    <tr>\n",
       "      <th>group_mu[3]</th>\n",
       "      <td>106.647</td>\n",
       "      <td>6.837</td>\n",
       "      <td>93.918</td>\n",
       "      <td>119.649</td>\n",
       "      <td>0.066</td>\n",
       "      <td>0.047</td>\n",
       "      <td>10851.0</td>\n",
       "      <td>8384.0</td>\n",
       "      <td>1.0</td>\n",
       "    </tr>\n",
       "    <tr>\n",
       "      <th>group_mu[4]</th>\n",
       "      <td>90.632</td>\n",
       "      <td>5.875</td>\n",
       "      <td>79.682</td>\n",
       "      <td>101.813</td>\n",
       "      <td>0.042</td>\n",
       "      <td>0.030</td>\n",
       "      <td>19963.0</td>\n",
       "      <td>13160.0</td>\n",
       "      <td>1.0</td>\n",
       "    </tr>\n",
       "    <tr>\n",
       "      <th>group_mu[5]</th>\n",
       "      <td>87.546</td>\n",
       "      <td>6.070</td>\n",
       "      <td>75.768</td>\n",
       "      <td>98.656</td>\n",
       "      <td>0.047</td>\n",
       "      <td>0.034</td>\n",
       "      <td>16279.0</td>\n",
       "      <td>8006.0</td>\n",
       "      <td>1.0</td>\n",
       "    </tr>\n",
       "    <tr>\n",
       "      <th>hyper_std_mu</th>\n",
       "      <td>13.921</td>\n",
       "      <td>6.436</td>\n",
       "      <td>3.179</td>\n",
       "      <td>24.987</td>\n",
       "      <td>0.071</td>\n",
       "      <td>0.050</td>\n",
       "      <td>4938.0</td>\n",
       "      <td>2500.0</td>\n",
       "      <td>1.0</td>\n",
       "    </tr>\n",
       "    <tr>\n",
       "      <th>std</th>\n",
       "      <td>15.084</td>\n",
       "      <td>2.281</td>\n",
       "      <td>11.102</td>\n",
       "      <td>19.351</td>\n",
       "      <td>0.020</td>\n",
       "      <td>0.015</td>\n",
       "      <td>13928.0</td>\n",
       "      <td>10736.0</td>\n",
       "      <td>1.0</td>\n",
       "    </tr>\n",
       "  </tbody>\n",
       "</table>\n",
       "</div>"
      ],
      "text/plain": [
       "                 mean     sd  hdi_3%  hdi_97%  mcse_mean  mcse_sd  ess_bulk  \\\n",
       "hyper_mu_mu    92.064  5.322  82.198  102.453      0.040    0.029   17346.0   \n",
       "group_mu[0]    80.255  6.585  68.570   93.386      0.071    0.052    8719.0   \n",
       "group_mu[1]   102.653  6.378  90.801  114.691      0.055    0.039   13367.0   \n",
       "group_mu[2]    88.961  5.940  77.748  100.414      0.049    0.035   14597.0   \n",
       "group_mu[3]   106.647  6.837  93.918  119.649      0.066    0.047   10851.0   \n",
       "group_mu[4]    90.632  5.875  79.682  101.813      0.042    0.030   19963.0   \n",
       "group_mu[5]    87.546  6.070  75.768   98.656      0.047    0.034   16279.0   \n",
       "hyper_std_mu   13.921  6.436   3.179   24.987      0.071    0.050    4938.0   \n",
       "std            15.084  2.281  11.102   19.351      0.020    0.015   13928.0   \n",
       "\n",
       "              ess_tail  r_hat  \n",
       "hyper_mu_mu    13345.0    1.0  \n",
       "group_mu[0]     5411.0    1.0  \n",
       "group_mu[1]     9768.0    1.0  \n",
       "group_mu[2]     8741.0    1.0  \n",
       "group_mu[3]     8384.0    1.0  \n",
       "group_mu[4]    13160.0    1.0  \n",
       "group_mu[5]     8006.0    1.0  \n",
       "hyper_std_mu    2500.0    1.0  \n",
       "std            10736.0    1.0  "
      ]
     },
     "execution_count": 32,
     "metadata": {},
     "output_type": "execute_result"
    }
   ],
   "source": [
    "az.summary(trace_hierarchical)"
   ]
  },
  {
   "cell_type": "markdown",
   "metadata": {
    "pycharm": {
     "name": "#%% md\n"
    }
   },
   "source": [
    "In the hierarchical model, the machine means are pushed towards the grand mean"
   ]
  },
  {
   "cell_type": "markdown",
   "metadata": {},
   "source": [
    "## Model selection \n",
    "\n",
    "What is the best model ultimately? In our case: Pooled, Unpooled, or Hierarchical?\n",
    "\n",
    "\n",
    "To answer this question, we need a **model selection** strategy/metric.\n",
    "\n",
    "* You know metrics for point regression models (mse, rmse, mae,...)\n",
    "* You know metrics for point classification models (accuracy, prediciton, recall...)\n",
    "\n",
    "\n",
    "### The WAIC Criterion \n",
    "To score full Bayesian models, we need a metric that evaluates a (sample-based approximation of a) *distribution*. \n",
    "\n",
    "* A popular metric to score a distribution is the log-pointwise-predictive-density ${\\rm lpd}(y, \\Theta)$:\n",
    "$$ {\\rm lpd}(y, \\Theta) = \\sum_i \\log \\frac{1}{S} \\sum_s p(y_i | \\Theta_s),$$\n",
    "where $y$ are the observations and $\\Theta$ is the sample-based approximation of the posterior ($\\Theta_s$ is a single MCMC draw). It is the (approximate) logarithm of the expected likelihood (the higher, the better)!\n",
    "\n",
    "\n",
    "* The ${\\rm lpd}(y, \\Theta)$ generally increases for increasing model complexity and it is thus prone to overfitting when used on the same data used for model building. It should be evaluated with fresh data in (cross)-validation.\n",
    "\n",
    "* The WAIC criterion (the lower, the better) balances high ${\\rm lpd}$ and low model complexity explicitly. It can be applied directly on the training data $y$!\n",
    "\n",
    "\\begin{align}\n",
    "{\\rm WAIC}(y, \\Theta) &= -2(\\rm{lpd} - p_{\\rm waic}).\\\\\n",
    " p_{{\\rm waic}} &= \\sum_i {\\rm var}_{\\theta} \\log p(y_i|\\theta)\n",
    "\\end{align}\n",
    "\n",
    "* The WAIC is related to the ${\\rm elpd}$, the *expected* $\\rm{lpd}$ on fresh data (the higher, the better):\n",
    "\n",
    "$${\\rm elpd}(y, \\Theta) = \\rm{lpd} - p_{\\rm waic}.$$\n",
    "\n",
    "\n",
    "### The WAIC Criterion in arviz\n",
    "\n",
    "Arviz has a built-in function `az.waic` to compute the WAIC. Actually, as of v0.12.1, arviz computes the ${\\rm elpd}$, see <a href=\"https://python.arviz.org/en/v0.12.1/api/generated/arviz.waic.html?highlight=waic\">documentation</a>):\n"
   ]
  },
  {
   "cell_type": "code",
   "execution_count": 33,
   "metadata": {},
   "outputs": [
    {
     "name": "stderr",
     "output_type": "stream",
     "text": [
      "/home/marco/anaconda3/envs/bda/lib/python3.10/site-packages/arviz/stats/stats.py:1661: UserWarning: For one or more samples the posterior variance of the log predictive densities exceeds 0.4. This could be indication of WAIC starting to fail. \n",
      "See http://arxiv.org/abs/1507.04544 for details\n",
      "  warnings.warn(\n"
     ]
    },
    {
     "data": {
      "text/plain": [
       "Computed from 20000 posterior samples and 30 observations log-likelihood matrix.\n",
       "\n",
       "          Estimate       SE\n",
       "elpd_waic  -130.88     4.20\n",
       "p_waic        1.96        -\n",
       "\n",
       "There has been a warning during the calculation. Please check the results."
      ]
     },
     "execution_count": 33,
     "metadata": {},
     "output_type": "execute_result"
    }
   ],
   "source": [
    "az.waic(trace_pooled)"
   ]
  },
  {
   "cell_type": "markdown",
   "metadata": {},
   "source": [
    "There is an even more convenient method to evaluate the criterion on several models and rank them according to the WAIC criterion (from best to worst, ascending WAIC/descending elpd)"
   ]
  },
  {
   "cell_type": "code",
   "execution_count": 34,
   "metadata": {
    "pycharm": {
     "name": "#%%\n"
    }
   },
   "outputs": [
    {
     "name": "stderr",
     "output_type": "stream",
     "text": [
      "/home/marco/anaconda3/envs/bda/lib/python3.10/site-packages/arviz/stats/stats.py:1661: UserWarning: For one or more samples the posterior variance of the log predictive densities exceeds 0.4. This could be indication of WAIC starting to fail. \n",
      "See http://arxiv.org/abs/1507.04544 for details\n",
      "  warnings.warn(\n",
      "/home/marco/anaconda3/envs/bda/lib/python3.10/site-packages/arviz/stats/stats.py:1661: UserWarning: For one or more samples the posterior variance of the log predictive densities exceeds 0.4. This could be indication of WAIC starting to fail. \n",
      "See http://arxiv.org/abs/1507.04544 for details\n",
      "  warnings.warn(\n",
      "/home/marco/anaconda3/envs/bda/lib/python3.10/site-packages/arviz/stats/stats.py:1661: UserWarning: For one or more samples the posterior variance of the log predictive densities exceeds 0.4. This could be indication of WAIC starting to fail. \n",
      "See http://arxiv.org/abs/1507.04544 for details\n",
      "  warnings.warn(\n"
     ]
    },
    {
     "data": {
      "text/html": [
       "<div>\n",
       "<style scoped>\n",
       "    .dataframe tbody tr th:only-of-type {\n",
       "        vertical-align: middle;\n",
       "    }\n",
       "\n",
       "    .dataframe tbody tr th {\n",
       "        vertical-align: top;\n",
       "    }\n",
       "\n",
       "    .dataframe thead th {\n",
       "        text-align: right;\n",
       "    }\n",
       "</style>\n",
       "<table border=\"1\" class=\"dataframe\">\n",
       "  <thead>\n",
       "    <tr style=\"text-align: right;\">\n",
       "      <th></th>\n",
       "      <th>rank</th>\n",
       "      <th>waic</th>\n",
       "      <th>p_waic</th>\n",
       "      <th>d_waic</th>\n",
       "      <th>weight</th>\n",
       "      <th>se</th>\n",
       "      <th>dse</th>\n",
       "      <th>warning</th>\n",
       "      <th>waic_scale</th>\n",
       "    </tr>\n",
       "  </thead>\n",
       "  <tbody>\n",
       "    <tr>\n",
       "      <th>model_hierarchical</th>\n",
       "      <td>0</td>\n",
       "      <td>-126.453538</td>\n",
       "      <td>5.336393</td>\n",
       "      <td>0.000000</td>\n",
       "      <td>0.694697</td>\n",
       "      <td>4.073115</td>\n",
       "      <td>0.000000</td>\n",
       "      <td>True</td>\n",
       "      <td>log</td>\n",
       "    </tr>\n",
       "    <tr>\n",
       "      <th>model_unpooled</th>\n",
       "      <td>1</td>\n",
       "      <td>-127.037068</td>\n",
       "      <td>7.210062</td>\n",
       "      <td>0.583530</td>\n",
       "      <td>0.305303</td>\n",
       "      <td>3.207210</td>\n",
       "      <td>1.931115</td>\n",
       "      <td>True</td>\n",
       "      <td>log</td>\n",
       "    </tr>\n",
       "    <tr>\n",
       "      <th>model_pooled</th>\n",
       "      <td>2</td>\n",
       "      <td>-130.876495</td>\n",
       "      <td>1.956921</td>\n",
       "      <td>4.422956</td>\n",
       "      <td>0.000000</td>\n",
       "      <td>4.196414</td>\n",
       "      <td>1.968842</td>\n",
       "      <td>True</td>\n",
       "      <td>log</td>\n",
       "    </tr>\n",
       "  </tbody>\n",
       "</table>\n",
       "</div>"
      ],
      "text/plain": [
       "                    rank        waic    p_waic    d_waic    weight        se  \\\n",
       "model_hierarchical     0 -126.453538  5.336393  0.000000  0.694697  4.073115   \n",
       "model_unpooled         1 -127.037068  7.210062  0.583530  0.305303  3.207210   \n",
       "model_pooled           2 -130.876495  1.956921  4.422956  0.000000  4.196414   \n",
       "\n",
       "                         dse  warning waic_scale  \n",
       "model_hierarchical  0.000000     True        log  \n",
       "model_unpooled      1.931115     True        log  \n",
       "model_pooled        1.968842     True        log  "
      ]
     },
     "execution_count": 34,
     "metadata": {},
     "output_type": "execute_result"
    }
   ],
   "source": [
    "#with factory_pooled, factory_separate, factory_hierarchical:\n",
    "comp_df = az.compare({\"model_pooled\": trace_pooled,\n",
    "                      \"model_unpooled\": trace_unpooled,\n",
    "                      \"model_hierarchical\": trace_hierarchical},\n",
    "                      ic=\"waic\") # ic stands for \"information criterion\"\n",
    "comp_df"
   ]
  },
  {
   "cell_type": "code",
   "execution_count": 35,
   "metadata": {
    "pycharm": {
     "name": "#%%\n"
    }
   },
   "outputs": [
    {
     "data": {
      "image/png": "[encoded data removed]",
      "text/plain": [
       "<Figure size 600x300 with 1 Axes>"
      ]
     },
     "metadata": {},
     "output_type": "display_data"
    }
   ],
   "source": [
    "az.plot_compare(comp_df);"
   ]
  },
  {
   "cell_type": "markdown",
   "metadata": {
    "pycharm": {
     "name": "#%% md\n"
    }
   },
   "source": [
    "## Manual WAIC computations"
   ]
  },
  {
   "cell_type": "markdown",
   "metadata": {
    "pycharm": {
     "name": "#%% md\n"
    }
   },
   "source": [
    "Let us compare the arviz computation of WAIC with a manual implementation:"
   ]
  },
  {
   "cell_type": "code",
   "execution_count": 36,
   "metadata": {
    "pycharm": {
     "name": "#%%\n"
    }
   },
   "outputs": [
    {
     "name": "stderr",
     "output_type": "stream",
     "text": [
      "/home/marco/anaconda3/envs/bda/lib/python3.10/site-packages/arviz/stats/stats.py:1661: UserWarning: For one or more samples the posterior variance of the log predictive densities exceeds 0.4. This could be indication of WAIC starting to fail. \n",
      "See http://arxiv.org/abs/1507.04544 for details\n",
      "  warnings.warn(\n"
     ]
    },
    {
     "data": {
      "text/plain": [
       "Computed from 20000 posterior samples and 30 observations log-likelihood matrix.\n",
       "\n",
       "          Estimate       SE\n",
       "elpd_waic  -126.45     4.07\n",
       "p_waic        5.34        -\n",
       "\n",
       "There has been a warning during the calculation. Please check the results."
      ]
     },
     "metadata": {},
     "output_type": "display_data"
    }
   ],
   "source": [
    "with model_hierarchical:\n",
    "    display(az.waic(trace_hierarchical))"
   ]
  },
  {
   "cell_type": "code",
   "execution_count": 37,
   "metadata": {
    "pycharm": {
     "name": "#%%\n"
    }
   },
   "outputs": [],
   "source": [
    "log_lik = np.array(trace_hierarchical.log_likelihood.y) # chains, iters, obs\n",
    "log_lik = log_lik.reshape((-1, log_lik.shape[-1])) # mc samples, obs\n",
    "S, ny = log_lik.shape"
   ]
  },
  {
   "cell_type": "code",
   "execution_count": 38,
   "metadata": {
    "pycharm": {
     "name": "#%%\n"
    }
   },
   "outputs": [
    {
     "data": {
      "text/plain": [
       "5.336392852804671"
      ]
     },
     "execution_count": 38,
     "metadata": {},
     "output_type": "execute_result"
    }
   ],
   "source": [
    "p_waic = np.var(log_lik, axis=0) # correct\n",
    "p_waic = np.sum(p_waic)\n",
    "p_waic"
   ]
  },
  {
   "cell_type": "code",
   "execution_count": 39,
   "metadata": {
    "pycharm": {
     "name": "#%%\n"
    }
   },
   "outputs": [
    {
     "data": {
      "text/plain": [
       "-121.11714537132974"
      ]
     },
     "execution_count": 39,
     "metadata": {},
     "output_type": "execute_result"
    }
   ],
   "source": [
    "lppd = scipy.special.logsumexp(log_lik, axis=0) - np.log(S) # sum is equivalent to logsumexp in log domain...\n",
    "lppd = np.sum(lppd)\n",
    "lppd"
   ]
  },
  {
   "cell_type": "code",
   "execution_count": 40,
   "metadata": {
    "pycharm": {
     "name": "#%%\n"
    }
   },
   "outputs": [
    {
     "data": {
      "text/plain": [
       "252.9070764482688"
      ]
     },
     "execution_count": 40,
     "metadata": {},
     "output_type": "execute_result"
    }
   ],
   "source": [
    "-2*(lppd - p_waic)"
   ]
  },
  {
   "cell_type": "code",
   "execution_count": 41,
   "metadata": {
    "pycharm": {
     "name": "#%%\n"
    },
    "scrolled": true
   },
   "outputs": [
    {
     "data": {
      "text/plain": [
       "-126.4535382241344"
      ]
     },
     "execution_count": 41,
     "metadata": {},
     "output_type": "execute_result"
    }
   ],
   "source": [
    "lppd - p_waic"
   ]
  },
  {
   "cell_type": "markdown",
   "metadata": {
    "pycharm": {
     "name": "#%% md\n"
    }
   },
   "source": [
    "## With predictive distribution"
   ]
  },
  {
   "cell_type": "markdown",
   "metadata": {
    "pycharm": {
     "name": "#%% md\n"
    }
   },
   "source": [
    "TODO"
   ]
  },
  {
   "cell_type": "code",
   "execution_count": 42,
   "metadata": {
    "pycharm": {
     "name": "#%%\n"
    }
   },
   "outputs": [
    {
     "name": "stderr",
     "output_type": "stream",
     "text": [
      "Auto-assigning NUTS sampler...\n",
      "Initializing NUTS using jitter+adapt_diag...\n",
      "Multiprocess sampling (2 chains in 2 jobs)\n",
      "NUTS: [y_pred, std, mu]\n"
     ]
    },
    {
     "data": {
      "text/html": [
       "\n",
       "    <div>\n",
       "        <style>\n",
       "            /* Turns off some styling */\n",
       "            progress {\n",
       "                /* gets rid of default border in Firefox and Opera. */\n",
       "                border: none;\n",
       "                /* Needs to be in here for Safari polyfill so background images work as expected. */\n",
       "                background-size: auto;\n",
       "            }\n",
       "            .progress-bar-interrupted, .progress-bar-interrupted::-webkit-progress-bar {\n",
       "                background: #F44336;\n",
       "            }\n",
       "        </style>\n",
       "      <progress value='22000' class='' max='22000' style='width:300px; height:20px; vertical-align: middle;'></progress>\n",
       "      100.00% [22000/22000 00:12<00:00 Sampling 2 chains, 0 divergences]\n",
       "    </div>\n",
       "    "
      ],
      "text/plain": [
       "<IPython.core.display.HTML object>"
      ]
     },
     "metadata": {},
     "output_type": "display_data"
    },
    {
     "name": "stderr",
     "output_type": "stream",
     "text": [
      "Sampling 2 chains for 1_000 tune and 10_000 draw iterations (2_000 + 20_000 draws total) took 12 seconds.\n"
     ]
    }
   ],
   "source": [
    "with pm.Model() as model_pooled_with_pred:\n",
    "    mu = pm.Normal('mu', mu=92.5, sd=10)\n",
    "    std = pm.HalfNormal('std', sd=15)\n",
    "    y = pm.Normal('y', mu=mu, sd=std, observed=df[\"quality\"])\n",
    "    \n",
    "    # Prediction\n",
    "    y_pred = pm.Normal('y_pred', mu=mu, sd=std)\n",
    "    trace_pooled_with_pred = pm.sample(10_000, return_inferencedata=True)"
   ]
  },
  {
   "cell_type": "code",
   "execution_count": 43,
   "metadata": {
    "pycharm": {
     "name": "#%%\n"
    }
   },
   "outputs": [],
   "source": [
    "#trace_pooled_with_pred.posterior.y_pred"
   ]
  },
  {
   "cell_type": "code",
   "execution_count": 44,
   "metadata": {
    "pycharm": {
     "name": "#%%\n"
    }
   },
   "outputs": [
    {
     "name": "stderr",
     "output_type": "stream",
     "text": [
      "Auto-assigning NUTS sampler...\n",
      "Initializing NUTS using jitter+adapt_diag...\n",
      "Multiprocess sampling (2 chains in 2 jobs)\n",
      "NUTS: [pred_y, pred_mu, std, group_mu, hyper_mu_std, hyper_mu_mu]\n"
     ]
    },
    {
     "data": {
      "text/html": [
       "\n",
       "    <div>\n",
       "        <style>\n",
       "            /* Turns off some styling */\n",
       "            progress {\n",
       "                /* gets rid of default border in Firefox and Opera. */\n",
       "                border: none;\n",
       "                /* Needs to be in here for Safari polyfill so background images work as expected. */\n",
       "                background-size: auto;\n",
       "            }\n",
       "            .progress-bar-interrupted, .progress-bar-interrupted::-webkit-progress-bar {\n",
       "                background: #F44336;\n",
       "            }\n",
       "        </style>\n",
       "      <progress value='22000' class='' max='22000' style='width:300px; height:20px; vertical-align: middle;'></progress>\n",
       "      100.00% [22000/22000 00:27<00:00 Sampling 2 chains, 445 divergences]\n",
       "    </div>\n",
       "    "
      ],
      "text/plain": [
       "<IPython.core.display.HTML object>"
      ]
     },
     "metadata": {},
     "output_type": "display_data"
    },
    {
     "name": "stderr",
     "output_type": "stream",
     "text": [
      "Sampling 2 chains for 1_000 tune and 10_000 draw iterations (2_000 + 20_000 draws total) took 28 seconds.\n",
      "There were 273 divergences after tuning. Increase `target_accept` or reparameterize.\n",
      "There were 172 divergences after tuning. Increase `target_accept` or reparameterize.\n",
      "The number of effective samples is smaller than 10% for some parameters.\n"
     ]
    }
   ],
   "source": [
    "with pm.Model() as model_hierarchical_with_pred:\n",
    "    \n",
    "    # hyper_priors\n",
    "    hyper_mu_mu = pm.Normal('hyper_mu_mu', mu=92, sd=100)\n",
    "    hyper_mu_std = pm.HalfNormal('hyper_mu_std', sd=100)\n",
    "\n",
    "    # priors    \n",
    "    group_mu = pm.Normal('group_mu', mu=hyper_mu_mu, sd=hyper_mu_std, shape=n_machines)\n",
    "    std = pm.HalfNormal('std', sd=100)\n",
    "    y = pm.Normal('y', mu=group_mu[df[\"machine_id\"]], sd=std, observed=df[\"quality\"])\n",
    "    \n",
    "    \n",
    "    pred_mu = pm.Normal('pred_mu', mu=hyper_mu_mu, sd=hyper_mu_std)\n",
    "    pred_y = pm.Normal('pred_y', mu=pred_mu, sd=std)\n",
    "    \n",
    "    \n",
    "    trace_hierarchical_with_pred = pm.sample(10_000, return_inferencedata=True)\n",
    "    \n",
    "    \n",
    "    "
   ]
  },
  {
   "cell_type": "code",
   "execution_count": 45,
   "metadata": {
    "pycharm": {
     "name": "#%%\n"
    },
    "scrolled": false
   },
   "outputs": [
    {
     "name": "stderr",
     "output_type": "stream",
     "text": [
      "Auto-assigning NUTS sampler...\n",
      "Initializing NUTS using jitter+adapt_diag...\n",
      "Multiprocess sampling (2 chains in 2 jobs)\n",
      "NUTS: [pred_y, pred_mu, std, group_mu, hyper_mu_std, hyper_mu_mu]\n"
     ]
    },
    {
     "data": {
      "text/html": [
       "\n",
       "    <div>\n",
       "        <style>\n",
       "            /* Turns off some styling */\n",
       "            progress {\n",
       "                /* gets rid of default border in Firefox and Opera. */\n",
       "                border: none;\n",
       "                /* Needs to be in here for Safari polyfill so background images work as expected. */\n",
       "                background-size: auto;\n",
       "            }\n",
       "            .progress-bar-interrupted, .progress-bar-interrupted::-webkit-progress-bar {\n",
       "                background: #F44336;\n",
       "            }\n",
       "        </style>\n",
       "      <progress value='22000' class='' max='22000' style='width:300px; height:20px; vertical-align: middle;'></progress>\n",
       "      100.00% [22000/22000 00:26<00:00 Sampling 2 chains, 698 divergences]\n",
       "    </div>\n",
       "    "
      ],
      "text/plain": [
       "<IPython.core.display.HTML object>"
      ]
     },
     "metadata": {},
     "output_type": "display_data"
    },
    {
     "name": "stderr",
     "output_type": "stream",
     "text": [
      "Sampling 2 chains for 1_000 tune and 10_000 draw iterations (2_000 + 20_000 draws total) took 26 seconds.\n",
      "There were 337 divergences after tuning. Increase `target_accept` or reparameterize.\n",
      "There were 361 divergences after tuning. Increase `target_accept` or reparameterize.\n",
      "The number of effective samples is smaller than 10% for some parameters.\n"
     ]
    }
   ],
   "source": [
    "with pm.Model() as model_hierarchical_with_pred:\n",
    "    \n",
    "    # hyper_priors\n",
    "    hyper_mu_mu = pm.Normal('hyper_mu_mu', mu=92, sd=100)\n",
    "    hyper_mu_std = pm.HalfNormal('hyper_mu_std', sd=100)\n",
    "\n",
    "    # priors    \n",
    "    group_mu = pm.Normal('group_mu', mu=hyper_mu_mu, sd=hyper_mu_std, shape=n_machines)\n",
    "    std = pm.HalfNormal('std', sd=100)\n",
    "    y = pm.Normal('y', mu=group_mu[df[\"machine_id\"]], sd=std, observed=df[\"quality\"])\n",
    "    \n",
    "    \n",
    "    pred_mu = pm.Normal('pred_mu', mu=hyper_mu_mu, sd=hyper_mu_std)\n",
    "    pred_y = pm.Normal('pred_y', mu=pred_mu, sd=std)\n",
    "    \n",
    "    \n",
    "    trace_hierarchical_with_pred = pm.sample(10_000, return_inferencedata=True)\n",
    "    \n",
    "    \n",
    "    "
   ]
  },
  {
   "cell_type": "code",
   "execution_count": 46,
   "metadata": {},
   "outputs": [
    {
     "data": {
      "text/plain": [
       "'0.12.1'"
      ]
     },
     "execution_count": 46,
     "metadata": {},
     "output_type": "execute_result"
    }
   ],
   "source": [
    "az.__version__"
   ]
  },
  {
   "cell_type": "code",
   "execution_count": 48,
   "metadata": {},
   "outputs": [
    {
     "data": {
      "text/plain": [
       "0    19.820257\n",
       "dtype: float64"
      ]
     },
     "execution_count": 48,
     "metadata": {},
     "output_type": "execute_result"
    }
   ],
   "source": [
    "pd.DataFrame(stats.halfnorm.rvs(size=10_000, scale=30)).median()"
   ]
  }
 ],
 "metadata": {
  "kernelspec": {
   "display_name": "Python 3 (ipykernel)",
   "language": "python",
   "name": "python3"
  },
  "language_info": {
   "codemirror_mode": {
    "name": "ipython",
    "version": 3
   },
   "file_extension": ".py",
   "mimetype": "text/x-python",
   "name": "python",
   "nbconvert_exporter": "python",
   "pygments_lexer": "ipython3",
   "version": "3.10.4"
  },
  "vscode": {
   "interpreter": {
    "hash": "221c891a34d53b6a976517fba14e87e2d44925797743ab4436332eb8ae3ca627"
   }
  }
 },
 "nbformat": 4,
 "nbformat_minor": 1
}
