{
 "cells": [
  {
   "cell_type": "code",
   "execution_count": 1,
   "metadata": {
    "pycharm": {
     "name": "#%%\n"
    }
   },
   "outputs": [],
   "source": [
    "import numpy as np\n",
    "import scipy\n",
    "import scipy.stats as stats\n",
    "import matplotlib.pyplot as plt\n",
    "import seaborn as sns\n",
    "import pymc3 as pm\n",
    "import arviz as az\n",
    "import pandas as pd\n",
    "import plotly.express as px"
   ]
  },
  {
   "cell_type": "code",
   "execution_count": 2,
   "metadata": {
    "pycharm": {
     "name": "#%%\n"
    }
   },
   "outputs": [],
   "source": [
    "sns.set()"
   ]
  },
  {
   "cell_type": "markdown",
   "source": [
    "## Factory data"
   ],
   "metadata": {
    "collapsed": false,
    "pycharm": {
     "name": "#%% md\n"
    }
   }
  },
  {
   "cell_type": "code",
   "execution_count": 3,
   "metadata": {
    "pycharm": {
     "name": "#%%\n"
    }
   },
   "outputs": [
    {
     "data": {
      "text/html": [
       "<div>\n",
       "<style scoped>\n",
       "    .dataframe tbody tr th:only-of-type {\n",
       "        vertical-align: middle;\n",
       "    }\n",
       "\n",
       "    .dataframe tbody tr th {\n",
       "        vertical-align: top;\n",
       "    }\n",
       "\n",
       "    .dataframe thead th {\n",
       "        text-align: right;\n",
       "    }\n",
       "</style>\n",
       "<table border=\"1\" class=\"dataframe\">\n",
       "  <thead>\n",
       "    <tr style=\"text-align: right;\">\n",
       "      <th>machine</th>\n",
       "      <th>M1</th>\n",
       "      <th>M2</th>\n",
       "      <th>M3</th>\n",
       "      <th>M4</th>\n",
       "      <th>M5</th>\n",
       "      <th>M6</th>\n",
       "    </tr>\n",
       "    <tr>\n",
       "      <th>measurement</th>\n",
       "      <th></th>\n",
       "      <th></th>\n",
       "      <th></th>\n",
       "      <th></th>\n",
       "      <th></th>\n",
       "      <th></th>\n",
       "    </tr>\n",
       "  </thead>\n",
       "  <tbody>\n",
       "    <tr>\n",
       "      <th>0</th>\n",
       "      <td>83.0</td>\n",
       "      <td>117.0</td>\n",
       "      <td>101.0</td>\n",
       "      <td>105.0</td>\n",
       "      <td>79.0</td>\n",
       "      <td>57.0</td>\n",
       "    </tr>\n",
       "    <tr>\n",
       "      <th>1</th>\n",
       "      <td>92.0</td>\n",
       "      <td>109.0</td>\n",
       "      <td>93.0</td>\n",
       "      <td>119.0</td>\n",
       "      <td>97.0</td>\n",
       "      <td>92.0</td>\n",
       "    </tr>\n",
       "    <tr>\n",
       "      <th>2</th>\n",
       "      <td>92.0</td>\n",
       "      <td>114.0</td>\n",
       "      <td>92.0</td>\n",
       "      <td>116.0</td>\n",
       "      <td>103.0</td>\n",
       "      <td>104.0</td>\n",
       "    </tr>\n",
       "    <tr>\n",
       "      <th>3</th>\n",
       "      <td>46.0</td>\n",
       "      <td>104.0</td>\n",
       "      <td>86.0</td>\n",
       "      <td>102.0</td>\n",
       "      <td>79.0</td>\n",
       "      <td>77.0</td>\n",
       "    </tr>\n",
       "    <tr>\n",
       "      <th>4</th>\n",
       "      <td>67.0</td>\n",
       "      <td>87.0</td>\n",
       "      <td>67.0</td>\n",
       "      <td>116.0</td>\n",
       "      <td>92.0</td>\n",
       "      <td>100.0</td>\n",
       "    </tr>\n",
       "  </tbody>\n",
       "</table>\n",
       "</div>"
      ],
      "text/plain": [
       "machine        M1     M2     M3     M4     M5     M6\n",
       "measurement                                         \n",
       "0            83.0  117.0  101.0  105.0   79.0   57.0\n",
       "1            92.0  109.0   93.0  119.0   97.0   92.0\n",
       "2            92.0  114.0   92.0  116.0  103.0  104.0\n",
       "3            46.0  104.0   86.0  102.0   79.0   77.0\n",
       "4            67.0   87.0   67.0  116.0   92.0  100.0"
      ]
     },
     "execution_count": 3,
     "metadata": {},
     "output_type": "execute_result"
    }
   ],
   "source": [
    "df_wide = pd.read_csv(\"../data/factory.csv\")\n",
    "df_wide.set_index(\"measurement\", inplace=True)\n",
    "df_wide.columns.name = \"machine\"\n",
    "df_wide"
   ]
  },
  {
   "cell_type": "markdown",
   "metadata": {
    "pycharm": {
     "name": "#%% md\n"
    }
   },
   "source": [
    "A \"wide\" format is more convenient for the following analyises. Let us melt the dataframe!"
   ]
  },
  {
   "cell_type": "code",
   "execution_count": 4,
   "metadata": {
    "pycharm": {
     "name": "#%%\n"
    }
   },
   "outputs": [
    {
     "data": {
      "text/html": [
       "<div>\n",
       "<style scoped>\n",
       "    .dataframe tbody tr th:only-of-type {\n",
       "        vertical-align: middle;\n",
       "    }\n",
       "\n",
       "    .dataframe tbody tr th {\n",
       "        vertical-align: top;\n",
       "    }\n",
       "\n",
       "    .dataframe thead th {\n",
       "        text-align: right;\n",
       "    }\n",
       "</style>\n",
       "<table border=\"1\" class=\"dataframe\">\n",
       "  <thead>\n",
       "    <tr style=\"text-align: right;\">\n",
       "      <th></th>\n",
       "      <th>measurement</th>\n",
       "      <th>machine</th>\n",
       "      <th>quality</th>\n",
       "    </tr>\n",
       "  </thead>\n",
       "  <tbody>\n",
       "    <tr>\n",
       "      <th>0</th>\n",
       "      <td>0</td>\n",
       "      <td>M1</td>\n",
       "      <td>83.0</td>\n",
       "    </tr>\n",
       "    <tr>\n",
       "      <th>1</th>\n",
       "      <td>1</td>\n",
       "      <td>M1</td>\n",
       "      <td>92.0</td>\n",
       "    </tr>\n",
       "    <tr>\n",
       "      <th>2</th>\n",
       "      <td>2</td>\n",
       "      <td>M1</td>\n",
       "      <td>92.0</td>\n",
       "    </tr>\n",
       "    <tr>\n",
       "      <th>3</th>\n",
       "      <td>3</td>\n",
       "      <td>M1</td>\n",
       "      <td>46.0</td>\n",
       "    </tr>\n",
       "    <tr>\n",
       "      <th>4</th>\n",
       "      <td>4</td>\n",
       "      <td>M1</td>\n",
       "      <td>67.0</td>\n",
       "    </tr>\n",
       "  </tbody>\n",
       "</table>\n",
       "</div>"
      ],
      "text/plain": [
       "   measurement machine  quality\n",
       "0            0      M1     83.0\n",
       "1            1      M1     92.0\n",
       "2            2      M1     92.0\n",
       "3            3      M1     46.0\n",
       "4            4      M1     67.0"
      ]
     },
     "execution_count": 4,
     "metadata": {},
     "output_type": "execute_result"
    }
   ],
   "source": [
    "df = pd.melt(df_wide.reset_index(),\n",
    "             id_vars=[\"measurement\"],\n",
    "             value_vars=['M1', 'M2', 'M3', 'M4', 'M5', 'M6'],\n",
    "             value_name='quality')\n",
    "df[\"machine\"] = df[\"machine\"].astype(\"category\")\n",
    "df.head()"
   ]
  },
  {
   "cell_type": "markdown",
   "metadata": {
    "pycharm": {
     "name": "#%% md\n"
    }
   },
   "source": [
    "## Some traditional analysis"
   ]
  },
  {
   "cell_type": "markdown",
   "metadata": {
    "pycharm": {
     "name": "#%% md\n"
    }
   },
   "source": [
    "* Obtain the pooled (global) mean and standard deviation of quality measurement"
   ]
  },
  {
   "cell_type": "code",
   "execution_count": 5,
   "metadata": {
    "pycharm": {
     "name": "#%%\n"
    }
   },
   "outputs": [
    {
     "data": {
      "text/plain": [
       "(92.93333333333334, 18.001787906096773)"
      ]
     },
     "execution_count": 5,
     "metadata": {},
     "output_type": "execute_result"
    }
   ],
   "source": [
    "df[\"quality\"].mean(), df[\"quality\"].std()"
   ]
  },
  {
   "cell_type": "markdown",
   "metadata": {
    "pycharm": {
     "name": "#%% md\n"
    }
   },
   "source": [
    "* Plot the histogram of the quality measurement"
   ]
  },
  {
   "cell_type": "code",
   "execution_count": 6,
   "metadata": {
    "pycharm": {
     "name": "#%%\n"
    }
   },
   "outputs": [
    {
     "data": {
      "image/png": "[encoded data removed]",
      "text/plain": [
       "<Figure size 432x288 with 1 Axes>"
      ]
     },
     "metadata": {},
     "output_type": "display_data"
    }
   ],
   "source": [
    "sns.histplot(df[\"quality\"]);\n",
    "#px.histogram(df[\"quality\"]);"
   ]
  },
  {
   "cell_type": "markdown",
   "metadata": {
    "pycharm": {
     "name": "#%% md\n"
    }
   },
   "source": [
    "* Obtain the mean and standard deviation of quality measurement, for the different machines"
   ]
  },
  {
   "cell_type": "code",
   "execution_count": 7,
   "metadata": {
    "pycharm": {
     "name": "#%%\n"
    }
   },
   "outputs": [
    {
     "data": {
      "text/html": [
       "<div>\n",
       "<style scoped>\n",
       "    .dataframe tbody tr th:only-of-type {\n",
       "        vertical-align: middle;\n",
       "    }\n",
       "\n",
       "    .dataframe tbody tr th {\n",
       "        vertical-align: top;\n",
       "    }\n",
       "\n",
       "    .dataframe thead tr th {\n",
       "        text-align: left;\n",
       "    }\n",
       "\n",
       "    .dataframe thead tr:last-of-type th {\n",
       "        text-align: right;\n",
       "    }\n",
       "</style>\n",
       "<table border=\"1\" class=\"dataframe\">\n",
       "  <thead>\n",
       "    <tr>\n",
       "      <th></th>\n",
       "      <th colspan=\"2\" halign=\"left\">quality</th>\n",
       "    </tr>\n",
       "    <tr>\n",
       "      <th></th>\n",
       "      <th>mean</th>\n",
       "      <th>std</th>\n",
       "    </tr>\n",
       "    <tr>\n",
       "      <th>machine</th>\n",
       "      <th></th>\n",
       "      <th></th>\n",
       "    </tr>\n",
       "  </thead>\n",
       "  <tbody>\n",
       "    <tr>\n",
       "      <th>M1</th>\n",
       "      <td>76.0</td>\n",
       "      <td>19.634154</td>\n",
       "    </tr>\n",
       "    <tr>\n",
       "      <th>M2</th>\n",
       "      <td>106.2</td>\n",
       "      <td>11.819475</td>\n",
       "    </tr>\n",
       "    <tr>\n",
       "      <th>M3</th>\n",
       "      <td>87.8</td>\n",
       "      <td>12.794530</td>\n",
       "    </tr>\n",
       "    <tr>\n",
       "      <th>M4</th>\n",
       "      <td>111.6</td>\n",
       "      <td>7.569676</td>\n",
       "    </tr>\n",
       "    <tr>\n",
       "      <th>M5</th>\n",
       "      <td>90.0</td>\n",
       "      <td>10.770330</td>\n",
       "    </tr>\n",
       "    <tr>\n",
       "      <th>M6</th>\n",
       "      <td>86.0</td>\n",
       "      <td>19.222383</td>\n",
       "    </tr>\n",
       "  </tbody>\n",
       "</table>\n",
       "</div>"
      ],
      "text/plain": [
       "        quality           \n",
       "           mean        std\n",
       "machine                   \n",
       "M1         76.0  19.634154\n",
       "M2        106.2  11.819475\n",
       "M3         87.8  12.794530\n",
       "M4        111.6   7.569676\n",
       "M5         90.0  10.770330\n",
       "M6         86.0  19.222383"
      ]
     },
     "execution_count": 7,
     "metadata": {},
     "output_type": "execute_result"
    }
   ],
   "source": [
    "df.groupby(\"machine\")[[\"quality\"]].agg([\"mean\", \"std\"])"
   ]
  },
  {
   "cell_type": "markdown",
   "metadata": {
    "pycharm": {
     "name": "#%% md\n"
    }
   },
   "source": [
    "* Draw boxplots of quality for the different facto"
   ]
  },
  {
   "cell_type": "code",
   "execution_count": 8,
   "metadata": {
    "pycharm": {
     "name": "#%%\n"
    },
    "scrolled": true
   },
   "outputs": [
    {
     "data": {
      "image/png": "[encoded data removed]",
      "text/plain": [
       "<Figure size 432x288 with 1 Axes>"
      ]
     },
     "metadata": {},
     "output_type": "display_data"
    }
   ],
   "source": [
    "sns.boxplot(data=df, x=\"quality\", y=\"machine\");\n",
    "#px.box(df, x=\"quality\", y=\"machine\")"
   ]
  },
  {
   "cell_type": "markdown",
   "metadata": {
    "pycharm": {
     "name": "#%% md\n"
    }
   },
   "source": [
    "Even from a classical analysis, there seems to be evidence that different machines have different quality"
   ]
  },
  {
   "cell_type": "markdown",
   "metadata": {
    "pycharm": {
     "name": "#%% md\n"
    }
   },
   "source": [
    "## Pooled Bayesian model\n",
    "\n",
    "\\begin{align*}\n",
    "y_{ij} &\\sim \\mathcal{N}(\\mu, \\sigma) \\\\\n",
    "\\mu &\\sim \\mathcal{N}(92, 100) \\\\\n",
    "\\sigma &\\sim |\\mathcal{N}|(0, 100) \\\\\n",
    "\\end{align*}\n"
   ]
  },
  {
   "cell_type": "markdown",
   "metadata": {
    "pycharm": {
     "name": "#%% md\n"
    }
   },
   "source": [
    "* Implement the pooled model in pymc3"
   ]
  },
  {
   "cell_type": "code",
   "execution_count": 9,
   "metadata": {
    "pycharm": {
     "name": "#%%\n"
    }
   },
   "outputs": [
    {
     "data": {
      "text/html": [
       "<div>\n",
       "<style scoped>\n",
       "    .dataframe tbody tr th:only-of-type {\n",
       "        vertical-align: middle;\n",
       "    }\n",
       "\n",
       "    .dataframe tbody tr th {\n",
       "        vertical-align: top;\n",
       "    }\n",
       "\n",
       "    .dataframe thead th {\n",
       "        text-align: right;\n",
       "    }\n",
       "</style>\n",
       "<table border=\"1\" class=\"dataframe\">\n",
       "  <thead>\n",
       "    <tr style=\"text-align: right;\">\n",
       "      <th></th>\n",
       "      <th>0</th>\n",
       "    </tr>\n",
       "  </thead>\n",
       "  <tbody>\n",
       "    <tr>\n",
       "      <th>count</th>\n",
       "      <td>1000.000000</td>\n",
       "    </tr>\n",
       "    <tr>\n",
       "      <th>mean</th>\n",
       "      <td>11.811127</td>\n",
       "    </tr>\n",
       "    <tr>\n",
       "      <th>std</th>\n",
       "      <td>8.580700</td>\n",
       "    </tr>\n",
       "    <tr>\n",
       "      <th>min</th>\n",
       "      <td>0.048233</td>\n",
       "    </tr>\n",
       "    <tr>\n",
       "      <th>25%</th>\n",
       "      <td>4.874606</td>\n",
       "    </tr>\n",
       "    <tr>\n",
       "      <th>50%</th>\n",
       "      <td>10.239533</td>\n",
       "    </tr>\n",
       "    <tr>\n",
       "      <th>75%</th>\n",
       "      <td>16.881512</td>\n",
       "    </tr>\n",
       "    <tr>\n",
       "      <th>max</th>\n",
       "      <td>53.422089</td>\n",
       "    </tr>\n",
       "  </tbody>\n",
       "</table>\n",
       "</div>"
      ],
      "text/plain": [
       "                 0\n",
       "count  1000.000000\n",
       "mean     11.811127\n",
       "std       8.580700\n",
       "min       0.048233\n",
       "25%       4.874606\n",
       "50%      10.239533\n",
       "75%      16.881512\n",
       "max      53.422089"
      ]
     },
     "execution_count": 9,
     "metadata": {},
     "output_type": "execute_result"
    }
   ],
   "source": [
    "pd.DataFrame(stats.halfnorm.rvs(size=1000, scale=15)).describe()"
   ]
  },
  {
   "cell_type": "code",
   "execution_count": 10,
   "metadata": {
    "pycharm": {
     "name": "#%%\n"
    }
   },
   "outputs": [
    {
     "name": "stderr",
     "output_type": "stream",
     "text": [
      "Auto-assigning NUTS sampler...\n",
      "Initializing NUTS using jitter+adapt_diag...\n",
      "Multiprocess sampling (4 chains in 4 jobs)\n",
      "NUTS: [std, mu]\n"
     ]
    },
    {
     "data": {
      "text/html": [
       "\n",
       "    <div>\n",
       "        <style>\n",
       "            /* Turns off some styling */\n",
       "            progress {\n",
       "                /* gets rid of default border in Firefox and Opera. */\n",
       "                border: none;\n",
       "                /* Needs to be in here for Safari polyfill so background images work as expected. */\n",
       "                background-size: auto;\n",
       "            }\n",
       "            .progress-bar-interrupted, .progress-bar-interrupted::-webkit-progress-bar {\n",
       "                background: #F44336;\n",
       "            }\n",
       "        </style>\n",
       "      <progress value='44000' class='' max='44000' style='width:300px; height:20px; vertical-align: middle;'></progress>\n",
       "      100.00% [44000/44000 00:07<00:00 Sampling 4 chains, 0 divergences]\n",
       "    </div>\n",
       "    "
      ],
      "text/plain": [
       "<IPython.core.display.HTML object>"
      ]
     },
     "metadata": {},
     "output_type": "display_data"
    },
    {
     "name": "stderr",
     "output_type": "stream",
     "text": [
      "Sampling 4 chains for 1_000 tune and 10_000 draw iterations (4_000 + 40_000 draws total) took 9 seconds.\n",
      "The acceptance probability does not match the target. It is 0.882306153447509, but should be close to 0.8. Try to increase the number of tuning steps.\n"
     ]
    }
   ],
   "source": [
    "with pm.Model() as model_pooled:\n",
    "    mu = pm.Normal('mu', mu=92.5, sd=10)\n",
    "    std = pm.HalfNormal('std', sd=15)\n",
    "    y = pm.Normal('y', mu=mu, sd=std, observed=df[\"quality\"])\n",
    "    trace_pooled = pm.sample(10_000, return_inferencedata=True)"
   ]
  },
  {
   "cell_type": "code",
   "execution_count": 11,
   "metadata": {
    "pycharm": {
     "name": "#%%\n"
    }
   },
   "outputs": [
    {
     "data": {
      "text/html": [
       "<div>\n",
       "<style scoped>\n",
       "    .dataframe tbody tr th:only-of-type {\n",
       "        vertical-align: middle;\n",
       "    }\n",
       "\n",
       "    .dataframe tbody tr th {\n",
       "        vertical-align: top;\n",
       "    }\n",
       "\n",
       "    .dataframe thead th {\n",
       "        text-align: right;\n",
       "    }\n",
       "</style>\n",
       "<table border=\"1\" class=\"dataframe\">\n",
       "  <thead>\n",
       "    <tr style=\"text-align: right;\">\n",
       "      <th></th>\n",
       "      <th>mean</th>\n",
       "      <th>sd</th>\n",
       "      <th>hdi_3%</th>\n",
       "      <th>hdi_97%</th>\n",
       "      <th>mcse_mean</th>\n",
       "      <th>mcse_sd</th>\n",
       "      <th>ess_bulk</th>\n",
       "      <th>ess_tail</th>\n",
       "      <th>r_hat</th>\n",
       "    </tr>\n",
       "  </thead>\n",
       "  <tbody>\n",
       "    <tr>\n",
       "      <th>mu</th>\n",
       "      <td>92.904</td>\n",
       "      <td>3.207</td>\n",
       "      <td>86.667</td>\n",
       "      <td>98.756</td>\n",
       "      <td>0.018</td>\n",
       "      <td>0.012</td>\n",
       "      <td>33449.0</td>\n",
       "      <td>23890.0</td>\n",
       "      <td>1.0</td>\n",
       "    </tr>\n",
       "    <tr>\n",
       "      <th>std</th>\n",
       "      <td>18.247</td>\n",
       "      <td>2.414</td>\n",
       "      <td>13.976</td>\n",
       "      <td>22.795</td>\n",
       "      <td>0.014</td>\n",
       "      <td>0.010</td>\n",
       "      <td>31455.0</td>\n",
       "      <td>25165.0</td>\n",
       "      <td>1.0</td>\n",
       "    </tr>\n",
       "  </tbody>\n",
       "</table>\n",
       "</div>"
      ],
      "text/plain": [
       "       mean     sd  hdi_3%  hdi_97%  mcse_mean  mcse_sd  ess_bulk  ess_tail  \\\n",
       "mu   92.904  3.207  86.667   98.756      0.018    0.012   33449.0   23890.0   \n",
       "std  18.247  2.414  13.976   22.795      0.014    0.010   31455.0   25165.0   \n",
       "\n",
       "     r_hat  \n",
       "mu     1.0  \n",
       "std    1.0  "
      ]
     },
     "metadata": {},
     "output_type": "display_data"
    }
   ],
   "source": [
    "with model_pooled:\n",
    "    display(az.summary(trace_pooled))"
   ]
  },
  {
   "cell_type": "code",
   "execution_count": 12,
   "metadata": {
    "pycharm": {
     "name": "#%%\n"
    }
   },
   "outputs": [
    {
     "data": {
      "image/png": "[encoded data removed]",
      "text/plain": [
       "<Figure size 993.6x331.2 with 2 Axes>"
      ]
     },
     "metadata": {},
     "output_type": "display_data"
    }
   ],
   "source": [
    "with model_pooled:\n",
    "    az.plot_posterior(trace_pooled);"
   ]
  },
  {
   "cell_type": "code",
   "execution_count": 13,
   "metadata": {
    "pycharm": {
     "name": "#%%\n"
    }
   },
   "outputs": [],
   "source": [
    "#std_pooled_trace = np.array(trace_pooled.posterior[\"std\"]).reshape(-1)\n",
    "#plt.hist(std_pooled_trace, bins=50);"
   ]
  },
  {
   "cell_type": "markdown",
   "metadata": {
    "pycharm": {
     "name": "#%% md\n"
    }
   },
   "source": [
    "## Unpooled Bayesian Model\n",
    "\n",
    "\\begin{align*}\n",
    "y_{ij} &\\sim \\mathcal{N}(\\mu_j, \\sigma_j) \\\\\n",
    "\\mu_{j} &\\sim \\mathcal{N}(0, 1) \\\\\n",
    "\\sigma_{j} &\\sim |\\mathcal{N}|(0, \\sigma_j) \\\\\n",
    "\\end{align*}\n",
    "\n"
   ]
  },
  {
   "cell_type": "markdown",
   "metadata": {
    "pycharm": {
     "name": "#%% md\n"
    }
   },
   "source": [
    "* Implement the unpooled model in pymc3"
   ]
  },
  {
   "cell_type": "code",
   "execution_count": 14,
   "metadata": {
    "pycharm": {
     "name": "#%%\n"
    }
   },
   "outputs": [
    {
     "data": {
      "text/html": [
       "<div>\n",
       "<style scoped>\n",
       "    .dataframe tbody tr th:only-of-type {\n",
       "        vertical-align: middle;\n",
       "    }\n",
       "\n",
       "    .dataframe tbody tr th {\n",
       "        vertical-align: top;\n",
       "    }\n",
       "\n",
       "    .dataframe thead th {\n",
       "        text-align: right;\n",
       "    }\n",
       "</style>\n",
       "<table border=\"1\" class=\"dataframe\">\n",
       "  <thead>\n",
       "    <tr style=\"text-align: right;\">\n",
       "      <th></th>\n",
       "      <th>measurement</th>\n",
       "      <th>machine</th>\n",
       "      <th>quality</th>\n",
       "      <th>machine_id</th>\n",
       "    </tr>\n",
       "  </thead>\n",
       "  <tbody>\n",
       "    <tr>\n",
       "      <th>0</th>\n",
       "      <td>0</td>\n",
       "      <td>M1</td>\n",
       "      <td>83.0</td>\n",
       "      <td>0</td>\n",
       "    </tr>\n",
       "    <tr>\n",
       "      <th>1</th>\n",
       "      <td>1</td>\n",
       "      <td>M1</td>\n",
       "      <td>92.0</td>\n",
       "      <td>0</td>\n",
       "    </tr>\n",
       "    <tr>\n",
       "      <th>2</th>\n",
       "      <td>2</td>\n",
       "      <td>M1</td>\n",
       "      <td>92.0</td>\n",
       "      <td>0</td>\n",
       "    </tr>\n",
       "    <tr>\n",
       "      <th>3</th>\n",
       "      <td>3</td>\n",
       "      <td>M1</td>\n",
       "      <td>46.0</td>\n",
       "      <td>0</td>\n",
       "    </tr>\n",
       "    <tr>\n",
       "      <th>4</th>\n",
       "      <td>4</td>\n",
       "      <td>M1</td>\n",
       "      <td>67.0</td>\n",
       "      <td>0</td>\n",
       "    </tr>\n",
       "  </tbody>\n",
       "</table>\n",
       "</div>"
      ],
      "text/plain": [
       "   measurement machine  quality  machine_id\n",
       "0            0      M1     83.0           0\n",
       "1            1      M1     92.0           0\n",
       "2            2      M1     92.0           0\n",
       "3            3      M1     46.0           0\n",
       "4            4      M1     67.0           0"
      ]
     },
     "execution_count": 14,
     "metadata": {},
     "output_type": "execute_result"
    }
   ],
   "source": [
    "df[\"machine\"] = df[\"machine\"].astype(\"category\")\n",
    "df[\"machine_id\"] = df[\"machine\"].cat.codes\n",
    "#df[\"machine\"].cat.categories\n",
    "#df[\"machine\"].cat.codes\n",
    "machines = list(df[\"machine\"].cat.categories)\n",
    "n_machines = len(machines) # number of machines (6)\n",
    "df.head()"
   ]
  },
  {
   "cell_type": "code",
   "execution_count": 15,
   "metadata": {
    "pycharm": {
     "name": "#%%\n"
    }
   },
   "outputs": [
    {
     "name": "stderr",
     "output_type": "stream",
     "text": [
      "Auto-assigning NUTS sampler...\n",
      "Initializing NUTS using jitter+adapt_diag...\n",
      "Multiprocess sampling (4 chains in 4 jobs)\n",
      "NUTS: [group_std, group_mu]\n"
     ]
    },
    {
     "data": {
      "text/html": [
       "\n",
       "    <div>\n",
       "        <style>\n",
       "            /* Turns off some styling */\n",
       "            progress {\n",
       "                /* gets rid of default border in Firefox and Opera. */\n",
       "                border: none;\n",
       "                /* Needs to be in here for Safari polyfill so background images work as expected. */\n",
       "                background-size: auto;\n",
       "            }\n",
       "            .progress-bar-interrupted, .progress-bar-interrupted::-webkit-progress-bar {\n",
       "                background: #F44336;\n",
       "            }\n",
       "        </style>\n",
       "      <progress value='44000' class='' max='44000' style='width:300px; height:20px; vertical-align: middle;'></progress>\n",
       "      100.00% [44000/44000 00:13<00:00 Sampling 4 chains, 25 divergences]\n",
       "    </div>\n",
       "    "
      ],
      "text/plain": [
       "<IPython.core.display.HTML object>"
      ]
     },
     "metadata": {},
     "output_type": "display_data"
    },
    {
     "name": "stderr",
     "output_type": "stream",
     "text": [
      "Sampling 4 chains for 1_000 tune and 10_000 draw iterations (4_000 + 40_000 draws total) took 13 seconds.\n",
      "There were 10 divergences after tuning. Increase `target_accept` or reparameterize.\n",
      "There were 3 divergences after tuning. Increase `target_accept` or reparameterize.\n",
      "There were 12 divergences after tuning. Increase `target_accept` or reparameterize.\n"
     ]
    }
   ],
   "source": [
    "with pm.Model() as model_unpooled:\n",
    "    group_mu = pm.Normal('group_mu', mu=92.5, sd=100, shape=n_machines)\n",
    "    group_std = pm.HalfNormal('group_std', sd=100, shape=n_machines)\n",
    "    y = pm.Normal('y', mu=group_mu[df[\"machine_id\"]], sd=group_std[df[\"machine_id\"]], observed=df[\"quality\"])\n",
    "    trace_unpooled = pm.sample(10_000, return_inferencedata=True)\n"
   ]
  },
  {
   "cell_type": "code",
   "execution_count": 16,
   "metadata": {
    "pycharm": {
     "name": "#%%\n"
    }
   },
   "outputs": [
    {
     "data": {
      "text/html": [
       "<div>\n",
       "<style scoped>\n",
       "    .dataframe tbody tr th:only-of-type {\n",
       "        vertical-align: middle;\n",
       "    }\n",
       "\n",
       "    .dataframe tbody tr th {\n",
       "        vertical-align: top;\n",
       "    }\n",
       "\n",
       "    .dataframe thead th {\n",
       "        text-align: right;\n",
       "    }\n",
       "</style>\n",
       "<table border=\"1\" class=\"dataframe\">\n",
       "  <thead>\n",
       "    <tr style=\"text-align: right;\">\n",
       "      <th></th>\n",
       "      <th>mean</th>\n",
       "      <th>sd</th>\n",
       "      <th>hdi_3%</th>\n",
       "      <th>hdi_97%</th>\n",
       "      <th>mcse_mean</th>\n",
       "      <th>mcse_sd</th>\n",
       "      <th>ess_bulk</th>\n",
       "      <th>ess_tail</th>\n",
       "      <th>r_hat</th>\n",
       "    </tr>\n",
       "  </thead>\n",
       "  <tbody>\n",
       "    <tr>\n",
       "      <th>group_mu[0]</th>\n",
       "      <td>76.218</td>\n",
       "      <td>13.875</td>\n",
       "      <td>49.080</td>\n",
       "      <td>102.099</td>\n",
       "      <td>0.108</td>\n",
       "      <td>0.077</td>\n",
       "      <td>19978.0</td>\n",
       "      <td>15259.0</td>\n",
       "      <td>1.0</td>\n",
       "    </tr>\n",
       "    <tr>\n",
       "      <th>group_mu[1]</th>\n",
       "      <td>105.969</td>\n",
       "      <td>9.351</td>\n",
       "      <td>89.053</td>\n",
       "      <td>123.585</td>\n",
       "      <td>0.081</td>\n",
       "      <td>0.057</td>\n",
       "      <td>20336.0</td>\n",
       "      <td>13783.0</td>\n",
       "      <td>1.0</td>\n",
       "    </tr>\n",
       "    <tr>\n",
       "      <th>group_mu[2]</th>\n",
       "      <td>87.810</td>\n",
       "      <td>10.166</td>\n",
       "      <td>68.956</td>\n",
       "      <td>106.547</td>\n",
       "      <td>0.105</td>\n",
       "      <td>0.074</td>\n",
       "      <td>15730.0</td>\n",
       "      <td>12704.0</td>\n",
       "      <td>1.0</td>\n",
       "    </tr>\n",
       "    <tr>\n",
       "      <th>group_mu[3]</th>\n",
       "      <td>111.467</td>\n",
       "      <td>6.038</td>\n",
       "      <td>100.587</td>\n",
       "      <td>122.896</td>\n",
       "      <td>0.052</td>\n",
       "      <td>0.037</td>\n",
       "      <td>20115.0</td>\n",
       "      <td>13020.0</td>\n",
       "      <td>1.0</td>\n",
       "    </tr>\n",
       "    <tr>\n",
       "      <th>group_mu[4]</th>\n",
       "      <td>90.128</td>\n",
       "      <td>8.233</td>\n",
       "      <td>74.522</td>\n",
       "      <td>104.782</td>\n",
       "      <td>0.073</td>\n",
       "      <td>0.055</td>\n",
       "      <td>18580.0</td>\n",
       "      <td>13995.0</td>\n",
       "      <td>1.0</td>\n",
       "    </tr>\n",
       "    <tr>\n",
       "      <th>group_mu[5]</th>\n",
       "      <td>85.926</td>\n",
       "      <td>13.960</td>\n",
       "      <td>59.491</td>\n",
       "      <td>112.134</td>\n",
       "      <td>0.123</td>\n",
       "      <td>0.087</td>\n",
       "      <td>17511.0</td>\n",
       "      <td>13148.0</td>\n",
       "      <td>1.0</td>\n",
       "    </tr>\n",
       "    <tr>\n",
       "      <th>group_std[0]</th>\n",
       "      <td>28.744</td>\n",
       "      <td>15.136</td>\n",
       "      <td>10.511</td>\n",
       "      <td>54.825</td>\n",
       "      <td>0.123</td>\n",
       "      <td>0.087</td>\n",
       "      <td>19772.0</td>\n",
       "      <td>17568.0</td>\n",
       "      <td>1.0</td>\n",
       "    </tr>\n",
       "    <tr>\n",
       "      <th>group_std[1]</th>\n",
       "      <td>18.134</td>\n",
       "      <td>10.753</td>\n",
       "      <td>6.138</td>\n",
       "      <td>35.592</td>\n",
       "      <td>0.090</td>\n",
       "      <td>0.064</td>\n",
       "      <td>23449.0</td>\n",
       "      <td>15744.0</td>\n",
       "      <td>1.0</td>\n",
       "    </tr>\n",
       "    <tr>\n",
       "      <th>group_std[2]</th>\n",
       "      <td>19.566</td>\n",
       "      <td>11.634</td>\n",
       "      <td>6.714</td>\n",
       "      <td>38.753</td>\n",
       "      <td>0.110</td>\n",
       "      <td>0.090</td>\n",
       "      <td>20134.0</td>\n",
       "      <td>13622.0</td>\n",
       "      <td>1.0</td>\n",
       "    </tr>\n",
       "    <tr>\n",
       "      <th>group_std[3]</th>\n",
       "      <td>11.729</td>\n",
       "      <td>7.308</td>\n",
       "      <td>3.953</td>\n",
       "      <td>23.041</td>\n",
       "      <td>0.067</td>\n",
       "      <td>0.047</td>\n",
       "      <td>19092.0</td>\n",
       "      <td>14292.0</td>\n",
       "      <td>1.0</td>\n",
       "    </tr>\n",
       "    <tr>\n",
       "      <th>group_std[4]</th>\n",
       "      <td>16.333</td>\n",
       "      <td>9.586</td>\n",
       "      <td>5.888</td>\n",
       "      <td>32.211</td>\n",
       "      <td>0.085</td>\n",
       "      <td>0.063</td>\n",
       "      <td>18984.0</td>\n",
       "      <td>15775.0</td>\n",
       "      <td>1.0</td>\n",
       "    </tr>\n",
       "    <tr>\n",
       "      <th>group_std[5]</th>\n",
       "      <td>28.457</td>\n",
       "      <td>15.520</td>\n",
       "      <td>10.193</td>\n",
       "      <td>55.822</td>\n",
       "      <td>0.132</td>\n",
       "      <td>0.093</td>\n",
       "      <td>19954.0</td>\n",
       "      <td>16818.0</td>\n",
       "      <td>1.0</td>\n",
       "    </tr>\n",
       "  </tbody>\n",
       "</table>\n",
       "</div>"
      ],
      "text/plain": [
       "                 mean      sd   hdi_3%  hdi_97%  mcse_mean  mcse_sd  ess_bulk  \\\n",
       "group_mu[0]    76.218  13.875   49.080  102.099      0.108    0.077   19978.0   \n",
       "group_mu[1]   105.969   9.351   89.053  123.585      0.081    0.057   20336.0   \n",
       "group_mu[2]    87.810  10.166   68.956  106.547      0.105    0.074   15730.0   \n",
       "group_mu[3]   111.467   6.038  100.587  122.896      0.052    0.037   20115.0   \n",
       "group_mu[4]    90.128   8.233   74.522  104.782      0.073    0.055   18580.0   \n",
       "group_mu[5]    85.926  13.960   59.491  112.134      0.123    0.087   17511.0   \n",
       "group_std[0]   28.744  15.136   10.511   54.825      0.123    0.087   19772.0   \n",
       "group_std[1]   18.134  10.753    6.138   35.592      0.090    0.064   23449.0   \n",
       "group_std[2]   19.566  11.634    6.714   38.753      0.110    0.090   20134.0   \n",
       "group_std[3]   11.729   7.308    3.953   23.041      0.067    0.047   19092.0   \n",
       "group_std[4]   16.333   9.586    5.888   32.211      0.085    0.063   18984.0   \n",
       "group_std[5]   28.457  15.520   10.193   55.822      0.132    0.093   19954.0   \n",
       "\n",
       "              ess_tail  r_hat  \n",
       "group_mu[0]    15259.0    1.0  \n",
       "group_mu[1]    13783.0    1.0  \n",
       "group_mu[2]    12704.0    1.0  \n",
       "group_mu[3]    13020.0    1.0  \n",
       "group_mu[4]    13995.0    1.0  \n",
       "group_mu[5]    13148.0    1.0  \n",
       "group_std[0]   17568.0    1.0  \n",
       "group_std[1]   15744.0    1.0  \n",
       "group_std[2]   13622.0    1.0  \n",
       "group_std[3]   14292.0    1.0  \n",
       "group_std[4]   15775.0    1.0  \n",
       "group_std[5]   16818.0    1.0  "
      ]
     },
     "metadata": {},
     "output_type": "display_data"
    }
   ],
   "source": [
    "with model_unpooled:\n",
    "    display(az.summary(trace_unpooled))"
   ]
  },
  {
   "cell_type": "code",
   "execution_count": 17,
   "metadata": {
    "pycharm": {
     "name": "#%%\n"
    }
   },
   "outputs": [
    {
     "data": {
      "image/png": "[encoded data removed]",
      "text/plain": [
       "<Figure size 864x397.44 with 1 Axes>"
      ]
     },
     "metadata": {},
     "output_type": "display_data"
    }
   ],
   "source": [
    "with model_unpooled:\n",
    "    axes = az.plot_forest (trace_unpooled,  kind='ridgeplot', hdi_prob=0.95, var_names=\"group_mu\", combined=True);\n",
    "    axes[0].set_yticklabels(machines[::-1])"
   ]
  },
  {
   "cell_type": "code",
   "execution_count": 18,
   "metadata": {
    "pycharm": {
     "name": "#%%\n"
    }
   },
   "outputs": [
    {
     "data": {
      "image/png": "[encoded data removed]",
      "text/plain": [
       "<Figure size 864x397.44 with 1 Axes>"
      ]
     },
     "metadata": {},
     "output_type": "display_data"
    }
   ],
   "source": [
    "with model_unpooled:\n",
    "    axes = az.plot_forest (trace_unpooled,  kind='ridgeplot', hdi_prob=0.95, var_names=\"group_std\", combined=True);\n",
    "    axes[0].set_yticklabels(machines[::-1])"
   ]
  },
  {
   "cell_type": "markdown",
   "metadata": {
    "pycharm": {
     "name": "#%% md\n"
    }
   },
   "source": [
    "* Compare the sample unpooled standard deviation with the bayesian estimate. What do you observe?"
   ]
  },
  {
   "cell_type": "markdown",
   "metadata": {
    "pycharm": {
     "name": "#%% md\n"
    }
   },
   "source": [
    "We already computed the sample standard deviations before:"
   ]
  },
  {
   "cell_type": "code",
   "execution_count": 19,
   "metadata": {
    "pycharm": {
     "name": "#%%\n"
    }
   },
   "outputs": [
    {
     "data": {
      "text/html": [
       "<div>\n",
       "<style scoped>\n",
       "    .dataframe tbody tr th:only-of-type {\n",
       "        vertical-align: middle;\n",
       "    }\n",
       "\n",
       "    .dataframe tbody tr th {\n",
       "        vertical-align: top;\n",
       "    }\n",
       "\n",
       "    .dataframe thead tr th {\n",
       "        text-align: left;\n",
       "    }\n",
       "\n",
       "    .dataframe thead tr:last-of-type th {\n",
       "        text-align: right;\n",
       "    }\n",
       "</style>\n",
       "<table border=\"1\" class=\"dataframe\">\n",
       "  <thead>\n",
       "    <tr>\n",
       "      <th></th>\n",
       "      <th colspan=\"2\" halign=\"left\">quality</th>\n",
       "    </tr>\n",
       "    <tr>\n",
       "      <th></th>\n",
       "      <th>mean</th>\n",
       "      <th>std</th>\n",
       "    </tr>\n",
       "    <tr>\n",
       "      <th>machine</th>\n",
       "      <th></th>\n",
       "      <th></th>\n",
       "    </tr>\n",
       "  </thead>\n",
       "  <tbody>\n",
       "    <tr>\n",
       "      <th>M1</th>\n",
       "      <td>76.0</td>\n",
       "      <td>19.634154</td>\n",
       "    </tr>\n",
       "    <tr>\n",
       "      <th>M2</th>\n",
       "      <td>106.2</td>\n",
       "      <td>11.819475</td>\n",
       "    </tr>\n",
       "    <tr>\n",
       "      <th>M3</th>\n",
       "      <td>87.8</td>\n",
       "      <td>12.794530</td>\n",
       "    </tr>\n",
       "    <tr>\n",
       "      <th>M4</th>\n",
       "      <td>111.6</td>\n",
       "      <td>7.569676</td>\n",
       "    </tr>\n",
       "    <tr>\n",
       "      <th>M5</th>\n",
       "      <td>90.0</td>\n",
       "      <td>10.770330</td>\n",
       "    </tr>\n",
       "    <tr>\n",
       "      <th>M6</th>\n",
       "      <td>86.0</td>\n",
       "      <td>19.222383</td>\n",
       "    </tr>\n",
       "  </tbody>\n",
       "</table>\n",
       "</div>"
      ],
      "text/plain": [
       "        quality           \n",
       "           mean        std\n",
       "machine                   \n",
       "M1         76.0  19.634154\n",
       "M2        106.2  11.819475\n",
       "M3         87.8  12.794530\n",
       "M4        111.6   7.569676\n",
       "M5         90.0  10.770330\n",
       "M6         86.0  19.222383"
      ]
     },
     "execution_count": 19,
     "metadata": {},
     "output_type": "execute_result"
    }
   ],
   "source": [
    "df.groupby(\"machine\")[[\"quality\"]].agg([\"mean\", \"std\"])"
   ]
  },
  {
   "cell_type": "markdown",
   "metadata": {
    "pycharm": {
     "name": "#%% md\n"
    }
   },
   "source": [
    "The posterior means of the bayesian estimates are:"
   ]
  },
  {
   "cell_type": "code",
   "execution_count": 20,
   "metadata": {
    "pycharm": {
     "name": "#%%\n"
    }
   },
   "outputs": [
    {
     "data": {
      "text/html": [
       "<div>\n",
       "<style scoped>\n",
       "    .dataframe tbody tr th:only-of-type {\n",
       "        vertical-align: middle;\n",
       "    }\n",
       "\n",
       "    .dataframe tbody tr th {\n",
       "        vertical-align: top;\n",
       "    }\n",
       "\n",
       "    .dataframe thead th {\n",
       "        text-align: right;\n",
       "    }\n",
       "</style>\n",
       "<table border=\"1\" class=\"dataframe\">\n",
       "  <thead>\n",
       "    <tr style=\"text-align: right;\">\n",
       "      <th></th>\n",
       "      <th>mean</th>\n",
       "      <th>sd</th>\n",
       "      <th>hdi_3%</th>\n",
       "      <th>hdi_97%</th>\n",
       "      <th>mcse_mean</th>\n",
       "      <th>mcse_sd</th>\n",
       "      <th>ess_bulk</th>\n",
       "      <th>ess_tail</th>\n",
       "      <th>r_hat</th>\n",
       "    </tr>\n",
       "  </thead>\n",
       "  <tbody>\n",
       "    <tr>\n",
       "      <th>group_std[0]</th>\n",
       "      <td>28.744</td>\n",
       "      <td>15.136</td>\n",
       "      <td>10.511</td>\n",
       "      <td>54.825</td>\n",
       "      <td>0.123</td>\n",
       "      <td>0.087</td>\n",
       "      <td>19772.0</td>\n",
       "      <td>17568.0</td>\n",
       "      <td>1.0</td>\n",
       "    </tr>\n",
       "    <tr>\n",
       "      <th>group_std[1]</th>\n",
       "      <td>18.134</td>\n",
       "      <td>10.753</td>\n",
       "      <td>6.138</td>\n",
       "      <td>35.592</td>\n",
       "      <td>0.090</td>\n",
       "      <td>0.064</td>\n",
       "      <td>23449.0</td>\n",
       "      <td>15744.0</td>\n",
       "      <td>1.0</td>\n",
       "    </tr>\n",
       "    <tr>\n",
       "      <th>group_std[2]</th>\n",
       "      <td>19.566</td>\n",
       "      <td>11.634</td>\n",
       "      <td>6.714</td>\n",
       "      <td>38.753</td>\n",
       "      <td>0.110</td>\n",
       "      <td>0.090</td>\n",
       "      <td>20134.0</td>\n",
       "      <td>13622.0</td>\n",
       "      <td>1.0</td>\n",
       "    </tr>\n",
       "    <tr>\n",
       "      <th>group_std[3]</th>\n",
       "      <td>11.729</td>\n",
       "      <td>7.308</td>\n",
       "      <td>3.953</td>\n",
       "      <td>23.041</td>\n",
       "      <td>0.067</td>\n",
       "      <td>0.047</td>\n",
       "      <td>19092.0</td>\n",
       "      <td>14292.0</td>\n",
       "      <td>1.0</td>\n",
       "    </tr>\n",
       "    <tr>\n",
       "      <th>group_std[4]</th>\n",
       "      <td>16.333</td>\n",
       "      <td>9.586</td>\n",
       "      <td>5.888</td>\n",
       "      <td>32.211</td>\n",
       "      <td>0.085</td>\n",
       "      <td>0.063</td>\n",
       "      <td>18984.0</td>\n",
       "      <td>15775.0</td>\n",
       "      <td>1.0</td>\n",
       "    </tr>\n",
       "    <tr>\n",
       "      <th>group_std[5]</th>\n",
       "      <td>28.457</td>\n",
       "      <td>15.520</td>\n",
       "      <td>10.193</td>\n",
       "      <td>55.822</td>\n",
       "      <td>0.132</td>\n",
       "      <td>0.093</td>\n",
       "      <td>19954.0</td>\n",
       "      <td>16818.0</td>\n",
       "      <td>1.0</td>\n",
       "    </tr>\n",
       "  </tbody>\n",
       "</table>\n",
       "</div>"
      ],
      "text/plain": [
       "                mean      sd  hdi_3%  hdi_97%  mcse_mean  mcse_sd  ess_bulk  \\\n",
       "group_std[0]  28.744  15.136  10.511   54.825      0.123    0.087   19772.0   \n",
       "group_std[1]  18.134  10.753   6.138   35.592      0.090    0.064   23449.0   \n",
       "group_std[2]  19.566  11.634   6.714   38.753      0.110    0.090   20134.0   \n",
       "group_std[3]  11.729   7.308   3.953   23.041      0.067    0.047   19092.0   \n",
       "group_std[4]  16.333   9.586   5.888   32.211      0.085    0.063   18984.0   \n",
       "group_std[5]  28.457  15.520  10.193   55.822      0.132    0.093   19954.0   \n",
       "\n",
       "              ess_tail  r_hat  \n",
       "group_std[0]   17568.0    1.0  \n",
       "group_std[1]   15744.0    1.0  \n",
       "group_std[2]   13622.0    1.0  \n",
       "group_std[3]   14292.0    1.0  \n",
       "group_std[4]   15775.0    1.0  \n",
       "group_std[5]   16818.0    1.0  "
      ]
     },
     "metadata": {},
     "output_type": "display_data"
    }
   ],
   "source": [
    "with model_unpooled:\n",
    "    display(az.summary(trace_unpooled, var_names=[\"group_std\"]))"
   ]
  },
  {
   "cell_type": "code",
   "execution_count": 21,
   "metadata": {
    "pycharm": {
     "name": "#%%\n"
    }
   },
   "outputs": [],
   "source": [
    "#plt.hist(trace_separate[\"group_std\"][:, 5], bins=50);\n",
    "#trace_std = np.array(trace_separate.posterior[\"group_std\"]).reshape(-1, machines)\n",
    "#px.histogram(trace_std[:, 0])#, bins=50);"
   ]
  },
  {
   "cell_type": "code",
   "execution_count": 22,
   "metadata": {
    "pycharm": {
     "name": "#%%\n"
    }
   },
   "outputs": [
    {
     "data": {
      "image/png": "[encoded data removed]",
      "text/plain": [
       "<Figure size 1490.4x662.4 with 6 Axes>"
      ]
     },
     "metadata": {},
     "output_type": "display_data"
    }
   ],
   "source": [
    "# az.plot_posterior(trace_separate[\"group_std\"][:, 0], point_estimate='mode')\n",
    "with model_unpooled:\n",
    "    az.plot_posterior(trace_unpooled, var_names=[\"group_std\"], point_estimate='mode'); # the posterior mean is 29, the mode is 19!"
   ]
  },
  {
   "cell_type": "markdown",
   "metadata": {
    "pycharm": {
     "name": "#%% md\n"
    }
   },
   "source": [
    "The sample std is rather different from the posterior std mean. The sample std is actually much similar to the posterior mode (as expected from theory)! The posterior std distributions are heaviy right-skewed!"
   ]
  },
  {
   "cell_type": "markdown",
   "metadata": {
    "pycharm": {
     "name": "#%% md\n"
    }
   },
   "source": [
    "## Hierarchical model, common std\n",
    "\n",
    "\\begin{align*}\n",
    "y_{ij} &\\sim \\mathcal{N}(\\mu_j, \\sigma_j) \\\\\n",
    "\\mu_{j} &\\sim \\mathcal{N}(0, 1) \\\\\n",
    "\\sigma_{j} &\\sim |\\mathcal{N}|(0, \\sigma_j) \\\\\n",
    "\\end{align*}\n",
    "\n"
   ]
  },
  {
   "cell_type": "markdown",
   "metadata": {
    "pycharm": {
     "name": "#%% md\n"
    }
   },
   "source": [
    "* Implement the hierarchical model with common std in pymc3"
   ]
  },
  {
   "cell_type": "code",
   "execution_count": 23,
   "metadata": {
    "pycharm": {
     "name": "#%%\n"
    }
   },
   "outputs": [
    {
     "name": "stderr",
     "output_type": "stream",
     "text": [
      "Auto-assigning NUTS sampler...\n",
      "Initializing NUTS using jitter+adapt_diag...\n",
      "Multiprocess sampling (4 chains in 4 jobs)\n",
      "NUTS: [std, group_mu, hyper_mu_std, hyper_mu_mu]\n"
     ]
    },
    {
     "data": {
      "text/html": [
       "\n",
       "    <div>\n",
       "        <style>\n",
       "            /* Turns off some styling */\n",
       "            progress {\n",
       "                /* gets rid of default border in Firefox and Opera. */\n",
       "                border: none;\n",
       "                /* Needs to be in here for Safari polyfill so background images work as expected. */\n",
       "                background-size: auto;\n",
       "            }\n",
       "            .progress-bar-interrupted, .progress-bar-interrupted::-webkit-progress-bar {\n",
       "                background: #F44336;\n",
       "            }\n",
       "        </style>\n",
       "      <progress value='44000' class='' max='44000' style='width:300px; height:20px; vertical-align: middle;'></progress>\n",
       "      100.00% [44000/44000 00:14<00:00 Sampling 4 chains, 863 divergences]\n",
       "    </div>\n",
       "    "
      ],
      "text/plain": [
       "<IPython.core.display.HTML object>"
      ]
     },
     "metadata": {},
     "output_type": "display_data"
    },
    {
     "name": "stderr",
     "output_type": "stream",
     "text": [
      "Sampling 4 chains for 1_000 tune and 10_000 draw iterations (4_000 + 40_000 draws total) took 15 seconds.\n",
      "There were 320 divergences after tuning. Increase `target_accept` or reparameterize.\n",
      "There were 186 divergences after tuning. Increase `target_accept` or reparameterize.\n",
      "There were 213 divergences after tuning. Increase `target_accept` or reparameterize.\n",
      "There were 144 divergences after tuning. Increase `target_accept` or reparameterize.\n",
      "The number of effective samples is smaller than 25% for some parameters.\n"
     ]
    }
   ],
   "source": [
    "with pm.Model() as model_hierarchical:\n",
    "    \n",
    "    # hyper_priors\n",
    "    hyper_mu_mu = pm.Normal('hyper_mu_mu', mu=92, sd=100)\n",
    "    hyper_mu_std = pm.HalfNormal('hyper_mu_std', sd=100)\n",
    "\n",
    "    # priors    \n",
    "    group_mu = pm.Normal('group_mu', mu=hyper_mu_mu, sd=hyper_mu_std, shape=n_machines)\n",
    "    std = pm.HalfNormal('std', sd=100)\n",
    "    y = pm.Normal('y', mu=group_mu[df[\"machine_id\"]], sd=std, observed=df[\"quality\"])\n",
    "    trace_hierarchical = pm.sample(10_000, return_inferencedata=True)"
   ]
  },
  {
   "cell_type": "code",
   "execution_count": 24,
   "metadata": {
    "pycharm": {
     "name": "#%%\n"
    }
   },
   "outputs": [
    {
     "data": {
      "text/html": [
       "<div>\n",
       "<style scoped>\n",
       "    .dataframe tbody tr th:only-of-type {\n",
       "        vertical-align: middle;\n",
       "    }\n",
       "\n",
       "    .dataframe tbody tr th {\n",
       "        vertical-align: top;\n",
       "    }\n",
       "\n",
       "    .dataframe thead th {\n",
       "        text-align: right;\n",
       "    }\n",
       "</style>\n",
       "<table border=\"1\" class=\"dataframe\">\n",
       "  <thead>\n",
       "    <tr style=\"text-align: right;\">\n",
       "      <th></th>\n",
       "      <th>mean</th>\n",
       "      <th>sd</th>\n",
       "      <th>hdi_3%</th>\n",
       "      <th>hdi_97%</th>\n",
       "      <th>mcse_mean</th>\n",
       "      <th>mcse_sd</th>\n",
       "      <th>ess_bulk</th>\n",
       "      <th>ess_tail</th>\n",
       "      <th>r_hat</th>\n",
       "    </tr>\n",
       "  </thead>\n",
       "  <tbody>\n",
       "    <tr>\n",
       "      <th>hyper_mu_mu</th>\n",
       "      <td>92.915</td>\n",
       "      <td>7.731</td>\n",
       "      <td>79.071</td>\n",
       "      <td>108.164</td>\n",
       "      <td>0.050</td>\n",
       "      <td>0.035</td>\n",
       "      <td>26786.0</td>\n",
       "      <td>22145.0</td>\n",
       "      <td>1.0</td>\n",
       "    </tr>\n",
       "    <tr>\n",
       "      <th>group_mu[0]</th>\n",
       "      <td>80.010</td>\n",
       "      <td>6.834</td>\n",
       "      <td>66.729</td>\n",
       "      <td>92.524</td>\n",
       "      <td>0.073</td>\n",
       "      <td>0.054</td>\n",
       "      <td>9115.0</td>\n",
       "      <td>3082.0</td>\n",
       "      <td>1.0</td>\n",
       "    </tr>\n",
       "    <tr>\n",
       "      <th>group_mu[1]</th>\n",
       "      <td>103.066</td>\n",
       "      <td>6.586</td>\n",
       "      <td>90.991</td>\n",
       "      <td>115.743</td>\n",
       "      <td>0.055</td>\n",
       "      <td>0.039</td>\n",
       "      <td>14183.0</td>\n",
       "      <td>9103.0</td>\n",
       "      <td>1.0</td>\n",
       "    </tr>\n",
       "    <tr>\n",
       "      <th>group_mu[2]</th>\n",
       "      <td>89.012</td>\n",
       "      <td>6.171</td>\n",
       "      <td>76.980</td>\n",
       "      <td>100.194</td>\n",
       "      <td>0.039</td>\n",
       "      <td>0.027</td>\n",
       "      <td>25149.0</td>\n",
       "      <td>23843.0</td>\n",
       "      <td>1.0</td>\n",
       "    </tr>\n",
       "    <tr>\n",
       "      <th>group_mu[3]</th>\n",
       "      <td>107.177</td>\n",
       "      <td>6.983</td>\n",
       "      <td>94.233</td>\n",
       "      <td>120.642</td>\n",
       "      <td>0.073</td>\n",
       "      <td>0.052</td>\n",
       "      <td>9423.0</td>\n",
       "      <td>6351.0</td>\n",
       "      <td>1.0</td>\n",
       "    </tr>\n",
       "    <tr>\n",
       "      <th>group_mu[4]</th>\n",
       "      <td>90.691</td>\n",
       "      <td>6.204</td>\n",
       "      <td>79.153</td>\n",
       "      <td>102.603</td>\n",
       "      <td>0.036</td>\n",
       "      <td>0.025</td>\n",
       "      <td>29747.0</td>\n",
       "      <td>23485.0</td>\n",
       "      <td>1.0</td>\n",
       "    </tr>\n",
       "    <tr>\n",
       "      <th>group_mu[5]</th>\n",
       "      <td>87.646</td>\n",
       "      <td>6.250</td>\n",
       "      <td>75.946</td>\n",
       "      <td>99.580</td>\n",
       "      <td>0.042</td>\n",
       "      <td>0.030</td>\n",
       "      <td>22115.0</td>\n",
       "      <td>19964.0</td>\n",
       "      <td>1.0</td>\n",
       "    </tr>\n",
       "    <tr>\n",
       "      <th>hyper_mu_std</th>\n",
       "      <td>15.805</td>\n",
       "      <td>8.999</td>\n",
       "      <td>2.978</td>\n",
       "      <td>31.133</td>\n",
       "      <td>0.096</td>\n",
       "      <td>0.068</td>\n",
       "      <td>4155.0</td>\n",
       "      <td>1700.0</td>\n",
       "      <td>1.0</td>\n",
       "    </tr>\n",
       "    <tr>\n",
       "      <th>std</th>\n",
       "      <td>15.268</td>\n",
       "      <td>2.398</td>\n",
       "      <td>11.272</td>\n",
       "      <td>20.006</td>\n",
       "      <td>0.022</td>\n",
       "      <td>0.016</td>\n",
       "      <td>13117.0</td>\n",
       "      <td>8730.0</td>\n",
       "      <td>1.0</td>\n",
       "    </tr>\n",
       "  </tbody>\n",
       "</table>\n",
       "</div>"
      ],
      "text/plain": [
       "                 mean     sd  hdi_3%  hdi_97%  mcse_mean  mcse_sd  ess_bulk  \\\n",
       "hyper_mu_mu    92.915  7.731  79.071  108.164      0.050    0.035   26786.0   \n",
       "group_mu[0]    80.010  6.834  66.729   92.524      0.073    0.054    9115.0   \n",
       "group_mu[1]   103.066  6.586  90.991  115.743      0.055    0.039   14183.0   \n",
       "group_mu[2]    89.012  6.171  76.980  100.194      0.039    0.027   25149.0   \n",
       "group_mu[3]   107.177  6.983  94.233  120.642      0.073    0.052    9423.0   \n",
       "group_mu[4]    90.691  6.204  79.153  102.603      0.036    0.025   29747.0   \n",
       "group_mu[5]    87.646  6.250  75.946   99.580      0.042    0.030   22115.0   \n",
       "hyper_mu_std   15.805  8.999   2.978   31.133      0.096    0.068    4155.0   \n",
       "std            15.268  2.398  11.272   20.006      0.022    0.016   13117.0   \n",
       "\n",
       "              ess_tail  r_hat  \n",
       "hyper_mu_mu    22145.0    1.0  \n",
       "group_mu[0]     3082.0    1.0  \n",
       "group_mu[1]     9103.0    1.0  \n",
       "group_mu[2]    23843.0    1.0  \n",
       "group_mu[3]     6351.0    1.0  \n",
       "group_mu[4]    23485.0    1.0  \n",
       "group_mu[5]    19964.0    1.0  \n",
       "hyper_mu_std    1700.0    1.0  \n",
       "std             8730.0    1.0  "
      ]
     },
     "execution_count": 24,
     "metadata": {},
     "output_type": "execute_result"
    }
   ],
   "source": [
    "az.summary(trace_hierarchical)"
   ]
  },
  {
   "cell_type": "code",
   "execution_count": 25,
   "metadata": {
    "pycharm": {
     "name": "#%%\n"
    }
   },
   "outputs": [
    {
     "data": {
      "image/png": "[encoded data removed]",
      "text/plain": [
       "<Figure size 864x535.68 with 1 Axes>"
      ]
     },
     "metadata": {},
     "output_type": "display_data"
    }
   ],
   "source": [
    "axes = az.plot_forest([trace_unpooled, trace_hierarchical], \n",
    "                      model_names=['factory_unpooled', 'factory_hierarchical'], combined=True, kind='ridgeplot', var_names='group_mu', hdi_prob=0.95);\n",
    "\n",
    "grand_mean = df[\"quality\"].mean()\n",
    "axes[0].axvline(x=grand_mean, color=\"r\", label=\"grand_mean\");\n",
    "axes[0].set_yticklabels(machines[::-1]);"
   ]
  },
  {
   "cell_type": "markdown",
   "metadata": {
    "pycharm": {
     "name": "#%% md\n"
    }
   },
   "source": [
    "In the hierarchical model, the machine means are pushed towards the grand mean"
   ]
  },
  {
   "cell_type": "markdown",
   "metadata": {
    "pycharm": {
     "name": "#%% md\n"
    }
   },
   "source": [
    "## Model selection "
   ]
  },
  {
   "cell_type": "code",
   "execution_count": 26,
   "metadata": {
    "pycharm": {
     "name": "#%%\n"
    }
   },
   "outputs": [
    {
     "name": "stderr",
     "output_type": "stream",
     "text": [
      "/home/marco/anaconda3/envs/bda/lib/python3.9/site-packages/arviz/stats/stats.py:1661: UserWarning: For one or more samples the posterior variance of the log predictive densities exceeds 0.4. This could be indication of WAIC starting to fail. \n",
      "See http://arxiv.org/abs/1507.04544 for details\n",
      "  warnings.warn(\n",
      "/home/marco/anaconda3/envs/bda/lib/python3.9/site-packages/arviz/stats/stats.py:1661: UserWarning: For one or more samples the posterior variance of the log predictive densities exceeds 0.4. This could be indication of WAIC starting to fail. \n",
      "See http://arxiv.org/abs/1507.04544 for details\n",
      "  warnings.warn(\n",
      "/home/marco/anaconda3/envs/bda/lib/python3.9/site-packages/arviz/stats/stats.py:1661: UserWarning: For one or more samples the posterior variance of the log predictive densities exceeds 0.4. This could be indication of WAIC starting to fail. \n",
      "See http://arxiv.org/abs/1507.04544 for details\n",
      "  warnings.warn(\n"
     ]
    },
    {
     "data": {
      "text/html": [
       "<div>\n",
       "<style scoped>\n",
       "    .dataframe tbody tr th:only-of-type {\n",
       "        vertical-align: middle;\n",
       "    }\n",
       "\n",
       "    .dataframe tbody tr th {\n",
       "        vertical-align: top;\n",
       "    }\n",
       "\n",
       "    .dataframe thead th {\n",
       "        text-align: right;\n",
       "    }\n",
       "</style>\n",
       "<table border=\"1\" class=\"dataframe\">\n",
       "  <thead>\n",
       "    <tr style=\"text-align: right;\">\n",
       "      <th></th>\n",
       "      <th>rank</th>\n",
       "      <th>waic</th>\n",
       "      <th>p_waic</th>\n",
       "      <th>d_waic</th>\n",
       "      <th>weight</th>\n",
       "      <th>se</th>\n",
       "      <th>dse</th>\n",
       "      <th>warning</th>\n",
       "      <th>waic_scale</th>\n",
       "    </tr>\n",
       "  </thead>\n",
       "  <tbody>\n",
       "    <tr>\n",
       "      <th>model_hierarchical</th>\n",
       "      <td>0</td>\n",
       "      <td>-126.619263</td>\n",
       "      <td>5.420524</td>\n",
       "      <td>0.000000</td>\n",
       "      <td>0.835853</td>\n",
       "      <td>4.335455</td>\n",
       "      <td>0.000000</td>\n",
       "      <td>True</td>\n",
       "      <td>log</td>\n",
       "    </tr>\n",
       "    <tr>\n",
       "      <th>model_unpooled</th>\n",
       "      <td>1</td>\n",
       "      <td>-130.259926</td>\n",
       "      <td>8.168072</td>\n",
       "      <td>3.640663</td>\n",
       "      <td>0.108757</td>\n",
       "      <td>2.684545</td>\n",
       "      <td>2.410986</td>\n",
       "      <td>True</td>\n",
       "      <td>log</td>\n",
       "    </tr>\n",
       "    <tr>\n",
       "      <th>model_pooled</th>\n",
       "      <td>2</td>\n",
       "      <td>-130.825718</td>\n",
       "      <td>1.993993</td>\n",
       "      <td>4.206454</td>\n",
       "      <td>0.055390</td>\n",
       "      <td>3.939981</td>\n",
       "      <td>2.105500</td>\n",
       "      <td>True</td>\n",
       "      <td>log</td>\n",
       "    </tr>\n",
       "  </tbody>\n",
       "</table>\n",
       "</div>"
      ],
      "text/plain": [
       "                    rank        waic    p_waic    d_waic    weight        se  \\\n",
       "model_hierarchical     0 -126.619263  5.420524  0.000000  0.835853  4.335455   \n",
       "model_unpooled         1 -130.259926  8.168072  3.640663  0.108757  2.684545   \n",
       "model_pooled           2 -130.825718  1.993993  4.206454  0.055390  3.939981   \n",
       "\n",
       "                         dse  warning waic_scale  \n",
       "model_hierarchical  0.000000     True        log  \n",
       "model_unpooled      2.410986     True        log  \n",
       "model_pooled        2.105500     True        log  "
      ]
     },
     "execution_count": 26,
     "metadata": {},
     "output_type": "execute_result"
    }
   ],
   "source": [
    "#with factory_pooled, factory_separate, factory_hierarchical:\n",
    "comp_df = az.compare({\"model_pooled\": trace_pooled,\n",
    "                      \"model_unpooled\": trace_unpooled,\n",
    "                      \"model_hierarchical\": trace_hierarchical},\n",
    "                     ic=\"waic\", method=\"BB-pseudo-BMA\")\n",
    "comp_df"
   ]
  },
  {
   "cell_type": "code",
   "execution_count": 27,
   "metadata": {
    "pycharm": {
     "name": "#%%\n"
    }
   },
   "outputs": [
    {
     "data": {
      "text/html": [
       "<div>\n",
       "<style scoped>\n",
       "    .dataframe tbody tr th:only-of-type {\n",
       "        vertical-align: middle;\n",
       "    }\n",
       "\n",
       "    .dataframe tbody tr th {\n",
       "        vertical-align: top;\n",
       "    }\n",
       "\n",
       "    .dataframe thead th {\n",
       "        text-align: right;\n",
       "    }\n",
       "</style>\n",
       "<table border=\"1\" class=\"dataframe\">\n",
       "  <thead>\n",
       "    <tr style=\"text-align: right;\">\n",
       "      <th></th>\n",
       "      <th>rank</th>\n",
       "      <th>waic</th>\n",
       "      <th>p_waic</th>\n",
       "      <th>d_waic</th>\n",
       "      <th>weight</th>\n",
       "      <th>se</th>\n",
       "      <th>dse</th>\n",
       "      <th>warning</th>\n",
       "      <th>waic_scale</th>\n",
       "    </tr>\n",
       "  </thead>\n",
       "  <tbody>\n",
       "    <tr>\n",
       "      <th>model_hierarchical</th>\n",
       "      <td>0</td>\n",
       "      <td>-126.619263</td>\n",
       "      <td>5.420524</td>\n",
       "      <td>0.000000</td>\n",
       "      <td>0.835853</td>\n",
       "      <td>4.335455</td>\n",
       "      <td>0.000000</td>\n",
       "      <td>True</td>\n",
       "      <td>log</td>\n",
       "    </tr>\n",
       "    <tr>\n",
       "      <th>model_unpooled</th>\n",
       "      <td>1</td>\n",
       "      <td>-130.259926</td>\n",
       "      <td>8.168072</td>\n",
       "      <td>3.640663</td>\n",
       "      <td>0.108757</td>\n",
       "      <td>2.684545</td>\n",
       "      <td>2.410986</td>\n",
       "      <td>True</td>\n",
       "      <td>log</td>\n",
       "    </tr>\n",
       "    <tr>\n",
       "      <th>model_pooled</th>\n",
       "      <td>2</td>\n",
       "      <td>-130.825718</td>\n",
       "      <td>1.993993</td>\n",
       "      <td>4.206454</td>\n",
       "      <td>0.055390</td>\n",
       "      <td>3.939981</td>\n",
       "      <td>2.105500</td>\n",
       "      <td>True</td>\n",
       "      <td>log</td>\n",
       "    </tr>\n",
       "  </tbody>\n",
       "</table>\n",
       "</div>"
      ],
      "text/plain": [
       "                    rank        waic    p_waic    d_waic    weight        se  \\\n",
       "model_hierarchical     0 -126.619263  5.420524  0.000000  0.835853  4.335455   \n",
       "model_unpooled         1 -130.259926  8.168072  3.640663  0.108757  2.684545   \n",
       "model_pooled           2 -130.825718  1.993993  4.206454  0.055390  3.939981   \n",
       "\n",
       "                         dse  warning waic_scale  \n",
       "model_hierarchical  0.000000     True        log  \n",
       "model_unpooled      2.410986     True        log  \n",
       "model_pooled        2.105500     True        log  "
      ]
     },
     "execution_count": 27,
     "metadata": {},
     "output_type": "execute_result"
    }
   ],
   "source": [
    "comp_df"
   ]
  },
  {
   "cell_type": "code",
   "execution_count": 28,
   "metadata": {
    "pycharm": {
     "name": "#%%\n"
    }
   },
   "outputs": [
    {
     "data": {
      "text/plain": [
       "<AxesSubplot:xlabel='Log'>"
      ]
     },
     "execution_count": 28,
     "metadata": {},
     "output_type": "execute_result"
    },
    {
     "data": {
      "image/png": "[encoded data removed]",
      "text/plain": [
       "<Figure size 432x216 with 1 Axes>"
      ]
     },
     "metadata": {},
     "output_type": "display_data"
    }
   ],
   "source": [
    "az.plot_compare(comp_df)"
   ]
  },
  {
   "cell_type": "markdown",
   "metadata": {
    "pycharm": {
     "name": "#%% md\n"
    }
   },
   "source": [
    "## Manual WAIC computations"
   ]
  },
  {
   "cell_type": "markdown",
   "metadata": {
    "pycharm": {
     "name": "#%% md\n"
    }
   },
   "source": [
    "Let us compare the arviz computation of WAIC with a manual implementation:"
   ]
  },
  {
   "cell_type": "code",
   "execution_count": 29,
   "metadata": {
    "pycharm": {
     "name": "#%%\n"
    }
   },
   "outputs": [
    {
     "name": "stderr",
     "output_type": "stream",
     "text": [
      "/home/marco/anaconda3/envs/bda/lib/python3.9/site-packages/arviz/stats/stats.py:1661: UserWarning: For one or more samples the posterior variance of the log predictive densities exceeds 0.4. This could be indication of WAIC starting to fail. \n",
      "See http://arxiv.org/abs/1507.04544 for details\n",
      "  warnings.warn(\n"
     ]
    },
    {
     "data": {
      "text/plain": [
       "Computed from 40000 posterior samples and 30 observations log-likelihood matrix.\n",
       "\n",
       "          Estimate       SE\n",
       "elpd_waic  -126.62     3.99\n",
       "p_waic        5.42        -\n",
       "\n",
       "There has been a warning during the calculation. Please check the results."
      ]
     },
     "metadata": {},
     "output_type": "display_data"
    }
   ],
   "source": [
    "with model_hierarchical:\n",
    "    display(az.waic(trace_hierarchical))"
   ]
  },
  {
   "cell_type": "code",
   "execution_count": 30,
   "metadata": {
    "pycharm": {
     "name": "#%%\n"
    }
   },
   "outputs": [],
   "source": [
    "log_lik = np.array(trace_hierarchical.log_likelihood.y) # chains, iters, obs\n",
    "log_lik = log_lik.reshape((-1, log_lik.shape[-1])) # mc samples, obs\n",
    "S, ny = log_lik.shape"
   ]
  },
  {
   "cell_type": "code",
   "execution_count": 31,
   "metadata": {
    "pycharm": {
     "name": "#%%\n"
    }
   },
   "outputs": [
    {
     "data": {
      "text/plain": [
       "5.420523852545883"
      ]
     },
     "execution_count": 31,
     "metadata": {},
     "output_type": "execute_result"
    }
   ],
   "source": [
    "p_waic = np.var(log_lik, axis=0) # correct\n",
    "p_waic = np.sum(p_waic)\n",
    "p_waic"
   ]
  },
  {
   "cell_type": "code",
   "execution_count": 32,
   "metadata": {
    "pycharm": {
     "name": "#%%\n"
    }
   },
   "outputs": [
    {
     "data": {
      "text/plain": [
       "-121.1987393251702"
      ]
     },
     "execution_count": 32,
     "metadata": {},
     "output_type": "execute_result"
    }
   ],
   "source": [
    "lppd = scipy.special.logsumexp(log_lik, axis=0) - np.log(S) # sum is equivalent to logsumexp in log domain...\n",
    "lppd = np.sum(lppd)\n",
    "lppd"
   ]
  },
  {
   "cell_type": "code",
   "execution_count": 33,
   "metadata": {
    "pycharm": {
     "name": "#%%\n"
    }
   },
   "outputs": [
    {
     "data": {
      "text/plain": [
       "253.23852635543216"
      ]
     },
     "execution_count": 33,
     "metadata": {},
     "output_type": "execute_result"
    }
   ],
   "source": [
    "-2*(lppd - p_waic)"
   ]
  },
  {
   "cell_type": "code",
   "execution_count": 34,
   "metadata": {
    "pycharm": {
     "name": "#%%\n"
    },
    "scrolled": true
   },
   "outputs": [
    {
     "data": {
      "text/plain": [
       "-126.61926317771608"
      ]
     },
     "execution_count": 34,
     "metadata": {},
     "output_type": "execute_result"
    }
   ],
   "source": [
    "lppd - p_waic"
   ]
  },
  {
   "cell_type": "markdown",
   "metadata": {
    "pycharm": {
     "name": "#%% md\n"
    }
   },
   "source": [
    "## With predictive distribution"
   ]
  },
  {
   "cell_type": "markdown",
   "metadata": {
    "pycharm": {
     "name": "#%% md\n"
    }
   },
   "source": [
    "TODO"
   ]
  },
  {
   "cell_type": "code",
   "execution_count": 35,
   "metadata": {
    "pycharm": {
     "name": "#%%\n"
    }
   },
   "outputs": [
    {
     "name": "stderr",
     "output_type": "stream",
     "text": [
      "Auto-assigning NUTS sampler...\n",
      "Initializing NUTS using jitter+adapt_diag...\n",
      "Multiprocess sampling (4 chains in 4 jobs)\n",
      "NUTS: [y_pred, std, mu]\n"
     ]
    },
    {
     "data": {
      "text/html": [
       "\n",
       "    <div>\n",
       "        <style>\n",
       "            /* Turns off some styling */\n",
       "            progress {\n",
       "                /* gets rid of default border in Firefox and Opera. */\n",
       "                border: none;\n",
       "                /* Needs to be in here for Safari polyfill so background images work as expected. */\n",
       "                background-size: auto;\n",
       "            }\n",
       "            .progress-bar-interrupted, .progress-bar-interrupted::-webkit-progress-bar {\n",
       "                background: #F44336;\n",
       "            }\n",
       "        </style>\n",
       "      <progress value='44000' class='' max='44000' style='width:300px; height:20px; vertical-align: middle;'></progress>\n",
       "      100.00% [44000/44000 00:08<00:00 Sampling 4 chains, 0 divergences]\n",
       "    </div>\n",
       "    "
      ],
      "text/plain": [
       "<IPython.core.display.HTML object>"
      ]
     },
     "metadata": {},
     "output_type": "display_data"
    },
    {
     "name": "stderr",
     "output_type": "stream",
     "text": [
      "Sampling 4 chains for 1_000 tune and 10_000 draw iterations (4_000 + 40_000 draws total) took 9 seconds.\n"
     ]
    }
   ],
   "source": [
    "with pm.Model() as model_pooled_with_pred:\n",
    "    mu = pm.Normal('mu', mu=92.5, sd=10)\n",
    "    std = pm.HalfNormal('std', sd=15)\n",
    "    y = pm.Normal('y', mu=mu, sd=std, observed=df[\"quality\"])\n",
    "    \n",
    "    # Prediction\n",
    "    y_pred = pm.Normal('y_pred', mu=mu, sd=std)\n",
    "    trace_pooled_with_pred = pm.sample(10_000, return_inferencedata=True)"
   ]
  },
  {
   "cell_type": "code",
   "execution_count": 36,
   "metadata": {
    "pycharm": {
     "name": "#%%\n"
    }
   },
   "outputs": [],
   "source": [
    "#trace_pooled_with_pred.posterior.y_pred"
   ]
  },
  {
   "cell_type": "code",
   "execution_count": 37,
   "metadata": {
    "pycharm": {
     "name": "#%%\n"
    }
   },
   "outputs": [
    {
     "name": "stderr",
     "output_type": "stream",
     "text": [
      "Auto-assigning NUTS sampler...\n",
      "Initializing NUTS using jitter+adapt_diag...\n",
      "Multiprocess sampling (4 chains in 4 jobs)\n",
      "NUTS: [pred_y, pred_mu, std, group_mu, hyper_mu_std, hyper_mu_mu]\n"
     ]
    },
    {
     "data": {
      "text/html": [
       "\n",
       "    <div>\n",
       "        <style>\n",
       "            /* Turns off some styling */\n",
       "            progress {\n",
       "                /* gets rid of default border in Firefox and Opera. */\n",
       "                border: none;\n",
       "                /* Needs to be in here for Safari polyfill so background images work as expected. */\n",
       "                background-size: auto;\n",
       "            }\n",
       "            .progress-bar-interrupted, .progress-bar-interrupted::-webkit-progress-bar {\n",
       "                background: #F44336;\n",
       "            }\n",
       "        </style>\n",
       "      <progress value='44000' class='' max='44000' style='width:300px; height:20px; vertical-align: middle;'></progress>\n",
       "      100.00% [44000/44000 00:17<00:00 Sampling 4 chains, 900 divergences]\n",
       "    </div>\n",
       "    "
      ],
      "text/plain": [
       "<IPython.core.display.HTML object>"
      ]
     },
     "metadata": {},
     "output_type": "display_data"
    },
    {
     "name": "stderr",
     "output_type": "stream",
     "text": [
      "Sampling 4 chains for 1_000 tune and 10_000 draw iterations (4_000 + 40_000 draws total) took 18 seconds.\n",
      "There were 188 divergences after tuning. Increase `target_accept` or reparameterize.\n",
      "There were 320 divergences after tuning. Increase `target_accept` or reparameterize.\n",
      "There were 181 divergences after tuning. Increase `target_accept` or reparameterize.\n",
      "There were 211 divergences after tuning. Increase `target_accept` or reparameterize.\n",
      "The number of effective samples is smaller than 25% for some parameters.\n"
     ]
    }
   ],
   "source": [
    "with pm.Model() as model_hierarchical_with_pred:\n",
    "    \n",
    "    # hyper_priors\n",
    "    hyper_mu_mu = pm.Normal('hyper_mu_mu', mu=92, sd=100)\n",
    "    hyper_mu_std = pm.HalfNormal('hyper_mu_std', sd=100)\n",
    "\n",
    "    # priors    \n",
    "    group_mu = pm.Normal('group_mu', mu=hyper_mu_mu, sd=hyper_mu_std, shape=n_machines)\n",
    "    std = pm.HalfNormal('std', sd=100)\n",
    "    y = pm.Normal('y', mu=group_mu[df[\"machine_id\"]], sd=std, observed=df[\"quality\"])\n",
    "    \n",
    "    \n",
    "    pred_mu = pm.Normal('pred_mu', mu=hyper_mu_mu, sd=hyper_mu_std)\n",
    "    pred_y = pm.Normal('pred_y', mu=pred_mu, sd=std)\n",
    "    \n",
    "    \n",
    "    trace_hierarchical_with_pred = pm.sample(10_000, return_inferencedata=True)\n",
    "    \n",
    "    \n",
    "    "
   ]
  },
  {
   "cell_type": "code",
   "execution_count": 38,
   "metadata": {
    "pycharm": {
     "name": "#%%\n"
    }
   },
   "outputs": [
    {
     "name": "stderr",
     "output_type": "stream",
     "text": [
      "Auto-assigning NUTS sampler...\n",
      "Initializing NUTS using jitter+adapt_diag...\n",
      "Multiprocess sampling (4 chains in 4 jobs)\n",
      "NUTS: [pred_y, pred_mu, std, group_mu, hyper_mu_std, hyper_mu_mu]\n"
     ]
    },
    {
     "data": {
      "text/html": [
       "\n",
       "    <div>\n",
       "        <style>\n",
       "            /* Turns off some styling */\n",
       "            progress {\n",
       "                /* gets rid of default border in Firefox and Opera. */\n",
       "                border: none;\n",
       "                /* Needs to be in here for Safari polyfill so background images work as expected. */\n",
       "                background-size: auto;\n",
       "            }\n",
       "            .progress-bar-interrupted, .progress-bar-interrupted::-webkit-progress-bar {\n",
       "                background: #F44336;\n",
       "            }\n",
       "        </style>\n",
       "      <progress value='44000' class='' max='44000' style='width:300px; height:20px; vertical-align: middle;'></progress>\n",
       "      100.00% [44000/44000 00:16<00:00 Sampling 4 chains, 1,020 divergences]\n",
       "    </div>\n",
       "    "
      ],
      "text/plain": [
       "<IPython.core.display.HTML object>"
      ]
     },
     "metadata": {},
     "output_type": "display_data"
    },
    {
     "name": "stderr",
     "output_type": "stream",
     "text": [
      "Sampling 4 chains for 1_000 tune and 10_000 draw iterations (4_000 + 40_000 draws total) took 17 seconds.\n",
      "There were 145 divergences after tuning. Increase `target_accept` or reparameterize.\n",
      "There were 235 divergences after tuning. Increase `target_accept` or reparameterize.\n",
      "There were 76 divergences after tuning. Increase `target_accept` or reparameterize.\n",
      "There were 564 divergences after tuning. Increase `target_accept` or reparameterize.\n",
      "The acceptance probability does not match the target. It is 0.7162971316044312, but should be close to 0.8. Try to increase the number of tuning steps.\n",
      "The number of effective samples is smaller than 10% for some parameters.\n"
     ]
    }
   ],
   "source": [
    "with pm.Model() as model_hierarchical_with_pred:\n",
    "    \n",
    "    # hyper_priors\n",
    "    hyper_mu_mu = pm.Normal('hyper_mu_mu', mu=92, sd=100)\n",
    "    hyper_mu_std = pm.HalfNormal('hyper_mu_std', sd=100)\n",
    "\n",
    "    # priors    \n",
    "    group_mu = pm.Normal('group_mu', mu=hyper_mu_mu, sd=hyper_mu_std, shape=n_machines)\n",
    "    std = pm.HalfNormal('std', sd=100)\n",
    "    y = pm.Normal('y', mu=group_mu[df[\"machine_id\"]], sd=std, observed=df[\"quality\"])\n",
    "    \n",
    "    \n",
    "    pred_mu = pm.Normal('pred_mu', mu=hyper_mu_mu, sd=hyper_mu_std)\n",
    "    pred_y = pm.Normal('pred_y', mu=pred_mu, sd=std)\n",
    "    \n",
    "    \n",
    "    trace_hierarchical_with_pred = pm.sample(10_000, return_inferencedata=True)\n",
    "    \n",
    "    \n",
    "    "
   ]
  }
 ],
 "metadata": {
  "kernelspec": {
   "display_name": "Python 3 (ipykernel)",
   "language": "python",
   "name": "python3"
  },
  "language_info": {
   "codemirror_mode": {
    "name": "ipython",
    "version": 3
   },
   "file_extension": ".py",
   "mimetype": "text/x-python",
   "name": "python",
   "nbconvert_exporter": "python",
   "pygments_lexer": "ipython3",
   "version": "3.9.12"
  },
  "vscode": {
   "interpreter": {
    "hash": "221c891a34d53b6a976517fba14e87e2d44925797743ab4436332eb8ae3ca627"
   }
  }
 },
 "nbformat": 4,
 "nbformat_minor": 1
}