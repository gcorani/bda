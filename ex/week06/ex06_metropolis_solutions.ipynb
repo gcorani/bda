{
 "cells": [
  {
   "cell_type": "code",
   "execution_count": null,
   "metadata": {
    "pycharm": {
     "name": "#%%\n"
    }
   },
   "outputs": [],
   "source": [
    "import numpy as np\n",
    "import scipy\n",
    "import scipy.stats as stats\n",
    "import matplotlib.pyplot as plt\n",
    "import pymc as pm\n",
    "import arviz as az\n",
    "import seaborn as sns"
   ]
  },
  {
   "cell_type": "code",
   "execution_count": null,
   "metadata": {
    "pycharm": {
     "name": "#%%\n"
    }
   },
   "outputs": [],
   "source": [
    "sns.set()"
   ]
  },
  {
   "cell_type": "markdown",
   "metadata": {},
   "source": [
    "# Exercise session 3: Sampling with Metropolis and MCMC"
   ]
  },
  {
   "cell_type": "markdown",
   "metadata": {},
   "source": [
    "We stick with the good old Beta-Binomial problem:"
   ]
  },
  {
   "cell_type": "markdown",
   "metadata": {},
   "source": [
    "Let us consider a coin that lands heads with probability $\\theta=0.25$ (assumed unknown). \n",
    "\n",
    "Our prior knowledge of $\\theta$ is encoded in a Beta distributions with parameters $a=20$ and $b=10$:\n",
    "\n",
    "$$ f_{\\rm prior}(\\theta) = \\frac{1}{B(a,b)} \\theta^{a-1} (1-\\theta)^{b-1}, \\qquad \\theta \\in (0, 1),$$\n",
    "\n",
    "where $B(a,b)$ is the normalization constant such that $\\int_{0}^1 f_{\\rm prior}(\\theta) \\; d \\theta = 1.$ \n",
    "\n",
    "We toss the coin $n$ times and measure a number $y$ of heads. How does our belief of $\\theta$ change with the measurement?"
   ]
  },
  {
   "cell_type": "code",
   "execution_count": null,
   "metadata": {
    "pycharm": {
     "name": "#%%\n"
    }
   },
   "outputs": [],
   "source": [
    "a = 20 # prior: parameter a\n",
    "b = 10 # prior: parameter b\n",
    "n = 50 # likelihood: number of tosses\n",
    "y = 15 # likelihood: number of HEADs observed. (Fixed in this example. It could be sampled from a binomial instead)\n",
    "#np.random.seed(42)\n",
    "#y = np.random.binomial(n, theta) # random number of heads from the distribution from a binomial distribution"
   ]
  },
  {
   "cell_type": "markdown",
   "metadata": {},
   "source": [
    "## Approach 1: Exact derivation"
   ]
  },
  {
   "cell_type": "markdown",
   "metadata": {},
   "source": [
    "* Obtain the posterior distribution $f_{\\rm post}(\\theta) = f(\\theta | y)$ in closed-form:"
   ]
  },
  {
   "cell_type": "markdown",
   "metadata": {},
   "source": [
    "$$f_{\\rm post}(\\theta) = \\frac{1}{B(a+y,b+n-y)} \\theta^{a+y-1} (1-\\theta)^{b+n-y-1}, \\qquad \\theta \\in (0, 1)$$"
   ]
  },
  {
   "cell_type": "markdown",
   "metadata": {},
   "source": [
    "* Define random variables corresponding to the prior and the posterior in Python using `scipy.stats.beta`"
   ]
  },
  {
   "cell_type": "code",
   "execution_count": null,
   "metadata": {},
   "outputs": [],
   "source": [
    "a_post = a + y\n",
    "b_post = b + n - y\n",
    "prior_var = stats.beta(a=a, b=b)\n",
    "post_var = stats.beta(a=a_post, b=b_post) # conjugate prior-likelihood case, closed-form expression known"
   ]
  },
  {
   "cell_type": "markdown",
   "metadata": {},
   "source": [
    "* Plot the prior and posterior distribution of $\\theta$, together with 95% HDI"
   ]
  },
  {
   "cell_type": "code",
   "execution_count": null,
   "metadata": {},
   "outputs": [],
   "source": [
    "dtheta = 1e-3 # discretization step for theta\n",
    "theta_vec = np.arange(0, 1, dtheta) # discretized theta range\n",
    "alpha = 0.05\n",
    "plt.plot(theta_vec, prior_var.pdf(theta_vec), label=\"prior\", color=\"C0\")\n",
    "prior_L, prior_H = prior_var.interval(1-alpha)\n",
    "plt.axvspan(xmin=prior_L, xmax=prior_H, alpha=0.1, color=\"C0\")\n",
    "plt.plot(theta_vec, post_var.pdf(theta_vec), label=\"posterior\", color=\"C1\")\n",
    "post_L, post_H = post_var.interval(1-alpha)\n",
    "plt.axvspan(xmin=post_L, xmax=post_H, alpha=0.1, color=\"C1\")\n",
    "#plt.axvline(theta_0, color=\"black\", label=r\"true $\\theta$\")\n",
    "plt.xlabel(r\"$\\theta$\")\n",
    "plt.legend()\n",
    "plt.title(r\"Prior and posterior distribution of $\\theta$\");"
   ]
  },
  {
   "cell_type": "markdown",
   "metadata": {},
   "source": [
    "* What are the limitations of the exact derivation approach?"
   ]
  },
  {
   "cell_type": "markdown",
   "metadata": {},
   "source": [
    "It is only applicable to very special cases (conjugate prior/likelihood pairs)."
   ]
  },
  {
   "cell_type": "markdown",
   "metadata": {},
   "source": [
    "## Approach 2: Gridding"
   ]
  },
  {
   "cell_type": "markdown",
   "metadata": {},
   "source": [
    "* Implement the prior, the likelihood, and the posterior (all up to a scaling factor independent of $\\theta$) as Python functions"
   ]
  },
  {
   "cell_type": "markdown",
   "metadata": {},
   "source": [
    "\\begin{align}\n",
    "\\text{prior}: f_{\\rm prior}(\\theta) &\\propto  \\theta^{a-1} (1-\\theta)^{b-1}\\\\\n",
    "\\text{likelihood}: \\mathcal{L}(\\theta) &\\propto P(y|\\theta) = {{n}\\choose{y}} \\theta^{y} \\cdot (1-\\theta)^{n-y},\\\\\n",
    "\\text{posterior}: f_{\\rm post}(\\theta) &\\propto f_{\\rm prior}(\\theta) \\mathcal{L}(\\theta)\n",
    "\\end{align}\n"
   ]
  },
  {
   "cell_type": "code",
   "execution_count": null,
   "metadata": {
    "pycharm": {
     "name": "#%%\n"
    }
   },
   "outputs": [],
   "source": [
    "prior_fun = lambda theta: stats.beta.pdf(theta, a, b)\n",
    "lik_fun = lambda theta: (theta ** y) * (1 - theta)**(n-y)\n",
    "\n",
    "def unnorm_prior_fun(theta):\n",
    "    p_theta = theta**(a-1)*(1-theta)**(b-1) # since we look for an unnormalized posterior, this is also good enough\n",
    "    p_theta = p_theta * ((theta <= 1.0) & (theta >= 0.0))\n",
    "    return p_theta\n",
    "    \n",
    "unnorm_post_fun = lambda theta: unnorm_prior_fun(theta)*lik_fun(theta)"
   ]
  },
  {
   "cell_type": "markdown",
   "metadata": {},
   "source": [
    "* Plot the unnormalized posterior"
   ]
  },
  {
   "cell_type": "code",
   "execution_count": null,
   "metadata": {
    "pycharm": {
     "name": "#%%\n"
    }
   },
   "outputs": [],
   "source": [
    "dtheta = 1e-3\n",
    "theta_vec = np.arange(0, 1, dtheta)\n",
    "plt.plot(theta_vec, unnorm_post_fun(theta_vec))\n",
    "plt.xlabel(r\"$\\theta$\");\n",
    "plt.title(r\"Unnormalized posterior distribution of $\\theta$\");"
   ]
  },
  {
   "cell_type": "markdown",
   "metadata": {},
   "source": [
    "* Obtain the normalized posterior by normalizing the unnormalized posterior"
   ]
  },
  {
   "cell_type": "code",
   "execution_count": null,
   "metadata": {
    "pycharm": {
     "name": "#%%\n"
    }
   },
   "outputs": [],
   "source": [
    "dtheta = 1e-3\n",
    "theta_vec = np.arange(0, 1, dtheta)\n",
    "Z = np.sum(unnorm_post_fun(theta_vec)) * dtheta\n",
    "normalized_post_fun = lambda theta: unnorm_post_fun(theta)/Z"
   ]
  },
  {
   "cell_type": "markdown",
   "metadata": {},
   "source": [
    "* Verify that the gridding approximation of the posterior is close to the exact solution"
   ]
  },
  {
   "cell_type": "code",
   "execution_count": null,
   "metadata": {},
   "outputs": [],
   "source": [
    "plt.plot(theta_vec, post_var.pdf(theta_vec), label=\"Exact\")\n",
    "plt.plot(theta_vec, normalized_post_fun(theta_vec), label=\"Normalized\")\n",
    "plt.xlabel(r\"$\\theta$\");\n",
    "plt.legend()\n",
    "plt.title(r\"Posterior distribution of $\\theta$\");"
   ]
  },
  {
   "cell_type": "markdown",
   "metadata": {},
   "source": [
    "* What are the limitations of the gridding approach?"
   ]
  },
  {
   "cell_type": "markdown",
   "metadata": {},
   "source": [
    "It is only applicable in 1,2,3 dimensions as it suffers the curse of dimensionality. \n",
    "\n",
    "NOTE: It's better to implement the gridding approach in the log-domain (as done in the previous lab session)"
   ]
  },
  {
   "cell_type": "markdown",
   "metadata": {},
   "source": [
    "## Approach 3: Metropolis"
   ]
  },
  {
   "cell_type": "markdown",
   "metadata": {},
   "source": [
    "Let us now pretend that we can only evaluate only evaluate $f_{\\rm post}(\\theta)$ up to an unknown multiplicative factor, which is in general the case for non-conjugate prior/likelihood pairs, where all we can say is that \n",
    "$f_{\\rm post}(\\theta) \\propto f_{\\rm prior}(\\theta) \\mathcal{L}(\\theta)$.\n",
    "* Implement a Metropolis algorithm to obtain a sample-based approximation of the posterior $f_{\\rm post}(\\theta)$. \n",
    "    * Use as target distribution the unnormalized posterior `unnorm_post_fun`\n",
    "    * Use the following proposal:\n",
    "    $$\\theta_{\\rm proposal} = \\theta_{\\rm current} + \\Delta \\theta, \\qquad \\Delta \\theta \\sim \\mathcal{N}(0, \\sigma^2).$$\n",
    "    * Set $\\sigma = 0.1$ and initialize $\\theta_{\\rm current} = 0.5$\n",
    "    * Run a single chain of length 50000.\n",
    "    \n",
    "Hint: applicable MCMC algorithm  is described at pages 17-18 of lecture notes \"Markov Chain Monte Carlo\"\n"
   ]
  },
  {
   "cell_type": "code",
   "execution_count": null,
   "metadata": {},
   "outputs": [],
   "source": [
    "sigma = 0.1 # proposal standard deviation\n",
    "theta_0 = 0.5 # an initial guess\n",
    "N = 50_000 # chain length"
   ]
  },
  {
   "cell_type": "code",
   "execution_count": null,
   "metadata": {
    "pycharm": {
     "name": "#%%\n"
    }
   },
   "outputs": [],
   "source": [
    "theta_step = theta_0\n",
    "p_step = unnorm_post_fun(theta_step)\n",
    "thetas = [] # here we collect the theta values from the chain\n",
    "\n",
    "for idx in range(N):\n",
    "    thetas.append(theta_step)\n",
    "    \n",
    "    theta_prop = theta_step + sigma*np.random.randn()\n",
    "    theta_prop = np.clip(theta_prop, 0, 1)\n",
    "    p_prop = unnorm_post_fun(theta_prop) # evaluate unscaled distribution\n",
    "  \n",
    "    p_ratio = p_prop/p_step # the multiplicative factor disappears from the ratio!\n",
    "    if p_ratio > 1:\n",
    "        accept = True\n",
    "    else:\n",
    "        accept =  np.random.binomial(1, p_ratio) # othewise, accept w.p. p_ratio\n",
    "        #accept = scipy.stats.bernoulli(p_ratio).rvs() # way slower!\n",
    "    \n",
    "    if accept:\n",
    "        theta_step = theta_prop\n",
    "        p_step = p_prop"
   ]
  },
  {
   "cell_type": "code",
   "execution_count": null,
   "metadata": {},
   "outputs": [],
   "source": [
    "#thetas = thetas[1000:]"
   ]
  },
  {
   "cell_type": "markdown",
   "metadata": {},
   "source": [
    "* Compare the Metropolis samples with the theoretical distribution. What do you observe?"
   ]
  },
  {
   "cell_type": "code",
   "execution_count": null,
   "metadata": {
    "pycharm": {
     "name": "#%%\n"
    }
   },
   "outputs": [],
   "source": [
    "plt.hist(thetas, density=True, bins=50, label=\"Metropolis samples\")\n",
    "plt.plot(theta_vec, post_var.pdf(theta_vec), label=\"Exact posterior\")\n",
    "plt.legend()\n",
    "plt.xlim([0, 1]);"
   ]
  },
  {
   "cell_type": "markdown",
   "metadata": {},
   "source": [
    "The MCMC samples seem to approximate the true posterior very well!"
   ]
  },
  {
   "cell_type": "markdown",
   "metadata": {},
   "source": [
    "## Logarithm implementation \n",
    "The unnormalized posterior distribution has a bad numerical scaling (in this case, and in general!). In some cases, this can become an issue.\n",
    "\n",
    "The standard approach is to work out all operations in log-domain:\n",
    "\n",
    "\\begin{align*}\n",
    "\\ell(\\theta) &= \\log \\mathcal{L}(\\theta) = {n \\choose y} + y \\log (\\theta) + (n-y) \\log (1-\\theta) \\\\\n",
    " \\log f_{\\rm prior}(\\theta) &= -\\log({B(a,b)}) + (a-1) \\log (\\theta) + (b-1)\\log(1-\\theta) \\\\\n",
    " \\log f_{\\rm post}(\\theta) &= \\ell(\\theta) + \\log f_{\\rm prior}(\\theta) + \\log f(y).\n",
    "\\end{align*}\n"
   ]
  },
  {
   "cell_type": "code",
   "execution_count": null,
   "metadata": {},
   "outputs": [],
   "source": [
    "def log_lik_fun(theta):\n",
    "\n",
    "    eps = 1e-12\n",
    "    theta = np.minimum(theta, 1 - eps)\n",
    "    theta = np.maximum(theta, eps)\n",
    "    \n",
    "    log_lik =  y * np.log(theta) + (n-y)*np.log(1 - theta)\n",
    "    return log_lik\n",
    "\n",
    "def unnorm_log_prior_fun(theta): # otherwise, use prior_dist.logpdf\n",
    "    \n",
    "    eps = 1e-12\n",
    "    theta = np.minimum(theta, 1 - eps)\n",
    "    theta = np.maximum(theta, eps)\n",
    "\n",
    "    log_f_theta = (a-1)*np.log(theta) + (b-1)*np.log(1-theta) \n",
    "    #log_f_theta = log_f_theta * ((theta <= 1.0) & (theta >= 0.0)) # \n",
    "    return log_f_theta\n",
    "\n",
    "unnorm_log_post_fun = lambda theta: log_lik_fun(theta) + unnorm_log_prior_fun(theta)"
   ]
  },
  {
   "cell_type": "code",
   "execution_count": null,
   "metadata": {},
   "outputs": [],
   "source": [
    "dtheta = 1e-3\n",
    "theta_vec = np.arange(0, 1, dtheta)\n",
    "plt.plot(theta_vec, unnorm_log_post_fun(theta_vec))\n",
    "plt.xlabel(r\"$\\theta$\");\n",
    "plt.title(r\"Unnormalized log-posterior  distribution of $\\theta$\");"
   ]
  },
  {
   "cell_type": "markdown",
   "metadata": {},
   "source": [
    "The log-posterior has a much better scaling!"
   ]
  },
  {
   "cell_type": "markdown",
   "metadata": {},
   "source": [
    "Actually, all we need to implement Metropolis is the ratio:\n",
    "$$f_{\\rm ratio}(\\theta_{\\rm proposal}, \\theta_{\\rm current}) = \\frac{f_{\\rm post}(\\theta_{\\rm proposal})}{f_{\\rm post}(\\theta_{\\rm current})}$$\n",
    "Then, $f_{\\rm ratio}(\\theta_{\\rm proposal}, \\theta_{\\rm current})$  may be computed in a numerically stable way by exponentiating the difference between the log-posteriors at $\\theta_{\\rm proposal}$ and $\\theta_{\\rm current}$,  exploiting the identity:\n",
    "\n",
    "$$f_{\\rm ratio}(\\theta_{\\rm proposal}, \\theta_{\\rm current}) = \\frac{f_{\\rm post}(\\theta_{\\rm proposal})}{f_{\\rm post}(\\theta_{\\rm current})} = e^{(\\log f_{\\rm post}(\\theta_{\\rm proposal})- \\log f_{\\rm post}(\\theta_{\\rm current}))}.$$\n",
    "\n",
    "The additive constant disappears from the difference between the log-likelihood in 2 points, and the quantity to be exponentiated is not too large!"
   ]
  },
  {
   "cell_type": "markdown",
   "metadata": {},
   "source": [
    "In general, the *golden rule* is to perform as many operations as possible in the log domain and go back only when it is strictly necessary."
   ]
  },
  {
   "cell_type": "markdown",
   "metadata": {},
   "source": [
    "* Implement a Python function `f_ratio_fun` to compute $f_{\\rm ratio}(\\theta_{\\rm proposal}, \\theta_{\\rm current})$, exploiting the above trick"
   ]
  },
  {
   "cell_type": "code",
   "execution_count": null,
   "metadata": {},
   "outputs": [],
   "source": [
    "def f_ratio_fun(theta_propose, theta_current):\n",
    "       \n",
    "    log_f_propose = unnorm_log_post_fun(theta_propose)\n",
    "    log_f_current = unnorm_log_post_fun(theta_current)\n",
    "    log_f_ratio = log_f_propose - log_f_current # log(p_prop/p_prev) = log(p_prop) - log(p_prev)\n",
    "    f_ratio = np.exp(log_f_ratio)\n",
    "    #f_ratio = np.nan_to_num(p_ratio, nan=0.0)\n",
    "    return f_ratio"
   ]
  },
  {
   "cell_type": "markdown",
   "metadata": {},
   "source": [
    "* Implement a Metropolis algorithm using the newly defined `f_ratio_fun`. Comment the results."
   ]
  },
  {
   "cell_type": "code",
   "execution_count": null,
   "metadata": {},
   "outputs": [],
   "source": [
    "theta_step = theta_0\n",
    "thetas = [] # here we collect the theta values from the chain\n",
    "\n",
    "for idx in range(N):\n",
    "    thetas.append(theta_step)\n",
    "    \n",
    "    # Generate proposal\n",
    "    theta_prop = theta_step + sigma*np.random.randn()\n",
    "    theta_prop = np.clip(theta_prop, 0, 1)\n",
    "    \n",
    "    f_ratio = f_ratio_fun(theta_prop, theta_step) \n",
    "    accept_prob = np.minimum(1.0, f_ratio)\n",
    "    \n",
    "    accept = (np.random.rand() < accept_prob)\n",
    "    \n",
    "    if accept:\n",
    "        theta_step = theta_prop"
   ]
  },
  {
   "cell_type": "code",
   "execution_count": null,
   "metadata": {},
   "outputs": [],
   "source": [
    "plt.hist(thetas, density=True, bins=50, label=\"Metropolis samples\")\n",
    "plt.plot(theta_vec, post_var.pdf(theta_vec), label=\"Exact posterior\")\n",
    "plt.legend()\n",
    "plt.xlim([0, 1]);"
   ]
  },
  {
   "cell_type": "markdown",
   "metadata": {},
   "source": [
    "We obtain the same result as before."
   ]
  },
  {
   "cell_type": "markdown",
   "metadata": {},
   "source": [
    "* Try our different values of sigma and comment the results"
   ]
  },
  {
   "cell_type": "code",
   "execution_count": null,
   "metadata": {},
   "outputs": [],
   "source": [
    "sigma = 0.1 # proposal standard deviation\n",
    "theta_0 = 0.5 # a lucky guess...\n",
    "N = 50_000 # chain length\n",
    "\n",
    "theta_step = theta_0\n",
    "thetas_test = [] # here we collect the theta values from the chain\n",
    "\n",
    "for idx in range(N):\n",
    "    thetas.append(theta_step)\n",
    "    theta_prop = theta_step + sigma*np.random.randn()\n",
    "    theta_prop = np.clip(theta_prop, 0, 1)\n",
    "    \n",
    "    f_ratio = f_ratio_fun(theta_prop, theta_step)\n",
    "    accept_prob = np.minimum(1.0, p_ratio)\n",
    "    accept = (np.random.rand() < accept_prob)\n",
    "    \n",
    "    if accept:\n",
    "        theta_step = theta_prop"
   ]
  },
  {
   "cell_type": "code",
   "execution_count": null,
   "metadata": {},
   "outputs": [],
   "source": [
    "#plt.hist(thetas, bins=50);"
   ]
  },
  {
   "cell_type": "markdown",
   "metadata": {},
   "source": [
    "## Approach 4: Probabilistic Programming"
   ]
  },
  {
   "cell_type": "markdown",
   "metadata": {},
   "source": [
    "* Implement a sample-based estimation of the posterior of $\\theta$ with pymc3"
   ]
  },
  {
   "cell_type": "markdown",
   "metadata": {},
   "source": [
    "The Beta-Binomial is the Hello World of probabilistic programming! No need to worry about implementation subtleties of sampling, pymc3 takes care of it!"
   ]
  },
  {
   "cell_type": "code",
   "execution_count": null,
   "metadata": {},
   "outputs": [],
   "source": [
    "y"
   ]
  },
  {
   "cell_type": "code",
   "execution_count": null,
   "metadata": {},
   "outputs": [],
   "source": [
    "# Approach 4: use pymc(3)\n",
    "\n",
    "with pm.Model() as beta_binomial:\n",
    "    theta = pm.Beta(\"theta\", alpha=a, beta=b)\n",
    "    y_obs = pm.Binomial(\"y_obs\", n=n, p=theta, observed=y)\n",
    "    trace_bb = pm.sample(10_000, random_seed=123, return_inferencedata=True)\n"
   ]
  },
  {
   "cell_type": "code",
   "execution_count": null,
   "metadata": {},
   "outputs": [],
   "source": [
    "with beta_binomial:\n",
    "    display(az.summary(trace_bb))"
   ]
  },
  {
   "cell_type": "code",
   "execution_count": null,
   "metadata": {},
   "outputs": [],
   "source": [
    "np.mean(thetas), np.std(thetas) # comparison with hand-made metropolis"
   ]
  },
  {
   "cell_type": "code",
   "execution_count": null,
   "metadata": {},
   "outputs": [],
   "source": [
    "az.plot_trace(trace_bb);"
   ]
  },
  {
   "cell_type": "code",
   "execution_count": null,
   "metadata": {},
   "outputs": [],
   "source": [
    "az.plot_posterior(trace_bb, color=\"b\");"
   ]
  },
  {
   "cell_type": "code",
   "execution_count": null,
   "metadata": {},
   "outputs": [],
   "source": [
    "az.plot_posterior(trace_bb, color=\"C0\")\n",
    "plt.plot(theta_vec, post_var.pdf(theta_vec), color=\"C1\")\n",
    "post_L, post_H = post_var.interval(1-alpha)\n",
    "plt.axvspan(xmin=post_L, xmax=post_H, alpha=0.1, color=\"C1\", label=r\"HDI 95%\");"
   ]
  }
 ],
 "metadata": {
  "kernelspec": {
   "display_name": "Python 3 (ipykernel)",
   "language": "python",
   "name": "python3"
  },
  "language_info": {
   "codemirror_mode": {
    "name": "ipython",
    "version": 3
   },
   "file_extension": ".py",
   "mimetype": "text/x-python",
   "name": "python",
   "nbconvert_exporter": "python",
   "pygments_lexer": "ipython3",
   "version": "3.11.6"
  }
 },
 "nbformat": 4,
 "nbformat_minor": 1
}
