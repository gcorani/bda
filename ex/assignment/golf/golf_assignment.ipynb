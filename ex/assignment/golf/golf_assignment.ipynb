{
 "cells": [
  {
   "cell_type": "code",
   "execution_count": 1,
   "metadata": {},
   "outputs": [],
   "source": [
    "import numpy as np\n",
    "import pandas as pd\n",
    "import matplotlib.pyplot as plt\n",
    "from matplotlib import cm\n",
    "import seaborn as sns"
   ]
  },
  {
   "cell_type": "markdown",
   "metadata": {},
   "source": [
    "# Assignment: Golf putting probability\n",
    "\n",
    "In golf, the term [putt](https://en.wikipedia.org/wiki/Golf_swing#Putt) refers to a precision stroke that is executed by the player from a relatively short distance, aiming at sending the ball directly in the hole. \n",
    "\n",
    "Consider the following dataset of putt strokes executed by professional golf players, where $x$ is the distance from the hole discretized in 19 *levels*; $n$ is the total number of shots recorded at each distance level; and $y$ the number of successful putts, among the $n$ recorded."
   ]
  },
  {
   "cell_type": "code",
   "execution_count": 2,
   "metadata": {},
   "outputs": [
    {
     "data": {
      "text/html": [
       "<div>\n",
       "<style scoped>\n",
       "    .dataframe tbody tr th:only-of-type {\n",
       "        vertical-align: middle;\n",
       "    }\n",
       "\n",
       "    .dataframe tbody tr th {\n",
       "        vertical-align: top;\n",
       "    }\n",
       "\n",
       "    .dataframe thead th {\n",
       "        text-align: right;\n",
       "    }\n",
       "</style>\n",
       "<table border=\"1\" class=\"dataframe\">\n",
       "  <thead>\n",
       "    <tr style=\"text-align: right;\">\n",
       "      <th></th>\n",
       "      <th>x</th>\n",
       "      <th>n</th>\n",
       "      <th>y</th>\n",
       "    </tr>\n",
       "  </thead>\n",
       "  <tbody>\n",
       "    <tr>\n",
       "      <th>0</th>\n",
       "      <td>0.10</td>\n",
       "      <td>1443</td>\n",
       "      <td>1346</td>\n",
       "    </tr>\n",
       "    <tr>\n",
       "      <th>1</th>\n",
       "      <td>0.15</td>\n",
       "      <td>694</td>\n",
       "      <td>577</td>\n",
       "    </tr>\n",
       "    <tr>\n",
       "      <th>2</th>\n",
       "      <td>0.20</td>\n",
       "      <td>455</td>\n",
       "      <td>337</td>\n",
       "    </tr>\n",
       "    <tr>\n",
       "      <th>3</th>\n",
       "      <td>0.25</td>\n",
       "      <td>353</td>\n",
       "      <td>208</td>\n",
       "    </tr>\n",
       "    <tr>\n",
       "      <th>4</th>\n",
       "      <td>0.30</td>\n",
       "      <td>272</td>\n",
       "      <td>149</td>\n",
       "    </tr>\n",
       "  </tbody>\n",
       "</table>\n",
       "</div>"
      ],
      "text/plain": [
       "      x     n     y\n",
       "0  0.10  1443  1346\n",
       "1  0.15   694   577\n",
       "2  0.20   455   337\n",
       "3  0.25   353   208\n",
       "4  0.30   272   149"
      ]
     },
     "execution_count": 2,
     "metadata": {},
     "output_type": "execute_result"
    }
   ],
   "source": [
    "data = pd.read_csv(\"golf.csv\")\n",
    "data[\"x\"] = data[\"x\"] # normalized units. True distance (in feet) is 20*x\n",
    "data[\"y\"] = data[\"y\"]\n",
    "data[\"n\"] = data[\"n\"]\n",
    "data.head()"
   ]
  },
  {
   "cell_type": "markdown",
   "metadata": {},
   "source": [
    "Note that the distance $x$ is provided in 0-1 normalized units for numerical convenience. The true distance (in feet) may be obtained by multiplying $x$ by 20. Please stick with the normalized units in the assignment."
   ]
  },
  {
   "cell_type": "markdown",
   "metadata": {
    "vscode": {
     "languageId": "ruby"
    }
   },
   "source": [
    "## Data exploration\n",
    "\n",
    "We may compute and visualize the fraction of successful puts at all distance levels:"
   ]
  },
  {
   "cell_type": "code",
   "execution_count": 3,
   "metadata": {},
   "outputs": [
    {
     "data": {
      "image/png": "[encoded data removed]",
      "text/plain": [
       "<Figure size 640x480 with 1 Axes>"
      ]
     },
     "metadata": {},
     "output_type": "display_data"
    }
   ],
   "source": [
    "x = data[\"x\"].values\n",
    "y = data[\"y\"].values\n",
    "n = data[\"n\"].values\n",
    "frac = y/n # fraction of successful puts at a given distance level\n",
    "\n",
    "plt.figure()\n",
    "plt.plot(x, frac, \"*\")\n",
    "plt.xlabel(\"Distance from hole (normalized units)\")\n",
    "plt.ylabel(\"Fraction of successful putts (-)\");"
   ]
  },
  {
   "cell_type": "markdown",
   "metadata": {},
   "source": [
    "Clearly, the probability of making the shot decreases with the distance from the hole. We aim at building a probabilistic model that relates the probability of successful putts with the distance from the hole."
   ]
  },
  {
   "cell_type": "markdown",
   "metadata": {},
   "source": [
    "## Modeling assumptions\n",
    "\n",
    "For the probabilistic model, we make the following assumptions:\n",
    "\n",
    "1. The outcome of the $n_i$ strokes at each distance levels $x_i$ are *independent*. Each stroke in the group has probability $p_i$ of success.\n",
    "\n",
    "2. The probability of success $p_i$ depends on the distance $x_i$ as follows:\n",
    "    $$p_i =  \\rm{sigm}(\\alpha x + \\beta)$$ \n",
    "    where \n",
    "    $$\n",
    "    \\rm{sigm}(z) = \\frac{1}{1 + e^{-z}}.\n",
    "    $$\n",
    "3. The prior probability of the parameters \n",
    "$\\theta \\triangleq \\begin{bmatrix}\n",
    "\\alpha \\\\\n",
    "\\beta\n",
    "\\end{bmatrix}$\n",
    "is Gaussian: \n",
    "\\begin{align}\n",
    "\\alpha &\\sim N(\\mu_\\alpha, \\sigma^2_\\alpha), \\qquad \\mu_\\alpha = 0, \\sigma_\\alpha=1\\\\\n",
    "\\beta &\\sim N(\\mu_\\beta, \\sigma^2_\\beta), \\qquad \\mu_\\beta=0, \\sigma_\\beta=1.\n",
    "\\end{align}\n",
    "4. The outcomes of the 19 distance levels are independent of each other, given $\\theta$."
   ]
  },
  {
   "cell_type": "markdown",
   "metadata": {},
   "source": [
    "## 1.1: Probabilistic model\n",
    "\n",
    "* Derive and comment the full probabilistic model."
   ]
  },
  {
   "cell_type": "markdown",
   "metadata": {},
   "source": [
    "Putting together probabilistic assumptions 1-3, we obtain:\n",
    "\n",
    "\\begin{align*}\n",
    "y_i | p_i &\\sim  \\mathrm{Binomial}(n_i, \\rm{sigm}(\\alpha x_i + \\beta))\\\\\n",
    "%p_i &= \\rm{sigm}(\\alpha + \\beta x_i) \\\\\n",
    "\\alpha &\\sim N(0, 1)\\\\\n",
    "\\beta &\\sim N(0, 1).\n",
    "\\end{align*}\n",
    "\n",
    "Furthermore, according to assumption 4:\n",
    "\n",
    "$$P(y|\\theta) = \\prod_i P(y_i|\\theta)$$"
   ]
  },
  {
   "cell_type": "markdown",
   "metadata": {},
   "source": [
    "## 1.2: Maximum Likelihood estimation "
   ]
  },
  {
   "cell_type": "markdown",
   "metadata": {},
   "source": [
    "* Derive an analytical expression of the likelihood function $\\mathcal{L}(\\theta) = P(y|\\theta)$."
   ]
  },
  {
   "cell_type": "markdown",
   "metadata": {},
   "source": [
    "* Derive an analytical expression of the log-likelihood function $\\ell(\\theta)$. "
   ]
  },
  {
   "cell_type": "markdown",
   "metadata": {},
   "source": [
    "* Write a Python function corresponding to the log-likelihood function $\\ell(\\theta)$, up to an additive term that does not depend on $\\theta$."
   ]
  },
  {
   "cell_type": "code",
   "execution_count": 4,
   "metadata": {},
   "outputs": [],
   "source": [
    "def sigmoid(z):\n",
    "    return 1 / (1 + np.exp(-z))"
   ]
  },
  {
   "cell_type": "code",
   "execution_count": 22,
   "metadata": {},
   "outputs": [],
   "source": [
    "def log_lik(alpha, beta):\n",
    "    ..."
   ]
  },
  {
   "cell_type": "markdown",
   "metadata": {},
   "source": [
    "* Visualize the log-likelihood $\\ell(\\theta)$ up to an additive term in 2D.\n",
    "\n",
    "HINT: a reasonable range for plotting is provided in the code snipped below."
   ]
  },
  {
   "cell_type": "code",
   "execution_count": 23,
   "metadata": {},
   "outputs": [
    {
     "data": {
      "text/plain": [
       "Ellipsis"
      ]
     },
     "execution_count": 23,
     "metadata": {},
     "output_type": "execute_result"
    }
   ],
   "source": [
    "dalpha = 0.01\n",
    "dbeta = 0.01\n",
    "ALPHA = np.arange(-6.0, -4.00, dalpha)\n",
    "BETA = np.arange(1.5, 3.0, dbeta)\n",
    "AA, BB = np.meshgrid(ALPHA, BETA, indexing=\"xy\")\n",
    "\n",
    "..."
   ]
  },
  {
   "cell_type": "markdown",
   "metadata": {},
   "source": [
    "* Visualize the likelihood $\\mathcal{L}(\\theta)$ up to a multiplicative term in 2D. Explain the steps and comment the results.\n",
    "\n",
    "HINT: you may (carefully) exponentiate the log-likelihood computed on the grid to solve the previous point."
   ]
  },
  {
   "cell_type": "markdown",
   "metadata": {},
   "source": [
    "* Compute the maximum likelihood (ML) estimate $\\alpha^{\\rm ml}, \\beta^{\\rm ml}$ of the parameters $\\alpha, \\beta$ through numerical optimizations. \n",
    "\n",
    "    Hints:\n",
    "     * You may use the Python function `scipy.optimize.minimize`. \n",
    "     * You may look at the figures above to choose a good starting point for optimization "
   ]
  },
  {
   "cell_type": "markdown",
   "metadata": {},
   "source": [
    "* Visualize the likelihood together with the ML estimate. Comment the results."
   ]
  },
  {
   "cell_type": "markdown",
   "metadata": {},
   "source": [
    "## 1.2: Maximum A Posteriori Estimation"
   ]
  },
  {
   "cell_type": "markdown",
   "metadata": {},
   "source": [
    "* Derive an analytical expression of the *unnormalized* posterior $f(\\theta | y)$, i.e. up to a multiplicative term that does not depend on $\\theta$.\n",
    "\n",
    "Hint: exploit the already-obtained likelihood and the functional form of the Gaussian pdf."
   ]
  },
  {
   "cell_type": "markdown",
   "metadata": {},
   "source": [
    "* Derive an analytical expression of the *unnormalized* log-posterior $\\log f(\\theta | y)$, i.e. up to an additive term that does not depend on $\\theta$."
   ]
  },
  {
   "cell_type": "markdown",
   "metadata": {},
   "source": [
    "* Write a Python function corresponding to the  unnormalized log-posterior."
   ]
  },
  {
   "cell_type": "code",
   "execution_count": 25,
   "metadata": {},
   "outputs": [],
   "source": [
    "def log_post_unscaled(alpha, beta):\n",
    "    \n",
    "    ..."
   ]
  },
  {
   "cell_type": "markdown",
   "metadata": {},
   "source": [
    "* Compute the maximum a posteriori (MAP) estimate $\\alpha^{\\rm MAP}, \\beta^{\\rm MAP}$."
   ]
  },
  {
   "cell_type": "markdown",
   "metadata": {},
   "source": [
    "* Visualize the MAP and ML estimates in 2D, together with the unnormalized posterior. Comment the results."
   ]
  },
  {
   "cell_type": "markdown",
   "metadata": {},
   "source": [
    "## 1.3 Brute-force posterior estimation"
   ]
  },
  {
   "cell_type": "markdown",
   "metadata": {},
   "source": [
    "* Compute (and visualize) a gridding approximation of the *normalized* posterior, i.e. with the correct normalization constant. Explain the steps."
   ]
  },
  {
   "cell_type": "markdown",
   "metadata": {},
   "source": [
    "* Using the grid-based approximation of the posterior, compute the posterior mean of $\\alpha$ and $\\beta$."
   ]
  },
  {
   "cell_type": "markdown",
   "metadata": {},
   "source": [
    "## 1.4 Monte Carlo estimation"
   ]
  },
  {
   "cell_type": "markdown",
   "metadata": {},
   "source": [
    "* Obtain a sample-based approximation of the posterior $f(\\theta | y)$ by implementing the Metropolis algorithm from scratch.\n",
    "   * Run (at least) two chains of the Metropolis algorithm\n",
    "   * Diagnose the outcome of the different chains by overlapping the corresponding density plots. Is the algorithm sampling correctly?\n"
   ]
  },
  {
   "cell_type": "markdown",
   "metadata": {},
   "source": [
    "* Compare the results of gridding and Metropolis"
   ]
  }
 ],
 "metadata": {
  "kernelspec": {
   "display_name": "pymc_env",
   "language": "python",
   "name": "python3"
  },
  "language_info": {
   "codemirror_mode": {
    "name": "ipython",
    "version": 3
   },
   "file_extension": ".py",
   "mimetype": "text/x-python",
   "name": "python",
   "nbconvert_exporter": "python",
   "pygments_lexer": "ipython3",
   "version": "3.12.6"
  }
 },
 "nbformat": 4,
 "nbformat_minor": 2
}
