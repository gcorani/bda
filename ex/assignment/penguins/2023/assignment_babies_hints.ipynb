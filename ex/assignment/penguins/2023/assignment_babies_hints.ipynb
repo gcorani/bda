{
 "cells": [
  {
   "cell_type": "code",
   "execution_count": 1,
   "metadata": {
    "pycharm": {
     "name": "#%%\n"
    }
   },
   "outputs": [],
   "source": [
    "import pandas as pd\n",
    "import numpy as np\n",
    "import matplotlib.pyplot as plt\n",
    "import scipy.stats as stats\n",
    "from scipy.special import logsumexp\n",
    "from matplotlib import cm\n",
    "import arviz as az\n",
    "import pymc as pm"
   ]
  },
  {
   "cell_type": "markdown",
   "metadata": {
    "pycharm": {
     "name": "#%% md\n"
    }
   },
   "source": [
    "# Assignment: Babies"
   ]
  },
  {
   "cell_type": "code",
   "execution_count": 2,
   "metadata": {},
   "outputs": [],
   "source": [
    "babies = pd.read_csv('babies_month_length.csv')"
   ]
  },
  {
   "cell_type": "code",
   "execution_count": 3,
   "metadata": {},
   "outputs": [],
   "source": [
    "month_obs = babies[\"Month\"].values # x variable\n",
    "length_obs = babies[\"Length\"].values # y variable"
   ]
  },
  {
   "cell_type": "markdown",
   "metadata": {
    "pycharm": {
     "name": "#%% md\n"
    }
   },
   "source": [
    "## Problem and data\n",
    "\n",
    "The length of human babies $y$ increases with the month from birth $x$ of the baby. For simplicity, we hypothize a *linear* dependency between $x$ and $y$, see scatterplot below."
   ]
  },
  {
   "cell_type": "code",
   "execution_count": 4,
   "metadata": {},
   "outputs": [
    {
     "data": {
      "image/png": "[encoded data removed]",
      "text/plain": [
       "<Figure size 640x480 with 1 Axes>"
      ]
     },
     "metadata": {},
     "output_type": "display_data"
    }
   ],
   "source": [
    "fig, ax = plt.subplots()\n",
    "ax.plot(babies[\"Month\"], babies[\"Length\"], 'C0.', alpha=1.0, label=\"samples\")\n",
    "#ax.plot(0, alpha, \"r*\", label=\"alpha\")\n",
    "ax.set_ylabel(\"Length $y$ (cm)\")\n",
    "ax.set_xlabel(\"Month $x$ (-)\")\n",
    "plt.legend();"
   ]
  },
  {
   "cell_type": "markdown",
   "metadata": {},
   "source": [
    "While the linear hypotesis seems reasonable, the points do not lie exactly on a line. In order to better characterize the data, we introduce the following probabilistic assumptions:\n",
    "\n",
    "\n",
    "\n",
    "1. The average of the baby length $y_{\\mu}$ at a given month $x$ is linear with intercept and slope coefficients \n",
    "   $\\alpha$ and $\\beta$, respectively:  $$y_{\\mu} = \\alpha + \\beta x$$\n",
    "\n",
    "2. The actual baby length is Gaussian with mean $y_{\\mu}$ and standard deviation $\\sigma$\n",
    "3. The prior probability of $\\beta$ is Gaussian with mean $0$ and standard deviation $\\sigma_\\beta=0.5$\n",
    "4. The prior probability of $\\sigma$ is a Half-Normal with standard deviation $\\sigma_\\sigma=1.0$\n",
    "5. The intercept coefficient $\\alpha$ is considered known and equal to $55.0$\n",
    "6. The probabilities of the different observations are independent of each other, given  $\\beta, \\sigma$\n",
    "\n",
    "\n",
    "Note: Condition 5 is rather artificial. It has been introduced here to limit the number of random variables and allow implementation of different approximate inference techniques."
   ]
  },
  {
   "cell_type": "code",
   "execution_count": 5,
   "metadata": {},
   "outputs": [],
   "source": [
    "# Probabilistic model constants\n",
    "alpha = 55.0\n",
    "sigma_sigma = 1.0\n",
    "sigma_beta = 0.5"
   ]
  },
  {
   "cell_type": "markdown",
   "metadata": {
    "pycharm": {
     "name": "#%% md\n"
    }
   },
   "source": [
    "## 1.1: Probabilistic model\n",
    "\n",
    "* Derive and comment the full probabilistic model."
   ]
  },
  {
   "cell_type": "markdown",
   "metadata": {
    "pycharm": {
     "name": "#%% md\n"
    }
   },
   "source": [
    "## 1.2: Maximum Likelihood estimation \n"
   ]
  },
  {
   "cell_type": "markdown",
   "metadata": {},
   "source": [
    "* Derive an analytical expression of the likelihood function $\\mathcal{L}(\\beta, \\sigma) = f(y|\\beta, \\sigma)$."
   ]
  },
  {
   "cell_type": "markdown",
   "metadata": {},
   "source": [
    "* Derive an analytical expression of the log-likelihood function $\\ell(\\beta, \\sigma) = \\log f(y|\\beta, \\sigma)$."
   ]
  },
  {
   "cell_type": "markdown",
   "metadata": {},
   "source": [
    "* Write a Python function corresponding to the log-likelihood function $\\ell(\\beta, \\sigma)$. You may ignore additive factors which do not depend on $\\beta, \\sigma$."
   ]
  },
  {
   "cell_type": "markdown",
   "metadata": {},
   "source": [
    "* Visualize the log-likelihood function $\\ell(\\beta, \\sigma)$ in 2D\n",
    "\n",
    "Hint: good ranges for visualizations are defined in the code below:"
   ]
  },
  {
   "cell_type": "code",
   "execution_count": 6,
   "metadata": {},
   "outputs": [],
   "source": [
    "dbeta = 0.005\n",
    "dsigma = 0.005\n",
    "b_min, b_max = 1.2, 1.7\n",
    "s_min, s_max = 0.7, 4.0\n",
    "BETA = np.arange(b_min, b_max, dbeta)\n",
    "SIGMA = np.arange(s_min, s_max, dsigma)"
   ]
  },
  {
   "cell_type": "markdown",
   "metadata": {},
   "source": [
    "* Obtain the maximum likelihood estimate $\\beta^{\\rm ml}, \\sigma^{\\rm ml}$\n",
    "\n",
    "Hint: choose a good point to initialize the optimization"
   ]
  },
  {
   "cell_type": "markdown",
   "metadata": {},
   "source": [
    "* Visualize the log-likelihood together with the maximum likelihood estimate"
   ]
  },
  {
   "cell_type": "markdown",
   "metadata": {},
   "source": [
    "* Visualize the *likelihood* function $\\mathcal{L}(\\sigma, \\beta)$ in 2D up to a multiplicative constant"
   ]
  },
  {
   "cell_type": "markdown",
   "metadata": {
    "pycharm": {
     "name": "#%% md\n"
    }
   },
   "source": [
    "## 1.2: Maximum A Posteriori Estimation"
   ]
  },
  {
   "cell_type": "markdown",
   "metadata": {},
   "source": [
    "* Derive an analytical expression of the posterior $f(\\theta | y)$, up to a *multiplicative* factor that does not depend on $\\beta, \\sigma$. \n",
    "\n",
    "Hints: \n",
    "\n",
    "1. Exploit the already-obtained likelihood and the functional form of the Gaussian pdf.\n",
    "2. You may look up the probability density function (pdf) of the Half-Normal on [wikipedia](https://en.wikipedia.org/wiki/Half-normal_distribution)."
   ]
  },
  {
   "cell_type": "markdown",
   "metadata": {
    "pycharm": {
     "name": "#%% md\n"
    }
   },
   "source": [
    "* Derive an analytical expression of the log-posterior $\\log f(\\theta | y)$, up to an *additive* factor that does not depend on $\\beta, \\sigma$. \n"
   ]
  },
  {
   "cell_type": "markdown",
   "metadata": {
    "pycharm": {
     "name": "#%% md\n"
    }
   },
   "source": [
    "* Write the log-posterior (up to an additive factor) as Python functions."
   ]
  },
  {
   "cell_type": "markdown",
   "metadata": {
    "pycharm": {
     "name": "#%% md\n"
    }
   },
   "source": [
    "* Compute the maximum a posteriore estimate $\\beta^{\\rm MAP}, \\sigma^{\\rm MAP}$."
   ]
  },
  {
   "cell_type": "markdown",
   "metadata": {
    "pycharm": {
     "name": "#%% md\n"
    }
   },
   "source": [
    "* Visualize the MAP estimate together with the log-posterior in 2D. Comment the results."
   ]
  },
  {
   "cell_type": "markdown",
   "metadata": {
    "pycharm": {
     "name": "#%% md\n"
    }
   },
   "source": [
    "## 1.3 Gridding (aka brute-force) posterior estimation"
   ]
  },
  {
   "cell_type": "markdown",
   "metadata": {
    "pycharm": {
     "name": "#%% md\n"
    }
   },
   "source": [
    "* Compute a gridding approximation of the *normalized* posterior, with the correct normalization constant. Explain the passages."
   ]
  },
  {
   "cell_type": "markdown",
   "metadata": {},
   "source": [
    "* Visualize the *normalized* posterior, together with the ML and MAP estimates"
   ]
  },
  {
   "cell_type": "markdown",
   "metadata": {
    "pycharm": {
     "name": "#%% md\n"
    }
   },
   "source": [
    "* Using the grid-based approximation of the posterior, compute the posterior mean of $\\beta$ and $\\sigma$."
   ]
  },
  {
   "cell_type": "markdown",
   "metadata": {
    "pycharm": {
     "name": "#%% md\n"
    }
   },
   "source": [
    "This is yet another meaningful point estimate of the latent variables $\\beta, \\sigma$ "
   ]
  },
  {
   "cell_type": "markdown",
   "metadata": {
    "pycharm": {
     "name": "#%% md\n"
    }
   },
   "source": [
    "## 1.4 Monte-carlo estimation"
   ]
  },
  {
   "cell_type": "markdown",
   "metadata": {
    "pycharm": {
     "name": "#%% md\n"
    }
   },
   "source": [
    "* Obtain a sample-based approximation of the posterior $f(\\beta, \\sigma | y)$ using pymc."
   ]
  },
  {
   "cell_type": "markdown",
   "metadata": {},
   "source": [
    "* Obtain a sample-based approximation of the posterior $f(\\beta, \\sigma | y)$ by implementing the Metropolis algorithm from scratch."
   ]
  },
  {
   "cell_type": "markdown",
   "metadata": {},
   "source": [
    "* Compare the posterior estimation results obtained with the different techniques (gridding, pymc, Metropolis) and comment the results."
   ]
  }
 ],
 "metadata": {
  "kernelspec": {
   "display_name": "Python 3 (ipykernel)",
   "language": "python",
   "name": "python3"
  },
  "language_info": {
   "codemirror_mode": {
    "name": "ipython",
    "version": 3
   },
   "file_extension": ".py",
   "mimetype": "text/x-python",
   "name": "python",
   "nbconvert_exporter": "python",
   "pygments_lexer": "ipython3",
   "version": "3.11.6"
  }
 },
 "nbformat": 4,
 "nbformat_minor": 4
}
