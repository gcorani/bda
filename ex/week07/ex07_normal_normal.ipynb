{
 "cells": [
  {
   "cell_type": "code",
   "execution_count": null,
   "metadata": {
    "pycharm": {
     "name": "#%%\n"
    }
   },
   "outputs": [],
   "source": [
    "import numpy as np\n",
    "import pandas as pd\n",
    "import scipy\n",
    "import scipy.stats as stats\n",
    "import matplotlib.pyplot as plt\n",
    "from matplotlib import cm\n",
    "import pymc as pm\n",
    "import arviz as az\n",
    "import seaborn as sns"
   ]
  },
  {
   "cell_type": "markdown",
   "metadata": {},
   "source": [
    "# Exercise session 4: Normal-normal"
   ]
  },
  {
   "cell_type": "markdown",
   "metadata": {},
   "source": [
    "* Derive a normal-normal probabilistic model for the heigth of the Swiss population compatible with the following prior assumptions:\n",
    "\n",
    "1. The mean height of the population lies with 99% probability between 160 and 190 cm\n",
    "2. The heigth of each individual lies with 99% probability between 100 and 250 cm\n",
    "\n",
    "Treat the population mean *and* standard deviation as random variables.\n",
    "\n",
    "\n",
    "Two Swiss individuals are observed, their heighs are 168, 178 cm"
   ]
  },
  {
   "cell_type": "code",
   "execution_count": null,
   "metadata": {},
   "outputs": [],
   "source": [
    "y = np.array([168, 178])"
   ]
  },
  {
   "cell_type": "markdown",
   "metadata": {},
   "source": [
    "The probabilistic model is:\n",
    "\n",
    "\\begin{align}\n",
    " \\mu    & \\sim N(\\mu_\\mu, \\sigma_\\mu)\\\\\n",
    " \\sigma & \\sim \\textrm{Half-Normal}(\\xi)\\\\\n",
    " \\vec{y}|\\mu, \\sigma & \\sim N(\\mu, \\sigma)\n",
    "\\end{align}\n",
    "\n",
    "\n",
    "The *hyper-parameters* of the probabilistic models are chosen in accordance with the prior assumptions as follows:\n",
    " - The prior mean of the population mean $\\mu_\\mu$ could be set to (190 + 160)/2 = 175 cm. <br/>\n",
    " - The prior standard deviation of the population mean $\\sigma_\\mu$ could be set to (190 -175)/3 = 5 cm. <br/>\n",
    " - A plausible value for the standard deviation $\\sigma$ of the individuals within the population is (250-100)/6 = 25.\n",
    "A half-normal distribution with scale parameter $\\xi=38$ has median slightly over 25. "
   ]
  },
  {
   "cell_type": "code",
   "execution_count": null,
   "metadata": {},
   "outputs": [],
   "source": [
    " pd.DataFrame(stats.halfnorm.rvs(size=1000000, scale=38)).median() # approx 25"
   ]
  },
  {
   "cell_type": "markdown",
   "metadata": {},
   "source": [
    "Then, we can set $\\xi=38$."
   ]
  },
  {
   "cell_type": "code",
   "execution_count": null,
   "metadata": {},
   "outputs": [],
   "source": [
    " pd.DataFrame(stats.halfnorm.rvs(size=1000000, scale=38)).mean() # approx 25"
   ]
  },
  {
   "cell_type": "markdown",
   "metadata": {},
   "source": [
    "* Implement the model in pymc3"
   ]
  },
  {
   "cell_type": "code",
   "execution_count": null,
   "metadata": {},
   "outputs": [],
   "source": [
    "mu_mu = 175 # mean of the prior mean's distribution\n",
    "sigma_mu = 5 # standard deviation of the prior mean's distribution \n",
    "xi = 38 # scale parameter of the prior population's standard deviation\n",
    "#pd.DataFrame(stats.halfnorm.rvs(size=1000, scale=38)).median() # approx 24"
   ]
  },
  {
   "cell_type": "code",
   "execution_count": null,
   "metadata": {},
   "outputs": [],
   "source": [
    "with pm.Model() as model_height:\n",
    "\n",
    "    # prior distribution\n",
    "    mu = pm.Normal('mu', mu_mu, sigma_mu) # prior meam\n",
    "    sigma = pm.HalfNormal('sigma', sigma=38) # prior std\n",
    "\n",
    "    # observation model (likelihood)\n",
    "    y_obs = pm.Normal('y_obs', mu=mu, sigma=sigma, observed=y)\n",
    "    \n",
    "    trace_height = pm.sample(draws=2000, tune=2000) # defaults: 1000, 1000"
   ]
  },
  {
   "cell_type": "code",
   "execution_count": null,
   "metadata": {},
   "outputs": [],
   "source": [
    "pm.model_to_graphviz(model_height) # pip install graphviz, apt-get install graphviz (on ubuntu)"
   ]
  },
  {
   "cell_type": "code",
   "execution_count": null,
   "metadata": {},
   "outputs": [],
   "source": [
    "with model_height:\n",
    "    display(az.summary(trace_height))"
   ]
  },
  {
   "cell_type": "code",
   "execution_count": null,
   "metadata": {},
   "outputs": [],
   "source": [
    "with model_height:\n",
    "    az.plot_trace(trace_height, figsize=(10, 6));"
   ]
  },
  {
   "cell_type": "code",
   "execution_count": null,
   "metadata": {},
   "outputs": [],
   "source": [
    "with model_height:\n",
    "    az.plot_posterior(trace_height);"
   ]
  },
  {
   "cell_type": "code",
   "execution_count": null,
   "metadata": {},
   "outputs": [],
   "source": [
    "with model_height:\n",
    "    az.plot_pair(trace_height,\n",
    "                 kind=\"kde\", # scatter, hexbin, kde\n",
    "                 var_names=[\"sigma\", \"mu\"], \n",
    "                 marginals=True);"
   ]
  },
  {
   "cell_type": "code",
   "execution_count": null,
   "metadata": {},
   "outputs": [],
   "source": [
    "with model_height:\n",
    "    az.plot_pair(trace_height,\n",
    "                 kind=\"scatter\", \n",
    "                 var_names=[\"sigma\", \"mu\"], \n",
    "                 marginals=True);"
   ]
  },
  {
   "cell_type": "markdown",
   "metadata": {},
   "source": [
    "* Visualize the prior density $f_{\\rm prior}(\\mu, \\sigma)$ in 2D"
   ]
  },
  {
   "cell_type": "code",
   "execution_count": null,
   "metadata": {},
   "outputs": [],
   "source": [
    "prior_mu = stats.norm(loc=mu_mu, scale=sigma_mu)\n",
    "prior_sigma = stats.halfnorm(scale=xi)\n",
    "\n",
    "def prior_pdf_fun(mu, sigma):\n",
    "    return prior_mu.pdf(mu)*prior_sigma.pdf(sigma)\n",
    "\n",
    "mu_vec = np.linspace(145, 205, 100) # min, max points\n",
    "sigma_vec = np.linspace(0.01, 100, 120) # min, max points\n",
    "prior_pdf_mat = np.zeros((len(mu_vec), len(sigma_vec))) \n",
    "\n",
    "\n",
    "for mu_idx, mu_val in enumerate(mu_vec):\n",
    "    for sigma_idx, sigma_val in enumerate(sigma_vec):\n",
    "        prior_pdf_mat[mu_idx, sigma_idx] = prior_pdf_fun(mu_val, sigma_val) #prior_mu.pdf(mu_val)*prior_sigma.pdf(sigma_val)"
   ]
  },
  {
   "cell_type": "code",
   "execution_count": null,
   "metadata": {},
   "outputs": [],
   "source": [
    "fig, ax = plt.subplots(figsize=(10, 6))\n",
    "c = ax.pcolormesh(sigma_vec, mu_vec, prior_pdf_mat, cmap=cm.coolwarm, shading='auto')\n",
    "fig.colorbar(c, ax=ax)\n",
    "ax.set_title(f\"Prior pdf\")\n",
    "ax.set_xlabel(r\"$\\sigma$\")\n",
    "ax.set_ylabel(r\"$\\mu$\");"
   ]
  },
  {
   "cell_type": "markdown",
   "metadata": {},
   "source": [
    "* Obtain a gridding approximation of the posterior $f(\\mu, \\sigma | \\vec{y})$ and visualize it in 2D."
   ]
  },
  {
   "cell_type": "markdown",
   "metadata": {},
   "source": [
    "As always, the posterior is proportional to the product prior $\\times$ likelihood:\n",
    "\n",
    "$$f(\\mu, \\sigma | \\vec{y}) \\propto f_{\\rm prior}(\\mu, \\sigma)(\\vec{y} | \\mu, \\sigma)$$ \n",
    "\n",
    "Gridding, aka brute-forcing, consists in computing this product on a dense grid, and then (approximately) normalizing the result so that it integrates to 1."
   ]
  },
  {
   "cell_type": "code",
   "execution_count": null,
   "metadata": {},
   "outputs": [],
   "source": [
    "def lik_fun(mu, sigma, observed=y):\n",
    "    return np.prod(stats.norm.pdf(observed, loc=mu, scale=sigma))\n",
    "\n",
    "dmu = np.diff(mu_vec)[0]\n",
    "dsigma = np.diff(sigma_vec)[0]\n",
    "post_pdf_mat = np.zeros((len(mu_vec), len(sigma_vec))) \n",
    "\n",
    "for mu_idx, mu_val in enumerate(mu_vec):\n",
    "    for sigma_idx, sigma_val in enumerate(sigma_vec):\n",
    "        post_pdf_mat[mu_idx, sigma_idx] = prior_pdf_fun(mu_val, sigma_val) * \\\n",
    "             lik_fun(mu_val, sigma_val, observed=y)\n",
    "        #prior_f = prior_mu.pdf(mu_val) * prior_sigma.pdf(sigma_val)\n",
    "        #lik = np.prod(stats.norm.pdf(y, loc=mu_val, scale=sigma_val))\n",
    "        #post_pdf_mat[mu_idx, sigma_idx] = prior_f * lik\n",
    "\n",
    "post_pdf_mat = post_pdf_mat/(np.sum(post_pdf_mat)*dmu*dsigma) # normalization"
   ]
  },
  {
   "cell_type": "code",
   "execution_count": null,
   "metadata": {},
   "outputs": [],
   "source": [
    "fig, ax = plt.subplots(figsize=(10, 6))\n",
    "c = ax.pcolormesh(sigma_vec, mu_vec, post_pdf_mat, cmap=cm.coolwarm, shading='auto')\n",
    "fig.colorbar(c, ax=ax)\n",
    "ax.set_title(r\"Posterior density $f(\\mu, \\sigma | \\vec{y})$, gridding approximation\")\n",
    "ax.set_xlabel(r\"$\\sigma$\")\n",
    "ax.set_ylabel(r\"$\\mu$\");"
   ]
  },
  {
   "cell_type": "markdown",
   "metadata": {},
   "source": [
    "The gridding posterior may be compared with the MC samples from pymc3"
   ]
  },
  {
   "cell_type": "code",
   "execution_count": null,
   "metadata": {},
   "outputs": [],
   "source": [
    "post_samples = az.extract(trace_height.posterior) #az.extract_dataset(trace_height.posterior)\n",
    "fig, ax = plt.subplots(figsize=(10, 6))\n",
    "sns.kdeplot(x=post_samples.sigma.values, y=post_samples.mu.values,\n",
    "            fill=True, cmap=cm.coolwarm, levels=20)\n",
    "fig.colorbar(c, ax=ax)\n",
    "ax.set_xlabel(r\"$\\sigma$\")\n",
    "ax.set_ylabel(r\"$\\mu$\")\n",
    "ax.set_xlim([0.01, 120])\n",
    "ax.set_ylim([145, 205])\n",
    "plt.title(r\"Posterior density $f(\\mu, \\sigma | \\vec{y})$, KDE of MC samples from pymc3\");"
   ]
  },
  {
   "cell_type": "markdown",
   "metadata": {},
   "source": [
    "There seems to be an excellent match!"
   ]
  },
  {
   "cell_type": "markdown",
   "metadata": {},
   "source": [
    "* Obtain a gridding approximation of the posterior $f(\\mu, \\sigma | \\vec{y})$ using a log-domain implementation. Visualize the result in 2D."
   ]
  },
  {
   "cell_type": "code",
   "execution_count": null,
   "metadata": {
    "pycharm": {
     "name": "#%%\n"
    }
   },
   "outputs": [],
   "source": [
    "def post_logpdf_fun(mu, sigma, observed=y):\n",
    "    pass\n",
    "\n",
    "# TODO"
   ]
  },
  {
   "cell_type": "markdown",
   "metadata": {},
   "source": [
    "* What happens to the two gridding approximations (basic and in log domain) if the observation is `y_long` defined below?"
   ]
  },
  {
   "cell_type": "code",
   "execution_count": null,
   "metadata": {},
   "outputs": [],
   "source": [
    "y_long = np.repeat(y, 200) # A much longer observation. "
   ]
  },
  {
   "cell_type": "code",
   "execution_count": null,
   "metadata": {},
   "outputs": [],
   "source": [
    "# TODO repeat gridding with the new observation y_long and discuss the results"
   ]
  },
  {
   "cell_type": "markdown",
   "metadata": {},
   "source": [
    "* Obtain a sample-based approximation of the posterior implementing Metropolis from scratch. Visualize the results."
   ]
  },
  {
   "cell_type": "code",
   "execution_count": null,
   "metadata": {},
   "outputs": [],
   "source": [
    "def p_ratio_fun(mu_propose, sigma_propose, mu_previous, sigma_previous):\n",
    "    log_p_propose = post_logpdf_fun(mu_propose, sigma_propose, observed=y)\n",
    "    log_p_previous = post_logpdf_fun(mu_previous, sigma_previous, observed=y)\n",
    "    log_p_ratio = log_p_propose - log_p_previous \n",
    "    p_ratio = np.exp(log_p_ratio)\n",
    "    return p_ratio"
   ]
  },
  {
   "cell_type": "code",
   "execution_count": null,
   "metadata": {},
   "outputs": [],
   "source": [
    "draws = 4_000 # number of Metropolis draws\n",
    "tune = 1_000 # tuning samples to be discarded\n",
    "mu_0 = 175.0 # initial value for alpha\n",
    "sigma_0 = 10.0 # initial value for alpha\n",
    "\n",
    "sigma_prop_mu = 2.0 # standard deviation of the proposal for mu\n",
    "sigma_prop_sigma = 5.0 # standard deviation of the proposal for sigma\n",
    "\n",
    "N = draws + tune # total number of Metropolis iterations to be run\n",
    "\n",
    "# TODO complete Metropolis, generate relevant statistics and plots"
   ]
  },
  {
   "cell_type": "markdown",
   "metadata": {},
   "source": [
    "* Compare the solutions obtained with the different techniques (gridding, metropolis, pymc3)."
   ]
  }
 ],
 "metadata": {
  "kernelspec": {
   "display_name": "Python 3 (ipykernel)",
   "language": "python",
   "name": "python3"
  },
  "language_info": {
   "codemirror_mode": {
    "name": "ipython",
    "version": 3
   },
   "file_extension": ".py",
   "mimetype": "text/x-python",
   "name": "python",
   "nbconvert_exporter": "python",
   "pygments_lexer": "ipython3",
   "version": "3.11.6"
  }
 },
 "nbformat": 4,
 "nbformat_minor": 1
}
