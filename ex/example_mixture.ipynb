{
 "cells": [
  {
   "cell_type": "code",
   "execution_count": 1,
   "metadata": {
    "pycharm": {
     "name": "#%%\n"
    }
   },
   "outputs": [],
   "source": [
    "import numpy as np\n",
    "import scipy\n",
    "import scipy.stats as stats\n",
    "import matplotlib.pyplot as plt\n",
    "import seaborn as sns\n",
    "import pymc3 as pm\n",
    "import arviz as az\n",
    "import pandas as pd\n",
    "import plotly.express as px"
   ]
  },
  {
   "cell_type": "markdown",
   "metadata": {
    "pycharm": {
     "name": "#%% md\n"
    }
   },
   "source": [
    "## Factor data"
   ]
  },
  {
   "cell_type": "code",
   "execution_count": 2,
   "metadata": {
    "pycharm": {
     "name": "#%%\n"
    }
   },
   "outputs": [
    {
     "data": {
      "text/html": [
       "<div>\n",
       "<style scoped>\n",
       "    .dataframe tbody tr th:only-of-type {\n",
       "        vertical-align: middle;\n",
       "    }\n",
       "\n",
       "    .dataframe tbody tr th {\n",
       "        vertical-align: top;\n",
       "    }\n",
       "\n",
       "    .dataframe thead th {\n",
       "        text-align: right;\n",
       "    }\n",
       "</style>\n",
       "<table border=\"1\" class=\"dataframe\">\n",
       "  <thead>\n",
       "    <tr style=\"text-align: right;\">\n",
       "      <th></th>\n",
       "      <th>factor</th>\n",
       "      <th>value</th>\n",
       "    </tr>\n",
       "  </thead>\n",
       "  <tbody>\n",
       "    <tr>\n",
       "      <th>0</th>\n",
       "      <td>0</td>\n",
       "      <td>-1.230743</td>\n",
       "    </tr>\n",
       "    <tr>\n",
       "      <th>1</th>\n",
       "      <td>0</td>\n",
       "      <td>0.636513</td>\n",
       "    </tr>\n",
       "    <tr>\n",
       "      <th>2</th>\n",
       "      <td>0</td>\n",
       "      <td>-0.284654</td>\n",
       "    </tr>\n",
       "    <tr>\n",
       "      <th>3</th>\n",
       "      <td>0</td>\n",
       "      <td>0.516209</td>\n",
       "    </tr>\n",
       "    <tr>\n",
       "      <th>4</th>\n",
       "      <td>0</td>\n",
       "      <td>-0.459948</td>\n",
       "    </tr>\n",
       "    <tr>\n",
       "      <th>...</th>\n",
       "      <td>...</td>\n",
       "      <td>...</td>\n",
       "    </tr>\n",
       "    <tr>\n",
       "      <th>195</th>\n",
       "      <td>1</td>\n",
       "      <td>5.166010</td>\n",
       "    </tr>\n",
       "    <tr>\n",
       "      <th>196</th>\n",
       "      <td>1</td>\n",
       "      <td>4.047624</td>\n",
       "    </tr>\n",
       "    <tr>\n",
       "      <th>197</th>\n",
       "      <td>1</td>\n",
       "      <td>5.832670</td>\n",
       "    </tr>\n",
       "    <tr>\n",
       "      <th>198</th>\n",
       "      <td>1</td>\n",
       "      <td>5.531668</td>\n",
       "    </tr>\n",
       "    <tr>\n",
       "      <th>199</th>\n",
       "      <td>1</td>\n",
       "      <td>5.212259</td>\n",
       "    </tr>\n",
       "  </tbody>\n",
       "</table>\n",
       "<p>200 rows × 2 columns</p>\n",
       "</div>"
      ],
      "text/plain": [
       "    factor     value\n",
       "0        0 -1.230743\n",
       "1        0  0.636513\n",
       "2        0 -0.284654\n",
       "3        0  0.516209\n",
       "4        0 -0.459948\n",
       "..     ...       ...\n",
       "195      1  5.166010\n",
       "196      1  4.047624\n",
       "197      1  5.832670\n",
       "198      1  5.531668\n",
       "199      1  5.212259\n",
       "\n",
       "[200 rows x 2 columns]"
      ]
     },
     "execution_count": 2,
     "metadata": {},
     "output_type": "execute_result"
    }
   ],
   "source": [
    "mean_1 = 0\n",
    "mean_2 = 5\n",
    "std = 1\n",
    "N = 100\n",
    "y = np.r_[np.random.randn(N)*std + mean_1, np.random.randn(N)*std + mean_2]\n",
    "f = np.array(np.r_[np.zeros(N), np.ones(N)]).astype(\"int\")\n",
    "df = pd.DataFrame({\"factor\": f, \"value\": y})\n",
    "df[\"factor\"] = df[\"factor\"].astype(\"category\")\n",
    "df"
   ]
  },
  {
   "cell_type": "code",
   "execution_count": 3,
   "metadata": {
    "scrolled": false
   },
   "outputs": [
    {
     "data": {
      "text/html": [
       "<div>\n",
       "<style scoped>\n",
       "    .dataframe tbody tr th:only-of-type {\n",
       "        vertical-align: middle;\n",
       "    }\n",
       "\n",
       "    .dataframe tbody tr th {\n",
       "        vertical-align: top;\n",
       "    }\n",
       "\n",
       "    .dataframe thead tr th {\n",
       "        text-align: left;\n",
       "    }\n",
       "\n",
       "    .dataframe thead tr:last-of-type th {\n",
       "        text-align: right;\n",
       "    }\n",
       "</style>\n",
       "<table border=\"1\" class=\"dataframe\">\n",
       "  <thead>\n",
       "    <tr>\n",
       "      <th></th>\n",
       "      <th colspan=\"2\" halign=\"left\">value</th>\n",
       "    </tr>\n",
       "    <tr>\n",
       "      <th></th>\n",
       "      <th>mean</th>\n",
       "      <th>std</th>\n",
       "    </tr>\n",
       "    <tr>\n",
       "      <th>factor</th>\n",
       "      <th></th>\n",
       "      <th></th>\n",
       "    </tr>\n",
       "  </thead>\n",
       "  <tbody>\n",
       "    <tr>\n",
       "      <th>0</th>\n",
       "      <td>0.026446</td>\n",
       "      <td>0.944169</td>\n",
       "    </tr>\n",
       "    <tr>\n",
       "      <th>1</th>\n",
       "      <td>5.005803</td>\n",
       "      <td>0.989283</td>\n",
       "    </tr>\n",
       "  </tbody>\n",
       "</table>\n",
       "</div>"
      ],
      "text/plain": [
       "           value          \n",
       "            mean       std\n",
       "factor                    \n",
       "0       0.026446  0.944169\n",
       "1       5.005803  0.989283"
      ]
     },
     "execution_count": 3,
     "metadata": {},
     "output_type": "execute_result"
    },
    {
     "data": {
      "image/png": "[encoded data removed]",
      "text/plain": [
       "<Figure size 432x288 with 1 Axes>"
      ]
     },
     "metadata": {
      "needs_background": "light"
     },
     "output_type": "display_data"
    }
   ],
   "source": [
    "#px.histogram(df, x=\"value\", color=\"factor\")\n",
    "sns.boxplot(data=df, x=\"value\", y=\"factor\")\n",
    "df.groupby(\"factor\").agg([\"mean\", \"std\"])"
   ]
  },
  {
   "cell_type": "markdown",
   "metadata": {
    "pycharm": {
     "name": "#%% md\n"
    }
   },
   "source": [
    "## Hierarchical model, common std\n",
    "\n",
    "\\begin{align*}\n",
    "y_{ij} &\\sim \\mathcal{N}(\\mu_j, \\sigma_j) \\\\\n",
    "\\mu_{j} &\\sim \\mathcal{N}(0, 1) \\\\\n",
    "\\sigma_{j} &\\sim |\\mathcal{N}|(0, \\sigma_j) \\\\\n",
    "\\end{align*}\n",
    "\n"
   ]
  },
  {
   "cell_type": "markdown",
   "metadata": {},
   "source": [
    "* Implement the hierarchical model with common std in pymc3"
   ]
  },
  {
   "cell_type": "code",
   "execution_count": 4,
   "metadata": {},
   "outputs": [],
   "source": [
    "df[\"factor_id\"] = df[\"factor\"].cat.codes\n",
    "factors = list(df[\"factor\"].cat.categories)\n",
    "n_factors = len(factors) # number of machines (6)"
   ]
  },
  {
   "cell_type": "code",
   "execution_count": 14,
   "metadata": {
    "pycharm": {
     "name": "#%%\n"
    }
   },
   "outputs": [
    {
     "name": "stderr",
     "output_type": "stream",
     "text": [
      "Auto-assigning NUTS sampler...\n",
      "Initializing NUTS using jitter+adapt_diag...\n",
      "Multiprocess sampling (4 chains in 4 jobs)\n",
      "NUTS: [pred_y, pred_mu, std, group_mu, hyper_mu_std, hyper_mu_mu]\n"
     ]
    },
    {
     "data": {
      "text/html": [
       "\n",
       "    <div>\n",
       "        <style>\n",
       "            /* Turns off some styling */\n",
       "            progress {\n",
       "                /* gets rid of default border in Firefox and Opera. */\n",
       "                border: none;\n",
       "                /* Needs to be in here for Safari polyfill so background images work as expected. */\n",
       "                background-size: auto;\n",
       "            }\n",
       "            .progress-bar-interrupted, .progress-bar-interrupted::-webkit-progress-bar {\n",
       "                background: #F44336;\n",
       "            }\n",
       "        </style>\n",
       "      <progress value='8000' class='' max='8000' style='width:300px; height:20px; vertical-align: middle;'></progress>\n",
       "      100.00% [8000/8000 00:44<00:00 Sampling 4 chains, 0 divergences]\n",
       "    </div>\n",
       "    "
      ],
      "text/plain": [
       "<IPython.core.display.HTML object>"
      ]
     },
     "metadata": {},
     "output_type": "display_data"
    },
    {
     "name": "stderr",
     "output_type": "stream",
     "text": [
      "Sampling 4 chains for 1_000 tune and 1_000 draw iterations (4_000 + 4_000 draws total) took 44 seconds.\n",
      "The acceptance probability does not match the target. It is 0.8908318853756659, but should be close to 0.8. Try to increase the number of tuning steps.\n",
      "The acceptance probability does not match the target. It is 0.9526569171452879, but should be close to 0.8. Try to increase the number of tuning steps.\n",
      "The number of effective samples is smaller than 10% for some parameters.\n"
     ]
    }
   ],
   "source": [
    "with pm.Model() as model_hierarchical:\n",
    "    \n",
    "    # hyper_priors\n",
    "    hyper_mu_mu = pm.Normal('hyper_mu_mu', mu=92, sd=100)\n",
    "    hyper_mu_std = pm.HalfNormal('hyper_mu_std', sd=100)\n",
    "\n",
    "    # priors    \n",
    "    group_mu = pm.Normal('group_mu', mu=hyper_mu_mu, sd=hyper_mu_std, shape=n_factors)\n",
    "    std = pm.HalfNormal('std', sd=100)\n",
    "    y = pm.Normal('y', mu=group_mu[df[\"factor_id\"]], sd=std, observed=df[\"value\"])\n",
    "    \n",
    "    # prediction\n",
    "    pred_mu = pm.Normal('pred_mu', mu=hyper_mu_mu, sd=hyper_mu_std)\n",
    "    pred_y = pm.Normal('pred_y', mu=pred_mu, sd=std)\n",
    "    \n",
    "    \n",
    "    trace_hierarchical = pm.sample(1000, return_inferencedata=True)"
   ]
  },
  {
   "cell_type": "code",
   "execution_count": 12,
   "metadata": {
    "pycharm": {
     "name": "#%%\n"
    }
   },
   "outputs": [
    {
     "data": {
      "text/html": [
       "<div>\n",
       "<style scoped>\n",
       "    .dataframe tbody tr th:only-of-type {\n",
       "        vertical-align: middle;\n",
       "    }\n",
       "\n",
       "    .dataframe tbody tr th {\n",
       "        vertical-align: top;\n",
       "    }\n",
       "\n",
       "    .dataframe thead th {\n",
       "        text-align: right;\n",
       "    }\n",
       "</style>\n",
       "<table border=\"1\" class=\"dataframe\">\n",
       "  <thead>\n",
       "    <tr style=\"text-align: right;\">\n",
       "      <th></th>\n",
       "      <th>mean</th>\n",
       "      <th>sd</th>\n",
       "      <th>hdi_3%</th>\n",
       "      <th>hdi_97%</th>\n",
       "      <th>mcse_mean</th>\n",
       "      <th>mcse_sd</th>\n",
       "      <th>ess_bulk</th>\n",
       "      <th>ess_tail</th>\n",
       "      <th>r_hat</th>\n",
       "    </tr>\n",
       "  </thead>\n",
       "  <tbody>\n",
       "    <tr>\n",
       "      <th>hyper_mu_mu</th>\n",
       "      <td>7.948</td>\n",
       "      <td>23.751</td>\n",
       "      <td>-31.300</td>\n",
       "      <td>64.698</td>\n",
       "      <td>0.884</td>\n",
       "      <td>0.747</td>\n",
       "      <td>1162.0</td>\n",
       "      <td>712.0</td>\n",
       "      <td>1.01</td>\n",
       "    </tr>\n",
       "    <tr>\n",
       "      <th>group_mu[0]</th>\n",
       "      <td>0.029</td>\n",
       "      <td>0.100</td>\n",
       "      <td>-0.160</td>\n",
       "      <td>0.214</td>\n",
       "      <td>0.002</td>\n",
       "      <td>0.002</td>\n",
       "      <td>1712.0</td>\n",
       "      <td>2017.0</td>\n",
       "      <td>1.00</td>\n",
       "    </tr>\n",
       "    <tr>\n",
       "      <th>group_mu[1]</th>\n",
       "      <td>5.007</td>\n",
       "      <td>0.095</td>\n",
       "      <td>4.824</td>\n",
       "      <td>5.181</td>\n",
       "      <td>0.002</td>\n",
       "      <td>0.002</td>\n",
       "      <td>1498.0</td>\n",
       "      <td>2218.0</td>\n",
       "      <td>1.00</td>\n",
       "    </tr>\n",
       "    <tr>\n",
       "      <th>pred_mu</th>\n",
       "      <td>6.374</td>\n",
       "      <td>48.213</td>\n",
       "      <td>-82.545</td>\n",
       "      <td>111.842</td>\n",
       "      <td>1.921</td>\n",
       "      <td>1.521</td>\n",
       "      <td>759.0</td>\n",
       "      <td>632.0</td>\n",
       "      <td>1.01</td>\n",
       "    </tr>\n",
       "    <tr>\n",
       "      <th>pred_y</th>\n",
       "      <td>6.357</td>\n",
       "      <td>48.251</td>\n",
       "      <td>-82.740</td>\n",
       "      <td>112.630</td>\n",
       "      <td>1.924</td>\n",
       "      <td>1.522</td>\n",
       "      <td>755.0</td>\n",
       "      <td>547.0</td>\n",
       "      <td>1.01</td>\n",
       "    </tr>\n",
       "    <tr>\n",
       "      <th>hyper_mu_std</th>\n",
       "      <td>29.567</td>\n",
       "      <td>32.912</td>\n",
       "      <td>1.190</td>\n",
       "      <td>92.424</td>\n",
       "      <td>1.795</td>\n",
       "      <td>1.270</td>\n",
       "      <td>337.0</td>\n",
       "      <td>735.0</td>\n",
       "      <td>1.01</td>\n",
       "    </tr>\n",
       "    <tr>\n",
       "      <th>std</th>\n",
       "      <td>0.977</td>\n",
       "      <td>0.048</td>\n",
       "      <td>0.884</td>\n",
       "      <td>1.063</td>\n",
       "      <td>0.002</td>\n",
       "      <td>0.001</td>\n",
       "      <td>493.0</td>\n",
       "      <td>1944.0</td>\n",
       "      <td>1.02</td>\n",
       "    </tr>\n",
       "  </tbody>\n",
       "</table>\n",
       "</div>"
      ],
      "text/plain": [
       "                mean      sd  hdi_3%  hdi_97%  mcse_mean  mcse_sd  ess_bulk  \\\n",
       "hyper_mu_mu    7.948  23.751 -31.300   64.698      0.884    0.747    1162.0   \n",
       "group_mu[0]    0.029   0.100  -0.160    0.214      0.002    0.002    1712.0   \n",
       "group_mu[1]    5.007   0.095   4.824    5.181      0.002    0.002    1498.0   \n",
       "pred_mu        6.374  48.213 -82.545  111.842      1.921    1.521     759.0   \n",
       "pred_y         6.357  48.251 -82.740  112.630      1.924    1.522     755.0   \n",
       "hyper_mu_std  29.567  32.912   1.190   92.424      1.795    1.270     337.0   \n",
       "std            0.977   0.048   0.884    1.063      0.002    0.001     493.0   \n",
       "\n",
       "              ess_tail  r_hat  \n",
       "hyper_mu_mu      712.0   1.01  \n",
       "group_mu[0]     2017.0   1.00  \n",
       "group_mu[1]     2218.0   1.00  \n",
       "pred_mu          632.0   1.01  \n",
       "pred_y           547.0   1.01  \n",
       "hyper_mu_std     735.0   1.01  \n",
       "std             1944.0   1.02  "
      ]
     },
     "metadata": {},
     "output_type": "display_data"
    }
   ],
   "source": [
    "with model_hierarchical:\n",
    "    display(az.summary(trace_hierarchical))"
   ]
  },
  {
   "cell_type": "code",
   "execution_count": 18,
   "metadata": {},
   "outputs": [
    {
     "data": {
      "image/png": "[encoded data removed]",
      "text/plain": [
       "<Figure size 432x288 with 1 Axes>"
      ]
     },
     "metadata": {
      "needs_background": "light"
     },
     "output_type": "display_data"
    }
   ],
   "source": [
    "plt.hist(np.array(trace_hierarchical.posterior.pred_y).ravel(), bins=100);"
   ]
  }
 ],
 "metadata": {
  "kernelspec": {
   "display_name": "Python 3 (ipykernel)",
   "language": "python",
   "name": "python3"
  },
  "language_info": {
   "codemirror_mode": {
    "name": "ipython",
    "version": 3
   },
   "file_extension": ".py",
   "mimetype": "text/x-python",
   "name": "python",
   "nbconvert_exporter": "python",
   "pygments_lexer": "ipython3",
   "version": "3.9.12"
  },
  "vscode": {
   "interpreter": {
    "hash": "221c891a34d53b6a976517fba14e87e2d44925797743ab4436332eb8ae3ca627"
   }
  }
 },
 "nbformat": 4,
 "nbformat_minor": 1
}
