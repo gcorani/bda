{
 "cells": [
  {
   "cell_type": "code",
   "execution_count": 1,
   "metadata": {
    "colab": {},
    "colab_type": "code",
    "id": "Haujd00xUk8Q"
   },
   "outputs": [],
   "source": [
    "import pymc as pm\n",
    "import numpy as np\n",
    "import scipy.stats as stats\n",
    "import pandas as pd\n",
    "import matplotlib.pyplot as plt\n",
    "import arviz as az\n",
    "import seaborn as sns\n",
    "import warnings\n",
    "warnings.simplefilter(action='ignore', category=RuntimeWarning)\n",
    "warnings.simplefilter(action='ignore', category=FutureWarning)\n",
    "az.style.use('arviz-darkgrid')\n",
    "np.random.seed(44)\n",
    "sns.set_theme()\n",
    "plt.rcParams['font.size'] = 15\n",
    "plt.rcParams['legend.fontsize'] = 'medium'\n",
    "sns.set(rc={'figure.figsize':(7,3)})"
   ]
  },
  {
   "cell_type": "markdown",
   "metadata": {},
   "source": [
    "# Bayesian model selection\n",
    "\n",
    "**Bayesian Data Analysis and Probabilistic Programming**\n",
    "\n",
    "Giorgio Corani - giorgio.corani@supsi.ch"
   ]
  },
  {
   "cell_type": "markdown",
   "metadata": {},
   "source": [
    "# Reference\n",
    "\n",
    "> Richard McElreath, \"Statistical Rethinking\", Chap. 7  (https://github.com/rmcelreath/stat_rethinking_2024/)\n",
    "\n",
    "\n"
   ]
  },
  {
   "cell_type": "markdown",
   "metadata": {
    "colab_type": "text",
    "id": "8wt9dlVfUk8C"
   },
   "source": [
    "# Model selection \n",
    "\n",
    "Model selection estimates the out-of-sample performance of models and allows choosing among competing models such as:\n",
    "\n",
    "* models with different priors (e.g., compare hierarchical and unpooled model)\n",
    "* models with different likelihoods (e.g., compare regression model with student and gaussian likelihood)\n",
    "* regression models with different set of covariates (feature selection). For instance, compare:\n",
    "    *  $Y = \\alpha + \\beta_1 X_1$\n",
    "    * $Y = \\alpha + \\beta X_1 + \\beta_2 X_2$\n",
    "\n",
    "* As an example, we consider the student and the Gaussian regression model fitted on a data set containing an outlier."
   ]
  },
  {
   "cell_type": "markdown",
   "metadata": {},
   "source": [
    "# Regression data with outliers  (example from lecture on linear regression)\n",
    "* The following cells of codes fit the linear regression model with normal and student likelihood. The code is the same of the lecture on linear regression."
   ]
  },
  {
   "cell_type": "code",
   "execution_count": 15,
   "metadata": {
    "colab_type": "text",
    "id": "TGlPozDfUk8b"
   },
   "outputs": [
    {
     "data": {
      "image/png": "[encoded data removed]",
      "text/plain": [
       "<Figure size 700x300 with 1 Axes>"
      ]
     },
     "metadata": {},
     "output_type": "display_data"
    }
   ],
   "source": [
    "# regression data with outlier\n",
    "x  = np.array([10.,  8., 13.,  9., 11., 14.,  6.,  4., 12.,  7.,  5.])\n",
    "y  = np.array([ 7.46,  6.77, 12.74,  7.11,  7.81,  8.84,  6.08,  5.39,  8.15, 6.42,  5.73])\n",
    "\n",
    "#we  center X\n",
    "x_c = (x - x.mean())\n",
    "plt.plot(x_c, y, '*');"
   ]
  },
  {
   "cell_type": "code",
   "execution_count": 16,
   "metadata": {},
   "outputs": [
    {
     "name": "stderr",
     "output_type": "stream",
     "text": [
      "Initializing NUTS using jitter+adapt_diag...\n",
      "Multiprocess sampling (4 chains in 4 jobs)\n",
      "NUTS: [alpha, beta, sigma]\n"
     ]
    },
    {
     "data": {
      "application/vnd.jupyter.widget-view+json": {
       "model_id": "ae91bebc850946419b2e096cdf0fb5ca",
       "version_major": 2,
       "version_minor": 0
      },
      "text/plain": [
       "Output()"
      ]
     },
     "metadata": {},
     "output_type": "display_data"
    },
    {
     "data": {
      "text/html": [
       "<pre style=\"white-space:pre;overflow-x:auto;line-height:normal;font-family:Menlo,'DejaVu Sans Mono',consolas,'Courier New',monospace\"></pre>\n"
      ],
      "text/plain": []
     },
     "metadata": {},
     "output_type": "display_data"
    },
    {
     "name": "stderr",
     "output_type": "stream",
     "text": [
      "Sampling 4 chains for 1_000 tune and 1_000 draw iterations (4_000 + 4_000 draws total) took 0 seconds.\n"
     ]
    }
   ],
   "source": [
    "s_x = x_c.std()\n",
    "s_y = y.std()\n",
    "y_bar = y.mean()\n",
    "\n",
    "#normal model\n",
    "with pm.Model() as normal_model:\n",
    "    #priors on intercept, slope and standard deviation of noise for standardized data\n",
    "    alpha   = pm.Normal ('alpha', mu=y_bar, sigma=2 * s_y)\n",
    "    beta    = pm.Normal ('beta',  mu=0,  sigma= 2.5 * s_y / s_x)\n",
    "    sigma   = pm.HalfNormal ('sigma', sigma= 1.5 * s_y)\n",
    "\n",
    "    y_pred   = pm.Normal ('y_pred', mu= alpha + beta * x_c,  sigma=sigma, observed=y)\n",
    "\n",
    "    #the kwargs is needed to store the log_likelihood associated to each sample. Will be used later for a statistical\n",
    "    #comaprison between the two models\n",
    "    normal_trace   = pm.sample(idata_kwargs={\"log_likelihood\": True})"
   ]
  },
  {
   "cell_type": "code",
   "execution_count": 17,
   "metadata": {},
   "outputs": [
    {
     "name": "stderr",
     "output_type": "stream",
     "text": [
      "Initializing NUTS using jitter+adapt_diag...\n",
      "Multiprocess sampling (4 chains in 4 jobs)\n",
      "NUTS: [alpha_st, beta_st, sigma_st]\n"
     ]
    },
    {
     "data": {
      "application/vnd.jupyter.widget-view+json": {
       "model_id": "4cd48ac822204440a53511327533aee2",
       "version_major": 2,
       "version_minor": 0
      },
      "text/plain": [
       "Output()"
      ]
     },
     "metadata": {},
     "output_type": "display_data"
    },
    {
     "data": {
      "text/html": [
       "<pre style=\"white-space:pre;overflow-x:auto;line-height:normal;font-family:Menlo,'DejaVu Sans Mono',consolas,'Courier New',monospace\"></pre>\n"
      ],
      "text/plain": []
     },
     "metadata": {},
     "output_type": "display_data"
    },
    {
     "name": "stderr",
     "output_type": "stream",
     "text": [
      "Sampling 4 chains for 1_000 tune and 1_000 draw iterations (4_000 + 4_000 draws total) took 1 seconds.\n"
     ]
    }
   ],
   "source": [
    "#model with student likelihood\n",
    "with pm.Model() as st_model:\n",
    "    #priors on intercept, slope and standard deviation of noise for standardized data\n",
    "    alpha_st   = pm.Normal ('alpha_st', mu=y_bar, sigma=2 * s_y)\n",
    "    beta_st    = pm.Normal ('beta_st',  mu=0,  sigma= 2.5 * s_y / s_x)\n",
    "    sigma_st   = pm.HalfNormal ('sigma_st', sigma= 1.5 * s_y)\n",
    "\n",
    "    y_pred   = pm.StudentT ('y_pred', mu= alpha_st + beta_st * x_c,  sigma=sigma_st, nu=4, observed=y)\n",
    "\n",
    "    #the kwargs is needed to store the log_likelihood associated to each sample. Will be used later for a statistical\n",
    "    #comaprison between the two models\n",
    "    st_trace   = pm.sample(idata_kwargs={\"log_likelihood\": True})"
   ]
  },
  {
   "cell_type": "markdown",
   "metadata": {
    "colab_type": "text",
    "id": "LuE8sJ-IUk83"
   },
   "source": [
    "# The Student model fits the correct line"
   ]
  },
  {
   "cell_type": "code",
   "execution_count": 5,
   "metadata": {},
   "outputs": [
    {
     "data": {
      "image/png": "[encoded data removed]",
      "text/plain": [
       "<Figure size 700x300 with 1 Axes>"
      ]
     },
     "metadata": {},
     "output_type": "display_data"
    }
   ],
   "source": [
    "# Display the two models\n",
    "#posterior mean of the parameters, robust model\n",
    "post_st    = az.extract_dataset(st_trace)\n",
    "a_st_hat   = post_st.alpha_st.values.mean()\n",
    "b_st_hat   = post_st.beta_st.values.mean()\n",
    "\n",
    "#posterior mean of the parameters, gaussian model\n",
    "post_gauss  = az.extract_dataset(normal_trace)\n",
    "a_hat       = post_gauss.alpha.values.mean()\n",
    "b_hat       = post_gauss.beta.values.mean()\n",
    "\n",
    "plt.plot(x_c, a_st_hat + b_st_hat * x_c,  c='k', lw=2, label='robust')\n",
    "plt.plot(x_c,  a_hat + b_hat * x_c,  c='b', lw=2, label='gauss')\n",
    "plt.plot(x_c, y, '*', markersize=10, label='obs')\n",
    "plt.xlabel('$x$', fontsize=16)\n",
    "plt.ylabel('$y$', rotation=0, fontsize=16)\n",
    "plt.legend();\n"
   ]
  },
  {
   "cell_type": "markdown",
   "metadata": {},
   "source": [
    "# The Student model  provides less uncertain estimates"
   ]
  },
  {
   "cell_type": "code",
   "execution_count": 6,
   "metadata": {},
   "outputs": [
    {
     "data": {
      "text/html": [
       "<div>\n",
       "<style scoped>\n",
       "    .dataframe tbody tr th:only-of-type {\n",
       "        vertical-align: middle;\n",
       "    }\n",
       "\n",
       "    .dataframe tbody tr th {\n",
       "        vertical-align: top;\n",
       "    }\n",
       "\n",
       "    .dataframe thead th {\n",
       "        text-align: right;\n",
       "    }\n",
       "</style>\n",
       "<table border=\"1\" class=\"dataframe\">\n",
       "  <thead>\n",
       "    <tr style=\"text-align: right;\">\n",
       "      <th></th>\n",
       "      <th>mean</th>\n",
       "      <th>sd</th>\n",
       "      <th>hdi_3%</th>\n",
       "      <th>hdi_97%</th>\n",
       "      <th>mcse_mean</th>\n",
       "      <th>mcse_sd</th>\n",
       "      <th>ess_bulk</th>\n",
       "      <th>ess_tail</th>\n",
       "      <th>r_hat</th>\n",
       "    </tr>\n",
       "  </thead>\n",
       "  <tbody>\n",
       "    <tr>\n",
       "      <th>alpha_st</th>\n",
       "      <td>7.114</td>\n",
       "      <td>0.003</td>\n",
       "      <td>7.110</td>\n",
       "      <td>7.119</td>\n",
       "      <td>0.0</td>\n",
       "      <td>0.0</td>\n",
       "      <td>2003.0</td>\n",
       "      <td>1137.0</td>\n",
       "      <td>1.0</td>\n",
       "    </tr>\n",
       "    <tr>\n",
       "      <th>beta_st</th>\n",
       "      <td>0.345</td>\n",
       "      <td>0.001</td>\n",
       "      <td>0.344</td>\n",
       "      <td>0.347</td>\n",
       "      <td>0.0</td>\n",
       "      <td>0.0</td>\n",
       "      <td>2133.0</td>\n",
       "      <td>1167.0</td>\n",
       "      <td>1.0</td>\n",
       "    </tr>\n",
       "    <tr>\n",
       "      <th>sigma_st</th>\n",
       "      <td>0.007</td>\n",
       "      <td>0.006</td>\n",
       "      <td>0.002</td>\n",
       "      <td>0.014</td>\n",
       "      <td>0.0</td>\n",
       "      <td>0.0</td>\n",
       "      <td>844.0</td>\n",
       "      <td>1038.0</td>\n",
       "      <td>1.0</td>\n",
       "    </tr>\n",
       "  </tbody>\n",
       "</table>\n",
       "</div>"
      ],
      "text/plain": [
       "           mean     sd  hdi_3%  hdi_97%  mcse_mean  mcse_sd  ess_bulk  \\\n",
       "alpha_st  7.114  0.003   7.110    7.119        0.0      0.0    2003.0   \n",
       "beta_st   0.345  0.001   0.344    0.347        0.0      0.0    2133.0   \n",
       "sigma_st  0.007  0.006   0.002    0.014        0.0      0.0     844.0   \n",
       "\n",
       "          ess_tail  r_hat  \n",
       "alpha_st    1137.0    1.0  \n",
       "beta_st     1167.0    1.0  \n",
       "sigma_st    1038.0    1.0  "
      ]
     },
     "execution_count": 6,
     "metadata": {},
     "output_type": "execute_result"
    }
   ],
   "source": [
    "az.summary(st_trace)"
   ]
  },
  {
   "cell_type": "code",
   "execution_count": 7,
   "metadata": {},
   "outputs": [
    {
     "data": {
      "text/html": [
       "<div>\n",
       "<style scoped>\n",
       "    .dataframe tbody tr th:only-of-type {\n",
       "        vertical-align: middle;\n",
       "    }\n",
       "\n",
       "    .dataframe tbody tr th {\n",
       "        vertical-align: top;\n",
       "    }\n",
       "\n",
       "    .dataframe thead th {\n",
       "        text-align: right;\n",
       "    }\n",
       "</style>\n",
       "<table border=\"1\" class=\"dataframe\">\n",
       "  <thead>\n",
       "    <tr style=\"text-align: right;\">\n",
       "      <th></th>\n",
       "      <th>mean</th>\n",
       "      <th>sd</th>\n",
       "      <th>hdi_3%</th>\n",
       "      <th>hdi_97%</th>\n",
       "      <th>mcse_mean</th>\n",
       "      <th>mcse_sd</th>\n",
       "      <th>ess_bulk</th>\n",
       "      <th>ess_tail</th>\n",
       "      <th>r_hat</th>\n",
       "    </tr>\n",
       "  </thead>\n",
       "  <tbody>\n",
       "    <tr>\n",
       "      <th>alpha</th>\n",
       "      <td>7.505</td>\n",
       "      <td>0.431</td>\n",
       "      <td>6.693</td>\n",
       "      <td>8.336</td>\n",
       "      <td>0.008</td>\n",
       "      <td>0.006</td>\n",
       "      <td>3019.0</td>\n",
       "      <td>2443.0</td>\n",
       "      <td>1.0</td>\n",
       "    </tr>\n",
       "    <tr>\n",
       "      <th>beta</th>\n",
       "      <td>0.493</td>\n",
       "      <td>0.142</td>\n",
       "      <td>0.220</td>\n",
       "      <td>0.761</td>\n",
       "      <td>0.003</td>\n",
       "      <td>0.002</td>\n",
       "      <td>2465.0</td>\n",
       "      <td>2352.0</td>\n",
       "      <td>1.0</td>\n",
       "    </tr>\n",
       "    <tr>\n",
       "      <th>sigma</th>\n",
       "      <td>1.414</td>\n",
       "      <td>0.380</td>\n",
       "      <td>0.835</td>\n",
       "      <td>2.131</td>\n",
       "      <td>0.008</td>\n",
       "      <td>0.006</td>\n",
       "      <td>2226.0</td>\n",
       "      <td>2154.0</td>\n",
       "      <td>1.0</td>\n",
       "    </tr>\n",
       "  </tbody>\n",
       "</table>\n",
       "</div>"
      ],
      "text/plain": [
       "        mean     sd  hdi_3%  hdi_97%  mcse_mean  mcse_sd  ess_bulk  ess_tail  \\\n",
       "alpha  7.505  0.431   6.693    8.336      0.008    0.006    3019.0    2443.0   \n",
       "beta   0.493  0.142   0.220    0.761      0.003    0.002    2465.0    2352.0   \n",
       "sigma  1.414  0.380   0.835    2.131      0.008    0.006    2226.0    2154.0   \n",
       "\n",
       "       r_hat  \n",
       "alpha    1.0  \n",
       "beta     1.0  \n",
       "sigma    1.0  "
      ]
     },
     "execution_count": 7,
     "metadata": {},
     "output_type": "execute_result"
    }
   ],
   "source": [
    "az.summary(normal_trace)"
   ]
  },
  {
   "attachments": {},
   "cell_type": "markdown",
   "metadata": {},
   "source": [
    "# The need for statistical model selection\n",
    "\n",
    "* The model with Student likelihood looks qualitatively better but we need a data-driven criterion to decide.\n",
    "\n",
    "* In machine learning we use k-fold cross-validation for model selection.\n",
    "\n",
    "* `loo` (leave-one-out) is k-fold cross validation in which each fold contains only a unique observation.\n",
    " \n",
    "* The trouble with leave-one-out cross-validation is that, if we have 1000 observations, we need refitting 1000 times the model.\n",
    "\n",
    "* We will see how WAIC approximates the cross-validation score without actually re-running the model.\n",
    "\n"
   ]
  },
  {
   "cell_type": "markdown",
   "metadata": {},
   "source": [
    "# Log-score for categorical variables\n",
    "\n",
    "* Consider predicting probabilistically the variable {rain, no rain}.\n",
    "* In table we have the probabilistic prediction by two forecasters, who report their estimated probability of rain.\n",
    "\n",
    "|  | Day 1 | Day 2 | Day 3 | Day 4 |\n",
    "|---|:---:|:---:|:---:|:---:|\n",
    "| Observations | rain | no rain | rain | rain |\n",
    "|  |  |  |  |  |\n",
    "| p(rain) |  |  |  |  |\n",
    "| Forecaster A | 0.6 | 0.4 | 0.6 | 0.7 |\n",
    "| Forecaster B | 0.5 | 0.4 | 0.5 | 0.6 |\n",
    "\n",
    "\n",
    "* Log-score: log-probability of the actual event, summed over all days. Higher is better.\n",
    "  \n",
    "* The log score of forecaster A is:\n",
    "$$ \\log(.6) + \\log(1-.4) + \\log(.6) + \\log (.7) =  -2.29 $$\n",
    "\n",
    "* The log score of forecaster B is:\n",
    "$$ \\log(.5) + \\log(1-.4) + \\log(.5) + \\log (.6) =  -2.81 $$\n",
    "\n",
    "* Forecasters A produces better forecast and his log-score is higher.\n",
    "\n",
    "* Log-score are negative; hence the higher scores are the 'less negative' ones."
   ]
  },
  {
   "cell_type": "markdown",
   "metadata": {},
   "source": [
    "# Log-score for real-valued variables: log-predictive density (lpd)\n",
    "\n",
    "Consider the prediction for a real-valued variable.\n",
    "\n",
    "|  | Day 1 | Day 2 | Day 3 | Day 4 |\n",
    "|---|:---:|:---:|:---:|:---:|\n",
    "| Observations | 1000 | 1200 | 800 | 780 |\n",
    "|  |  |  |  |  |\n",
    "| Prediction |  |  |  |  |\n",
    "| Forecaster A | $N(800, 100^2)$ | $N(1500, 150^2)$ | $N(750, 50^2)$ | $N(760, 20^2)$ |\n",
    "\n",
    "\n",
    "\n",
    "* The log score of forecaster A is:\n",
    "\n",
    "\\begin{align*}\n",
    "\\text{log } N(1000 | \\mu= 800, \\sigma=100) +  \\text{log } N(1200 | 1500, 150) + \\text{log } N(800 | 750, 50) + \\text{log } N(780 | 760, 20)\n",
    "\\end{align*}\n",
    "\n",
    "\n",
    "* Real-valued variables are predicted with a density. The log-score is referred to as *log-predictive density* (lpd)."
   ]
  },
  {
   "cell_type": "code",
   "execution_count": 18,
   "metadata": {},
   "outputs": [
    {
     "name": "stdout",
     "output_type": "stream",
     "text": [
      "-4.151704801057894\n"
     ]
    }
   ],
   "source": [
    "# Computing the log score of the above cell\n",
    "from scipy.stats import norm\n",
    "\n",
    "lpd = (norm.logcdf(x=1000, loc=800, scale=100) + norm.logcdf(x=1200, loc=1500, scale=150) +  norm.logcdf(x=800, loc=750, scale=50) +  \n",
    "    norm.logcdf(x=800, loc=750, scale=50))\n",
    "\n",
    "print(lpd)\n"
   ]
  },
  {
   "cell_type": "markdown",
   "metadata": {},
   "source": [
    "# Recap\n",
    "\n",
    " $$ \\displaystyle \\text{log score} \\underbrace{= \\text{lpd}}_{\\text{real values variables}} = \\sum_i^n \\log p(y_i)$$\n",
    "\n",
    "* $p(y_i)$ is the predictive density evaluated in correspondence of the actual value $y_i$\n",
    "\n",
    "* $n$ is the training set size\n",
    " \n",
    "* Depending on whether the variable is categorical or numerical, $p$ is a probability or a probability density.\n",
    " "
   ]
  },
  {
   "cell_type": "markdown",
   "metadata": {},
   "source": [
    "# Bayesian log-score\n",
    "\n",
    "* Given a model with parameters $\\theta$, whose posterior distribution is given in form of samples $\\theta_s$ ($s$ = 1,2... 4000)\n",
    "* Average the log-score over  $\\theta_s$\n",
    "* It is sometimes referred to as 'lppd' (log-pointwise-predictive-density):\n",
    "\n",
    "  $$ \\text{lppd} = \\sum_i^n \\log \\underbrace{\\frac{1}{S} \\sum_s p(y_i | \\theta_s)}_{\\text{lpd averaged over parameter samples}} $$"
   ]
  },
  {
   "cell_type": "markdown",
   "metadata": {},
   "source": [
    " # Predicting predictive accuracy\n",
    "\n",
    " * The lppd is evaluated on the training data.\n",
    " * The lppd on test data will be generally worse (more negative)\n",
    " * How to estimate the lppd on test data (out-of-sample)?\n",
    "    * cross-validation (k-fold, leave-one-out); requires refitting the model many times and computing lppd on the data which are left out.\n",
    "    * as an alternative, information criteria provide a theoretical estimate of the  out-of-sample lppd."
   ]
  },
  {
   "cell_type": "markdown",
   "metadata": {},
   "source": [
    " # WAIC\n",
    "\n",
    "* WAIC estimates the out-of-sample lppd; its approximation converges to the leave-one-out estimate  in a large sample.\n",
    "\n",
    "* WAIC is composed by two pieces, computed from posterior samples of the parameters.\n",
    "\n",
    "* WAIC  = lppd - penalty, where the penalty is proportional to the variance in the posterior predictions.\n",
    "\n",
    "$$ \\text{WAIC} = \\text{lppd} - \\underbrace{\\sum_i \\text{var}_{\\theta} \\log (p(y_i | \\theta) )}_{\\text{penalty}}$$\n",
    "\n",
    "> The penalty term means, “compute the variance in log-probabilities for each observation i, and then sum up these variances to get the total penalty.” Each observation has its own penalty. And since these scores measure overfitting risk, you can also assess overfitting risk at the level of each observation. **Stat Rethinking, Sec. 7.2**\n",
    "\n",
    "*  WAIC decomposes over the individual observations. Indeed some observations are much harder to predict than others and may also have different uncertainty.\n",
    "\n",
    "*  The above expression of WAIC is in the 'log scale'. Thus, higher (less negative) is better.\n",
    "\n",
    "*  Other versions of WAIC include a multiplicative constant (-1 or -2) which change the sign of WAIC and have to be interpreted in the opposite way.\n",
    "\n",
    " * In `arviz`, specificy `log_scale` when computing WAIC. "
   ]
  },
  {
   "cell_type": "markdown",
   "metadata": {},
   "source": [
    "# Custom implementation of the WAIC for the gaussian and the student model\n",
    "\n",
    "* We implement:\n",
    "\n",
    "    * a function which computes lppd\n",
    "    * a function which computes the penalty.\n",
    "\n",
    "\n",
    "\n",
    "* We are comparing models with different likelihoods; the density function used in WAIC is normal or student depending on which model we are evaluating."
   ]
  },
  {
   "cell_type": "code",
   "execution_count": 29,
   "metadata": {
    "colab": {},
    "colab_type": "code",
    "id": "x7NZN7JeUk87",
    "outputId": "2ba70c7c-82e2-4160-992a-0e9295285e88"
   },
   "outputs": [],
   "source": [
    "from scipy.stats import norm\n",
    "from scipy.stats import t\n",
    "\n",
    "# computes lppd given a data set of observations (x and y), the posterior samples of parameters alpha, beta and sigma and the type\n",
    "# of predictive density (normal or st).\n",
    "\n",
    "def get_lppd (x, y, alpha, beta, sigma, type='normal'):\n",
    "\n",
    "    lppd = 0\n",
    "    tmp = np.zeros(len(alpha))\n",
    "    \n",
    "    for i in range(len(y)):\n",
    "        # vector of 4000 means\n",
    "        mu = alpha + beta * x[i]\n",
    "\n",
    "        # the pdf is computed *without* the log. We apply the log later on the average predictive probability.\n",
    "        \n",
    "        if type == 'normal':\n",
    "            # set of 4000 predictive densities one for each parameter sample\n",
    "            tmp = norm.pdf(y[i], loc=mu, scale=sigma)\n",
    "        elif type == 'st':\n",
    "            tmp = t.pdf(y[i], df=4, loc=mu, scale=sigma)\n",
    "            \n",
    "        avg_pd = np.mean(tmp)\n",
    "        lppd = lppd + np.log(avg_pd)\n",
    "    return( lppd)"
   ]
  },
  {
   "cell_type": "code",
   "execution_count": 30,
   "metadata": {},
   "outputs": [],
   "source": [
    "#for each instance, variance of the log-score across the different samples.\n",
    "# as in lppd case, we use a density which matches the likelihood of the model\n",
    "def get_penalty (x, y, alpha, beta, sigma, type='normal'):\n",
    "    penalty = 0\n",
    "    tmp = np.zeros(len(alpha))\n",
    "    for i in range(len(y)):\n",
    "        # vector of 4000 means\n",
    "        mu = alpha + beta * x[i]\n",
    "\n",
    "        if type == 'normal':\n",
    "            # set of 4000 log-predictive densities for the current sample\n",
    "            tmp = norm.logpdf(y[i], loc=mu, scale=sigma)\n",
    "        elif type == 'st':\n",
    "            tmp = t.logpdf(y[i], df=4, loc=mu, scale=sigma)\n",
    "            \n",
    "        var_log_pd = np.var(tmp)\n",
    "        penalty = penalty + var_log_pd\n",
    "    return(penalty)"
   ]
  },
  {
   "cell_type": "code",
   "execution_count": 24,
   "metadata": {},
   "outputs": [],
   "source": [
    "# Posterior samples of the two models\n",
    "\n",
    "# student model\n",
    "post_st    = az.extract_dataset(st_trace)\n",
    "a_st       = post_st.alpha_st.values\n",
    "b_st       = post_st.beta_st.values\n",
    "s_st       = post_st.sigma_st.values\n",
    "\n",
    "# gaussian model\n",
    "post_gauss     = az.extract_dataset(normal_trace)\n",
    "a      = post_gauss.alpha.values\n",
    "b      = post_gauss.beta.values\n",
    "s      = post_gauss.sigma.values"
   ]
  },
  {
   "cell_type": "code",
   "execution_count": 25,
   "metadata": {},
   "outputs": [
    {
     "name": "stdout",
     "output_type": "stream",
     "text": [
      "waic_normal: -21.39907248862113\n",
      "waic_st: 12.488033803927411\n"
     ]
    }
   ],
   "source": [
    "\n",
    "# densities are not probabilities, they can be larger than 1.\n",
    "# hence the student model has lppd of 17, much higher than that of the normal model.\n",
    "\n",
    "lppd_normal = get_lppd (x_c, y, a, b, s, type='normal')# -17.30\n",
    "lppd_st     = get_lppd (x_c, y, a_st, b_st, s_st, type='st')#17.6\n",
    "\n",
    "penalty_normal =  get_penalty (x_c, y, a, b, s, type='normal')\n",
    "penalty_st = get_penalty (x_c, y, a_st, b_st, s_st, type='st')\n",
    "\n",
    "waic_normal = (lppd_normal - penalty_normal)\n",
    "waic_st =  (lppd_st - penalty_st)\n",
    "\n",
    "print (\"waic_normal: \" +  str(waic_normal))\n",
    "print (\"waic_st: \" +  str(waic_st))"
   ]
  },
  {
   "cell_type": "markdown",
   "metadata": {
    "colab_type": "text",
    "id": "WHEg3KRWUk9A"
   },
   "source": [
    "# WAIC in Pymc\n",
    "PyMC3 includes two functions for model comparison:\n",
    "* `compare` computes the  WAIC of a set of given models (remember to specify the log scale).\n",
    "* `plot_compare` graphically compares the  WAIC of competing models, showing also their uncertainties."
   ]
  },
  {
   "cell_type": "code",
   "execution_count": 26,
   "metadata": {
    "colab": {},
    "colab_type": "code",
    "id": "skwg6Sr2Uk9A",
    "outputId": "6cb9b914-af2b-4857-9382-3aed58b82147"
   },
   "outputs": [
    {
     "name": "stderr",
     "output_type": "stream",
     "text": [
      "/opt/miniconda3/envs/pymc_env/lib/python3.12/site-packages/arviz/stats/stats.py:1653: UserWarning: For one or more samples the posterior variance of the log predictive densities exceeds 0.4. This could be indication of WAIC starting to fail. \n",
      "See http://arxiv.org/abs/1507.04544 for details\n",
      "  warnings.warn(\n",
      "/opt/miniconda3/envs/pymc_env/lib/python3.12/site-packages/arviz/stats/stats.py:1653: UserWarning: For one or more samples the posterior variance of the log predictive densities exceeds 0.4. This could be indication of WAIC starting to fail. \n",
      "See http://arxiv.org/abs/1507.04544 for details\n",
      "  warnings.warn(\n"
     ]
    },
    {
     "data": {
      "text/html": [
       "<div>\n",
       "<style scoped>\n",
       "    .dataframe tbody tr th:only-of-type {\n",
       "        vertical-align: middle;\n",
       "    }\n",
       "\n",
       "    .dataframe tbody tr th {\n",
       "        vertical-align: top;\n",
       "    }\n",
       "\n",
       "    .dataframe thead th {\n",
       "        text-align: right;\n",
       "    }\n",
       "</style>\n",
       "<table border=\"1\" class=\"dataframe\">\n",
       "  <thead>\n",
       "    <tr style=\"text-align: right;\">\n",
       "      <th></th>\n",
       "      <th>rank</th>\n",
       "      <th>elpd_waic</th>\n",
       "      <th>p_waic</th>\n",
       "      <th>elpd_diff</th>\n",
       "      <th>weight</th>\n",
       "      <th>se</th>\n",
       "      <th>dse</th>\n",
       "      <th>warning</th>\n",
       "      <th>scale</th>\n",
       "    </tr>\n",
       "  </thead>\n",
       "  <tbody>\n",
       "    <tr>\n",
       "      <th>student</th>\n",
       "      <td>0</td>\n",
       "      <td>12.488034</td>\n",
       "      <td>6.561772</td>\n",
       "      <td>0.000000</td>\n",
       "      <td>0.908582</td>\n",
       "      <td>27.291203</td>\n",
       "      <td>0.000000</td>\n",
       "      <td>True</td>\n",
       "      <td>log</td>\n",
       "    </tr>\n",
       "    <tr>\n",
       "      <th>normal</th>\n",
       "      <td>1</td>\n",
       "      <td>-21.399072</td>\n",
       "      <td>4.114686</td>\n",
       "      <td>33.887106</td>\n",
       "      <td>0.091418</td>\n",
       "      <td>4.915452</td>\n",
       "      <td>22.417373</td>\n",
       "      <td>True</td>\n",
       "      <td>log</td>\n",
       "    </tr>\n",
       "  </tbody>\n",
       "</table>\n",
       "</div>"
      ],
      "text/plain": [
       "         rank  elpd_waic    p_waic  elpd_diff    weight         se        dse  \\\n",
       "student     0  12.488034  6.561772   0.000000  0.908582  27.291203   0.000000   \n",
       "normal      1 -21.399072  4.114686  33.887106  0.091418   4.915452  22.417373   \n",
       "\n",
       "         warning scale  \n",
       "student     True   log  \n",
       "normal      True   log  "
      ]
     },
     "execution_count": 26,
     "metadata": {},
     "output_type": "execute_result"
    }
   ],
   "source": [
    "from arviz import compare\n",
    "\n",
    "df_comp_WAIC = az.compare({'normal':normal_trace, 'student':st_trace}, ic='waic', scale='log')\n",
    "df_comp_WAIC"
   ]
  },
  {
   "cell_type": "markdown",
   "metadata": {
    "colab_type": "text",
    "id": "x33jOJ5zUk9D"
   },
   "source": [
    "\n",
    "1. The first column is the **rank** of the models; zero is best.\n",
    "\n",
    "2. The second column contains the **values of WAIC**.  **elpd_waic** stands for expected lpd, hence out-of-sample lpd (here, lpd and lppd are used equivalently).\n",
    "\n",
    "3. The third column is the penalty term. In our case, the normal model has much larger of the log-score across the parameter samples.\n",
    "When comparing instead models of different complexity (.e.g, regression models with different number of covariates), more complex models are more flexible; it follows have larger variance of the lpd (i.e., higher risk of overfitting) and higher penalty.\n",
    "\n",
    "5. The fourth column is the **difference between the WAIC of the top-ranked model and the WAIC of each other model**.  It is 0 for the first model. \n",
    "\n",
    "6. The fifth column contains **model weights** (not covered in this course). Sometimes when comparing models, we do not want to select the \"best\" model, instead we want to perform predictions by averaging along all the models (or at least several models). Ideally we would like to perform a weighted average, giving more weight to the model that seems to explain/predict the data better. There are many approaches to perform this task, one of them is to use Akaike weights based on the values of WAIC for each model. These weights can be loosely interpreted as the probability of each model (among the compared models) given the data. One caveat of this approach is that the weights are based on point estimates of WAIC (i.e. the uncertainty is ignored).\n",
    "\n",
    "7. The sixth column records the **standard error for the WAIC computations**. The standard error can be useful to assess the uncertainty of the WAIC estimates. Nevertheless, caution need to be taken because the estimation of the standard error assumes normality and hence could be problematic when the sample size is low.\n",
    "\n",
    "\n",
    "8. The second-last column is a flag for **warnings**. A value of `True` indicates that the computation of WAIC may not be reliable.\n",
    "\n",
    "9. The last column indicates the **scale** used for the information criterion."
   ]
  },
  {
   "cell_type": "code",
   "execution_count": 14,
   "metadata": {},
   "outputs": [
    {
     "data": {
      "image/png": "[encoded data removed]",
      "text/plain": [
       "<Figure size 600x200 with 1 Axes>"
      ]
     },
     "metadata": {},
     "output_type": "display_data"
    }
   ],
   "source": [
    "az.plot_compare(df_comp_WAIC);"
   ]
  },
  {
   "cell_type": "markdown",
   "metadata": {},
   "source": [
    "# The 'psis-loo' score\n",
    "  \n",
    "* An alternative to WAIC is the 'psis-loo' score, which is numerically more realible than WAIC. The derivation of the 'psis-loo' is more complicated and we cannot cover it.\n",
    "\n",
    "* As the name suggest, 'psis-loo' is an estimate of the leave-one-out lpd, without actually performing leave-one-out.\n",
    "\n",
    "* In arviz it is referred to as 'loo'.\n",
    "\n",
    "* Below we show how to use it  and we see that the results are numerically close to those of WAIC.\n"
   ]
  },
  {
   "cell_type": "code",
   "execution_count": 28,
   "metadata": {},
   "outputs": [
    {
     "name": "stderr",
     "output_type": "stream",
     "text": [
      "/opt/miniconda3/envs/pymc_env/lib/python3.12/site-packages/arviz/stats/stats.py:795: UserWarning: Estimated shape parameter of Pareto distribution is greater than 0.70 for one or more samples. You should consider using a more robust model, this is because importance sampling is less likely to work well if the marginal posterior and LOO posterior are very different. This is more likely to happen with a non-robust model and highly influential observations.\n",
      "  warnings.warn(\n"
     ]
    },
    {
     "data": {
      "text/html": [
       "<div>\n",
       "<style scoped>\n",
       "    .dataframe tbody tr th:only-of-type {\n",
       "        vertical-align: middle;\n",
       "    }\n",
       "\n",
       "    .dataframe tbody tr th {\n",
       "        vertical-align: top;\n",
       "    }\n",
       "\n",
       "    .dataframe thead th {\n",
       "        text-align: right;\n",
       "    }\n",
       "</style>\n",
       "<table border=\"1\" class=\"dataframe\">\n",
       "  <thead>\n",
       "    <tr style=\"text-align: right;\">\n",
       "      <th></th>\n",
       "      <th>rank</th>\n",
       "      <th>elpd_loo</th>\n",
       "      <th>p_loo</th>\n",
       "      <th>elpd_diff</th>\n",
       "      <th>weight</th>\n",
       "      <th>se</th>\n",
       "      <th>dse</th>\n",
       "      <th>warning</th>\n",
       "      <th>scale</th>\n",
       "    </tr>\n",
       "  </thead>\n",
       "  <tbody>\n",
       "    <tr>\n",
       "      <th>student</th>\n",
       "      <td>0</td>\n",
       "      <td>10.556039</td>\n",
       "      <td>8.493766</td>\n",
       "      <td>0.000000</td>\n",
       "      <td>0.90858</td>\n",
       "      <td>29.050139</td>\n",
       "      <td>0.000000</td>\n",
       "      <td>False</td>\n",
       "      <td>log</td>\n",
       "    </tr>\n",
       "    <tr>\n",
       "      <th>normal</th>\n",
       "      <td>1</td>\n",
       "      <td>-23.070724</td>\n",
       "      <td>5.786337</td>\n",
       "      <td>33.626763</td>\n",
       "      <td>0.09142</td>\n",
       "      <td>6.454562</td>\n",
       "      <td>22.632651</td>\n",
       "      <td>True</td>\n",
       "      <td>log</td>\n",
       "    </tr>\n",
       "  </tbody>\n",
       "</table>\n",
       "</div>"
      ],
      "text/plain": [
       "         rank   elpd_loo     p_loo  elpd_diff   weight         se        dse  \\\n",
       "student     0  10.556039  8.493766   0.000000  0.90858  29.050139   0.000000   \n",
       "normal      1 -23.070724  5.786337  33.626763  0.09142   6.454562  22.632651   \n",
       "\n",
       "         warning scale  \n",
       "student    False   log  \n",
       "normal      True   log  "
      ]
     },
     "execution_count": 28,
     "metadata": {},
     "output_type": "execute_result"
    }
   ],
   "source": [
    "from arviz import compare\n",
    "\n",
    "df_comp_loo = az.compare({'normal':normal_trace, 'student':st_trace}, ic='loo', scale='log')\n",
    "df_comp_loo"
   ]
  },
  {
   "cell_type": "markdown",
   "metadata": {},
   "source": [
    "# Your turn\n",
    "\n",
    "* Generate a data set of size $n$=30 from  $Y = 1 + 0.5 X_1 + \\epsilon$ with:\n",
    "    *  $X_1 \\sim N(0,1)$\n",
    "    *  $\\epsilon \\sim N(0,0.5)$\n",
    "* Generate two further fictitious covariates $X_2 \\sim N(0,1)$.\n",
    "* Perform model selection between two regression model with different covariates:\n",
    "    * the first model has covariate $X_1$ \n",
    "    * the second  model has covariate $X_1, X_2$ "
   ]
  },
  {
   "cell_type": "markdown",
   "metadata": {},
   "source": [
    "# Solution"
   ]
  },
  {
   "cell_type": "code",
   "execution_count": 32,
   "metadata": {},
   "outputs": [],
   "source": [
    "# generate the data\n",
    "from scipy.stats import norm\n",
    "\n",
    "#generate the data\n",
    "n = 30\n",
    "\n",
    "# if we do not specify loc and scale, 0 and 1 are assumed\n",
    "# The X are already centered. If they were not centered, we should center before fitting the model.\n",
    "x1 = norm.rvs(size=n)\n",
    "x2 = norm.rvs(size=n)\n",
    "x3 = norm.rvs(size=n)\n",
    "y  = 1 + 0.5 * x1 + norm.rvs(size=n, scale=0.5)"
   ]
  },
  {
   "cell_type": "code",
   "execution_count": 33,
   "metadata": {},
   "outputs": [
    {
     "name": "stderr",
     "output_type": "stream",
     "text": [
      "Initializing NUTS using jitter+adapt_diag...\n",
      "Multiprocess sampling (4 chains in 4 jobs)\n",
      "NUTS: [alpha, beta, sigma]\n"
     ]
    },
    {
     "data": {
      "application/vnd.jupyter.widget-view+json": {
       "model_id": "43f901054536430593166d64f4ca4f65",
       "version_major": 2,
       "version_minor": 0
      },
      "text/plain": [
       "Output()"
      ]
     },
     "metadata": {},
     "output_type": "display_data"
    },
    {
     "data": {
      "text/html": [
       "<pre style=\"white-space:pre;overflow-x:auto;line-height:normal;font-family:Menlo,'DejaVu Sans Mono',consolas,'Courier New',monospace\"></pre>\n"
      ],
      "text/plain": []
     },
     "metadata": {},
     "output_type": "display_data"
    },
    {
     "name": "stderr",
     "output_type": "stream",
     "text": [
      "Sampling 4 chains for 1_000 tune and 1_000 draw iterations (4_000 + 4_000 draws total) took 0 seconds.\n"
     ]
    }
   ],
   "source": [
    "# fit the model with a single covariate\n",
    "s_x = x1.std()\n",
    "s_y = y.std()\n",
    "y_bar = y.mean()\n",
    "\n",
    "with pm.Model() as x1_model:\n",
    "    #priors on intercept, slope and standard deviation of noise for standardized data\n",
    "    alpha   = pm.Normal ('alpha', mu=y_bar, sigma=2 * s_y)\n",
    "    beta    = pm.Normal ('beta',  mu=0,  sigma= 2.5 * s_y / s_x)\n",
    "    sigma   = pm.HalfNormal ('sigma', sigma= 1.5 * s_y)\n",
    "\n",
    "    y_pred   = pm.Normal ('y_pred', mu= alpha + beta * x1,  sigma=sigma, observed=y)\n",
    "\n",
    "    #the kwargs is needed to store the log_score associated to each sample. Will be used later by WAIC\n",
    "    x1_trace   = pm.sample(idata_kwargs={\"log_likelihood\": True})\n",
    "    "
   ]
  },
  {
   "cell_type": "code",
   "execution_count": 34,
   "metadata": {},
   "outputs": [
    {
     "name": "stderr",
     "output_type": "stream",
     "text": [
      "Initializing NUTS using jitter+adapt_diag...\n",
      "Multiprocess sampling (4 chains in 4 jobs)\n",
      "NUTS: [alpha, beta, beta2, sigma]\n"
     ]
    },
    {
     "data": {
      "application/vnd.jupyter.widget-view+json": {
       "model_id": "bad5f8a27f8d4e179782ebf87dc2adfb",
       "version_major": 2,
       "version_minor": 0
      },
      "text/plain": [
       "Output()"
      ]
     },
     "metadata": {},
     "output_type": "display_data"
    },
    {
     "data": {
      "text/html": [
       "<pre style=\"white-space:pre;overflow-x:auto;line-height:normal;font-family:Menlo,'DejaVu Sans Mono',consolas,'Courier New',monospace\"></pre>\n"
      ],
      "text/plain": []
     },
     "metadata": {},
     "output_type": "display_data"
    },
    {
     "name": "stderr",
     "output_type": "stream",
     "text": [
      "Sampling 4 chains for 1_000 tune and 1_000 draw iterations (4_000 + 4_000 draws total) took 0 seconds.\n"
     ]
    }
   ],
   "source": [
    "# fit the model with both covariates\n",
    "s_x2 = x2.std()\n",
    " \n",
    "with pm.Model() as x1_2_model:\n",
    "    #priors on intercept, slope and standard deviation of noise for standardized data\n",
    "    alpha   = pm.Normal ('alpha', mu=y_bar, sigma=2 * s_y)\n",
    "    beta    = pm.Normal ('beta',  mu=0,  sigma= 2.5 * s_y / s_x)\n",
    "    beta2    = pm.Normal ('beta2', mu=0,  sigma= 2.5 * s_y / s_x2)\n",
    "    sigma   = pm.HalfNormal ('sigma', sigma= 1.5 * s_y)\n",
    "\n",
    "    # a more elegant implementation is possible, using pm.dot(beta, X) instead of beta * x1 + beta2 * x2\n",
    "    y_pred   = pm.Normal ('y_pred', mu= alpha + beta * x1 + beta2 * x2,  sigma=sigma, observed=y)\n",
    "\n",
    "    #the kwargs is needed to store the log_score associated to each sample. Will be used later by WAIC\n",
    "    x1_2_trace   = pm.sample(idata_kwargs={\"log_likelihood\": True})"
   ]
  },
  {
   "cell_type": "code",
   "execution_count": 36,
   "metadata": {},
   "outputs": [
    {
     "name": "stderr",
     "output_type": "stream",
     "text": [
      "/opt/miniconda3/envs/pymc_env/lib/python3.12/site-packages/arviz/stats/stats.py:1653: UserWarning: For one or more samples the posterior variance of the log predictive densities exceeds 0.4. This could be indication of WAIC starting to fail. \n",
      "See http://arxiv.org/abs/1507.04544 for details\n",
      "  warnings.warn(\n",
      "/opt/miniconda3/envs/pymc_env/lib/python3.12/site-packages/arviz/stats/stats.py:1653: UserWarning: For one or more samples the posterior variance of the log predictive densities exceeds 0.4. This could be indication of WAIC starting to fail. \n",
      "See http://arxiv.org/abs/1507.04544 for details\n",
      "  warnings.warn(\n"
     ]
    },
    {
     "data": {
      "text/html": [
       "<div>\n",
       "<style scoped>\n",
       "    .dataframe tbody tr th:only-of-type {\n",
       "        vertical-align: middle;\n",
       "    }\n",
       "\n",
       "    .dataframe tbody tr th {\n",
       "        vertical-align: top;\n",
       "    }\n",
       "\n",
       "    .dataframe thead th {\n",
       "        text-align: right;\n",
       "    }\n",
       "</style>\n",
       "<table border=\"1\" class=\"dataframe\">\n",
       "  <thead>\n",
       "    <tr style=\"text-align: right;\">\n",
       "      <th></th>\n",
       "      <th>rank</th>\n",
       "      <th>elpd_waic</th>\n",
       "      <th>p_waic</th>\n",
       "      <th>elpd_diff</th>\n",
       "      <th>weight</th>\n",
       "      <th>se</th>\n",
       "      <th>dse</th>\n",
       "      <th>warning</th>\n",
       "      <th>scale</th>\n",
       "    </tr>\n",
       "  </thead>\n",
       "  <tbody>\n",
       "    <tr>\n",
       "      <th>x1</th>\n",
       "      <td>0</td>\n",
       "      <td>-26.247880</td>\n",
       "      <td>2.969476</td>\n",
       "      <td>0.000000</td>\n",
       "      <td>0.560963</td>\n",
       "      <td>3.619470</td>\n",
       "      <td>0.000000</td>\n",
       "      <td>True</td>\n",
       "      <td>log</td>\n",
       "    </tr>\n",
       "    <tr>\n",
       "      <th>x1_2</th>\n",
       "      <td>1</td>\n",
       "      <td>-26.311427</td>\n",
       "      <td>3.613769</td>\n",
       "      <td>0.063547</td>\n",
       "      <td>0.439037</td>\n",
       "      <td>3.366776</td>\n",
       "      <td>1.167198</td>\n",
       "      <td>True</td>\n",
       "      <td>log</td>\n",
       "    </tr>\n",
       "  </tbody>\n",
       "</table>\n",
       "</div>"
      ],
      "text/plain": [
       "      rank  elpd_waic    p_waic  elpd_diff    weight        se       dse  \\\n",
       "x1       0 -26.247880  2.969476   0.000000  0.560963  3.619470  0.000000   \n",
       "x1_2     1 -26.311427  3.613769   0.063547  0.439037  3.366776  1.167198   \n",
       "\n",
       "      warning scale  \n",
       "x1       True   log  \n",
       "x1_2     True   log  "
      ]
     },
     "execution_count": 36,
     "metadata": {},
     "output_type": "execute_result"
    }
   ],
   "source": [
    "# model selection\n",
    "df_comp_WAIC = az.compare({'x1':x1_trace, 'x1_2':x1_2_trace}, ic='waic', scale='log')    \n",
    "df_comp_WAIC "
   ]
  }
 ],
 "metadata": {
  "colab": {
   "name": "Section4_9-Model-Comparison.ipynb",
   "provenance": []
  },
  "kernelspec": {
   "display_name": "Python 3 (ipykernel)",
   "language": "python",
   "name": "python3"
  },
  "language_info": {
   "codemirror_mode": {
    "name": "ipython",
    "version": 3
   },
   "file_extension": ".py",
   "mimetype": "text/x-python",
   "name": "python",
   "nbconvert_exporter": "python",
   "pygments_lexer": "ipython3",
   "version": "3.12.8"
  }
 },
 "nbformat": 4,
 "nbformat_minor": 4
}
