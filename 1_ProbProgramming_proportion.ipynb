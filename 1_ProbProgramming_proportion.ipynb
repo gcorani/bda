{
  "cells": [
    {
      "cell_type": "markdown",
      "metadata": {
        "id": "view-in-github",
        "colab_type": "text"
      },
      "source": [
        "<a href=\"https://colab.research.google.com/github/gcorani/bda/blob/main/1_ProbProgramming_proportion.ipynb\" target=\"_parent\"><img src=\"https://colab.research.google.com/assets/colab-badge.svg\" alt=\"Open In Colab\"/></a>"
      ]
    },
    {
      "cell_type": "code",
      "metadata": {
        "id": "f0c171e6"
      },
      "source": [
        "%matplotlib inline\n",
        "import pymc as pm\n",
        "import numpy as np\n",
        "import scipy.stats as stats\n",
        "import pandas as pd\n",
        "import matplotlib.pyplot as plt\n",
        "import arviz as az\n",
        "from IPython.display import display, Markdown\n",
        "az.style.use('arviz-darkgrid')\n",
        "np.random.seed(44)\n",
        "import seaborn as sns"
      ],
      "id": "f0c171e6",
      "execution_count": 35,
      "outputs": []
    },
    {
      "cell_type": "code",
      "metadata": {
        "id": "0bd2c533"
      },
      "source": [
        "plt.rcParams['font.size'] = 15\n",
        "plt.rcParams['legend.fontsize'] = 'medium'\n",
        "plt.rcParams.update({\n",
        "    \"figure.figsize\": [12.0, 5.0],\n",
        "    'figure.facecolor': '#fffff8',\n",
        "    'axes.facecolor': '#fffff8',\n",
        "    'figure.constrained_layout.use': True,\n",
        "    'font.size': 14.0,\n",
        "    'hist.bins': 'auto',\n",
        "    'lines.linewidth': 3.0,\n",
        "    'lines.markeredgewidth': 2.0,\n",
        "    'lines.markerfacecolor': 'none',\n",
        "    'lines.markersize': 8.0,\n",
        "})\n",
        "sns.set(rc={'figure.figsize':(7,3)})"
      ],
      "id": "0bd2c533",
      "execution_count": 36,
      "outputs": []
    },
    {
      "cell_type": "markdown",
      "metadata": {
        "id": "09790d1a"
      },
      "source": [
        "Giorgio Corani <br/>\n",
        "*Bayesian Data Analysis and Probabilistic programming*\n",
        "<br/>\n",
        "<br/>\n",
        "``giorgio.corani@supsi.ch``\n",
        "\n",
        "\n",
        "\n",
        "\n",
        "\n",
        "# Probabilistic programming\n",
        "\n",
        "\n",
        "* If prior and likelihood are not conjugate  the posterior is  untractable, in which case it has to be numerically sampled. Designing an appropriate sampling algorithm requires much expertise.\n",
        "\n",
        "\n",
        "* Languages for *probabilistic programming* address this problem.\n",
        "\n",
        "\n",
        "* They describe a probabilistic model in  few lines and  compute the posterior of the parameters (*inference*) automatically.\n",
        "\n",
        "# Probabilistic programming languages\n",
        "\n",
        "\n",
        "* We  use PyMC, a package for probabilistic programming under Python.\n",
        "\n",
        "* We will  also the arviz package, which provides functions to analyze the posterior.\n",
        "    \n",
        "\n",
        "* Another  language for probabilistic programming is [Stan](https://mc-stan.org/).  This can be used to implement a custom model, or via the R packages ( [brms](https://cran.r-project.org/web/packages/brms/index.html) and  [rstanarm](https://mc-stan.org/rstanarm/))  which provide some pre-implemented models.\n",
        "\n",
        "# Estimating the bias $\\theta$ of the coin\n",
        "\n",
        "\n",
        "* We start by generating   data with a known $\\theta$ so that we can check the accuracy of our estimate.\n"
      ],
      "id": "09790d1a"
    },
    {
      "cell_type": "code",
      "metadata": {
        "colab": {
          "base_uri": "https://localhost:8080/"
        },
        "id": "50a6962b",
        "outputId": "e59598a5-ac8f-4235-e94e-6fb3ba2564b0"
      },
      "source": [
        "#Generating the data\n",
        "np.random.seed(123)\n",
        "n_draws = 100\n",
        "theta_real = .35\n",
        "\n",
        "#we generate the data (rvs stands for random-variates)\n",
        "data = stats.bernoulli.rvs(p=theta_real, size=n_draws)\n",
        "\n",
        "# the data are  a vector of 0 and 1; with this seed they contain 30 successes.\n",
        "print(data)\n",
        "print(sum(data))"
      ],
      "id": "50a6962b",
      "execution_count": 37,
      "outputs": [
        {
          "output_type": "stream",
          "name": "stdout",
          "text": [
            "[1 0 0 0 1 0 1 1 0 0 0 1 0 0 0 1 0 0 0 0 0 1 1 0 1 0 0 0 0 0 0 0 0 0 0 0 0\n",
            " 1 1 0 0 0 0 0 1 0 0 1 0 0 0 1 0 0 0 0 0 1 1 0 1 0 0 1 1 0 1 0 0 0 0 1 0 1\n",
            " 0 0 0 0 0 1 0 1 0 0 1 1 0 0 0 0 1 1 0 1 0 1 0 0 0 0]\n",
            "30\n"
          ]
        }
      ]
    },
    {
      "cell_type": "markdown",
      "metadata": {
        "id": "676a8c14"
      },
      "source": [
        "# The beta-binomial model\n",
        "\n",
        "* We consider  a flat prior for $\\theta$:  Beta(1,1).\n",
        "\n",
        "* $y$ is the number of observed heads while $n$ is the number of draws.\n",
        "\n",
        "* The likelihood is binomial:\n",
        "    * $\\operatorname{Bin}(y, p, n)$ is the probability of observing $y$ successes in $n$ independent trials, each with probability $p$.\n",
        "\n",
        "\\begin{align}\n",
        "\\theta &\\sim \\operatorname{Beta}(\\alpha=1, \\beta=1)\\\\\n",
        "y &\\sim \\operatorname{Bin}(n=n_{\\text{draws}}\n",
        ", p=\\theta)\n",
        "\\end{align}\n"
      ],
      "id": "676a8c14"
    },
    {
      "cell_type": "code",
      "metadata": {
        "id": "53921921"
      },
      "source": [
        "# Beta-binomial model in Pymc\n",
        "beta_binomial_model = pm.Model()\n",
        "\n",
        "# The lines within the \"with\" statement refer to the same model\n",
        "with beta_binomial_model:\n",
        "    #The first argument is  a string specifying the name of the random variable, which should\n",
        "    #match the name of the Python variable.\n",
        "\n",
        "    #Uniform prior, i.e., Beta(1,1)\n",
        "    theta = pm.Beta('theta', alpha=1, beta=1)\n",
        "\n",
        "    #Likelihood, characterized by the keyword  `observed`.\n",
        "    #  (y successes within n_draws experiments)\n",
        "    y = pm.Binomial('y',n=n_draws, p=theta, observed=sum(data))"
      ],
      "id": "53921921",
      "execution_count": 38,
      "outputs": []
    },
    {
      "cell_type": "code",
      "metadata": {
        "colab": {
          "base_uri": "https://localhost:8080/",
          "height": 133,
          "referenced_widgets": [
            "c9b04fc880914f9388604c752d296aa6",
            "4170a3ef150f4dac873fd9c8ab0ae270"
          ]
        },
        "id": "131ddcfb",
        "outputId": "492833eb-6cea-44e6-f43d-667103c98c00"
      },
      "source": [
        "with beta_binomial_model:\n",
        "    trace = pm.sample()"
      ],
      "id": "131ddcfb",
      "execution_count": 39,
      "outputs": [
        {
          "output_type": "display_data",
          "data": {
            "text/plain": [
              "Output()"
            ],
            "application/vnd.jupyter.widget-view+json": {
              "version_major": 2,
              "version_minor": 0,
              "model_id": "c9b04fc880914f9388604c752d296aa6"
            }
          },
          "metadata": {}
        },
        {
          "output_type": "display_data",
          "data": {
            "text/plain": [],
            "text/html": [
              "<pre style=\"white-space:pre;overflow-x:auto;line-height:normal;font-family:Menlo,'DejaVu Sans Mono',consolas,'Courier New',monospace\"></pre>\n"
            ]
          },
          "metadata": {}
        }
      ]
    },
    {
      "cell_type": "markdown",
      "metadata": {
        "id": "32e21b4f"
      },
      "source": [
        "# Inference\n",
        "\n",
        "\n",
        "*  Sampling from the posterior  is called *inference*.\n",
        "\n",
        "\n",
        "* We make  inference about the parameters, i.e., the unobserved variables to which we assigned a prior.\n",
        "\n",
        "\n",
        "* In this case we make inference about $\\theta$.\n",
        "\n",
        "## Plotting the posterior with Arviz\n",
        "\n",
        "* ArviZ is a Python package which analyzes the PyMC\n",
        "   trace.\n",
        "\n",
        "\n",
        "* We evaluate  the sampled posterior through ArviZ's `plot_trace` function.\n",
        "\n",
        "\n",
        "* The `trace` contains  the sampled values of the unobserved variables, called *parameters*. In this case,  $\\theta$ is the only parameter.\n"
      ],
      "id": "32e21b4f"
    },
    {
      "cell_type": "code",
      "metadata": {
        "colab": {
          "base_uri": "https://localhost:8080/",
          "height": 248
        },
        "id": "cb7626a7",
        "outputId": "0361d70b-76e3-49f6-e7b4-dbef8496a13a"
      },
      "source": [
        "# We get two plots for theta:\n",
        "# - on the  left a density plot (KDE, Kernel Density Estimation). The different lines refer to different MCMC chains run in parallel.\n",
        "# - on the right the trace (the values sampled at each step). Also here the trace of different chains is shown (light blue vs dark blue)\n",
        "\n",
        "# We can also see  the chains mix well  and that the density plot are smooth and overlap.\n",
        "\n",
        "# plot_trace is designed to diagnose the posterior, and check if the sampling went well.\n",
        "# It allows visually checking the quality of the sampling:\n",
        "#do the different chains providing a similar histogram?\n",
        "# does the chain behave almost as white noise?\n",
        "\n",
        "\n",
        "import arviz as az\n",
        "az.plot_trace(trace);"
      ],
      "id": "cb7626a7",
      "execution_count": 40,
      "outputs": [
        {
          "output_type": "display_data",
          "data": {
            "text/plain": [
              "<Figure size 1200x200 with 2 Axes>"
            ],
            "image/png": "[encoded data removed]"
          },
          "metadata": {}
        }
      ]
    },
    {
      "cell_type": "code",
      "metadata": {
        "colab": {
          "base_uri": "https://localhost:8080/",
          "height": 348
        },
        "id": "2f0fb979",
        "outputId": "ef9b4318-c8e2-47ca-993e-f381bcf5a48b"
      },
      "source": [
        "# the plot_posterior function shows the posterior point estimate and HDI\n",
        "# samples from different chains are merged\n",
        "# the sample posterior mean is practically identical to the actual posterior mean,\n",
        "# computed using the beta-binomial model, i.e., (1 + 30)/ (1 + 30 + 70 +1) = 0.303.\n",
        "# The true theta which generates the data  is 0.35, which is well within the HDI.\n",
        "# In general the HDI is more meaningful than a point estimate.\n",
        "az.plot_posterior(trace);"
      ],
      "id": "2f0fb979",
      "execution_count": 41,
      "outputs": [
        {
          "output_type": "display_data",
          "data": {
            "text/plain": [
              "<Figure size 700x300 with 1 Axes>"
            ],
            "image/png": "[encoded data removed]"
          },
          "metadata": {}
        }
      ]
    },
    {
      "cell_type": "markdown",
      "source": [
        "# HDI - high density interval\n",
        "\n",
        "* The HDI is the shortest interval that contains a given portion of\n",
        "probability.\n",
        "\n",
        "* The level of probability (*coverage*) is $(1-\\alpha)$,  often set ot 95%.\n",
        "\n",
        "* By default, arviz shows the 94% HDI. (to show  that there is nothing special about 95%)\n",
        "\n",
        "\n",
        "# HDI of symmetric distributions\n",
        "\n",
        "* The HDI of symmetric distributions is symmetric: its bounds are the quantiles $\\alpha/2$ and $1-\\alpha/2$.\n",
        "\n"
      ],
      "metadata": {
        "id": "xzRqSEelslcm"
      },
      "id": "xzRqSEelslcm"
    },
    {
      "cell_type": "code",
      "source": [
        "HTML('<iframe src=\"https://drive.google.com/file/d/1QcREQCHFDaV8y158sdRvFPI-rvh0DB_E/preview\" width=\"600\" height=\"400\"></iframe>')"
      ],
      "metadata": {
        "colab": {
          "base_uri": "https://localhost:8080/",
          "height": 158
        },
        "outputId": "1ce715f6-4fd9-44a3-f455-8b0bb4a504fa",
        "id": "7ufISHD6aKuC"
      },
      "execution_count": 42,
      "outputs": [
        {
          "output_type": "error",
          "ename": "NameError",
          "evalue": "name 'HTML' is not defined",
          "traceback": [
            "\u001b[0;31m---------------------------------------------------------------------------\u001b[0m",
            "\u001b[0;31mNameError\u001b[0m                                 Traceback (most recent call last)",
            "\u001b[0;32m/tmp/ipython-input-2969854770.py\u001b[0m in \u001b[0;36m<cell line: 0>\u001b[0;34m()\u001b[0m\n\u001b[0;32m----> 1\u001b[0;31m \u001b[0mHTML\u001b[0m\u001b[0;34m(\u001b[0m\u001b[0;34m'<iframe src=\"https://drive.google.com/file/d/1QcREQCHFDaV8y158sdRvFPI-rvh0DB_E/preview\" width=\"600\" height=\"400\"></iframe>'\u001b[0m\u001b[0;34m)\u001b[0m\u001b[0;34m\u001b[0m\u001b[0;34m\u001b[0m\u001b[0m\n\u001b[0m",
            "\u001b[0;31mNameError\u001b[0m: name 'HTML' is not defined"
          ]
        }
      ],
      "id": "7ufISHD6aKuC"
    },
    {
      "cell_type": "markdown",
      "source": [
        "# HDI of asymmetric distributions\n",
        "\n",
        "* For asymmetric distribution, the HDI is asymmetric.\n",
        "\n",
        "* It is defined such that the density at any point within the HDI is higher density than at any point outside the HDI\n"
      ],
      "metadata": {
        "id": "9sR4mF768YP_"
      },
      "id": "9sR4mF768YP_"
    },
    {
      "cell_type": "code",
      "source": [
        "HTML('<iframe src=\"https://drive.google.com/file/d/1iGuN57ibWrC7ysyVC7JdV7mELG7N90uX/preview\" width=\"600\" height=\"400\"></iframe>')"
      ],
      "metadata": {
        "id": "LXQZZR1l8LJH"
      },
      "id": "LXQZZR1l8LJH",
      "execution_count": null,
      "outputs": []
    },
    {
      "cell_type": "markdown",
      "metadata": {
        "id": "c8e82ae4"
      },
      "source": [
        "# Diagnosing  the chains\n",
        "\n",
        "<div style=\"text-align: center;\">\n",
        " <img src='https://drive.google.com/uc?export=view&id=1y_s_C9-9QN0dpc02k-iRi1nECLo3HyKu' width='500'>\n",
        "</div>\n",
        "\n",
        "* The values in the chain must be *representative* of the posterior distribution.\n",
        "* They should not be  influenced by the arbitrary initial value of the chain.\n",
        " > This figure and the following ones are from Krushke (Chap 7.5)\n",
        "\n",
        "# Diagnosing  the chains\n",
        "<div style=\"text-align: center;\">\n",
        " <img src='https://drive.google.com/uc?export=view&id=1y_s_C9-9QN0dpc02k-iRi1nECLo3HyKu' width='500'>\n",
        "</div>\n",
        "\n",
        "* It takes a few hundred steps for the three chains to converge to the same region of the parameter\n",
        "\n",
        "\n",
        "* The first several hundred steps (*burn-in*) of the chain should be discarded as they are not representative.\n",
        "\n",
        "# Removing the burn-in period\n",
        "<div style=\"text-align: center;\">\n",
        " <img src='https://drive.google.com/uc?export=view&id=1U83Tj01xcq6n8ZVMzHa6K300yW1-zofx' width='500'>\n",
        "</div>\n",
        "\n",
        "* PyMC3 automatically removes the burn-in period.\n",
        "* Once removed the burn-in period,   the three chains meander  smoothly and overlap each other (*good mixing*).\n",
        "* The trace should look like white noise.\n",
        "\n",
        "\n",
        "# Checking the  density plots\n",
        "\n",
        "\n",
        "<div style=\"text-align: center;\">\n",
        " <img src='https://drive.google.com/uc?export=view&id=1gWH8_KExq4QseOweXIiD518yxUhuyab5' width='500'>\n",
        "</div>\n",
        "\n",
        "* We compute a density plot on the samples from each chain.\n",
        "\n",
        "* The density plots of the three chains do not overlap  well during the burn-in period: the chains have not converged.\n",
        "\n",
        "# Density plots which overlap well\n",
        "\n",
        "\n",
        "<div style=\"text-align: center;\">\n",
        " <img src='https://drive.google.com/uc?export=view&id=11aW2LOzVe2DtgckXSQy0LbpHCt6z5zDY' width='500'>\n",
        "</div>\n",
        "\n",
        "* This suggests that the chains contain representative values from the posterior distribution.\n",
        "* The HDI limits are slightly different for each chain because each chain is a finite random sample.\n",
        "\n",
        "# Poor mixing\n",
        "\n",
        "<div style=\"text-align: center;\">\n",
        " <img src='https://drive.google.com/uc?export=view&id=1Ph9cD1g0tzOi1s1i9F9K9UYkS_QB-onA' width='500'>\n",
        "</div>\n",
        "\n",
        "* The blue chain got stuck: it is a horizontal line for long number of samples.\n",
        "* This is a problem: the sampler is only accepting  proposals in the very close neighborhood.\n",
        "* It is thus sampling very slowly;  in  finite samples this prevents sampling the entire posterior,  biasing  the results.\n",
        "\n",
        "# Effective sample size (ESS)\n",
        "\n",
        "* The chains might be auto-correlated, i.e.,  the value samples at the current iteration is similar to the value sampled in the previous iteration.\n",
        "\n",
        "* How much independent information is in the chains ?\n",
        "\n",
        "* What would be the sample size of a completely non-autocorrelated chain that yielded the same information?\n",
        "\n",
        "* The ESS estimates how many independent draws contain the same amount of information as the dependent sample obtained by MCMC sampling.\n",
        "\n",
        "* In general, aim at ESS > 400.\n",
        "\n",
        "# ESS with high auto-correlation\n",
        "\n",
        "<div style=\"text-align: center;\">\n",
        " <img src='https://drive.google.com/uc?export=view&id=1GoFuPdH4qBvgqAmdSbfSrnByaNwDc8MI' width='1000'>\n",
        "</div>\n",
        "\n",
        "# ESS with low auto-correlation\n",
        "\n",
        "<div style=\"text-align: center;\">\n",
        " <img src='https://drive.google.com/uc?export=view&id=16K2nHG_lP-H6Trjiiy83QYZ4bER4dRCe' width='800'>\n",
        "</div>\n",
        "\n",
        "# Effective sample size (ESS)\n",
        "\n",
        "*  The effective sample size divides the actual sample size by the amount of autocorrelation in the chain.\n",
        "\n",
        "\\begin{align}\n",
        "\\text{ESS}= \\frac{N}{(1 + 2\\sum_{k=1}^{k=\\infty} ACF(k))}\n",
        "\\end{align}\n",
        "\n",
        "where\n",
        "$$\n",
        "ACF(k)  = \\operatorname{Cor}(\\theta_t, \\theta_{t+k})\n",
        "$$\n",
        "\n",
        "# Bulk and Tail Effective Sample Size\n",
        "\n",
        "* The *Bulk Effective Sample Size* (ess_bulk) is a useful measure for sampling efficiency in the bulk of the distribution (related e.g. to efficiency of mean and median estimates).\n",
        "\n",
        "* The *Tail Effective Sample Size* (ess_tail) estimates  the effective sample sizes for 5% and 95% quantiles; it is thus a useful measure of sampling efficiency in the tails of the distribution\n",
        "\n",
        "* Both  should be at least  (approximately) 400,  in order to have be reliable  estimates of the related posterior quantiles.\n",
        "\n",
        "# A further diagnostic: Rhat\n",
        "\n",
        "* If the chains have converged,  they should be very similar to one another; if not, one or more of the chains has failed to converge.\n",
        "\n",
        "* Rhat thus compares the variance between chains with the variance within chains.  Ideally, Rhat = 1.\n",
        "\n",
        "* It is ok if Rhat < 1.1; higher values signal a lack of convergence.\n",
        "\n",
        "<div style=\"text-align: center;\">\n",
        " <img src='https://drive.google.com/uc?export=view&id=1qmDIEG2B7uCVTMWjUbPRVaBGeeLP586U' width='800' height='500'>\n",
        "</div>\n",
        "\n",
        "\n",
        "# Summarizing the posterior\n",
        "\n",
        "The `az.summary` function show different information about  $\\theta$:\n",
        "\n",
        "\n",
        "* the mean, the standard deviation and the  HDI (whose desired coverage can be set via 'hdi_prob')\n",
        "\n",
        "\n",
        "* the effective number of samples for bulk and tail\n",
        "\n",
        "\n",
        "* Rhat\n"
      ],
      "id": "c8e82ae4"
    },
    {
      "cell_type": "code",
      "metadata": {
        "id": "8affa8f5"
      },
      "source": [
        "# The az.summary function reports both the estimates and the diagnostics\n",
        "# The posterior  is well sampled:  rhat is 1,  both ess are high.\n",
        "az.summary(trace, hdi_prob=0.95)"
      ],
      "id": "8affa8f5",
      "execution_count": null,
      "outputs": []
    },
    {
      "cell_type": "markdown",
      "metadata": {
        "id": "1b7b92e3"
      },
      "source": [
        "# Your turn\n",
        "\n",
        "* Replace the beta distribution with a uniform one in the interval [0,1] and compare the results.\n",
        "\n",
        "\n",
        "* Replace the beta distribution with a uniform one in the interval [0, 0.2] and compare the results.\n",
        "\n",
        "Link to the documentation of the Uniform distributon in pymc: https://www.pymc.io/projects/docs/en/stable/api/distributions/generated/pymc.Uniform.html\n",
        "\n",
        "  \n",
        "\n",
        "# Reporting the posterior\n",
        "\n",
        "The `plot_posterior` function provides a visual summary of the posterior:\n",
        "\n",
        "*  the density plot\n",
        "\n",
        "\n",
        "* the mean of the distribution (we can have  the median or mode using the `point_estimate` argument; with asymmetric distribustions, the mode is more meaningful.)\n",
        "\n",
        "\n",
        "* the 95% HDI, whose coverage can be set the `alpha` argument.\n"
      ],
      "id": "1b7b92e3"
    },
    {
      "cell_type": "code",
      "metadata": {
        "id": "7f399214"
      },
      "source": [
        "az.plot_posterior (trace, hdi_prob = 0.95);"
      ],
      "id": "7f399214",
      "execution_count": null,
      "outputs": []
    },
    {
      "cell_type": "markdown",
      "metadata": {
        "id": "a8e424e8"
      },
      "source": [
        "## Decisions based on posterior\n",
        "\n",
        "* Assume  we have to decide whether or not the coin is biased, i.e., if it lands heads with probability different from 0.5.\n",
        "\n",
        "\n",
        "\n",
        "* We thus check whether the reference value 0.5 is within  the HDI interval.\n",
        "\n",
        "\n",
        "\n",
        "* The 95% HDI does not contain 0.5 and it rules out  the hypothesis of the coin being unbiased. The plausible values of $\\theta$ are roughly between 0.22 and 0.39.\n"
      ],
      "id": "a8e424e8"
    },
    {
      "cell_type": "code",
      "metadata": {
        "id": "383cc66c"
      },
      "source": [
        "# the specific reference value (0.5) in this case rejected as it does not belong to the HDI.\n",
        "az.plot_posterior(trace, ref_val=0.5);"
      ],
      "id": "383cc66c",
      "execution_count": null,
      "outputs": []
    },
    {
      "cell_type": "markdown",
      "metadata": {
        "id": "eabe74d5"
      },
      "source": [
        "# Region of Practical Equivalence (ROPE)\n",
        "\n",
        "* The probability of  *exactly*  $\\theta$=0.5 is zero, since $\\theta$ is a continous variables (we integrate the pdf over an interval in order to obtain a probability).\n",
        "\n",
        "\n",
        "*  Generally we do not need such sharp assesments; rather,  we need  the probability of $\\theta$ being in a small interval around 0.5, which means that the coin is  *practically* unbiased.\n",
        "\n",
        "\n",
        "* Such interval is the   _region of practical equivalence_  (ROPE).\n",
        "\n",
        "# ROPE\n",
        "\n",
        "> A ROPE is an arbitrary interval that is determined using prior and relevant knowledge about a topic. Any value within this range is considered equivalent.\n",
        "\n",
        "\n",
        "\n",
        "\n",
        "* For instance we might  consider that   $\\theta$  between 0.49 and 0.51 is a   *practically* unbiased coin.\n",
        "\n",
        "\n",
        "# Making decision with the ROPE\n",
        "\n",
        "Let us assume to ROPE to be the interval  [0.49, 0.51]\n",
        "\n",
        "\n",
        "* The hypothesis of practical equivalence  is  *rejected*  if the  ROPE contains low probability (e.g., < 5%), as in the following example.\n"
      ],
      "id": "eabe74d5"
    },
    {
      "cell_type": "code",
      "metadata": {
        "id": "62f36a81"
      },
      "source": [
        "# We show both the 95% HDI and the rope.\n",
        "#We reject the hypothesis of the coin being practically unbiased.\n",
        "\n",
        "az.plot_posterior (trace, rope = [0.49, 0.51]);"
      ],
      "id": "62f36a81",
      "execution_count": null,
      "outputs": []
    },
    {
      "cell_type": "markdown",
      "metadata": {
        "id": "f130ed15"
      },
      "source": [
        "# Making decision with the ROPE\n",
        "\n",
        "\n",
        "## Verifiying the hypothesis of practical equivalence\n",
        "\n",
        "* Set a significance level $\\alpha$; typically, $\\alpha$ =0.05.\n",
        "\n",
        "* A  hypothesis of practical equivalence is  *accepted* if the parameter is contained within the ROPE  with  probability $> 1-\\alpha$ (e.g., >95%).\n",
        "\n",
        "* A  hypothesis of practical equivalence is  *rejected* if the parameter is contained within the ROPE  with  probability $< \\alpha$ (e.g., <5%).\n",
        "\n",
        "\n",
        "* Otherwise, we  cannot reach a strong conclusion, and we might collect furher data. Anyway, the posterior probability of the parameter beloning to the ROPE or lying outside the ROPE is often already helpful for making decisions.\n",
        "\n",
        "\n",
        "\n",
        "# Your turn: compare classifiers\n",
        "\n",
        "* In a certain classification problem, a baseline classifier has accuracy 90%.\n",
        "\n",
        "\n",
        "* It only makes sense putting in operation a novel classifier if it improves the accuracy of at least 2 points. Hence algorithms with accuracy lower than 92% are not interesting.\n",
        "\n",
        "\n",
        "* In  a preliminary test, the novel classifier correctly predicts 48 instances out of 50.\n",
        "\n",
        "\n",
        "* Which is your conclusion?\n",
        "    *  Hint: computer  the probability of improving accuracy by more than 2 points compared to the current classifier.\n",
        "\n",
        "\n",
        "* Repeat the analysis for the case in which the novel classifier has correctly prediction 95 instances out of 100.\n",
        "\n",
        "# Solutions\n",
        "\n",
        "# Solution:  beta-binomial model with uniform prior\n"
      ],
      "id": "f130ed15"
    },
    {
      "cell_type": "code",
      "metadata": {
        "colab": {
          "base_uri": "https://localhost:8080/",
          "height": 133,
          "referenced_widgets": [
            "fa9a346ddba94dd7a9991163cad927d1",
            "879fcf6cb1454b1eacedb8a8450733df"
          ]
        },
        "id": "bcaf12a2",
        "outputId": "9eef967b-48c8-48cb-eb41-b63e8314bdee"
      },
      "source": [
        "# Beta-binomial model with uniform prior in 0,1\n",
        "unif_range01_model = pm.Model()\n",
        "\n",
        "\n",
        "with unif_range01_model:\n",
        "    #Uniform prior an on open interval\n",
        "    theta = pm.Uniform('theta', lower= 0.001, upper= 0.999)\n",
        "    y = pm.Binomial('y',n=n_draws, p=theta, observed=sum(data))\n",
        "    unif_trace = pm.sample()"
      ],
      "id": "bcaf12a2",
      "execution_count": 43,
      "outputs": [
        {
          "output_type": "display_data",
          "data": {
            "text/plain": [
              "Output()"
            ],
            "application/vnd.jupyter.widget-view+json": {
              "version_major": 2,
              "version_minor": 0,
              "model_id": "fa9a346ddba94dd7a9991163cad927d1"
            }
          },
          "metadata": {}
        },
        {
          "output_type": "display_data",
          "data": {
            "text/plain": [],
            "text/html": [
              "<pre style=\"white-space:pre;overflow-x:auto;line-height:normal;font-family:Menlo,'DejaVu Sans Mono',consolas,'Courier New',monospace\"></pre>\n"
            ]
          },
          "metadata": {}
        }
      ]
    },
    {
      "cell_type": "code",
      "metadata": {
        "colab": {
          "base_uri": "https://localhost:8080/",
          "height": 100
        },
        "id": "b4bd2a63",
        "outputId": "e7cc0a51-1d67-4471-d406-9ab66e9dac79"
      },
      "source": [
        "# equivalent to the result obtained with the beta prior; any small difference is due to sampling uncertainty\n",
        "az.summary(unif_trace)"
      ],
      "id": "b4bd2a63",
      "execution_count": 45,
      "outputs": [
        {
          "output_type": "execute_result",
          "data": {
            "text/plain": [
              "        mean     sd  hdi_3%  hdi_97%  mcse_mean  mcse_sd  ess_bulk  ess_tail  \\\n",
              "theta  0.305  0.048   0.214    0.388      0.002    0.001     802.0    1378.0   \n",
              "\n",
              "       r_hat  \n",
              "theta    1.0  "
            ],
            "text/html": [
              "\n",
              "  <div id=\"df-8f25ee1a-98ec-4a06-a577-597f2a45fd51\" class=\"colab-df-container\">\n",
              "    <div>\n",
              "<style scoped>\n",
              "    .dataframe tbody tr th:only-of-type {\n",
              "        vertical-align: middle;\n",
              "    }\n",
              "\n",
              "    .dataframe tbody tr th {\n",
              "        vertical-align: top;\n",
              "    }\n",
              "\n",
              "    .dataframe thead th {\n",
              "        text-align: right;\n",
              "    }\n",
              "</style>\n",
              "<table border=\"1\" class=\"dataframe\">\n",
              "  <thead>\n",
              "    <tr style=\"text-align: right;\">\n",
              "      <th></th>\n",
              "      <th>mean</th>\n",
              "      <th>sd</th>\n",
              "      <th>hdi_3%</th>\n",
              "      <th>hdi_97%</th>\n",
              "      <th>mcse_mean</th>\n",
              "      <th>mcse_sd</th>\n",
              "      <th>ess_bulk</th>\n",
              "      <th>ess_tail</th>\n",
              "      <th>r_hat</th>\n",
              "    </tr>\n",
              "  </thead>\n",
              "  <tbody>\n",
              "    <tr>\n",
              "      <th>theta</th>\n",
              "      <td>0.305</td>\n",
              "      <td>0.048</td>\n",
              "      <td>0.214</td>\n",
              "      <td>0.388</td>\n",
              "      <td>0.002</td>\n",
              "      <td>0.001</td>\n",
              "      <td>802.0</td>\n",
              "      <td>1378.0</td>\n",
              "      <td>1.0</td>\n",
              "    </tr>\n",
              "  </tbody>\n",
              "</table>\n",
              "</div>\n",
              "    <div class=\"colab-df-buttons\">\n",
              "\n",
              "  <div class=\"colab-df-container\">\n",
              "    <button class=\"colab-df-convert\" onclick=\"convertToInteractive('df-8f25ee1a-98ec-4a06-a577-597f2a45fd51')\"\n",
              "            title=\"Convert this dataframe to an interactive table.\"\n",
              "            style=\"display:none;\">\n",
              "\n",
              "  <svg xmlns=\"http://www.w3.org/2000/svg\" height=\"24px\" viewBox=\"0 -960 960 960\">\n",
              "    <path d=\"M120-120v-720h720v720H120Zm60-500h600v-160H180v160Zm220 220h160v-160H400v160Zm0 220h160v-160H400v160ZM180-400h160v-160H180v160Zm440 0h160v-160H620v160ZM180-180h160v-160H180v160Zm440 0h160v-160H620v160Z\"/>\n",
              "  </svg>\n",
              "    </button>\n",
              "\n",
              "  <style>\n",
              "    .colab-df-container {\n",
              "      display:flex;\n",
              "      gap: 12px;\n",
              "    }\n",
              "\n",
              "    .colab-df-convert {\n",
              "      background-color: #E8F0FE;\n",
              "      border: none;\n",
              "      border-radius: 50%;\n",
              "      cursor: pointer;\n",
              "      display: none;\n",
              "      fill: #1967D2;\n",
              "      height: 32px;\n",
              "      padding: 0 0 0 0;\n",
              "      width: 32px;\n",
              "    }\n",
              "\n",
              "    .colab-df-convert:hover {\n",
              "      background-color: #E2EBFA;\n",
              "      box-shadow: 0px 1px 2px rgba(60, 64, 67, 0.3), 0px 1px 3px 1px rgba(60, 64, 67, 0.15);\n",
              "      fill: #174EA6;\n",
              "    }\n",
              "\n",
              "    .colab-df-buttons div {\n",
              "      margin-bottom: 4px;\n",
              "    }\n",
              "\n",
              "    [theme=dark] .colab-df-convert {\n",
              "      background-color: #3B4455;\n",
              "      fill: #D2E3FC;\n",
              "    }\n",
              "\n",
              "    [theme=dark] .colab-df-convert:hover {\n",
              "      background-color: #434B5C;\n",
              "      box-shadow: 0px 1px 3px 1px rgba(0, 0, 0, 0.15);\n",
              "      filter: drop-shadow(0px 1px 2px rgba(0, 0, 0, 0.3));\n",
              "      fill: #FFFFFF;\n",
              "    }\n",
              "  </style>\n",
              "\n",
              "    <script>\n",
              "      const buttonEl =\n",
              "        document.querySelector('#df-8f25ee1a-98ec-4a06-a577-597f2a45fd51 button.colab-df-convert');\n",
              "      buttonEl.style.display =\n",
              "        google.colab.kernel.accessAllowed ? 'block' : 'none';\n",
              "\n",
              "      async function convertToInteractive(key) {\n",
              "        const element = document.querySelector('#df-8f25ee1a-98ec-4a06-a577-597f2a45fd51');\n",
              "        const dataTable =\n",
              "          await google.colab.kernel.invokeFunction('convertToInteractive',\n",
              "                                                    [key], {});\n",
              "        if (!dataTable) return;\n",
              "\n",
              "        const docLinkHtml = 'Like what you see? Visit the ' +\n",
              "          '<a target=\"_blank\" href=https://colab.research.google.com/notebooks/data_table.ipynb>data table notebook</a>'\n",
              "          + ' to learn more about interactive tables.';\n",
              "        element.innerHTML = '';\n",
              "        dataTable['output_type'] = 'display_data';\n",
              "        await google.colab.output.renderOutput(dataTable, element);\n",
              "        const docLink = document.createElement('div');\n",
              "        docLink.innerHTML = docLinkHtml;\n",
              "        element.appendChild(docLink);\n",
              "      }\n",
              "    </script>\n",
              "  </div>\n",
              "\n",
              "\n",
              "    </div>\n",
              "  </div>\n"
            ],
            "application/vnd.google.colaboratory.intrinsic+json": {
              "type": "dataframe",
              "summary": "{\n  \"name\": \"az\",\n  \"rows\": 1,\n  \"fields\": [\n    {\n      \"column\": \"mean\",\n      \"properties\": {\n        \"dtype\": \"number\",\n        \"std\": null,\n        \"min\": 0.305,\n        \"max\": 0.305,\n        \"num_unique_values\": 1,\n        \"samples\": [\n          0.305\n        ],\n        \"semantic_type\": \"\",\n        \"description\": \"\"\n      }\n    },\n    {\n      \"column\": \"sd\",\n      \"properties\": {\n        \"dtype\": \"number\",\n        \"std\": null,\n        \"min\": 0.048,\n        \"max\": 0.048,\n        \"num_unique_values\": 1,\n        \"samples\": [\n          0.048\n        ],\n        \"semantic_type\": \"\",\n        \"description\": \"\"\n      }\n    },\n    {\n      \"column\": \"hdi_3%\",\n      \"properties\": {\n        \"dtype\": \"number\",\n        \"std\": null,\n        \"min\": 0.214,\n        \"max\": 0.214,\n        \"num_unique_values\": 1,\n        \"samples\": [\n          0.214\n        ],\n        \"semantic_type\": \"\",\n        \"description\": \"\"\n      }\n    },\n    {\n      \"column\": \"hdi_97%\",\n      \"properties\": {\n        \"dtype\": \"number\",\n        \"std\": null,\n        \"min\": 0.388,\n        \"max\": 0.388,\n        \"num_unique_values\": 1,\n        \"samples\": [\n          0.388\n        ],\n        \"semantic_type\": \"\",\n        \"description\": \"\"\n      }\n    },\n    {\n      \"column\": \"mcse_mean\",\n      \"properties\": {\n        \"dtype\": \"number\",\n        \"std\": null,\n        \"min\": 0.002,\n        \"max\": 0.002,\n        \"num_unique_values\": 1,\n        \"samples\": [\n          0.002\n        ],\n        \"semantic_type\": \"\",\n        \"description\": \"\"\n      }\n    },\n    {\n      \"column\": \"mcse_sd\",\n      \"properties\": {\n        \"dtype\": \"number\",\n        \"std\": null,\n        \"min\": 0.001,\n        \"max\": 0.001,\n        \"num_unique_values\": 1,\n        \"samples\": [\n          0.001\n        ],\n        \"semantic_type\": \"\",\n        \"description\": \"\"\n      }\n    },\n    {\n      \"column\": \"ess_bulk\",\n      \"properties\": {\n        \"dtype\": \"number\",\n        \"std\": null,\n        \"min\": 802.0,\n        \"max\": 802.0,\n        \"num_unique_values\": 1,\n        \"samples\": [\n          802.0\n        ],\n        \"semantic_type\": \"\",\n        \"description\": \"\"\n      }\n    },\n    {\n      \"column\": \"ess_tail\",\n      \"properties\": {\n        \"dtype\": \"number\",\n        \"std\": null,\n        \"min\": 1378.0,\n        \"max\": 1378.0,\n        \"num_unique_values\": 1,\n        \"samples\": [\n          1378.0\n        ],\n        \"semantic_type\": \"\",\n        \"description\": \"\"\n      }\n    },\n    {\n      \"column\": \"r_hat\",\n      \"properties\": {\n        \"dtype\": \"number\",\n        \"std\": null,\n        \"min\": 1.0,\n        \"max\": 1.0,\n        \"num_unique_values\": 1,\n        \"samples\": [\n          1.0\n        ],\n        \"semantic_type\": \"\",\n        \"description\": \"\"\n      }\n    }\n  ]\n}"
            }
          },
          "metadata": {},
          "execution_count": 45
        }
      ]
    },
    {
      "cell_type": "markdown",
      "metadata": {
        "id": "6e7c9a8a"
      },
      "source": [
        "# Solution:  beta-binomial model with truncated prior\n"
      ],
      "id": "6e7c9a8a"
    },
    {
      "cell_type": "code",
      "metadata": {
        "colab": {
          "base_uri": "https://localhost:8080/",
          "height": 133,
          "referenced_widgets": [
            "5794427d97914b2c8840a6a6a361232c",
            "079e8e8390a1404aa5b5893aeca8247e"
          ]
        },
        "id": "e757256e",
        "outputId": "00f305ed-bf76-45a9-e9c0-b1c924b13567"
      },
      "source": [
        "# Beta-binomial model with uniform prior in 0, 0.2\n",
        "unif_0_02_model = pm.Model()\n",
        "\n",
        "with unif_0_02_model:\n",
        "    theta = pm.Uniform('theta', lower= 0.001, upper= 0.02)\n",
        "    y = pm.Binomial('y',n=n_draws, p=theta, observed=sum(data))\n",
        "    trace_0_02 = pm.sample()"
      ],
      "id": "e757256e",
      "execution_count": 44,
      "outputs": [
        {
          "output_type": "display_data",
          "data": {
            "text/plain": [
              "Output()"
            ],
            "application/vnd.jupyter.widget-view+json": {
              "version_major": 2,
              "version_minor": 0,
              "model_id": "5794427d97914b2c8840a6a6a361232c"
            }
          },
          "metadata": {}
        },
        {
          "output_type": "display_data",
          "data": {
            "text/plain": [],
            "text/html": [
              "<pre style=\"white-space:pre;overflow-x:auto;line-height:normal;font-family:Menlo,'DejaVu Sans Mono',consolas,'Courier New',monospace\"></pre>\n"
            ]
          },
          "metadata": {}
        }
      ]
    },
    {
      "cell_type": "code",
      "metadata": {
        "colab": {
          "base_uri": "https://localhost:8080/",
          "height": 100
        },
        "id": "43aa5795",
        "outputId": "fc01b5a6-0c25-4b84-e583-4d13c5167bb8"
      },
      "source": [
        "#in this case we have the posterior truncated in 0.02, due to a wrong choice of the prior\n",
        "az.summary(trace_0_02)"
      ],
      "id": "43aa5795",
      "execution_count": 46,
      "outputs": [
        {
          "output_type": "execute_result",
          "data": {
            "text/plain": [
              "        mean     sd  hdi_3%  hdi_97%  mcse_mean  mcse_sd  ess_bulk  ess_tail  \\\n",
              "theta  0.019  0.001   0.018     0.02        0.0      0.0     676.0     791.0   \n",
              "\n",
              "       r_hat  \n",
              "theta    1.0  "
            ],
            "text/html": [
              "\n",
              "  <div id=\"df-4ef83cfb-9c27-4b16-926c-74e5c7fdc832\" class=\"colab-df-container\">\n",
              "    <div>\n",
              "<style scoped>\n",
              "    .dataframe tbody tr th:only-of-type {\n",
              "        vertical-align: middle;\n",
              "    }\n",
              "\n",
              "    .dataframe tbody tr th {\n",
              "        vertical-align: top;\n",
              "    }\n",
              "\n",
              "    .dataframe thead th {\n",
              "        text-align: right;\n",
              "    }\n",
              "</style>\n",
              "<table border=\"1\" class=\"dataframe\">\n",
              "  <thead>\n",
              "    <tr style=\"text-align: right;\">\n",
              "      <th></th>\n",
              "      <th>mean</th>\n",
              "      <th>sd</th>\n",
              "      <th>hdi_3%</th>\n",
              "      <th>hdi_97%</th>\n",
              "      <th>mcse_mean</th>\n",
              "      <th>mcse_sd</th>\n",
              "      <th>ess_bulk</th>\n",
              "      <th>ess_tail</th>\n",
              "      <th>r_hat</th>\n",
              "    </tr>\n",
              "  </thead>\n",
              "  <tbody>\n",
              "    <tr>\n",
              "      <th>theta</th>\n",
              "      <td>0.019</td>\n",
              "      <td>0.001</td>\n",
              "      <td>0.018</td>\n",
              "      <td>0.02</td>\n",
              "      <td>0.0</td>\n",
              "      <td>0.0</td>\n",
              "      <td>676.0</td>\n",
              "      <td>791.0</td>\n",
              "      <td>1.0</td>\n",
              "    </tr>\n",
              "  </tbody>\n",
              "</table>\n",
              "</div>\n",
              "    <div class=\"colab-df-buttons\">\n",
              "\n",
              "  <div class=\"colab-df-container\">\n",
              "    <button class=\"colab-df-convert\" onclick=\"convertToInteractive('df-4ef83cfb-9c27-4b16-926c-74e5c7fdc832')\"\n",
              "            title=\"Convert this dataframe to an interactive table.\"\n",
              "            style=\"display:none;\">\n",
              "\n",
              "  <svg xmlns=\"http://www.w3.org/2000/svg\" height=\"24px\" viewBox=\"0 -960 960 960\">\n",
              "    <path d=\"M120-120v-720h720v720H120Zm60-500h600v-160H180v160Zm220 220h160v-160H400v160Zm0 220h160v-160H400v160ZM180-400h160v-160H180v160Zm440 0h160v-160H620v160ZM180-180h160v-160H180v160Zm440 0h160v-160H620v160Z\"/>\n",
              "  </svg>\n",
              "    </button>\n",
              "\n",
              "  <style>\n",
              "    .colab-df-container {\n",
              "      display:flex;\n",
              "      gap: 12px;\n",
              "    }\n",
              "\n",
              "    .colab-df-convert {\n",
              "      background-color: #E8F0FE;\n",
              "      border: none;\n",
              "      border-radius: 50%;\n",
              "      cursor: pointer;\n",
              "      display: none;\n",
              "      fill: #1967D2;\n",
              "      height: 32px;\n",
              "      padding: 0 0 0 0;\n",
              "      width: 32px;\n",
              "    }\n",
              "\n",
              "    .colab-df-convert:hover {\n",
              "      background-color: #E2EBFA;\n",
              "      box-shadow: 0px 1px 2px rgba(60, 64, 67, 0.3), 0px 1px 3px 1px rgba(60, 64, 67, 0.15);\n",
              "      fill: #174EA6;\n",
              "    }\n",
              "\n",
              "    .colab-df-buttons div {\n",
              "      margin-bottom: 4px;\n",
              "    }\n",
              "\n",
              "    [theme=dark] .colab-df-convert {\n",
              "      background-color: #3B4455;\n",
              "      fill: #D2E3FC;\n",
              "    }\n",
              "\n",
              "    [theme=dark] .colab-df-convert:hover {\n",
              "      background-color: #434B5C;\n",
              "      box-shadow: 0px 1px 3px 1px rgba(0, 0, 0, 0.15);\n",
              "      filter: drop-shadow(0px 1px 2px rgba(0, 0, 0, 0.3));\n",
              "      fill: #FFFFFF;\n",
              "    }\n",
              "  </style>\n",
              "\n",
              "    <script>\n",
              "      const buttonEl =\n",
              "        document.querySelector('#df-4ef83cfb-9c27-4b16-926c-74e5c7fdc832 button.colab-df-convert');\n",
              "      buttonEl.style.display =\n",
              "        google.colab.kernel.accessAllowed ? 'block' : 'none';\n",
              "\n",
              "      async function convertToInteractive(key) {\n",
              "        const element = document.querySelector('#df-4ef83cfb-9c27-4b16-926c-74e5c7fdc832');\n",
              "        const dataTable =\n",
              "          await google.colab.kernel.invokeFunction('convertToInteractive',\n",
              "                                                    [key], {});\n",
              "        if (!dataTable) return;\n",
              "\n",
              "        const docLinkHtml = 'Like what you see? Visit the ' +\n",
              "          '<a target=\"_blank\" href=https://colab.research.google.com/notebooks/data_table.ipynb>data table notebook</a>'\n",
              "          + ' to learn more about interactive tables.';\n",
              "        element.innerHTML = '';\n",
              "        dataTable['output_type'] = 'display_data';\n",
              "        await google.colab.output.renderOutput(dataTable, element);\n",
              "        const docLink = document.createElement('div');\n",
              "        docLink.innerHTML = docLinkHtml;\n",
              "        element.appendChild(docLink);\n",
              "      }\n",
              "    </script>\n",
              "  </div>\n",
              "\n",
              "\n",
              "    </div>\n",
              "  </div>\n"
            ],
            "application/vnd.google.colaboratory.intrinsic+json": {
              "type": "dataframe",
              "summary": "{\n  \"name\": \"az\",\n  \"rows\": 1,\n  \"fields\": [\n    {\n      \"column\": \"mean\",\n      \"properties\": {\n        \"dtype\": \"number\",\n        \"std\": null,\n        \"min\": 0.019,\n        \"max\": 0.019,\n        \"num_unique_values\": 1,\n        \"samples\": [\n          0.019\n        ],\n        \"semantic_type\": \"\",\n        \"description\": \"\"\n      }\n    },\n    {\n      \"column\": \"sd\",\n      \"properties\": {\n        \"dtype\": \"number\",\n        \"std\": null,\n        \"min\": 0.001,\n        \"max\": 0.001,\n        \"num_unique_values\": 1,\n        \"samples\": [\n          0.001\n        ],\n        \"semantic_type\": \"\",\n        \"description\": \"\"\n      }\n    },\n    {\n      \"column\": \"hdi_3%\",\n      \"properties\": {\n        \"dtype\": \"number\",\n        \"std\": null,\n        \"min\": 0.018,\n        \"max\": 0.018,\n        \"num_unique_values\": 1,\n        \"samples\": [\n          0.018\n        ],\n        \"semantic_type\": \"\",\n        \"description\": \"\"\n      }\n    },\n    {\n      \"column\": \"hdi_97%\",\n      \"properties\": {\n        \"dtype\": \"number\",\n        \"std\": null,\n        \"min\": 0.02,\n        \"max\": 0.02,\n        \"num_unique_values\": 1,\n        \"samples\": [\n          0.02\n        ],\n        \"semantic_type\": \"\",\n        \"description\": \"\"\n      }\n    },\n    {\n      \"column\": \"mcse_mean\",\n      \"properties\": {\n        \"dtype\": \"number\",\n        \"std\": null,\n        \"min\": 0.0,\n        \"max\": 0.0,\n        \"num_unique_values\": 1,\n        \"samples\": [\n          0.0\n        ],\n        \"semantic_type\": \"\",\n        \"description\": \"\"\n      }\n    },\n    {\n      \"column\": \"mcse_sd\",\n      \"properties\": {\n        \"dtype\": \"number\",\n        \"std\": null,\n        \"min\": 0.0,\n        \"max\": 0.0,\n        \"num_unique_values\": 1,\n        \"samples\": [\n          0.0\n        ],\n        \"semantic_type\": \"\",\n        \"description\": \"\"\n      }\n    },\n    {\n      \"column\": \"ess_bulk\",\n      \"properties\": {\n        \"dtype\": \"number\",\n        \"std\": null,\n        \"min\": 676.0,\n        \"max\": 676.0,\n        \"num_unique_values\": 1,\n        \"samples\": [\n          676.0\n        ],\n        \"semantic_type\": \"\",\n        \"description\": \"\"\n      }\n    },\n    {\n      \"column\": \"ess_tail\",\n      \"properties\": {\n        \"dtype\": \"number\",\n        \"std\": null,\n        \"min\": 791.0,\n        \"max\": 791.0,\n        \"num_unique_values\": 1,\n        \"samples\": [\n          791.0\n        ],\n        \"semantic_type\": \"\",\n        \"description\": \"\"\n      }\n    },\n    {\n      \"column\": \"r_hat\",\n      \"properties\": {\n        \"dtype\": \"number\",\n        \"std\": null,\n        \"min\": 1.0,\n        \"max\": 1.0,\n        \"num_unique_values\": 1,\n        \"samples\": [\n          1.0\n        ],\n        \"semantic_type\": \"\",\n        \"description\": \"\"\n      }\n    }\n  ]\n}"
            }
          },
          "metadata": {},
          "execution_count": 46
        }
      ]
    },
    {
      "cell_type": "code",
      "source": [
        "az.plot_posterior(trace_0_02)"
      ],
      "metadata": {
        "id": "6HPhVejXMdmu"
      },
      "id": "6HPhVejXMdmu",
      "execution_count": null,
      "outputs": []
    },
    {
      "cell_type": "markdown",
      "metadata": {
        "id": "c63db075"
      },
      "source": [
        "# Solution: assess the accuracy of the new classifier\n"
      ],
      "id": "c63db075"
    },
    {
      "cell_type": "code",
      "metadata": {
        "scrolled": true,
        "colab": {
          "base_uri": "https://localhost:8080/",
          "height": 133,
          "referenced_widgets": [
            "3792700efb094f96a6cd450c548f61eb",
            "059e59c972e0413bb5f0ba06bb9d11f9"
          ]
        },
        "id": "9121dd4d",
        "outputId": "e3c12819-45fa-496d-ba68-572a438850bb"
      },
      "source": [
        "# Here we use a non-informative Beta(1,1) prior\n",
        "experiments = 50\n",
        "n_correct = 48\n",
        "\n",
        "# The lines within the \"with\" statement refer to the same model\n",
        "with pm.Model() as beta_binomial_classifier:\n",
        "    #Uniform prior, i.e., Beta(1,1). This prior might serve as a baseline, but it is not realistic.. we know that\n",
        "    #the accuracy of the novel classifier will be around 0.9, +- something\n",
        "    theta = pm.Beta('theta', alpha=1, beta=1)\n",
        "    y = pm.Binomial('y',n=experiments, p=theta, observed=n_correct) # likelihood (y successes within n_draws experiments)\n",
        "    trace_classifier = pm.sample(return_inferencedata=True)\n"
      ],
      "id": "9121dd4d",
      "execution_count": 47,
      "outputs": [
        {
          "output_type": "display_data",
          "data": {
            "text/plain": [
              "Output()"
            ],
            "application/vnd.jupyter.widget-view+json": {
              "version_major": 2,
              "version_minor": 0,
              "model_id": "3792700efb094f96a6cd450c548f61eb"
            }
          },
          "metadata": {}
        },
        {
          "output_type": "display_data",
          "data": {
            "text/plain": [],
            "text/html": [
              "<pre style=\"white-space:pre;overflow-x:auto;line-height:normal;font-family:Menlo,'DejaVu Sans Mono',consolas,'Courier New',monospace\"></pre>\n"
            ]
          },
          "metadata": {}
        }
      ]
    },
    {
      "cell_type": "code",
      "metadata": {
        "colab": {
          "base_uri": "https://localhost:8080/",
          "height": 348
        },
        "id": "b48dbb1d",
        "outputId": "5486c7a7-eb9d-489a-cb8f-4e4c8a7371ad"
      },
      "source": [
        "# there is about 78% probability that the novel classifier constitutes an actual improvement\n",
        "# 11% probability of being practically equivalent to the old one\n",
        "az.plot_posterior(trace_classifier, rope=[0.90,0.92], ref_val=0.92 );"
      ],
      "id": "b48dbb1d",
      "execution_count": 48,
      "outputs": [
        {
          "output_type": "display_data",
          "data": {
            "text/plain": [
              "<Figure size 700x300 with 1 Axes>"
            ],
            "image/png": "[encoded data removed]"
          },
          "metadata": {}
        }
      ]
    },
    {
      "cell_type": "code",
      "metadata": {
        "colab": {
          "base_uri": "https://localhost:8080/"
        },
        "id": "dbd2dc94",
        "outputId": "d980652b-4e89-41a6-d323-5f3648f374e8"
      },
      "source": [
        "#We can use a more sensible prior. We can expect the performance of our classifier to be about 90%.\n",
        "#To tune the prior, we check the 95% HDI  obtained under different choices of a and b.\n",
        "from scipy.stats import beta\n",
        "\n",
        "for (a,b) in [(9,1), (18,2), (27,3)]:\n",
        "    current_var = stats.beta(a=a, b=b)\n",
        "    interval = current_var.interval(0.95)\n",
        "    print(\"a,b,interval:\",a,b, np. round ( interval, 2))\n",
        "\n",
        "# first and second interval seems to wide, thirs  is more sensible. Though probably we could restrict a bit more."
      ],
      "id": "dbd2dc94",
      "execution_count": 50,
      "outputs": [
        {
          "output_type": "stream",
          "name": "stdout",
          "text": [
            "a,b,interval: 9 1 [0.66 1.  ]\n",
            "a,b,interval: 18 2 [0.74 0.99]\n",
            "a,b,interval: 27 3 [0.77 0.98]\n"
          ]
        }
      ]
    },
    {
      "cell_type": "code",
      "metadata": {
        "colab": {
          "base_uri": "https://localhost:8080/",
          "height": 444,
          "referenced_widgets": [
            "922a53185b0b4c88a331c6641846e482",
            "221151b48fa048a7bdab0eb041d77cb5"
          ]
        },
        "id": "5a53e64c",
        "outputId": "fb637ef9-857c-438e-dfe6-efa54cb0408a"
      },
      "source": [
        "# we now set the prior as beta(18,2)\n",
        "with pm.Model() as beta_binomial_prior2:\n",
        "    theta = pm.Beta('theta', alpha=27, beta=3)\n",
        "    y = pm.Binomial('y',n=experiments, p=theta, observed=n_correct) # likelihood (y successes within n_draws experiments)\n",
        "    trace_classifier = pm.sample(return_inferencedata=True)\n",
        "    az.plot_posterior(trace_classifier, rope=[0.90,0.92], ref_val=0.92);"
      ],
      "id": "5a53e64c",
      "execution_count": 51,
      "outputs": [
        {
          "output_type": "display_data",
          "data": {
            "text/plain": [
              "Output()"
            ],
            "application/vnd.jupyter.widget-view+json": {
              "version_major": 2,
              "version_minor": 0,
              "model_id": "922a53185b0b4c88a331c6641846e482"
            }
          },
          "metadata": {}
        },
        {
          "output_type": "display_data",
          "data": {
            "text/plain": [],
            "text/html": [
              "<pre style=\"white-space:pre;overflow-x:auto;line-height:normal;font-family:Menlo,'DejaVu Sans Mono',consolas,'Courier New',monospace\"></pre>\n"
            ]
          },
          "metadata": {}
        },
        {
          "output_type": "display_data",
          "data": {
            "text/plain": [
              "<Figure size 700x300 with 1 Axes>"
            ],
            "image/png": "[encoded data removed]"
          },
          "metadata": {}
        }
      ]
    },
    {
      "cell_type": "code",
      "metadata": {
        "id": "0d7b23db"
      },
      "source": [
        "#With 77.6% probability  novel classifier is  significantly better than the current one.\n",
        "#With 13.8% probability  the novel classifier improves over the old one, but the improvement is not practically significant.\n",
        "#This is good evidence for the novel classifier, but it might be worth collecting even more data.\n",
        "az.plot_posterior(trace_classifier, rope=[0.90,0.92], ref_val=0.92);"
      ],
      "id": "0d7b23db",
      "execution_count": null,
      "outputs": []
    }
  ],
  "metadata": {
    "kernelspec": {
      "name": "python3",
      "language": "python",
      "display_name": "Python 3 (ipykernel)"
    },
    "colab": {
      "provenance": [],
      "include_colab_link": true
    },
    "widgets": {
      "application/vnd.jupyter.widget-state+json": {
        "c9b04fc880914f9388604c752d296aa6": {
          "model_module": "@jupyter-widgets/output",
          "model_name": "OutputModel",
          "model_module_version": "1.0.0",
          "state": {
            "_dom_classes": [],
            "_model_module": "@jupyter-widgets/output",
            "_model_module_version": "1.0.0",
            "_model_name": "OutputModel",
            "_view_count": null,
            "_view_module": "@jupyter-widgets/output",
            "_view_module_version": "1.0.0",
            "_view_name": "OutputView",
            "layout": "IPY_MODEL_4170a3ef150f4dac873fd9c8ab0ae270",
            "msg_id": "",
            "outputs": [
              {
                "output_type": "display_data",
                "data": {
                  "text/plain": "                                                                                                                   \n \u001b[1m \u001b[0m\u001b[1mProgress                \u001b[0m\u001b[1m \u001b[0m \u001b[1m \u001b[0m\u001b[1mDraws\u001b[0m\u001b[1m \u001b[0m \u001b[1m \u001b[0m\u001b[1mDivergences\u001b[0m\u001b[1m \u001b[0m \u001b[1m \u001b[0m\u001b[1mStep size\u001b[0m\u001b[1m \u001b[0m \u001b[1m \u001b[0m\u001b[1mGrad evals\u001b[0m\u001b[1m \u001b[0m \u001b[1m \u001b[0m\u001b[1mSampling Speed \u001b[0m\u001b[1m \u001b[0m \u001b[1m \u001b[0m\u001b[1mElapsed\u001b[0m\u001b[1m \u001b[0m \u001b[1m \u001b[0m\u001b[1mRemaining\u001b[0m\u001b[1m \u001b[0m \n ───────────────────────────────────────────────────────────────────────────────────────────────────────────────── \n  \u001b[38;2;31;119;180m━━━━━━━━━━━━━━━━━━━━━━━━\u001b[0m   2000    0             1.578       1            2730.39 draws/s   0:00:00   0:00:00    \n  \u001b[38;2;31;119;180m━━━━━━━━━━━━━━━━━━━━━━━━\u001b[0m   2000    0             1.506       1            1339.85 draws/s   0:00:01   0:00:00    \n                                                                                                                   \n",
                  "text/html": "<pre style=\"white-space:pre;overflow-x:auto;line-height:normal;font-family:Menlo,'DejaVu Sans Mono',consolas,'Courier New',monospace\">                                                                                                                   \n <span style=\"font-weight: bold\"> Progress                 </span> <span style=\"font-weight: bold\"> Draws </span> <span style=\"font-weight: bold\"> Divergences </span> <span style=\"font-weight: bold\"> Step size </span> <span style=\"font-weight: bold\"> Grad evals </span> <span style=\"font-weight: bold\"> Sampling Speed  </span> <span style=\"font-weight: bold\"> Elapsed </span> <span style=\"font-weight: bold\"> Remaining </span> \n ───────────────────────────────────────────────────────────────────────────────────────────────────────────────── \n  <span style=\"color: #1f77b4; text-decoration-color: #1f77b4\">━━━━━━━━━━━━━━━━━━━━━━━━</span>   2000    0             1.578       1            2730.39 draws/s   0:00:00   0:00:00    \n  <span style=\"color: #1f77b4; text-decoration-color: #1f77b4\">━━━━━━━━━━━━━━━━━━━━━━━━</span>   2000    0             1.506       1            1339.85 draws/s   0:00:01   0:00:00    \n                                                                                                                   \n</pre>\n"
                },
                "metadata": {}
              }
            ]
          }
        },
        "4170a3ef150f4dac873fd9c8ab0ae270": {
          "model_module": "@jupyter-widgets/base",
          "model_name": "LayoutModel",
          "model_module_version": "1.2.0",
          "state": {
            "_model_module": "@jupyter-widgets/base",
            "_model_module_version": "1.2.0",
            "_model_name": "LayoutModel",
            "_view_count": null,
            "_view_module": "@jupyter-widgets/base",
            "_view_module_version": "1.2.0",
            "_view_name": "LayoutView",
            "align_content": null,
            "align_items": null,
            "align_self": null,
            "border": null,
            "bottom": null,
            "display": null,
            "flex": null,
            "flex_flow": null,
            "grid_area": null,
            "grid_auto_columns": null,
            "grid_auto_flow": null,
            "grid_auto_rows": null,
            "grid_column": null,
            "grid_gap": null,
            "grid_row": null,
            "grid_template_areas": null,
            "grid_template_columns": null,
            "grid_template_rows": null,
            "height": null,
            "justify_content": null,
            "justify_items": null,
            "left": null,
            "margin": null,
            "max_height": null,
            "max_width": null,
            "min_height": null,
            "min_width": null,
            "object_fit": null,
            "object_position": null,
            "order": null,
            "overflow": null,
            "overflow_x": null,
            "overflow_y": null,
            "padding": null,
            "right": null,
            "top": null,
            "visibility": null,
            "width": null
          }
        },
        "fa9a346ddba94dd7a9991163cad927d1": {
          "model_module": "@jupyter-widgets/output",
          "model_name": "OutputModel",
          "model_module_version": "1.0.0",
          "state": {
            "_dom_classes": [],
            "_model_module": "@jupyter-widgets/output",
            "_model_module_version": "1.0.0",
            "_model_name": "OutputModel",
            "_view_count": null,
            "_view_module": "@jupyter-widgets/output",
            "_view_module_version": "1.0.0",
            "_view_name": "OutputView",
            "layout": "IPY_MODEL_879fcf6cb1454b1eacedb8a8450733df",
            "msg_id": "",
            "outputs": [
              {
                "output_type": "display_data",
                "data": {
                  "text/plain": "                                                                                                                   \n \u001b[1m \u001b[0m\u001b[1mProgress                \u001b[0m\u001b[1m \u001b[0m \u001b[1m \u001b[0m\u001b[1mDraws\u001b[0m\u001b[1m \u001b[0m \u001b[1m \u001b[0m\u001b[1mDivergences\u001b[0m\u001b[1m \u001b[0m \u001b[1m \u001b[0m\u001b[1mStep size\u001b[0m\u001b[1m \u001b[0m \u001b[1m \u001b[0m\u001b[1mGrad evals\u001b[0m\u001b[1m \u001b[0m \u001b[1m \u001b[0m\u001b[1mSampling Speed \u001b[0m\u001b[1m \u001b[0m \u001b[1m \u001b[0m\u001b[1mElapsed\u001b[0m\u001b[1m \u001b[0m \u001b[1m \u001b[0m\u001b[1mRemaining\u001b[0m\u001b[1m \u001b[0m \n ───────────────────────────────────────────────────────────────────────────────────────────────────────────────── \n  \u001b[38;2;31;119;180m━━━━━━━━━━━━━━━━━━━━━━━━\u001b[0m   2000    0             1.836       3            2072.13 draws/s   0:00:00   0:00:00    \n  \u001b[38;2;31;119;180m━━━━━━━━━━━━━━━━━━━━━━━━\u001b[0m   2000    0             1.586       3            1203.44 draws/s   0:00:01   0:00:00    \n                                                                                                                   \n",
                  "text/html": "<pre style=\"white-space:pre;overflow-x:auto;line-height:normal;font-family:Menlo,'DejaVu Sans Mono',consolas,'Courier New',monospace\">                                                                                                                   \n <span style=\"font-weight: bold\"> Progress                 </span> <span style=\"font-weight: bold\"> Draws </span> <span style=\"font-weight: bold\"> Divergences </span> <span style=\"font-weight: bold\"> Step size </span> <span style=\"font-weight: bold\"> Grad evals </span> <span style=\"font-weight: bold\"> Sampling Speed  </span> <span style=\"font-weight: bold\"> Elapsed </span> <span style=\"font-weight: bold\"> Remaining </span> \n ───────────────────────────────────────────────────────────────────────────────────────────────────────────────── \n  <span style=\"color: #1f77b4; text-decoration-color: #1f77b4\">━━━━━━━━━━━━━━━━━━━━━━━━</span>   2000    0             1.836       3            2072.13 draws/s   0:00:00   0:00:00    \n  <span style=\"color: #1f77b4; text-decoration-color: #1f77b4\">━━━━━━━━━━━━━━━━━━━━━━━━</span>   2000    0             1.586       3            1203.44 draws/s   0:00:01   0:00:00    \n                                                                                                                   \n</pre>\n"
                },
                "metadata": {}
              }
            ]
          }
        },
        "879fcf6cb1454b1eacedb8a8450733df": {
          "model_module": "@jupyter-widgets/base",
          "model_name": "LayoutModel",
          "model_module_version": "1.2.0",
          "state": {
            "_model_module": "@jupyter-widgets/base",
            "_model_module_version": "1.2.0",
            "_model_name": "LayoutModel",
            "_view_count": null,
            "_view_module": "@jupyter-widgets/base",
            "_view_module_version": "1.2.0",
            "_view_name": "LayoutView",
            "align_content": null,
            "align_items": null,
            "align_self": null,
            "border": null,
            "bottom": null,
            "display": null,
            "flex": null,
            "flex_flow": null,
            "grid_area": null,
            "grid_auto_columns": null,
            "grid_auto_flow": null,
            "grid_auto_rows": null,
            "grid_column": null,
            "grid_gap": null,
            "grid_row": null,
            "grid_template_areas": null,
            "grid_template_columns": null,
            "grid_template_rows": null,
            "height": null,
            "justify_content": null,
            "justify_items": null,
            "left": null,
            "margin": null,
            "max_height": null,
            "max_width": null,
            "min_height": null,
            "min_width": null,
            "object_fit": null,
            "object_position": null,
            "order": null,
            "overflow": null,
            "overflow_x": null,
            "overflow_y": null,
            "padding": null,
            "right": null,
            "top": null,
            "visibility": null,
            "width": null
          }
        },
        "5794427d97914b2c8840a6a6a361232c": {
          "model_module": "@jupyter-widgets/output",
          "model_name": "OutputModel",
          "model_module_version": "1.0.0",
          "state": {
            "_dom_classes": [],
            "_model_module": "@jupyter-widgets/output",
            "_model_module_version": "1.0.0",
            "_model_name": "OutputModel",
            "_view_count": null,
            "_view_module": "@jupyter-widgets/output",
            "_view_module_version": "1.0.0",
            "_view_name": "OutputView",
            "layout": "IPY_MODEL_079e8e8390a1404aa5b5893aeca8247e",
            "msg_id": "",
            "outputs": [
              {
                "output_type": "display_data",
                "data": {
                  "text/plain": "                                                                                                                   \n \u001b[1m \u001b[0m\u001b[1mProgress                \u001b[0m\u001b[1m \u001b[0m \u001b[1m \u001b[0m\u001b[1mDraws\u001b[0m\u001b[1m \u001b[0m \u001b[1m \u001b[0m\u001b[1mDivergences\u001b[0m\u001b[1m \u001b[0m \u001b[1m \u001b[0m\u001b[1mStep size\u001b[0m\u001b[1m \u001b[0m \u001b[1m \u001b[0m\u001b[1mGrad evals\u001b[0m\u001b[1m \u001b[0m \u001b[1m \u001b[0m\u001b[1mSampling Speed \u001b[0m\u001b[1m \u001b[0m \u001b[1m \u001b[0m\u001b[1mElapsed\u001b[0m\u001b[1m \u001b[0m \u001b[1m \u001b[0m\u001b[1mRemaining\u001b[0m\u001b[1m \u001b[0m \n ───────────────────────────────────────────────────────────────────────────────────────────────────────────────── \n  \u001b[38;2;31;119;180m━━━━━━━━━━━━━━━━━━━━━━━━\u001b[0m   2000    0             0.887       3            2478.05 draws/s   0:00:00   0:00:00    \n  \u001b[38;2;31;119;180m━━━━━━━━━━━━━━━━━━━━━━━━\u001b[0m   2000    0             1.392       3            1223.14 draws/s   0:00:01   0:00:00    \n                                                                                                                   \n",
                  "text/html": "<pre style=\"white-space:pre;overflow-x:auto;line-height:normal;font-family:Menlo,'DejaVu Sans Mono',consolas,'Courier New',monospace\">                                                                                                                   \n <span style=\"font-weight: bold\"> Progress                 </span> <span style=\"font-weight: bold\"> Draws </span> <span style=\"font-weight: bold\"> Divergences </span> <span style=\"font-weight: bold\"> Step size </span> <span style=\"font-weight: bold\"> Grad evals </span> <span style=\"font-weight: bold\"> Sampling Speed  </span> <span style=\"font-weight: bold\"> Elapsed </span> <span style=\"font-weight: bold\"> Remaining </span> \n ───────────────────────────────────────────────────────────────────────────────────────────────────────────────── \n  <span style=\"color: #1f77b4; text-decoration-color: #1f77b4\">━━━━━━━━━━━━━━━━━━━━━━━━</span>   2000    0             0.887       3            2478.05 draws/s   0:00:00   0:00:00    \n  <span style=\"color: #1f77b4; text-decoration-color: #1f77b4\">━━━━━━━━━━━━━━━━━━━━━━━━</span>   2000    0             1.392       3            1223.14 draws/s   0:00:01   0:00:00    \n                                                                                                                   \n</pre>\n"
                },
                "metadata": {}
              }
            ]
          }
        },
        "079e8e8390a1404aa5b5893aeca8247e": {
          "model_module": "@jupyter-widgets/base",
          "model_name": "LayoutModel",
          "model_module_version": "1.2.0",
          "state": {
            "_model_module": "@jupyter-widgets/base",
            "_model_module_version": "1.2.0",
            "_model_name": "LayoutModel",
            "_view_count": null,
            "_view_module": "@jupyter-widgets/base",
            "_view_module_version": "1.2.0",
            "_view_name": "LayoutView",
            "align_content": null,
            "align_items": null,
            "align_self": null,
            "border": null,
            "bottom": null,
            "display": null,
            "flex": null,
            "flex_flow": null,
            "grid_area": null,
            "grid_auto_columns": null,
            "grid_auto_flow": null,
            "grid_auto_rows": null,
            "grid_column": null,
            "grid_gap": null,
            "grid_row": null,
            "grid_template_areas": null,
            "grid_template_columns": null,
            "grid_template_rows": null,
            "height": null,
            "justify_content": null,
            "justify_items": null,
            "left": null,
            "margin": null,
            "max_height": null,
            "max_width": null,
            "min_height": null,
            "min_width": null,
            "object_fit": null,
            "object_position": null,
            "order": null,
            "overflow": null,
            "overflow_x": null,
            "overflow_y": null,
            "padding": null,
            "right": null,
            "top": null,
            "visibility": null,
            "width": null
          }
        },
        "3792700efb094f96a6cd450c548f61eb": {
          "model_module": "@jupyter-widgets/output",
          "model_name": "OutputModel",
          "model_module_version": "1.0.0",
          "state": {
            "_dom_classes": [],
            "_model_module": "@jupyter-widgets/output",
            "_model_module_version": "1.0.0",
            "_model_name": "OutputModel",
            "_view_count": null,
            "_view_module": "@jupyter-widgets/output",
            "_view_module_version": "1.0.0",
            "_view_name": "OutputView",
            "layout": "IPY_MODEL_059e59c972e0413bb5f0ba06bb9d11f9",
            "msg_id": "",
            "outputs": [
              {
                "output_type": "display_data",
                "data": {
                  "text/plain": "                                                                                                                   \n \u001b[1m \u001b[0m\u001b[1mProgress                \u001b[0m\u001b[1m \u001b[0m \u001b[1m \u001b[0m\u001b[1mDraws\u001b[0m\u001b[1m \u001b[0m \u001b[1m \u001b[0m\u001b[1mDivergences\u001b[0m\u001b[1m \u001b[0m \u001b[1m \u001b[0m\u001b[1mStep size\u001b[0m\u001b[1m \u001b[0m \u001b[1m \u001b[0m\u001b[1mGrad evals\u001b[0m\u001b[1m \u001b[0m \u001b[1m \u001b[0m\u001b[1mSampling Speed \u001b[0m\u001b[1m \u001b[0m \u001b[1m \u001b[0m\u001b[1mElapsed\u001b[0m\u001b[1m \u001b[0m \u001b[1m \u001b[0m\u001b[1mRemaining\u001b[0m\u001b[1m \u001b[0m \n ───────────────────────────────────────────────────────────────────────────────────────────────────────────────── \n  \u001b[38;2;31;119;180m━━━━━━━━━━━━━━━━━━━━━━━━\u001b[0m   2000    0             1.598       3            1713.84 draws/s   0:00:01   0:00:00    \n  \u001b[38;2;31;119;180m━━━━━━━━━━━━━━━━━━━━━━━━\u001b[0m   2000    0             1.534       1            812.05 draws/s    0:00:02   0:00:00    \n                                                                                                                   \n",
                  "text/html": "<pre style=\"white-space:pre;overflow-x:auto;line-height:normal;font-family:Menlo,'DejaVu Sans Mono',consolas,'Courier New',monospace\">                                                                                                                   \n <span style=\"font-weight: bold\"> Progress                 </span> <span style=\"font-weight: bold\"> Draws </span> <span style=\"font-weight: bold\"> Divergences </span> <span style=\"font-weight: bold\"> Step size </span> <span style=\"font-weight: bold\"> Grad evals </span> <span style=\"font-weight: bold\"> Sampling Speed  </span> <span style=\"font-weight: bold\"> Elapsed </span> <span style=\"font-weight: bold\"> Remaining </span> \n ───────────────────────────────────────────────────────────────────────────────────────────────────────────────── \n  <span style=\"color: #1f77b4; text-decoration-color: #1f77b4\">━━━━━━━━━━━━━━━━━━━━━━━━</span>   2000    0             1.598       3            1713.84 draws/s   0:00:01   0:00:00    \n  <span style=\"color: #1f77b4; text-decoration-color: #1f77b4\">━━━━━━━━━━━━━━━━━━━━━━━━</span>   2000    0             1.534       1            812.05 draws/s    0:00:02   0:00:00    \n                                                                                                                   \n</pre>\n"
                },
                "metadata": {}
              }
            ]
          }
        },
        "059e59c972e0413bb5f0ba06bb9d11f9": {
          "model_module": "@jupyter-widgets/base",
          "model_name": "LayoutModel",
          "model_module_version": "1.2.0",
          "state": {
            "_model_module": "@jupyter-widgets/base",
            "_model_module_version": "1.2.0",
            "_model_name": "LayoutModel",
            "_view_count": null,
            "_view_module": "@jupyter-widgets/base",
            "_view_module_version": "1.2.0",
            "_view_name": "LayoutView",
            "align_content": null,
            "align_items": null,
            "align_self": null,
            "border": null,
            "bottom": null,
            "display": null,
            "flex": null,
            "flex_flow": null,
            "grid_area": null,
            "grid_auto_columns": null,
            "grid_auto_flow": null,
            "grid_auto_rows": null,
            "grid_column": null,
            "grid_gap": null,
            "grid_row": null,
            "grid_template_areas": null,
            "grid_template_columns": null,
            "grid_template_rows": null,
            "height": null,
            "justify_content": null,
            "justify_items": null,
            "left": null,
            "margin": null,
            "max_height": null,
            "max_width": null,
            "min_height": null,
            "min_width": null,
            "object_fit": null,
            "object_position": null,
            "order": null,
            "overflow": null,
            "overflow_x": null,
            "overflow_y": null,
            "padding": null,
            "right": null,
            "top": null,
            "visibility": null,
            "width": null
          }
        },
        "922a53185b0b4c88a331c6641846e482": {
          "model_module": "@jupyter-widgets/output",
          "model_name": "OutputModel",
          "model_module_version": "1.0.0",
          "state": {
            "_dom_classes": [],
            "_model_module": "@jupyter-widgets/output",
            "_model_module_version": "1.0.0",
            "_model_name": "OutputModel",
            "_view_count": null,
            "_view_module": "@jupyter-widgets/output",
            "_view_module_version": "1.0.0",
            "_view_name": "OutputView",
            "layout": "IPY_MODEL_221151b48fa048a7bdab0eb041d77cb5",
            "msg_id": "",
            "outputs": [
              {
                "output_type": "display_data",
                "data": {
                  "text/plain": "                                                                                                                   \n \u001b[1m \u001b[0m\u001b[1mProgress                \u001b[0m\u001b[1m \u001b[0m \u001b[1m \u001b[0m\u001b[1mDraws\u001b[0m\u001b[1m \u001b[0m \u001b[1m \u001b[0m\u001b[1mDivergences\u001b[0m\u001b[1m \u001b[0m \u001b[1m \u001b[0m\u001b[1mStep size\u001b[0m\u001b[1m \u001b[0m \u001b[1m \u001b[0m\u001b[1mGrad evals\u001b[0m\u001b[1m \u001b[0m \u001b[1m \u001b[0m\u001b[1mSampling Speed \u001b[0m\u001b[1m \u001b[0m \u001b[1m \u001b[0m\u001b[1mElapsed\u001b[0m\u001b[1m \u001b[0m \u001b[1m \u001b[0m\u001b[1mRemaining\u001b[0m\u001b[1m \u001b[0m \n ───────────────────────────────────────────────────────────────────────────────────────────────────────────────── \n  \u001b[38;2;31;119;180m━━━━━━━━━━━━━━━━━━━━━━━━\u001b[0m   2000    0             1.131       1            2619.55 draws/s   0:00:00   0:00:00    \n  \u001b[38;2;31;119;180m━━━━━━━━━━━━━━━━━━━━━━━━\u001b[0m   2000    0             1.004       1            1336.81 draws/s   0:00:01   0:00:00    \n                                                                                                                   \n",
                  "text/html": "<pre style=\"white-space:pre;overflow-x:auto;line-height:normal;font-family:Menlo,'DejaVu Sans Mono',consolas,'Courier New',monospace\">                                                                                                                   \n <span style=\"font-weight: bold\"> Progress                 </span> <span style=\"font-weight: bold\"> Draws </span> <span style=\"font-weight: bold\"> Divergences </span> <span style=\"font-weight: bold\"> Step size </span> <span style=\"font-weight: bold\"> Grad evals </span> <span style=\"font-weight: bold\"> Sampling Speed  </span> <span style=\"font-weight: bold\"> Elapsed </span> <span style=\"font-weight: bold\"> Remaining </span> \n ───────────────────────────────────────────────────────────────────────────────────────────────────────────────── \n  <span style=\"color: #1f77b4; text-decoration-color: #1f77b4\">━━━━━━━━━━━━━━━━━━━━━━━━</span>   2000    0             1.131       1            2619.55 draws/s   0:00:00   0:00:00    \n  <span style=\"color: #1f77b4; text-decoration-color: #1f77b4\">━━━━━━━━━━━━━━━━━━━━━━━━</span>   2000    0             1.004       1            1336.81 draws/s   0:00:01   0:00:00    \n                                                                                                                   \n</pre>\n"
                },
                "metadata": {}
              }
            ]
          }
        },
        "221151b48fa048a7bdab0eb041d77cb5": {
          "model_module": "@jupyter-widgets/base",
          "model_name": "LayoutModel",
          "model_module_version": "1.2.0",
          "state": {
            "_model_module": "@jupyter-widgets/base",
            "_model_module_version": "1.2.0",
            "_model_name": "LayoutModel",
            "_view_count": null,
            "_view_module": "@jupyter-widgets/base",
            "_view_module_version": "1.2.0",
            "_view_name": "LayoutView",
            "align_content": null,
            "align_items": null,
            "align_self": null,
            "border": null,
            "bottom": null,
            "display": null,
            "flex": null,
            "flex_flow": null,
            "grid_area": null,
            "grid_auto_columns": null,
            "grid_auto_flow": null,
            "grid_auto_rows": null,
            "grid_column": null,
            "grid_gap": null,
            "grid_row": null,
            "grid_template_areas": null,
            "grid_template_columns": null,
            "grid_template_rows": null,
            "height": null,
            "justify_content": null,
            "justify_items": null,
            "left": null,
            "margin": null,
            "max_height": null,
            "max_width": null,
            "min_height": null,
            "min_width": null,
            "object_fit": null,
            "object_position": null,
            "order": null,
            "overflow": null,
            "overflow_x": null,
            "overflow_y": null,
            "padding": null,
            "right": null,
            "top": null,
            "visibility": null,
            "width": null
          }
        }
      }
    }
  },
  "nbformat": 4,
  "nbformat_minor": 5
}